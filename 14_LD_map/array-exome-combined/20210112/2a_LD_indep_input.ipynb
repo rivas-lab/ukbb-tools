{
 "cells": [
  {
   "cell_type": "code",
   "execution_count": 1,
   "metadata": {},
   "outputs": [],
   "source": [
    "suppressWarnings(suppressPackageStartupMessages({\n",
    "    library(tidyverse)\n",
    "    library(data.table)\n",
    "}))\n"
   ]
  },
  {
   "cell_type": "markdown",
   "metadata": {},
   "source": [
    "# LD indep analysis for the array + exome combined dataset\n",
    "## Yosuke Tanigawa\n",
    "\n",
    "We will prepare an input file to run LD indep command\n",
    "\n",
    "We follow example analysis notebook here: https://github.com/rivas-lab/ukbb-tools/blob/master/17_annotation/20201012_array-combined/6a_LD_indep_input.ipynb"
   ]
  },
  {
   "cell_type": "code",
   "execution_count": 2,
   "metadata": {},
   "outputs": [],
   "source": [
    "source('0_parameters.sh')"
   ]
  },
  {
   "cell_type": "code",
   "execution_count": 3,
   "metadata": {},
   "outputs": [],
   "source": [
    "# filenames\n",
    "ukb_d <- '/scratch/groups/mrivas/ukbb24983'\n",
    "# input\n",
    "array_f <- file.path(ukb_d, 'array-combined/annotation/annotation_20201012/ukb24983_cal_hla_cnv.annot_compact_20201023.tsv.gz')\n",
    "exome_f <- file.path(ukb_d, 'exome/annotation/20201025_exome_oqfe_2020/ukb24983_exomeOQFE.annotation.20210108.compact.tsv.gz')\n",
    "pvar_f  <- file.path(ukb_d, 'array-exome-combined/pgen/ukb24983_cal_hla_cnv_exomeOQFE.pvar.gz')\n",
    "# output \n",
    "var_QC_f <- file.path(ldmap_d, 'ukb24983_cal_hla_cnv_exomeOQFE.input.variants.tsv')\n"
   ]
  },
  {
   "cell_type": "code",
   "execution_count": 4,
   "metadata": {},
   "outputs": [],
   "source": [
    "# read pvar file\n",
    "pvar_f %>%\n",
    "fread(colClasses = c('#CHROM'='character', 'ID'='character')) %>%\n",
    "rename('CHROM'='#CHROM') -> pvar_df\n"
   ]
  },
  {
   "cell_type": "code",
   "execution_count": 5,
   "metadata": {},
   "outputs": [],
   "source": [
    "bind_rows(\n",
    "    array_f %>%\n",
    "    fread(select=c('ID', 'Csq', 'ld_indep')) %>%\n",
    "    rename('ld_indep_array'='ld_indep'),\n",
    "    \n",
    "    exome_f %>%\n",
    "    fread(select=c('ID', 'Csq'))\n",
    "\n",
    ") -> annot_df\n"
   ]
  },
  {
   "cell_type": "code",
   "execution_count": 6,
   "metadata": {},
   "outputs": [],
   "source": [
    "pvar_df %>%\n",
    "left_join(annot_df, by='ID') %>%\n",
    "filter(FILTER == '.') %>%\n",
    "select(\n",
    "    CHROM, POS, ID, REF, ALT, FILTER, geno_data_source, ld_indep_array, Csq\n",
    ") -> merged_df\n"
   ]
  },
  {
   "cell_type": "code",
   "execution_count": 7,
   "metadata": {},
   "outputs": [
    {
     "name": "stdout",
     "output_type": "stream",
     "text": [
      "[1] 18134874        9\n"
     ]
    }
   ],
   "source": [
    "merged_df %>% dim() %>% print()\n"
   ]
  },
  {
   "cell_type": "code",
   "execution_count": 8,
   "metadata": {},
   "outputs": [],
   "source": [
    "merged_df %>%\n",
    "rename('#CHROM' = 'CHROM') %>%\n",
    "fwrite(var_QC_f, sep='\\t', na = \"NA\", quote=F)\n"
   ]
  },
  {
   "cell_type": "code",
   "execution_count": 9,
   "metadata": {},
   "outputs": [
    {
     "data": {
      "text/html": [
       "'/scratch/groups/mrivas/ukbb24983/array-exome-combined/ldmap/ldmap_20210112/ukb24983_cal_hla_cnv_exomeOQFE.input.variants.tsv'"
      ],
      "text/latex": [
       "'/scratch/groups/mrivas/ukbb24983/array-exome-combined/ldmap/ldmap\\_20210112/ukb24983\\_cal\\_hla\\_cnv\\_exomeOQFE.input.variants.tsv'"
      ],
      "text/markdown": [
       "'/scratch/groups/mrivas/ukbb24983/array-exome-combined/ldmap/ldmap_20210112/ukb24983_cal_hla_cnv_exomeOQFE.input.variants.tsv'"
      ],
      "text/plain": [
       "[1] \"/scratch/groups/mrivas/ukbb24983/array-exome-combined/ldmap/ldmap_20210112/ukb24983_cal_hla_cnv_exomeOQFE.input.variants.tsv\""
      ]
     },
     "metadata": {},
     "output_type": "display_data"
    }
   ],
   "source": [
    "var_QC_f"
   ]
  },
  {
   "cell_type": "code",
   "execution_count": null,
   "metadata": {},
   "outputs": [],
   "source": []
  }
 ],
 "metadata": {
  "kernelspec": {
   "display_name": "R",
   "language": "R",
   "name": "ir"
  },
  "language_info": {
   "codemirror_mode": "r",
   "file_extension": ".r",
   "mimetype": "text/x-r-source",
   "name": "R",
   "pygments_lexer": "r",
   "version": "3.6.2"
  }
 },
 "nbformat": 4,
 "nbformat_minor": 4
}
