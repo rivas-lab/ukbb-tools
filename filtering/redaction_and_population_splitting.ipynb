{
 "cells": [
  {
   "cell_type": "markdown",
   "metadata": {},
   "source": [
    "# Population stratification for Multi-ethnic group analysis\n",
    "\n",
    "#### Yosuke Tanigawa (ytanigaw@stanford.edu)\n",
    "#### 2017/11/13 (updated on 2018/5/12)\n",
    "\n",
    "\n",
    "### Multi-ethnic group analysis is based on PCA analysis conducted by Anna Shcherbina\n",
    "\n",
    "### This note aims to extend (and replace) what we've done in the previous analysis for European British population\n",
    "- https://github.com/rivas-lab/ukbb24983wiki/blob/master/genotype_data/sqc/ukb24983_remove_from_sqc_file.ipynb\n",
    "\n",
    "## objective\n",
    "\n",
    "- Create `phe` file that to subset individuals to the following non-European populations.\n",
    "  - African\n",
    "  - Sounth Asian\n",
    "  - East Asian\n",
    "  - European British\n",
    "    - We've defined exclusion file here:\n",
    "    - https://github.com/rivas-lab/ukbb24983wiki/blob/master/genotype_data/sqc/ukb24983_remove_from_sqc_file.ipynb\n",
    "\n",
    "- For African, South Asian, and East Asian populations, we will adopt the criteria from Anna\n",
    "\n",
    "## reducted individuals\n",
    "- The following files specify the list of individuals reducted from the study. We need to remove them. These files are notified from UKBB via email.\n",
    "    - `/oak/stanford/groups/mrivas/ukbb24983/phe_qc/w2498_20170726.phe`\n",
    "    - `/oak/stanford/groups/mrivas/ukbb24983/phe_qc/w24983_20180503.phe`\n",
    "- The results of this population stratification will be written to \n",
    "    - `/oak/stanford/groups/mrivas/ukbb24983/sqc/population_stratification_w24983_20180503_<name of the reduction file>`\n",
    "        - For example:\n",
    "            - `/oak/stanford/groups/mrivas/ukbb24983/sqc/population_stratification_w2498_20170726`\n",
    "            - `/oak/stanford/groups/mrivas/ukbb24983/sqc/population_stratification_w24983_20180503`\n",
    "    - We create a symbolic link to the most recent version of population definition\n",
    "        - `/oak/stanford/groups/mrivas/ukbb24983/sqc/population_stratification -> population_stratification_w24983_20180503`\n"
   ]
  },
  {
   "cell_type": "code",
   "execution_count": 1,
   "metadata": {
    "collapsed": true
   },
   "outputs": [],
   "source": [
    "import pandas as pd\n",
    "import os"
   ]
  },
  {
   "cell_type": "code",
   "execution_count": 13,
   "metadata": {},
   "outputs": [],
   "source": [
    "from functools import reduce"
   ]
  },
  {
   "cell_type": "markdown",
   "metadata": {},
   "source": [
    "# sqc file\n",
    "- Sample Quality Control file provided by consortia\n",
    "- We will use the following criteria to exclude individuals\n",
    "  1. used_in_pca_calculation == 0\n",
    "  1. het_missing_outliers == 1\n",
    "  1. excess_relatives == 1\n",
    "  1. putative_sex_chromosome_aneuploidy == 1"
   ]
  },
  {
   "cell_type": "code",
   "execution_count": 2,
   "metadata": {
    "collapsed": true
   },
   "outputs": [],
   "source": [
    "with open('/oak/stanford/groups/mrivas/ukbb24983/sqc/download/ukb_sqc_v2.fields.txt') as f:\n",
    "    sqc_columns = [x for x in f.read().splitlines() if len(x) > 0]"
   ]
  },
  {
   "cell_type": "code",
   "execution_count": 3,
   "metadata": {
    "collapsed": true
   },
   "outputs": [],
   "source": [
    "sqc = pd.read_csv(\n",
    "    '/oak/stanford/groups/mrivas/ukbb24983/sqc/download/ukb_sqc_v2.txt',\n",
    "    sep='\\s+', names = sqc_columns\n",
    ")"
   ]
  },
  {
   "cell_type": "code",
   "execution_count": 4,
   "metadata": {},
   "outputs": [
    {
     "data": {
      "text/plain": [
       "(488377, 89)"
      ]
     },
     "execution_count": 4,
     "metadata": {},
     "output_type": "execute_result"
    }
   ],
   "source": [
    "sqc.shape"
   ]
  },
  {
   "cell_type": "code",
   "execution_count": 5,
   "metadata": {},
   "outputs": [
    {
     "data": {
      "text/plain": [
       "Index(['affymetrix_field_1', 'affymetrix_field_2', 'genotyping_array', 'Batch',\n",
       "       'Plate_Name', 'Well', 'Cluster_CR', 'dQC', 'Internal_Pico_ng_uL',\n",
       "       'Submitted_Gender', 'Inferred_Gender', 'X_intensity', 'Y_intensity',\n",
       "       'Submitted_Plate_Name', 'Submitted_Well', 'sample_qc_missing_rate',\n",
       "       'heterozygosity', 'heterozygosity_pc_corrected', 'het_missing_outliers',\n",
       "       'putative_sex_chromosome_aneuploidy', 'in_kinship_table',\n",
       "       'excluded_from_kinship_inference', 'excess_relatives',\n",
       "       'in_white_British_ancestry_subset', 'used_in_pca_calculation', 'PC1',\n",
       "       'PC2', 'PC3', 'PC4', 'PC5', 'PC6', 'PC7', 'PC8', 'PC9', 'PC10', 'PC11',\n",
       "       'PC12', 'PC13', 'PC14', 'PC15', 'PC16', 'PC17', 'PC18', 'PC19', 'PC20',\n",
       "       'PC21', 'PC22', 'PC23', 'PC24', 'PC25', 'PC26', 'PC27', 'PC28', 'PC29',\n",
       "       'PC30', 'PC31', 'PC32', 'PC33', 'PC34', 'PC35', 'PC36', 'PC37', 'PC38',\n",
       "       'PC39', 'PC40', 'in_Phasing_Input_chr1', 'in_Phasing_Input_chr2',\n",
       "       'in_Phasing_Input_chr3', 'in_Phasing_Input_chr4',\n",
       "       'in_Phasing_Input_chr5', 'in_Phasing_Input_chr6',\n",
       "       'in_Phasing_Input_chr7', 'in_Phasing_Input_chr8',\n",
       "       'in_Phasing_Input_chr9', 'in_Phasing_Input_chr10',\n",
       "       'in_Phasing_Input_chr11', 'in_Phasing_Input_chr12',\n",
       "       'in_Phasing_Input_chr13', 'in_Phasing_Input_chr14',\n",
       "       'in_Phasing_Input_chr15', 'in_Phasing_Input_chr16',\n",
       "       'in_Phasing_Input_chr17', 'in_Phasing_Input_chr18',\n",
       "       'in_Phasing_Input_chr19', 'in_Phasing_Input_chr20',\n",
       "       'in_Phasing_Input_chr21', 'in_Phasing_Input_chr22',\n",
       "       'in_Phasing_Input_chrX', 'in_Phasing_Input_chrXY'],\n",
       "      dtype='object')"
      ]
     },
     "execution_count": 5,
     "metadata": {},
     "output_type": "execute_result"
    }
   ],
   "source": [
    "sqc.columns"
   ]
  },
  {
   "cell_type": "markdown",
   "metadata": {},
   "source": [
    "## 488370 individuals\n",
    "- We are focusing on 488370 individuals with genotype data"
   ]
  },
  {
   "cell_type": "code",
   "execution_count": 6,
   "metadata": {
    "collapsed": true
   },
   "outputs": [],
   "source": [
    "genotype_fam_file = '/oak/stanford/groups/mrivas/ukbb24983/fam/ukb2498_cal_v2_s488370.fam'"
   ]
  },
  {
   "cell_type": "code",
   "execution_count": 7,
   "metadata": {
    "collapsed": true
   },
   "outputs": [],
   "source": [
    "genotype_fam = pd.read_csv(\n",
    "    genotype_fam_file, sep='\\s+', \n",
    "    names = ['FID', 'IID', 'father', 'mother', 'sex_1=male_2=female_0=unkonwn', 'batch']\n",
    ")"
   ]
  },
  {
   "cell_type": "code",
   "execution_count": 8,
   "metadata": {},
   "outputs": [
    {
     "name": "stdout",
     "output_type": "stream",
     "text": [
      "(488377, 6)\n"
     ]
    },
    {
     "data": {
      "text/html": [
       "<div>\n",
       "<style>\n",
       "    .dataframe thead tr:only-child th {\n",
       "        text-align: right;\n",
       "    }\n",
       "\n",
       "    .dataframe thead th {\n",
       "        text-align: left;\n",
       "    }\n",
       "\n",
       "    .dataframe tbody tr th {\n",
       "        vertical-align: top;\n",
       "    }\n",
       "</style>\n",
       "<table border=\"1\" class=\"dataframe\">\n",
       "  <thead>\n",
       "    <tr style=\"text-align: right;\">\n",
       "      <th></th>\n",
       "      <th>FID</th>\n",
       "      <th>IID</th>\n",
       "      <th>father</th>\n",
       "      <th>mother</th>\n",
       "      <th>sex_1=male_2=female_0=unkonwn</th>\n",
       "      <th>batch</th>\n",
       "    </tr>\n",
       "  </thead>\n",
       "  <tbody>\n",
       "    <tr>\n",
       "      <th>0</th>\n",
       "      <td>2502845</td>\n",
       "      <td>2502845</td>\n",
       "      <td>0</td>\n",
       "      <td>0</td>\n",
       "      <td>1</td>\n",
       "      <td>Batch_b001</td>\n",
       "    </tr>\n",
       "    <tr>\n",
       "      <th>1</th>\n",
       "      <td>2314965</td>\n",
       "      <td>2314965</td>\n",
       "      <td>0</td>\n",
       "      <td>0</td>\n",
       "      <td>2</td>\n",
       "      <td>Batch_b001</td>\n",
       "    </tr>\n",
       "    <tr>\n",
       "      <th>2</th>\n",
       "      <td>1142584</td>\n",
       "      <td>1142584</td>\n",
       "      <td>0</td>\n",
       "      <td>0</td>\n",
       "      <td>2</td>\n",
       "      <td>Batch_b001</td>\n",
       "    </tr>\n",
       "    <tr>\n",
       "      <th>3</th>\n",
       "      <td>3665122</td>\n",
       "      <td>3665122</td>\n",
       "      <td>0</td>\n",
       "      <td>0</td>\n",
       "      <td>2</td>\n",
       "      <td>Batch_b001</td>\n",
       "    </tr>\n",
       "    <tr>\n",
       "      <th>4</th>\n",
       "      <td>4377492</td>\n",
       "      <td>4377492</td>\n",
       "      <td>0</td>\n",
       "      <td>0</td>\n",
       "      <td>2</td>\n",
       "      <td>Batch_b001</td>\n",
       "    </tr>\n",
       "  </tbody>\n",
       "</table>\n",
       "</div>"
      ],
      "text/plain": [
       "       FID      IID  father  mother  sex_1=male_2=female_0=unkonwn       batch\n",
       "0  2502845  2502845       0       0                              1  Batch_b001\n",
       "1  2314965  2314965       0       0                              2  Batch_b001\n",
       "2  1142584  1142584       0       0                              2  Batch_b001\n",
       "3  3665122  3665122       0       0                              2  Batch_b001\n",
       "4  4377492  4377492       0       0                              2  Batch_b001"
      ]
     },
     "execution_count": 8,
     "metadata": {},
     "output_type": "execute_result"
    }
   ],
   "source": [
    "print(genotype_fam.shape)\n",
    "genotype_fam.head()"
   ]
  },
  {
   "cell_type": "code",
   "execution_count": 9,
   "metadata": {},
   "outputs": [
    {
     "data": {
      "text/html": [
       "<div>\n",
       "<style>\n",
       "    .dataframe thead tr:only-child th {\n",
       "        text-align: right;\n",
       "    }\n",
       "\n",
       "    .dataframe thead th {\n",
       "        text-align: left;\n",
       "    }\n",
       "\n",
       "    .dataframe tbody tr th {\n",
       "        vertical-align: top;\n",
       "    }\n",
       "</style>\n",
       "<table border=\"1\" class=\"dataframe\">\n",
       "  <thead>\n",
       "    <tr style=\"text-align: right;\">\n",
       "      <th></th>\n",
       "      <th>FID</th>\n",
       "      <th>IID</th>\n",
       "      <th>father</th>\n",
       "      <th>mother</th>\n",
       "      <th>sex_1=male_2=female_0=unkonwn</th>\n",
       "      <th>batch</th>\n",
       "    </tr>\n",
       "  </thead>\n",
       "  <tbody>\n",
       "    <tr>\n",
       "      <th>57326</th>\n",
       "      <td>-1</td>\n",
       "      <td>-1</td>\n",
       "      <td>0</td>\n",
       "      <td>0</td>\n",
       "      <td>0</td>\n",
       "      <td>redacted</td>\n",
       "    </tr>\n",
       "    <tr>\n",
       "      <th>61153</th>\n",
       "      <td>-2</td>\n",
       "      <td>-2</td>\n",
       "      <td>0</td>\n",
       "      <td>0</td>\n",
       "      <td>0</td>\n",
       "      <td>redacted</td>\n",
       "    </tr>\n",
       "    <tr>\n",
       "      <th>68758</th>\n",
       "      <td>-3</td>\n",
       "      <td>-3</td>\n",
       "      <td>0</td>\n",
       "      <td>0</td>\n",
       "      <td>0</td>\n",
       "      <td>redacted</td>\n",
       "    </tr>\n",
       "    <tr>\n",
       "      <th>127546</th>\n",
       "      <td>-4</td>\n",
       "      <td>-4</td>\n",
       "      <td>0</td>\n",
       "      <td>0</td>\n",
       "      <td>0</td>\n",
       "      <td>redacted</td>\n",
       "    </tr>\n",
       "    <tr>\n",
       "      <th>308491</th>\n",
       "      <td>-5</td>\n",
       "      <td>-5</td>\n",
       "      <td>0</td>\n",
       "      <td>0</td>\n",
       "      <td>0</td>\n",
       "      <td>redacted</td>\n",
       "    </tr>\n",
       "    <tr>\n",
       "      <th>387484</th>\n",
       "      <td>-6</td>\n",
       "      <td>-6</td>\n",
       "      <td>0</td>\n",
       "      <td>0</td>\n",
       "      <td>0</td>\n",
       "      <td>redacted</td>\n",
       "    </tr>\n",
       "    <tr>\n",
       "      <th>409932</th>\n",
       "      <td>-7</td>\n",
       "      <td>-7</td>\n",
       "      <td>0</td>\n",
       "      <td>0</td>\n",
       "      <td>0</td>\n",
       "      <td>redacted</td>\n",
       "    </tr>\n",
       "  </tbody>\n",
       "</table>\n",
       "</div>"
      ],
      "text/plain": [
       "        FID  IID  father  mother  sex_1=male_2=female_0=unkonwn     batch\n",
       "57326    -1   -1       0       0                              0  redacted\n",
       "61153    -2   -2       0       0                              0  redacted\n",
       "68758    -3   -3       0       0                              0  redacted\n",
       "127546   -4   -4       0       0                              0  redacted\n",
       "308491   -5   -5       0       0                              0  redacted\n",
       "387484   -6   -6       0       0                              0  redacted\n",
       "409932   -7   -7       0       0                              0  redacted"
      ]
     },
     "execution_count": 9,
     "metadata": {},
     "output_type": "execute_result"
    }
   ],
   "source": [
    "genotype_fam[genotype_fam.FID < 0]"
   ]
  },
  {
   "cell_type": "markdown",
   "metadata": {},
   "source": [
    "- This means there are 488370 ( = 488377 - 7) individuals in this fam file."
   ]
  },
  {
   "cell_type": "markdown",
   "metadata": {},
   "source": [
    "### list of individuals to exclude"
   ]
  },
  {
   "cell_type": "code",
   "execution_count": 10,
   "metadata": {
    "collapsed": true
   },
   "outputs": [],
   "source": [
    "exclude_sqc = set(\n",
    "    genotype_fam['FID'][\n",
    "        (sqc.used_in_pca_calculation == 0) |\n",
    "        (sqc.het_missing_outliers == 1) |\n",
    "        (sqc.excess_relatives == 1) |\n",
    "        (sqc.putative_sex_chromosome_aneuploidy == 1) |\n",
    "        (genotype_fam.FID < 0)\n",
    "    ]\n",
    ")"
   ]
  },
  {
   "cell_type": "code",
   "execution_count": 11,
   "metadata": {},
   "outputs": [
    {
     "data": {
      "text/plain": [
       "81559"
      ]
     },
     "execution_count": 11,
     "metadata": {},
     "output_type": "execute_result"
    }
   ],
   "source": [
    "len(exclude_sqc)"
   ]
  },
  {
   "cell_type": "markdown",
   "metadata": {},
   "source": [
    "## additional remove file\n",
    "- We need to remove 6 individuals"
   ]
  },
  {
   "cell_type": "code",
   "execution_count": 12,
   "metadata": {},
   "outputs": [],
   "source": [
    "reducted_individuals_dir = '/oak/stanford/groups/mrivas/ukbb24983/phe_qc/'"
   ]
  },
  {
   "cell_type": "code",
   "execution_count": 14,
   "metadata": {},
   "outputs": [],
   "source": [
    "reducted_dict = dict([])\n",
    "for f in ['w2498_20170726', 'w24983_20180503']:\n",
    "    reducted_dict[f] = set(\n",
    "        pd.read_csv(\n",
    "            os.path.join(reducted_individuals_dir, '{}.phe'.format(f)),\n",
    "            sep='\\s+', names=['FID', 'IID'],\n",
    "        )['FID']\n",
    "    )\n",
    "reducted = reduce(lambda x, y: x.union(y), reducted_dict.values())"
   ]
  },
  {
   "cell_type": "code",
   "execution_count": 15,
   "metadata": {},
   "outputs": [
    {
     "data": {
      "text/plain": [
       "{1213560, 2331559, 2730934, 2828647, 3299994, 5649059}"
      ]
     },
     "execution_count": 15,
     "metadata": {},
     "output_type": "execute_result"
    }
   ],
   "source": [
    "reducted"
   ]
  },
  {
   "cell_type": "code",
   "execution_count": 16,
   "metadata": {
    "collapsed": true
   },
   "outputs": [],
   "source": [
    "exclude = exclude_sqc.union(reducted)"
   ]
  },
  {
   "cell_type": "code",
   "execution_count": 17,
   "metadata": {},
   "outputs": [
    {
     "data": {
      "text/plain": [
       "81564"
      ]
     },
     "execution_count": 17,
     "metadata": {},
     "output_type": "execute_result"
    }
   ],
   "source": [
    "len(exclude)"
   ]
  },
  {
   "cell_type": "markdown",
   "metadata": {},
   "source": [
    "## White British European "
   ]
  },
  {
   "cell_type": "code",
   "execution_count": 18,
   "metadata": {
    "collapsed": true
   },
   "outputs": [],
   "source": [
    "white_british_unfiltered = set(genotype_fam['FID'][(sqc.in_white_British_ancestry_subset == 1)])"
   ]
  },
  {
   "cell_type": "code",
   "execution_count": 19,
   "metadata": {},
   "outputs": [
    {
     "data": {
      "text/plain": [
       "409703"
      ]
     },
     "execution_count": 19,
     "metadata": {},
     "output_type": "execute_result"
    }
   ],
   "source": [
    "len(white_british_unfiltered)"
   ]
  },
  {
   "cell_type": "code",
   "execution_count": 20,
   "metadata": {
    "collapsed": true
   },
   "outputs": [],
   "source": [
    "ethnic_groups = dict([])"
   ]
  },
  {
   "cell_type": "code",
   "execution_count": 21,
   "metadata": {
    "collapsed": true
   },
   "outputs": [],
   "source": [
    "ethnic_groups['white_british'] = white_british_unfiltered - exclude"
   ]
  },
  {
   "cell_type": "code",
   "execution_count": 22,
   "metadata": {},
   "outputs": [
    {
     "data": {
      "text/plain": [
       "337198"
      ]
     },
     "execution_count": 22,
     "metadata": {},
     "output_type": "execute_result"
    }
   ],
   "source": [
    "len(ethnic_groups['white_british'])"
   ]
  },
  {
   "cell_type": "markdown",
   "metadata": {},
   "source": [
    "### 337,208, 337,205, 337,199, or 337,198 ??\n",
    "- 337,198 is the number based on `w24983_20180503`\n",
    "- 337,199 was the number based on `w2498_20170726`\n",
    "- 337,205 & 337,208 contained some individuals that we should've remove it.\n",
    "    - Please check the 2017/11/13 version of the notebook (commit ID: c914a3957557c0374d4e7dca6dc148bf033e6750)\n",
    "    - https://github.com/rivas-lab/ukbb24983wiki/blob/c914a3957557c0374d4e7dca6dc148bf033e6750/genotype_data/sqc/Multi-ethnic-group-analysis.ipynb\n"
   ]
  },
  {
   "cell_type": "markdown",
   "metadata": {},
   "source": [
    "### ID mapping"
   ]
  },
  {
   "cell_type": "code",
   "execution_count": 23,
   "metadata": {
    "collapsed": true
   },
   "outputs": [],
   "source": [
    "mapping_df = pd.read_csv(\n",
    "    '/oak/stanford/groups/mrivas/ukbb24983/phe_qc/ukb24983_2228_mapping.tsv', sep='\\t',\n",
    "    names=['24983', '2228']\n",
    ")"
   ]
  },
  {
   "cell_type": "markdown",
   "metadata": {},
   "source": [
    "## African"
   ]
  },
  {
   "cell_type": "code",
   "execution_count": 24,
   "metadata": {},
   "outputs": [],
   "source": [
    "african_unfiltered = set(    \n",
    "    pd.read_csv(\n",
    "        '/scratch/PI/mrivas/users/annashch/pca/african/pca_results_v2_chrom1_african.eigenvec', \n",
    "        sep='\\s+'\n",
    "    ).merge(\n",
    "        mapping_df,\n",
    "        left_on = '#FID',\n",
    "        right_on = '2228'\n",
    "    )['24983']\n",
    ")"
   ]
  },
  {
   "cell_type": "code",
   "execution_count": 25,
   "metadata": {
    "collapsed": true
   },
   "outputs": [],
   "source": [
    "ethnic_groups['african'] = african_unfiltered - exclude"
   ]
  },
  {
   "cell_type": "code",
   "execution_count": 26,
   "metadata": {},
   "outputs": [
    {
     "data": {
      "text/plain": [
       "(7073, 6498)"
      ]
     },
     "execution_count": 26,
     "metadata": {},
     "output_type": "execute_result"
    }
   ],
   "source": [
    "len(african_unfiltered), len(ethnic_groups['african'])"
   ]
  },
  {
   "cell_type": "markdown",
   "metadata": {},
   "source": [
    "## South Asian"
   ]
  },
  {
   "cell_type": "code",
   "execution_count": 27,
   "metadata": {
    "collapsed": true
   },
   "outputs": [],
   "source": [
    "s_asian_unfiltered = set(\n",
    "    pd.read_csv(\n",
    "        '/scratch/PI/mrivas/users/annashch/pca/s_asian/pca_results_v2_chrom1_s_asian.eigenvec', \n",
    "        sep='\\s+'\n",
    "    ).merge(\n",
    "        mapping_df,\n",
    "        left_on = '#FID',\n",
    "        right_on = '2228'\n",
    "    )['24983']\n",
    ")"
   ]
  },
  {
   "cell_type": "code",
   "execution_count": 28,
   "metadata": {
    "collapsed": true
   },
   "outputs": [],
   "source": [
    "ethnic_groups['s_asian'] = s_asian_unfiltered - exclude"
   ]
  },
  {
   "cell_type": "code",
   "execution_count": 29,
   "metadata": {},
   "outputs": [
    {
     "data": {
      "text/plain": [
       "(8111, 7363)"
      ]
     },
     "execution_count": 29,
     "metadata": {},
     "output_type": "execute_result"
    }
   ],
   "source": [
    "len(s_asian_unfiltered), len(ethnic_groups['s_asian'])"
   ]
  },
  {
   "cell_type": "markdown",
   "metadata": {},
   "source": [
    "## East Asian"
   ]
  },
  {
   "cell_type": "code",
   "execution_count": 30,
   "metadata": {
    "collapsed": true
   },
   "outputs": [],
   "source": [
    "e_asian_unfiltered = set(\n",
    "    pd.read_csv(\n",
    "        '/scratch/PI/mrivas/users/annashch/pca/e_asian/pca_results_v2_chrom1_e_asian.eigenvec', \n",
    "        sep='\\s+'\n",
    "    ).merge(\n",
    "        mapping_df,\n",
    "        left_on = '#FID',\n",
    "        right_on = '2228'\n",
    "    )['24983']\n",
    ")"
   ]
  },
  {
   "cell_type": "code",
   "execution_count": 31,
   "metadata": {
    "collapsed": true
   },
   "outputs": [],
   "source": [
    "ethnic_groups['e_asian'] = e_asian_unfiltered - exclude"
   ]
  },
  {
   "cell_type": "code",
   "execution_count": 32,
   "metadata": {},
   "outputs": [
    {
     "data": {
      "text/plain": [
       "(2156, 2061)"
      ]
     },
     "execution_count": 32,
     "metadata": {},
     "output_type": "execute_result"
    }
   ],
   "source": [
    "len(e_asian_unfiltered), len(ethnic_groups['e_asian'])"
   ]
  },
  {
   "cell_type": "markdown",
   "metadata": {},
   "source": [
    "## write to files"
   ]
  },
  {
   "cell_type": "code",
   "execution_count": 33,
   "metadata": {
    "collapsed": true
   },
   "outputs": [],
   "source": [
    "write_dir = '/oak/stanford/groups/mrivas/ukbb24983/sqc/population_stratification_w24983_20180503/'"
   ]
  },
  {
   "cell_type": "code",
   "execution_count": 34,
   "metadata": {
    "collapsed": true
   },
   "outputs": [],
   "source": [
    "for key in ethnic_groups.keys():\n",
    "    pd.DataFrame({\n",
    "        'FID': sorted(ethnic_groups[key]),\n",
    "        'IID': sorted(ethnic_groups[key])\n",
    "    }).to_csv(\n",
    "        os.path.join(write_dir, 'ukb24983_{}.phe'.format(key)), sep='\\t', index=False, header=False\n",
    "    )"
   ]
  },
  {
   "cell_type": "markdown",
   "metadata": {},
   "source": [
    "# summary\n",
    "\n",
    "| | number of indivudlas |\n",
    "| --- | --- |\n",
    "| White British | 377,198 |\n",
    "| African       |   6,498 |\n",
    "| South Asian   |   7,363 |\n",
    "| East Asian    |   2,061 |"
   ]
  },
  {
   "cell_type": "code",
   "execution_count": null,
   "metadata": {
    "collapsed": true
   },
   "outputs": [],
   "source": []
  }
 ],
 "metadata": {
  "kernelspec": {
   "display_name": "Python 3",
   "language": "python",
   "name": "python3"
  },
  "language_info": {
   "codemirror_mode": {
    "name": "ipython",
    "version": 3
   },
   "file_extension": ".py",
   "mimetype": "text/x-python",
   "name": "python",
   "nbconvert_exporter": "python",
   "pygments_lexer": "ipython3",
   "version": "3.6.5"
  }
 },
 "nbformat": 4,
 "nbformat_minor": 2
}
