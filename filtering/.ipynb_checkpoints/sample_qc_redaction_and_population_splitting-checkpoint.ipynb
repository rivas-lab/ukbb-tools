{
 "cells": [
  {
   "cell_type": "markdown",
   "metadata": {},
   "source": [
    "# Sample QC, Redaction and Population Splitting\n",
    "\n",
    "#### Yosuke Tanigawa (ytanigaw@stanford.edu)\n",
    "\n",
    "#### 2017/11/13 (updated on 2018/5/12)\n",
    "\n",
    "#### Guhan Venkataraman (guhan@stanford.edu) (updated on 2018/11/2)\n",
    "\n",
    "## Purposes of this notebook\n",
    "\n",
    "Re-use this notebook whenever you need to remove individuals from the study. Not infrequently, BioBank will send out a set of individuals that have requested to remove their data from the study. This notebook is a means of streamlining the process of the removal of the individuals and the subsequent redefinition of population subclasses. To reiterate, this notebook:\n",
    "\n",
    "- Removes individuals that meet Sample Quality Control exclusion criteria\n",
    "- Removes individuals that have been redacted from BioBank\n",
    "    - Update 11/1/2018 - `/oak/stanford/groups/mrivas/ukbb24983/sqc/w24983_20181016.csv` contains the superset of all redacted individuals.\n",
    "- Subsequently, creates `.phe` file that subset individuals into the following populations:\n",
    "  - African\n",
    "  - Sounth Asian\n",
    "  - East Asian\n",
    "  - European British"
   ]
  },
  {
   "cell_type": "code",
   "execution_count": 1,
   "metadata": {},
   "outputs": [],
   "source": [
    "import pandas as pd\n",
    "import os\n",
    "from functools import reduce"
   ]
  },
  {
   "cell_type": "markdown",
   "metadata": {},
   "source": [
    "# SQC (Sample Quality Control)\n",
    "- The following metrics were recommended by the UK BioBank as sample quality control metrics to watch out for:\n",
    "  1. used_in_pca_calculation == 0\n",
    "  1. het_missing_outliers == 1\n",
    "  1. excess_relatives == 1\n",
    "  1. putative_sex_chromosome_aneuploidy == 1\n",
    "  1. FID < 0 (if the family ID is less than 0, that means that the individual has opted out of the study)"
   ]
  },
  {
   "cell_type": "code",
   "execution_count": 2,
   "metadata": {},
   "outputs": [],
   "source": [
    "# We import the SQC files from the OAK space\n",
    "with open('/oak/stanford/groups/mrivas/ukbb24983/sqc/download/ukb_sqc_v2.fields.txt') as f:\n",
    "    sqc_columns = [x for x in f.read().splitlines() if len(x) > 0]"
   ]
  },
  {
   "cell_type": "code",
   "execution_count": 3,
   "metadata": {},
   "outputs": [
    {
     "name": "stdout",
     "output_type": "stream",
     "text": [
      "(488377, 89)\n",
      "Index([u'affymetrix_field_1', u'affymetrix_field_2', u'genotyping_array',\n",
      "       u'Batch', u'Plate_Name', u'Well', u'Cluster_CR', u'dQC',\n",
      "       u'Internal_Pico_ng_uL', u'Submitted_Gender', u'Inferred_Gender',\n",
      "       u'X_intensity', u'Y_intensity', u'Submitted_Plate_Name',\n",
      "       u'Submitted_Well', u'sample_qc_missing_rate', u'heterozygosity',\n",
      "       u'heterozygosity_pc_corrected', u'het_missing_outliers',\n",
      "       u'putative_sex_chromosome_aneuploidy', u'in_kinship_table',\n",
      "       u'excluded_from_kinship_inference', u'excess_relatives',\n",
      "       u'in_white_British_ancestry_subset', u'used_in_pca_calculation', u'PC1',\n",
      "       u'PC2', u'PC3', u'PC4', u'PC5', u'PC6', u'PC7', u'PC8', u'PC9', u'PC10',\n",
      "       u'PC11', u'PC12', u'PC13', u'PC14', u'PC15', u'PC16', u'PC17', u'PC18',\n",
      "       u'PC19', u'PC20', u'PC21', u'PC22', u'PC23', u'PC24', u'PC25', u'PC26',\n",
      "       u'PC27', u'PC28', u'PC29', u'PC30', u'PC31', u'PC32', u'PC33', u'PC34',\n",
      "       u'PC35', u'PC36', u'PC37', u'PC38', u'PC39', u'PC40',\n",
      "       u'in_Phasing_Input_chr1', u'in_Phasing_Input_chr2',\n",
      "       u'in_Phasing_Input_chr3', u'in_Phasing_Input_chr4',\n",
      "       u'in_Phasing_Input_chr5', u'in_Phasing_Input_chr6',\n",
      "       u'in_Phasing_Input_chr7', u'in_Phasing_Input_chr8',\n",
      "       u'in_Phasing_Input_chr9', u'in_Phasing_Input_chr10',\n",
      "       u'in_Phasing_Input_chr11', u'in_Phasing_Input_chr12',\n",
      "       u'in_Phasing_Input_chr13', u'in_Phasing_Input_chr14',\n",
      "       u'in_Phasing_Input_chr15', u'in_Phasing_Input_chr16',\n",
      "       u'in_Phasing_Input_chr17', u'in_Phasing_Input_chr18',\n",
      "       u'in_Phasing_Input_chr19', u'in_Phasing_Input_chr20',\n",
      "       u'in_Phasing_Input_chr21', u'in_Phasing_Input_chr22',\n",
      "       u'in_Phasing_Input_chrX', u'in_Phasing_Input_chrXY'],\n",
      "      dtype='object')\n"
     ]
    }
   ],
   "source": [
    "sqc = pd.read_csv(\n",
    "    '/oak/stanford/groups/mrivas/ukbb24983/sqc/download/ukb_sqc_v2.txt',\n",
    "    sep='\\s+', names = sqc_columns\n",
    ")\n",
    "# We get an idea of what is inside the SQC files by looking at the shape and columns\n",
    "print(sqc.shape)\n",
    "print(sqc.columns)"
   ]
  },
  {
   "cell_type": "markdown",
   "metadata": {},
   "source": [
    "We can see that there are many fields here, of which we will use four to filter out the folks that meet the aforementioned exclusion criteria."
   ]
  },
  {
   "cell_type": "markdown",
   "metadata": {},
   "source": [
    "## Import of the `.fam` file\n",
    "We import the genotype file and get an idea of its size and what it looks like."
   ]
  },
  {
   "cell_type": "code",
   "execution_count": 4,
   "metadata": {},
   "outputs": [
    {
     "name": "stdout",
     "output_type": "stream",
     "text": [
      "(488377, 6)\n"
     ]
    },
    {
     "data": {
      "text/html": [
       "<div>\n",
       "<style>\n",
       "    .dataframe thead tr:only-child th {\n",
       "        text-align: right;\n",
       "    }\n",
       "\n",
       "    .dataframe thead th {\n",
       "        text-align: left;\n",
       "    }\n",
       "\n",
       "    .dataframe tbody tr th {\n",
       "        vertical-align: top;\n",
       "    }\n",
       "</style>\n",
       "<table border=\"1\" class=\"dataframe\">\n",
       "  <thead>\n",
       "    <tr style=\"text-align: right;\">\n",
       "      <th></th>\n",
       "      <th>FID</th>\n",
       "      <th>IID</th>\n",
       "      <th>father</th>\n",
       "      <th>mother</th>\n",
       "      <th>sex_1=male_2=female_0=unkonwn</th>\n",
       "      <th>batch</th>\n",
       "    </tr>\n",
       "  </thead>\n",
       "  <tbody>\n",
       "    <tr>\n",
       "      <th>0</th>\n",
       "      <td>2502845</td>\n",
       "      <td>2502845</td>\n",
       "      <td>0</td>\n",
       "      <td>0</td>\n",
       "      <td>1</td>\n",
       "      <td>Batch_b001</td>\n",
       "    </tr>\n",
       "    <tr>\n",
       "      <th>1</th>\n",
       "      <td>2314965</td>\n",
       "      <td>2314965</td>\n",
       "      <td>0</td>\n",
       "      <td>0</td>\n",
       "      <td>2</td>\n",
       "      <td>Batch_b001</td>\n",
       "    </tr>\n",
       "    <tr>\n",
       "      <th>2</th>\n",
       "      <td>1142584</td>\n",
       "      <td>1142584</td>\n",
       "      <td>0</td>\n",
       "      <td>0</td>\n",
       "      <td>2</td>\n",
       "      <td>Batch_b001</td>\n",
       "    </tr>\n",
       "    <tr>\n",
       "      <th>3</th>\n",
       "      <td>3665122</td>\n",
       "      <td>3665122</td>\n",
       "      <td>0</td>\n",
       "      <td>0</td>\n",
       "      <td>2</td>\n",
       "      <td>Batch_b001</td>\n",
       "    </tr>\n",
       "    <tr>\n",
       "      <th>4</th>\n",
       "      <td>4377492</td>\n",
       "      <td>4377492</td>\n",
       "      <td>0</td>\n",
       "      <td>0</td>\n",
       "      <td>2</td>\n",
       "      <td>Batch_b001</td>\n",
       "    </tr>\n",
       "  </tbody>\n",
       "</table>\n",
       "</div>"
      ],
      "text/plain": [
       "       FID      IID  father  mother  sex_1=male_2=female_0=unkonwn       batch\n",
       "0  2502845  2502845       0       0                              1  Batch_b001\n",
       "1  2314965  2314965       0       0                              2  Batch_b001\n",
       "2  1142584  1142584       0       0                              2  Batch_b001\n",
       "3  3665122  3665122       0       0                              2  Batch_b001\n",
       "4  4377492  4377492       0       0                              2  Batch_b001"
      ]
     },
     "execution_count": 4,
     "metadata": {},
     "output_type": "execute_result"
    }
   ],
   "source": [
    "genotype_fam_file = '/oak/stanford/groups/mrivas/ukbb24983/fam/ukb2498_cal_v2_s488370.fam'\n",
    "genotype_fam = pd.read_csv(\n",
    "    genotype_fam_file, sep='\\s+', \n",
    "    names = ['FID', 'IID', 'father', 'mother', 'sex_1=male_2=female_0=unkonwn', 'batch']\n",
    ")\n",
    "print(genotype_fam.shape)\n",
    "genotype_fam.head()"
   ]
  },
  {
   "cell_type": "markdown",
   "metadata": {},
   "source": [
    "### List of individuals to exclude\n",
    "As mentioned before, these exclusion criteria were recommended/required by the BioBank."
   ]
  },
  {
   "cell_type": "code",
   "execution_count": 5,
   "metadata": {},
   "outputs": [
    {
     "name": "stdout",
     "output_type": "stream",
     "text": [
      "Total number of exclusions (initial redactions + SQC): 81559\n"
     ]
    }
   ],
   "source": [
    "exclude_sqc = set(\n",
    "    genotype_fam['FID'][\n",
    "        (sqc.used_in_pca_calculation == 0) |\n",
    "        (sqc.het_missing_outliers == 1) |\n",
    "        (sqc.excess_relatives == 1) |\n",
    "        (sqc.putative_sex_chromosome_aneuploidy == 1) |\n",
    "        (genotype_fam.FID < 0)\n",
    "    ]\n",
    ")\n",
    "# The total number of people excluded via SQC metrics and initial redactions\n",
    "print(\"Total number of exclusions (initial redactions + SQC): \" + str(len(exclude_sqc)))"
   ]
  },
  {
   "cell_type": "markdown",
   "metadata": {},
   "source": [
    "## Additional redactions\n",
    "- As of November 2018, we need to remove 79 individuals, specified in the file /oak/stanford/groups/mrivas/ukbb24983/sqc/w24983_20181016.csv\n",
    "- *IMPORTANT*: As the list is updated in the future, the lab should run this notebook again, replacing the path to the file below with the path to a file that supersets all redacted individuals thus far."
   ]
  },
  {
   "cell_type": "code",
   "execution_count": 6,
   "metadata": {},
   "outputs": [
    {
     "name": "stdout",
     "output_type": "stream",
     "text": [
      "Total number of redacted individuals: 79\n",
      "Total number of exclusions (redactions + SQC rejections): 81623\n"
     ]
    }
   ],
   "source": [
    "redacted = set()\n",
    "list_indivs = open('/oak/stanford/groups/mrivas/ukbb24983/sqc/w24983_20181016.csv', 'r')\n",
    "for val in list_indivs.read().split():\n",
    "    redacted.add(int(val))\n",
    "list_indivs.close()\n",
    "print(\"Total number of redacted individuals: \" + str(len(redacted)))\n",
    "# We add the newly redacted individuals to the previous set of SQC rejects/initial redactions\n",
    "exclude = exclude_sqc.union(redacted)\n",
    "# This leads to the total number of exclusions...\n",
    "print(\"Total number of exclusions (redactions + SQC rejections): \" + str(len(exclude)))"
   ]
  },
  {
   "cell_type": "markdown",
   "metadata": {},
   "source": [
    "## Developing cohorts: White British European\n",
    "Now that we have the individuals we need to exclude, we can use the sample QC file to find out their self-reported race and subset the populations appropriately. We will start with the white British cohort."
   ]
  },
  {
   "cell_type": "code",
   "execution_count": 7,
   "metadata": {},
   "outputs": [
    {
     "name": "stdout",
     "output_type": "stream",
     "text": [
      "Number of white British people in dataset before exclusion: 409703\n",
      "Number of white British people in dataset after exclusion: 337151\n"
     ]
    }
   ],
   "source": [
    "white_british_unfiltered = set(genotype_fam['FID'][(sqc.in_white_British_ancestry_subset == 1)])\n",
    "print(\"Number of white British people in dataset before exclusion: \" + str(len(white_british_unfiltered)))\n",
    "ethnic_groups = dict([])\n",
    "ethnic_groups['white_british'] = white_british_unfiltered - exclude\n",
    "print(\"Number of white British people in dataset after exclusion: \" + str(len(ethnic_groups['white_british'])))"
   ]
  },
  {
   "cell_type": "markdown",
   "metadata": {},
   "source": [
    "### ID mapping"
   ]
  },
  {
   "cell_type": "code",
   "execution_count": 8,
   "metadata": {},
   "outputs": [],
   "source": [
    "mapping_df = pd.read_csv(\n",
    "    '/oak/stanford/groups/mrivas/ukbb24983/phe_qc/ukb24983_2228_mapping.tsv', sep='\\t',\n",
    "    names=['24983', '2228']\n",
    ")"
   ]
  },
  {
   "cell_type": "markdown",
   "metadata": {},
   "source": [
    "## African"
   ]
  },
  {
   "cell_type": "code",
   "execution_count": 13,
   "metadata": {},
   "outputs": [
    {
     "name": "stdout",
     "output_type": "stream",
     "text": [
      "Number of African people in dataset before exclusion: 7073\n",
      "Number of African people in dataset after exclusion: 6497\n"
     ]
    }
   ],
   "source": [
    "african_unfiltered = set(    \n",
    "    pd.read_csv(\n",
    "        '/scratch/PI/mrivas/users/annashch/pca/african/pca_results_v2_chrom1_african.eigenvec', \n",
    "        sep='\\s+'\n",
    "    ).merge(\n",
    "        mapping_df,\n",
    "        left_on = '#FID',\n",
    "        right_on = '2228'\n",
    "    )['24983']\n",
    ")\n",
    "print(\"Number of African people in dataset before exclusion: \" + str(len(african_unfiltered)))\n",
    "ethnic_groups['african'] = african_unfiltered - exclude\n",
    "print(\"Number of African people in dataset after exclusion: \" + str(len(ethnic_groups['african'])))"
   ]
  },
  {
   "cell_type": "markdown",
   "metadata": {},
   "source": [
    "## South Asian"
   ]
  },
  {
   "cell_type": "code",
   "execution_count": 10,
   "metadata": {},
   "outputs": [
    {
     "name": "stdout",
     "output_type": "stream",
     "text": [
      "Number of South Asian people in dataset before exclusion: 8111\n",
      "Number of South Asian people in dataset after exclusion: 7363\n"
     ]
    }
   ],
   "source": [
    "s_asian_unfiltered = set(\n",
    "    pd.read_csv(\n",
    "        '/scratch/PI/mrivas/users/annashch/pca/s_asian/pca_results_v2_chrom1_s_asian.eigenvec', \n",
    "        sep='\\s+'\n",
    "    ).merge(\n",
    "        mapping_df,\n",
    "        left_on = '#FID',\n",
    "        right_on = '2228'\n",
    "    )['24983']\n",
    ")\n",
    "print(\"Number of South Asian people in dataset before exclusion: \" + str(len(s_asian_unfiltered)))\n",
    "ethnic_groups['s_asian'] = s_asian_unfiltered - exclude\n",
    "print(\"Number of South Asian people in dataset after exclusion: \" + str(len(ethnic_groups['s_asian'])))"
   ]
  },
  {
   "cell_type": "markdown",
   "metadata": {},
   "source": [
    "## East Asian"
   ]
  },
  {
   "cell_type": "code",
   "execution_count": 11,
   "metadata": {},
   "outputs": [
    {
     "name": "stdout",
     "output_type": "stream",
     "text": [
      "Number of East Asian people in dataset before exclusion: 2156\n",
      "Number of East Asian people in dataset after exclusion: 2061\n"
     ]
    }
   ],
   "source": [
    "e_asian_unfiltered = set(\n",
    "    pd.read_csv(\n",
    "        '/scratch/PI/mrivas/users/annashch/pca/e_asian/pca_results_v2_chrom1_e_asian.eigenvec', \n",
    "        sep='\\s+'\n",
    "    ).merge(\n",
    "        mapping_df,\n",
    "        left_on = '#FID',\n",
    "        right_on = '2228'\n",
    "    )['24983']\n",
    ")\n",
    "print(\"Number of East Asian people in dataset before exclusion: \" + str(len(e_asian_unfiltered)))\n",
    "ethnic_groups['e_asian'] = e_asian_unfiltered - exclude\n",
    "print(\"Number of East Asian people in dataset after exclusion: \" + str(len(ethnic_groups['e_asian'])))"
   ]
  },
  {
   "cell_type": "markdown",
   "metadata": {},
   "source": [
    "## Write to files\n",
    "Every time this notebook is run, we should save the new phenotype (`.phe`) files to a new directory that has the date in the name. We have kept the root directory as `/oak/stanford/groups/mrivas/ukbb24983/sqc/` on Sherlock, and the name of the directory as `population_stratification_w24983_YYYYMMDD`.\n",
    "\n",
    "## It is imperative you rename the directory below, OR ELSE ALL THE PREVIOUS FILES GET OVERWRITTEN. I've commented it out in the GitHub version because of this."
   ]
  },
  {
   "cell_type": "code",
   "execution_count": 12,
   "metadata": {},
   "outputs": [],
   "source": [
    "#write_dir = '/oak/stanford/groups/mrivas/ukbb24983/sqc/population_stratification_w24983_YYYYMMDD/'"
   ]
  },
  {
   "cell_type": "code",
   "execution_count": null,
   "metadata": {},
   "outputs": [],
   "source": [
    "for key in ethnic_groups.keys():\n",
    "    pd.DataFrame({\n",
    "        'FID': sorted(ethnic_groups[key]),\n",
    "        'IID': sorted(ethnic_groups[key])\n",
    "    }).to_csv(\n",
    "        os.path.join(write_dir, 'ukb24983_{}.phe'.format(key)), sep='\\t', index=False, header=False\n",
    "    )"
   ]
  },
  {
   "cell_type": "markdown",
   "metadata": {},
   "source": [
    "# Summary of number of individuals\n",
    "\n",
    "| White British | 337,151 |\n",
    "| African       |   6,497 |\n",
    "| South Asian   |   7,363 |\n",
    "| East Asian    |   2,061 |"
   ]
  }
 ],
 "metadata": {
  "kernelspec": {
   "display_name": "Python 2",
   "language": "python",
   "name": "python2"
  },
  "language_info": {
   "codemirror_mode": {
    "name": "ipython",
    "version": 2
   },
   "file_extension": ".py",
   "mimetype": "text/x-python",
   "name": "python",
   "nbconvert_exporter": "python",
   "pygments_lexer": "ipython2",
   "version": "2.7.14"
  }
 },
 "nbformat": 4,
 "nbformat_minor": 2
}
