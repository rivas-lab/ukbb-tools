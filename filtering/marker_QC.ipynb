{
 "cells": [
  {
   "cell_type": "markdown",
   "metadata": {},
   "source": [
    "# UKB24983 v2 release (488k dataset) marker QC. \n",
    "\n",
    "## Yosuke Tanigawa (ytanigaw@stanford.edu) on 2017/7/25\n",
    "\n",
    "## Guhan Venkataraman (guhan@stanford.edu) on 2018/11/2\n",
    "\n",
    "- summary: pass_QC files are not informative"
   ]
  },
  {
   "cell_type": "code",
   "execution_count": 1,
   "metadata": {
    "collapsed": true
   },
   "outputs": [],
   "source": [
    "%matplotlib inline\n",
    "\n",
    "from __future__ import print_function\n",
    "import numpy as np\n",
    "import pandas as pd\n",
    "import matplotlib\n",
    "import matplotlib.pyplot as plt\n",
    "import matplotlib.gridspec as gridspec\n",
    "import itertools as it\n",
    "import collections as cl\n",
    "\n",
    "# plot\n",
    "\n",
    "font = {#'family' : 'normal',\n",
    "        #'weight' : 'bold',\n",
    "        'size'   : 20}\n",
    "matplotlib.rc('font', **font)"
   ]
  },
  {
   "cell_type": "code",
   "execution_count": 2,
   "metadata": {
    "collapsed": true
   },
   "outputs": [],
   "source": [
    "def check_df(df):\n",
    "    \"\"\"Show the shape and first 5 entries of a given pandas data frame\"\"\"\n",
    "    print('shape of this data frame is {}'.format(df.shape))\n",
    "    return df.head()"
   ]
  },
  {
   "cell_type": "markdown",
   "metadata": {},
   "source": [
    "## read marker QC file \n",
    "- http://biobank.ndph.ox.ac.uk/showcase/refer.cgi?id=531"
   ]
  },
  {
   "cell_type": "code",
   "execution_count": 3,
   "metadata": {
    "collapsed": true
   },
   "outputs": [],
   "source": [
    "#snp_f = '/scratch/PI/mrivas/ukbb/24983/snp/ukb_snp_qc.txt'\n",
    "#File location has been updated\n",
    "snp_f = '/oak/stanford/groups/mrivas/ukbb24983/snp/snp_download/ukb_snp_qc.txt'"
   ]
  },
  {
   "cell_type": "code",
   "execution_count": 4,
   "metadata": {},
   "outputs": [],
   "source": [
    "snp_df = pd.read_csv(snp_f, sep='\\s+')"
   ]
  },
  {
   "cell_type": "markdown",
   "metadata": {},
   "source": [
    "### subset to autosomes"
   ]
  },
  {
   "cell_type": "code",
   "execution_count": 5,
   "metadata": {},
   "outputs": [
    {
     "data": {
      "text/plain": [
       "Counter({1: 63487,\n",
       "         2: 61966,\n",
       "         3: 52300,\n",
       "         4: 47443,\n",
       "         5: 46314,\n",
       "         6: 53695,\n",
       "         7: 42722,\n",
       "         8: 38591,\n",
       "         9: 34310,\n",
       "         10: 38308,\n",
       "         11: 40824,\n",
       "         12: 37302,\n",
       "         13: 26806,\n",
       "         14: 25509,\n",
       "         15: 24467,\n",
       "         16: 28960,\n",
       "         17: 28835,\n",
       "         18: 21962,\n",
       "         19: 26186,\n",
       "         20: 19959,\n",
       "         21: 11342,\n",
       "         22: 12968,\n",
       "         23: 18857,\n",
       "         24: 691,\n",
       "         25: 1357,\n",
       "         26: 265})"
      ]
     },
     "execution_count": 5,
     "metadata": {},
     "output_type": "execute_result"
    }
   ],
   "source": [
    "cl.Counter(snp_df.chromosome)"
   ]
  },
  {
   "cell_type": "code",
   "execution_count": 6,
   "metadata": {
    "collapsed": true
   },
   "outputs": [],
   "source": [
    "snp_auto_df = snp_df[snp_df.chromosome < 23]"
   ]
  },
  {
   "cell_type": "code",
   "execution_count": 7,
   "metadata": {},
   "outputs": [
    {
     "name": "stdout",
     "output_type": "stream",
     "text": [
      "shape of this data frame is (784256, 159)\n"
     ]
    },
    {
     "data": {
      "text/html": [
       "<div>\n",
       "<table border=\"1\" class=\"dataframe\">\n",
       "  <thead>\n",
       "    <tr style=\"text-align: right;\">\n",
       "      <th></th>\n",
       "      <th>rs_id</th>\n",
       "      <th>affymetrix_snp_id</th>\n",
       "      <th>affymetrix_probeset_id</th>\n",
       "      <th>chromosome</th>\n",
       "      <th>position</th>\n",
       "      <th>allele1_ref</th>\n",
       "      <th>allele2_alt</th>\n",
       "      <th>strand</th>\n",
       "      <th>array</th>\n",
       "      <th>Batch_b001_qc</th>\n",
       "      <th>...</th>\n",
       "      <th>PC32_loading</th>\n",
       "      <th>PC33_loading</th>\n",
       "      <th>PC34_loading</th>\n",
       "      <th>PC35_loading</th>\n",
       "      <th>PC36_loading</th>\n",
       "      <th>PC37_loading</th>\n",
       "      <th>PC38_loading</th>\n",
       "      <th>PC9_loading.3</th>\n",
       "      <th>PC40_loading</th>\n",
       "      <th>in_Phasing_Input</th>\n",
       "    </tr>\n",
       "  </thead>\n",
       "  <tbody>\n",
       "    <tr>\n",
       "      <th>0</th>\n",
       "      <td>rs28659788</td>\n",
       "      <td>Affx-13546538</td>\n",
       "      <td>AX-32115783</td>\n",
       "      <td>1</td>\n",
       "      <td>723307</td>\n",
       "      <td>C</td>\n",
       "      <td>G</td>\n",
       "      <td>+</td>\n",
       "      <td>0</td>\n",
       "      <td>1</td>\n",
       "      <td>...</td>\n",
       "      <td>NaN</td>\n",
       "      <td>NaN</td>\n",
       "      <td>NaN</td>\n",
       "      <td>NaN</td>\n",
       "      <td>NaN</td>\n",
       "      <td>NaN</td>\n",
       "      <td>NaN</td>\n",
       "      <td>NaN</td>\n",
       "      <td>NaN</td>\n",
       "      <td>0</td>\n",
       "    </tr>\n",
       "    <tr>\n",
       "      <th>1</th>\n",
       "      <td>rs116587930</td>\n",
       "      <td>Affx-35298040</td>\n",
       "      <td>AX-37361813</td>\n",
       "      <td>1</td>\n",
       "      <td>727841</td>\n",
       "      <td>G</td>\n",
       "      <td>A</td>\n",
       "      <td>+</td>\n",
       "      <td>2</td>\n",
       "      <td>1</td>\n",
       "      <td>...</td>\n",
       "      <td>NaN</td>\n",
       "      <td>NaN</td>\n",
       "      <td>NaN</td>\n",
       "      <td>NaN</td>\n",
       "      <td>NaN</td>\n",
       "      <td>NaN</td>\n",
       "      <td>NaN</td>\n",
       "      <td>NaN</td>\n",
       "      <td>NaN</td>\n",
       "      <td>0</td>\n",
       "    </tr>\n",
       "    <tr>\n",
       "      <th>2</th>\n",
       "      <td>rs116720794</td>\n",
       "      <td>Affx-13637449</td>\n",
       "      <td>AX-32137419</td>\n",
       "      <td>1</td>\n",
       "      <td>729632</td>\n",
       "      <td>C</td>\n",
       "      <td>T</td>\n",
       "      <td>+</td>\n",
       "      <td>2</td>\n",
       "      <td>1</td>\n",
       "      <td>...</td>\n",
       "      <td>NaN</td>\n",
       "      <td>NaN</td>\n",
       "      <td>NaN</td>\n",
       "      <td>NaN</td>\n",
       "      <td>NaN</td>\n",
       "      <td>NaN</td>\n",
       "      <td>NaN</td>\n",
       "      <td>NaN</td>\n",
       "      <td>NaN</td>\n",
       "      <td>0</td>\n",
       "    </tr>\n",
       "    <tr>\n",
       "      <th>3</th>\n",
       "      <td>rs3131972</td>\n",
       "      <td>Affx-13945728</td>\n",
       "      <td>AX-13191280</td>\n",
       "      <td>1</td>\n",
       "      <td>752721</td>\n",
       "      <td>A</td>\n",
       "      <td>G</td>\n",
       "      <td>+</td>\n",
       "      <td>2</td>\n",
       "      <td>1</td>\n",
       "      <td>...</td>\n",
       "      <td>NaN</td>\n",
       "      <td>NaN</td>\n",
       "      <td>NaN</td>\n",
       "      <td>NaN</td>\n",
       "      <td>NaN</td>\n",
       "      <td>NaN</td>\n",
       "      <td>NaN</td>\n",
       "      <td>NaN</td>\n",
       "      <td>NaN</td>\n",
       "      <td>1</td>\n",
       "    </tr>\n",
       "    <tr>\n",
       "      <th>4</th>\n",
       "      <td>rs12184325</td>\n",
       "      <td>Affx-13963217</td>\n",
       "      <td>AX-11194291</td>\n",
       "      <td>1</td>\n",
       "      <td>754105</td>\n",
       "      <td>C</td>\n",
       "      <td>T</td>\n",
       "      <td>+</td>\n",
       "      <td>2</td>\n",
       "      <td>1</td>\n",
       "      <td>...</td>\n",
       "      <td>-0.003471</td>\n",
       "      <td>0.005899</td>\n",
       "      <td>-0.003739</td>\n",
       "      <td>-0.001896</td>\n",
       "      <td>-0.002869</td>\n",
       "      <td>0.000792</td>\n",
       "      <td>-0.00191</td>\n",
       "      <td>0.003075</td>\n",
       "      <td>-0.000411</td>\n",
       "      <td>1</td>\n",
       "    </tr>\n",
       "  </tbody>\n",
       "</table>\n",
       "<p>5 rows × 159 columns</p>\n",
       "</div>"
      ],
      "text/plain": [
       "         rs_id affymetrix_snp_id affymetrix_probeset_id  chromosome  position  \\\n",
       "0   rs28659788     Affx-13546538            AX-32115783           1    723307   \n",
       "1  rs116587930     Affx-35298040            AX-37361813           1    727841   \n",
       "2  rs116720794     Affx-13637449            AX-32137419           1    729632   \n",
       "3    rs3131972     Affx-13945728            AX-13191280           1    752721   \n",
       "4   rs12184325     Affx-13963217            AX-11194291           1    754105   \n",
       "\n",
       "  allele1_ref allele2_alt strand  array  Batch_b001_qc        ...         \\\n",
       "0           C           G      +      0              1        ...          \n",
       "1           G           A      +      2              1        ...          \n",
       "2           C           T      +      2              1        ...          \n",
       "3           A           G      +      2              1        ...          \n",
       "4           C           T      +      2              1        ...          \n",
       "\n",
       "   PC32_loading  PC33_loading  PC34_loading  PC35_loading  PC36_loading  \\\n",
       "0           NaN           NaN           NaN           NaN           NaN   \n",
       "1           NaN           NaN           NaN           NaN           NaN   \n",
       "2           NaN           NaN           NaN           NaN           NaN   \n",
       "3           NaN           NaN           NaN           NaN           NaN   \n",
       "4     -0.003471      0.005899     -0.003739     -0.001896     -0.002869   \n",
       "\n",
       "   PC37_loading  PC38_loading  PC9_loading.3  PC40_loading  in_Phasing_Input  \n",
       "0           NaN           NaN            NaN           NaN                 0  \n",
       "1           NaN           NaN            NaN           NaN                 0  \n",
       "2           NaN           NaN            NaN           NaN                 0  \n",
       "3           NaN           NaN            NaN           NaN                 1  \n",
       "4      0.000792      -0.00191       0.003075     -0.000411                 1  \n",
       "\n",
       "[5 rows x 159 columns]"
      ]
     },
     "execution_count": 7,
     "metadata": {},
     "output_type": "execute_result"
    }
   ],
   "source": [
    "check_df(snp_auto_df)"
   ]
  },
  {
   "cell_type": "code",
   "execution_count": 8,
   "metadata": {},
   "outputs": [],
   "source": [
    "Batch_UKBB = [x for x in snp_df.columns if x[:6] == 'Batch_']\n",
    "Batch_UKBiLEVEAX = [x for x in snp_df.columns if x[:11] == 'UKBiLEVEAX_']"
   ]
  },
  {
   "cell_type": "markdown",
   "metadata": {},
   "source": [
    "### count"
   ]
  },
  {
   "cell_type": "code",
   "execution_count": 9,
   "metadata": {
    "collapsed": true
   },
   "outputs": [],
   "source": [
    "is_in_UKBiLEVEAX = snp_auto_df[Batch_UKBiLEVEAX[0]] > 0\n",
    "for i in range(1, len(Batch_UKBiLEVEAX)):\n",
    "    is_in_UKBiLEVEAX = is_in_UKBiLEVEAX | (snp_auto_df[Batch_UKBiLEVEAX[i]] > 0)"
   ]
  },
  {
   "cell_type": "code",
   "execution_count": 10,
   "metadata": {},
   "outputs": [
    {
     "data": {
      "text/plain": [
       "Counter({False: 442, True: 783814})"
      ]
     },
     "execution_count": 10,
     "metadata": {},
     "output_type": "execute_result"
    }
   ],
   "source": [
    "cl.Counter(is_in_UKBiLEVEAX)"
   ]
  },
  {
   "cell_type": "code",
   "execution_count": 11,
   "metadata": {
    "collapsed": true
   },
   "outputs": [],
   "source": [
    "is_in_UKBB = snp_auto_df[Batch_UKBB[0]] > 0\n",
    "for i in range(1, len(Batch_UKBB)):\n",
    "    is_in_UKBB = is_in_UKBB | (snp_auto_df[Batch_UKBB[i]] > 0)"
   ]
  },
  {
   "cell_type": "code",
   "execution_count": 12,
   "metadata": {},
   "outputs": [
    {
     "data": {
      "text/plain": [
       "Counter({True: 784256})"
      ]
     },
     "execution_count": 12,
     "metadata": {},
     "output_type": "execute_result"
    }
   ],
   "source": [
    "cl.Counter(is_in_UKBB)"
   ]
  },
  {
   "cell_type": "code",
   "execution_count": 13,
   "metadata": {
    "collapsed": true
   },
   "outputs": [],
   "source": [
    "is_all_in_UKBiLEVEAX = snp_auto_df[Batch_UKBiLEVEAX[0]] > 0\n",
    "for i in range(1, len(Batch_UKBiLEVEAX)):\n",
    "    is_all_in_UKBiLEVEAX = is_all_in_UKBiLEVEAX & (snp_auto_df[Batch_UKBiLEVEAX[i]] > 0)"
   ]
  },
  {
   "cell_type": "code",
   "execution_count": 14,
   "metadata": {},
   "outputs": [
    {
     "data": {
      "text/plain": [
       "Counter({False: 12014, True: 772242})"
      ]
     },
     "execution_count": 14,
     "metadata": {},
     "output_type": "execute_result"
    }
   ],
   "source": [
    "cl.Counter(is_all_in_UKBiLEVEAX)"
   ]
  },
  {
   "cell_type": "code",
   "execution_count": 15,
   "metadata": {
    "collapsed": true
   },
   "outputs": [],
   "source": [
    "is_all_in_UKBB = snp_auto_df[Batch_UKBB[0]] > 0\n",
    "for i in range(1, len(Batch_UKBB)):\n",
    "    is_all_in_UKBB = is_all_in_UKBB & (snp_auto_df[Batch_UKBB[i]] > 0)"
   ]
  },
  {
   "cell_type": "code",
   "execution_count": 16,
   "metadata": {},
   "outputs": [
    {
     "data": {
      "text/plain": [
       "Counter({False: 43349, True: 740907})"
      ]
     },
     "execution_count": 16,
     "metadata": {},
     "output_type": "execute_result"
    }
   ],
   "source": [
    "cl.Counter(is_all_in_UKBB)"
   ]
  },
  {
   "cell_type": "markdown",
   "metadata": {},
   "source": [
    "## examine some examples"
   ]
  },
  {
   "cell_type": "code",
   "execution_count": 17,
   "metadata": {},
   "outputs": [
    {
     "data": {
      "text/html": [
       "<div>\n",
       "<table border=\"1\" class=\"dataframe\">\n",
       "  <thead>\n",
       "    <tr style=\"text-align: right;\">\n",
       "      <th></th>\n",
       "      <th>rs_id</th>\n",
       "      <th>affymetrix_snp_id</th>\n",
       "      <th>affymetrix_probeset_id</th>\n",
       "      <th>chromosome</th>\n",
       "      <th>position</th>\n",
       "      <th>allele1_ref</th>\n",
       "      <th>allele2_alt</th>\n",
       "      <th>strand</th>\n",
       "      <th>array</th>\n",
       "      <th>Batch_b001_qc</th>\n",
       "      <th>...</th>\n",
       "      <th>PC32_loading</th>\n",
       "      <th>PC33_loading</th>\n",
       "      <th>PC34_loading</th>\n",
       "      <th>PC35_loading</th>\n",
       "      <th>PC36_loading</th>\n",
       "      <th>PC37_loading</th>\n",
       "      <th>PC38_loading</th>\n",
       "      <th>PC9_loading.3</th>\n",
       "      <th>PC40_loading</th>\n",
       "      <th>in_Phasing_Input</th>\n",
       "    </tr>\n",
       "  </thead>\n",
       "  <tbody>\n",
       "    <tr>\n",
       "      <th>15459</th>\n",
       "      <td>Affx-86888522</td>\n",
       "      <td>Affx-86888522</td>\n",
       "      <td>AX-90025726</td>\n",
       "      <td>1</td>\n",
       "      <td>45796895</td>\n",
       "      <td>C</td>\n",
       "      <td>A</td>\n",
       "      <td>+</td>\n",
       "      <td>0</td>\n",
       "      <td>1</td>\n",
       "      <td>...</td>\n",
       "      <td>NaN</td>\n",
       "      <td>NaN</td>\n",
       "      <td>NaN</td>\n",
       "      <td>NaN</td>\n",
       "      <td>NaN</td>\n",
       "      <td>NaN</td>\n",
       "      <td>NaN</td>\n",
       "      <td>NaN</td>\n",
       "      <td>NaN</td>\n",
       "      <td>0</td>\n",
       "    </tr>\n",
       "  </tbody>\n",
       "</table>\n",
       "<p>1 rows × 159 columns</p>\n",
       "</div>"
      ],
      "text/plain": [
       "               rs_id affymetrix_snp_id affymetrix_probeset_id  chromosome  \\\n",
       "15459  Affx-86888522     Affx-86888522            AX-90025726           1   \n",
       "\n",
       "       position allele1_ref allele2_alt strand  array  Batch_b001_qc  \\\n",
       "15459  45796895           C           A      +      0              1   \n",
       "\n",
       "             ...         PC32_loading  PC33_loading  PC34_loading  \\\n",
       "15459        ...                  NaN           NaN           NaN   \n",
       "\n",
       "       PC35_loading  PC36_loading  PC37_loading  PC38_loading  PC9_loading.3  \\\n",
       "15459           NaN           NaN           NaN           NaN            NaN   \n",
       "\n",
       "       PC40_loading  in_Phasing_Input  \n",
       "15459           NaN                 0  \n",
       "\n",
       "[1 rows x 159 columns]"
      ]
     },
     "execution_count": 17,
     "metadata": {},
     "output_type": "execute_result"
    }
   ],
   "source": [
    "snp_df[snp_df.affymetrix_snp_id == 'Affx-86888522']"
   ]
  },
  {
   "cell_type": "code",
   "execution_count": 18,
   "metadata": {},
   "outputs": [
    {
     "data": {
      "text/plain": [
       "(True, True, True, True)"
      ]
     },
     "execution_count": 18,
     "metadata": {},
     "output_type": "execute_result"
    }
   ],
   "source": [
    "is_in_UKBB[15459], is_in_UKBiLEVEAX[15459], is_all_in_UKBB[15459], is_all_in_UKBiLEVEAX[15459]"
   ]
  },
  {
   "cell_type": "markdown",
   "metadata": {},
   "source": [
    "## plot QC pass rate for each batch"
   ]
  },
  {
   "cell_type": "code",
   "execution_count": 19,
   "metadata": {},
   "outputs": [],
   "source": [
    "Batch_UKBB_pass_QC_rate_per_batch = [\n",
    "    np.sum(snp_auto_df[Batch_UKBB[i]] > 0) / len(snp_auto_df) \n",
    "    for i in range(len(Batch_UKBB))\n",
    "]\n",
    "Batch_UKBiLEVEAX_pass_QC_rate_per_batch = [\n",
    "    np.sum(snp_auto_df[Batch_UKBiLEVEAX[i]] > 0) / len(snp_auto_df) \n",
    "    for i in range(len(Batch_UKBiLEVEAX))\n",
    "]"
   ]
  },
  {
   "cell_type": "code",
   "execution_count": 20,
   "metadata": {},
   "outputs": [
    {
     "data": {
      "image/png": "[encoded data removed]",
      "text/plain": [
       "<matplotlib.figure.Figure at 0x7f043624ee48>"
      ]
     },
     "metadata": {},
     "output_type": "display_data"
    }
   ],
   "source": [
    "fig = plt.figure(figsize=(12, 7))\n",
    "gs = gridspec.GridSpec(2, 1)\n",
    "axs = [fig.add_subplot(ss) for ss in gs]\n",
    "axs[0].bar(range(1, len(Batch_UKBB_pass_QC_rate_per_batch) + 1), \n",
    "            Batch_UKBB_pass_QC_rate_per_batch)\n",
    "axs[1].bar(range(1, len(Batch_UKBiLEVEAX_pass_QC_rate_per_batch) + 1), \n",
    "            Batch_UKBiLEVEAX_pass_QC_rate_per_batch)\n",
    "for ax in axs:\n",
    "    ax.set_ylim([0.99, 1])\n",
    "    ax.set_ylabel('QC pass rate')\n",
    "    ax.set_xlabel('batch')\n",
    "axs[0].set_title('UKBB')\n",
    "axs[1].set_title('UKBiLEVEAX')\n",
    "# fig.suptitle('')\n",
    "gs.tight_layout(fig, rect=[0, 0, 1, 1])\n",
    "# fig.savefig('./fig.png')"
   ]
  },
  {
   "cell_type": "code",
   "execution_count": null,
   "metadata": {
    "collapsed": true
   },
   "outputs": [],
   "source": []
  }
 ],
 "metadata": {
  "kernelspec": {
   "display_name": "Python 3",
   "language": "python",
   "name": "python3"
  },
  "language_info": {
   "codemirror_mode": {
    "name": "ipython",
    "version": 3
   },
   "file_extension": ".py",
   "mimetype": "text/x-python",
   "name": "python",
   "nbconvert_exporter": "python",
   "pygments_lexer": "ipython3",
   "version": "3.6.5"
  }
 },
 "nbformat": 4,
 "nbformat_minor": 2
}
