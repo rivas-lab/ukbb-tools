{
 "cells": [
  {
   "cell_type": "code",
   "execution_count": 1,
   "metadata": {},
   "outputs": [],
   "source": [
    "import collections\n",
    "from functools import reduce\n",
    "\n",
    "\n",
    "import numpy as np\n",
    "import pandas as pd"
   ]
  },
  {
   "cell_type": "code",
   "execution_count": 2,
   "metadata": {},
   "outputs": [],
   "source": [
    "statins =[\n",
    "    'MED1140861958',\n",
    "    'MED1140888594',\n",
    "    'MED1140888648',\n",
    "    'MED1141146234',\n",
    "    'MED1141192410',\n",
    "    'MED1141146138',\n",
    "    'MED1140861922'    \n",
    "]"
   ]
  },
  {
   "cell_type": "code",
   "execution_count": 3,
   "metadata": {},
   "outputs": [
    {
     "name": "stdout",
     "output_type": "stream",
     "text": [
      "MED1140861958\n",
      "MED1140888594\n",
      "MED1140888648\n",
      "MED1141146234\n",
      "MED1141192410\n",
      "MED1141146138\n",
      "MED1140861922\n"
     ]
    }
   ],
   "source": [
    "statins_df = dict()\n",
    "for i in statins:\n",
    "    print(i)\n",
    "    statins_df[i] = pd.read_csv(\n",
    "        'statin_phes/{}.phe'.format(i), sep='\\t',\n",
    "        low_memory=False,\n",
    "        usecols=[1,2]\n",
    "    )\n",
    "    statins_df[i]['IID'] = statins_df[i]['IID'].map(lambda x: str(x))\n",
    "    statins_df[i][i] = statins_df[i][i].map(lambda x: int(x))"
   ]
  },
  {
   "cell_type": "code",
   "execution_count": 4,
   "metadata": {},
   "outputs": [],
   "source": [
    "merged_df = statins_df[statins[0]].merge(\n",
    "    statins_df[statins[1]], on='IID', how='left'\n",
    ").merge(\n",
    "    statins_df[statins[2]], on='IID', how='left'\n",
    ").merge(\n",
    "    statins_df[statins[3]], on='IID', how='left'\n",
    ").merge(\n",
    "    statins_df[statins[4]], on='IID', how='left'\n",
    ").merge(\n",
    "    statins_df[statins[5]], on='IID', how='left'\n",
    ").merge(\n",
    "    statins_df[statins[6]], on='IID', how='left'\n",
    ").fillna(-9)"
   ]
  },
  {
   "cell_type": "code",
   "execution_count": 5,
   "metadata": {},
   "outputs": [],
   "source": [
    "for i in statins:\n",
    "    merged_df[i] = merged_df[i].map(lambda x: int(x))"
   ]
  },
  {
   "cell_type": "code",
   "execution_count": 6,
   "metadata": {},
   "outputs": [],
   "source": [
    "merged_df = merged_df[merged_df['IID'] != 'FID']"
   ]
  },
  {
   "cell_type": "code",
   "execution_count": 7,
   "metadata": {},
   "outputs": [],
   "source": [
    "def aggregate_phe(p0, p1):\n",
    "    case    = ((p0 == 2)  | (p1 == 2))\n",
    "    missing = ((p0 == -9) & (p1 == -9))\n",
    "    control = np.invert((case | missing))\n",
    "    return (np.where(case, 2, 0) + np.where(control, 1, 0) + np.where(missing, -9, 0))\n"
   ]
  },
  {
   "cell_type": "code",
   "execution_count": 11,
   "metadata": {},
   "outputs": [],
   "source": [
    "phe_mat = merged_df[statins].values"
   ]
  },
  {
   "cell_type": "code",
   "execution_count": 12,
   "metadata": {},
   "outputs": [],
   "source": [
    "phe_vec = aggregate_phe(\n",
    "    aggregate_phe(\n",
    "        aggregate_phe(\n",
    "            phe_mat[:, 0], \n",
    "            phe_mat[:, 1]\n",
    "        ),\n",
    "        aggregate_phe(\n",
    "            phe_mat[:, 2], \n",
    "            phe_mat[:, 3]\n",
    "        ),        \n",
    "    ), \n",
    "    aggregate_phe(\n",
    "        aggregate_phe(\n",
    "            phe_mat[:, 4], \n",
    "            phe_mat[:, 5]\n",
    "        ),\n",
    "        phe_mat[:, 6], \n",
    "    ), \n",
    ")"
   ]
  },
  {
   "cell_type": "code",
   "execution_count": 13,
   "metadata": {},
   "outputs": [
    {
     "data": {
      "text/plain": [
       "Counter({1: 416478, -9: 14262, 2: 86144})"
      ]
     },
     "execution_count": 13,
     "metadata": {},
     "output_type": "execute_result"
    }
   ],
   "source": [
    "collections.Counter(list(phe_vec))"
   ]
  },
  {
   "cell_type": "code",
   "execution_count": 16,
   "metadata": {},
   "outputs": [],
   "source": [
    "df = pd.DataFrame(collections.OrderedDict([\n",
    "    ('#FID', merged_df['IID']),\n",
    "    ('IID',  merged_df['IID']),\n",
    "    ('statin', phe_vec)\n",
    "]))"
   ]
  },
  {
   "cell_type": "code",
   "execution_count": 17,
   "metadata": {},
   "outputs": [],
   "source": [
    "df.to_csv('statin_phes/statin.phe', sep='\\t', index=False)"
   ]
  },
  {
   "cell_type": "code",
   "execution_count": null,
   "metadata": {},
   "outputs": [],
   "source": []
  }
 ],
 "metadata": {
  "kernelspec": {
   "display_name": "Python 3",
   "language": "python",
   "name": "python3"
  },
  "language_info": {
   "codemirror_mode": {
    "name": "ipython",
    "version": 3
   },
   "file_extension": ".py",
   "mimetype": "text/x-python",
   "name": "python",
   "nbconvert_exporter": "python",
   "pygments_lexer": "ipython3",
   "version": "3.6.8"
  }
 },
 "nbformat": 4,
 "nbformat_minor": 2
}
