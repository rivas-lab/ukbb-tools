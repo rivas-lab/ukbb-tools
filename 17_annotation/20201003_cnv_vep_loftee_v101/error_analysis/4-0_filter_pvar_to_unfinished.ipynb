{
 "cells": [
  {
   "cell_type": "code",
   "execution_count": 1,
   "metadata": {},
   "outputs": [],
   "source": [
    "suppressWarnings(suppressPackageStartupMessages({\n",
    "    library(tidyverse)\n",
    "    library(data.table)\n",
    "}))\n"
   ]
  },
  {
   "cell_type": "code",
   "execution_count": 2,
   "metadata": {},
   "outputs": [],
   "source": [
    "pvar_in  <- '/oak/stanford/groups/mrivas/ukbb24983/cnv/pgen/cnv.pvar'\n",
    "partial_res_f <- '/scratch/groups/mrivas/ukbb24983/cnv/annotation_20201003/cnv.20201006.176677vars.vep101-loftee.tsv.gz'\n",
    "pvar_out <- file.path(dirname(partial_res_f), 'cnv.20201006.unfinished.pvar')\n"
   ]
  },
  {
   "cell_type": "code",
   "execution_count": 3,
   "metadata": {},
   "outputs": [],
   "source": [
    "partial_res_f %>%\n",
    "fread(select=c('ID')) %>%\n",
    "pull() -> IDs\n"
   ]
  },
  {
   "cell_type": "code",
   "execution_count": 4,
   "metadata": {},
   "outputs": [
    {
     "data": {
      "text/html": [
       "176677"
      ],
      "text/latex": [
       "176677"
      ],
      "text/markdown": [
       "176677"
      ],
      "text/plain": [
       "[1] 176677"
      ]
     },
     "metadata": {},
     "output_type": "display_data"
    }
   ],
   "source": [
    "length(IDs)\n"
   ]
  },
  {
   "cell_type": "code",
   "execution_count": 5,
   "metadata": {},
   "outputs": [],
   "source": [
    "pvar_in %>%\n",
    "fread(colClasses = 'character') %>%\n",
    "filter(!ID %in% IDs) %>%\n",
    "fwrite(pvar_out, sep='\\t', na = \"NA\", quote=F)\n"
   ]
  },
  {
   "cell_type": "code",
   "execution_count": null,
   "metadata": {},
   "outputs": [],
   "source": []
  }
 ],
 "metadata": {
  "kernelspec": {
   "display_name": "R",
   "language": "R",
   "name": "ir"
  },
  "language_info": {
   "codemirror_mode": "r",
   "file_extension": ".r",
   "mimetype": "text/x-r-source",
   "name": "R",
   "pygments_lexer": "r",
   "version": "3.6.2"
  }
 },
 "nbformat": 4,
 "nbformat_minor": 4
}
