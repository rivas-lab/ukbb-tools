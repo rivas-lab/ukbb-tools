{
 "cells": [
  {
   "cell_type": "code",
   "execution_count": 1,
   "metadata": {},
   "outputs": [],
   "source": [
    "suppressWarnings(suppressPackageStartupMessages({\n",
    "    library(tidyverse)\n",
    "    library(data.table)\n",
    "}))\n"
   ]
  },
  {
   "cell_type": "code",
   "execution_count": 23,
   "metadata": {},
   "outputs": [],
   "source": [
    "# input\n",
    "pvar_f   <- '/oak/stanford/groups/mrivas/ukbb24983/cnv/pgen/cnv.pvar'\n",
    "csq_rules_f <- '../VEP_consequence_group.tsv'\n",
    "vep_f    <- '/scratch/groups/mrivas/ukbb24983/cnv/annotation_20201003/cnv.vep101-loftee.20201009.tsv.gz'\n",
    "# output\n",
    "vep_csq_f <- str_replace(vep_f, '.tsv.gz$', '.Csq.tsv')\n"
   ]
  },
  {
   "cell_type": "code",
   "execution_count": 3,
   "metadata": {},
   "outputs": [],
   "source": [
    "csq_rules_f %>% fread(select=c('#Consequence', 'Csq')) %>%\n",
    "rename('Consequence'='#Consequence') -> csq_rules_df\n"
   ]
  },
  {
   "cell_type": "code",
   "execution_count": 4,
   "metadata": {},
   "outputs": [],
   "source": [
    "vep_f %>% fread(colClasses = c('#CHROM'='character')) %>%\n",
    "rename('CHROM'='#CHROM') -> vep_df\n"
   ]
  },
  {
   "cell_type": "code",
   "execution_count": 16,
   "metadata": {},
   "outputs": [],
   "source": [
    "pvar_f %>% fread(colClasses = c('#CHROM'='character')) %>% rename('CHROM'='#CHROM') %>%\n",
    "separate(ID, c(NA, 'POS_s', 'POS_e', NA), remove=F) %>%\n",
    "mutate(pvar_order = 1:n()) -> pvar_df\n"
   ]
  },
  {
   "cell_type": "code",
   "execution_count": 25,
   "metadata": {},
   "outputs": [],
   "source": [
    "pvar_df %>%\n",
    "left_join(vep_df %>% select(-CHROM, -POS), by='ID') %>%\n",
    "left_join(csq_rules_df, by='Consequence') %>%\n",
    "arrange(as.numeric(CHROM), as.numeric(POS_s), as.numeric(POS_e), pvar_order) %>%\n",
    "select(-FILTER) -> df\n"
   ]
  },
  {
   "cell_type": "code",
   "execution_count": 26,
   "metadata": {},
   "outputs": [],
   "source": [
    "df %>%\n",
    "rename('#CHROM' = 'CHROM') %>%\n",
    "fwrite(vep_csq_f, sep='\\t', na = \"NA\", quote=F)\n"
   ]
  },
  {
   "cell_type": "markdown",
   "metadata": {},
   "source": [
    "## check the `Csq` assignments"
   ]
  },
  {
   "cell_type": "code",
   "execution_count": 21,
   "metadata": {},
   "outputs": [
    {
     "data": {
      "text/html": [
       "<table>\n",
       "<caption>A data.table: 7 × 2</caption>\n",
       "<thead>\n",
       "\t<tr><th scope=col>Csq</th><th scope=col>n</th></tr>\n",
       "\t<tr><th scope=col>&lt;chr&gt;</th><th scope=col>&lt;int&gt;</th></tr>\n",
       "</thead>\n",
       "<tbody>\n",
       "\t<tr><td>intron</td><td> 54188</td></tr>\n",
       "\t<tr><td>others</td><td> 64440</td></tr>\n",
       "\t<tr><td>pav   </td><td>  1143</td></tr>\n",
       "\t<tr><td>pcv   </td><td>   774</td></tr>\n",
       "\t<tr><td>ptv   </td><td>152268</td></tr>\n",
       "\t<tr><td>utr   </td><td>  2117</td></tr>\n",
       "\t<tr><td>NA    </td><td>   250</td></tr>\n",
       "</tbody>\n",
       "</table>\n"
      ],
      "text/latex": [
       "A data.table: 7 × 2\n",
       "\\begin{tabular}{ll}\n",
       " Csq & n\\\\\n",
       " <chr> & <int>\\\\\n",
       "\\hline\n",
       "\t intron &  54188\\\\\n",
       "\t others &  64440\\\\\n",
       "\t pav    &   1143\\\\\n",
       "\t pcv    &    774\\\\\n",
       "\t ptv    & 152268\\\\\n",
       "\t utr    &   2117\\\\\n",
       "\t NA     &    250\\\\\n",
       "\\end{tabular}\n"
      ],
      "text/markdown": [
       "\n",
       "A data.table: 7 × 2\n",
       "\n",
       "| Csq &lt;chr&gt; | n &lt;int&gt; |\n",
       "|---|---|\n",
       "| intron |  54188 |\n",
       "| others |  64440 |\n",
       "| pav    |   1143 |\n",
       "| pcv    |    774 |\n",
       "| ptv    | 152268 |\n",
       "| utr    |   2117 |\n",
       "| NA     |    250 |\n",
       "\n"
      ],
      "text/plain": [
       "  Csq    n     \n",
       "1 intron  54188\n",
       "2 others  64440\n",
       "3 pav      1143\n",
       "4 pcv       774\n",
       "5 ptv    152268\n",
       "6 utr      2117\n",
       "7 NA        250"
      ]
     },
     "metadata": {},
     "output_type": "display_data"
    }
   ],
   "source": [
    "df %>% count(Csq)"
   ]
  },
  {
   "cell_type": "markdown",
   "metadata": {},
   "source": [
    "We do not have variant annotation for 250 variants.\n"
   ]
  },
  {
   "cell_type": "code",
   "execution_count": 22,
   "metadata": {},
   "outputs": [
    {
     "data": {
      "text/html": [
       "<table>\n",
       "<caption>A data.table: 25 × 3</caption>\n",
       "<thead>\n",
       "\t<tr><th scope=col>Consequence</th><th scope=col>n</th><th scope=col>Csq</th></tr>\n",
       "\t<tr><th scope=col>&lt;chr&gt;</th><th scope=col>&lt;int&gt;</th><th scope=col>&lt;chr&gt;</th></tr>\n",
       "</thead>\n",
       "<tbody>\n",
       "\t<tr><td>intron_variant                    </td><td> 54188</td><td>intron</td></tr>\n",
       "\t<tr><td>intergenic_variant                </td><td> 24390</td><td>others</td></tr>\n",
       "\t<tr><td>TFBS_ablation                     </td><td> 16525</td><td>others</td></tr>\n",
       "\t<tr><td>upstream_gene_variant             </td><td>  7583</td><td>others</td></tr>\n",
       "\t<tr><td>downstream_gene_variant           </td><td>  5395</td><td>others</td></tr>\n",
       "\t<tr><td>regulatory_region_ablation        </td><td>  3974</td><td>others</td></tr>\n",
       "\t<tr><td>non_coding_transcript_exon_variant</td><td>  3458</td><td>others</td></tr>\n",
       "\t<tr><td>regulatory_region_variant         </td><td>  2880</td><td>others</td></tr>\n",
       "\t<tr><td>TF_binding_site_variant           </td><td>   222</td><td>others</td></tr>\n",
       "\t<tr><td>mature_miRNA_variant              </td><td>    13</td><td>others</td></tr>\n",
       "\t<tr><td>splice_region_variant             </td><td>  1073</td><td>pav   </td></tr>\n",
       "\t<tr><td>inframe_insertion                 </td><td>    41</td><td>pav   </td></tr>\n",
       "\t<tr><td>inframe_deletion                  </td><td>    18</td><td>pav   </td></tr>\n",
       "\t<tr><td>protein_altering_variant          </td><td>    11</td><td>pav   </td></tr>\n",
       "\t<tr><td>coding_sequence_variant           </td><td>   772</td><td>pcv   </td></tr>\n",
       "\t<tr><td>stop_retained_variant             </td><td>     2</td><td>pcv   </td></tr>\n",
       "\t<tr><td>transcript_ablation               </td><td>103617</td><td>ptv   </td></tr>\n",
       "\t<tr><td>splice_acceptor_variant           </td><td> 24930</td><td>ptv   </td></tr>\n",
       "\t<tr><td>stop_gained                       </td><td> 17867</td><td>ptv   </td></tr>\n",
       "\t<tr><td>splice_donor_variant              </td><td>  4102</td><td>ptv   </td></tr>\n",
       "\t<tr><td>frameshift_variant                </td><td>  1422</td><td>ptv   </td></tr>\n",
       "\t<tr><td>stop_lost                         </td><td>   326</td><td>ptv   </td></tr>\n",
       "\t<tr><td>start_lost                        </td><td>     4</td><td>ptv   </td></tr>\n",
       "\t<tr><td>3_prime_UTR_variant               </td><td>  1511</td><td>utr   </td></tr>\n",
       "\t<tr><td>5_prime_UTR_variant               </td><td>   606</td><td>utr   </td></tr>\n",
       "</tbody>\n",
       "</table>\n"
      ],
      "text/latex": [
       "A data.table: 25 × 3\n",
       "\\begin{tabular}{lll}\n",
       " Consequence & n & Csq\\\\\n",
       " <chr> & <int> & <chr>\\\\\n",
       "\\hline\n",
       "\t intron\\_variant                     &  54188 & intron\\\\\n",
       "\t intergenic\\_variant                 &  24390 & others\\\\\n",
       "\t TFBS\\_ablation                      &  16525 & others\\\\\n",
       "\t upstream\\_gene\\_variant              &   7583 & others\\\\\n",
       "\t downstream\\_gene\\_variant            &   5395 & others\\\\\n",
       "\t regulatory\\_region\\_ablation         &   3974 & others\\\\\n",
       "\t non\\_coding\\_transcript\\_exon\\_variant &   3458 & others\\\\\n",
       "\t regulatory\\_region\\_variant          &   2880 & others\\\\\n",
       "\t TF\\_binding\\_site\\_variant            &    222 & others\\\\\n",
       "\t mature\\_miRNA\\_variant               &     13 & others\\\\\n",
       "\t splice\\_region\\_variant              &   1073 & pav   \\\\\n",
       "\t inframe\\_insertion                  &     41 & pav   \\\\\n",
       "\t inframe\\_deletion                   &     18 & pav   \\\\\n",
       "\t protein\\_altering\\_variant           &     11 & pav   \\\\\n",
       "\t coding\\_sequence\\_variant            &    772 & pcv   \\\\\n",
       "\t stop\\_retained\\_variant              &      2 & pcv   \\\\\n",
       "\t transcript\\_ablation                & 103617 & ptv   \\\\\n",
       "\t splice\\_acceptor\\_variant            &  24930 & ptv   \\\\\n",
       "\t stop\\_gained                        &  17867 & ptv   \\\\\n",
       "\t splice\\_donor\\_variant               &   4102 & ptv   \\\\\n",
       "\t frameshift\\_variant                 &   1422 & ptv   \\\\\n",
       "\t stop\\_lost                          &    326 & ptv   \\\\\n",
       "\t start\\_lost                         &      4 & ptv   \\\\\n",
       "\t 3\\_prime\\_UTR\\_variant                &   1511 & utr   \\\\\n",
       "\t 5\\_prime\\_UTR\\_variant                &    606 & utr   \\\\\n",
       "\\end{tabular}\n"
      ],
      "text/markdown": [
       "\n",
       "A data.table: 25 × 3\n",
       "\n",
       "| Consequence &lt;chr&gt; | n &lt;int&gt; | Csq &lt;chr&gt; |\n",
       "|---|---|---|\n",
       "| intron_variant                     |  54188 | intron |\n",
       "| intergenic_variant                 |  24390 | others |\n",
       "| TFBS_ablation                      |  16525 | others |\n",
       "| upstream_gene_variant              |   7583 | others |\n",
       "| downstream_gene_variant            |   5395 | others |\n",
       "| regulatory_region_ablation         |   3974 | others |\n",
       "| non_coding_transcript_exon_variant |   3458 | others |\n",
       "| regulatory_region_variant          |   2880 | others |\n",
       "| TF_binding_site_variant            |    222 | others |\n",
       "| mature_miRNA_variant               |     13 | others |\n",
       "| splice_region_variant              |   1073 | pav    |\n",
       "| inframe_insertion                  |     41 | pav    |\n",
       "| inframe_deletion                   |     18 | pav    |\n",
       "| protein_altering_variant           |     11 | pav    |\n",
       "| coding_sequence_variant            |    772 | pcv    |\n",
       "| stop_retained_variant              |      2 | pcv    |\n",
       "| transcript_ablation                | 103617 | ptv    |\n",
       "| splice_acceptor_variant            |  24930 | ptv    |\n",
       "| stop_gained                        |  17867 | ptv    |\n",
       "| splice_donor_variant               |   4102 | ptv    |\n",
       "| frameshift_variant                 |   1422 | ptv    |\n",
       "| stop_lost                          |    326 | ptv    |\n",
       "| start_lost                         |      4 | ptv    |\n",
       "| 3_prime_UTR_variant                |   1511 | utr    |\n",
       "| 5_prime_UTR_variant                |    606 | utr    |\n",
       "\n"
      ],
      "text/plain": [
       "   Consequence                        n      Csq   \n",
       "1  intron_variant                      54188 intron\n",
       "2  intergenic_variant                  24390 others\n",
       "3  TFBS_ablation                       16525 others\n",
       "4  upstream_gene_variant                7583 others\n",
       "5  downstream_gene_variant              5395 others\n",
       "6  regulatory_region_ablation           3974 others\n",
       "7  non_coding_transcript_exon_variant   3458 others\n",
       "8  regulatory_region_variant            2880 others\n",
       "9  TF_binding_site_variant               222 others\n",
       "10 mature_miRNA_variant                   13 others\n",
       "11 splice_region_variant                1073 pav   \n",
       "12 inframe_insertion                      41 pav   \n",
       "13 inframe_deletion                       18 pav   \n",
       "14 protein_altering_variant               11 pav   \n",
       "15 coding_sequence_variant               772 pcv   \n",
       "16 stop_retained_variant                   2 pcv   \n",
       "17 transcript_ablation                103617 ptv   \n",
       "18 splice_acceptor_variant             24930 ptv   \n",
       "19 stop_gained                         17867 ptv   \n",
       "20 splice_donor_variant                 4102 ptv   \n",
       "21 frameshift_variant                   1422 ptv   \n",
       "22 stop_lost                             326 ptv   \n",
       "23 start_lost                              4 ptv   \n",
       "24 3_prime_UTR_variant                  1511 utr   \n",
       "25 5_prime_UTR_variant                   606 utr   "
      ]
     },
     "metadata": {},
     "output_type": "display_data"
    }
   ],
   "source": [
    "vep_df %>%\n",
    "count(Consequence) %>%\n",
    "left_join(csq_rules_df, by='Consequence') %>%\n",
    "arrange(Csq, -n)"
   ]
  },
  {
   "cell_type": "code",
   "execution_count": null,
   "metadata": {},
   "outputs": [],
   "source": []
  }
 ],
 "metadata": {
  "kernelspec": {
   "display_name": "R",
   "language": "R",
   "name": "ir"
  },
  "language_info": {
   "codemirror_mode": "r",
   "file_extension": ".r",
   "mimetype": "text/x-r-source",
   "name": "R",
   "pygments_lexer": "r",
   "version": "3.6.2"
  }
 },
 "nbformat": 4,
 "nbformat_minor": 4
}
