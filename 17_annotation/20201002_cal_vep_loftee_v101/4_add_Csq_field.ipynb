{
 "cells": [
  {
   "cell_type": "code",
   "execution_count": 1,
   "metadata": {},
   "outputs": [],
   "source": [
    "suppressWarnings(suppressPackageStartupMessages({\n",
    "    library(tidyverse)\n",
    "    library(data.table)\n",
    "}))\n"
   ]
  },
  {
   "cell_type": "code",
   "execution_count": 69,
   "metadata": {},
   "outputs": [],
   "source": [
    "# input\n",
    "pvar_f   <- '/oak/stanford/groups/mrivas/ukbb24983/cal/pgen/ukb24983_cal_cALL_v2_hg19.pvar'\n",
    "csq_rules_f <- 'VEP_consequence_group.annotated.tsv'\n",
    "vep_f    <- '/scratch/groups/mrivas/ukbb24983/cal/annotation_20201002/ukb24983_cal_cALL_v2_hg19.vep101-loftee.tsv.gz'\n",
    "# output\n",
    "vep_csq_f <- '/scratch/groups/mrivas/ukbb24983/cal/annotation_20201002/ukb24983_cal_cALL_v2_hg19.vep101-loftee.Csq.tsv'\n"
   ]
  },
  {
   "cell_type": "code",
   "execution_count": 10,
   "metadata": {},
   "outputs": [],
   "source": [
    "pvar_f %>% fread(colClasses = c('#CHROM'='character')) %>%\n",
    "rename('CHROM'='#CHROM') %>% mutate(pvar_order = 1:n()) -> pvar_df\n"
   ]
  },
  {
   "cell_type": "code",
   "execution_count": 19,
   "metadata": {},
   "outputs": [],
   "source": [
    "csq_rules_f %>% fread(select=c('#Consequence', 'Csq')) %>%\n",
    "rename('Consequence'='#Consequence') -> csq_rules_df\n"
   ]
  },
  {
   "cell_type": "code",
   "execution_count": 4,
   "metadata": {},
   "outputs": [],
   "source": [
    "vep_f %>% fread(colClasses = c('#CHROM'='character')) %>% rename('CHROM'='#CHROM') -> vep_df\n"
   ]
  },
  {
   "cell_type": "code",
   "execution_count": 66,
   "metadata": {},
   "outputs": [],
   "source": [
    "pvar_df %>%\n",
    "mutate(CHROM_vep = paste0('chr', str_replace(str_replace(CHROM, 'XY', 'X'), 'MT', 'M'))) %>%\n",
    "left_join(\n",
    "    vep_df %>% rename('CHROM_vep'='CHROM'),\n",
    "    by=c('CHROM_vep', 'POS', 'REF', 'ALT')\n",
    ") %>%\n",
    "left_join(csq_rules_df, by='Consequence') %>%\n",
    "arrange(pvar_order) %>%\n",
    "select(-CHROM_vep, -FILTER, -pvar_order) -> df"
   ]
  },
  {
   "cell_type": "code",
   "execution_count": 70,
   "metadata": {},
   "outputs": [],
   "source": [
    "df %>%\n",
    "rename('#CHROM' = 'CHROM') %>%\n",
    "fwrite(vep_csq_f, sep='\\t', na = \"NA\", quote=F)\n"
   ]
  },
  {
   "cell_type": "code",
   "execution_count": 72,
   "metadata": {},
   "outputs": [
    {
     "data": {
      "text/html": [
       "<style>\n",
       ".list-inline {list-style: none; margin:0; padding: 0}\n",
       ".list-inline>li {display: inline-block}\n",
       ".list-inline>li:not(:last-child)::after {content: \"\\00b7\"; padding: 0 .5ex}\n",
       "</style>\n",
       "<ol class=list-inline><li>'intron'</li><li>'others'</li><li>'pav'</li><li>'pcv'</li><li>'ptv'</li><li>'utr'</li></ol>\n"
      ],
      "text/latex": [
       "\\begin{enumerate*}\n",
       "\\item 'intron'\n",
       "\\item 'others'\n",
       "\\item 'pav'\n",
       "\\item 'pcv'\n",
       "\\item 'ptv'\n",
       "\\item 'utr'\n",
       "\\end{enumerate*}\n"
      ],
      "text/markdown": [
       "1. 'intron'\n",
       "2. 'others'\n",
       "3. 'pav'\n",
       "4. 'pcv'\n",
       "5. 'ptv'\n",
       "6. 'utr'\n",
       "\n",
       "\n"
      ],
      "text/plain": [
       "[1] \"intron\" \"others\" \"pav\"    \"pcv\"    \"ptv\"    \"utr\"   "
      ]
     },
     "metadata": {},
     "output_type": "display_data"
    }
   ],
   "source": [
    "df %>% count(Csq) %>% pull(Csq)"
   ]
  },
  {
   "cell_type": "code",
   "execution_count": null,
   "metadata": {},
   "outputs": [],
   "source": []
  }
 ],
 "metadata": {
  "kernelspec": {
   "display_name": "R",
   "language": "R",
   "name": "ir"
  },
  "language_info": {
   "codemirror_mode": "r",
   "file_extension": ".r",
   "mimetype": "text/x-r-source",
   "name": "R",
   "pygments_lexer": "r",
   "version": "3.6.2"
  }
 },
 "nbformat": 4,
 "nbformat_minor": 4
}
