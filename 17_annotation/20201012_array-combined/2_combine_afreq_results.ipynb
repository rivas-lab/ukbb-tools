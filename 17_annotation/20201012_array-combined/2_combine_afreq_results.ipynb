{
 "cells": [
  {
   "cell_type": "code",
   "execution_count": 1,
   "metadata": {},
   "outputs": [],
   "source": [
    "suppressWarnings(suppressPackageStartupMessages({\n",
    "    library(tidyverse)\n",
    "    library(data.table)\n",
    "}))\n"
   ]
  },
  {
   "cell_type": "code",
   "execution_count": 2,
   "metadata": {},
   "outputs": [],
   "source": [
    "pvar_f <- '/oak/stanford/groups/mrivas/ukbb24983/array-combined/pgen/ukb24983_cal_hla_cnv.pvar'\n",
    "data_d <- '/oak/stanford/groups/mrivas/ukbb24983/array-combined/annotation/afreq_20201012'\n",
    "snp_qc_f <- '/oak/stanford/groups/mrivas/ukbb24983/snp/ukb_snp_qc.pvar.zst'\n",
    "out_f <- file.path(data_d, 'ukb24983_cal_hla_cnv.afreq_20201012.pvar')"
   ]
  },
  {
   "cell_type": "code",
   "execution_count": 48,
   "metadata": {},
   "outputs": [],
   "source": [
    "pops <- c('white_british', 'non_british_white', 'african', 's_asian', 'e_asian', 'related', 'others')\n",
    "arrays <- c('UKBB', 'UKBL')\n"
   ]
  },
  {
   "cell_type": "code",
   "execution_count": 4,
   "metadata": {},
   "outputs": [],
   "source": [
    "cat_or_zcat <- function(f){\n",
    "    ifelse(endsWith(f, '.zst'), 'zstdcat', ifelse(endsWith(f, '.gz'), 'zcat', 'cat'))\n",
    "}\n"
   ]
  },
  {
   "cell_type": "code",
   "execution_count": 5,
   "metadata": {},
   "outputs": [],
   "source": [
    "read_tbl <- function(pops, prefix, suffix){\n",
    "    pops %>% \n",
    "    lapply(function(pop){\n",
    "        if(pop == 'all'){\n",
    "            f <- sprintf('%s.%s', prefix, suffix)\n",
    "        }else{\n",
    "            f <- sprintf('%s.%s.%s', prefix, pop, suffix)\n",
    "        }\n",
    "        fread(\n",
    "            cmd=paste(cat_or_zcat(f), f), \n",
    "            colClasses=c('#CHROM'='character')\n",
    "        ) %>%\n",
    "        rename('CHROM'='#CHROM') %>%\n",
    "        mutate(population = pop)\n",
    "    }) %>% bind_rows()\n",
    "}\n"
   ]
  },
  {
   "cell_type": "code",
   "execution_count": 6,
   "metadata": {},
   "outputs": [],
   "source": [
    "spread_pop <- function(df, col, pops, col_prefix, col_suffix, col_sep='_'){    \n",
    "    df %>% select(ID, col, population) %>%\n",
    "    rename(!!'VAL' := col) %>% spread(population, VAL) %>%\n",
    "    select(ID, all_of(pops)) %>% rename(setNames(\n",
    "        1:length(pops)+1, \n",
    "        paste(rep(col_prefix, length(pops)), pops, rep(col_suffix, length(pops)), sep=col_sep)\n",
    "    ))\n",
    "}\n"
   ]
  },
  {
   "cell_type": "code",
   "execution_count": 19,
   "metadata": {},
   "outputs": [],
   "source": [
    "fread(cmd=paste('zstdcat', snp_qc_f), select=c('ID', 'array'), colClasses = 'character') %>%\n",
    "rename('array_code'='array') %>%\n",
    "mutate(\n",
    "    # 0=BiLEVE, 1=Axiom, 2=both\n",
    "    # see: http://biobank.ctsu.ox.ac.uk/crystal/refer.cgi?id=1955\n",
    "    array = if_else(array_code == '0', 'UKBL', if_else(array_code == '1', 'UKBB', 'both'))\n",
    ")-> snp_qc_df\n"
   ]
  },
  {
   "cell_type": "code",
   "execution_count": 20,
   "metadata": {},
   "outputs": [
    {
     "data": {
      "text/html": [
       "<table>\n",
       "<caption>A data.table: 3 × 3</caption>\n",
       "<thead>\n",
       "\t<tr><th scope=col>array</th><th scope=col>array_code</th><th scope=col>n</th></tr>\n",
       "\t<tr><th scope=col>&lt;chr&gt;</th><th scope=col>&lt;chr&gt;</th><th scope=col>&lt;int&gt;</th></tr>\n",
       "</thead>\n",
       "<tbody>\n",
       "\t<tr><td>both</td><td>2</td><td>753693</td></tr>\n",
       "\t<tr><td>UKBB</td><td>1</td><td> 34197</td></tr>\n",
       "\t<tr><td>UKBL</td><td>0</td><td> 17536</td></tr>\n",
       "</tbody>\n",
       "</table>\n"
      ],
      "text/latex": [
       "A data.table: 3 × 3\n",
       "\\begin{tabular}{lll}\n",
       " array & array\\_code & n\\\\\n",
       " <chr> & <chr> & <int>\\\\\n",
       "\\hline\n",
       "\t both & 2 & 753693\\\\\n",
       "\t UKBB & 1 &  34197\\\\\n",
       "\t UKBL & 0 &  17536\\\\\n",
       "\\end{tabular}\n"
      ],
      "text/markdown": [
       "\n",
       "A data.table: 3 × 3\n",
       "\n",
       "| array &lt;chr&gt; | array_code &lt;chr&gt; | n &lt;int&gt; |\n",
       "|---|---|---|\n",
       "| both | 2 | 753693 |\n",
       "| UKBB | 1 |  34197 |\n",
       "| UKBL | 0 |  17536 |\n",
       "\n"
      ],
      "text/plain": [
       "  array array_code n     \n",
       "1 both  2          753693\n",
       "2 UKBB  1           34197\n",
       "3 UKBL  0           17536"
      ]
     },
     "metadata": {},
     "output_type": "display_data"
    }
   ],
   "source": [
    "snp_qc_df %>% count(array, array_code)\n"
   ]
  },
  {
   "cell_type": "code",
   "execution_count": 18,
   "metadata": {},
   "outputs": [],
   "source": [
    "pvar_f %>%\n",
    "fread(colClasses = c('#CHROM'='character')) %>%\n",
    "rename('CHROM'='#CHROM') -> pvar_df\n"
   ]
  },
  {
   "cell_type": "code",
   "execution_count": 9,
   "metadata": {},
   "outputs": [],
   "source": [
    "read_tbl(\n",
    "    c('all', pops), file.path(data_d, 'plink_output', 'ukb24983_cal_hla_cnv'), 'afreq.zst'\n",
    ") -> afreq_long_df\n"
   ]
  },
  {
   "cell_type": "code",
   "execution_count": 49,
   "metadata": {},
   "outputs": [],
   "source": [
    "read_tbl(\n",
    "    c('all', pops, arrays), file.path(data_d, 'plink_output', 'ukb24983_cal_hla_cnv'), 'gcount.zst'\n",
    ") -> gcount_long_df\n"
   ]
  },
  {
   "cell_type": "code",
   "execution_count": 50,
   "metadata": {},
   "outputs": [],
   "source": [
    "pvar_df %>%\n",
    "left_join(snp_qc_df %>% select(-array_code), by='ID') %>%\n",
    "left_join(\n",
    "    afreq_long_df %>%\n",
    "    spread_pop('ALT_FREQS', c('all', pops), 'UKB', 'AF') %>%\n",
    "    rename('UKB_AF'=2),\n",
    "    by='ID'\n",
    ") -> pvar_af_df\n"
   ]
  },
  {
   "cell_type": "code",
   "execution_count": 51,
   "metadata": {},
   "outputs": [
    {
     "name": "stderr",
     "output_type": "stream",
     "text": [
      "OBS_CT\n",
      "\n",
      "MISSING_CT\n",
      "\n"
     ]
    }
   ],
   "source": [
    "for(col in c('OBS_CT', 'MISSING_CT')){\n",
    "    message(col)\n",
    "    pvar_af_df %>%\n",
    "    left_join(\n",
    "        gcount_long_df %>%\n",
    "        spread_pop(col, c('all', pops, arrays), 'UKB', col) %>%\n",
    "        rename(!!sprintf('UKB_%s', col) := 2),\n",
    "        by='ID'\n",
    "    ) -> pvar_af_df\n",
    "}"
   ]
  },
  {
   "cell_type": "code",
   "execution_count": 52,
   "metadata": {},
   "outputs": [
    {
     "name": "stderr",
     "output_type": "stream",
     "text": [
      "HOM_REF_CT\n",
      "\n",
      "HET_REF_ALT_CTS\n",
      "\n",
      "TWO_ALT_GENO_CTS\n",
      "\n",
      "HAP_REF_CT\n",
      "\n",
      "HAP_ALT_CTS\n",
      "\n"
     ]
    }
   ],
   "source": [
    "for(col in c('HOM_REF_CT', 'HET_REF_ALT_CTS', 'TWO_ALT_GENO_CTS', 'HAP_REF_CT', 'HAP_ALT_CTS')){\n",
    "    message(col)\n",
    "    pvar_af_df %>%\n",
    "    left_join(\n",
    "        gcount_long_df %>%\n",
    "        spread_pop(col, c('all', pops), 'UKB', col) %>%\n",
    "        rename(!!sprintf('UKB_%s', col) := 2),\n",
    "        by='ID'\n",
    "    ) -> pvar_af_df\n",
    "}"
   ]
  },
  {
   "cell_type": "code",
   "execution_count": 54,
   "metadata": {},
   "outputs": [],
   "source": [
    "pvar_af_df %>% \n",
    "mutate(\n",
    "    f_miss = UKB_MISSING_CT / (UKB_MISSING_CT + UKB_OBS_CT),\n",
    "    f_miss_UKBB = if_else((!is.na(array)) & array == 'UKBL', as.double(NA), UKB_UKBB_MISSING_CT / (UKB_UKBB_MISSING_CT + UKB_UKBB_OBS_CT)),\n",
    "    f_miss_UKBL = if_else((!is.na(array)) & array == 'UKBB', as.double(NA), UKB_UKBL_MISSING_CT / (UKB_UKBL_MISSING_CT + UKB_UKBL_OBS_CT))\n",
    ") -> pvar_af_df\n"
   ]
  },
  {
   "cell_type": "code",
   "execution_count": 59,
   "metadata": {},
   "outputs": [
    {
     "data": {
      "text/html": [
       "<style>\n",
       ".list-inline {list-style: none; margin:0; padding: 0}\n",
       ".list-inline>li {display: inline-block}\n",
       ".list-inline>li:not(:last-child)::after {content: \"\\00b7\"; padding: 0 .5ex}\n",
       "</style>\n",
       "<ol class=list-inline><li>1080968</li><li>77</li></ol>\n"
      ],
      "text/latex": [
       "\\begin{enumerate*}\n",
       "\\item 1080968\n",
       "\\item 77\n",
       "\\end{enumerate*}\n"
      ],
      "text/markdown": [
       "1. 1080968\n",
       "2. 77\n",
       "\n",
       "\n"
      ],
      "text/plain": [
       "[1] 1080968      77"
      ]
     },
     "metadata": {},
     "output_type": "display_data"
    }
   ],
   "source": [
    "pvar_af_df %>% dim()"
   ]
  },
  {
   "cell_type": "code",
   "execution_count": 60,
   "metadata": {},
   "outputs": [
    {
     "data": {
      "text/html": [
       "<style>\n",
       ".list-inline {list-style: none; margin:0; padding: 0}\n",
       ".list-inline>li {display: inline-block}\n",
       ".list-inline>li:not(:last-child)::after {content: \"\\00b7\"; padding: 0 .5ex}\n",
       "</style>\n",
       "<ol class=list-inline><li>'CHROM'</li><li>'POS'</li><li>'ID'</li><li>'REF'</li><li>'ALT'</li><li>'array'</li><li>'UKB_AF'</li><li>'UKB_white_british_AF'</li><li>'UKB_non_british_white_AF'</li><li>'UKB_african_AF'</li><li>'UKB_s_asian_AF'</li><li>'UKB_e_asian_AF'</li><li>'UKB_related_AF'</li><li>'UKB_others_AF'</li><li>'UKB_OBS_CT'</li><li>'UKB_white_british_OBS_CT'</li><li>'UKB_non_british_white_OBS_CT'</li><li>'UKB_african_OBS_CT'</li><li>'UKB_s_asian_OBS_CT'</li><li>'UKB_e_asian_OBS_CT'</li><li>'UKB_related_OBS_CT'</li><li>'UKB_others_OBS_CT'</li><li>'UKB_UKBB_OBS_CT'</li><li>'UKB_UKBL_OBS_CT'</li><li>'UKB_MISSING_CT'</li><li>'UKB_white_british_MISSING_CT'</li><li>'UKB_non_british_white_MISSING_CT'</li><li>'UKB_african_MISSING_CT'</li><li>'UKB_s_asian_MISSING_CT'</li><li>'UKB_e_asian_MISSING_CT'</li><li>'UKB_related_MISSING_CT'</li><li>'UKB_others_MISSING_CT'</li><li>'UKB_UKBB_MISSING_CT'</li><li>'UKB_UKBL_MISSING_CT'</li><li>'UKB_HOM_REF_CT'</li><li>'UKB_white_british_HOM_REF_CT'</li><li>'UKB_non_british_white_HOM_REF_CT'</li><li>'UKB_african_HOM_REF_CT'</li><li>'UKB_s_asian_HOM_REF_CT'</li><li>'UKB_e_asian_HOM_REF_CT'</li><li>'UKB_related_HOM_REF_CT'</li><li>'UKB_others_HOM_REF_CT'</li><li>'UKB_HET_REF_ALT_CTS'</li><li>'UKB_white_british_HET_REF_ALT_CTS'</li><li>'UKB_non_british_white_HET_REF_ALT_CTS'</li><li>'UKB_african_HET_REF_ALT_CTS'</li><li>'UKB_s_asian_HET_REF_ALT_CTS'</li><li>'UKB_e_asian_HET_REF_ALT_CTS'</li><li>'UKB_related_HET_REF_ALT_CTS'</li><li>'UKB_others_HET_REF_ALT_CTS'</li><li>'UKB_TWO_ALT_GENO_CTS'</li><li>'UKB_white_british_TWO_ALT_GENO_CTS'</li><li>'UKB_non_british_white_TWO_ALT_GENO_CTS'</li><li>'UKB_african_TWO_ALT_GENO_CTS'</li><li>'UKB_s_asian_TWO_ALT_GENO_CTS'</li><li>'UKB_e_asian_TWO_ALT_GENO_CTS'</li><li>'UKB_related_TWO_ALT_GENO_CTS'</li><li>'UKB_others_TWO_ALT_GENO_CTS'</li><li>'UKB_HAP_REF_CT'</li><li>'UKB_white_british_HAP_REF_CT'</li><li>'UKB_non_british_white_HAP_REF_CT'</li><li>'UKB_african_HAP_REF_CT'</li><li>'UKB_s_asian_HAP_REF_CT'</li><li>'UKB_e_asian_HAP_REF_CT'</li><li>'UKB_related_HAP_REF_CT'</li><li>'UKB_others_HAP_REF_CT'</li><li>'UKB_HAP_ALT_CTS'</li><li>'UKB_white_british_HAP_ALT_CTS'</li><li>'UKB_non_british_white_HAP_ALT_CTS'</li><li>'UKB_african_HAP_ALT_CTS'</li><li>'UKB_s_asian_HAP_ALT_CTS'</li><li>'UKB_e_asian_HAP_ALT_CTS'</li><li>'UKB_related_HAP_ALT_CTS'</li><li>'UKB_others_HAP_ALT_CTS'</li><li>'f_miss'</li><li>'f_miss_UKBB'</li><li>'f_miss_UKBL'</li></ol>\n"
      ],
      "text/latex": [
       "\\begin{enumerate*}\n",
       "\\item 'CHROM'\n",
       "\\item 'POS'\n",
       "\\item 'ID'\n",
       "\\item 'REF'\n",
       "\\item 'ALT'\n",
       "\\item 'array'\n",
       "\\item 'UKB\\_AF'\n",
       "\\item 'UKB\\_white\\_british\\_AF'\n",
       "\\item 'UKB\\_non\\_british\\_white\\_AF'\n",
       "\\item 'UKB\\_african\\_AF'\n",
       "\\item 'UKB\\_s\\_asian\\_AF'\n",
       "\\item 'UKB\\_e\\_asian\\_AF'\n",
       "\\item 'UKB\\_related\\_AF'\n",
       "\\item 'UKB\\_others\\_AF'\n",
       "\\item 'UKB\\_OBS\\_CT'\n",
       "\\item 'UKB\\_white\\_british\\_OBS\\_CT'\n",
       "\\item 'UKB\\_non\\_british\\_white\\_OBS\\_CT'\n",
       "\\item 'UKB\\_african\\_OBS\\_CT'\n",
       "\\item 'UKB\\_s\\_asian\\_OBS\\_CT'\n",
       "\\item 'UKB\\_e\\_asian\\_OBS\\_CT'\n",
       "\\item 'UKB\\_related\\_OBS\\_CT'\n",
       "\\item 'UKB\\_others\\_OBS\\_CT'\n",
       "\\item 'UKB\\_UKBB\\_OBS\\_CT'\n",
       "\\item 'UKB\\_UKBL\\_OBS\\_CT'\n",
       "\\item 'UKB\\_MISSING\\_CT'\n",
       "\\item 'UKB\\_white\\_british\\_MISSING\\_CT'\n",
       "\\item 'UKB\\_non\\_british\\_white\\_MISSING\\_CT'\n",
       "\\item 'UKB\\_african\\_MISSING\\_CT'\n",
       "\\item 'UKB\\_s\\_asian\\_MISSING\\_CT'\n",
       "\\item 'UKB\\_e\\_asian\\_MISSING\\_CT'\n",
       "\\item 'UKB\\_related\\_MISSING\\_CT'\n",
       "\\item 'UKB\\_others\\_MISSING\\_CT'\n",
       "\\item 'UKB\\_UKBB\\_MISSING\\_CT'\n",
       "\\item 'UKB\\_UKBL\\_MISSING\\_CT'\n",
       "\\item 'UKB\\_HOM\\_REF\\_CT'\n",
       "\\item 'UKB\\_white\\_british\\_HOM\\_REF\\_CT'\n",
       "\\item 'UKB\\_non\\_british\\_white\\_HOM\\_REF\\_CT'\n",
       "\\item 'UKB\\_african\\_HOM\\_REF\\_CT'\n",
       "\\item 'UKB\\_s\\_asian\\_HOM\\_REF\\_CT'\n",
       "\\item 'UKB\\_e\\_asian\\_HOM\\_REF\\_CT'\n",
       "\\item 'UKB\\_related\\_HOM\\_REF\\_CT'\n",
       "\\item 'UKB\\_others\\_HOM\\_REF\\_CT'\n",
       "\\item 'UKB\\_HET\\_REF\\_ALT\\_CTS'\n",
       "\\item 'UKB\\_white\\_british\\_HET\\_REF\\_ALT\\_CTS'\n",
       "\\item 'UKB\\_non\\_british\\_white\\_HET\\_REF\\_ALT\\_CTS'\n",
       "\\item 'UKB\\_african\\_HET\\_REF\\_ALT\\_CTS'\n",
       "\\item 'UKB\\_s\\_asian\\_HET\\_REF\\_ALT\\_CTS'\n",
       "\\item 'UKB\\_e\\_asian\\_HET\\_REF\\_ALT\\_CTS'\n",
       "\\item 'UKB\\_related\\_HET\\_REF\\_ALT\\_CTS'\n",
       "\\item 'UKB\\_others\\_HET\\_REF\\_ALT\\_CTS'\n",
       "\\item 'UKB\\_TWO\\_ALT\\_GENO\\_CTS'\n",
       "\\item 'UKB\\_white\\_british\\_TWO\\_ALT\\_GENO\\_CTS'\n",
       "\\item 'UKB\\_non\\_british\\_white\\_TWO\\_ALT\\_GENO\\_CTS'\n",
       "\\item 'UKB\\_african\\_TWO\\_ALT\\_GENO\\_CTS'\n",
       "\\item 'UKB\\_s\\_asian\\_TWO\\_ALT\\_GENO\\_CTS'\n",
       "\\item 'UKB\\_e\\_asian\\_TWO\\_ALT\\_GENO\\_CTS'\n",
       "\\item 'UKB\\_related\\_TWO\\_ALT\\_GENO\\_CTS'\n",
       "\\item 'UKB\\_others\\_TWO\\_ALT\\_GENO\\_CTS'\n",
       "\\item 'UKB\\_HAP\\_REF\\_CT'\n",
       "\\item 'UKB\\_white\\_british\\_HAP\\_REF\\_CT'\n",
       "\\item 'UKB\\_non\\_british\\_white\\_HAP\\_REF\\_CT'\n",
       "\\item 'UKB\\_african\\_HAP\\_REF\\_CT'\n",
       "\\item 'UKB\\_s\\_asian\\_HAP\\_REF\\_CT'\n",
       "\\item 'UKB\\_e\\_asian\\_HAP\\_REF\\_CT'\n",
       "\\item 'UKB\\_related\\_HAP\\_REF\\_CT'\n",
       "\\item 'UKB\\_others\\_HAP\\_REF\\_CT'\n",
       "\\item 'UKB\\_HAP\\_ALT\\_CTS'\n",
       "\\item 'UKB\\_white\\_british\\_HAP\\_ALT\\_CTS'\n",
       "\\item 'UKB\\_non\\_british\\_white\\_HAP\\_ALT\\_CTS'\n",
       "\\item 'UKB\\_african\\_HAP\\_ALT\\_CTS'\n",
       "\\item 'UKB\\_s\\_asian\\_HAP\\_ALT\\_CTS'\n",
       "\\item 'UKB\\_e\\_asian\\_HAP\\_ALT\\_CTS'\n",
       "\\item 'UKB\\_related\\_HAP\\_ALT\\_CTS'\n",
       "\\item 'UKB\\_others\\_HAP\\_ALT\\_CTS'\n",
       "\\item 'f\\_miss'\n",
       "\\item 'f\\_miss\\_UKBB'\n",
       "\\item 'f\\_miss\\_UKBL'\n",
       "\\end{enumerate*}\n"
      ],
      "text/markdown": [
       "1. 'CHROM'\n",
       "2. 'POS'\n",
       "3. 'ID'\n",
       "4. 'REF'\n",
       "5. 'ALT'\n",
       "6. 'array'\n",
       "7. 'UKB_AF'\n",
       "8. 'UKB_white_british_AF'\n",
       "9. 'UKB_non_british_white_AF'\n",
       "10. 'UKB_african_AF'\n",
       "11. 'UKB_s_asian_AF'\n",
       "12. 'UKB_e_asian_AF'\n",
       "13. 'UKB_related_AF'\n",
       "14. 'UKB_others_AF'\n",
       "15. 'UKB_OBS_CT'\n",
       "16. 'UKB_white_british_OBS_CT'\n",
       "17. 'UKB_non_british_white_OBS_CT'\n",
       "18. 'UKB_african_OBS_CT'\n",
       "19. 'UKB_s_asian_OBS_CT'\n",
       "20. 'UKB_e_asian_OBS_CT'\n",
       "21. 'UKB_related_OBS_CT'\n",
       "22. 'UKB_others_OBS_CT'\n",
       "23. 'UKB_UKBB_OBS_CT'\n",
       "24. 'UKB_UKBL_OBS_CT'\n",
       "25. 'UKB_MISSING_CT'\n",
       "26. 'UKB_white_british_MISSING_CT'\n",
       "27. 'UKB_non_british_white_MISSING_CT'\n",
       "28. 'UKB_african_MISSING_CT'\n",
       "29. 'UKB_s_asian_MISSING_CT'\n",
       "30. 'UKB_e_asian_MISSING_CT'\n",
       "31. 'UKB_related_MISSING_CT'\n",
       "32. 'UKB_others_MISSING_CT'\n",
       "33. 'UKB_UKBB_MISSING_CT'\n",
       "34. 'UKB_UKBL_MISSING_CT'\n",
       "35. 'UKB_HOM_REF_CT'\n",
       "36. 'UKB_white_british_HOM_REF_CT'\n",
       "37. 'UKB_non_british_white_HOM_REF_CT'\n",
       "38. 'UKB_african_HOM_REF_CT'\n",
       "39. 'UKB_s_asian_HOM_REF_CT'\n",
       "40. 'UKB_e_asian_HOM_REF_CT'\n",
       "41. 'UKB_related_HOM_REF_CT'\n",
       "42. 'UKB_others_HOM_REF_CT'\n",
       "43. 'UKB_HET_REF_ALT_CTS'\n",
       "44. 'UKB_white_british_HET_REF_ALT_CTS'\n",
       "45. 'UKB_non_british_white_HET_REF_ALT_CTS'\n",
       "46. 'UKB_african_HET_REF_ALT_CTS'\n",
       "47. 'UKB_s_asian_HET_REF_ALT_CTS'\n",
       "48. 'UKB_e_asian_HET_REF_ALT_CTS'\n",
       "49. 'UKB_related_HET_REF_ALT_CTS'\n",
       "50. 'UKB_others_HET_REF_ALT_CTS'\n",
       "51. 'UKB_TWO_ALT_GENO_CTS'\n",
       "52. 'UKB_white_british_TWO_ALT_GENO_CTS'\n",
       "53. 'UKB_non_british_white_TWO_ALT_GENO_CTS'\n",
       "54. 'UKB_african_TWO_ALT_GENO_CTS'\n",
       "55. 'UKB_s_asian_TWO_ALT_GENO_CTS'\n",
       "56. 'UKB_e_asian_TWO_ALT_GENO_CTS'\n",
       "57. 'UKB_related_TWO_ALT_GENO_CTS'\n",
       "58. 'UKB_others_TWO_ALT_GENO_CTS'\n",
       "59. 'UKB_HAP_REF_CT'\n",
       "60. 'UKB_white_british_HAP_REF_CT'\n",
       "61. 'UKB_non_british_white_HAP_REF_CT'\n",
       "62. 'UKB_african_HAP_REF_CT'\n",
       "63. 'UKB_s_asian_HAP_REF_CT'\n",
       "64. 'UKB_e_asian_HAP_REF_CT'\n",
       "65. 'UKB_related_HAP_REF_CT'\n",
       "66. 'UKB_others_HAP_REF_CT'\n",
       "67. 'UKB_HAP_ALT_CTS'\n",
       "68. 'UKB_white_british_HAP_ALT_CTS'\n",
       "69. 'UKB_non_british_white_HAP_ALT_CTS'\n",
       "70. 'UKB_african_HAP_ALT_CTS'\n",
       "71. 'UKB_s_asian_HAP_ALT_CTS'\n",
       "72. 'UKB_e_asian_HAP_ALT_CTS'\n",
       "73. 'UKB_related_HAP_ALT_CTS'\n",
       "74. 'UKB_others_HAP_ALT_CTS'\n",
       "75. 'f_miss'\n",
       "76. 'f_miss_UKBB'\n",
       "77. 'f_miss_UKBL'\n",
       "\n",
       "\n"
      ],
      "text/plain": [
       " [1] \"CHROM\"                                 \n",
       " [2] \"POS\"                                   \n",
       " [3] \"ID\"                                    \n",
       " [4] \"REF\"                                   \n",
       " [5] \"ALT\"                                   \n",
       " [6] \"array\"                                 \n",
       " [7] \"UKB_AF\"                                \n",
       " [8] \"UKB_white_british_AF\"                  \n",
       " [9] \"UKB_non_british_white_AF\"              \n",
       "[10] \"UKB_african_AF\"                        \n",
       "[11] \"UKB_s_asian_AF\"                        \n",
       "[12] \"UKB_e_asian_AF\"                        \n",
       "[13] \"UKB_related_AF\"                        \n",
       "[14] \"UKB_others_AF\"                         \n",
       "[15] \"UKB_OBS_CT\"                            \n",
       "[16] \"UKB_white_british_OBS_CT\"              \n",
       "[17] \"UKB_non_british_white_OBS_CT\"          \n",
       "[18] \"UKB_african_OBS_CT\"                    \n",
       "[19] \"UKB_s_asian_OBS_CT\"                    \n",
       "[20] \"UKB_e_asian_OBS_CT\"                    \n",
       "[21] \"UKB_related_OBS_CT\"                    \n",
       "[22] \"UKB_others_OBS_CT\"                     \n",
       "[23] \"UKB_UKBB_OBS_CT\"                       \n",
       "[24] \"UKB_UKBL_OBS_CT\"                       \n",
       "[25] \"UKB_MISSING_CT\"                        \n",
       "[26] \"UKB_white_british_MISSING_CT\"          \n",
       "[27] \"UKB_non_british_white_MISSING_CT\"      \n",
       "[28] \"UKB_african_MISSING_CT\"                \n",
       "[29] \"UKB_s_asian_MISSING_CT\"                \n",
       "[30] \"UKB_e_asian_MISSING_CT\"                \n",
       "[31] \"UKB_related_MISSING_CT\"                \n",
       "[32] \"UKB_others_MISSING_CT\"                 \n",
       "[33] \"UKB_UKBB_MISSING_CT\"                   \n",
       "[34] \"UKB_UKBL_MISSING_CT\"                   \n",
       "[35] \"UKB_HOM_REF_CT\"                        \n",
       "[36] \"UKB_white_british_HOM_REF_CT\"          \n",
       "[37] \"UKB_non_british_white_HOM_REF_CT\"      \n",
       "[38] \"UKB_african_HOM_REF_CT\"                \n",
       "[39] \"UKB_s_asian_HOM_REF_CT\"                \n",
       "[40] \"UKB_e_asian_HOM_REF_CT\"                \n",
       "[41] \"UKB_related_HOM_REF_CT\"                \n",
       "[42] \"UKB_others_HOM_REF_CT\"                 \n",
       "[43] \"UKB_HET_REF_ALT_CTS\"                   \n",
       "[44] \"UKB_white_british_HET_REF_ALT_CTS\"     \n",
       "[45] \"UKB_non_british_white_HET_REF_ALT_CTS\" \n",
       "[46] \"UKB_african_HET_REF_ALT_CTS\"           \n",
       "[47] \"UKB_s_asian_HET_REF_ALT_CTS\"           \n",
       "[48] \"UKB_e_asian_HET_REF_ALT_CTS\"           \n",
       "[49] \"UKB_related_HET_REF_ALT_CTS\"           \n",
       "[50] \"UKB_others_HET_REF_ALT_CTS\"            \n",
       "[51] \"UKB_TWO_ALT_GENO_CTS\"                  \n",
       "[52] \"UKB_white_british_TWO_ALT_GENO_CTS\"    \n",
       "[53] \"UKB_non_british_white_TWO_ALT_GENO_CTS\"\n",
       "[54] \"UKB_african_TWO_ALT_GENO_CTS\"          \n",
       "[55] \"UKB_s_asian_TWO_ALT_GENO_CTS\"          \n",
       "[56] \"UKB_e_asian_TWO_ALT_GENO_CTS\"          \n",
       "[57] \"UKB_related_TWO_ALT_GENO_CTS\"          \n",
       "[58] \"UKB_others_TWO_ALT_GENO_CTS\"           \n",
       "[59] \"UKB_HAP_REF_CT\"                        \n",
       "[60] \"UKB_white_british_HAP_REF_CT\"          \n",
       "[61] \"UKB_non_british_white_HAP_REF_CT\"      \n",
       "[62] \"UKB_african_HAP_REF_CT\"                \n",
       "[63] \"UKB_s_asian_HAP_REF_CT\"                \n",
       "[64] \"UKB_e_asian_HAP_REF_CT\"                \n",
       "[65] \"UKB_related_HAP_REF_CT\"                \n",
       "[66] \"UKB_others_HAP_REF_CT\"                 \n",
       "[67] \"UKB_HAP_ALT_CTS\"                       \n",
       "[68] \"UKB_white_british_HAP_ALT_CTS\"         \n",
       "[69] \"UKB_non_british_white_HAP_ALT_CTS\"     \n",
       "[70] \"UKB_african_HAP_ALT_CTS\"               \n",
       "[71] \"UKB_s_asian_HAP_ALT_CTS\"               \n",
       "[72] \"UKB_e_asian_HAP_ALT_CTS\"               \n",
       "[73] \"UKB_related_HAP_ALT_CTS\"               \n",
       "[74] \"UKB_others_HAP_ALT_CTS\"                \n",
       "[75] \"f_miss\"                                \n",
       "[76] \"f_miss_UKBB\"                           \n",
       "[77] \"f_miss_UKBL\"                           "
      ]
     },
     "metadata": {},
     "output_type": "display_data"
    }
   ],
   "source": [
    "pvar_af_df %>% colnames()"
   ]
  },
  {
   "cell_type": "code",
   "execution_count": 61,
   "metadata": {},
   "outputs": [],
   "source": [
    "pvar_af_df %>%\n",
    "rename('#CHROM' = 'CHROM') %>%\n",
    "fwrite(out_f, sep='\\t', na = \"NA\", quote=F)\n"
   ]
  },
  {
   "cell_type": "code",
   "execution_count": 62,
   "metadata": {},
   "outputs": [
    {
     "data": {
      "text/html": [
       "'/oak/stanford/groups/mrivas/ukbb24983/array-combined/annotation/afreq_20201012/ukb24983_cal_hla_cnv.afreq_20201012.pvar'"
      ],
      "text/latex": [
       "'/oak/stanford/groups/mrivas/ukbb24983/array-combined/annotation/afreq\\_20201012/ukb24983\\_cal\\_hla\\_cnv.afreq\\_20201012.pvar'"
      ],
      "text/markdown": [
       "'/oak/stanford/groups/mrivas/ukbb24983/array-combined/annotation/afreq_20201012/ukb24983_cal_hla_cnv.afreq_20201012.pvar'"
      ],
      "text/plain": [
       "[1] \"/oak/stanford/groups/mrivas/ukbb24983/array-combined/annotation/afreq_20201012/ukb24983_cal_hla_cnv.afreq_20201012.pvar\""
      ]
     },
     "metadata": {},
     "output_type": "display_data"
    }
   ],
   "source": [
    "out_f"
   ]
  },
  {
   "cell_type": "code",
   "execution_count": null,
   "metadata": {},
   "outputs": [],
   "source": []
  }
 ],
 "metadata": {
  "kernelspec": {
   "display_name": "R",
   "language": "R",
   "name": "ir"
  },
  "language_info": {
   "codemirror_mode": "r",
   "file_extension": ".r",
   "mimetype": "text/x-r-source",
   "name": "R",
   "pygments_lexer": "r",
   "version": "3.6.2"
  }
 },
 "nbformat": 4,
 "nbformat_minor": 4
}
