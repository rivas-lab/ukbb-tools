{
 "cells": [
  {
   "cell_type": "code",
   "execution_count": 1,
   "metadata": {},
   "outputs": [],
   "source": [
    "suppressWarnings(suppressPackageStartupMessages({\n",
    "    library(tidyverse)\n",
    "    library(data.table)\n",
    "}))\n"
   ]
  },
  {
   "cell_type": "code",
   "execution_count": 84,
   "metadata": {},
   "outputs": [],
   "source": [
    "hardy_f   <- '/oak/stanford/groups/mrivas/ukbb24983/array-combined/annotation/afreq_20201012/plink_output/ukb24983_cal_hla_cnv.white_british.hardy.zst'\n",
    "hardy_x_f <- str_replace(hardy_f, '.zst$', '.x.zst')\n"
   ]
  },
  {
   "cell_type": "code",
   "execution_count": 3,
   "metadata": {},
   "outputs": [],
   "source": [
    "cat_or_zcat <- function(f){\n",
    "    ifelse(endsWith(f, '.zst'), 'zstdcat', ifelse(endsWith(f, '.gz'), 'zcat', 'cat'))\n",
    "}\n",
    "\n",
    "fread_CHROM <- function(f){\n",
    "    fread(cmd=paste(cat_or_zcat(f), f), colClasses = c('#CHROM'='character')) %>% rename('CHROM'='#CHROM')\n",
    "}\n"
   ]
  },
  {
   "cell_type": "code",
   "execution_count": 82,
   "metadata": {},
   "outputs": [],
   "source": [
    "plot_cumsum <- function(df){\n",
    "    df %>% mutate(log10P=-log10(MIDP + .Machine$double.xmin)) %>%\n",
    "    ggplot(aes(x = log10P)) + stat_bin(aes(y=cumsum(..count..)/nrow(df)),geom=\"line\",color=\"black\", bins=100) +\n",
    "    xlim(0, 20) + ylim(.5, 1) + labs(\n",
    "        x = latex2exp::TeX('HWE (midp) -log_{10}(P)'), y = 'cumsum(n) / n '\n",
    "    ) + theme_bw() + theme(\n",
    "        legend.title = element_text(size=16),\n",
    "        legend.text  = element_text(size=16),\n",
    "        axis.text=element_text(size=16), \n",
    "        axis.title=element_text(size=16)\n",
    "    ) +\n",
    "    geom_hline(yintercept = 1, color='gray') +\n",
    "    geom_vline(xintercept = 7, color='red')\n",
    "}\n"
   ]
  },
  {
   "cell_type": "code",
   "execution_count": 4,
   "metadata": {},
   "outputs": [],
   "source": [
    "hardy_f   %>% fread_CHROM() -> hardy_df\n",
    "hardy_x_f %>% fread_CHROM() -> hardy_x_df\n"
   ]
  },
  {
   "cell_type": "code",
   "execution_count": 88,
   "metadata": {},
   "outputs": [],
   "source": [
    "suppressWarnings(suppressPackageStartupMessages({\n",
    "for(ext in c('png', 'pdf')){\n",
    "    ggsave(\n",
    "        sprintf('hwe_midp_plot.%s', ext),\n",
    "        gridExtra::arrangeGrob(\n",
    "            hardy_df %>% plot_cumsum() + labs(title='autosomes'),\n",
    "            hardy_x_df %>% plot_cumsum() + labs(title='chr X'),\n",
    "            ncol=2\n",
    "        ), width=12,height=6\n",
    "    )    \n",
    "}\n",
    "}))\n"
   ]
  },
  {
   "cell_type": "code",
   "execution_count": null,
   "metadata": {},
   "outputs": [],
   "source": []
  }
 ],
 "metadata": {
  "kernelspec": {
   "display_name": "R",
   "language": "R",
   "name": "ir"
  },
  "language_info": {
   "codemirror_mode": "r",
   "file_extension": ".r",
   "mimetype": "text/x-r-source",
   "name": "R",
   "pygments_lexer": "r",
   "version": "3.6.2"
  }
 },
 "nbformat": 4,
 "nbformat_minor": 4
}
