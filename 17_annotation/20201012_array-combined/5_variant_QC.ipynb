{
 "cells": [
  {
   "cell_type": "code",
   "execution_count": 1,
   "metadata": {},
   "outputs": [],
   "source": [
    "suppressWarnings(suppressPackageStartupMessages({\n",
    "    library(tidyverse)\n",
    "    library(data.table)\n",
    "}))\n"
   ]
  },
  {
   "cell_type": "code",
   "execution_count": 142,
   "metadata": {},
   "outputs": [],
   "source": [
    "afreq_f <- '/oak/stanford/groups/mrivas/ukbb24983/array-combined/annotation/afreq_20201012/ukb24983_cal_hla_cnv.afreq_20201012.pvar.zst'\n",
    "old_cal_annot_f <- '/oak/stanford/groups/mrivas/private_data/ukbb/variant_filtering/variant_filter_table.20200701.tsv.gz'\n",
    "hardy_f   <- '/oak/stanford/groups/mrivas/ukbb24983/array-combined/annotation/afreq_20201012/plink_output/ukb24983_cal_hla_cnv.white_british.hardy.zst'\n",
    "hardy_x_f <- str_replace(hardy_f, '.zst$', '.x.zst')\n",
    "\n",
    "hla_pvar_f <- '/oak/stanford/groups/mrivas/ukbb24983/hla/pgen/ukb_hla_v3.pvar.zst'\n",
    "cnv_pvar_f <- '/oak/stanford/groups/mrivas/ukbb24983/cnv/pgen/cnv.pvar'\n",
    "\n",
    "# output\n",
    "var_QC_plot_f <- 'variant_QC.pdf'\n",
    "var_QC_f <- '/oak/stanford/groups/mrivas/ukbb24983/array-combined/annotation/annotation_20201012/ukb24983_cal_hla_cnv.var_QC.tsv'\n"
   ]
  },
  {
   "cell_type": "markdown",
   "metadata": {},
   "source": [
    "## Read the data files"
   ]
  },
  {
   "cell_type": "code",
   "execution_count": 4,
   "metadata": {},
   "outputs": [],
   "source": [
    "cat_or_zcat <- function(f){\n",
    "    ifelse(endsWith(f, '.zst'), 'zstdcat', ifelse(endsWith(f, '.gz'), 'zcat', 'cat'))\n",
    "}\n",
    "\n",
    "fread_CHROM <- function(f){\n",
    "    fread(cmd=paste(cat_or_zcat(f), f), colClasses = c('#CHROM'='character')) %>% rename('CHROM'='#CHROM')\n",
    "}\n"
   ]
  },
  {
   "cell_type": "code",
   "execution_count": 69,
   "metadata": {},
   "outputs": [],
   "source": [
    "afreq_f %>% fread_CHROM() %>% left_join(\n",
    "    bind_rows(\n",
    "        hardy_f   %>% fread_CHROM() %>% select(ID, MIDP),\n",
    "        hardy_x_f %>% fread_CHROM() %>% select(ID, MIDP)\n",
    "    ) %>% rename('hwe_p'='MIDP'), by='ID'\n",
    ") %>% mutate(\n",
    "    # HWE filter, pass if hwe p >= 1e-7\n",
    "    filter_hwe = if_else(is.na(hwe_p) | (hwe_p >= 1e-7), '', 'hwe;'),\n",
    "    \n",
    "    # Missigness filter, pass if missigness <= 1%\n",
    "    filter_missingness = 0.01 >= if_else(\n",
    "        is.na(array) | array == 'both', f_miss,\n",
    "        if_else(array == 'UKBB', f_miss_UKBB, f_miss_UKBL)\n",
    "    ),\n",
    "    filter_missingness = if_else(filter_missingness, '', 'missingness;')\n",
    ") -> afreq_hwe_df\n"
   ]
  },
  {
   "cell_type": "code",
   "execution_count": 11,
   "metadata": {},
   "outputs": [],
   "source": [
    "old_cal_annot_f %>% fread_CHROM() -> old_cal_annot_df\n"
   ]
  },
  {
   "cell_type": "code",
   "execution_count": 127,
   "metadata": {},
   "outputs": [],
   "source": [
    "hla_pvar_f %>% fread_CHROM() -> hla_pvar_df\n",
    "cnv_pvar_f %>% fread_CHROM() -> cnv_pvar_df\n"
   ]
  },
  {
   "cell_type": "markdown",
   "metadata": {},
   "source": [
    "## check the previous filtering criteria\n",
    "\n",
    "- `missingness`: QC filter - missingness\n",
    "- `hwe`: QC filter - HWE p-value\n",
    "- `mcpi`: QC filter: manual cluster plot inspection\n",
    "- `gnomad_af`: QC filter - maf comparison with gnomAD\n",
    "- `mgi`: QC filter - manual ??\n",
    "- `mgi_notes`: QC filter - notes\n",
    "- `all_filters`: QC filter summary\n"
   ]
  },
  {
   "cell_type": "code",
   "execution_count": 59,
   "metadata": {},
   "outputs": [
    {
     "data": {
      "text/html": [
       "<table>\n",
       "<caption>A data.table: 26 × 9</caption>\n",
       "<thead>\n",
       "\t<tr><th scope=col>FILTER</th><th scope=col>filter</th><th scope=col>all_filters</th><th scope=col>missingness</th><th scope=col>hwe</th><th scope=col>mcpi</th><th scope=col>gnomad_af</th><th scope=col>mgi</th><th scope=col>n</th></tr>\n",
       "\t<tr><th scope=col>&lt;chr&gt;</th><th scope=col>&lt;lgl&gt;</th><th scope=col>&lt;int&gt;</th><th scope=col>&lt;int&gt;</th><th scope=col>&lt;int&gt;</th><th scope=col>&lt;int&gt;</th><th scope=col>&lt;chr&gt;</th><th scope=col>&lt;chr&gt;</th><th scope=col>&lt;int&gt;</th></tr>\n",
       "</thead>\n",
       "<tbody>\n",
       "\t<tr><td>                          </td><td>NA</td><td> 0</td><td> 0</td><td> 0</td><td> 0</td><td>    </td><td>       </td><td>651983</td></tr>\n",
       "\t<tr><td>                          </td><td>NA</td><td> 0</td><td> 0</td><td> 0</td><td> 0</td><td>    </td><td>NOT_PTV</td><td>    29</td></tr>\n",
       "\t<tr><td>                          </td><td>NA</td><td> 0</td><td> 0</td><td> 0</td><td> 0</td><td>    </td><td>PASS   </td><td>    53</td></tr>\n",
       "\t<tr><td>                          </td><td>NA</td><td> 0</td><td> 0</td><td> 0</td><td> 0</td><td>PASS</td><td>       </td><td>  3589</td></tr>\n",
       "\t<tr><td>                          </td><td>NA</td><td>NA</td><td>NA</td><td>NA</td><td>NA</td><td>    </td><td>       </td><td> 19813</td></tr>\n",
       "\t<tr><td>gnomad_af                 </td><td>NA</td><td> 1</td><td> 0</td><td> 0</td><td> 0</td><td>FAIL</td><td>       </td><td>   166</td></tr>\n",
       "\t<tr><td>hwe                       </td><td>NA</td><td> 1</td><td> 0</td><td> 1</td><td> 0</td><td>    </td><td>       </td><td> 34200</td></tr>\n",
       "\t<tr><td>hwe                       </td><td>NA</td><td> 1</td><td> 0</td><td> 1</td><td> 0</td><td>    </td><td>NOT_PTV</td><td>     3</td></tr>\n",
       "\t<tr><td>hwe                       </td><td>NA</td><td> 1</td><td> 0</td><td> 1</td><td> 0</td><td>    </td><td>PASS   </td><td>     1</td></tr>\n",
       "\t<tr><td>hwe                       </td><td>NA</td><td> 1</td><td> 0</td><td> 1</td><td> 0</td><td>PASS</td><td>       </td><td>    58</td></tr>\n",
       "\t<tr><td>hwe;gnomad_af             </td><td>NA</td><td> 2</td><td> 0</td><td> 1</td><td> 0</td><td>FAIL</td><td>       </td><td>     4</td></tr>\n",
       "\t<tr><td>hwe;mgi                   </td><td>NA</td><td> 2</td><td> 0</td><td> 1</td><td> 0</td><td>    </td><td>FAIL   </td><td>     3</td></tr>\n",
       "\t<tr><td>mcpi                      </td><td>NA</td><td> 1</td><td> 0</td><td> 0</td><td> 1</td><td>    </td><td>       </td><td>     5</td></tr>\n",
       "\t<tr><td>mcpi                      </td><td>NA</td><td> 1</td><td> 0</td><td> 0</td><td> 1</td><td>PASS</td><td>       </td><td>     5</td></tr>\n",
       "\t<tr><td>mgi                       </td><td>NA</td><td> 1</td><td> 0</td><td> 0</td><td> 0</td><td>    </td><td>FAIL   </td><td>    41</td></tr>\n",
       "\t<tr><td>missingness               </td><td>NA</td><td> 1</td><td> 1</td><td> 0</td><td> 0</td><td>    </td><td>       </td><td> 71495</td></tr>\n",
       "\t<tr><td>missingness               </td><td>NA</td><td> 1</td><td> 1</td><td> 0</td><td> 0</td><td>    </td><td>NOT_PTV</td><td>     1</td></tr>\n",
       "\t<tr><td>missingness               </td><td>NA</td><td> 1</td><td> 1</td><td> 0</td><td> 0</td><td>    </td><td>PASS   </td><td>     1</td></tr>\n",
       "\t<tr><td>missingness               </td><td>NA</td><td> 1</td><td> 1</td><td> 0</td><td> 0</td><td>PASS</td><td>       </td><td>   271</td></tr>\n",
       "\t<tr><td>missingness;gnomad_af     </td><td>NA</td><td> 2</td><td> 1</td><td> 0</td><td> 0</td><td>FAIL</td><td>       </td><td>    38</td></tr>\n",
       "\t<tr><td>missingness;hwe           </td><td>NA</td><td> 2</td><td> 1</td><td> 1</td><td> 0</td><td>    </td><td>       </td><td> 22258</td></tr>\n",
       "\t<tr><td>missingness;hwe           </td><td>NA</td><td> 2</td><td> 1</td><td> 1</td><td> 0</td><td>PASS</td><td>       </td><td>    42</td></tr>\n",
       "\t<tr><td>missingness;hwe;gnomad_af </td><td>NA</td><td> 3</td><td> 1</td><td> 1</td><td> 0</td><td>FAIL</td><td>       </td><td>     5</td></tr>\n",
       "\t<tr><td>missingness;hwe;mgi       </td><td>NA</td><td> 3</td><td> 1</td><td> 1</td><td> 0</td><td>    </td><td>FAIL   </td><td>     2</td></tr>\n",
       "\t<tr><td>missingness;mcpi          </td><td>NA</td><td> 2</td><td> 1</td><td> 0</td><td> 1</td><td>PASS</td><td>       </td><td>     1</td></tr>\n",
       "\t<tr><td>missingness;mcpi;gnomad_af</td><td>NA</td><td> 3</td><td> 1</td><td> 0</td><td> 1</td><td>FAIL</td><td>       </td><td>     2</td></tr>\n",
       "</tbody>\n",
       "</table>\n"
      ],
      "text/latex": [
       "A data.table: 26 × 9\n",
       "\\begin{tabular}{lllllllll}\n",
       " FILTER & filter & all\\_filters & missingness & hwe & mcpi & gnomad\\_af & mgi & n\\\\\n",
       " <chr> & <lgl> & <int> & <int> & <int> & <int> & <chr> & <chr> & <int>\\\\\n",
       "\\hline\n",
       "\t                            & NA &  0 &  0 &  0 &  0 &      &         & 651983\\\\\n",
       "\t                            & NA &  0 &  0 &  0 &  0 &      & NOT\\_PTV &     29\\\\\n",
       "\t                            & NA &  0 &  0 &  0 &  0 &      & PASS    &     53\\\\\n",
       "\t                            & NA &  0 &  0 &  0 &  0 & PASS &         &   3589\\\\\n",
       "\t                            & NA & NA & NA & NA & NA &      &         &  19813\\\\\n",
       "\t gnomad\\_af                  & NA &  1 &  0 &  0 &  0 & FAIL &         &    166\\\\\n",
       "\t hwe                        & NA &  1 &  0 &  1 &  0 &      &         &  34200\\\\\n",
       "\t hwe                        & NA &  1 &  0 &  1 &  0 &      & NOT\\_PTV &      3\\\\\n",
       "\t hwe                        & NA &  1 &  0 &  1 &  0 &      & PASS    &      1\\\\\n",
       "\t hwe                        & NA &  1 &  0 &  1 &  0 & PASS &         &     58\\\\\n",
       "\t hwe;gnomad\\_af              & NA &  2 &  0 &  1 &  0 & FAIL &         &      4\\\\\n",
       "\t hwe;mgi                    & NA &  2 &  0 &  1 &  0 &      & FAIL    &      3\\\\\n",
       "\t mcpi                       & NA &  1 &  0 &  0 &  1 &      &         &      5\\\\\n",
       "\t mcpi                       & NA &  1 &  0 &  0 &  1 & PASS &         &      5\\\\\n",
       "\t mgi                        & NA &  1 &  0 &  0 &  0 &      & FAIL    &     41\\\\\n",
       "\t missingness                & NA &  1 &  1 &  0 &  0 &      &         &  71495\\\\\n",
       "\t missingness                & NA &  1 &  1 &  0 &  0 &      & NOT\\_PTV &      1\\\\\n",
       "\t missingness                & NA &  1 &  1 &  0 &  0 &      & PASS    &      1\\\\\n",
       "\t missingness                & NA &  1 &  1 &  0 &  0 & PASS &         &    271\\\\\n",
       "\t missingness;gnomad\\_af      & NA &  2 &  1 &  0 &  0 & FAIL &         &     38\\\\\n",
       "\t missingness;hwe            & NA &  2 &  1 &  1 &  0 &      &         &  22258\\\\\n",
       "\t missingness;hwe            & NA &  2 &  1 &  1 &  0 & PASS &         &     42\\\\\n",
       "\t missingness;hwe;gnomad\\_af  & NA &  3 &  1 &  1 &  0 & FAIL &         &      5\\\\\n",
       "\t missingness;hwe;mgi        & NA &  3 &  1 &  1 &  0 &      & FAIL    &      2\\\\\n",
       "\t missingness;mcpi           & NA &  2 &  1 &  0 &  1 & PASS &         &      1\\\\\n",
       "\t missingness;mcpi;gnomad\\_af & NA &  3 &  1 &  0 &  1 & FAIL &         &      2\\\\\n",
       "\\end{tabular}\n"
      ],
      "text/markdown": [
       "\n",
       "A data.table: 26 × 9\n",
       "\n",
       "| FILTER &lt;chr&gt; | filter &lt;lgl&gt; | all_filters &lt;int&gt; | missingness &lt;int&gt; | hwe &lt;int&gt; | mcpi &lt;int&gt; | gnomad_af &lt;chr&gt; | mgi &lt;chr&gt; | n &lt;int&gt; |\n",
       "|---|---|---|---|---|---|---|---|---|\n",
       "| <!----> | NA |  0 |  0 |  0 |  0 | <!----> | <!----> | 651983 |\n",
       "| <!----> | NA |  0 |  0 |  0 |  0 | <!----> | NOT_PTV |     29 |\n",
       "| <!----> | NA |  0 |  0 |  0 |  0 | <!----> | PASS    |     53 |\n",
       "| <!----> | NA |  0 |  0 |  0 |  0 | PASS | <!----> |   3589 |\n",
       "| <!----> | NA | NA | NA | NA | NA | <!----> | <!----> |  19813 |\n",
       "| gnomad_af                  | NA |  1 |  0 |  0 |  0 | FAIL | <!----> |    166 |\n",
       "| hwe                        | NA |  1 |  0 |  1 |  0 | <!----> | <!----> |  34200 |\n",
       "| hwe                        | NA |  1 |  0 |  1 |  0 | <!----> | NOT_PTV |      3 |\n",
       "| hwe                        | NA |  1 |  0 |  1 |  0 | <!----> | PASS    |      1 |\n",
       "| hwe                        | NA |  1 |  0 |  1 |  0 | PASS | <!----> |     58 |\n",
       "| hwe;gnomad_af              | NA |  2 |  0 |  1 |  0 | FAIL | <!----> |      4 |\n",
       "| hwe;mgi                    | NA |  2 |  0 |  1 |  0 | <!----> | FAIL    |      3 |\n",
       "| mcpi                       | NA |  1 |  0 |  0 |  1 | <!----> | <!----> |      5 |\n",
       "| mcpi                       | NA |  1 |  0 |  0 |  1 | PASS | <!----> |      5 |\n",
       "| mgi                        | NA |  1 |  0 |  0 |  0 | <!----> | FAIL    |     41 |\n",
       "| missingness                | NA |  1 |  1 |  0 |  0 | <!----> | <!----> |  71495 |\n",
       "| missingness                | NA |  1 |  1 |  0 |  0 | <!----> | NOT_PTV |      1 |\n",
       "| missingness                | NA |  1 |  1 |  0 |  0 | <!----> | PASS    |      1 |\n",
       "| missingness                | NA |  1 |  1 |  0 |  0 | PASS | <!----> |    271 |\n",
       "| missingness;gnomad_af      | NA |  2 |  1 |  0 |  0 | FAIL | <!----> |     38 |\n",
       "| missingness;hwe            | NA |  2 |  1 |  1 |  0 | <!----> | <!----> |  22258 |\n",
       "| missingness;hwe            | NA |  2 |  1 |  1 |  0 | PASS | <!----> |     42 |\n",
       "| missingness;hwe;gnomad_af  | NA |  3 |  1 |  1 |  0 | FAIL | <!----> |      5 |\n",
       "| missingness;hwe;mgi        | NA |  3 |  1 |  1 |  0 | <!----> | FAIL    |      2 |\n",
       "| missingness;mcpi           | NA |  2 |  1 |  0 |  1 | PASS | <!----> |      1 |\n",
       "| missingness;mcpi;gnomad_af | NA |  3 |  1 |  0 |  1 | FAIL | <!----> |      2 |\n",
       "\n"
      ],
      "text/plain": [
       "   FILTER                     filter all_filters missingness hwe mcpi gnomad_af\n",
       "1                             NA      0           0           0   0            \n",
       "2                             NA      0           0           0   0            \n",
       "3                             NA      0           0           0   0            \n",
       "4                             NA      0           0           0   0   PASS     \n",
       "5                             NA     NA          NA          NA  NA            \n",
       "6  gnomad_af                  NA      1           0           0   0   FAIL     \n",
       "7  hwe                        NA      1           0           1   0            \n",
       "8  hwe                        NA      1           0           1   0            \n",
       "9  hwe                        NA      1           0           1   0            \n",
       "10 hwe                        NA      1           0           1   0   PASS     \n",
       "11 hwe;gnomad_af              NA      2           0           1   0   FAIL     \n",
       "12 hwe;mgi                    NA      2           0           1   0            \n",
       "13 mcpi                       NA      1           0           0   1            \n",
       "14 mcpi                       NA      1           0           0   1   PASS     \n",
       "15 mgi                        NA      1           0           0   0            \n",
       "16 missingness                NA      1           1           0   0            \n",
       "17 missingness                NA      1           1           0   0            \n",
       "18 missingness                NA      1           1           0   0            \n",
       "19 missingness                NA      1           1           0   0   PASS     \n",
       "20 missingness;gnomad_af      NA      2           1           0   0   FAIL     \n",
       "21 missingness;hwe            NA      2           1           1   0            \n",
       "22 missingness;hwe            NA      2           1           1   0   PASS     \n",
       "23 missingness;hwe;gnomad_af  NA      3           1           1   0   FAIL     \n",
       "24 missingness;hwe;mgi        NA      3           1           1   0            \n",
       "25 missingness;mcpi           NA      2           1           0   1   PASS     \n",
       "26 missingness;mcpi;gnomad_af NA      3           1           0   1   FAIL     \n",
       "   mgi     n     \n",
       "1          651983\n",
       "2  NOT_PTV     29\n",
       "3  PASS        53\n",
       "4            3589\n",
       "5           19813\n",
       "6             166\n",
       "7           34200\n",
       "8  NOT_PTV      3\n",
       "9  PASS         1\n",
       "10             58\n",
       "11              4\n",
       "12 FAIL         3\n",
       "13              5\n",
       "14              5\n",
       "15 FAIL        41\n",
       "16          71495\n",
       "17 NOT_PTV      1\n",
       "18 PASS         1\n",
       "19            271\n",
       "20             38\n",
       "21          22258\n",
       "22             42\n",
       "23              5\n",
       "24 FAIL         2\n",
       "25              1\n",
       "26              2"
      ]
     },
     "metadata": {},
     "output_type": "display_data"
    }
   ],
   "source": [
    "old_cal_annot_df %>%\n",
    "mutate(\n",
    "    FILTER = str_replace(paste0(\n",
    "        if_else(is.na(missingness) | missingness == 0, '', 'missingness;'),\n",
    "        if_else(is.na(hwe) | hwe == 0, '', 'hwe;'),\n",
    "        if_else(is.na(mcpi) | mcpi == 0, '', 'mcpi;'),\n",
    "        if_else(is.na(gnomad_af) | gnomad_af %in% c('', 'PASS'), '', 'gnomad_af;'),\n",
    "        if_else(is.na(mgi) | mgi %in% c('', 'PASS', 'NOT_PTV'), '', 'mgi;')\n",
    "    ), ';$', '')\n",
    ") %>%\n",
    "count(FILTER, filter, all_filters, missingness, hwe, mcpi, gnomad_af, mgi)\n"
   ]
  },
  {
   "cell_type": "markdown",
   "metadata": {},
   "source": [
    "## compare the new QC flag and the previous ones"
   ]
  },
  {
   "cell_type": "code",
   "execution_count": 70,
   "metadata": {},
   "outputs": [
    {
     "data": {
      "text/html": [
       "<table>\n",
       "<caption>A data.table: 6 × 3</caption>\n",
       "<thead>\n",
       "\t<tr><th scope=col>filter_hwe</th><th scope=col>hwe</th><th scope=col>n</th></tr>\n",
       "\t<tr><th scope=col>&lt;chr&gt;</th><th scope=col>&lt;int&gt;</th><th scope=col>&lt;int&gt;</th></tr>\n",
       "</thead>\n",
       "<tbody>\n",
       "\t<tr><td>    </td><td> 0</td><td>727645</td></tr>\n",
       "\t<tr><td>    </td><td> 1</td><td>    47</td></tr>\n",
       "\t<tr><td>    </td><td>NA</td><td>294586</td></tr>\n",
       "\t<tr><td>hwe;</td><td> 0</td><td>    35</td></tr>\n",
       "\t<tr><td>hwe;</td><td> 1</td><td> 56529</td></tr>\n",
       "\t<tr><td>hwe;</td><td>NA</td><td>  2126</td></tr>\n",
       "</tbody>\n",
       "</table>\n"
      ],
      "text/latex": [
       "A data.table: 6 × 3\n",
       "\\begin{tabular}{lll}\n",
       " filter\\_hwe & hwe & n\\\\\n",
       " <chr> & <int> & <int>\\\\\n",
       "\\hline\n",
       "\t      &  0 & 727645\\\\\n",
       "\t      &  1 &     47\\\\\n",
       "\t      & NA & 294586\\\\\n",
       "\t hwe; &  0 &     35\\\\\n",
       "\t hwe; &  1 &  56529\\\\\n",
       "\t hwe; & NA &   2126\\\\\n",
       "\\end{tabular}\n"
      ],
      "text/markdown": [
       "\n",
       "A data.table: 6 × 3\n",
       "\n",
       "| filter_hwe &lt;chr&gt; | hwe &lt;int&gt; | n &lt;int&gt; |\n",
       "|---|---|---|\n",
       "| <!----> |  0 | 727645 |\n",
       "| <!----> |  1 |     47 |\n",
       "| <!----> | NA | 294586 |\n",
       "| hwe; |  0 |     35 |\n",
       "| hwe; |  1 |  56529 |\n",
       "| hwe; | NA |   2126 |\n",
       "\n"
      ],
      "text/plain": [
       "  filter_hwe hwe n     \n",
       "1             0  727645\n",
       "2             1      47\n",
       "3            NA  294586\n",
       "4 hwe;        0      35\n",
       "5 hwe;        1   56529\n",
       "6 hwe;       NA    2126"
      ]
     },
     "metadata": {},
     "output_type": "display_data"
    }
   ],
   "source": [
    "afreq_hwe_df %>%\n",
    "left_join(old_cal_annot_df %>% select(ID, hwe), by='ID') %>%\n",
    "count(filter_hwe, hwe)"
   ]
  },
  {
   "cell_type": "code",
   "execution_count": 71,
   "metadata": {},
   "outputs": [
    {
     "data": {
      "text/html": [
       "<table>\n",
       "<caption>A data.table: 6 × 3</caption>\n",
       "<thead>\n",
       "\t<tr><th scope=col>filter_missingness</th><th scope=col>missingness</th><th scope=col>n</th></tr>\n",
       "\t<tr><th scope=col>&lt;chr&gt;</th><th scope=col>&lt;int&gt;</th><th scope=col>&lt;int&gt;</th></tr>\n",
       "</thead>\n",
       "<tbody>\n",
       "\t<tr><td>            </td><td> 0</td><td>685526</td></tr>\n",
       "\t<tr><td>            </td><td> 1</td><td>   422</td></tr>\n",
       "\t<tr><td>            </td><td>NA</td><td> 18539</td></tr>\n",
       "\t<tr><td>missingness;</td><td> 0</td><td>  4614</td></tr>\n",
       "\t<tr><td>missingness;</td><td> 1</td><td> 93694</td></tr>\n",
       "\t<tr><td>missingness;</td><td>NA</td><td>278173</td></tr>\n",
       "</tbody>\n",
       "</table>\n"
      ],
      "text/latex": [
       "A data.table: 6 × 3\n",
       "\\begin{tabular}{lll}\n",
       " filter\\_missingness & missingness & n\\\\\n",
       " <chr> & <int> & <int>\\\\\n",
       "\\hline\n",
       "\t              &  0 & 685526\\\\\n",
       "\t              &  1 &    422\\\\\n",
       "\t              & NA &  18539\\\\\n",
       "\t missingness; &  0 &   4614\\\\\n",
       "\t missingness; &  1 &  93694\\\\\n",
       "\t missingness; & NA & 278173\\\\\n",
       "\\end{tabular}\n"
      ],
      "text/markdown": [
       "\n",
       "A data.table: 6 × 3\n",
       "\n",
       "| filter_missingness &lt;chr&gt; | missingness &lt;int&gt; | n &lt;int&gt; |\n",
       "|---|---|---|\n",
       "| <!----> |  0 | 685526 |\n",
       "| <!----> |  1 |    422 |\n",
       "| <!----> | NA |  18539 |\n",
       "| missingness; |  0 |   4614 |\n",
       "| missingness; |  1 |  93694 |\n",
       "| missingness; | NA | 278173 |\n",
       "\n"
      ],
      "text/plain": [
       "  filter_missingness missingness n     \n",
       "1                     0          685526\n",
       "2                     1             422\n",
       "3                    NA           18539\n",
       "4 missingness;        0            4614\n",
       "5 missingness;        1           93694\n",
       "6 missingness;       NA          278173"
      ]
     },
     "metadata": {},
     "output_type": "display_data"
    }
   ],
   "source": [
    "afreq_hwe_df %>%\n",
    "left_join(old_cal_annot_df %>% select(ID, missingness), by='ID') %>%\n",
    "count(filter_missingness, missingness)"
   ]
  },
  {
   "cell_type": "code",
   "execution_count": 125,
   "metadata": {},
   "outputs": [
    {
     "data": {
      "text/html": [
       "<table>\n",
       "<caption>A data.table: 7 × 3</caption>\n",
       "<thead>\n",
       "\t<tr><th scope=col>all_filters</th><th scope=col>ld_indep</th><th scope=col>n</th></tr>\n",
       "\t<tr><th scope=col>&lt;int&gt;</th><th scope=col>&lt;lgl&gt;</th><th scope=col>&lt;int&gt;</th></tr>\n",
       "</thead>\n",
       "<tbody>\n",
       "\t<tr><td> 0</td><td>FALSE</td><td>294230</td></tr>\n",
       "\t<tr><td> 0</td><td> TRUE</td><td>361424</td></tr>\n",
       "\t<tr><td> 1</td><td>FALSE</td><td>106246</td></tr>\n",
       "\t<tr><td> 1</td><td> TRUE</td><td>     1</td></tr>\n",
       "\t<tr><td> 2</td><td>FALSE</td><td> 22346</td></tr>\n",
       "\t<tr><td> 3</td><td>FALSE</td><td>     9</td></tr>\n",
       "\t<tr><td>NA</td><td>   NA</td><td> 19813</td></tr>\n",
       "</tbody>\n",
       "</table>\n"
      ],
      "text/latex": [
       "A data.table: 7 × 3\n",
       "\\begin{tabular}{lll}\n",
       " all\\_filters & ld\\_indep & n\\\\\n",
       " <int> & <lgl> & <int>\\\\\n",
       "\\hline\n",
       "\t  0 & FALSE & 294230\\\\\n",
       "\t  0 &  TRUE & 361424\\\\\n",
       "\t  1 & FALSE & 106246\\\\\n",
       "\t  1 &  TRUE &      1\\\\\n",
       "\t  2 & FALSE &  22346\\\\\n",
       "\t  3 & FALSE &      9\\\\\n",
       "\t NA &    NA &  19813\\\\\n",
       "\\end{tabular}\n"
      ],
      "text/markdown": [
       "\n",
       "A data.table: 7 × 3\n",
       "\n",
       "| all_filters &lt;int&gt; | ld_indep &lt;lgl&gt; | n &lt;int&gt; |\n",
       "|---|---|---|\n",
       "|  0 | FALSE | 294230 |\n",
       "|  0 |  TRUE | 361424 |\n",
       "|  1 | FALSE | 106246 |\n",
       "|  1 |  TRUE |      1 |\n",
       "|  2 | FALSE |  22346 |\n",
       "|  3 | FALSE |      9 |\n",
       "| NA |    NA |  19813 |\n",
       "\n"
      ],
      "text/plain": [
       "  all_filters ld_indep n     \n",
       "1  0          FALSE    294230\n",
       "2  0           TRUE    361424\n",
       "3  1          FALSE    106246\n",
       "4  1           TRUE         1\n",
       "5  2          FALSE     22346\n",
       "6  3          FALSE         9\n",
       "7 NA             NA     19813"
      ]
     },
     "metadata": {},
     "output_type": "display_data"
    }
   ],
   "source": [
    "old_cal_annot_df %>% \n",
    "count(all_filters, ld_indep)"
   ]
  },
  {
   "cell_type": "markdown",
   "metadata": {},
   "source": [
    "## assigne variant QC flags"
   ]
  },
  {
   "cell_type": "code",
   "execution_count": 129,
   "metadata": {},
   "outputs": [],
   "source": [
    "afreq_hwe_df %>%\n",
    "left_join(old_cal_annot_df %>% select(ID, mcpi, gnomad_af, mgi, mgi_notes), by='ID') %>%\n",
    "replace_na(list(mgi_notes='')) %>% mutate(\n",
    "    FILTER = str_replace(paste0(\n",
    "        filter_missingness, filter_hwe,\n",
    "        if_else(is.na(mcpi) | mcpi == 0, '', 'mcpi;'),\n",
    "        if_else(is.na(gnomad_af) | gnomad_af %in% c('', 'PASS'), '', 'gnomad_af;'),\n",
    "        if_else(is.na(mgi) | mgi %in% c('', 'PASS', 'NOT_PTV'), '', 'mgi;')\n",
    "    ), ';$', ''),\n",
    "    FILTER = if_else(FILTER=='', '.', FILTER)\n",
    ") %>%\n",
    "select(-mcpi, -gnomad_af, -mgi, -filter_missingness, -filter_hwe) %>%\n",
    "mutate(\n",
    "    # compute minor allele frequency\n",
    "    UKB_white_british_MAF = pmin(UKB_white_british_AF, 1 - UKB_white_british_AF),\n",
    "    \n",
    "    # which genotype data source contains the variant (array [cal], CNV [cnv], or HLA [hla])\n",
    "    geno_data_source = if_else(ID %in% (cnv_pvar_df %>% pull(ID)), 'cnv', if_else(ID %in% (hla_pvar_df %>% pull(ID)), 'hla', 'cal'))\n",
    ")-> afreq_hwe_qc_df\n"
   ]
  },
  {
   "cell_type": "code",
   "execution_count": 135,
   "metadata": {},
   "outputs": [
    {
     "data": {
      "text/html": [
       "<table>\n",
       "<caption>A data.table: 5 × 3</caption>\n",
       "<thead>\n",
       "\t<tr><th scope=col>geno_data_source</th><th scope=col>array</th><th scope=col>n</th></tr>\n",
       "\t<tr><th scope=col>&lt;chr&gt;</th><th scope=col>&lt;chr&gt;</th><th scope=col>&lt;int&gt;</th></tr>\n",
       "</thead>\n",
       "<tbody>\n",
       "\t<tr><td>cal</td><td>both</td><td>753693</td></tr>\n",
       "\t<tr><td>cal</td><td>UKBB</td><td> 34197</td></tr>\n",
       "\t<tr><td>cal</td><td>UKBL</td><td> 17536</td></tr>\n",
       "\t<tr><td>cnv</td><td>NA  </td><td>275180</td></tr>\n",
       "\t<tr><td>hla</td><td>NA  </td><td>   362</td></tr>\n",
       "</tbody>\n",
       "</table>\n"
      ],
      "text/latex": [
       "A data.table: 5 × 3\n",
       "\\begin{tabular}{lll}\n",
       " geno\\_data\\_source & array & n\\\\\n",
       " <chr> & <chr> & <int>\\\\\n",
       "\\hline\n",
       "\t cal & both & 753693\\\\\n",
       "\t cal & UKBB &  34197\\\\\n",
       "\t cal & UKBL &  17536\\\\\n",
       "\t cnv & NA   & 275180\\\\\n",
       "\t hla & NA   &    362\\\\\n",
       "\\end{tabular}\n"
      ],
      "text/markdown": [
       "\n",
       "A data.table: 5 × 3\n",
       "\n",
       "| geno_data_source &lt;chr&gt; | array &lt;chr&gt; | n &lt;int&gt; |\n",
       "|---|---|---|\n",
       "| cal | both | 753693 |\n",
       "| cal | UKBB |  34197 |\n",
       "| cal | UKBL |  17536 |\n",
       "| cnv | NA   | 275180 |\n",
       "| hla | NA   |    362 |\n",
       "\n"
      ],
      "text/plain": [
       "  geno_data_source array n     \n",
       "1 cal              both  753693\n",
       "2 cal              UKBB   34197\n",
       "3 cal              UKBL   17536\n",
       "4 cnv              NA    275180\n",
       "5 hla              NA       362"
      ]
     },
     "metadata": {},
     "output_type": "display_data"
    }
   ],
   "source": [
    "afreq_hwe_qc_df %>% count(geno_data_source, array)"
   ]
  },
  {
   "cell_type": "markdown",
   "metadata": {},
   "source": [
    "## plot the Venn Diagram "
   ]
  },
  {
   "cell_type": "code",
   "execution_count": 115,
   "metadata": {},
   "outputs": [],
   "source": [
    "filter_key <- c('missingness', 'hwe', 'mcpi', 'gnomad_af', 'mgi') \n",
    "\n",
    "var_QC_p <- UpSetR::upset(\n",
    "    UpSetR::fromList(setNames(filter_key %>% lapply(function(k){afreq_hwe_qc_df %>% filter(str_detect(FILTER, k)) %>% pull(ID)}), filter_key)),\n",
    "    mainbar.y.label = \"Number of removed variants\",\n",
    "    sets.x.label = \"# variants\", nsets = 20, nintersects = NA,\n",
    "    text.scale = 1.3, order.by = \"freq\", show.numbers = \"yes\"\n",
    ")\n"
   ]
  },
  {
   "cell_type": "code",
   "execution_count": 124,
   "metadata": {},
   "outputs": [
    {
     "data": {
      "text/html": [
       "<strong>png:</strong> 2"
      ],
      "text/latex": [
       "\\textbf{png:} 2"
      ],
      "text/markdown": [
       "**png:** 2"
      ],
      "text/plain": [
       "png \n",
       "  2 "
      ]
     },
     "metadata": {},
     "output_type": "display_data"
    }
   ],
   "source": [
    "pdf(file=var_QC_plot_f, onefile=FALSE, height = 6, width=8, family = \"Helvetica\")\n",
    "var_QC_p\n",
    "dev.off()\n"
   ]
  },
  {
   "cell_type": "code",
   "execution_count": 118,
   "metadata": {},
   "outputs": [
    {
     "data": {
      "text/html": [
       "<table>\n",
       "<caption>A data.table: 14 × 2</caption>\n",
       "<thead>\n",
       "\t<tr><th scope=col>FILTER</th><th scope=col>n</th></tr>\n",
       "\t<tr><th scope=col>&lt;chr&gt;</th><th scope=col>&lt;int&gt;</th></tr>\n",
       "</thead>\n",
       "<tbody>\n",
       "\t<tr><td>.                         </td><td>669598</td></tr>\n",
       "\t<tr><td>missingness               </td><td>352422</td></tr>\n",
       "\t<tr><td>hwe                       </td><td> 34668</td></tr>\n",
       "\t<tr><td>missingness;hwe           </td><td> 24008</td></tr>\n",
       "\t<tr><td>gnomad_af                 </td><td>   164</td></tr>\n",
       "\t<tr><td>mgi                       </td><td>    41</td></tr>\n",
       "\t<tr><td>missingness;gnomad_af     </td><td>    40</td></tr>\n",
       "\t<tr><td>mcpi                      </td><td>    10</td></tr>\n",
       "\t<tr><td>missingness;hwe;gnomad_af </td><td>     6</td></tr>\n",
       "\t<tr><td>hwe;gnomad_af             </td><td>     3</td></tr>\n",
       "\t<tr><td>hwe;mgi                   </td><td>     3</td></tr>\n",
       "\t<tr><td>missingness;hwe;mgi       </td><td>     2</td></tr>\n",
       "\t<tr><td>missingness;mcpi;gnomad_af</td><td>     2</td></tr>\n",
       "\t<tr><td>missingness;mcpi          </td><td>     1</td></tr>\n",
       "</tbody>\n",
       "</table>\n"
      ],
      "text/latex": [
       "A data.table: 14 × 2\n",
       "\\begin{tabular}{ll}\n",
       " FILTER & n\\\\\n",
       " <chr> & <int>\\\\\n",
       "\\hline\n",
       "\t .                          & 669598\\\\\n",
       "\t missingness                & 352422\\\\\n",
       "\t hwe                        &  34668\\\\\n",
       "\t missingness;hwe            &  24008\\\\\n",
       "\t gnomad\\_af                  &    164\\\\\n",
       "\t mgi                        &     41\\\\\n",
       "\t missingness;gnomad\\_af      &     40\\\\\n",
       "\t mcpi                       &     10\\\\\n",
       "\t missingness;hwe;gnomad\\_af  &      6\\\\\n",
       "\t hwe;gnomad\\_af              &      3\\\\\n",
       "\t hwe;mgi                    &      3\\\\\n",
       "\t missingness;hwe;mgi        &      2\\\\\n",
       "\t missingness;mcpi;gnomad\\_af &      2\\\\\n",
       "\t missingness;mcpi           &      1\\\\\n",
       "\\end{tabular}\n"
      ],
      "text/markdown": [
       "\n",
       "A data.table: 14 × 2\n",
       "\n",
       "| FILTER &lt;chr&gt; | n &lt;int&gt; |\n",
       "|---|---|\n",
       "| .                          | 669598 |\n",
       "| missingness                | 352422 |\n",
       "| hwe                        |  34668 |\n",
       "| missingness;hwe            |  24008 |\n",
       "| gnomad_af                  |    164 |\n",
       "| mgi                        |     41 |\n",
       "| missingness;gnomad_af      |     40 |\n",
       "| mcpi                       |     10 |\n",
       "| missingness;hwe;gnomad_af  |      6 |\n",
       "| hwe;gnomad_af              |      3 |\n",
       "| hwe;mgi                    |      3 |\n",
       "| missingness;hwe;mgi        |      2 |\n",
       "| missingness;mcpi;gnomad_af |      2 |\n",
       "| missingness;mcpi           |      1 |\n",
       "\n"
      ],
      "text/plain": [
       "   FILTER                     n     \n",
       "1  .                          669598\n",
       "2  missingness                352422\n",
       "3  hwe                         34668\n",
       "4  missingness;hwe             24008\n",
       "5  gnomad_af                     164\n",
       "6  mgi                            41\n",
       "7  missingness;gnomad_af          40\n",
       "8  mcpi                           10\n",
       "9  missingness;hwe;gnomad_af       6\n",
       "10 hwe;gnomad_af                   3\n",
       "11 hwe;mgi                         3\n",
       "12 missingness;hwe;mgi             2\n",
       "13 missingness;mcpi;gnomad_af      2\n",
       "14 missingness;mcpi                1"
      ]
     },
     "metadata": {},
     "output_type": "display_data"
    }
   ],
   "source": [
    "afreq_hwe_qc_df %>% count(FILTER) %>% arrange(-n)\n"
   ]
  },
  {
   "cell_type": "code",
   "execution_count": 122,
   "metadata": {},
   "outputs": [
    {
     "data": {
      "text/html": [
       "<table>\n",
       "<caption>A data.table: 7 × 3</caption>\n",
       "<thead>\n",
       "\t<tr><th scope=col>all_filters</th><th scope=col>ld_indep</th><th scope=col>n</th></tr>\n",
       "\t<tr><th scope=col>&lt;int&gt;</th><th scope=col>&lt;lgl&gt;</th><th scope=col>&lt;int&gt;</th></tr>\n",
       "</thead>\n",
       "<tbody>\n",
       "\t<tr><td> 0</td><td>FALSE</td><td>294230</td></tr>\n",
       "\t<tr><td> 0</td><td> TRUE</td><td>361424</td></tr>\n",
       "\t<tr><td> 1</td><td>FALSE</td><td>106246</td></tr>\n",
       "\t<tr><td> 1</td><td> TRUE</td><td>     1</td></tr>\n",
       "\t<tr><td> 2</td><td>FALSE</td><td> 22346</td></tr>\n",
       "\t<tr><td> 3</td><td>FALSE</td><td>     9</td></tr>\n",
       "\t<tr><td>NA</td><td>   NA</td><td> 19813</td></tr>\n",
       "</tbody>\n",
       "</table>\n"
      ],
      "text/latex": [
       "A data.table: 7 × 3\n",
       "\\begin{tabular}{lll}\n",
       " all\\_filters & ld\\_indep & n\\\\\n",
       " <int> & <lgl> & <int>\\\\\n",
       "\\hline\n",
       "\t  0 & FALSE & 294230\\\\\n",
       "\t  0 &  TRUE & 361424\\\\\n",
       "\t  1 & FALSE & 106246\\\\\n",
       "\t  1 &  TRUE &      1\\\\\n",
       "\t  2 & FALSE &  22346\\\\\n",
       "\t  3 & FALSE &      9\\\\\n",
       "\t NA &    NA &  19813\\\\\n",
       "\\end{tabular}\n"
      ],
      "text/markdown": [
       "\n",
       "A data.table: 7 × 3\n",
       "\n",
       "| all_filters &lt;int&gt; | ld_indep &lt;lgl&gt; | n &lt;int&gt; |\n",
       "|---|---|---|\n",
       "|  0 | FALSE | 294230 |\n",
       "|  0 |  TRUE | 361424 |\n",
       "|  1 | FALSE | 106246 |\n",
       "|  1 |  TRUE |      1 |\n",
       "|  2 | FALSE |  22346 |\n",
       "|  3 | FALSE |      9 |\n",
       "| NA |    NA |  19813 |\n",
       "\n"
      ],
      "text/plain": [
       "  all_filters ld_indep n     \n",
       "1  0          FALSE    294230\n",
       "2  0           TRUE    361424\n",
       "3  1          FALSE    106246\n",
       "4  1           TRUE         1\n",
       "5  2          FALSE     22346\n",
       "6  3          FALSE         9\n",
       "7 NA             NA     19813"
      ]
     },
     "metadata": {},
     "output_type": "display_data"
    }
   ],
   "source": []
  },
  {
   "cell_type": "code",
   "execution_count": 140,
   "metadata": {},
   "outputs": [
    {
     "data": {
      "text/html": [
       "<style>\n",
       ".list-inline {list-style: none; margin:0; padding: 0}\n",
       ".list-inline>li {display: inline-block}\n",
       ".list-inline>li:not(:last-child)::after {content: \"\\00b7\"; padding: 0 .5ex}\n",
       "</style>\n",
       "<ol class=list-inline><li>'CHROM'</li><li>'POS'</li><li>'ID'</li><li>'REF'</li><li>'ALT'</li><li>'array'</li><li>'UKB_AF'</li><li>'UKB_white_british_AF'</li><li>'UKB_non_british_white_AF'</li><li>'UKB_african_AF'</li><li>'UKB_s_asian_AF'</li><li>'UKB_e_asian_AF'</li><li>'UKB_related_AF'</li><li>'UKB_others_AF'</li><li>'UKB_OBS_CT'</li><li>'UKB_white_british_OBS_CT'</li><li>'UKB_non_british_white_OBS_CT'</li><li>'UKB_african_OBS_CT'</li><li>'UKB_s_asian_OBS_CT'</li><li>'UKB_e_asian_OBS_CT'</li><li>'UKB_related_OBS_CT'</li><li>'UKB_others_OBS_CT'</li><li>'UKB_UKBB_OBS_CT'</li><li>'UKB_UKBL_OBS_CT'</li><li>'UKB_MISSING_CT'</li><li>'UKB_white_british_MISSING_CT'</li><li>'UKB_non_british_white_MISSING_CT'</li><li>'UKB_african_MISSING_CT'</li><li>'UKB_s_asian_MISSING_CT'</li><li>'UKB_e_asian_MISSING_CT'</li><li>'UKB_related_MISSING_CT'</li><li>'UKB_others_MISSING_CT'</li><li>'UKB_UKBB_MISSING_CT'</li><li>'UKB_UKBL_MISSING_CT'</li><li>'UKB_HOM_REF_CT'</li><li>'UKB_white_british_HOM_REF_CT'</li><li>'UKB_non_british_white_HOM_REF_CT'</li><li>'UKB_african_HOM_REF_CT'</li><li>'UKB_s_asian_HOM_REF_CT'</li><li>'UKB_e_asian_HOM_REF_CT'</li><li>'UKB_related_HOM_REF_CT'</li><li>'UKB_others_HOM_REF_CT'</li><li>'UKB_HET_REF_ALT_CTS'</li><li>'UKB_white_british_HET_REF_ALT_CTS'</li><li>'UKB_non_british_white_HET_REF_ALT_CTS'</li><li>'UKB_african_HET_REF_ALT_CTS'</li><li>'UKB_s_asian_HET_REF_ALT_CTS'</li><li>'UKB_e_asian_HET_REF_ALT_CTS'</li><li>'UKB_related_HET_REF_ALT_CTS'</li><li>'UKB_others_HET_REF_ALT_CTS'</li><li>'UKB_TWO_ALT_GENO_CTS'</li><li>'UKB_white_british_TWO_ALT_GENO_CTS'</li><li>'UKB_non_british_white_TWO_ALT_GENO_CTS'</li><li>'UKB_african_TWO_ALT_GENO_CTS'</li><li>'UKB_s_asian_TWO_ALT_GENO_CTS'</li><li>'UKB_e_asian_TWO_ALT_GENO_CTS'</li><li>'UKB_related_TWO_ALT_GENO_CTS'</li><li>'UKB_others_TWO_ALT_GENO_CTS'</li><li>'UKB_HAP_REF_CT'</li><li>'UKB_white_british_HAP_REF_CT'</li><li>'UKB_non_british_white_HAP_REF_CT'</li><li>'UKB_african_HAP_REF_CT'</li><li>'UKB_s_asian_HAP_REF_CT'</li><li>'UKB_e_asian_HAP_REF_CT'</li><li>'UKB_related_HAP_REF_CT'</li><li>'UKB_others_HAP_REF_CT'</li><li>'UKB_HAP_ALT_CTS'</li><li>'UKB_white_british_HAP_ALT_CTS'</li><li>'UKB_non_british_white_HAP_ALT_CTS'</li><li>'UKB_african_HAP_ALT_CTS'</li><li>'UKB_s_asian_HAP_ALT_CTS'</li><li>'UKB_e_asian_HAP_ALT_CTS'</li><li>'UKB_related_HAP_ALT_CTS'</li><li>'UKB_others_HAP_ALT_CTS'</li><li>'f_miss'</li><li>'f_miss_UKBB'</li><li>'f_miss_UKBL'</li><li>'hwe_p'</li><li>'mgi_notes'</li><li>'FILTER'</li><li>'UKB_white_british_MAF'</li><li>'geno_data_source'</li></ol>\n"
      ],
      "text/latex": [
       "\\begin{enumerate*}\n",
       "\\item 'CHROM'\n",
       "\\item 'POS'\n",
       "\\item 'ID'\n",
       "\\item 'REF'\n",
       "\\item 'ALT'\n",
       "\\item 'array'\n",
       "\\item 'UKB\\_AF'\n",
       "\\item 'UKB\\_white\\_british\\_AF'\n",
       "\\item 'UKB\\_non\\_british\\_white\\_AF'\n",
       "\\item 'UKB\\_african\\_AF'\n",
       "\\item 'UKB\\_s\\_asian\\_AF'\n",
       "\\item 'UKB\\_e\\_asian\\_AF'\n",
       "\\item 'UKB\\_related\\_AF'\n",
       "\\item 'UKB\\_others\\_AF'\n",
       "\\item 'UKB\\_OBS\\_CT'\n",
       "\\item 'UKB\\_white\\_british\\_OBS\\_CT'\n",
       "\\item 'UKB\\_non\\_british\\_white\\_OBS\\_CT'\n",
       "\\item 'UKB\\_african\\_OBS\\_CT'\n",
       "\\item 'UKB\\_s\\_asian\\_OBS\\_CT'\n",
       "\\item 'UKB\\_e\\_asian\\_OBS\\_CT'\n",
       "\\item 'UKB\\_related\\_OBS\\_CT'\n",
       "\\item 'UKB\\_others\\_OBS\\_CT'\n",
       "\\item 'UKB\\_UKBB\\_OBS\\_CT'\n",
       "\\item 'UKB\\_UKBL\\_OBS\\_CT'\n",
       "\\item 'UKB\\_MISSING\\_CT'\n",
       "\\item 'UKB\\_white\\_british\\_MISSING\\_CT'\n",
       "\\item 'UKB\\_non\\_british\\_white\\_MISSING\\_CT'\n",
       "\\item 'UKB\\_african\\_MISSING\\_CT'\n",
       "\\item 'UKB\\_s\\_asian\\_MISSING\\_CT'\n",
       "\\item 'UKB\\_e\\_asian\\_MISSING\\_CT'\n",
       "\\item 'UKB\\_related\\_MISSING\\_CT'\n",
       "\\item 'UKB\\_others\\_MISSING\\_CT'\n",
       "\\item 'UKB\\_UKBB\\_MISSING\\_CT'\n",
       "\\item 'UKB\\_UKBL\\_MISSING\\_CT'\n",
       "\\item 'UKB\\_HOM\\_REF\\_CT'\n",
       "\\item 'UKB\\_white\\_british\\_HOM\\_REF\\_CT'\n",
       "\\item 'UKB\\_non\\_british\\_white\\_HOM\\_REF\\_CT'\n",
       "\\item 'UKB\\_african\\_HOM\\_REF\\_CT'\n",
       "\\item 'UKB\\_s\\_asian\\_HOM\\_REF\\_CT'\n",
       "\\item 'UKB\\_e\\_asian\\_HOM\\_REF\\_CT'\n",
       "\\item 'UKB\\_related\\_HOM\\_REF\\_CT'\n",
       "\\item 'UKB\\_others\\_HOM\\_REF\\_CT'\n",
       "\\item 'UKB\\_HET\\_REF\\_ALT\\_CTS'\n",
       "\\item 'UKB\\_white\\_british\\_HET\\_REF\\_ALT\\_CTS'\n",
       "\\item 'UKB\\_non\\_british\\_white\\_HET\\_REF\\_ALT\\_CTS'\n",
       "\\item 'UKB\\_african\\_HET\\_REF\\_ALT\\_CTS'\n",
       "\\item 'UKB\\_s\\_asian\\_HET\\_REF\\_ALT\\_CTS'\n",
       "\\item 'UKB\\_e\\_asian\\_HET\\_REF\\_ALT\\_CTS'\n",
       "\\item 'UKB\\_related\\_HET\\_REF\\_ALT\\_CTS'\n",
       "\\item 'UKB\\_others\\_HET\\_REF\\_ALT\\_CTS'\n",
       "\\item 'UKB\\_TWO\\_ALT\\_GENO\\_CTS'\n",
       "\\item 'UKB\\_white\\_british\\_TWO\\_ALT\\_GENO\\_CTS'\n",
       "\\item 'UKB\\_non\\_british\\_white\\_TWO\\_ALT\\_GENO\\_CTS'\n",
       "\\item 'UKB\\_african\\_TWO\\_ALT\\_GENO\\_CTS'\n",
       "\\item 'UKB\\_s\\_asian\\_TWO\\_ALT\\_GENO\\_CTS'\n",
       "\\item 'UKB\\_e\\_asian\\_TWO\\_ALT\\_GENO\\_CTS'\n",
       "\\item 'UKB\\_related\\_TWO\\_ALT\\_GENO\\_CTS'\n",
       "\\item 'UKB\\_others\\_TWO\\_ALT\\_GENO\\_CTS'\n",
       "\\item 'UKB\\_HAP\\_REF\\_CT'\n",
       "\\item 'UKB\\_white\\_british\\_HAP\\_REF\\_CT'\n",
       "\\item 'UKB\\_non\\_british\\_white\\_HAP\\_REF\\_CT'\n",
       "\\item 'UKB\\_african\\_HAP\\_REF\\_CT'\n",
       "\\item 'UKB\\_s\\_asian\\_HAP\\_REF\\_CT'\n",
       "\\item 'UKB\\_e\\_asian\\_HAP\\_REF\\_CT'\n",
       "\\item 'UKB\\_related\\_HAP\\_REF\\_CT'\n",
       "\\item 'UKB\\_others\\_HAP\\_REF\\_CT'\n",
       "\\item 'UKB\\_HAP\\_ALT\\_CTS'\n",
       "\\item 'UKB\\_white\\_british\\_HAP\\_ALT\\_CTS'\n",
       "\\item 'UKB\\_non\\_british\\_white\\_HAP\\_ALT\\_CTS'\n",
       "\\item 'UKB\\_african\\_HAP\\_ALT\\_CTS'\n",
       "\\item 'UKB\\_s\\_asian\\_HAP\\_ALT\\_CTS'\n",
       "\\item 'UKB\\_e\\_asian\\_HAP\\_ALT\\_CTS'\n",
       "\\item 'UKB\\_related\\_HAP\\_ALT\\_CTS'\n",
       "\\item 'UKB\\_others\\_HAP\\_ALT\\_CTS'\n",
       "\\item 'f\\_miss'\n",
       "\\item 'f\\_miss\\_UKBB'\n",
       "\\item 'f\\_miss\\_UKBL'\n",
       "\\item 'hwe\\_p'\n",
       "\\item 'mgi\\_notes'\n",
       "\\item 'FILTER'\n",
       "\\item 'UKB\\_white\\_british\\_MAF'\n",
       "\\item 'geno\\_data\\_source'\n",
       "\\end{enumerate*}\n"
      ],
      "text/markdown": [
       "1. 'CHROM'\n",
       "2. 'POS'\n",
       "3. 'ID'\n",
       "4. 'REF'\n",
       "5. 'ALT'\n",
       "6. 'array'\n",
       "7. 'UKB_AF'\n",
       "8. 'UKB_white_british_AF'\n",
       "9. 'UKB_non_british_white_AF'\n",
       "10. 'UKB_african_AF'\n",
       "11. 'UKB_s_asian_AF'\n",
       "12. 'UKB_e_asian_AF'\n",
       "13. 'UKB_related_AF'\n",
       "14. 'UKB_others_AF'\n",
       "15. 'UKB_OBS_CT'\n",
       "16. 'UKB_white_british_OBS_CT'\n",
       "17. 'UKB_non_british_white_OBS_CT'\n",
       "18. 'UKB_african_OBS_CT'\n",
       "19. 'UKB_s_asian_OBS_CT'\n",
       "20. 'UKB_e_asian_OBS_CT'\n",
       "21. 'UKB_related_OBS_CT'\n",
       "22. 'UKB_others_OBS_CT'\n",
       "23. 'UKB_UKBB_OBS_CT'\n",
       "24. 'UKB_UKBL_OBS_CT'\n",
       "25. 'UKB_MISSING_CT'\n",
       "26. 'UKB_white_british_MISSING_CT'\n",
       "27. 'UKB_non_british_white_MISSING_CT'\n",
       "28. 'UKB_african_MISSING_CT'\n",
       "29. 'UKB_s_asian_MISSING_CT'\n",
       "30. 'UKB_e_asian_MISSING_CT'\n",
       "31. 'UKB_related_MISSING_CT'\n",
       "32. 'UKB_others_MISSING_CT'\n",
       "33. 'UKB_UKBB_MISSING_CT'\n",
       "34. 'UKB_UKBL_MISSING_CT'\n",
       "35. 'UKB_HOM_REF_CT'\n",
       "36. 'UKB_white_british_HOM_REF_CT'\n",
       "37. 'UKB_non_british_white_HOM_REF_CT'\n",
       "38. 'UKB_african_HOM_REF_CT'\n",
       "39. 'UKB_s_asian_HOM_REF_CT'\n",
       "40. 'UKB_e_asian_HOM_REF_CT'\n",
       "41. 'UKB_related_HOM_REF_CT'\n",
       "42. 'UKB_others_HOM_REF_CT'\n",
       "43. 'UKB_HET_REF_ALT_CTS'\n",
       "44. 'UKB_white_british_HET_REF_ALT_CTS'\n",
       "45. 'UKB_non_british_white_HET_REF_ALT_CTS'\n",
       "46. 'UKB_african_HET_REF_ALT_CTS'\n",
       "47. 'UKB_s_asian_HET_REF_ALT_CTS'\n",
       "48. 'UKB_e_asian_HET_REF_ALT_CTS'\n",
       "49. 'UKB_related_HET_REF_ALT_CTS'\n",
       "50. 'UKB_others_HET_REF_ALT_CTS'\n",
       "51. 'UKB_TWO_ALT_GENO_CTS'\n",
       "52. 'UKB_white_british_TWO_ALT_GENO_CTS'\n",
       "53. 'UKB_non_british_white_TWO_ALT_GENO_CTS'\n",
       "54. 'UKB_african_TWO_ALT_GENO_CTS'\n",
       "55. 'UKB_s_asian_TWO_ALT_GENO_CTS'\n",
       "56. 'UKB_e_asian_TWO_ALT_GENO_CTS'\n",
       "57. 'UKB_related_TWO_ALT_GENO_CTS'\n",
       "58. 'UKB_others_TWO_ALT_GENO_CTS'\n",
       "59. 'UKB_HAP_REF_CT'\n",
       "60. 'UKB_white_british_HAP_REF_CT'\n",
       "61. 'UKB_non_british_white_HAP_REF_CT'\n",
       "62. 'UKB_african_HAP_REF_CT'\n",
       "63. 'UKB_s_asian_HAP_REF_CT'\n",
       "64. 'UKB_e_asian_HAP_REF_CT'\n",
       "65. 'UKB_related_HAP_REF_CT'\n",
       "66. 'UKB_others_HAP_REF_CT'\n",
       "67. 'UKB_HAP_ALT_CTS'\n",
       "68. 'UKB_white_british_HAP_ALT_CTS'\n",
       "69. 'UKB_non_british_white_HAP_ALT_CTS'\n",
       "70. 'UKB_african_HAP_ALT_CTS'\n",
       "71. 'UKB_s_asian_HAP_ALT_CTS'\n",
       "72. 'UKB_e_asian_HAP_ALT_CTS'\n",
       "73. 'UKB_related_HAP_ALT_CTS'\n",
       "74. 'UKB_others_HAP_ALT_CTS'\n",
       "75. 'f_miss'\n",
       "76. 'f_miss_UKBB'\n",
       "77. 'f_miss_UKBL'\n",
       "78. 'hwe_p'\n",
       "79. 'mgi_notes'\n",
       "80. 'FILTER'\n",
       "81. 'UKB_white_british_MAF'\n",
       "82. 'geno_data_source'\n",
       "\n",
       "\n"
      ],
      "text/plain": [
       " [1] \"CHROM\"                                 \n",
       " [2] \"POS\"                                   \n",
       " [3] \"ID\"                                    \n",
       " [4] \"REF\"                                   \n",
       " [5] \"ALT\"                                   \n",
       " [6] \"array\"                                 \n",
       " [7] \"UKB_AF\"                                \n",
       " [8] \"UKB_white_british_AF\"                  \n",
       " [9] \"UKB_non_british_white_AF\"              \n",
       "[10] \"UKB_african_AF\"                        \n",
       "[11] \"UKB_s_asian_AF\"                        \n",
       "[12] \"UKB_e_asian_AF\"                        \n",
       "[13] \"UKB_related_AF\"                        \n",
       "[14] \"UKB_others_AF\"                         \n",
       "[15] \"UKB_OBS_CT\"                            \n",
       "[16] \"UKB_white_british_OBS_CT\"              \n",
       "[17] \"UKB_non_british_white_OBS_CT\"          \n",
       "[18] \"UKB_african_OBS_CT\"                    \n",
       "[19] \"UKB_s_asian_OBS_CT\"                    \n",
       "[20] \"UKB_e_asian_OBS_CT\"                    \n",
       "[21] \"UKB_related_OBS_CT\"                    \n",
       "[22] \"UKB_others_OBS_CT\"                     \n",
       "[23] \"UKB_UKBB_OBS_CT\"                       \n",
       "[24] \"UKB_UKBL_OBS_CT\"                       \n",
       "[25] \"UKB_MISSING_CT\"                        \n",
       "[26] \"UKB_white_british_MISSING_CT\"          \n",
       "[27] \"UKB_non_british_white_MISSING_CT\"      \n",
       "[28] \"UKB_african_MISSING_CT\"                \n",
       "[29] \"UKB_s_asian_MISSING_CT\"                \n",
       "[30] \"UKB_e_asian_MISSING_CT\"                \n",
       "[31] \"UKB_related_MISSING_CT\"                \n",
       "[32] \"UKB_others_MISSING_CT\"                 \n",
       "[33] \"UKB_UKBB_MISSING_CT\"                   \n",
       "[34] \"UKB_UKBL_MISSING_CT\"                   \n",
       "[35] \"UKB_HOM_REF_CT\"                        \n",
       "[36] \"UKB_white_british_HOM_REF_CT\"          \n",
       "[37] \"UKB_non_british_white_HOM_REF_CT\"      \n",
       "[38] \"UKB_african_HOM_REF_CT\"                \n",
       "[39] \"UKB_s_asian_HOM_REF_CT\"                \n",
       "[40] \"UKB_e_asian_HOM_REF_CT\"                \n",
       "[41] \"UKB_related_HOM_REF_CT\"                \n",
       "[42] \"UKB_others_HOM_REF_CT\"                 \n",
       "[43] \"UKB_HET_REF_ALT_CTS\"                   \n",
       "[44] \"UKB_white_british_HET_REF_ALT_CTS\"     \n",
       "[45] \"UKB_non_british_white_HET_REF_ALT_CTS\" \n",
       "[46] \"UKB_african_HET_REF_ALT_CTS\"           \n",
       "[47] \"UKB_s_asian_HET_REF_ALT_CTS\"           \n",
       "[48] \"UKB_e_asian_HET_REF_ALT_CTS\"           \n",
       "[49] \"UKB_related_HET_REF_ALT_CTS\"           \n",
       "[50] \"UKB_others_HET_REF_ALT_CTS\"            \n",
       "[51] \"UKB_TWO_ALT_GENO_CTS\"                  \n",
       "[52] \"UKB_white_british_TWO_ALT_GENO_CTS\"    \n",
       "[53] \"UKB_non_british_white_TWO_ALT_GENO_CTS\"\n",
       "[54] \"UKB_african_TWO_ALT_GENO_CTS\"          \n",
       "[55] \"UKB_s_asian_TWO_ALT_GENO_CTS\"          \n",
       "[56] \"UKB_e_asian_TWO_ALT_GENO_CTS\"          \n",
       "[57] \"UKB_related_TWO_ALT_GENO_CTS\"          \n",
       "[58] \"UKB_others_TWO_ALT_GENO_CTS\"           \n",
       "[59] \"UKB_HAP_REF_CT\"                        \n",
       "[60] \"UKB_white_british_HAP_REF_CT\"          \n",
       "[61] \"UKB_non_british_white_HAP_REF_CT\"      \n",
       "[62] \"UKB_african_HAP_REF_CT\"                \n",
       "[63] \"UKB_s_asian_HAP_REF_CT\"                \n",
       "[64] \"UKB_e_asian_HAP_REF_CT\"                \n",
       "[65] \"UKB_related_HAP_REF_CT\"                \n",
       "[66] \"UKB_others_HAP_REF_CT\"                 \n",
       "[67] \"UKB_HAP_ALT_CTS\"                       \n",
       "[68] \"UKB_white_british_HAP_ALT_CTS\"         \n",
       "[69] \"UKB_non_british_white_HAP_ALT_CTS\"     \n",
       "[70] \"UKB_african_HAP_ALT_CTS\"               \n",
       "[71] \"UKB_s_asian_HAP_ALT_CTS\"               \n",
       "[72] \"UKB_e_asian_HAP_ALT_CTS\"               \n",
       "[73] \"UKB_related_HAP_ALT_CTS\"               \n",
       "[74] \"UKB_others_HAP_ALT_CTS\"                \n",
       "[75] \"f_miss\"                                \n",
       "[76] \"f_miss_UKBB\"                           \n",
       "[77] \"f_miss_UKBL\"                           \n",
       "[78] \"hwe_p\"                                 \n",
       "[79] \"mgi_notes\"                             \n",
       "[80] \"FILTER\"                                \n",
       "[81] \"UKB_white_british_MAF\"                 \n",
       "[82] \"geno_data_source\"                      "
      ]
     },
     "metadata": {},
     "output_type": "display_data"
    }
   ],
   "source": [
    "afreq_hwe_qc_df %>%\n",
    "colnames()"
   ]
  },
  {
   "cell_type": "code",
   "execution_count": 138,
   "metadata": {},
   "outputs": [],
   "source": [
    "cols <- c('CHROM', 'POS', 'ID', 'REF', 'ALT', 'FILTER', 'geno_data_source', 'array', 'UKB_white_british_MAF', 'hwe_p', 'mgi_notes', 'f_miss', 'f_miss_UKBB', 'f_miss_UKBL')\n"
   ]
  },
  {
   "cell_type": "code",
   "execution_count": 134,
   "metadata": {},
   "outputs": [
    {
     "data": {
      "text/html": [
       "<style>\n",
       ".list-inline {list-style: none; margin:0; padding: 0}\n",
       ".list-inline>li {display: inline-block}\n",
       ".list-inline>li:not(:last-child)::after {content: \"\\00b7\"; padding: 0 .5ex}\n",
       "</style>\n",
       "<ol class=list-inline><li>1080968</li><li>82</li></ol>\n"
      ],
      "text/latex": [
       "\\begin{enumerate*}\n",
       "\\item 1080968\n",
       "\\item 82\n",
       "\\end{enumerate*}\n"
      ],
      "text/markdown": [
       "1. 1080968\n",
       "2. 82\n",
       "\n",
       "\n"
      ],
      "text/plain": [
       "[1] 1080968      82"
      ]
     },
     "metadata": {},
     "output_type": "display_data"
    }
   ],
   "source": [
    "afreq_hwe_qc_df %>%\n",
    "dim()"
   ]
  },
  {
   "cell_type": "code",
   "execution_count": 143,
   "metadata": {},
   "outputs": [],
   "source": [
    "afreq_hwe_qc_df %>%\n",
    "select(all_of(c(cols, setdiff(colnames(afreq_hwe_qc_df), cols)))) %>%\n",
    "rename('#CHROM' = 'CHROM') %>%\n",
    "fwrite(var_QC_f, sep='\\t', na = \"NA\", quote=F)\n"
   ]
  },
  {
   "cell_type": "code",
   "execution_count": null,
   "metadata": {},
   "outputs": [],
   "source": []
  }
 ],
 "metadata": {
  "kernelspec": {
   "display_name": "R",
   "language": "R",
   "name": "ir"
  },
  "language_info": {
   "codemirror_mode": "r",
   "file_extension": ".r",
   "mimetype": "text/x-r-source",
   "name": "R",
   "pygments_lexer": "r",
   "version": "3.6.2"
  }
 },
 "nbformat": 4,
 "nbformat_minor": 4
}
