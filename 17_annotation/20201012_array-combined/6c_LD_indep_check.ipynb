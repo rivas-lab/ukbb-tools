{
 "cells": [
  {
   "cell_type": "code",
   "execution_count": 70,
   "metadata": {},
   "outputs": [],
   "source": [
    "suppressWarnings(suppressPackageStartupMessages({\n",
    "    library(tidyverse)\n",
    "    library(data.table)\n",
    "}))\n"
   ]
  },
  {
   "cell_type": "code",
   "execution_count": 75,
   "metadata": {},
   "outputs": [],
   "source": [
    "prune_in <- '/oak/stanford/groups/mrivas/ukbb24983/array-combined/annotation/ld_indep_20201015/plink_output/ukb24983_cal_hla_cnv.white_british.%s.bool.prune.in'\n",
    "ldmap_f <- '/scratch/groups/mrivas/ukbb24983/cal/ldmap/ldmap_20201018/ukb24983_cal.white_british.ld_map.0.5r2.tsv.gz'\n",
    "var_QC_f <-  '/oak/stanford/groups/mrivas/ukbb24983/array-combined/annotation/ld_indep_20201015/ukb24983_cal_hla_cnv.var_QCed.tsv.gz'\n",
    "\n",
    "# output\n",
    "redo_list_f <- '/oak/stanford/groups/mrivas/ukbb24983/array-combined/annotation/ld_indep_20201015/plink_output/ukb24983_cal_hla_cnv.white_british.redo.lst'\n",
    "redo_ld_map_f <- str_replace(redo_list_f, '.redo.lst$', '.redo.ld_map.tsv')\n",
    "\n",
    "ld_bool_out_f <- file.path(dirname(var_QC_f), 'ukb24983_cal_hla_cnv.white_british.bool.prune.in.tsv')\n"
   ]
  },
  {
   "cell_type": "code",
   "execution_count": 3,
   "metadata": {},
   "outputs": [],
   "source": [
    "var_QC_f %>% fread(colClasses = c('#CHROM' = 'character')) %>% \n",
    "rename('CHROM'='#CHROM') -> var_QC_df\n"
   ]
  },
  {
   "cell_type": "code",
   "execution_count": 4,
   "metadata": {},
   "outputs": [],
   "source": [
    "ldmap_f %>% fread(colClasses = c('#CHR_A' = 'character', 'CHR_B' = 'character')) %>%\n",
    "rename('CHR_A'='#CHR_A') %>%\n",
    "filter(SNP_A %in% var_QC_df$ID, SNP_B %in% var_QC_df$ID) -> ldmap_df\n"
   ]
  },
  {
   "cell_type": "code",
   "execution_count": 18,
   "metadata": {},
   "outputs": [],
   "source": [
    "'ptv,pav,pcv,utr,intron,others' %>% str_split(',') %>% simplify() %>%\n",
    "lapply(function(csq){\n",
    "    sprintf(prune_in, csq) %>%\n",
    "    fread(head=F) %>%\n",
    "    rename('ID'=1) %>%\n",
    "    mutate(Csq = csq)\n",
    "}) %>% bind_rows() -> prune_in_df\n"
   ]
  },
  {
   "cell_type": "code",
   "execution_count": 80,
   "metadata": {},
   "outputs": [],
   "source": [
    "sprintf(prune_in, 'QCed') %>%\n",
    "fread(head=F) %>%\n",
    "rename('ID'=1) %>%\n",
    "left_join(var_QC_df, by='ID') -> prune_in_QCed_df\n"
   ]
  },
  {
   "cell_type": "markdown",
   "metadata": {},
   "source": [
    "### count the number of variants (per consequence type)\n",
    "\n",
    "#### one-phase LD-pruning without using the consequence information"
   ]
  },
  {
   "cell_type": "code",
   "execution_count": 81,
   "metadata": {},
   "outputs": [
    {
     "data": {
      "text/html": [
       "<table>\n",
       "<caption>A data.table: 6 × 2</caption>\n",
       "<thead>\n",
       "\t<tr><th scope=col>Csq</th><th scope=col>n</th></tr>\n",
       "\t<tr><th scope=col>&lt;chr&gt;</th><th scope=col>&lt;int&gt;</th></tr>\n",
       "</thead>\n",
       "<tbody>\n",
       "\t<tr><td>intron</td><td>209189</td></tr>\n",
       "\t<tr><td>others</td><td>195370</td></tr>\n",
       "\t<tr><td>pav   </td><td> 61473</td></tr>\n",
       "\t<tr><td>pcv   </td><td>  6296</td></tr>\n",
       "\t<tr><td>ptv   </td><td> 21924</td></tr>\n",
       "\t<tr><td>utr   </td><td>  7497</td></tr>\n",
       "</tbody>\n",
       "</table>\n"
      ],
      "text/latex": [
       "A data.table: 6 × 2\n",
       "\\begin{tabular}{ll}\n",
       " Csq & n\\\\\n",
       " <chr> & <int>\\\\\n",
       "\\hline\n",
       "\t intron & 209189\\\\\n",
       "\t others & 195370\\\\\n",
       "\t pav    &  61473\\\\\n",
       "\t pcv    &   6296\\\\\n",
       "\t ptv    &  21924\\\\\n",
       "\t utr    &   7497\\\\\n",
       "\\end{tabular}\n"
      ],
      "text/markdown": [
       "\n",
       "A data.table: 6 × 2\n",
       "\n",
       "| Csq &lt;chr&gt; | n &lt;int&gt; |\n",
       "|---|---|\n",
       "| intron | 209189 |\n",
       "| others | 195370 |\n",
       "| pav    |  61473 |\n",
       "| pcv    |   6296 |\n",
       "| ptv    |  21924 |\n",
       "| utr    |   7497 |\n",
       "\n"
      ],
      "text/plain": [
       "  Csq    n     \n",
       "1 intron 209189\n",
       "2 others 195370\n",
       "3 pav     61473\n",
       "4 pcv      6296\n",
       "5 ptv     21924\n",
       "6 utr      7497"
      ]
     },
     "metadata": {},
     "output_type": "display_data"
    }
   ],
   "source": [
    "prune_in_QCed_df %>%\n",
    "count(Csq)"
   ]
  },
  {
   "cell_type": "markdown",
   "metadata": {},
   "source": [
    "#### multi-phase LD-pruning with the consequence information"
   ]
  },
  {
   "cell_type": "code",
   "execution_count": 46,
   "metadata": {},
   "outputs": [
    {
     "data": {
      "text/html": [
       "<table>\n",
       "<caption>A data.table: 6 × 2</caption>\n",
       "<thead>\n",
       "\t<tr><th scope=col>Csq</th><th scope=col>n</th></tr>\n",
       "\t<tr><th scope=col>&lt;chr&gt;</th><th scope=col>&lt;int&gt;</th></tr>\n",
       "</thead>\n",
       "<tbody>\n",
       "\t<tr><td>intron</td><td>211902</td></tr>\n",
       "\t<tr><td>others</td><td>184962</td></tr>\n",
       "\t<tr><td>pav   </td><td> 67945</td></tr>\n",
       "\t<tr><td>pcv   </td><td>  7545</td></tr>\n",
       "\t<tr><td>ptv   </td><td> 22289</td></tr>\n",
       "\t<tr><td>utr   </td><td>  9033</td></tr>\n",
       "</tbody>\n",
       "</table>\n"
      ],
      "text/latex": [
       "A data.table: 6 × 2\n",
       "\\begin{tabular}{ll}\n",
       " Csq & n\\\\\n",
       " <chr> & <int>\\\\\n",
       "\\hline\n",
       "\t intron & 211902\\\\\n",
       "\t others & 184962\\\\\n",
       "\t pav    &  67945\\\\\n",
       "\t pcv    &   7545\\\\\n",
       "\t ptv    &  22289\\\\\n",
       "\t utr    &   9033\\\\\n",
       "\\end{tabular}\n"
      ],
      "text/markdown": [
       "\n",
       "A data.table: 6 × 2\n",
       "\n",
       "| Csq &lt;chr&gt; | n &lt;int&gt; |\n",
       "|---|---|\n",
       "| intron | 211902 |\n",
       "| others | 184962 |\n",
       "| pav    |  67945 |\n",
       "| pcv    |   7545 |\n",
       "| ptv    |  22289 |\n",
       "| utr    |   9033 |\n",
       "\n"
      ],
      "text/plain": [
       "  Csq    n     \n",
       "1 intron 211902\n",
       "2 others 184962\n",
       "3 pav     67945\n",
       "4 pcv      7545\n",
       "5 ptv     22289\n",
       "6 utr      9033"
      ]
     },
     "metadata": {},
     "output_type": "display_data"
    }
   ],
   "source": [
    "prune_in_df %>% count(Csq)"
   ]
  },
  {
   "cell_type": "markdown",
   "metadata": {},
   "source": [
    "### write the results to a file"
   ]
  },
  {
   "cell_type": "code",
   "execution_count": 72,
   "metadata": {},
   "outputs": [],
   "source": [
    "prune_in_df %>%\n",
    "rename('#ID' = 'ID') %>%\n",
    "fwrite(ld_bool_out_f, sep='\\t', na = \"NA\", quote=F)\n"
   ]
  },
  {
   "cell_type": "code",
   "execution_count": 73,
   "metadata": {},
   "outputs": [
    {
     "data": {
      "text/html": [
       "'/oak/stanford/groups/mrivas/ukbb24983/array-combined/annotation/ld_indep_20201015/ukb24983_cal_hla_cnv.white_british.bool.prune.in.tsv'"
      ],
      "text/latex": [
       "'/oak/stanford/groups/mrivas/ukbb24983/array-combined/annotation/ld\\_indep\\_20201015/ukb24983\\_cal\\_hla\\_cnv.white\\_british.bool.prune.in.tsv'"
      ],
      "text/markdown": [
       "'/oak/stanford/groups/mrivas/ukbb24983/array-combined/annotation/ld_indep_20201015/ukb24983_cal_hla_cnv.white_british.bool.prune.in.tsv'"
      ],
      "text/plain": [
       "[1] \"/oak/stanford/groups/mrivas/ukbb24983/array-combined/annotation/ld_indep_20201015/ukb24983_cal_hla_cnv.white_british.bool.prune.in.tsv\""
      ]
     },
     "metadata": {},
     "output_type": "display_data"
    }
   ],
   "source": [
    "ld_bool_out_f"
   ]
  },
  {
   "cell_type": "markdown",
   "metadata": {},
   "source": [
    "### check whether the LD pruned set are independent\n",
    "\n",
    "#### (1) The one-phase pruning results"
   ]
  },
  {
   "cell_type": "code",
   "execution_count": 95,
   "metadata": {},
   "outputs": [],
   "source": [
    "ldmap_df %>% filter(SNP_A %in% (prune_in_QCed_df$ID), SNP_B %in% (prune_in_QCed_df$ID)) %>%\n",
    "mutate(dist = abs(BP_B - BP_A)) %>%\n",
    "left_join(prune_in_QCed_df %>% select(ID, Csq) %>% rename('Csq_A' = 'Csq'), by=c('SNP_A'='ID')) %>%\n",
    "left_join(prune_in_QCed_df %>% select(ID, Csq) %>% rename('Csq_B' = 'Csq'), by=c('SNP_B'='ID')) -> prune_QCed_check_df\n"
   ]
  },
  {
   "cell_type": "code",
   "execution_count": 96,
   "metadata": {},
   "outputs": [
    {
     "data": {
      "text/html": [
       "<style>\n",
       ".list-inline {list-style: none; margin:0; padding: 0}\n",
       ".list-inline>li {display: inline-block}\n",
       ".list-inline>li:not(:last-child)::after {content: \"\\00b7\"; padding: 0 .5ex}\n",
       "</style>\n",
       "<ol class=list-inline><li>286</li><li>10</li></ol>\n"
      ],
      "text/latex": [
       "\\begin{enumerate*}\n",
       "\\item 286\n",
       "\\item 10\n",
       "\\end{enumerate*}\n"
      ],
      "text/markdown": [
       "1. 286\n",
       "2. 10\n",
       "\n",
       "\n"
      ],
      "text/plain": [
       "[1] 286  10"
      ]
     },
     "metadata": {},
     "output_type": "display_data"
    }
   ],
   "source": [
    "prune_QCed_check_df %>% dim()"
   ]
  },
  {
   "cell_type": "code",
   "execution_count": 97,
   "metadata": {},
   "outputs": [
    {
     "data": {
      "text/html": [
       "920528"
      ],
      "text/latex": [
       "920528"
      ],
      "text/markdown": [
       "920528"
      ],
      "text/plain": [
       "[1] 920528"
      ]
     },
     "metadata": {},
     "output_type": "display_data"
    }
   ],
   "source": [
    "prune_QCed_check_df$dist %>% max()"
   ]
  },
  {
   "cell_type": "code",
   "execution_count": 98,
   "metadata": {},
   "outputs": [
    {
     "data": {
      "text/html": [
       "<style>\n",
       ".list-inline {list-style: none; margin:0; padding: 0}\n",
       ".list-inline>li {display: inline-block}\n",
       ".list-inline>li:not(:last-child)::after {content: \"\\00b7\"; padding: 0 .5ex}\n",
       "</style>\n",
       "<ol class=list-inline><li>0</li><li>10</li></ol>\n"
      ],
      "text/latex": [
       "\\begin{enumerate*}\n",
       "\\item 0\n",
       "\\item 10\n",
       "\\end{enumerate*}\n"
      ],
      "text/markdown": [
       "1. 0\n",
       "2. 10\n",
       "\n",
       "\n"
      ],
      "text/plain": [
       "[1]  0 10"
      ]
     },
     "metadata": {},
     "output_type": "display_data"
    }
   ],
   "source": [
    "prune_QCed_check_df %>% filter(CHR_A != CHR_B) %>% dim()"
   ]
  },
  {
   "cell_type": "code",
   "execution_count": 99,
   "metadata": {},
   "outputs": [
    {
     "data": {
      "text/html": [
       "<style>\n",
       ".list-inline {list-style: none; margin:0; padding: 0}\n",
       ".list-inline>li {display: inline-block}\n",
       ".list-inline>li:not(:last-child)::after {content: \"\\00b7\"; padding: 0 .5ex}\n",
       "</style>\n",
       "<ol class=list-inline><li>61</li><li>10</li></ol>\n"
      ],
      "text/latex": [
       "\\begin{enumerate*}\n",
       "\\item 61\n",
       "\\item 10\n",
       "\\end{enumerate*}\n"
      ],
      "text/markdown": [
       "1. 61\n",
       "2. 10\n",
       "\n",
       "\n"
      ],
      "text/plain": [
       "[1] 61 10"
      ]
     },
     "metadata": {},
     "output_type": "display_data"
    }
   ],
   "source": [
    "prune_QCed_check_df %>% filter(Csq_A != Csq_B) %>% dim()"
   ]
  },
  {
   "cell_type": "code",
   "execution_count": 101,
   "metadata": {},
   "outputs": [
    {
     "data": {
      "text/html": [
       "<table>\n",
       "<caption>A data.table: 19 × 4</caption>\n",
       "<thead>\n",
       "\t<tr><th scope=col>CHR_A</th><th scope=col>Csq_A</th><th scope=col>Csq_B</th><th scope=col>n</th></tr>\n",
       "\t<tr><th scope=col>&lt;chr&gt;</th><th scope=col>&lt;chr&gt;</th><th scope=col>&lt;chr&gt;</th><th scope=col>&lt;int&gt;</th></tr>\n",
       "</thead>\n",
       "<tbody>\n",
       "\t<tr><td>2 </td><td>intron</td><td>intron</td><td>  1</td></tr>\n",
       "\t<tr><td>23</td><td>intron</td><td>intron</td><td> 88</td></tr>\n",
       "\t<tr><td>23</td><td>intron</td><td>others</td><td> 15</td></tr>\n",
       "\t<tr><td>23</td><td>intron</td><td>pav   </td><td>  4</td></tr>\n",
       "\t<tr><td>23</td><td>intron</td><td>pcv   </td><td>  3</td></tr>\n",
       "\t<tr><td>23</td><td>others</td><td>intron</td><td> 15</td></tr>\n",
       "\t<tr><td>23</td><td>others</td><td>others</td><td>133</td></tr>\n",
       "\t<tr><td>23</td><td>others</td><td>pav   </td><td>  5</td></tr>\n",
       "\t<tr><td>23</td><td>others</td><td>pcv   </td><td>  1</td></tr>\n",
       "\t<tr><td>23</td><td>others</td><td>utr   </td><td>  2</td></tr>\n",
       "\t<tr><td>23</td><td>pav   </td><td>intron</td><td>  6</td></tr>\n",
       "\t<tr><td>23</td><td>pav   </td><td>others</td><td>  3</td></tr>\n",
       "\t<tr><td>23</td><td>pav   </td><td>pav   </td><td>  3</td></tr>\n",
       "\t<tr><td>23</td><td>pav   </td><td>utr   </td><td>  1</td></tr>\n",
       "\t<tr><td>23</td><td>pcv   </td><td>intron</td><td>  1</td></tr>\n",
       "\t<tr><td>23</td><td>pcv   </td><td>others</td><td>  1</td></tr>\n",
       "\t<tr><td>23</td><td>utr   </td><td>intron</td><td>  1</td></tr>\n",
       "\t<tr><td>23</td><td>utr   </td><td>others</td><td>  1</td></tr>\n",
       "\t<tr><td>24</td><td>others</td><td>intron</td><td>  2</td></tr>\n",
       "</tbody>\n",
       "</table>\n"
      ],
      "text/latex": [
       "A data.table: 19 × 4\n",
       "\\begin{tabular}{llll}\n",
       " CHR\\_A & Csq\\_A & Csq\\_B & n\\\\\n",
       " <chr> & <chr> & <chr> & <int>\\\\\n",
       "\\hline\n",
       "\t 2  & intron & intron &   1\\\\\n",
       "\t 23 & intron & intron &  88\\\\\n",
       "\t 23 & intron & others &  15\\\\\n",
       "\t 23 & intron & pav    &   4\\\\\n",
       "\t 23 & intron & pcv    &   3\\\\\n",
       "\t 23 & others & intron &  15\\\\\n",
       "\t 23 & others & others & 133\\\\\n",
       "\t 23 & others & pav    &   5\\\\\n",
       "\t 23 & others & pcv    &   1\\\\\n",
       "\t 23 & others & utr    &   2\\\\\n",
       "\t 23 & pav    & intron &   6\\\\\n",
       "\t 23 & pav    & others &   3\\\\\n",
       "\t 23 & pav    & pav    &   3\\\\\n",
       "\t 23 & pav    & utr    &   1\\\\\n",
       "\t 23 & pcv    & intron &   1\\\\\n",
       "\t 23 & pcv    & others &   1\\\\\n",
       "\t 23 & utr    & intron &   1\\\\\n",
       "\t 23 & utr    & others &   1\\\\\n",
       "\t 24 & others & intron &   2\\\\\n",
       "\\end{tabular}\n"
      ],
      "text/markdown": [
       "\n",
       "A data.table: 19 × 4\n",
       "\n",
       "| CHR_A &lt;chr&gt; | Csq_A &lt;chr&gt; | Csq_B &lt;chr&gt; | n &lt;int&gt; |\n",
       "|---|---|---|---|\n",
       "| 2  | intron | intron |   1 |\n",
       "| 23 | intron | intron |  88 |\n",
       "| 23 | intron | others |  15 |\n",
       "| 23 | intron | pav    |   4 |\n",
       "| 23 | intron | pcv    |   3 |\n",
       "| 23 | others | intron |  15 |\n",
       "| 23 | others | others | 133 |\n",
       "| 23 | others | pav    |   5 |\n",
       "| 23 | others | pcv    |   1 |\n",
       "| 23 | others | utr    |   2 |\n",
       "| 23 | pav    | intron |   6 |\n",
       "| 23 | pav    | others |   3 |\n",
       "| 23 | pav    | pav    |   3 |\n",
       "| 23 | pav    | utr    |   1 |\n",
       "| 23 | pcv    | intron |   1 |\n",
       "| 23 | pcv    | others |   1 |\n",
       "| 23 | utr    | intron |   1 |\n",
       "| 23 | utr    | others |   1 |\n",
       "| 24 | others | intron |   2 |\n",
       "\n"
      ],
      "text/plain": [
       "   CHR_A Csq_A  Csq_B  n  \n",
       "1  2     intron intron   1\n",
       "2  23    intron intron  88\n",
       "3  23    intron others  15\n",
       "4  23    intron pav      4\n",
       "5  23    intron pcv      3\n",
       "6  23    others intron  15\n",
       "7  23    others others 133\n",
       "8  23    others pav      5\n",
       "9  23    others pcv      1\n",
       "10 23    others utr      2\n",
       "11 23    pav    intron   6\n",
       "12 23    pav    others   3\n",
       "13 23    pav    pav      3\n",
       "14 23    pav    utr      1\n",
       "15 23    pcv    intron   1\n",
       "16 23    pcv    others   1\n",
       "17 23    utr    intron   1\n",
       "18 23    utr    others   1\n",
       "19 24    others intron   2"
      ]
     },
     "metadata": {},
     "output_type": "display_data"
    }
   ],
   "source": [
    "prune_QCed_check_df %>% count(CHR_A, Csq_A, Csq_B)"
   ]
  },
  {
   "cell_type": "code",
   "execution_count": 103,
   "metadata": {},
   "outputs": [],
   "source": [
    "prune_QCed_check_df %>% mutate(dist = abs(BP_B - BP_A)) %>%\n",
    "ggplot(aes(x = dist, y = R2)) + geom_point() +\n",
    "theme_bw() -> p"
   ]
  },
  {
   "cell_type": "code",
   "execution_count": 109,
   "metadata": {},
   "outputs": [
    {
     "name": "stderr",
     "output_type": "stream",
     "text": [
      "Saving 6.67 x 6.67 in image\n",
      "\n"
     ]
    }
   ],
   "source": [
    "ggsave(\n",
    "    'r2_vs_distance.png',\n",
    "    p + labs(\n",
    "        title='comparison of distance and r2 for LD-pruned set of variants',\n",
    "        x = 'Distance of the variant pairs [nt]',\n",
    "        y='r2 from plink1.9 --r2'\n",
    "    )   \n",
    ")\n"
   ]
  },
  {
   "cell_type": "markdown",
   "metadata": {},
   "source": [
    "#### (2) the multi-phase pruning results"
   ]
  },
  {
   "cell_type": "code",
   "execution_count": 47,
   "metadata": {},
   "outputs": [],
   "source": [
    "ldmap_df %>% filter(SNP_A %in% (prune_in_df$ID), SNP_B %in% (prune_in_df$ID)) %>%\n",
    "mutate(dist = abs(BP_B - BP_A)) %>%\n",
    "left_join(prune_in_df %>% rename('Csq_A' = 'Csq'), by=c('SNP_A'='ID')) %>%\n",
    "left_join(prune_in_df %>% rename('Csq_B' = 'Csq'), by=c('SNP_B'='ID')) -> prune_check_df\n"
   ]
  },
  {
   "cell_type": "code",
   "execution_count": 48,
   "metadata": {},
   "outputs": [
    {
     "data": {
      "text/html": [
       "<style>\n",
       ".list-inline {list-style: none; margin:0; padding: 0}\n",
       ".list-inline>li {display: inline-block}\n",
       ".list-inline>li:not(:last-child)::after {content: \"\\00b7\"; padding: 0 .5ex}\n",
       "</style>\n",
       "<ol class=list-inline><li>209</li><li>10</li></ol>\n"
      ],
      "text/latex": [
       "\\begin{enumerate*}\n",
       "\\item 209\n",
       "\\item 10\n",
       "\\end{enumerate*}\n"
      ],
      "text/markdown": [
       "1. 209\n",
       "2. 10\n",
       "\n",
       "\n"
      ],
      "text/plain": [
       "[1] 209  10"
      ]
     },
     "metadata": {},
     "output_type": "display_data"
    }
   ],
   "source": [
    "prune_check_df %>% dim()"
   ]
  },
  {
   "cell_type": "markdown",
   "metadata": {},
   "source": [
    "... it seems like there are 209 pairs with R2>=0.5"
   ]
  },
  {
   "cell_type": "code",
   "execution_count": 55,
   "metadata": {},
   "outputs": [
    {
     "data": {
      "text/html": [
       "616368"
      ],
      "text/latex": [
       "616368"
      ],
      "text/markdown": [
       "616368"
      ],
      "text/plain": [
       "[1] 616368"
      ]
     },
     "metadata": {},
     "output_type": "display_data"
    }
   ],
   "source": [
    "prune_check_df$dist %>% max()"
   ]
  },
  {
   "cell_type": "markdown",
   "metadata": {},
   "source": [
    "the maximum distance between the markers is 616k "
   ]
  },
  {
   "cell_type": "code",
   "execution_count": 52,
   "metadata": {},
   "outputs": [
    {
     "data": {
      "text/html": [
       "<style>\n",
       ".list-inline {list-style: none; margin:0; padding: 0}\n",
       ".list-inline>li {display: inline-block}\n",
       ".list-inline>li:not(:last-child)::after {content: \"\\00b7\"; padding: 0 .5ex}\n",
       "</style>\n",
       "<ol class=list-inline><li>0</li><li>10</li></ol>\n"
      ],
      "text/latex": [
       "\\begin{enumerate*}\n",
       "\\item 0\n",
       "\\item 10\n",
       "\\end{enumerate*}\n"
      ],
      "text/markdown": [
       "1. 0\n",
       "2. 10\n",
       "\n",
       "\n"
      ],
      "text/plain": [
       "[1]  0 10"
      ]
     },
     "metadata": {},
     "output_type": "display_data"
    }
   ],
   "source": [
    "prune_check_df %>% filter(CHR_A != CHR_B) %>% dim()"
   ]
  },
  {
   "cell_type": "code",
   "execution_count": 53,
   "metadata": {},
   "outputs": [
    {
     "data": {
      "text/html": [
       "<style>\n",
       ".list-inline {list-style: none; margin:0; padding: 0}\n",
       ".list-inline>li {display: inline-block}\n",
       ".list-inline>li:not(:last-child)::after {content: \"\\00b7\"; padding: 0 .5ex}\n",
       "</style>\n",
       "<ol class=list-inline><li>0</li><li>10</li></ol>\n"
      ],
      "text/latex": [
       "\\begin{enumerate*}\n",
       "\\item 0\n",
       "\\item 10\n",
       "\\end{enumerate*}\n"
      ],
      "text/markdown": [
       "1. 0\n",
       "2. 10\n",
       "\n",
       "\n"
      ],
      "text/plain": [
       "[1]  0 10"
      ]
     },
     "metadata": {},
     "output_type": "display_data"
    }
   ],
   "source": [
    "prune_check_df %>% filter(Csq_A != Csq_B) %>% dim()"
   ]
  },
  {
   "cell_type": "markdown",
   "metadata": {},
   "source": [
    "they were all on the same chromosome (as expected) and have the same consequence type (meaning that our variant filtering script has no issue)"
   ]
  },
  {
   "cell_type": "code",
   "execution_count": 54,
   "metadata": {},
   "outputs": [
    {
     "data": {
      "text/html": [
       "<table>\n",
       "<caption>A data.table: 6 × 3</caption>\n",
       "<thead>\n",
       "\t<tr><th scope=col>CHR_A</th><th scope=col>Csq_A</th><th scope=col>n</th></tr>\n",
       "\t<tr><th scope=col>&lt;chr&gt;</th><th scope=col>&lt;chr&gt;</th><th scope=col>&lt;int&gt;</th></tr>\n",
       "</thead>\n",
       "<tbody>\n",
       "\t<tr><td>2 </td><td>intron</td><td>  1</td></tr>\n",
       "\t<tr><td>23</td><td>intron</td><td> 84</td></tr>\n",
       "\t<tr><td>23</td><td>others</td><td>116</td></tr>\n",
       "\t<tr><td>23</td><td>pav   </td><td>  6</td></tr>\n",
       "\t<tr><td>23</td><td>pcv   </td><td>  1</td></tr>\n",
       "\t<tr><td>24</td><td>others</td><td>  1</td></tr>\n",
       "</tbody>\n",
       "</table>\n"
      ],
      "text/latex": [
       "A data.table: 6 × 3\n",
       "\\begin{tabular}{lll}\n",
       " CHR\\_A & Csq\\_A & n\\\\\n",
       " <chr> & <chr> & <int>\\\\\n",
       "\\hline\n",
       "\t 2  & intron &   1\\\\\n",
       "\t 23 & intron &  84\\\\\n",
       "\t 23 & others & 116\\\\\n",
       "\t 23 & pav    &   6\\\\\n",
       "\t 23 & pcv    &   1\\\\\n",
       "\t 24 & others &   1\\\\\n",
       "\\end{tabular}\n"
      ],
      "text/markdown": [
       "\n",
       "A data.table: 6 × 3\n",
       "\n",
       "| CHR_A &lt;chr&gt; | Csq_A &lt;chr&gt; | n &lt;int&gt; |\n",
       "|---|---|---|\n",
       "| 2  | intron |   1 |\n",
       "| 23 | intron |  84 |\n",
       "| 23 | others | 116 |\n",
       "| 23 | pav    |   6 |\n",
       "| 23 | pcv    |   1 |\n",
       "| 24 | others |   1 |\n",
       "\n"
      ],
      "text/plain": [
       "  CHR_A Csq_A  n  \n",
       "1 2     intron   1\n",
       "2 23    intron  84\n",
       "3 23    others 116\n",
       "4 23    pav      6\n",
       "5 23    pcv      1\n",
       "6 24    others   1"
      ]
     },
     "metadata": {},
     "output_type": "display_data"
    }
   ],
   "source": [
    "prune_check_df %>% count(CHR_A, Csq_A)"
   ]
  },
  {
   "cell_type": "markdown",
   "metadata": {},
   "source": [
    "most variant paris were on chrX."
   ]
  },
  {
   "cell_type": "code",
   "execution_count": 57,
   "metadata": {},
   "outputs": [
    {
     "data": {
      "text/html": [
       "<table>\n",
       "<caption>A data.table: 2 × 10</caption>\n",
       "<thead>\n",
       "\t<tr><th scope=col>CHR_A</th><th scope=col>BP_A</th><th scope=col>SNP_A</th><th scope=col>CHR_B</th><th scope=col>BP_B</th><th scope=col>SNP_B</th><th scope=col>R2</th><th scope=col>dist</th><th scope=col>Csq_A</th><th scope=col>Csq_B</th></tr>\n",
       "\t<tr><th scope=col>&lt;chr&gt;</th><th scope=col>&lt;int&gt;</th><th scope=col>&lt;chr&gt;</th><th scope=col>&lt;chr&gt;</th><th scope=col>&lt;int&gt;</th><th scope=col>&lt;chr&gt;</th><th scope=col>&lt;dbl&gt;</th><th scope=col>&lt;int&gt;</th><th scope=col>&lt;chr&gt;</th><th scope=col>&lt;chr&gt;</th></tr>\n",
       "</thead>\n",
       "<tbody>\n",
       "\t<tr><td>2 </td><td>24752171</td><td>rs74660091   </td><td>2 </td><td>24925731</td><td>rs55781300 </td><td>0.500000</td><td>173560</td><td>intron</td><td>intron</td></tr>\n",
       "\t<tr><td>24</td><td>13934534</td><td>Affx-89015062</td><td>24</td><td>13989432</td><td>rs111882576</td><td>0.501807</td><td> 54898</td><td>others</td><td>others</td></tr>\n",
       "</tbody>\n",
       "</table>\n"
      ],
      "text/latex": [
       "A data.table: 2 × 10\n",
       "\\begin{tabular}{llllllllll}\n",
       " CHR\\_A & BP\\_A & SNP\\_A & CHR\\_B & BP\\_B & SNP\\_B & R2 & dist & Csq\\_A & Csq\\_B\\\\\n",
       " <chr> & <int> & <chr> & <chr> & <int> & <chr> & <dbl> & <int> & <chr> & <chr>\\\\\n",
       "\\hline\n",
       "\t 2  & 24752171 & rs74660091    & 2  & 24925731 & rs55781300  & 0.500000 & 173560 & intron & intron\\\\\n",
       "\t 24 & 13934534 & Affx-89015062 & 24 & 13989432 & rs111882576 & 0.501807 &  54898 & others & others\\\\\n",
       "\\end{tabular}\n"
      ],
      "text/markdown": [
       "\n",
       "A data.table: 2 × 10\n",
       "\n",
       "| CHR_A &lt;chr&gt; | BP_A &lt;int&gt; | SNP_A &lt;chr&gt; | CHR_B &lt;chr&gt; | BP_B &lt;int&gt; | SNP_B &lt;chr&gt; | R2 &lt;dbl&gt; | dist &lt;int&gt; | Csq_A &lt;chr&gt; | Csq_B &lt;chr&gt; |\n",
       "|---|---|---|---|---|---|---|---|---|---|\n",
       "| 2  | 24752171 | rs74660091    | 2  | 24925731 | rs55781300  | 0.500000 | 173560 | intron | intron |\n",
       "| 24 | 13934534 | Affx-89015062 | 24 | 13989432 | rs111882576 | 0.501807 |  54898 | others | others |\n",
       "\n"
      ],
      "text/plain": [
       "  CHR_A BP_A     SNP_A         CHR_B BP_B     SNP_B       R2       dist  \n",
       "1 2     24752171 rs74660091    2     24925731 rs55781300  0.500000 173560\n",
       "2 24    13934534 Affx-89015062 24    13989432 rs111882576 0.501807  54898\n",
       "  Csq_A  Csq_B \n",
       "1 intron intron\n",
       "2 others others"
      ]
     },
     "metadata": {},
     "output_type": "display_data"
    }
   ],
   "source": [
    "prune_check_df %>% filter(CHR_A != '23')"
   ]
  },
  {
   "cell_type": "markdown",
   "metadata": {},
   "source": [
    "there were only 2 the non-chrX variant pairs. They were both R2 ~ 0.5"
   ]
  },
  {
   "cell_type": "code",
   "execution_count": 58,
   "metadata": {},
   "outputs": [
    {
     "data": {
      "image/png": "[encoded data removed]",
      "text/plain": [
       "plot without title"
      ]
     },
     "metadata": {
      "image/png": {
       "height": 420,
       "width": 420
      },
      "text/plain": {
       "height": 420,
       "width": 420
      }
     },
     "output_type": "display_data"
    }
   ],
   "source": [
    "prune_check_df %>% mutate(dist = abs(BP_B - BP_A)) %>%\n",
    "ggplot(aes(x = dist, y = R2)) + geom_point() +\n",
    "theme_bw()"
   ]
  },
  {
   "cell_type": "markdown",
   "metadata": {},
   "source": [
    "### let's write the remaining LD pairs to a file"
   ]
  },
  {
   "cell_type": "code",
   "execution_count": 62,
   "metadata": {},
   "outputs": [],
   "source": [
    "prune_check_df %>%\n",
    "rename('#CHR_A' = 'CHR_A') %>%\n",
    "fwrite(redo_ld_map_f, sep='\\t', na = \"NA\", quote=F)\n"
   ]
  },
  {
   "cell_type": "markdown",
   "metadata": {},
   "source": [
    "### Let's write the variants in those LD pairs to a file"
   ]
  },
  {
   "cell_type": "code",
   "execution_count": 63,
   "metadata": {},
   "outputs": [
    {
     "data": {
      "text/html": [
       "406"
      ],
      "text/latex": [
       "406"
      ],
      "text/markdown": [
       "406"
      ],
      "text/plain": [
       "[1] 406"
      ]
     },
     "metadata": {},
     "output_type": "display_data"
    }
   ],
   "source": [
    "c(prune_check_df$SNP_A, prune_check_df$SNP_B) %>% unique() %>% length()"
   ]
  },
  {
   "cell_type": "code",
   "execution_count": 67,
   "metadata": {},
   "outputs": [],
   "source": [
    "data.frame(\n",
    "    ID = c(prune_check_df$SNP_A, prune_check_df$SNP_B) %>% unique(),\n",
    "    stringsAsFactors=F\n",
    ") %>%\n",
    "rename('#ID' = 'ID') %>%\n",
    "fwrite(redo_list_f, sep='\\t', na = \"NA\", quote=F, col.names = F)\n"
   ]
  },
  {
   "cell_type": "code",
   "execution_count": 68,
   "metadata": {},
   "outputs": [
    {
     "data": {
      "text/html": [
       "'/oak/stanford/groups/mrivas/ukbb24983/array-combined/annotation/ld_indep_20201015/plink_output/ukb24983_cal_hla_cnv.white_british.redo.lst'"
      ],
      "text/latex": [
       "'/oak/stanford/groups/mrivas/ukbb24983/array-combined/annotation/ld\\_indep\\_20201015/plink\\_output/ukb24983\\_cal\\_hla\\_cnv.white\\_british.redo.lst'"
      ],
      "text/markdown": [
       "'/oak/stanford/groups/mrivas/ukbb24983/array-combined/annotation/ld_indep_20201015/plink_output/ukb24983_cal_hla_cnv.white_british.redo.lst'"
      ],
      "text/plain": [
       "[1] \"/oak/stanford/groups/mrivas/ukbb24983/array-combined/annotation/ld_indep_20201015/plink_output/ukb24983_cal_hla_cnv.white_british.redo.lst\""
      ]
     },
     "metadata": {},
     "output_type": "display_data"
    }
   ],
   "source": [
    "redo_list_f"
   ]
  },
  {
   "cell_type": "markdown",
   "metadata": {},
   "source": [
    "### we appply `plink` again\n",
    "\n",
    "```\n",
    "bash 6b_LD_indep.sh redo\n",
    "```"
   ]
  },
  {
   "cell_type": "code",
   "execution_count": null,
   "metadata": {},
   "outputs": [],
   "source": []
  }
 ],
 "metadata": {
  "kernelspec": {
   "display_name": "R",
   "language": "R",
   "name": "ir"
  },
  "language_info": {
   "codemirror_mode": "r",
   "file_extension": ".r",
   "mimetype": "text/x-r-source",
   "name": "R",
   "pygments_lexer": "r",
   "version": "3.6.2"
  }
 },
 "nbformat": 4,
 "nbformat_minor": 4
}
