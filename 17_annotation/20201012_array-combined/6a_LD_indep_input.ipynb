{
 "cells": [
  {
   "cell_type": "code",
   "execution_count": 1,
   "metadata": {},
   "outputs": [],
   "source": [
    "suppressWarnings(suppressPackageStartupMessages({\n",
    "    library(tidyverse)\n",
    "    library(data.table)\n",
    "}))\n"
   ]
  },
  {
   "cell_type": "code",
   "execution_count": 17,
   "metadata": {},
   "outputs": [],
   "source": [
    "var_QC_f <- '/oak/stanford/groups/mrivas/ukbb24983/array-combined/annotation/annotation_20201012/ukb24983_cal_hla_cnv.var_QC.tsv.gz'\n",
    "cal_annot_f <- '/oak/stanford/groups/mrivas/ukbb24983/cal/annotation_20201002/ukb24983_cal_cALL_v2_hg19.vep101-loftee.Csq.tsv.gz'\n",
    "ld_map_f <- '/oak/stanford/groups/mrivas/ukbb24983/array_imp_combined_no_cnv/ldmap/ldmap_20200928/ukb24983_cal_hla_imp.white_british.ld_map.tsv.gz'\n",
    "\n",
    "QC_passed_lst_f <- '/oak/stanford/groups/mrivas/ukbb24983/array-combined/annotation/ld_indep_20201015/ukb24983_cal_hla_cnv.var_QCed.tsv'\n",
    "QC_passed_ld_map_f <- '/oak/stanford/groups/mrivas/ukbb24983/array-combined/annotation/ld_indep_20201015/ukb24983_cal_hla_cnv.var_QCed.ld_map.tsv'\n"
   ]
  },
  {
   "cell_type": "code",
   "execution_count": 3,
   "metadata": {},
   "outputs": [],
   "source": [
    "cat_or_zcat <- function(f){\n",
    "    ifelse(endsWith(f, '.zst'), 'zstdcat', ifelse(endsWith(f, '.gz'), 'zcat', 'cat'))\n",
    "}\n",
    "\n",
    "fread_CHROM <- function(f){\n",
    "    fread(cmd=paste(cat_or_zcat(f), f), colClasses = c('#CHROM'='character')) %>% rename('CHROM'='#CHROM')\n",
    "}\n"
   ]
  },
  {
   "cell_type": "code",
   "execution_count": 4,
   "metadata": {},
   "outputs": [],
   "source": [
    "var_QC_f %>% fread_CHROM() %>% select(CHROM, POS, ID, REF, ALT, FILTER, geno_data_source, array) -> var_QC_df\n",
    "cal_annot_f %>% fread_CHROM() %>% select(ID, Csq) -> cal_annot_df\n"
   ]
  },
  {
   "cell_type": "code",
   "execution_count": 11,
   "metadata": {},
   "outputs": [],
   "source": [
    "var_QC_df %>% left_join(cal_annot_df, by='ID') %>% filter(FILTER == '.', geno_data_source == 'cal') -> df\n"
   ]
  },
  {
   "cell_type": "code",
   "execution_count": 12,
   "metadata": {},
   "outputs": [
    {
     "data": {
      "text/html": [
       "<table>\n",
       "<caption>A data.table: 6 × 2</caption>\n",
       "<thead>\n",
       "\t<tr><th scope=col>Csq</th><th scope=col>n</th></tr>\n",
       "\t<tr><th scope=col>&lt;chr&gt;</th><th scope=col>&lt;int&gt;</th></tr>\n",
       "</thead>\n",
       "<tbody>\n",
       "\t<tr><td>intron</td><td>286561</td></tr>\n",
       "\t<tr><td>others</td><td>263849</td></tr>\n",
       "\t<tr><td>pav   </td><td> 74103</td></tr>\n",
       "\t<tr><td>pcv   </td><td>  9655</td></tr>\n",
       "\t<tr><td>ptv   </td><td> 23891</td></tr>\n",
       "\t<tr><td>utr   </td><td> 11200</td></tr>\n",
       "</tbody>\n",
       "</table>\n"
      ],
      "text/latex": [
       "A data.table: 6 × 2\n",
       "\\begin{tabular}{ll}\n",
       " Csq & n\\\\\n",
       " <chr> & <int>\\\\\n",
       "\\hline\n",
       "\t intron & 286561\\\\\n",
       "\t others & 263849\\\\\n",
       "\t pav    &  74103\\\\\n",
       "\t pcv    &   9655\\\\\n",
       "\t ptv    &  23891\\\\\n",
       "\t utr    &  11200\\\\\n",
       "\\end{tabular}\n"
      ],
      "text/markdown": [
       "\n",
       "A data.table: 6 × 2\n",
       "\n",
       "| Csq &lt;chr&gt; | n &lt;int&gt; |\n",
       "|---|---|\n",
       "| intron | 286561 |\n",
       "| others | 263849 |\n",
       "| pav    |  74103 |\n",
       "| pcv    |   9655 |\n",
       "| ptv    |  23891 |\n",
       "| utr    |  11200 |\n",
       "\n"
      ],
      "text/plain": [
       "  Csq    n     \n",
       "1 intron 286561\n",
       "2 others 263849\n",
       "3 pav     74103\n",
       "4 pcv      9655\n",
       "5 ptv     23891\n",
       "6 utr     11200"
      ]
     },
     "metadata": {},
     "output_type": "display_data"
    }
   ],
   "source": [
    "df %>% count(Csq)"
   ]
  },
  {
   "cell_type": "code",
   "execution_count": 13,
   "metadata": {},
   "outputs": [],
   "source": [
    "df %>%\n",
    "rename('#CHROM' = 'CHROM') %>%\n",
    "fwrite(QC_passed_lst_f, sep='\\t', na = \"NA\", quote=F)\n"
   ]
  },
  {
   "cell_type": "code",
   "execution_count": 15,
   "metadata": {},
   "outputs": [
    {
     "data": {
      "text/html": [
       "<table>\n",
       "<caption>A data.table: 6 × 9</caption>\n",
       "<thead>\n",
       "\t<tr><th scope=col>CHROM</th><th scope=col>POS</th><th scope=col>ID</th><th scope=col>REF</th><th scope=col>ALT</th><th scope=col>FILTER</th><th scope=col>geno_data_source</th><th scope=col>array</th><th scope=col>Csq</th></tr>\n",
       "\t<tr><th scope=col>&lt;chr&gt;</th><th scope=col>&lt;int&gt;</th><th scope=col>&lt;chr&gt;</th><th scope=col>&lt;chr&gt;</th><th scope=col>&lt;chr&gt;</th><th scope=col>&lt;chr&gt;</th><th scope=col>&lt;chr&gt;</th><th scope=col>&lt;chr&gt;</th><th scope=col>&lt;chr&gt;</th></tr>\n",
       "</thead>\n",
       "<tbody>\n",
       "\t<tr><td>1</td><td>871267</td><td>Affx-89007868</td><td>C  </td><td>T</td><td>.</td><td>cal</td><td>UKBL</td><td>ptv</td></tr>\n",
       "\t<tr><td>1</td><td>879390</td><td>Affx-80267079</td><td>GGA</td><td>G</td><td>.</td><td>cal</td><td>both</td><td>ptv</td></tr>\n",
       "\t<tr><td>1</td><td>881003</td><td>Affx-80210141</td><td>G  </td><td>A</td><td>.</td><td>cal</td><td>both</td><td>ptv</td></tr>\n",
       "\t<tr><td>1</td><td>889182</td><td>Affx-80210145</td><td>G  </td><td>A</td><td>.</td><td>cal</td><td>both</td><td>ptv</td></tr>\n",
       "\t<tr><td>1</td><td>892487</td><td>Affx-80267082</td><td>CA </td><td>C</td><td>.</td><td>cal</td><td>both</td><td>ptv</td></tr>\n",
       "\t<tr><td>1</td><td>894379</td><td>Affx-80210148</td><td>G  </td><td>A</td><td>.</td><td>cal</td><td>both</td><td>ptv</td></tr>\n",
       "</tbody>\n",
       "</table>\n"
      ],
      "text/latex": [
       "A data.table: 6 × 9\n",
       "\\begin{tabular}{lllllllll}\n",
       " CHROM & POS & ID & REF & ALT & FILTER & geno\\_data\\_source & array & Csq\\\\\n",
       " <chr> & <int> & <chr> & <chr> & <chr> & <chr> & <chr> & <chr> & <chr>\\\\\n",
       "\\hline\n",
       "\t 1 & 871267 & Affx-89007868 & C   & T & . & cal & UKBL & ptv\\\\\n",
       "\t 1 & 879390 & Affx-80267079 & GGA & G & . & cal & both & ptv\\\\\n",
       "\t 1 & 881003 & Affx-80210141 & G   & A & . & cal & both & ptv\\\\\n",
       "\t 1 & 889182 & Affx-80210145 & G   & A & . & cal & both & ptv\\\\\n",
       "\t 1 & 892487 & Affx-80267082 & CA  & C & . & cal & both & ptv\\\\\n",
       "\t 1 & 894379 & Affx-80210148 & G   & A & . & cal & both & ptv\\\\\n",
       "\\end{tabular}\n"
      ],
      "text/markdown": [
       "\n",
       "A data.table: 6 × 9\n",
       "\n",
       "| CHROM &lt;chr&gt; | POS &lt;int&gt; | ID &lt;chr&gt; | REF &lt;chr&gt; | ALT &lt;chr&gt; | FILTER &lt;chr&gt; | geno_data_source &lt;chr&gt; | array &lt;chr&gt; | Csq &lt;chr&gt; |\n",
       "|---|---|---|---|---|---|---|---|---|\n",
       "| 1 | 871267 | Affx-89007868 | C   | T | . | cal | UKBL | ptv |\n",
       "| 1 | 879390 | Affx-80267079 | GGA | G | . | cal | both | ptv |\n",
       "| 1 | 881003 | Affx-80210141 | G   | A | . | cal | both | ptv |\n",
       "| 1 | 889182 | Affx-80210145 | G   | A | . | cal | both | ptv |\n",
       "| 1 | 892487 | Affx-80267082 | CA  | C | . | cal | both | ptv |\n",
       "| 1 | 894379 | Affx-80210148 | G   | A | . | cal | both | ptv |\n",
       "\n"
      ],
      "text/plain": [
       "  CHROM POS    ID            REF ALT FILTER geno_data_source array Csq\n",
       "1 1     871267 Affx-89007868 C   T   .      cal              UKBL  ptv\n",
       "2 1     879390 Affx-80267079 GGA G   .      cal              both  ptv\n",
       "3 1     881003 Affx-80210141 G   A   .      cal              both  ptv\n",
       "4 1     889182 Affx-80210145 G   A   .      cal              both  ptv\n",
       "5 1     892487 Affx-80267082 CA  C   .      cal              both  ptv\n",
       "6 1     894379 Affx-80210148 G   A   .      cal              both  ptv"
      ]
     },
     "metadata": {},
     "output_type": "display_data"
    }
   ],
   "source": [
    "df %>% \n",
    "filter(Csq == 'ptv') %>% \n",
    "head()"
   ]
  },
  {
   "cell_type": "code",
   "execution_count": null,
   "metadata": {},
   "outputs": [],
   "source": [
    "ld_map_f %>%\n",
    "fread(colClasses = c('#CHR_A'='character')) %>% rename('CHR_A'='#CHR_A') %>%\n",
    "filter(SNP_A %in% df$ID, SNP_B %in% df$ID) -> tmp"
   ]
  },
  {
   "cell_type": "code",
   "execution_count": null,
   "metadata": {},
   "outputs": [],
   "source": []
  }
 ],
 "metadata": {
  "kernelspec": {
   "display_name": "R",
   "language": "R",
   "name": "ir"
  },
  "language_info": {
   "codemirror_mode": "r",
   "file_extension": ".r",
   "mimetype": "text/x-r-source",
   "name": "R",
   "pygments_lexer": "r",
   "version": "3.6.2"
  }
 },
 "nbformat": 4,
 "nbformat_minor": 4
}
