{
 "cells": [
  {
   "cell_type": "code",
   "execution_count": 1,
   "metadata": {},
   "outputs": [],
   "source": [
    "suppressWarnings(suppressPackageStartupMessages({\n",
    "    library(tidyverse)\n",
    "    library(data.table)\n",
    "}))\n"
   ]
  },
  {
   "cell_type": "code",
   "execution_count": 17,
   "metadata": {},
   "outputs": [],
   "source": [
    "var_QC_f <- '/oak/stanford/groups/mrivas/ukbb24983/array-combined/annotation/annotation_20201012/ukb24983_cal_hla_cnv.var_QC.tsv.gz'\n",
    "cal_annot_f <- '/oak/stanford/groups/mrivas/ukbb24983/cal/annotation_20201002/ukb24983_cal_cALL_v2_hg19.vep101-loftee.Csq.tsv.gz'\n",
    "ld_map_f <- '/oak/stanford/groups/mrivas/ukbb24983/array_imp_combined_no_cnv/ldmap/ldmap_20200928/ukb24983_cal_hla_imp.white_british.ld_map.tsv.gz'\n",
    "\n",
    "QC_passed_lst_f <- '/oak/stanford/groups/mrivas/ukbb24983/array-combined/annotation/ld_indep_20201015/ukb24983_cal_hla_cnv.var_QCed.tsv'\n",
    "QC_passed_ld_map_f <- '/oak/stanford/groups/mrivas/ukbb24983/array-combined/annotation/ld_indep_20201015/ukb24983_cal_hla_cnv.var_QCed.ld_map.tsv'\n"
   ]
  },
  {
   "cell_type": "code",
   "execution_count": 3,
   "metadata": {},
   "outputs": [],
   "source": [
    "cat_or_zcat <- function(f){\n",
    "    ifelse(endsWith(f, '.zst'), 'zstdcat', ifelse(endsWith(f, '.gz'), 'zcat', 'cat'))\n",
    "}\n",
    "\n",
    "fread_CHROM <- function(f){\n",
    "    fread(cmd=paste(cat_or_zcat(f), f), colClasses = c('#CHROM'='character')) %>% rename('CHROM'='#CHROM')\n",
    "}\n"
   ]
  },
  {
   "cell_type": "code",
   "execution_count": 4,
   "metadata": {},
   "outputs": [],
   "source": [
    "var_QC_f %>% fread_CHROM() %>% select(CHROM, POS, ID, REF, ALT, FILTER, geno_data_source, array) -> var_QC_df\n",
    "cal_annot_f %>% fread_CHROM() %>% select(ID, Csq) -> cal_annot_df\n"
   ]
  },
  {
   "cell_type": "code",
   "execution_count": 11,
   "metadata": {},
   "outputs": [],
   "source": [
    "var_QC_df %>% left_join(cal_annot_df, by='ID') %>% filter(FILTER == '.', geno_data_source == 'cal') -> df\n"
   ]
  },
  {
   "cell_type": "code",
   "execution_count": 12,
   "metadata": {},
   "outputs": [
    {
     "data": {
      "text/html": [
       "<table>\n",
       "<caption>A data.table: 6 × 2</caption>\n",
       "<thead>\n",
       "\t<tr><th scope=col>Csq</th><th scope=col>n</th></tr>\n",
       "\t<tr><th scope=col>&lt;chr&gt;</th><th scope=col>&lt;int&gt;</th></tr>\n",
       "</thead>\n",
       "<tbody>\n",
       "\t<tr><td>intron</td><td>286561</td></tr>\n",
       "\t<tr><td>others</td><td>263849</td></tr>\n",
       "\t<tr><td>pav   </td><td> 74103</td></tr>\n",
       "\t<tr><td>pcv   </td><td>  9655</td></tr>\n",
       "\t<tr><td>ptv   </td><td> 23891</td></tr>\n",
       "\t<tr><td>utr   </td><td> 11200</td></tr>\n",
       "</tbody>\n",
       "</table>\n"
      ],
      "text/latex": [
       "A data.table: 6 × 2\n",
       "\\begin{tabular}{ll}\n",
       " Csq & n\\\\\n",
       " <chr> & <int>\\\\\n",
       "\\hline\n",
       "\t intron & 286561\\\\\n",
       "\t others & 263849\\\\\n",
       "\t pav    &  74103\\\\\n",
       "\t pcv    &   9655\\\\\n",
       "\t ptv    &  23891\\\\\n",
       "\t utr    &  11200\\\\\n",
       "\\end{tabular}\n"
      ],
      "text/markdown": [
       "\n",
       "A data.table: 6 × 2\n",
       "\n",
       "| Csq &lt;chr&gt; | n &lt;int&gt; |\n",
       "|---|---|\n",
       "| intron | 286561 |\n",
       "| others | 263849 |\n",
       "| pav    |  74103 |\n",
       "| pcv    |   9655 |\n",
       "| ptv    |  23891 |\n",
       "| utr    |  11200 |\n",
       "\n"
      ],
      "text/plain": [
       "  Csq    n     \n",
       "1 intron 286561\n",
       "2 others 263849\n",
       "3 pav     74103\n",
       "4 pcv      9655\n",
       "5 ptv     23891\n",
       "6 utr     11200"
      ]
     },
     "metadata": {},
     "output_type": "display_data"
    }
   ],
   "source": [
    "df %>% count(Csq)"
   ]
  },
  {
   "cell_type": "code",
   "execution_count": 13,
   "metadata": {},
   "outputs": [],
   "source": [
    "df %>%\n",
    "rename('#CHROM' = 'CHROM') %>%\n",
    "fwrite(QC_passed_lst_f, sep='\\t', na = \"NA\", quote=F)\n"
   ]
  },
  {
   "cell_type": "code",
   "execution_count": null,
   "metadata": {},
   "outputs": [],
   "source": []
  }
 ],
 "metadata": {
  "kernelspec": {
   "display_name": "R",
   "language": "R",
   "name": "ir"
  },
  "language_info": {
   "codemirror_mode": "r",
   "file_extension": ".r",
   "mimetype": "text/x-r-source",
   "name": "R",
   "pygments_lexer": "r",
   "version": "3.6.2"
  }
 },
 "nbformat": 4,
 "nbformat_minor": 4
}
