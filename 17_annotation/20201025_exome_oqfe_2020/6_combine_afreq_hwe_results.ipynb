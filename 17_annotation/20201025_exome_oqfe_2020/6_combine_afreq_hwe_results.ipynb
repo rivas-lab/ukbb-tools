{
 "cells": [
  {
   "cell_type": "code",
   "execution_count": 1,
   "metadata": {},
   "outputs": [],
   "source": [
    "suppressWarnings(suppressPackageStartupMessages({\n",
    "    library(tidyverse)\n",
    "    library(data.table)\n",
    "}))\n"
   ]
  },
  {
   "cell_type": "code",
   "execution_count": 51,
   "metadata": {},
   "outputs": [],
   "source": [
    "# input\n",
    "pvar_f <- '/oak/stanford/groups/mrivas/ukbb24983/exome/pgen/oqfe_2020/ukb24983_exomeOQFE.pvar.zst'\n",
    "data_d <- '/oak/stanford/groups/mrivas/ukbb24983/exome/annotation/20201025_exome_oqfe_2020'\n",
    "afreq_hwe_out_d <- file.path(str_replace(data_d, '/oak/stanford/', '/scratch/'), 'afreq_hwe')\n",
    "# output\n",
    "out_f <- file.path(data_d, 'ukb24983_exomeOQFE.afreq_hwe.20201025.pvar')\n",
    "\n",
    "# constants\n",
    "pops <- c('white_british', 'non_british_white', 'african', 's_asian', 'e_asian', 'related', 'others')\n"
   ]
  },
  {
   "cell_type": "code",
   "execution_count": 20,
   "metadata": {},
   "outputs": [],
   "source": [
    "# functions\n",
    "\n",
    "cat_or_zcat <- function(f){\n",
    "    ifelse(endsWith(f, '.zst'), 'zstdcat', ifelse(endsWith(f, '.gz'), 'zcat', 'cat'))\n",
    "}\n",
    "\n",
    "fread_CHROM <- function(f, select=NULL){\n",
    "    fread(cmd=paste(cat_or_zcat(f), f), colClasses = c('#CHROM'='character'), select=select) %>% rename('CHROM'='#CHROM')\n",
    "}\n",
    "\n",
    "read_tbl <- function(pops, prefix, suffix, select=NULL){\n",
    "    pops %>% \n",
    "    lapply(function(pop){\n",
    "        ifelse(pop == 'all', sprintf('%s.%s', prefix, suffix), sprintf('%s.%s.%s', prefix, pop, suffix)) %>%\n",
    "        fread_CHROM(select=select) %>% mutate(population = pop)\n",
    "    }) %>% bind_rows()\n",
    "}\n",
    "\n",
    "spread_pop <- function(df, col, pops, col_prefix, col_suffix, col_sep='_'){    \n",
    "    df %>% select(ID, col, population) %>%\n",
    "    rename(!!'VAL' := col) %>% spread(all_of(population), VAL) %>%\n",
    "    select(ID, all_of(pops)) %>% rename(setNames(\n",
    "        1:length(pops)+1, \n",
    "        paste(rep(col_prefix, length(pops)), pops, rep(col_suffix, length(pops)), sep=col_sep)\n",
    "    ))\n",
    "}\n"
   ]
  },
  {
   "cell_type": "markdown",
   "metadata": {},
   "source": [
    "## read files\n",
    "\n",
    "### `pvar` file"
   ]
  },
  {
   "cell_type": "code",
   "execution_count": 5,
   "metadata": {},
   "outputs": [],
   "source": [
    "pvar_f %>% fread_CHROM() -> pvar_df\n"
   ]
  },
  {
   "cell_type": "markdown",
   "metadata": {},
   "source": [
    "### `afreq` file"
   ]
  },
  {
   "cell_type": "code",
   "execution_count": 23,
   "metadata": {},
   "outputs": [],
   "source": [
    "read_tbl(\n",
    "    c('all', pops), file.path(afreq_hwe_out_d, 'ukb24983_exomeOQFE'), 'afreq.zst', select=c('#CHROM', 'ID', 'ALT_FREQS')\n",
    ") %>% select(-CHROM) -> afreq_long_df\n"
   ]
  },
  {
   "cell_type": "code",
   "execution_count": 25,
   "metadata": {},
   "outputs": [
    {
     "name": "stdout",
     "output_type": "stream",
     "text": [
      "[1] 17777950        5\n",
      "[1] 142223600         3\n",
      "[1] 142223600\n"
     ]
    }
   ],
   "source": [
    "dim(pvar_df) %>% print()\n",
    "dim(afreq_long_df) %>% print()\n",
    "print(8 * 17777950)\n"
   ]
  },
  {
   "cell_type": "code",
   "execution_count": 26,
   "metadata": {},
   "outputs": [],
   "source": [
    "afreq_long_df %>%\n",
    "spread_pop('ALT_FREQS', c('all', pops), 'UKB', 'AF') %>%\n",
    "rename('UKB_AF'=2) -> afreq_wide_df\n"
   ]
  },
  {
   "cell_type": "code",
   "execution_count": 27,
   "metadata": {},
   "outputs": [
    {
     "name": "stdout",
     "output_type": "stream",
     "text": [
      "[1] 17777950        9\n"
     ]
    }
   ],
   "source": [
    "dim(afreq_wide_df) %>% print()\n"
   ]
  },
  {
   "cell_type": "code",
   "execution_count": 28,
   "metadata": {},
   "outputs": [],
   "source": [
    "rm(afreq_long_df)\n"
   ]
  },
  {
   "cell_type": "markdown",
   "metadata": {},
   "source": [
    "### `hwe` file"
   ]
  },
  {
   "cell_type": "code",
   "execution_count": 30,
   "metadata": {},
   "outputs": [],
   "source": [
    "read_tbl(\n",
    "    c('all', pops), file.path(afreq_hwe_out_d, 'ukb24983_exomeOQFE'), 'hardy.zst',\n",
    "    select=c('#CHROM', 'ID', 'MIDP')\n",
    ") %>% select(-CHROM) -> hwe_autosomes_long_df\n"
   ]
  },
  {
   "cell_type": "code",
   "execution_count": 31,
   "metadata": {},
   "outputs": [],
   "source": [
    "read_tbl(\n",
    "    c('all', pops), file.path(afreq_hwe_out_d, 'ukb24983_exomeOQFE'), 'hardy.x.zst',\n",
    "    select=c('#CHROM', 'ID', 'MIDP')\n",
    ") %>% select(-CHROM) -> hwe_chrX_long_df\n"
   ]
  },
  {
   "cell_type": "code",
   "execution_count": 32,
   "metadata": {},
   "outputs": [],
   "source": [
    "bind_rows(hwe_autosomes_long_df, hwe_chrX_long_df) %>% \n",
    "rename('hwe_p'='MIDP') -> hwe_long_df\n"
   ]
  },
  {
   "cell_type": "code",
   "execution_count": 33,
   "metadata": {},
   "outputs": [
    {
     "name": "stdout",
     "output_type": "stream",
     "text": [
      "[1] 139374240         3\n",
      "[1] 2848288       3\n",
      "[1] 142222528         3\n"
     ]
    }
   ],
   "source": [
    "hwe_autosomes_long_df %>% dim() %>% print()\n",
    "hwe_chrX_long_df      %>% dim() %>% print()\n",
    "hwe_long_df           %>% dim() %>% print()\n"
   ]
  },
  {
   "cell_type": "code",
   "execution_count": 34,
   "metadata": {},
   "outputs": [
    {
     "data": {
      "text/html": [
       "142222528"
      ],
      "text/latex": [
       "142222528"
      ],
      "text/markdown": [
       "142222528"
      ],
      "text/plain": [
       "[1] 142222528"
      ]
     },
     "metadata": {},
     "output_type": "display_data"
    }
   ],
   "source": [
    "139374240 + 2848288\n"
   ]
  },
  {
   "cell_type": "code",
   "execution_count": 35,
   "metadata": {},
   "outputs": [],
   "source": [
    "rm(hwe_autosomes_long_df)\n",
    "rm(hwe_chrX_long_df)"
   ]
  },
  {
   "cell_type": "code",
   "execution_count": 36,
   "metadata": {},
   "outputs": [],
   "source": [
    "hwe_long_df %>%\n",
    "spread_pop('hwe_p', c('all', pops), 'UKB', 'hwe_p')  %>%\n",
    "rename('UKB_hwe_p'=2) -> hwe_wide_df\n"
   ]
  },
  {
   "cell_type": "code",
   "execution_count": 37,
   "metadata": {},
   "outputs": [
    {
     "name": "stdout",
     "output_type": "stream",
     "text": [
      "[1] 17777816        9\n"
     ]
    }
   ],
   "source": [
    "hwe_wide_df           %>% dim() %>% print()\n"
   ]
  },
  {
   "cell_type": "code",
   "execution_count": 38,
   "metadata": {},
   "outputs": [
    {
     "data": {
      "text/html": [
       "142222528"
      ],
      "text/latex": [
       "142222528"
      ],
      "text/markdown": [
       "142222528"
      ],
      "text/plain": [
       "[1] 142222528"
      ]
     },
     "metadata": {},
     "output_type": "display_data"
    }
   ],
   "source": [
    "17777816 * 8 "
   ]
  },
  {
   "cell_type": "code",
   "execution_count": 39,
   "metadata": {},
   "outputs": [],
   "source": [
    "rm(hwe_long_df)"
   ]
  },
  {
   "cell_type": "markdown",
   "metadata": {},
   "source": [
    "### `gcount` file"
   ]
  },
  {
   "cell_type": "code",
   "execution_count": 11,
   "metadata": {},
   "outputs": [],
   "source": [
    "read_tbl(\n",
    "    c('all', pops), file.path(afreq_hwe_out_d, 'ukb24983_exomeOQFE'), 'gcount.zst',\n",
    "    select=c('#CHROM', 'ID', 'OBS_CT', 'MISSING_CT', 'HOM_REF_CT', 'HET_REF_ALT_CTS', 'TWO_ALT_GENO_CTS', 'HAP_REF_CT', 'HAP_ALT_CTS')\n",
    ") %>% select(-CHROM) -> gcount_long_df\n"
   ]
  },
  {
   "cell_type": "code",
   "execution_count": 40,
   "metadata": {},
   "outputs": [
    {
     "data": {
      "text/html": [
       "<style>\n",
       ".list-inline {list-style: none; margin:0; padding: 0}\n",
       ".list-inline>li {display: inline-block}\n",
       ".list-inline>li:not(:last-child)::after {content: \"\\00b7\"; padding: 0 .5ex}\n",
       "</style>\n",
       "<ol class=list-inline><li>142223600</li><li>9</li></ol>\n"
      ],
      "text/latex": [
       "\\begin{enumerate*}\n",
       "\\item 142223600\n",
       "\\item 9\n",
       "\\end{enumerate*}\n"
      ],
      "text/markdown": [
       "1. 142223600\n",
       "2. 9\n",
       "\n",
       "\n"
      ],
      "text/plain": [
       "[1] 142223600         9"
      ]
     },
     "metadata": {},
     "output_type": "display_data"
    }
   ],
   "source": [
    "dim(gcount_long_df)"
   ]
  },
  {
   "cell_type": "markdown",
   "metadata": {},
   "source": [
    "## join data frames\n",
    "\n",
    "### `AF` and `hwe_p`\n"
   ]
  },
  {
   "cell_type": "code",
   "execution_count": 41,
   "metadata": {},
   "outputs": [],
   "source": [
    "pvar_df %>%\n",
    "left_join(afreq_wide_df, by='ID') -> pvar_af_hwe_df\n"
   ]
  },
  {
   "cell_type": "code",
   "execution_count": 42,
   "metadata": {},
   "outputs": [],
   "source": [
    "pvar_af_hwe_df %>%\n",
    "left_join(hwe_wide_df, by='ID') -> pvar_af_hwe_df\n"
   ]
  },
  {
   "cell_type": "code",
   "execution_count": 43,
   "metadata": {},
   "outputs": [
    {
     "name": "stdout",
     "output_type": "stream",
     "text": [
      "[1] 17777950       21\n"
     ]
    }
   ],
   "source": [
    "pvar_af_hwe_df %>% dim() %>% print()"
   ]
  },
  {
   "cell_type": "code",
   "execution_count": 44,
   "metadata": {},
   "outputs": [
    {
     "data": {
      "text/html": [
       "<style>\n",
       ".list-inline {list-style: none; margin:0; padding: 0}\n",
       ".list-inline>li {display: inline-block}\n",
       ".list-inline>li:not(:last-child)::after {content: \"\\00b7\"; padding: 0 .5ex}\n",
       "</style>\n",
       "<ol class=list-inline><li>'CHROM'</li><li>'POS'</li><li>'ID'</li><li>'REF'</li><li>'ALT'</li><li>'UKB_AF'</li><li>'UKB_white_british_AF'</li><li>'UKB_non_british_white_AF'</li><li>'UKB_african_AF'</li><li>'UKB_s_asian_AF'</li><li>'UKB_e_asian_AF'</li><li>'UKB_related_AF'</li><li>'UKB_others_AF'</li><li>'UKB_hwe_p'</li><li>'UKB_white_british_hwe_p'</li><li>'UKB_non_british_white_hwe_p'</li><li>'UKB_african_hwe_p'</li><li>'UKB_s_asian_hwe_p'</li><li>'UKB_e_asian_hwe_p'</li><li>'UKB_related_hwe_p'</li><li>'UKB_others_hwe_p'</li></ol>\n"
      ],
      "text/latex": [
       "\\begin{enumerate*}\n",
       "\\item 'CHROM'\n",
       "\\item 'POS'\n",
       "\\item 'ID'\n",
       "\\item 'REF'\n",
       "\\item 'ALT'\n",
       "\\item 'UKB\\_AF'\n",
       "\\item 'UKB\\_white\\_british\\_AF'\n",
       "\\item 'UKB\\_non\\_british\\_white\\_AF'\n",
       "\\item 'UKB\\_african\\_AF'\n",
       "\\item 'UKB\\_s\\_asian\\_AF'\n",
       "\\item 'UKB\\_e\\_asian\\_AF'\n",
       "\\item 'UKB\\_related\\_AF'\n",
       "\\item 'UKB\\_others\\_AF'\n",
       "\\item 'UKB\\_hwe\\_p'\n",
       "\\item 'UKB\\_white\\_british\\_hwe\\_p'\n",
       "\\item 'UKB\\_non\\_british\\_white\\_hwe\\_p'\n",
       "\\item 'UKB\\_african\\_hwe\\_p'\n",
       "\\item 'UKB\\_s\\_asian\\_hwe\\_p'\n",
       "\\item 'UKB\\_e\\_asian\\_hwe\\_p'\n",
       "\\item 'UKB\\_related\\_hwe\\_p'\n",
       "\\item 'UKB\\_others\\_hwe\\_p'\n",
       "\\end{enumerate*}\n"
      ],
      "text/markdown": [
       "1. 'CHROM'\n",
       "2. 'POS'\n",
       "3. 'ID'\n",
       "4. 'REF'\n",
       "5. 'ALT'\n",
       "6. 'UKB_AF'\n",
       "7. 'UKB_white_british_AF'\n",
       "8. 'UKB_non_british_white_AF'\n",
       "9. 'UKB_african_AF'\n",
       "10. 'UKB_s_asian_AF'\n",
       "11. 'UKB_e_asian_AF'\n",
       "12. 'UKB_related_AF'\n",
       "13. 'UKB_others_AF'\n",
       "14. 'UKB_hwe_p'\n",
       "15. 'UKB_white_british_hwe_p'\n",
       "16. 'UKB_non_british_white_hwe_p'\n",
       "17. 'UKB_african_hwe_p'\n",
       "18. 'UKB_s_asian_hwe_p'\n",
       "19. 'UKB_e_asian_hwe_p'\n",
       "20. 'UKB_related_hwe_p'\n",
       "21. 'UKB_others_hwe_p'\n",
       "\n",
       "\n"
      ],
      "text/plain": [
       " [1] \"CHROM\"                       \"POS\"                        \n",
       " [3] \"ID\"                          \"REF\"                        \n",
       " [5] \"ALT\"                         \"UKB_AF\"                     \n",
       " [7] \"UKB_white_british_AF\"        \"UKB_non_british_white_AF\"   \n",
       " [9] \"UKB_african_AF\"              \"UKB_s_asian_AF\"             \n",
       "[11] \"UKB_e_asian_AF\"              \"UKB_related_AF\"             \n",
       "[13] \"UKB_others_AF\"               \"UKB_hwe_p\"                  \n",
       "[15] \"UKB_white_british_hwe_p\"     \"UKB_non_british_white_hwe_p\"\n",
       "[17] \"UKB_african_hwe_p\"           \"UKB_s_asian_hwe_p\"          \n",
       "[19] \"UKB_e_asian_hwe_p\"           \"UKB_related_hwe_p\"          \n",
       "[21] \"UKB_others_hwe_p\"           "
      ]
     },
     "metadata": {},
     "output_type": "display_data"
    }
   ],
   "source": [
    "pvar_af_hwe_df %>% colnames()"
   ]
  },
  {
   "cell_type": "code",
   "execution_count": 45,
   "metadata": {},
   "outputs": [],
   "source": [
    "rm(pvar_df)\n",
    "rm(afreq_wide_df)\n",
    "rm(hwe_wide_df)\n"
   ]
  },
  {
   "cell_type": "markdown",
   "metadata": {},
   "source": [
    "### Other outputs from `gcount` file"
   ]
  },
  {
   "cell_type": "code",
   "execution_count": 46,
   "metadata": {},
   "outputs": [
    {
     "name": "stderr",
     "output_type": "stream",
     "text": [
      "OBS_CT\n",
      "\n",
      "MISSING_CT\n",
      "\n",
      "HOM_REF_CT\n",
      "\n",
      "HET_REF_ALT_CTS\n",
      "\n",
      "TWO_ALT_GENO_CTS\n",
      "\n",
      "HAP_REF_CT\n",
      "\n",
      "HAP_ALT_CTS\n",
      "\n"
     ]
    }
   ],
   "source": [
    "for(col in c('OBS_CT', 'MISSING_CT', 'HOM_REF_CT', 'HET_REF_ALT_CTS', 'TWO_ALT_GENO_CTS', 'HAP_REF_CT', 'HAP_ALT_CTS')){\n",
    "    message(col)\n",
    "    \n",
    "    gcount_long_df %>%\n",
    "    spread_pop(col, c('all', pops), 'UKB', col) %>%\n",
    "    rename(!!sprintf('UKB_%s', col) := 2) -> tmp\n",
    "    \n",
    "    pvar_af_hwe_df %>% left_join(tmp, by='ID') -> pvar_af_hwe_df\n",
    "    \n",
    "    rm(tmp)\n",
    "}\n",
    "s"
   ]
  },
  {
   "cell_type": "markdown",
   "metadata": {},
   "source": [
    "## compute the missingness"
   ]
  },
  {
   "cell_type": "code",
   "execution_count": 48,
   "metadata": {},
   "outputs": [],
   "source": [
    "pvar_af_hwe_df %>% \n",
    "mutate(\n",
    "    f_miss = UKB_MISSING_CT / (UKB_MISSING_CT + UKB_OBS_CT)\n",
    ") -> pvar_af_hwe_df\n"
   ]
  },
  {
   "cell_type": "code",
   "execution_count": 49,
   "metadata": {},
   "outputs": [
    {
     "data": {
      "text/html": [
       "<style>\n",
       ".list-inline {list-style: none; margin:0; padding: 0}\n",
       ".list-inline>li {display: inline-block}\n",
       ".list-inline>li:not(:last-child)::after {content: \"\\00b7\"; padding: 0 .5ex}\n",
       "</style>\n",
       "<ol class=list-inline><li>17777950</li><li>78</li></ol>\n"
      ],
      "text/latex": [
       "\\begin{enumerate*}\n",
       "\\item 17777950\n",
       "\\item 78\n",
       "\\end{enumerate*}\n"
      ],
      "text/markdown": [
       "1. 17777950\n",
       "2. 78\n",
       "\n",
       "\n"
      ],
      "text/plain": [
       "[1] 17777950       78"
      ]
     },
     "metadata": {},
     "output_type": "display_data"
    }
   ],
   "source": [
    "pvar_af_hwe_df %>% dim()"
   ]
  },
  {
   "cell_type": "code",
   "execution_count": 55,
   "metadata": {},
   "outputs": [],
   "source": [
    "pvar_af_hwe_df %>%\n",
    "rename('#CHROM' = 'CHROM') %>%\n",
    "fwrite(out_f, sep='\\t', na = \"NA\", quote=F)\n"
   ]
  },
  {
   "cell_type": "code",
   "execution_count": 52,
   "metadata": {},
   "outputs": [
    {
     "data": {
      "text/html": [
       "'/oak/stanford/groups/mrivas/ukbb24983/exome/annotation/20201025_exome_oqfe_2020/ukb24983_exomeOQFE.afreq_hwe.20201025.pvar'"
      ],
      "text/latex": [
       "'/oak/stanford/groups/mrivas/ukbb24983/exome/annotation/20201025\\_exome\\_oqfe\\_2020/ukb24983\\_exomeOQFE.afreq\\_hwe.20201025.pvar'"
      ],
      "text/markdown": [
       "'/oak/stanford/groups/mrivas/ukbb24983/exome/annotation/20201025_exome_oqfe_2020/ukb24983_exomeOQFE.afreq_hwe.20201025.pvar'"
      ],
      "text/plain": [
       "[1] \"/oak/stanford/groups/mrivas/ukbb24983/exome/annotation/20201025_exome_oqfe_2020/ukb24983_exomeOQFE.afreq_hwe.20201025.pvar\""
      ]
     },
     "metadata": {},
     "output_type": "display_data"
    }
   ],
   "source": [
    "out_f"
   ]
  },
  {
   "cell_type": "code",
   "execution_count": 53,
   "metadata": {},
   "outputs": [
    {
     "data": {
      "text/html": [
       "<style>\n",
       ".list-inline {list-style: none; margin:0; padding: 0}\n",
       ".list-inline>li {display: inline-block}\n",
       ".list-inline>li:not(:last-child)::after {content: \"\\00b7\"; padding: 0 .5ex}\n",
       "</style>\n",
       "<ol class=list-inline><li>'CHROM'</li><li>'POS'</li><li>'ID'</li><li>'REF'</li><li>'ALT'</li><li>'UKB_AF'</li><li>'UKB_white_british_AF'</li><li>'UKB_non_british_white_AF'</li><li>'UKB_african_AF'</li><li>'UKB_s_asian_AF'</li><li>'UKB_e_asian_AF'</li><li>'UKB_related_AF'</li><li>'UKB_others_AF'</li><li>'UKB_hwe_p'</li><li>'UKB_white_british_hwe_p'</li><li>'UKB_non_british_white_hwe_p'</li><li>'UKB_african_hwe_p'</li><li>'UKB_s_asian_hwe_p'</li><li>'UKB_e_asian_hwe_p'</li><li>'UKB_related_hwe_p'</li><li>'UKB_others_hwe_p'</li><li>'UKB_OBS_CT'</li><li>'UKB_white_british_OBS_CT'</li><li>'UKB_non_british_white_OBS_CT'</li><li>'UKB_african_OBS_CT'</li><li>'UKB_s_asian_OBS_CT'</li><li>'UKB_e_asian_OBS_CT'</li><li>'UKB_related_OBS_CT'</li><li>'UKB_others_OBS_CT'</li><li>'UKB_MISSING_CT'</li><li>'UKB_white_british_MISSING_CT'</li><li>'UKB_non_british_white_MISSING_CT'</li><li>'UKB_african_MISSING_CT'</li><li>'UKB_s_asian_MISSING_CT'</li><li>'UKB_e_asian_MISSING_CT'</li><li>'UKB_related_MISSING_CT'</li><li>'UKB_others_MISSING_CT'</li><li>'UKB_HOM_REF_CT'</li><li>'UKB_white_british_HOM_REF_CT'</li><li>'UKB_non_british_white_HOM_REF_CT'</li><li>'UKB_african_HOM_REF_CT'</li><li>'UKB_s_asian_HOM_REF_CT'</li><li>'UKB_e_asian_HOM_REF_CT'</li><li>'UKB_related_HOM_REF_CT'</li><li>'UKB_others_HOM_REF_CT'</li><li>'UKB_HET_REF_ALT_CTS'</li><li>'UKB_white_british_HET_REF_ALT_CTS'</li><li>'UKB_non_british_white_HET_REF_ALT_CTS'</li><li>'UKB_african_HET_REF_ALT_CTS'</li><li>'UKB_s_asian_HET_REF_ALT_CTS'</li><li>'UKB_e_asian_HET_REF_ALT_CTS'</li><li>'UKB_related_HET_REF_ALT_CTS'</li><li>'UKB_others_HET_REF_ALT_CTS'</li><li>'UKB_TWO_ALT_GENO_CTS'</li><li>'UKB_white_british_TWO_ALT_GENO_CTS'</li><li>'UKB_non_british_white_TWO_ALT_GENO_CTS'</li><li>'UKB_african_TWO_ALT_GENO_CTS'</li><li>'UKB_s_asian_TWO_ALT_GENO_CTS'</li><li>'UKB_e_asian_TWO_ALT_GENO_CTS'</li><li>'UKB_related_TWO_ALT_GENO_CTS'</li><li>'UKB_others_TWO_ALT_GENO_CTS'</li><li>'UKB_HAP_REF_CT'</li><li>'UKB_white_british_HAP_REF_CT'</li><li>'UKB_non_british_white_HAP_REF_CT'</li><li>'UKB_african_HAP_REF_CT'</li><li>'UKB_s_asian_HAP_REF_CT'</li><li>'UKB_e_asian_HAP_REF_CT'</li><li>'UKB_related_HAP_REF_CT'</li><li>'UKB_others_HAP_REF_CT'</li><li>'UKB_HAP_ALT_CTS'</li><li>'UKB_white_british_HAP_ALT_CTS'</li><li>'UKB_non_british_white_HAP_ALT_CTS'</li><li>'UKB_african_HAP_ALT_CTS'</li><li>'UKB_s_asian_HAP_ALT_CTS'</li><li>'UKB_e_asian_HAP_ALT_CTS'</li><li>'UKB_related_HAP_ALT_CTS'</li><li>'UKB_others_HAP_ALT_CTS'</li><li>'f_miss'</li></ol>\n"
      ],
      "text/latex": [
       "\\begin{enumerate*}\n",
       "\\item 'CHROM'\n",
       "\\item 'POS'\n",
       "\\item 'ID'\n",
       "\\item 'REF'\n",
       "\\item 'ALT'\n",
       "\\item 'UKB\\_AF'\n",
       "\\item 'UKB\\_white\\_british\\_AF'\n",
       "\\item 'UKB\\_non\\_british\\_white\\_AF'\n",
       "\\item 'UKB\\_african\\_AF'\n",
       "\\item 'UKB\\_s\\_asian\\_AF'\n",
       "\\item 'UKB\\_e\\_asian\\_AF'\n",
       "\\item 'UKB\\_related\\_AF'\n",
       "\\item 'UKB\\_others\\_AF'\n",
       "\\item 'UKB\\_hwe\\_p'\n",
       "\\item 'UKB\\_white\\_british\\_hwe\\_p'\n",
       "\\item 'UKB\\_non\\_british\\_white\\_hwe\\_p'\n",
       "\\item 'UKB\\_african\\_hwe\\_p'\n",
       "\\item 'UKB\\_s\\_asian\\_hwe\\_p'\n",
       "\\item 'UKB\\_e\\_asian\\_hwe\\_p'\n",
       "\\item 'UKB\\_related\\_hwe\\_p'\n",
       "\\item 'UKB\\_others\\_hwe\\_p'\n",
       "\\item 'UKB\\_OBS\\_CT'\n",
       "\\item 'UKB\\_white\\_british\\_OBS\\_CT'\n",
       "\\item 'UKB\\_non\\_british\\_white\\_OBS\\_CT'\n",
       "\\item 'UKB\\_african\\_OBS\\_CT'\n",
       "\\item 'UKB\\_s\\_asian\\_OBS\\_CT'\n",
       "\\item 'UKB\\_e\\_asian\\_OBS\\_CT'\n",
       "\\item 'UKB\\_related\\_OBS\\_CT'\n",
       "\\item 'UKB\\_others\\_OBS\\_CT'\n",
       "\\item 'UKB\\_MISSING\\_CT'\n",
       "\\item 'UKB\\_white\\_british\\_MISSING\\_CT'\n",
       "\\item 'UKB\\_non\\_british\\_white\\_MISSING\\_CT'\n",
       "\\item 'UKB\\_african\\_MISSING\\_CT'\n",
       "\\item 'UKB\\_s\\_asian\\_MISSING\\_CT'\n",
       "\\item 'UKB\\_e\\_asian\\_MISSING\\_CT'\n",
       "\\item 'UKB\\_related\\_MISSING\\_CT'\n",
       "\\item 'UKB\\_others\\_MISSING\\_CT'\n",
       "\\item 'UKB\\_HOM\\_REF\\_CT'\n",
       "\\item 'UKB\\_white\\_british\\_HOM\\_REF\\_CT'\n",
       "\\item 'UKB\\_non\\_british\\_white\\_HOM\\_REF\\_CT'\n",
       "\\item 'UKB\\_african\\_HOM\\_REF\\_CT'\n",
       "\\item 'UKB\\_s\\_asian\\_HOM\\_REF\\_CT'\n",
       "\\item 'UKB\\_e\\_asian\\_HOM\\_REF\\_CT'\n",
       "\\item 'UKB\\_related\\_HOM\\_REF\\_CT'\n",
       "\\item 'UKB\\_others\\_HOM\\_REF\\_CT'\n",
       "\\item 'UKB\\_HET\\_REF\\_ALT\\_CTS'\n",
       "\\item 'UKB\\_white\\_british\\_HET\\_REF\\_ALT\\_CTS'\n",
       "\\item 'UKB\\_non\\_british\\_white\\_HET\\_REF\\_ALT\\_CTS'\n",
       "\\item 'UKB\\_african\\_HET\\_REF\\_ALT\\_CTS'\n",
       "\\item 'UKB\\_s\\_asian\\_HET\\_REF\\_ALT\\_CTS'\n",
       "\\item 'UKB\\_e\\_asian\\_HET\\_REF\\_ALT\\_CTS'\n",
       "\\item 'UKB\\_related\\_HET\\_REF\\_ALT\\_CTS'\n",
       "\\item 'UKB\\_others\\_HET\\_REF\\_ALT\\_CTS'\n",
       "\\item 'UKB\\_TWO\\_ALT\\_GENO\\_CTS'\n",
       "\\item 'UKB\\_white\\_british\\_TWO\\_ALT\\_GENO\\_CTS'\n",
       "\\item 'UKB\\_non\\_british\\_white\\_TWO\\_ALT\\_GENO\\_CTS'\n",
       "\\item 'UKB\\_african\\_TWO\\_ALT\\_GENO\\_CTS'\n",
       "\\item 'UKB\\_s\\_asian\\_TWO\\_ALT\\_GENO\\_CTS'\n",
       "\\item 'UKB\\_e\\_asian\\_TWO\\_ALT\\_GENO\\_CTS'\n",
       "\\item 'UKB\\_related\\_TWO\\_ALT\\_GENO\\_CTS'\n",
       "\\item 'UKB\\_others\\_TWO\\_ALT\\_GENO\\_CTS'\n",
       "\\item 'UKB\\_HAP\\_REF\\_CT'\n",
       "\\item 'UKB\\_white\\_british\\_HAP\\_REF\\_CT'\n",
       "\\item 'UKB\\_non\\_british\\_white\\_HAP\\_REF\\_CT'\n",
       "\\item 'UKB\\_african\\_HAP\\_REF\\_CT'\n",
       "\\item 'UKB\\_s\\_asian\\_HAP\\_REF\\_CT'\n",
       "\\item 'UKB\\_e\\_asian\\_HAP\\_REF\\_CT'\n",
       "\\item 'UKB\\_related\\_HAP\\_REF\\_CT'\n",
       "\\item 'UKB\\_others\\_HAP\\_REF\\_CT'\n",
       "\\item 'UKB\\_HAP\\_ALT\\_CTS'\n",
       "\\item 'UKB\\_white\\_british\\_HAP\\_ALT\\_CTS'\n",
       "\\item 'UKB\\_non\\_british\\_white\\_HAP\\_ALT\\_CTS'\n",
       "\\item 'UKB\\_african\\_HAP\\_ALT\\_CTS'\n",
       "\\item 'UKB\\_s\\_asian\\_HAP\\_ALT\\_CTS'\n",
       "\\item 'UKB\\_e\\_asian\\_HAP\\_ALT\\_CTS'\n",
       "\\item 'UKB\\_related\\_HAP\\_ALT\\_CTS'\n",
       "\\item 'UKB\\_others\\_HAP\\_ALT\\_CTS'\n",
       "\\item 'f\\_miss'\n",
       "\\end{enumerate*}\n"
      ],
      "text/markdown": [
       "1. 'CHROM'\n",
       "2. 'POS'\n",
       "3. 'ID'\n",
       "4. 'REF'\n",
       "5. 'ALT'\n",
       "6. 'UKB_AF'\n",
       "7. 'UKB_white_british_AF'\n",
       "8. 'UKB_non_british_white_AF'\n",
       "9. 'UKB_african_AF'\n",
       "10. 'UKB_s_asian_AF'\n",
       "11. 'UKB_e_asian_AF'\n",
       "12. 'UKB_related_AF'\n",
       "13. 'UKB_others_AF'\n",
       "14. 'UKB_hwe_p'\n",
       "15. 'UKB_white_british_hwe_p'\n",
       "16. 'UKB_non_british_white_hwe_p'\n",
       "17. 'UKB_african_hwe_p'\n",
       "18. 'UKB_s_asian_hwe_p'\n",
       "19. 'UKB_e_asian_hwe_p'\n",
       "20. 'UKB_related_hwe_p'\n",
       "21. 'UKB_others_hwe_p'\n",
       "22. 'UKB_OBS_CT'\n",
       "23. 'UKB_white_british_OBS_CT'\n",
       "24. 'UKB_non_british_white_OBS_CT'\n",
       "25. 'UKB_african_OBS_CT'\n",
       "26. 'UKB_s_asian_OBS_CT'\n",
       "27. 'UKB_e_asian_OBS_CT'\n",
       "28. 'UKB_related_OBS_CT'\n",
       "29. 'UKB_others_OBS_CT'\n",
       "30. 'UKB_MISSING_CT'\n",
       "31. 'UKB_white_british_MISSING_CT'\n",
       "32. 'UKB_non_british_white_MISSING_CT'\n",
       "33. 'UKB_african_MISSING_CT'\n",
       "34. 'UKB_s_asian_MISSING_CT'\n",
       "35. 'UKB_e_asian_MISSING_CT'\n",
       "36. 'UKB_related_MISSING_CT'\n",
       "37. 'UKB_others_MISSING_CT'\n",
       "38. 'UKB_HOM_REF_CT'\n",
       "39. 'UKB_white_british_HOM_REF_CT'\n",
       "40. 'UKB_non_british_white_HOM_REF_CT'\n",
       "41. 'UKB_african_HOM_REF_CT'\n",
       "42. 'UKB_s_asian_HOM_REF_CT'\n",
       "43. 'UKB_e_asian_HOM_REF_CT'\n",
       "44. 'UKB_related_HOM_REF_CT'\n",
       "45. 'UKB_others_HOM_REF_CT'\n",
       "46. 'UKB_HET_REF_ALT_CTS'\n",
       "47. 'UKB_white_british_HET_REF_ALT_CTS'\n",
       "48. 'UKB_non_british_white_HET_REF_ALT_CTS'\n",
       "49. 'UKB_african_HET_REF_ALT_CTS'\n",
       "50. 'UKB_s_asian_HET_REF_ALT_CTS'\n",
       "51. 'UKB_e_asian_HET_REF_ALT_CTS'\n",
       "52. 'UKB_related_HET_REF_ALT_CTS'\n",
       "53. 'UKB_others_HET_REF_ALT_CTS'\n",
       "54. 'UKB_TWO_ALT_GENO_CTS'\n",
       "55. 'UKB_white_british_TWO_ALT_GENO_CTS'\n",
       "56. 'UKB_non_british_white_TWO_ALT_GENO_CTS'\n",
       "57. 'UKB_african_TWO_ALT_GENO_CTS'\n",
       "58. 'UKB_s_asian_TWO_ALT_GENO_CTS'\n",
       "59. 'UKB_e_asian_TWO_ALT_GENO_CTS'\n",
       "60. 'UKB_related_TWO_ALT_GENO_CTS'\n",
       "61. 'UKB_others_TWO_ALT_GENO_CTS'\n",
       "62. 'UKB_HAP_REF_CT'\n",
       "63. 'UKB_white_british_HAP_REF_CT'\n",
       "64. 'UKB_non_british_white_HAP_REF_CT'\n",
       "65. 'UKB_african_HAP_REF_CT'\n",
       "66. 'UKB_s_asian_HAP_REF_CT'\n",
       "67. 'UKB_e_asian_HAP_REF_CT'\n",
       "68. 'UKB_related_HAP_REF_CT'\n",
       "69. 'UKB_others_HAP_REF_CT'\n",
       "70. 'UKB_HAP_ALT_CTS'\n",
       "71. 'UKB_white_british_HAP_ALT_CTS'\n",
       "72. 'UKB_non_british_white_HAP_ALT_CTS'\n",
       "73. 'UKB_african_HAP_ALT_CTS'\n",
       "74. 'UKB_s_asian_HAP_ALT_CTS'\n",
       "75. 'UKB_e_asian_HAP_ALT_CTS'\n",
       "76. 'UKB_related_HAP_ALT_CTS'\n",
       "77. 'UKB_others_HAP_ALT_CTS'\n",
       "78. 'f_miss'\n",
       "\n",
       "\n"
      ],
      "text/plain": [
       " [1] \"CHROM\"                                 \n",
       " [2] \"POS\"                                   \n",
       " [3] \"ID\"                                    \n",
       " [4] \"REF\"                                   \n",
       " [5] \"ALT\"                                   \n",
       " [6] \"UKB_AF\"                                \n",
       " [7] \"UKB_white_british_AF\"                  \n",
       " [8] \"UKB_non_british_white_AF\"              \n",
       " [9] \"UKB_african_AF\"                        \n",
       "[10] \"UKB_s_asian_AF\"                        \n",
       "[11] \"UKB_e_asian_AF\"                        \n",
       "[12] \"UKB_related_AF\"                        \n",
       "[13] \"UKB_others_AF\"                         \n",
       "[14] \"UKB_hwe_p\"                             \n",
       "[15] \"UKB_white_british_hwe_p\"               \n",
       "[16] \"UKB_non_british_white_hwe_p\"           \n",
       "[17] \"UKB_african_hwe_p\"                     \n",
       "[18] \"UKB_s_asian_hwe_p\"                     \n",
       "[19] \"UKB_e_asian_hwe_p\"                     \n",
       "[20] \"UKB_related_hwe_p\"                     \n",
       "[21] \"UKB_others_hwe_p\"                      \n",
       "[22] \"UKB_OBS_CT\"                            \n",
       "[23] \"UKB_white_british_OBS_CT\"              \n",
       "[24] \"UKB_non_british_white_OBS_CT\"          \n",
       "[25] \"UKB_african_OBS_CT\"                    \n",
       "[26] \"UKB_s_asian_OBS_CT\"                    \n",
       "[27] \"UKB_e_asian_OBS_CT\"                    \n",
       "[28] \"UKB_related_OBS_CT\"                    \n",
       "[29] \"UKB_others_OBS_CT\"                     \n",
       "[30] \"UKB_MISSING_CT\"                        \n",
       "[31] \"UKB_white_british_MISSING_CT\"          \n",
       "[32] \"UKB_non_british_white_MISSING_CT\"      \n",
       "[33] \"UKB_african_MISSING_CT\"                \n",
       "[34] \"UKB_s_asian_MISSING_CT\"                \n",
       "[35] \"UKB_e_asian_MISSING_CT\"                \n",
       "[36] \"UKB_related_MISSING_CT\"                \n",
       "[37] \"UKB_others_MISSING_CT\"                 \n",
       "[38] \"UKB_HOM_REF_CT\"                        \n",
       "[39] \"UKB_white_british_HOM_REF_CT\"          \n",
       "[40] \"UKB_non_british_white_HOM_REF_CT\"      \n",
       "[41] \"UKB_african_HOM_REF_CT\"                \n",
       "[42] \"UKB_s_asian_HOM_REF_CT\"                \n",
       "[43] \"UKB_e_asian_HOM_REF_CT\"                \n",
       "[44] \"UKB_related_HOM_REF_CT\"                \n",
       "[45] \"UKB_others_HOM_REF_CT\"                 \n",
       "[46] \"UKB_HET_REF_ALT_CTS\"                   \n",
       "[47] \"UKB_white_british_HET_REF_ALT_CTS\"     \n",
       "[48] \"UKB_non_british_white_HET_REF_ALT_CTS\" \n",
       "[49] \"UKB_african_HET_REF_ALT_CTS\"           \n",
       "[50] \"UKB_s_asian_HET_REF_ALT_CTS\"           \n",
       "[51] \"UKB_e_asian_HET_REF_ALT_CTS\"           \n",
       "[52] \"UKB_related_HET_REF_ALT_CTS\"           \n",
       "[53] \"UKB_others_HET_REF_ALT_CTS\"            \n",
       "[54] \"UKB_TWO_ALT_GENO_CTS\"                  \n",
       "[55] \"UKB_white_british_TWO_ALT_GENO_CTS\"    \n",
       "[56] \"UKB_non_british_white_TWO_ALT_GENO_CTS\"\n",
       "[57] \"UKB_african_TWO_ALT_GENO_CTS\"          \n",
       "[58] \"UKB_s_asian_TWO_ALT_GENO_CTS\"          \n",
       "[59] \"UKB_e_asian_TWO_ALT_GENO_CTS\"          \n",
       "[60] \"UKB_related_TWO_ALT_GENO_CTS\"          \n",
       "[61] \"UKB_others_TWO_ALT_GENO_CTS\"           \n",
       "[62] \"UKB_HAP_REF_CT\"                        \n",
       "[63] \"UKB_white_british_HAP_REF_CT\"          \n",
       "[64] \"UKB_non_british_white_HAP_REF_CT\"      \n",
       "[65] \"UKB_african_HAP_REF_CT\"                \n",
       "[66] \"UKB_s_asian_HAP_REF_CT\"                \n",
       "[67] \"UKB_e_asian_HAP_REF_CT\"                \n",
       "[68] \"UKB_related_HAP_REF_CT\"                \n",
       "[69] \"UKB_others_HAP_REF_CT\"                 \n",
       "[70] \"UKB_HAP_ALT_CTS\"                       \n",
       "[71] \"UKB_white_british_HAP_ALT_CTS\"         \n",
       "[72] \"UKB_non_british_white_HAP_ALT_CTS\"     \n",
       "[73] \"UKB_african_HAP_ALT_CTS\"               \n",
       "[74] \"UKB_s_asian_HAP_ALT_CTS\"               \n",
       "[75] \"UKB_e_asian_HAP_ALT_CTS\"               \n",
       "[76] \"UKB_related_HAP_ALT_CTS\"               \n",
       "[77] \"UKB_others_HAP_ALT_CTS\"                \n",
       "[78] \"f_miss\"                                "
      ]
     },
     "metadata": {},
     "output_type": "display_data"
    }
   ],
   "source": [
    "pvar_af_hwe_df %>% colnames()"
   ]
  },
  {
   "cell_type": "code",
   "execution_count": 54,
   "metadata": {},
   "outputs": [
    {
     "data": {
      "text/html": [
       "'/oak/stanford/groups/mrivas/ukbb24983/exome/annotation/20201025_exome_oqfe_2020/ukb24983_exomeOQFE.afreq_hwe.20201025.compact.pvar'"
      ],
      "text/latex": [
       "'/oak/stanford/groups/mrivas/ukbb24983/exome/annotation/20201025\\_exome\\_oqfe\\_2020/ukb24983\\_exomeOQFE.afreq\\_hwe.20201025.compact.pvar'"
      ],
      "text/markdown": [
       "'/oak/stanford/groups/mrivas/ukbb24983/exome/annotation/20201025_exome_oqfe_2020/ukb24983_exomeOQFE.afreq_hwe.20201025.compact.pvar'"
      ],
      "text/plain": [
       "[1] \"/oak/stanford/groups/mrivas/ukbb24983/exome/annotation/20201025_exome_oqfe_2020/ukb24983_exomeOQFE.afreq_hwe.20201025.compact.pvar\""
      ]
     },
     "metadata": {},
     "output_type": "display_data"
    }
   ],
   "source": [
    "str_replace(out_f, '.pvar$', '.compact.pvar')"
   ]
  },
  {
   "cell_type": "code",
   "execution_count": 57,
   "metadata": {},
   "outputs": [],
   "source": [
    "pvar_af_hwe_df %>%\n",
    "select(CHROM, POS, ID, REF, ALT, f_miss, UKB_white_british_hwe_p, UKB_white_british_AF, UKB_AF) %>%\n",
    "rename('#CHROM' = 'CHROM') %>%\n",
    "fwrite(str_replace(out_f, '.pvar$', '.compact.pvar'), sep='\\t', na = \"NA\", quote=F)\n"
   ]
  },
  {
   "cell_type": "code",
   "execution_count": null,
   "metadata": {},
   "outputs": [],
   "source": [
    "pvar_af_hwe_df %>% select(ID, UKB_white_british_hwe_p) %>% \n",
    "rename('MIDP' = 'UKB_white_british_hwe_p') %>% plot_cumsum() + \n",
    "labs(title='Exome 200k HWE p-value (white British)') -> p\n"
   ]
  },
  {
   "cell_type": "code",
   "execution_count": 71,
   "metadata": {},
   "outputs": [],
   "source": [
    "plot_cumsum <- function(df){\n",
    "    df %>% ggplot(aes(x = VALUE)) + \n",
    "    stat_bin(aes(y=cumsum(..count..)/nrow(df)),geom=\"line\",color=\"black\", bins=100) +\n",
    "    labs(\n",
    "        y = 'cumsum(n) / n '\n",
    "    ) + theme_bw() + theme(\n",
    "        legend.title = element_text(size=16),\n",
    "        legend.text  = element_text(size=16),\n",
    "        axis.text=element_text(size=16), \n",
    "        axis.title=element_text(size=16)\n",
    "    ) +\n",
    "    geom_hline(yintercept = 1, color='gray')\n",
    "}\n"
   ]
  },
  {
   "cell_type": "code",
   "execution_count": 77,
   "metadata": {},
   "outputs": [],
   "source": [
    "pvar_af_hwe_df %>% select(ID, UKB_white_british_hwe_p) %>% \n",
    "mutate(VALUE=-log10(UKB_white_british_hwe_p + .Machine$double.xmin)) %>%\n",
    "plot_cumsum() + xlim(0, 20) + ylim(0, 1) + \n",
    "labs(x = latex2exp::TeX('HWE (midp) -log_{10}(P)'), title='Exome 200k HWE p-value (white British)') +\n",
    "geom_vline(xintercept = 7, color='red') -> p_hwe\n"
   ]
  },
  {
   "cell_type": "code",
   "execution_count": 78,
   "metadata": {},
   "outputs": [],
   "source": [
    "suppressWarnings(suppressPackageStartupMessages({\n",
    "for(ext in c('png', 'pdf')){\n",
    "    ggsave(\n",
    "        sprintf('6_hwe_midp_plot.%s', ext),\n",
    "        p_hwe, width=6,height=6\n",
    "    )    \n",
    "}\n",
    "}))\n"
   ]
  },
  {
   "cell_type": "code",
   "execution_count": 75,
   "metadata": {},
   "outputs": [],
   "source": [
    "pvar_af_hwe_df %>% select(ID, f_miss) %>% \n",
    "mutate(VALUE=-log10(f_miss + .Machine$double.xmin)) %>%\n",
    "plot_cumsum() + xlim(0, 6) + ylim(0, 1) + \n",
    "labs(x = latex2exp::TeX('-log_{10}(Missigness)'), title='Exome 200k missigness (per variant)') +\n",
    "geom_vline(xintercept = 3, color='red') -> p_miss\n"
   ]
  },
  {
   "cell_type": "code",
   "execution_count": 76,
   "metadata": {},
   "outputs": [],
   "source": [
    "suppressWarnings(suppressPackageStartupMessages({\n",
    "for(ext in c('png', 'pdf')){\n",
    "    ggsave(\n",
    "        sprintf('6_miss_plot.%s', ext),\n",
    "        p_miss, width=6,height=6\n",
    "    )    \n",
    "}\n",
    "}))\n"
   ]
  },
  {
   "cell_type": "code",
   "execution_count": 85,
   "metadata": {},
   "outputs": [],
   "source": [
    "pvar_af_hwe_df %>% select(ID, UKB_white_british_AF) %>% \n",
    "mutate(VALUE=-log10(pmin(1-UKB_white_british_AF, UKB_white_british_AF) + .Machine$double.xmin)) %>%\n",
    "plot_cumsum() + xlim(0, 6) + ylim(0, 1) + \n",
    "labs(x = latex2exp::TeX('-log_{10}(minor allele frequency)'), title='Exome 200k minor allele frequency in white British subset') +\n",
    "geom_vline(xintercept = -log10(1/(2*137920)), color='red') -> p_maf_wb\n"
   ]
  },
  {
   "cell_type": "code",
   "execution_count": 87,
   "metadata": {},
   "outputs": [],
   "source": [
    "suppressWarnings(suppressPackageStartupMessages({\n",
    "for(ext in c('png', 'pdf')){\n",
    "    ggsave(\n",
    "        sprintf('6_maf_wb_plot.%s', ext),\n",
    "        p_maf_wb, width=6,height=6\n",
    "    )    \n",
    "}\n",
    "}))\n"
   ]
  },
  {
   "cell_type": "code",
   "execution_count": 86,
   "metadata": {},
   "outputs": [
    {
     "data": {
      "text/html": [
       "5.44065724414462"
      ],
      "text/latex": [
       "5.44065724414462"
      ],
      "text/markdown": [
       "5.44065724414462"
      ],
      "text/plain": [
       "[1] 5.440657"
      ]
     },
     "metadata": {},
     "output_type": "display_data"
    }
   ],
   "source": [
    "-log10(1/(2*137920))"
   ]
  },
  {
   "cell_type": "code",
   "execution_count": null,
   "metadata": {},
   "outputs": [],
   "source": []
  }
 ],
 "metadata": {
  "kernelspec": {
   "display_name": "R",
   "language": "R",
   "name": "ir"
  },
  "language_info": {
   "codemirror_mode": "r",
   "file_extension": ".r",
   "mimetype": "text/x-r-source",
   "name": "R",
   "pygments_lexer": "r",
   "version": "3.6.2"
  }
 },
 "nbformat": 4,
 "nbformat_minor": 4
}
