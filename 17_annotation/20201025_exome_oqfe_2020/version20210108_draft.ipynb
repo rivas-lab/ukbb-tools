{
 "cells": [
  {
   "cell_type": "code",
   "execution_count": 1,
   "metadata": {},
   "outputs": [],
   "source": [
    "suppressWarnings(suppressPackageStartupMessages({\n",
    "    library(tidyverse)\n",
    "    library(data.table)\n",
    "}))\n"
   ]
  },
  {
   "cell_type": "code",
   "execution_count": 3,
   "metadata": {},
   "outputs": [],
   "source": [
    "annot_f <- '/oak/stanford/groups/mrivas/ukbb24983/exome/annotation/20201025_exome_oqfe_2020/ukb24983_exomeOQFE.annotation.20201217.compact.tsv.gz'\n",
    "dup_f   <- '/oak/stanford/groups/mrivas/ukbb24983/exome/qc/oqfe_2020/intermediate_files/ukb24983_exomeOQFE.duplicates.tsv.gz'\n"
   ]
  },
  {
   "cell_type": "code",
   "execution_count": 4,
   "metadata": {},
   "outputs": [],
   "source": [
    "dup_f %>% fread(colClasses = c('#CHROM'='character')) %>%\n",
    "rename('CHROM'='#CHROM') -> dup_df\n"
   ]
  },
  {
   "cell_type": "code",
   "execution_count": 5,
   "metadata": {},
   "outputs": [],
   "source": [
    "annot_f %>%\n",
    "fread(\n",
    "    colClasses = c('#CHROM'='character'),\n",
    "    select=c('#CHROM', 'POS', 'ID', 'REF', 'ALT', 'FILTER', 'f_miss', 'UKB_white_british_hwe_p')\n",
    ") %>% rename('CHROM'='#CHROM') %>%\n",
    "mutate(\n",
    "    QC_duplicated = ! (ID %in% (dup_df$ID)),\n",
    "    QC_sample_miss = (f_miss < .1),\n",
    "    QC_WB_HWE_p = (log10(UKB_white_british_hwe_p)>-15)\n",
    ") -> annot_df\n"
   ]
  },
  {
   "cell_type": "code",
   "execution_count": 8,
   "metadata": {},
   "outputs": [
    {
     "data": {
      "text/html": [
       "<table>\n",
       "<caption>A data.table: 1 × 2</caption>\n",
       "<thead>\n",
       "\t<tr><th scope=col>FILTER</th><th scope=col>n</th></tr>\n",
       "\t<tr><th scope=col>&lt;chr&gt;</th><th scope=col>&lt;int&gt;</th></tr>\n",
       "</thead>\n",
       "<tbody>\n",
       "\t<tr><td>.</td><td>17777950</td></tr>\n",
       "</tbody>\n",
       "</table>\n"
      ],
      "text/latex": [
       "A data.table: 1 × 2\n",
       "\\begin{tabular}{ll}\n",
       " FILTER & n\\\\\n",
       " <chr> & <int>\\\\\n",
       "\\hline\n",
       "\t . & 17777950\\\\\n",
       "\\end{tabular}\n"
      ],
      "text/markdown": [
       "\n",
       "A data.table: 1 × 2\n",
       "\n",
       "| FILTER &lt;chr&gt; | n &lt;int&gt; |\n",
       "|---|---|\n",
       "| . | 17777950 |\n",
       "\n"
      ],
      "text/plain": [
       "  FILTER n       \n",
       "1 .      17777950"
      ]
     },
     "metadata": {},
     "output_type": "display_data"
    }
   ],
   "source": [
    "annot_df %>%\n",
    "count(FILTER)"
   ]
  },
  {
   "cell_type": "code",
   "execution_count": 13,
   "metadata": {},
   "outputs": [
    {
     "data": {
      "text/html": [
       "<table>\n",
       "<caption>A data.table: 8 × 2</caption>\n",
       "<thead>\n",
       "\t<tr><th scope=col>FILTER</th><th scope=col>n</th></tr>\n",
       "\t<tr><th scope=col>&lt;chr&gt;</th><th scope=col>&lt;int&gt;</th></tr>\n",
       "</thead>\n",
       "<tbody>\n",
       "\t<tr><td>.                              </td><td>17582030</td></tr>\n",
       "\t<tr><td>duplicated                     </td><td>      91</td></tr>\n",
       "\t<tr><td>duplicated;sample_miss         </td><td>     146</td></tr>\n",
       "\t<tr><td>duplicated;sample_miss;WB_HWE_p</td><td>      76</td></tr>\n",
       "\t<tr><td>duplicated;WB_HWE_p            </td><td>      13</td></tr>\n",
       "\t<tr><td>sample_miss                    </td><td>  150824</td></tr>\n",
       "\t<tr><td>sample_miss;WB_HWE_p           </td><td>   20165</td></tr>\n",
       "\t<tr><td>WB_HWE_p                       </td><td>   24605</td></tr>\n",
       "</tbody>\n",
       "</table>\n"
      ],
      "text/latex": [
       "A data.table: 8 × 2\n",
       "\\begin{tabular}{ll}\n",
       " FILTER & n\\\\\n",
       " <chr> & <int>\\\\\n",
       "\\hline\n",
       "\t .                               & 17582030\\\\\n",
       "\t duplicated                      &       91\\\\\n",
       "\t duplicated;sample\\_miss          &      146\\\\\n",
       "\t duplicated;sample\\_miss;WB\\_HWE\\_p &       76\\\\\n",
       "\t duplicated;WB\\_HWE\\_p             &       13\\\\\n",
       "\t sample\\_miss                     &   150824\\\\\n",
       "\t sample\\_miss;WB\\_HWE\\_p            &    20165\\\\\n",
       "\t WB\\_HWE\\_p                        &    24605\\\\\n",
       "\\end{tabular}\n"
      ],
      "text/markdown": [
       "\n",
       "A data.table: 8 × 2\n",
       "\n",
       "| FILTER &lt;chr&gt; | n &lt;int&gt; |\n",
       "|---|---|\n",
       "| .                               | 17582030 |\n",
       "| duplicated                      |       91 |\n",
       "| duplicated;sample_miss          |      146 |\n",
       "| duplicated;sample_miss;WB_HWE_p |       76 |\n",
       "| duplicated;WB_HWE_p             |       13 |\n",
       "| sample_miss                     |   150824 |\n",
       "| sample_miss;WB_HWE_p            |    20165 |\n",
       "| WB_HWE_p                        |    24605 |\n",
       "\n"
      ],
      "text/plain": [
       "  FILTER                          n       \n",
       "1 .                               17582030\n",
       "2 duplicated                            91\n",
       "3 duplicated;sample_miss               146\n",
       "4 duplicated;sample_miss;WB_HWE_p       76\n",
       "5 duplicated;WB_HWE_p                   13\n",
       "6 sample_miss                       150824\n",
       "7 sample_miss;WB_HWE_p               20165\n",
       "8 WB_HWE_p                           24605"
      ]
     },
     "metadata": {},
     "output_type": "display_data"
    }
   ],
   "source": [
    "annot_df %>%\n",
    "mutate(FILTER = paste0(\n",
    "    FILTER,\n",
    "    if_else(QC_duplicated  & (!is.na(QC_duplicated)),  '', ';duplicated'),\n",
    "    if_else(QC_sample_miss & (!is.na(QC_sample_miss)), '', ';sample_miss'),\n",
    "    if_else(QC_WB_HWE_p    & (!is.na(QC_WB_HWE_p)),    '', ';WB_HWE_p')\n",
    ")) %>%\n",
    "mutate(FILTER = str_replace(FILTER, '^.;', '')) %>%\n",
    "count(FILTER)\n"
   ]
  },
  {
   "cell_type": "markdown",
   "metadata": {},
   "source": [
    "This number (17,582,030 variants) matches with what we have in : `/oak/stanford/groups/mrivas/ukbb24983/exome/qc/oqfe_2020/ukb24983_exomeOQFE.passQC.20201222.tsv.gz`\n",
    "\n"
   ]
  },
  {
   "cell_type": "code",
   "execution_count": null,
   "metadata": {},
   "outputs": [],
   "source": []
  }
 ],
 "metadata": {
  "kernelspec": {
   "display_name": "R",
   "language": "R",
   "name": "ir"
  },
  "language_info": {
   "codemirror_mode": "r",
   "file_extension": ".r",
   "mimetype": "text/x-r-source",
   "name": "R",
   "pygments_lexer": "r",
   "version": "3.6.2"
  }
 },
 "nbformat": 4,
 "nbformat_minor": 4
}
