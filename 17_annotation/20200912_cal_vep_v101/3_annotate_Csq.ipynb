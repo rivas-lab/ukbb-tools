{
 "cells": [
  {
   "cell_type": "code",
   "execution_count": 1,
   "metadata": {},
   "outputs": [],
   "source": [
    "suppressWarnings(suppressPackageStartupMessages({\n",
    "    library(tidyverse)\n",
    "    library(data.table)\n",
    "}))\n"
   ]
  },
  {
   "cell_type": "code",
   "execution_count": 36,
   "metadata": {},
   "outputs": [],
   "source": [
    "data_d <- '/oak/stanford/groups/mrivas/ukbb24983/cal/annotation_20200912'\n",
    "in_f <- 'ukb24983_cal_cALL_v2_hg19.vep101.noLoF.tsv.gz'\n",
    "out_f <- 'ukb24983_cal_cALL_v2_hg19.vep101.noLoF.Csq.tsv'\n"
   ]
  },
  {
   "cell_type": "code",
   "execution_count": 26,
   "metadata": {},
   "outputs": [],
   "source": [
    "pvar_f <- file.path(dirname(data_d), 'pgen', 'ukb24983_cal_cALL_v2_hg19.pvar')"
   ]
  },
  {
   "cell_type": "code",
   "execution_count": 2,
   "metadata": {},
   "outputs": [],
   "source": [
    "csq_rules_df <- fread('VEP_consequence_group.annotated.tsv') %>%\n",
    "rename('Consequence'='#Consequence')\n"
   ]
  },
  {
   "cell_type": "code",
   "execution_count": 8,
   "metadata": {},
   "outputs": [],
   "source": [
    "long_df <- file.path(data_d, in_f) %>%\n",
    "fread(skip=94) %>%\n",
    "rename('ID'='#Uploaded_variation')\n"
   ]
  },
  {
   "cell_type": "code",
   "execution_count": 9,
   "metadata": {},
   "outputs": [],
   "source": [
    "long_df %>%\n",
    "select(ID, Consequence) %>%\n",
    "separate(Consequence, paste0('Consequence', 1:100), sep=',', remove=T, fill='right', extra='drop') %>%\n",
    "gather(tmp, Consequence, -ID) %>%\n",
    "filter(!is.na(Consequence)) %>%\n",
    "select(-tmp) %>%\n",
    "left_join(\n",
    "    csq_rules_df %>% select(Consequence, Csq, Csq_priority),\n",
    "    by='Consequence'\n",
    ") %>%\n",
    "unique() -> long_csq_df\n"
   ]
  },
  {
   "cell_type": "code",
   "execution_count": 32,
   "metadata": {},
   "outputs": [],
   "source": [
    "fread(pvar_f, colClasses = c('#CHROM'='character')) %>%\n",
    "rename('CHROM'='#CHROM') -> pvar\n"
   ]
  },
  {
   "cell_type": "code",
   "execution_count": 33,
   "metadata": {},
   "outputs": [],
   "source": [
    "long_csq_df %>%\n",
    "group_by(ID) %>%\n",
    "arrange(Csq_priority) %>%\n",
    "summarise(\n",
    "    Csq = first(Csq), \n",
    "    Consequences = paste(Consequence, collapse=\",\"), \n",
    "    .groups='drop_last'\n",
    ") -> ID_Csq_map_df\n"
   ]
  },
  {
   "cell_type": "code",
   "execution_count": 39,
   "metadata": {},
   "outputs": [],
   "source": [
    "pvar %>%\n",
    "left_join(ID_Csq_map_df, by='ID') -> pvar_Csq"
   ]
  },
  {
   "cell_type": "code",
   "execution_count": 41,
   "metadata": {},
   "outputs": [],
   "source": [
    "pvar_Csq %>%\n",
    "rename('#CHROM' = 'CHROM') %>%\n",
    "fwrite(file.path(data_d, out_f), sep='\\t', na = \"NA\", quote=F)\n"
   ]
  },
  {
   "cell_type": "code",
   "execution_count": 43,
   "metadata": {},
   "outputs": [
    {
     "data": {
      "text/html": [
       "<table>\n",
       "<caption>A data.table: 0 × 7</caption>\n",
       "<thead>\n",
       "\t<tr><th scope=col>CHROM</th><th scope=col>POS</th><th scope=col>ID</th><th scope=col>REF</th><th scope=col>ALT</th><th scope=col>Csq</th><th scope=col>Consequences</th></tr>\n",
       "\t<tr><th scope=col>&lt;chr&gt;</th><th scope=col>&lt;int&gt;</th><th scope=col>&lt;chr&gt;</th><th scope=col>&lt;chr&gt;</th><th scope=col>&lt;chr&gt;</th><th scope=col>&lt;chr&gt;</th><th scope=col>&lt;chr&gt;</th></tr>\n",
       "</thead>\n",
       "<tbody>\n",
       "</tbody>\n",
       "</table>\n"
      ],
      "text/latex": [
       "A data.table: 0 × 7\n",
       "\\begin{tabular}{lllllll}\n",
       " CHROM & POS & ID & REF & ALT & Csq & Consequences\\\\\n",
       " <chr> & <int> & <chr> & <chr> & <chr> & <chr> & <chr>\\\\\n",
       "\\hline\n",
       "\\end{tabular}\n"
      ],
      "text/markdown": [
       "\n",
       "A data.table: 0 × 7\n",
       "\n",
       "| CHROM &lt;chr&gt; | POS &lt;int&gt; | ID &lt;chr&gt; | REF &lt;chr&gt; | ALT &lt;chr&gt; | Csq &lt;chr&gt; | Consequences &lt;chr&gt; |\n",
       "|---|---|---|---|---|---|---|\n",
       "\n"
      ],
      "text/plain": [
       "     CHROM POS ID REF ALT Csq Consequences"
      ]
     },
     "metadata": {},
     "output_type": "display_data"
    }
   ],
   "source": [
    "pvar_Csq %>%\n",
    "filter(is.na(Csq))"
   ]
  },
  {
   "cell_type": "code",
   "execution_count": 44,
   "metadata": {},
   "outputs": [
    {
     "data": {
      "text/html": [
       "<table>\n",
       "<caption>A data.table: 6 × 2</caption>\n",
       "<thead>\n",
       "\t<tr><th scope=col>Csq</th><th scope=col>n</th></tr>\n",
       "\t<tr><th scope=col>&lt;chr&gt;</th><th scope=col>&lt;int&gt;</th></tr>\n",
       "</thead>\n",
       "<tbody>\n",
       "\t<tr><td>intron</td><td>358439</td></tr>\n",
       "\t<tr><td>others</td><td>310295</td></tr>\n",
       "\t<tr><td>pav   </td><td> 89161</td></tr>\n",
       "\t<tr><td>pcv   </td><td> 11282</td></tr>\n",
       "\t<tr><td>ptv   </td><td> 28321</td></tr>\n",
       "\t<tr><td>utr   </td><td>  7928</td></tr>\n",
       "</tbody>\n",
       "</table>\n"
      ],
      "text/latex": [
       "A data.table: 6 × 2\n",
       "\\begin{tabular}{ll}\n",
       " Csq & n\\\\\n",
       " <chr> & <int>\\\\\n",
       "\\hline\n",
       "\t intron & 358439\\\\\n",
       "\t others & 310295\\\\\n",
       "\t pav    &  89161\\\\\n",
       "\t pcv    &  11282\\\\\n",
       "\t ptv    &  28321\\\\\n",
       "\t utr    &   7928\\\\\n",
       "\\end{tabular}\n"
      ],
      "text/markdown": [
       "\n",
       "A data.table: 6 × 2\n",
       "\n",
       "| Csq &lt;chr&gt; | n &lt;int&gt; |\n",
       "|---|---|\n",
       "| intron | 358439 |\n",
       "| others | 310295 |\n",
       "| pav    |  89161 |\n",
       "| pcv    |  11282 |\n",
       "| ptv    |  28321 |\n",
       "| utr    |   7928 |\n",
       "\n"
      ],
      "text/plain": [
       "  Csq    n     \n",
       "1 intron 358439\n",
       "2 others 310295\n",
       "3 pav     89161\n",
       "4 pcv     11282\n",
       "5 ptv     28321\n",
       "6 utr      7928"
      ]
     },
     "metadata": {},
     "output_type": "display_data"
    }
   ],
   "source": [
    "pvar_Csq %>%\n",
    "count(Csq)"
   ]
  },
  {
   "cell_type": "code",
   "execution_count": null,
   "metadata": {},
   "outputs": [],
   "source": []
  }
 ],
 "metadata": {
  "kernelspec": {
   "display_name": "R",
   "language": "R",
   "name": "ir"
  },
  "language_info": {
   "codemirror_mode": "r",
   "file_extension": ".r",
   "mimetype": "text/x-r-source",
   "name": "R",
   "pygments_lexer": "r",
   "version": "3.6.2"
  }
 },
 "nbformat": 4,
 "nbformat_minor": 4
}
