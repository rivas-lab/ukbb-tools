{
 "cells": [
  {
   "cell_type": "code",
   "execution_count": 1,
   "metadata": {},
   "outputs": [],
   "source": [
    "suppressWarnings(suppressPackageStartupMessages({\n",
    "    library(tidyverse)\n",
    "    library(data.table)\n",
    "}))\n"
   ]
  },
  {
   "cell_type": "code",
   "execution_count": 2,
   "metadata": {},
   "outputs": [],
   "source": [
    "data_d <- '/oak/stanford/groups/mrivas/ukbb24983/cal/annotation_20200912'\n",
    "in_f <- 'ukb24983_cal_cALL_v2_hg19.vep101.noLoF.tsv.gz'\n"
   ]
  },
  {
   "cell_type": "code",
   "execution_count": 3,
   "metadata": {},
   "outputs": [],
   "source": [
    "long_df <- file.path(data_d, in_f) %>%\n",
    "fread(skip=94) %>%\n",
    "rename('ID'='#Uploaded_variation')\n"
   ]
  },
  {
   "cell_type": "code",
   "execution_count": 7,
   "metadata": {},
   "outputs": [
    {
     "data": {
      "text/html": [
       "<style>\n",
       ".list-inline {list-style: none; margin:0; padding: 0}\n",
       ".list-inline>li {display: inline-block}\n",
       ".list-inline>li:not(:last-child)::after {content: \"\\00b7\"; padding: 0 .5ex}\n",
       "</style>\n",
       "<ol class=list-inline><li>'ID'</li><li>'Location'</li><li>'Allele'</li><li>'Gene'</li><li>'Feature'</li><li>'Feature_type'</li><li>'Consequence'</li><li>'cDNA_position'</li><li>'CDS_position'</li><li>'Protein_position'</li><li>'Amino_acids'</li><li>'Codons'</li><li>'Existing_variation'</li><li>'Extra'</li></ol>\n"
      ],
      "text/latex": [
       "\\begin{enumerate*}\n",
       "\\item 'ID'\n",
       "\\item 'Location'\n",
       "\\item 'Allele'\n",
       "\\item 'Gene'\n",
       "\\item 'Feature'\n",
       "\\item 'Feature\\_type'\n",
       "\\item 'Consequence'\n",
       "\\item 'cDNA\\_position'\n",
       "\\item 'CDS\\_position'\n",
       "\\item 'Protein\\_position'\n",
       "\\item 'Amino\\_acids'\n",
       "\\item 'Codons'\n",
       "\\item 'Existing\\_variation'\n",
       "\\item 'Extra'\n",
       "\\end{enumerate*}\n"
      ],
      "text/markdown": [
       "1. 'ID'\n",
       "2. 'Location'\n",
       "3. 'Allele'\n",
       "4. 'Gene'\n",
       "5. 'Feature'\n",
       "6. 'Feature_type'\n",
       "7. 'Consequence'\n",
       "8. 'cDNA_position'\n",
       "9. 'CDS_position'\n",
       "10. 'Protein_position'\n",
       "11. 'Amino_acids'\n",
       "12. 'Codons'\n",
       "13. 'Existing_variation'\n",
       "14. 'Extra'\n",
       "\n",
       "\n"
      ],
      "text/plain": [
       " [1] \"ID\"                 \"Location\"           \"Allele\"            \n",
       " [4] \"Gene\"               \"Feature\"            \"Feature_type\"      \n",
       " [7] \"Consequence\"        \"cDNA_position\"      \"CDS_position\"      \n",
       "[10] \"Protein_position\"   \"Amino_acids\"        \"Codons\"            \n",
       "[13] \"Existing_variation\" \"Extra\"             "
      ]
     },
     "metadata": {},
     "output_type": "display_data"
    }
   ],
   "source": [
    "long_df %>%\n",
    "colnames()\n"
   ]
  },
  {
   "cell_type": "code",
   "execution_count": 13,
   "metadata": {},
   "outputs": [],
   "source": [
    "long_df %>%\n",
    "select(Consequence) %>%\n",
    "separate(Consequence, paste0('Consequence', 1:100), sep=',', remove=T, fill='right', extra='drop') %>%\n",
    "gather(tmp, Consequence) %>%\n",
    "filter(!is.na(Consequence)) %>%\n",
    "select(-tmp) %>%\n",
    "count(Consequence) %>%\n",
    "arrange(-n) -> cnt_df\n"
   ]
  },
  {
   "cell_type": "code",
   "execution_count": 16,
   "metadata": {},
   "outputs": [],
   "source": [
    "cnt_df %>%\n",
    "fwrite('VEP_consequence_group.tsv', sep='\\t')\n"
   ]
  },
  {
   "cell_type": "markdown",
   "metadata": {},
   "source": [
    "We used Google spreadsheet and annotated grouping rules for the observed consequence types.\n",
    "\n",
    "We replaced the file above with the annotated version of the file.\n"
   ]
  },
  {
   "cell_type": "code",
   "execution_count": null,
   "metadata": {},
   "outputs": [],
   "source": []
  }
 ],
 "metadata": {
  "kernelspec": {
   "display_name": "R",
   "language": "R",
   "name": "ir"
  },
  "language_info": {
   "codemirror_mode": "r",
   "file_extension": ".r",
   "mimetype": "text/x-r-source",
   "name": "R",
   "pygments_lexer": "r",
   "version": "3.6.2"
  }
 },
 "nbformat": 4,
 "nbformat_minor": 4
}
