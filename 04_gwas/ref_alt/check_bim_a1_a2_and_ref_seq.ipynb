{
 "cells": [
  {
   "cell_type": "code",
   "execution_count": 1,
   "metadata": {},
   "outputs": [
    {
     "name": "stdout",
     "output_type": "stream",
     "text": [
      "ytanigaw\n",
      "Sat Apr 27 00:17:13 PDT 2019\n",
      "sh-102-07.int\n",
      "/oak/stanford/groups/mrivas/users/ytanigaw/repos/rivas-lab/ukbb-tools/04_gwas/ref_alt\n"
     ]
    }
   ],
   "source": [
    "whoami; date; hostname; pwd;"
   ]
  },
  {
   "cell_type": "code",
   "execution_count": 2,
   "metadata": {},
   "outputs": [],
   "source": [
    "ml load bedtools"
   ]
  },
  {
   "cell_type": "markdown",
   "metadata": {},
   "source": [
    "#### reference sequence file"
   ]
  },
  {
   "cell_type": "code",
   "execution_count": 3,
   "metadata": {},
   "outputs": [
    {
     "name": "stdout",
     "output_type": "stream",
     "text": [
      ">chr1\n",
      "NNNNNNNNNNNNNNNNNNNNNNNNNNNNNNNNNNNNNNNNNNNNNNNNNN\n",
      "cat: write error: Broken pipe\n"
     ]
    }
   ],
   "source": [
    "cat /oak/stanford/groups/mrivas/public_data/genomes/hg19/hg19.fa | head -n2"
   ]
  },
  {
   "cell_type": "code",
   "execution_count": 48,
   "metadata": {},
   "outputs": [
    {
     "name": "stdout",
     "output_type": "stream",
     "text": [
      ">chr1\n",
      ">chr2\n",
      ">chr3\n",
      ">chr4\n",
      ">chr5\n",
      ">chr6\n",
      ">chr7\n",
      ">chrX\n",
      ">chr8\n",
      ">chr9\n",
      ">chr10\n",
      ">chr11\n",
      ">chr12\n",
      ">chr13\n",
      ">chr14\n",
      ">chr15\n",
      ">chr16\n",
      ">chr17\n",
      ">chr18\n",
      ">chr20\n",
      ">chrY\n",
      ">chr19\n",
      ">chr22\n",
      ">chr21\n",
      ">chrM\n"
     ]
    }
   ],
   "source": [
    "cat /oak/stanford/groups/mrivas/public_data/genomes/hg19/hg19.fa \\\n",
    "| egrep '^>' | grep -v '_'"
   ]
  },
  {
   "cell_type": "markdown",
   "metadata": {},
   "source": [
    "### Compare UKBB's A1/A2 with the reference sequence\n",
    "\n",
    "#### tl;dr: UKBB A1 column (5-th column in the bim file) matches with the reference sequence\n",
    "\n",
    "We will take chr22 as an example case first. This is the bim file from the UKBB."
   ]
  },
  {
   "cell_type": "code",
   "execution_count": 4,
   "metadata": {},
   "outputs": [
    {
     "name": "stdout",
     "output_type": "stream",
     "text": [
      "22\trs62224618\t0\t16057417\tC\tT\n",
      "22\tAffx-52233492\t0\t16287538\tG\tC\n",
      "22\trs200923174\t0\t16287557\tC\tG\n",
      "22\tAffx-80289661\t0\t16287585\tAC\tA\n",
      "22\tAffx-80289662\t0\t16287663\tTC\tT\n",
      "22\tAffx-52336937\t0\t16287779\tCT\tC\n",
      "22\trs138257042\t0\t16449075\tG\tA\n",
      "22\trs116911124\t0\t16495833\tC\tA\n",
      "22\trs117578132\t0\t16595552\tC\tA\n",
      "22\trs117982183\t0\t16648658\tC\tT\n",
      "cat: write error: Broken pipe\n"
     ]
    }
   ],
   "source": [
    "cat $OAK/private_data/ukbb/24983/cal/pgen/ukb24983_cal_chr22_v2.bim | head -n10"
   ]
  },
  {
   "cell_type": "markdown",
   "metadata": {},
   "source": [
    "We query the reference fasta file with `bedtools getfasta` command, which requires UCSC bed file as input so I converted the PLINK bim file to UCSC bed file using awk. \n",
    "Specifically, PLINK bim is on 1-based coordinate and UCSC bed is on 0-based semi-intervals. \n",
    "\n",
    "\n",
    "In the UCSC bed file, we generated the name in the following format:\n",
    "`<variant ID>:<chromosome>:<position (1-based index)>:<A1 (5-th column in bim file)>:<A2 (6-th column in bim file)>`\n",
    "\n",
    "We pipe this UCSC bed file into `bedtools getfasta` command to get the reference sequence, which is shown at the last column of the input\n"
   ]
  },
  {
   "cell_type": "code",
   "execution_count": 5,
   "metadata": {},
   "outputs": [
    {
     "name": "stdout",
     "output_type": "stream",
     "text": [
      "cat: write error: Broken pipe\n",
      "chr22\t16057416\t16057417\trs62224618:chr22:16057417:C:T\tC\n",
      "chr22\t16287537\t16287538\tAffx-52233492:chr22:16287538:G:C\tG\n",
      "chr22\t16287556\t16287557\trs200923174:chr22:16287557:C:G\tC\n",
      "chr22\t16287584\t16287586\tAffx-80289661:chr22:16287585:AC:A\tAC\n",
      "chr22\t16287662\t16287664\tAffx-80289662:chr22:16287663:TC:T\tTC\n",
      "chr22\t16287778\t16287780\tAffx-52336937:chr22:16287779:CT:C\tCT\n",
      "chr22\t16449074\t16449075\trs138257042:chr22:16449075:G:A\tG\n",
      "chr22\t16495832\t16495833\trs116911124:chr22:16495833:C:A\tc\n",
      "chr22\t16595551\t16595552\trs117578132:chr22:16595552:C:A\tc\n",
      "chr22\t16648657\t16648658\trs117982183:chr22:16648658:C:T\tc\n"
     ]
    }
   ],
   "source": [
    "cat $OAK/private_data/ukbb/24983/cal/pgen/ukb24983_cal_chr22_v2.bim | head -n10 \\\n",
    "| awk -v OFS='\\t' -v chr=\"chr\" -v sep=\":\" '{print chr $1, $4-1, $4-1+length($5), $2 sep chr $1 sep $4 sep $5 sep $6}' \\\n",
    "| bedtools getfasta -bedOut -fi /oak/stanford/groups/mrivas/public_data/genomes/hg19/hg19.fa -bed /dev/stdin -bedOut"
   ]
  },
  {
   "cell_type": "markdown",
   "metadata": {},
   "source": [
    "As you can see above, the reference sequence matches with the A1 column in the bim file.\n",
    "\n",
    "We now test all autosomes to see if there are mismatches."
   ]
  },
  {
   "cell_type": "code",
   "execution_count": 6,
   "metadata": {},
   "outputs": [
    {
     "name": "stdout",
     "output_type": "stream",
     "text": [
      "chr4\t7435304\t7435305\tAffx-24919403\tchr4\t7435305\tT\tC\tA\n",
      "chr7\t150896002\t150896003\tAffx-29977087\tchr7\t150896003\tT\tG\tC\n",
      "chr12\t53011954\t53011955\tAffx-8165091\tchr12\t53011955\tT\tC\tG\n",
      "chr21\t46354974\t46354975\tAffx-18140622\tchr21\t46354975\tA\tG\tC\n",
      "chr22\t39218763\t39218764\tAffx-19589717\tchr22\t39218764\tT\tC\tG\n"
     ]
    }
   ],
   "source": [
    "for c in $(seq 1 22) ; do cat $OAK/private_data/ukbb/24983/cal/pgen/ukb24983_cal_chr${c}_v2.bim ; done \\\n",
    "| awk -v OFS='\\t' -v chr=\"chr\" -v sep=\":\" '{print chr $1, $4-1, $4-1+length($5), $2 sep chr $1 sep $4 sep $5 sep $6}' \\\n",
    "| bedtools getfasta -bedOut -fi /oak/stanford/groups/mrivas/public_data/genomes/hg19/hg19.fa -bed /dev/stdin -bedOut \\\n",
    "| tr \":\" \"\\t\" | awk '$7 != toupper($9)'"
   ]
  },
  {
   "cell_type": "code",
   "execution_count": 7,
   "metadata": {},
   "outputs": [
    {
     "name": "stdout",
     "output_type": "stream",
     "text": [
      " 784256 4705536 22514697\n"
     ]
    }
   ],
   "source": [
    "for c in $(seq 1 22) ; do cat $OAK/private_data/ukbb/24983/cal/pgen/ukb24983_cal_chr${c}_v2.bim ; done | wc"
   ]
  },
  {
   "cell_type": "code",
   "execution_count": 8,
   "metadata": {},
   "outputs": [
    {
     "name": "stdout",
     "output_type": "stream",
     "text": [
      "f48f9b4cfafcb717bf72d0216c2517fb  -\n"
     ]
    }
   ],
   "source": [
    "for c in $(seq 1 22) ; do cat $OAK/private_data/ukbb/24983/cal/pgen/ukb24983_cal_chr${c}_v2.bim ; done | md5sum"
   ]
  },
  {
   "cell_type": "code",
   "execution_count": 9,
   "metadata": {},
   "outputs": [
    {
     "name": "stdout",
     "output_type": "stream",
     "text": [
      "f48f9b4cfafcb717bf72d0216c2517fb  /oak/stanford/groups/mrivas/private_data/ukbb/24983/cal/pgen/ukb24983_cal_cALL_v2.bim\n"
     ]
    }
   ],
   "source": [
    "md5sum $OAK/private_data/ukbb/24983/cal/pgen/ukb24983_cal_cALL_v2.bim"
   ]
  },
  {
   "cell_type": "markdown",
   "metadata": {},
   "source": [
    "There are 5/784256 exceptions, which can be due to minor version difference of the reference genome (we used GRCh37.p13, but UKBB may have used other minor versions, such as GRCh37.p12)"
   ]
  },
  {
   "cell_type": "markdown",
   "metadata": {},
   "source": [
    "### ukb24983_cal_cALL_v2_1 \n",
    "\n",
    "We prepare a fixed version as follows:\n",
    "\n",
    "```\n",
    "(base) [mrivas@sh-102-07 /oak/stanford/groups/mrivas/ukbb24983/cal/pgen]$ plink2 --bfile ukb24983_cal_cALL_v2 --out ukb24983_cal_cALL_v2_1 --ref-allele ukb24983_cal_cALL_v2.bim 5 2 --make-bed \n",
    "PLINK v2.00a2LM AVX2 Intel (2 Apr 2019)        www.cog-genomics.org/plink/2.0/\n",
    "(C) 2005-2019 Shaun Purcell, Christopher Chang   GNU General Public License v3\n",
    "Logging to ukb24983_cal_cALL_v3.log.\n",
    "Options in effect:\n",
    "  --bfile ukb24983_cal_cALL_v2\n",
    "  --make-bed\n",
    "  --out ukb24983_cal_cALL_v2_1\n",
    "  --ref-allele ukb24983_cal_cALL_v2.bim 5 2\n",
    "\n",
    "Start time: Fri Apr 26 18:51:31 2019\n",
    "257669 MiB RAM detected; reserving 128834 MiB for main workspace.\n",
    "Using up to 20 threads (change this with --threads).\n",
    "488377 samples (264861 females, 223509 males, 7 ambiguous; 488377 founders)\n",
    "loaded from ukb24983_cal_cALL_v2.fam.\n",
    "784256 variants loaded from ukb24983_cal_cALL_v2.bim.\n",
    "Note: No phenotype data present.\n",
    "--ref-allele: 784256 sets of allele codes rotated.\n",
    "Writing ukb24983_cal_cALL_v2_1.fam ... done.\n",
    "Writing ukb24983_cal_cALL_v2_1.bim ... done.\n",
    "Writing ukb24983_cal_cALL_v2_1.bed ... 0%\n",
    "```"
   ]
  },
  {
   "cell_type": "code",
   "execution_count": 12,
   "metadata": {},
   "outputs": [
    {
     "name": "stdout",
     "output_type": "stream",
     "text": [
      "f48f9b4cfafcb717bf72d0216c2517fb  -\n"
     ]
    }
   ],
   "source": [
    "cat $OAK/private_data/ukbb/24983/cal/pgen/ukb24983_cal_cALL_v2_1.bim \\\n",
    "| awk -v OFS='\\t' '{print $1, $2, $3, $4, $6, $5}' | md5sum"
   ]
  },
  {
   "cell_type": "code",
   "execution_count": 13,
   "metadata": {},
   "outputs": [
    {
     "name": "stdout",
     "output_type": "stream",
     "text": [
      "f48f9b4cfafcb717bf72d0216c2517fb  /oak/stanford/groups/mrivas/private_data/ukbb/24983/cal/pgen/ukb24983_cal_cALL_v2.bim\n"
     ]
    }
   ],
   "source": [
    "md5sum $OAK/private_data/ukbb/24983/cal/pgen/ukb24983_cal_cALL_v2.bim"
   ]
  },
  {
   "cell_type": "markdown",
   "metadata": {},
   "source": [
    "As you can see below, the reference sequence matches with the A2 column in the v2_1 bim file.\n"
   ]
  },
  {
   "cell_type": "code",
   "execution_count": 10,
   "metadata": {
    "scrolled": true
   },
   "outputs": [
    {
     "name": "stdout",
     "output_type": "stream",
     "text": [
      "chr4\t7435304\t7435305\tAffx-24919403\tchr4\t7435305\tT\tC\tA\n",
      "chr7\t150896002\t150896003\tAffx-29977087\tchr7\t150896003\tT\tG\tC\n",
      "chr12\t53011954\t53011955\tAffx-8165091\tchr12\t53011955\tT\tC\tG\n",
      "chr21\t46354974\t46354975\tAffx-18140622\tchr21\t46354975\tA\tG\tC\n",
      "chr22\t39218763\t39218764\tAffx-19589717\tchr22\t39218764\tT\tC\tG\n"
     ]
    }
   ],
   "source": [
    "cat $OAK/private_data/ukbb/24983/cal/pgen/ukb24983_cal_cALL_v2_1.bim \\\n",
    "| awk -v OFS='\\t' -v chr=\"chr\" -v sep=\":\" '{print chr $1, $4-1, $4-1+length($6), $2 sep chr $1 sep $4 sep $6 sep $5}' \\\n",
    "| bedtools getfasta -bedOut -fi /oak/stanford/groups/mrivas/public_data/genomes/hg19/hg19.fa -bed /dev/stdin -bedOut \\\n",
    "| tr \":\" \"\\t\" | awk '$7 != toupper($9)'\n"
   ]
  },
  {
   "cell_type": "markdown",
   "metadata": {},
   "source": [
    "### Variant annotation table\n",
    "\n",
    "`/oak/stanford/groups/mrivas/private_data/ukbb/variant_filtering/variant_filter_table.tsv.gz`\n"
   ]
  },
  {
   "cell_type": "code",
   "execution_count": 26,
   "metadata": {},
   "outputs": [
    {
     "name": "stdout",
     "output_type": "stream",
     "text": [
      "CHROM\tPOS\tREF\tALT\tID\n",
      "1\t723307\tC\tG\trs28659788\n",
      "1\t727841\tG\tA\trs116587930\n",
      "cut: write error: Broken pipe\n"
     ]
    }
   ],
   "source": [
    "zcat /oak/stanford/groups/mrivas/private_data/ukbb/variant_filtering/variant_filter_table.tsv.gz \\\n",
    "| cut -f1-5 | head -n3"
   ]
  },
  {
   "cell_type": "code",
   "execution_count": 30,
   "metadata": {},
   "outputs": [
    {
     "name": "stdout",
     "output_type": "stream",
     "text": [
      "chr12\t53011954\t53011955\tAffx-8165091\tchr12\t53011955\tT\tC\tG\n",
      "chr21\t46354974\t46354975\tAffx-18140622\tchr21\t46354975\tA\tG\tC\n",
      "chr22\t39218763\t39218764\tAffx-19589717\tchr22\t39218764\tT\tC\tG\n",
      "chr4\t7435304\t7435305\tAffx-24919403\tchr4\t7435305\tT\tC\tA\n",
      "chr7\t150896002\t150896003\tAffx-29977087\tchr7\t150896003\tT\tG\tC\n"
     ]
    }
   ],
   "source": [
    "zcat /oak/stanford/groups/mrivas/private_data/ukbb/variant_filtering/variant_filter_table.tsv.gz \\\n",
    "| cut -f1-5 \\\n",
    "| awk -v OFS='\\t' -v chr=\"chr\" -v sep=\":\" '(NR>1){print chr $1, $2-1, $2-1+length($3), $5 sep chr $1 sep $2 sep $3 sep $4}' \\\n",
    "| bedtools getfasta -bedOut -fi /oak/stanford/groups/mrivas/public_data/genomes/hg19/hg19.fa -bed /dev/stdin -bedOut \\\n",
    "| tr \":\" \"\\t\" | awk '$7 != toupper($9)'\n",
    "\n"
   ]
  },
  {
   "cell_type": "markdown",
   "metadata": {},
   "source": [
    "### liftOver: ukb24983_cal_cALL_v2_1.hg38.bim\n",
    "\n",
    "Using the liftOver, a UCSC genome browser tool, we mapped the bim file to hg38.\n",
    "Here are the summary of the liftOver and REF/ALT check status.\n"
   ]
  },
  {
   "cell_type": "markdown",
   "metadata": {},
   "source": [
    "| _ | LiftOver and REF/ALT check status | Number of variants |\n",
    "| --------- | -------------------------------------------------------- | ------ |\n",
    "| (1) | Successfully mapped and REF (A2) matches with GRCh38.p13 | 781,659 |\n",
    "| (2) | Successfully mapped but ALT (A1) matches with GRCh38.p13 |   1,343 |\n",
    "| (3) | Successfully mapped but REF/ALT (A1/A2) does not match GRCh38.p13 |   960 |\n",
    "| (4) | Mapped to somewhere but the coordinates are invalid | 1 |\n",
    "| (5) | Unmapped (UCSC liftOver failed to map) | 293 |\n",
    "|  _  | TOTAL | 784,256 |"
   ]
  },
  {
   "cell_type": "code",
   "execution_count": 24,
   "metadata": {},
   "outputs": [
    {
     "name": "stdout",
     "output_type": "stream",
     "text": [
      "784256 ../../09_liftOver/ukb24983_cal_cALL_v2_1.hg38.bim\n"
     ]
    }
   ],
   "source": [
    "wc -l ../../09_liftOver/ukb24983_cal_cALL_v2_1.hg38.bim"
   ]
  },
  {
   "cell_type": "code",
   "execution_count": 23,
   "metadata": {},
   "outputs": [
    {
     "name": "stdout",
     "output_type": "stream",
     "text": [
      "Feature (chr19:101658107-101658108) beyond the length of chr19 size (58617616 bp).  Skipping.\n",
      "781659\n"
     ]
    }
   ],
   "source": [
    "cat ../../09_liftOver/ukb24983_cal_cALL_v2_1.hg38.bim \\\n",
    "| awk '$4 != 0' \\\n",
    "| awk -v OFS='\\t' -v chr=\"chr\" -v sep=\":\" '{print chr $1, $4-1, $4-1+length($6), $2 sep chr $1 sep $4 sep $6 sep $5}' \\\n",
    "| bedtools getfasta -bedOut -fi /oak/stanford/groups/mrivas/public_data/genomes/hg38/hg38.fa -bed /dev/stdin -bedOut \\\n",
    "| tr \":\" \"\\t\" | awk '$7 == toupper($9)' | wc -l\n"
   ]
  },
  {
   "cell_type": "code",
   "execution_count": 15,
   "metadata": {},
   "outputs": [
    {
     "name": "stdout",
     "output_type": "stream",
     "text": [
      "Feature (chr19:101658107-101658108) beyond the length of chr19 size (58617616 bp).  Skipping.\n",
      "2303\n"
     ]
    }
   ],
   "source": [
    "cat ../../09_liftOver/ukb24983_cal_cALL_v2_1.hg38.bim \\\n",
    "| awk '$4 != 0' \\\n",
    "| awk -v OFS='\\t' -v chr=\"chr\" -v sep=\":\" '{print chr $1, $4-1, $4-1+length($6), $2 sep chr $1 sep $4 sep $6 sep $5}' \\\n",
    "| bedtools getfasta -bedOut -fi /oak/stanford/groups/mrivas/public_data/genomes/hg38/hg38.fa -bed /dev/stdin -bedOut \\\n",
    "| tr \":\" \"\\t\" | awk '$7 != toupper($9)' | wc -l"
   ]
  },
  {
   "cell_type": "code",
   "execution_count": 20,
   "metadata": {},
   "outputs": [
    {
     "name": "stdout",
     "output_type": "stream",
     "text": [
      "Feature (chr19:101658107-101658108) beyond the length of chr19 size (58617616 bp).  Skipping.\n",
      "1343\n"
     ]
    }
   ],
   "source": [
    "cat ../../09_liftOver/ukb24983_cal_cALL_v2_1.hg38.bim \\\n",
    "| awk '$4 != 0' \\\n",
    "| awk -v OFS='\\t' -v chr=\"chr\" -v sep=\":\" '{print chr $1, $4-1, $4-1+length($6), $2 sep chr $1 sep $4 sep $6 sep $5}' \\\n",
    "| bedtools getfasta -bedOut -fi /oak/stanford/groups/mrivas/public_data/genomes/hg38/hg38.fa -bed /dev/stdin -bedOut \\\n",
    "| tr \":\" \"\\t\" | awk '$7 != toupper($9) && $8 == toupper($9)' | wc -l\n"
   ]
  },
  {
   "cell_type": "code",
   "execution_count": 22,
   "metadata": {},
   "outputs": [
    {
     "name": "stdout",
     "output_type": "stream",
     "text": [
      "Feature (chr19:101658107-101658108) beyond the length of chr19 size (58617616 bp).  Skipping.\n",
      "960\n"
     ]
    }
   ],
   "source": [
    "cat ../../09_liftOver/ukb24983_cal_cALL_v2_1.hg38.bim \\\n",
    "| awk '$4 != 0' \\\n",
    "| awk -v OFS='\\t' -v chr=\"chr\" -v sep=\":\" '{print chr $1, $4-1, $4-1+length($6), $2 sep chr $1 sep $4 sep $6 sep $5}' \\\n",
    "| bedtools getfasta -bedOut -fi /oak/stanford/groups/mrivas/public_data/genomes/hg38/hg38.fa -bed /dev/stdin -bedOut \\\n",
    "| tr \":\" \"\\t\" | awk '$7 != toupper($9) && $8 != toupper($9)' | wc -l\n"
   ]
  },
  {
   "cell_type": "code",
   "execution_count": 21,
   "metadata": {},
   "outputs": [
    {
     "name": "stdout",
     "output_type": "stream",
     "text": [
      "chr1\t12719556\t12719558\tAffx-52321985\tchr1\t12719557\tAT\tA\tAC\n",
      "chr1\t13482277\t13482278\tAffx-4972073\tchr1\t13482278\tC\tT\tG\n",
      "chr1\t143956444\t143956445\trs78105048\tchr1\t143956445\tT\tC\tA\n",
      "chr1\t143943802\t143943803\trs146627141\tchr1\t143943803\tT\tC\tA\n",
      "chr1\t143938433\t143938434\trs144715521\tchr1\t143938434\tT\tC\tG\n",
      "chr1\t143904543\t143904544\trs115198068\tchr1\t143904544\tG\tA\tC\n",
      "chr1\t143883551\t143883552\trs149651017\tchr1\t143883552\tT\tG\tA\n",
      "chr1\t143880556\t143880557\trs149452988\tchr1\t143880557\tG\tA\tC\n",
      "chr1\t143876237\t143876238\trs200153581\tchr1\t143876238\tC\tT\tG\n",
      "chr1\t82102\t82103\trs147887611\tchr1\t82103\tG\tA\tt\n",
      "awk: cmd. line:1: (FILENAME=- FNR=33733) fatal: print to \"standard output\" failed (Broken pipe)\n",
      "tr: write error: Broken pipe\n",
      "tr: write error\n",
      "Feature (chr19:101658107-101658108) beyond the length of chr19 size (58617616 bp).  Skipping.\n"
     ]
    }
   ],
   "source": [
    "cat ../../09_liftOver/ukb24983_cal_cALL_v2_1.hg38.bim \\\n",
    "| awk '$4 != 0' \\\n",
    "| awk -v OFS='\\t' -v chr=\"chr\" -v sep=\":\" '{print chr $1, $4-1, $4-1+length($6), $2 sep chr $1 sep $4 sep $6 sep $5}' \\\n",
    "| bedtools getfasta -bedOut -fi /oak/stanford/groups/mrivas/public_data/genomes/hg38/hg38.fa -bed /dev/stdin -bedOut \\\n",
    "| tr \":\" \"\\t\" | awk '$7 != toupper($9) && $8 != toupper($9)' | head\n"
   ]
  },
  {
   "cell_type": "code",
   "execution_count": 25,
   "metadata": {},
   "outputs": [
    {
     "name": "stdout",
     "output_type": "stream",
     "text": [
      "34917faa1aa42af954d7fc7bc510c050  ../../09_liftOver/ukb24983_cal_cALL_v2_1.hg38.bim\n"
     ]
    }
   ],
   "source": [
    "md5sum ../../09_liftOver/ukb24983_cal_cALL_v2_1.hg38.bim"
   ]
  },
  {
   "cell_type": "code",
   "execution_count": null,
   "metadata": {},
   "outputs": [],
   "source": []
  }
 ],
 "metadata": {
  "kernelspec": {
   "display_name": "Bash",
   "language": "bash",
   "name": "bash"
  },
  "language_info": {
   "codemirror_mode": "shell",
   "file_extension": ".sh",
   "mimetype": "text/x-sh",
   "name": "bash"
  }
 },
 "nbformat": 4,
 "nbformat_minor": 2
}
