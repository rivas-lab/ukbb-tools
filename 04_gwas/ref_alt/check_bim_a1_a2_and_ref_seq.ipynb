{
 "cells": [
  {
   "cell_type": "code",
   "execution_count": 1,
   "metadata": {},
   "outputs": [
    {
     "name": "stdout",
     "output_type": "stream",
     "text": [
      "ytanigaw\n",
      "Fri Apr 26 14:58:49 PDT 2019\n",
      "sh-102-07.int\n",
      "/oak/stanford/groups/mrivas/users/ytanigaw/repos/rivas-lab/ukbb-tools/04_gwas/ref_alt\n"
     ]
    }
   ],
   "source": [
    "whoami; date; hostname; pwd;"
   ]
  },
  {
   "cell_type": "code",
   "execution_count": 16,
   "metadata": {},
   "outputs": [],
   "source": [
    "ml load bedtools"
   ]
  },
  {
   "cell_type": "markdown",
   "metadata": {},
   "source": [
    "#### reference sequence file"
   ]
  },
  {
   "cell_type": "code",
   "execution_count": 47,
   "metadata": {},
   "outputs": [
    {
     "name": "stdout",
     "output_type": "stream",
     "text": [
      ">chr1\n",
      "NNNNNNNNNNNNNNNNNNNNNNNNNNNNNNNNNNNNNNNNNNNNNNNNNN\n",
      "cat: write error: Broken pipe\n"
     ]
    }
   ],
   "source": [
    "cat /oak/stanford/groups/mrivas/public_data/genomes/hg19/hg19.fa | head -n2"
   ]
  },
  {
   "cell_type": "code",
   "execution_count": 48,
   "metadata": {},
   "outputs": [
    {
     "name": "stdout",
     "output_type": "stream",
     "text": [
      ">chr1\n",
      ">chr2\n",
      ">chr3\n",
      ">chr4\n",
      ">chr5\n",
      ">chr6\n",
      ">chr7\n",
      ">chrX\n",
      ">chr8\n",
      ">chr9\n",
      ">chr10\n",
      ">chr11\n",
      ">chr12\n",
      ">chr13\n",
      ">chr14\n",
      ">chr15\n",
      ">chr16\n",
      ">chr17\n",
      ">chr18\n",
      ">chr20\n",
      ">chrY\n",
      ">chr19\n",
      ">chr22\n",
      ">chr21\n",
      ">chrM\n"
     ]
    }
   ],
   "source": [
    "cat /oak/stanford/groups/mrivas/public_data/genomes/hg19/hg19.fa \\\n",
    "| egrep '^>' | grep -v '_'"
   ]
  },
  {
   "cell_type": "markdown",
   "metadata": {},
   "source": [
    "### Compare UKBB's A1/A2 with the reference sequence\n",
    "\n",
    "#### tl;dr: UKBB A1 column (5-th column in the bim file) matches with the reference sequence\n",
    "\n",
    "We will take chr22 as an example case first. This is the bim file from the UKBB."
   ]
  },
  {
   "cell_type": "code",
   "execution_count": 27,
   "metadata": {},
   "outputs": [
    {
     "name": "stdout",
     "output_type": "stream",
     "text": [
      "22\trs62224618\t0\t16057417\tC\tT\n",
      "22\tAffx-52233492\t0\t16287538\tG\tC\n",
      "22\trs200923174\t0\t16287557\tC\tG\n",
      "22\tAffx-80289661\t0\t16287585\tAC\tA\n",
      "22\tAffx-80289662\t0\t16287663\tTC\tT\n",
      "22\tAffx-52336937\t0\t16287779\tCT\tC\n",
      "22\trs138257042\t0\t16449075\tG\tA\n",
      "22\trs116911124\t0\t16495833\tC\tA\n",
      "22\trs117578132\t0\t16595552\tC\tA\n",
      "22\trs117982183\t0\t16648658\tC\tT\n",
      "cat: write error: Broken pipe\n"
     ]
    }
   ],
   "source": [
    "cat $OAK/private_data/ukbb/24983/cal/pgen/ukb24983_cal_chr22_v2.bim | head -n10"
   ]
  },
  {
   "cell_type": "markdown",
   "metadata": {},
   "source": [
    "We query the reference fasta file with `bedtools getfasta` command, which requires UCSC bed file as input so I converted the PLINK bim file to UCSC bed file using awk. \n",
    "Specifically, PLINK bim is on 1-based coordinate and UCSC bed is on 0-based semi-intervals. \n",
    "\n",
    "\n",
    "In the UCSC bed file, we generated the name in the following format:\n",
    "`<variant ID>:<chromosome>:<position (1-based index)>:<A1 (5-th column in bim file)>:<A2 (6-th column in bim file)>`\n",
    "\n",
    "We pipe this UCSC bed file into `bedtools getfasta` command to get the reference sequence, which is shown at the last column of the input\n"
   ]
  },
  {
   "cell_type": "code",
   "execution_count": 45,
   "metadata": {},
   "outputs": [
    {
     "name": "stdout",
     "output_type": "stream",
     "text": [
      "cat: write error: Broken pipe\n",
      "chr22\t16057416\t16057417\trs62224618:chr22:16057417:C:T\tC\n",
      "chr22\t16287537\t16287538\tAffx-52233492:chr22:16287538:G:C\tG\n",
      "chr22\t16287556\t16287557\trs200923174:chr22:16287557:C:G\tC\n",
      "chr22\t16287584\t16287586\tAffx-80289661:chr22:16287585:AC:A\tAC\n",
      "chr22\t16287662\t16287664\tAffx-80289662:chr22:16287663:TC:T\tTC\n",
      "chr22\t16287778\t16287780\tAffx-52336937:chr22:16287779:CT:C\tCT\n",
      "chr22\t16449074\t16449075\trs138257042:chr22:16449075:G:A\tG\n",
      "chr22\t16495832\t16495833\trs116911124:chr22:16495833:C:A\tc\n",
      "chr22\t16595551\t16595552\trs117578132:chr22:16595552:C:A\tc\n",
      "chr22\t16648657\t16648658\trs117982183:chr22:16648658:C:T\tc\n"
     ]
    }
   ],
   "source": [
    "cat $OAK/private_data/ukbb/24983/cal/pgen/ukb24983_cal_chr22_v2.bim | head -n10 \\\n",
    "| awk -v OFS='\\t' -v chr=\"chr\" -v sep=\":\" '{print chr $1, $4-1, $4-1+length($5), $2 sep chr $1 sep $4 sep $5 sep $6}' \\\n",
    "| bedtools getfasta -bedOut -fi /oak/stanford/groups/mrivas/public_data/genomes/hg19/hg19.fa -bed /dev/stdin -bedOut"
   ]
  },
  {
   "cell_type": "markdown",
   "metadata": {},
   "source": [
    "As you can see above, the reference sequence matches with the A1 column in the bim file.\n",
    "\n",
    "We now test all autosomes to see if there are mismatches."
   ]
  },
  {
   "cell_type": "code",
   "execution_count": 44,
   "metadata": {},
   "outputs": [
    {
     "name": "stdout",
     "output_type": "stream",
     "text": [
      "chr4\t7435304\t7435305\tAffx-24919403\tchr4\t7435305\tT\tC\tA\n",
      "chr7\t150896002\t150896003\tAffx-29977087\tchr7\t150896003\tT\tG\tC\n",
      "chr12\t53011954\t53011955\tAffx-8165091\tchr12\t53011955\tT\tC\tG\n",
      "chr21\t46354974\t46354975\tAffx-18140622\tchr21\t46354975\tA\tG\tC\n",
      "chr22\t39218763\t39218764\tAffx-19589717\tchr22\t39218764\tT\tC\tG\n"
     ]
    }
   ],
   "source": [
    "for c in $(seq 1 22) ; do cat $OAK/private_data/ukbb/24983/cal/pgen/ukb24983_cal_chr${c}_v2.bim ; done \\\n",
    "| awk -v OFS='\\t' -v chr=\"chr\" -v sep=\":\" '{print chr $1, $4-1, $4-1+length($5), $2 sep chr $1 sep $4 sep $5 sep $6}' \\\n",
    "| bedtools getfasta -bedOut -fi /oak/stanford/groups/mrivas/public_data/genomes/hg19/hg19.fa -bed /dev/stdin -bedOut \\\n",
    "| tr \":\" \"\\t\" | awk '$7 != toupper($9)'"
   ]
  },
  {
   "cell_type": "code",
   "execution_count": 49,
   "metadata": {},
   "outputs": [
    {
     "name": "stdout",
     "output_type": "stream",
     "text": [
      " 784256 4705536 22514697\n"
     ]
    }
   ],
   "source": [
    "for c in $(seq 1 22) ; do cat $OAK/private_data/ukbb/24983/cal/pgen/ukb24983_cal_chr${c}_v2.bim ; done | wc"
   ]
  },
  {
   "cell_type": "markdown",
   "metadata": {},
   "source": [
    "There are 5/784256 exceptions, which can be due to minor version difference of the reference genome (we used GRCh37.p13, but UKBB may have used other minor versions, such as GRCh37.p12)"
   ]
  },
  {
   "cell_type": "code",
   "execution_count": null,
   "metadata": {},
   "outputs": [],
   "source": []
  }
 ],
 "metadata": {
  "kernelspec": {
   "display_name": "Bash",
   "language": "bash",
   "name": "bash"
  },
  "language_info": {
   "codemirror_mode": "shell",
   "file_extension": ".sh",
   "mimetype": "text/x-sh",
   "name": "bash"
  }
 },
 "nbformat": 4,
 "nbformat_minor": 2
}
