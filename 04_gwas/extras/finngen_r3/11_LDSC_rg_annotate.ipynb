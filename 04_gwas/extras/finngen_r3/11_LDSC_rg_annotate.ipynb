{
 "cells": [
  {
   "cell_type": "code",
   "execution_count": 1,
   "metadata": {},
   "outputs": [],
   "source": [
    "suppressWarnings(suppressPackageStartupMessages({\n",
    "    library(tidyverse)\n",
    "    library(data.table)\n",
    "    library(googlesheets)\n",
    "}))\n"
   ]
  },
  {
   "cell_type": "code",
   "execution_count": 2,
   "metadata": {},
   "outputs": [
    {
     "name": "stderr",
     "output_type": "stream",
     "text": [
      "Auto-refreshing stale OAuth token.\n",
      "\n",
      "Sheet-identifying info appears to be a browser URL.\n",
      "googlesheets will attempt to extract sheet key from the URL.\n",
      "\n",
      "Putative key: 1gwzS0SVZBSKkkHgsoqB5vHo5JpUeYYz8PK2RWrHEq3A\n",
      "\n",
      "Warning message:\n",
      "“`data_frame()` is deprecated as of tibble 1.1.0.\n",
      "Please use `tibble()` instead.\n",
      "\u001b[90mThis warning is displayed once every 8 hours.\u001b[39m\n",
      "\u001b[90mCall `lifecycle::last_warnings()` to see where this warning was generated.\u001b[39m”\n",
      "Sheet successfully identified: \"GBE_names\"\n",
      "\n",
      "Warning message:\n",
      "“`as_data_frame()` is deprecated as of tibble 2.0.0.\n",
      "Please use `as_tibble()` instead.\n",
      "The signature and semantics have changed, see `?as_tibble`.\n",
      "\u001b[90mThis warning is displayed once every 8 hours.\u001b[39m\n",
      "\u001b[90mCall `lifecycle::last_warnings()` to see where this warning was generated.\u001b[39m”\n",
      "Accessing worksheet titled 'GBE_names'.\n",
      "\n"
     ]
    }
   ],
   "source": [
    "gs_token <- \"/home/users/ytanigaw/.googlesheets_token.rds\"\n",
    "gs_auth(token = gs_token)\n",
    "\n",
    "'https://docs.google.com/spreadsheets/d/1gwzS0SVZBSKkkHgsoqB5vHo5JpUeYYz8PK2RWrHEq3A' %>%\n",
    "gs_url() %>% \n",
    "gs_read(\n",
    "    ws = 'GBE_names',\n",
    "    col_types = cols('Units_of_measurement' = col_character())\n",
    ") %>%\n",
    "select(-GBE_short_name_len) -> GBE_names_df\n"
   ]
  },
  {
   "cell_type": "code",
   "execution_count": 21,
   "metadata": {},
   "outputs": [],
   "source": [
    "# input\n",
    "FinnGen_annot_f <- '/scratch/groups/mrivas/public_data/summary_stats/finngen_r3/summary_stats/r3_manifest.tsv'\n",
    "LDSC_rg_f <- '/oak/stanford/groups/mrivas/public_data/summary_stats/finngen_r3/UKB_WB_rg.20200722-093650.tsv.gz' # this file is copied\n",
    "# from /scratch/groups/mrivas/public_data/summary_stats/finngen_r3/ldsc/UKB_WB_rg.20200722-093650/LDSC.rg.tsv.gz\n",
    "\n",
    "# output\n",
    "out_f <- '/oak/stanford/groups/mrivas/public_data/summary_stats/finngen_r3/UKB_WB_rg.20200722-093650.filtered.tsv'\n",
    "plot_f <- '11_LDSC_rg_dist.png'\n"
   ]
  },
  {
   "cell_type": "code",
   "execution_count": 22,
   "metadata": {},
   "outputs": [],
   "source": [
    "FinnGen_annot_f %>%\n",
    "fread() %>%\n",
    "select(-path_bucket, -path_https) -> FinnGen_df\n"
   ]
  },
  {
   "cell_type": "code",
   "execution_count": 23,
   "metadata": {},
   "outputs": [],
   "source": [
    "LDSC_rg_f %>%\n",
    "fread() %>%\n",
    "rename('p1'='#p1') %>%\n",
    "rename('phenocode'='p1', 'GBE_ID'='p2') %>%\n",
    "drop_na(rg) -> df\n"
   ]
  },
  {
   "cell_type": "code",
   "execution_count": 44,
   "metadata": {},
   "outputs": [
    {
     "data": {
      "text/html": [
       "<table>\n",
       "<caption>A data.table: 0 × 12</caption>\n",
       "<thead>\n",
       "\t<tr><th scope=col>phenocode</th><th scope=col>GBE_ID</th><th scope=col>rg</th><th scope=col>se</th><th scope=col>z</th><th scope=col>p</th><th scope=col>h2_obs</th><th scope=col>h2_obs_se</th><th scope=col>h2_int</th><th scope=col>h2_int_se</th><th scope=col>gcov_int</th><th scope=col>gcov_int_se</th></tr>\n",
       "\t<tr><th scope=col>&lt;chr&gt;</th><th scope=col>&lt;chr&gt;</th><th scope=col>&lt;dbl&gt;</th><th scope=col>&lt;dbl&gt;</th><th scope=col>&lt;dbl&gt;</th><th scope=col>&lt;dbl&gt;</th><th scope=col>&lt;dbl&gt;</th><th scope=col>&lt;dbl&gt;</th><th scope=col>&lt;dbl&gt;</th><th scope=col>&lt;dbl&gt;</th><th scope=col>&lt;dbl&gt;</th><th scope=col>&lt;dbl&gt;</th></tr>\n",
       "</thead>\n",
       "<tbody>\n",
       "</tbody>\n",
       "</table>\n"
      ],
      "text/latex": [
       "A data.table: 0 × 12\n",
       "\\begin{tabular}{llllllllllll}\n",
       " phenocode & GBE\\_ID & rg & se & z & p & h2\\_obs & h2\\_obs\\_se & h2\\_int & h2\\_int\\_se & gcov\\_int & gcov\\_int\\_se\\\\\n",
       " <chr> & <chr> & <dbl> & <dbl> & <dbl> & <dbl> & <dbl> & <dbl> & <dbl> & <dbl> & <dbl> & <dbl>\\\\\n",
       "\\hline\n",
       "\\end{tabular}\n"
      ],
      "text/markdown": [
       "\n",
       "A data.table: 0 × 12\n",
       "\n",
       "| phenocode &lt;chr&gt; | GBE_ID &lt;chr&gt; | rg &lt;dbl&gt; | se &lt;dbl&gt; | z &lt;dbl&gt; | p &lt;dbl&gt; | h2_obs &lt;dbl&gt; | h2_obs_se &lt;dbl&gt; | h2_int &lt;dbl&gt; | h2_int_se &lt;dbl&gt; | gcov_int &lt;dbl&gt; | gcov_int_se &lt;dbl&gt; |\n",
       "|---|---|---|---|---|---|---|---|---|---|---|---|\n",
       "\n"
      ],
      "text/plain": [
       "     phenocode GBE_ID rg se z p h2_obs h2_obs_se h2_int h2_int_se gcov_int\n",
       "     gcov_int_se"
      ]
     },
     "metadata": {},
     "output_type": "display_data"
    }
   ],
   "source": [
    "df %>%\n",
    "filter(GBE_ID == 'cancer1002') %>%\n",
    "head()"
   ]
  },
  {
   "cell_type": "code",
   "execution_count": null,
   "metadata": {},
   "outputs": [],
   "source": []
  },
  {
   "cell_type": "code",
   "execution_count": 25,
   "metadata": {},
   "outputs": [],
   "source": [
    "p_LDSC_p <- df %>%\n",
    "ggplot(aes(x=-log10(p))) +\n",
    "geom_vline(xintercept=-log10(5e-2), color='red')+\n",
    "geom_vline(xintercept=-log10(1e-4), color='red')+\n",
    "geom_vline(xintercept=-log10(5e-5), color='red')+\n",
    "geom_histogram(bins=30) +\n",
    "theme_bw() +\n",
    "xlim(0, 10) +\n",
    "labs(\n",
    "    title=latex2exp::TeX('$-\\\\log_{10}(p)$ from LDSC rg'),\n",
    "    x=latex2exp::TeX('$-\\\\log_{10}(p)$')\n",
    ")\n"
   ]
  },
  {
   "cell_type": "code",
   "execution_count": 26,
   "metadata": {},
   "outputs": [
    {
     "name": "stderr",
     "output_type": "stream",
     "text": [
      "Warning message:\n",
      "“Removed 922 rows containing non-finite values (stat_bin).”\n",
      "Warning message:\n",
      "“Removed 2 rows containing missing values (geom_bar).”\n"
     ]
    },
    {
     "data": {
      "image/png": "[encoded data removed]",
      "text/plain": [
       "plot without title"
      ]
     },
     "metadata": {
      "image/png": {
       "height": 420,
       "width": 420
      },
      "text/plain": {
       "height": 420,
       "width": 420
      }
     },
     "output_type": "display_data"
    }
   ],
   "source": [
    "p_LDSC_p"
   ]
  },
  {
   "cell_type": "code",
   "execution_count": 24,
   "metadata": {},
   "outputs": [
    {
     "name": "stdout",
     "output_type": "stream",
     "text": [
      "[1] 1084259      12\n",
      "[1] 64124    12\n",
      "[1] 7529   12\n",
      "[1] 6511   12\n"
     ]
    }
   ],
   "source": [
    "df %>% dim() %>% print()\n",
    "df %>% filter(p < 5e-2) %>% dim() %>% print()\n",
    "df %>% filter(p < 1e-4) %>% dim() %>% print()\n",
    "df %>% filter(p < 5e-5) %>% dim() %>% print()\n"
   ]
  },
  {
   "cell_type": "code",
   "execution_count": 9,
   "metadata": {},
   "outputs": [
    {
     "data": {
      "text/html": [
       "848"
      ],
      "text/latex": [
       "848"
      ],
      "text/markdown": [
       "848"
      ],
      "text/plain": [
       "[1] 848"
      ]
     },
     "metadata": {},
     "output_type": "display_data"
    },
    {
     "data": {
      "text/html": [
       "765"
      ],
      "text/latex": [
       "765"
      ],
      "text/markdown": [
       "765"
      ],
      "text/plain": [
       "[1] 765"
      ]
     },
     "metadata": {},
     "output_type": "display_data"
    }
   ],
   "source": [
    "df %>% filter(p < 5e-2) %>% pull(phenocode) %>% unique() %>% length()\n",
    "df %>% filter(p < 5e-2) %>% pull(GBE_ID) %>% unique() %>% length()"
   ]
  },
  {
   "cell_type": "code",
   "execution_count": 27,
   "metadata": {},
   "outputs": [
    {
     "data": {
      "text/html": [
       "299"
      ],
      "text/latex": [
       "299"
      ],
      "text/markdown": [
       "299"
      ],
      "text/plain": [
       "[1] 299"
      ]
     },
     "metadata": {},
     "output_type": "display_data"
    },
    {
     "data": {
      "text/html": [
       "313"
      ],
      "text/latex": [
       "313"
      ],
      "text/markdown": [
       "313"
      ],
      "text/plain": [
       "[1] 313"
      ]
     },
     "metadata": {},
     "output_type": "display_data"
    }
   ],
   "source": [
    "df %>% filter(p < 1e-4) %>% pull(phenocode) %>% unique() %>% length()\n",
    "df %>% filter(p < 1e-4) %>% pull(GBE_ID) %>% unique() %>% length()"
   ]
  },
  {
   "cell_type": "code",
   "execution_count": 28,
   "metadata": {},
   "outputs": [
    {
     "data": {
      "text/html": [
       "289"
      ],
      "text/latex": [
       "289"
      ],
      "text/markdown": [
       "289"
      ],
      "text/plain": [
       "[1] 289"
      ]
     },
     "metadata": {},
     "output_type": "display_data"
    },
    {
     "data": {
      "text/html": [
       "292"
      ],
      "text/latex": [
       "292"
      ],
      "text/markdown": [
       "292"
      ],
      "text/plain": [
       "[1] 292"
      ]
     },
     "metadata": {},
     "output_type": "display_data"
    }
   ],
   "source": [
    "df %>% filter(p < 5e-5) %>% pull(phenocode) %>% unique() %>% length()\n",
    "df %>% filter(p < 5e-5) %>% pull(GBE_ID) %>% unique() %>% length()"
   ]
  },
  {
   "cell_type": "code",
   "execution_count": 30,
   "metadata": {},
   "outputs": [
    {
     "name": "stdout",
     "output_type": "stream",
     "text": [
      "[1] 1.5064\n",
      "[1] 1.4871\n"
     ]
    }
   ],
   "source": [
    "df %>% filter(p < 1e-4) %>% pull(rg) %>% abs() %>% max() %>% print()\n",
    "df %>% filter(p < 5e-5) %>% pull(rg) %>% abs() %>% max() %>% print()\n"
   ]
  },
  {
   "cell_type": "code",
   "execution_count": 34,
   "metadata": {},
   "outputs": [],
   "source": [
    "p_LDSC_rg <- df %>% filter(p < 1e-4) %>%\n",
    "ggplot(aes(x=abs(rg))) +\n",
    "# geom_vline(xintercept=-log10(0.05), color='red')+\n",
    "geom_histogram(bins=30) +\n",
    "theme_bw() +\n",
    "xlim(0, 1.6) +\n",
    "labs(\n",
    "    title=latex2exp::TeX('Distribution of the estimated LDSC rg ($p < 10^{-4}$)'),\n",
    "    x='abs(rg)'\n",
    ")\n"
   ]
  },
  {
   "cell_type": "code",
   "execution_count": 35,
   "metadata": {},
   "outputs": [
    {
     "name": "stderr",
     "output_type": "stream",
     "text": [
      "Warning message:\n",
      "“Removed 2 rows containing missing values (geom_bar).”\n"
     ]
    },
    {
     "data": {
      "image/png": "[encoded data removed]",
      "text/plain": [
       "plot without title"
      ]
     },
     "metadata": {
      "image/png": {
       "height": 420,
       "width": 420
      },
      "text/plain": {
       "height": 420,
       "width": 420
      }
     },
     "output_type": "display_data"
    }
   ],
   "source": [
    "p_LDSC_rg"
   ]
  },
  {
   "cell_type": "code",
   "execution_count": 36,
   "metadata": {},
   "outputs": [],
   "source": [
    "df %>% filter(p < 1e-4) %>%\n",
    "left_join(\n",
    "    GBE_names_df %>%\n",
    "    select(GBE_ID, GBE_N, GBE_short_name),\n",
    "    by='GBE_ID'\n",
    ") %>%\n",
    "left_join(\n",
    "FinnGen_df %>%\n",
    "    rename(\n",
    "        'FinnGen_name'='name',\n",
    "        'FinnGen_category'='category',\n",
    "        'FinnGen_n_cases'='n_cases',\n",
    "        'FinnGen_n_controls'='n_controls'\n",
    "    ),\n",
    "    by='phenocode'\n",
    ") %>%\n",
    "arrange(phenocode, p) %>%\n",
    "mutate(Note = '') %>%\n",
    "select(\n",
    "    phenocode, GBE_ID,\n",
    "    FinnGen_name, GBE_short_name, \n",
    "    rg, se, z, p,\n",
    "    GBE_N, FinnGen_n_cases, FinnGen_n_controls, FinnGen_category,\n",
    "    h2_obs, h2_obs_se, h2_int, h2_int_se, gcov_int, gcov_int_se,\n",
    "    Note\n",
    ") -> annot_df\n"
   ]
  },
  {
   "cell_type": "code",
   "execution_count": 37,
   "metadata": {},
   "outputs": [],
   "source": [
    "annot_df %>%\n",
    "rename('#phenocode' = 'phenocode') %>%\n",
    "fwrite(out_f, sep='\\t', na = \"NA\", quote=F)\n"
   ]
  },
  {
   "cell_type": "code",
   "execution_count": 38,
   "metadata": {},
   "outputs": [
    {
     "name": "stderr",
     "output_type": "stream",
     "text": [
      "Warning message:\n",
      "“Removed 922 rows containing non-finite values (stat_bin).”\n",
      "Warning message:\n",
      "“Removed 2 rows containing missing values (geom_bar).”\n",
      "Warning message:\n",
      "“Removed 2 rows containing missing values (geom_bar).”\n"
     ]
    }
   ],
   "source": [
    "g <- gridExtra::arrangeGrob(p_LDSC_p, p_LDSC_rg, ncol=2)\n"
   ]
  },
  {
   "cell_type": "code",
   "execution_count": 39,
   "metadata": {},
   "outputs": [],
   "source": [
    "ggsave(plot_f, g, width = 12, height=6)"
   ]
  },
  {
   "cell_type": "code",
   "execution_count": 40,
   "metadata": {},
   "outputs": [
    {
     "data": {
      "text/html": [
       "'11_LDSC_rg_dist.png'"
      ],
      "text/latex": [
       "'11\\_LDSC\\_rg\\_dist.png'"
      ],
      "text/markdown": [
       "'11_LDSC_rg_dist.png'"
      ],
      "text/plain": [
       "[1] \"11_LDSC_rg_dist.png\""
      ]
     },
     "metadata": {},
     "output_type": "display_data"
    }
   ],
   "source": [
    "plot_f"
   ]
  },
  {
   "cell_type": "code",
   "execution_count": 41,
   "metadata": {},
   "outputs": [
    {
     "data": {
      "text/html": [
       "'/oak/stanford/groups/mrivas/public_data/summary_stats/finngen_r3/UKB_WB_rg.20200722-093650.filtered.tsv'"
      ],
      "text/latex": [
       "'/oak/stanford/groups/mrivas/public\\_data/summary\\_stats/finngen\\_r3/UKB\\_WB\\_rg.20200722-093650.filtered.tsv'"
      ],
      "text/markdown": [
       "'/oak/stanford/groups/mrivas/public_data/summary_stats/finngen_r3/UKB_WB_rg.20200722-093650.filtered.tsv'"
      ],
      "text/plain": [
       "[1] \"/oak/stanford/groups/mrivas/public_data/summary_stats/finngen_r3/UKB_WB_rg.20200722-093650.filtered.tsv\""
      ]
     },
     "metadata": {},
     "output_type": "display_data"
    }
   ],
   "source": [
    "out_f"
   ]
  },
  {
   "cell_type": "code",
   "execution_count": 42,
   "metadata": {},
   "outputs": [
    {
     "data": {
      "text/html": [
       "'gdrive upload -p 1iyIXAk3woYnYPqCLuKmS86j31g4tB9rA /oak/stanford/groups/mrivas/public_data/summary_stats/finngen_r3/UKB_WB_rg.20200722-093650.filtered.tsv'"
      ],
      "text/latex": [
       "'gdrive upload -p 1iyIXAk3woYnYPqCLuKmS86j31g4tB9rA /oak/stanford/groups/mrivas/public\\_data/summary\\_stats/finngen\\_r3/UKB\\_WB\\_rg.20200722-093650.filtered.tsv'"
      ],
      "text/markdown": [
       "'gdrive upload -p 1iyIXAk3woYnYPqCLuKmS86j31g4tB9rA /oak/stanford/groups/mrivas/public_data/summary_stats/finngen_r3/UKB_WB_rg.20200722-093650.filtered.tsv'"
      ],
      "text/plain": [
       "[1] \"gdrive upload -p 1iyIXAk3woYnYPqCLuKmS86j31g4tB9rA /oak/stanford/groups/mrivas/public_data/summary_stats/finngen_r3/UKB_WB_rg.20200722-093650.filtered.tsv\""
      ]
     },
     "metadata": {},
     "output_type": "display_data"
    }
   ],
   "source": [
    "sprintf('gdrive upload -p 1iyIXAk3woYnYPqCLuKmS86j31g4tB9rA %s', out_f)"
   ]
  },
  {
   "cell_type": "code",
   "execution_count": null,
   "metadata": {},
   "outputs": [],
   "source": []
  }
 ],
 "metadata": {
  "kernelspec": {
   "display_name": "R",
   "language": "R",
   "name": "ir"
  },
  "language_info": {
   "codemirror_mode": "r",
   "file_extension": ".r",
   "mimetype": "text/x-r-source",
   "name": "R",
   "pygments_lexer": "r",
   "version": "3.6.2"
  }
 },
 "nbformat": 4,
 "nbformat_minor": 4
}
