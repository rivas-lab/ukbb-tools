{
 "cells": [
  {
   "cell_type": "code",
   "execution_count": 1,
   "metadata": {},
   "outputs": [],
   "source": [
    "suppressWarnings(suppressPackageStartupMessages({\n",
    "    library(tidyverse)\n",
    "    library(data.table)\n",
    "}))\n"
   ]
  },
  {
   "cell_type": "code",
   "execution_count": 5,
   "metadata": {},
   "outputs": [
    {
     "name": "stderr",
     "output_type": "stream",
     "text": [
      "Auto-refreshing stale OAuth token.\n",
      "\n",
      "Sheet-identifying info appears to be a browser URL.\n",
      "googlesheets will attempt to extract sheet key from the URL.\n",
      "\n",
      "Putative key: 1gwzS0SVZBSKkkHgsoqB5vHo5JpUeYYz8PK2RWrHEq3A\n",
      "\n",
      "Warning message:\n",
      "“`data_frame()` is deprecated as of tibble 1.1.0.\n",
      "Please use `tibble()` instead.\n",
      "\u001b[90mThis warning is displayed once every 8 hours.\u001b[39m\n",
      "\u001b[90mCall `lifecycle::last_warnings()` to see where this warning was generated.\u001b[39m”\n",
      "Sheet successfully identified: \"GBE_names\"\n",
      "\n",
      "Warning message:\n",
      "“`as_data_frame()` is deprecated as of tibble 2.0.0.\n",
      "Please use `as_tibble()` instead.\n",
      "The signature and semantics have changed, see `?as_tibble`.\n",
      "\u001b[90mThis warning is displayed once every 8 hours.\u001b[39m\n",
      "\u001b[90mCall `lifecycle::last_warnings()` to see where this warning was generated.\u001b[39m”\n",
      "Accessing worksheet titled 'GBE_names'.\n",
      "\n"
     ]
    }
   ],
   "source": [
    "library(googlesheets)\n",
    "gs_token <- \"/home/users/ytanigaw/.googlesheets_token.rds\"\n",
    "gs_auth(token = gs_token)\n",
    "\n",
    "'https://docs.google.com/spreadsheets/d/1gwzS0SVZBSKkkHgsoqB5vHo5JpUeYYz8PK2RWrHEq3A' %>%\n",
    "gs_url() %>% \n",
    "gs_read(\n",
    "    ws = 'GBE_names',\n",
    "    col_types = cols('Units_of_measurement' = col_character())\n",
    ") %>%\n",
    "select(-GBE_short_name_len) -> GBE_names_df\n"
   ]
  },
  {
   "cell_type": "code",
   "execution_count": 97,
   "metadata": {},
   "outputs": [],
   "source": [
    "# input\n",
    "LDSC_rg_f <- '/oak/stanford/groups/mrivas/public_data/summary_stats/finngen_r3/UKB_WB_rg.20200711-171504.tsv.gz'\n",
    "FinnGen_annot_f <- '/scratch/groups/mrivas/public_data/summary_stats/finngen_r3/summary_stats/r3_manifest.tsv'\n",
    "\n",
    "# output\n",
    "out_f <- '/oak/stanford/groups/mrivas/public_data/summary_stats/finngen_r3/UKB_WB_rg.20200711-171504.filtered.tsv'\n",
    "plot_f <- '11_LDSC_rg_dist.png'\n"
   ]
  },
  {
   "cell_type": "code",
   "execution_count": 10,
   "metadata": {},
   "outputs": [],
   "source": [
    "FinnGen_annot_f %>%\n",
    "fread() %>%\n",
    "select(-path_bucket, -path_https) -> FinnGen_df\n"
   ]
  },
  {
   "cell_type": "code",
   "execution_count": 16,
   "metadata": {},
   "outputs": [],
   "source": [
    "LDSC_rg_f %>%\n",
    "fread() %>%\n",
    "rename('p1'='#p1') %>%\n",
    "rename('phenocode'='p1', 'GBE_ID'='p2') %>%\n",
    "drop_na(rg) -> df\n"
   ]
  },
  {
   "cell_type": "code",
   "execution_count": 49,
   "metadata": {},
   "outputs": [],
   "source": [
    "p_LDSC_p <- df %>%\n",
    "ggplot(aes(x=-log10(p))) +\n",
    "geom_vline(xintercept=-log10(5e-2), color='red')+\n",
    "geom_vline(xintercept=-log10(1e-4), color='red')+\n",
    "geom_histogram(bins=30) +\n",
    "theme_bw() +\n",
    "xlim(0, 10) +\n",
    "labs(\n",
    "    title=latex2exp::TeX('$-\\\\log_{10}(p)$ from LDSC rg'),\n",
    "    x=latex2exp::TeX('$-\\\\log_{10}(p)$')\n",
    ")\n"
   ]
  },
  {
   "cell_type": "code",
   "execution_count": 50,
   "metadata": {},
   "outputs": [
    {
     "name": "stderr",
     "output_type": "stream",
     "text": [
      "Warning message:\n",
      "“Removed 479 rows containing non-finite values (stat_bin).”\n",
      "Warning message:\n",
      "“Removed 2 rows containing missing values (geom_bar).”\n"
     ]
    },
    {
     "data": {
      "image/png": "[encoded data removed]",
      "text/plain": [
       "plot without title"
      ]
     },
     "metadata": {
      "image/png": {
       "height": 420,
       "width": 420
      },
      "text/plain": {
       "height": 420,
       "width": 420
      }
     },
     "output_type": "display_data"
    }
   ],
   "source": [
    "p_LDSC_p"
   ]
  },
  {
   "cell_type": "code",
   "execution_count": 46,
   "metadata": {},
   "outputs": [
    {
     "name": "stdout",
     "output_type": "stream",
     "text": [
      "[1] 566318     12\n",
      "[1] 32962    12\n",
      "[1] 3597   12\n"
     ]
    }
   ],
   "source": [
    "df %>% dim() %>% print()\n",
    "df %>% filter(p < 5e-2) %>% dim() %>% print()\n",
    "df %>% filter(p < 1e-4) %>% dim() %>% print()\n"
   ]
  },
  {
   "cell_type": "code",
   "execution_count": 54,
   "metadata": {},
   "outputs": [
    {
     "data": {
      "text/html": [
       "537"
      ],
      "text/latex": [
       "537"
      ],
      "text/markdown": [
       "537"
      ],
      "text/plain": [
       "[1] 537"
      ]
     },
     "metadata": {},
     "output_type": "display_data"
    },
    {
     "data": {
      "text/html": [
       "312"
      ],
      "text/latex": [
       "312"
      ],
      "text/markdown": [
       "312"
      ],
      "text/plain": [
       "[1] 312"
      ]
     },
     "metadata": {},
     "output_type": "display_data"
    }
   ],
   "source": [
    "df %>% filter(p < 1e-2) %>% pull(phenocode) %>% unique() %>% length()\n",
    "df %>% filter(p < 1e-2) %>% pull(GBE_ID) %>% unique() %>% length()"
   ]
  },
  {
   "cell_type": "code",
   "execution_count": 53,
   "metadata": {},
   "outputs": [
    {
     "data": {
      "text/html": [
       "282"
      ],
      "text/latex": [
       "282"
      ],
      "text/markdown": [
       "282"
      ],
      "text/plain": [
       "[1] 282"
      ]
     },
     "metadata": {},
     "output_type": "display_data"
    },
    {
     "data": {
      "text/html": [
       "158"
      ],
      "text/latex": [
       "158"
      ],
      "text/markdown": [
       "158"
      ],
      "text/plain": [
       "[1] 158"
      ]
     },
     "metadata": {},
     "output_type": "display_data"
    }
   ],
   "source": [
    "df %>% filter(p < 1e-4) %>% pull(phenocode) %>% unique() %>% length()\n",
    "df %>% filter(p < 1e-4) %>% pull(GBE_ID) %>% unique() %>% length()"
   ]
  },
  {
   "cell_type": "code",
   "execution_count": 63,
   "metadata": {},
   "outputs": [
    {
     "data": {
      "text/html": [
       "1.5064"
      ],
      "text/latex": [
       "1.5064"
      ],
      "text/markdown": [
       "1.5064"
      ],
      "text/plain": [
       "[1] 1.5064"
      ]
     },
     "metadata": {},
     "output_type": "display_data"
    }
   ],
   "source": [
    "df %>% filter(p < 1e-4) %>% pull(rg) %>% abs() %>% max()"
   ]
  },
  {
   "cell_type": "code",
   "execution_count": 72,
   "metadata": {},
   "outputs": [],
   "source": [
    "p_LDSC_rg <- df %>% filter(p < 1e-4) %>%\n",
    "ggplot(aes(x=abs(rg))) +\n",
    "# geom_vline(xintercept=-log10(0.05), color='red')+\n",
    "geom_histogram(bins=30) +\n",
    "theme_bw() +\n",
    "xlim(0, 1.6) +\n",
    "labs(\n",
    "    title=latex2exp::TeX('Distribution of the estimated LDSC rg ($p < 10^{-4}$)'),\n",
    "    x='abs(rg)'\n",
    ")\n"
   ]
  },
  {
   "cell_type": "code",
   "execution_count": 73,
   "metadata": {},
   "outputs": [
    {
     "name": "stderr",
     "output_type": "stream",
     "text": [
      "Warning message:\n",
      "“Removed 2 rows containing missing values (geom_bar).”\n"
     ]
    },
    {
     "data": {
      "image/png": "[encoded data removed]",
      "text/plain": [
       "plot without title"
      ]
     },
     "metadata": {
      "image/png": {
       "height": 420,
       "width": 420
      },
      "text/plain": {
       "height": 420,
       "width": 420
      }
     },
     "output_type": "display_data"
    }
   ],
   "source": [
    "p_LDSC_rg"
   ]
  },
  {
   "cell_type": "code",
   "execution_count": 93,
   "metadata": {},
   "outputs": [],
   "source": [
    "df %>% filter(p < 1e-4) %>%\n",
    "left_join(\n",
    "    GBE_names_df %>%\n",
    "    select(GBE_ID, GBE_N, GBE_short_name),\n",
    "    by='GBE_ID'\n",
    ") %>%\n",
    "left_join(\n",
    "FinnGen_df %>%\n",
    "    rename(\n",
    "        'FinnGen_name'='name',\n",
    "        'FinnGen_category'='category',\n",
    "        'FinnGen_n_cases'='n_cases',\n",
    "        'FinnGen_n_controls'='n_controls'\n",
    "    ),\n",
    "    by='phenocode'\n",
    ") %>%\n",
    "arrange(phenocode, p) %>%\n",
    "mutate(Note = '') %>%\n",
    "select(\n",
    "    phenocode, GBE_ID,\n",
    "    FinnGen_name, GBE_short_name, \n",
    "    rg, se, z, p,\n",
    "    GBE_N, FinnGen_n_cases, FinnGen_n_controls, FinnGen_category,\n",
    "    h2_obs, h2_obs_se, h2_int, h2_int_se, gcov_int, gcov_int_se,\n",
    "    Note\n",
    ") -> annot_df\n"
   ]
  },
  {
   "cell_type": "code",
   "execution_count": 94,
   "metadata": {},
   "outputs": [],
   "source": [
    "annot_df %>%\n",
    "rename('#phenocode' = 'phenocode') %>%\n",
    "fwrite(out_f, sep='\\t', na = \"NA\", quote=F)\n"
   ]
  },
  {
   "cell_type": "code",
   "execution_count": 95,
   "metadata": {},
   "outputs": [
    {
     "name": "stderr",
     "output_type": "stream",
     "text": [
      "Warning message:\n",
      "“Removed 479 rows containing non-finite values (stat_bin).”\n",
      "Warning message:\n",
      "“Removed 2 rows containing missing values (geom_bar).”\n",
      "Warning message:\n",
      "“Removed 2 rows containing missing values (geom_bar).”\n"
     ]
    }
   ],
   "source": [
    "g <- gridExtra::arrangeGrob(p_LDSC_p, p_LDSC_rg, ncol=2)\n"
   ]
  },
  {
   "cell_type": "code",
   "execution_count": 98,
   "metadata": {},
   "outputs": [],
   "source": [
    "ggsave(plot_f, g, width = 12, height=6)"
   ]
  },
  {
   "cell_type": "code",
   "execution_count": 99,
   "metadata": {},
   "outputs": [
    {
     "data": {
      "text/html": [
       "'11_LDSC_rg_dist.png'"
      ],
      "text/latex": [
       "'11\\_LDSC\\_rg\\_dist.png'"
      ],
      "text/markdown": [
       "'11_LDSC_rg_dist.png'"
      ],
      "text/plain": [
       "[1] \"11_LDSC_rg_dist.png\""
      ]
     },
     "metadata": {},
     "output_type": "display_data"
    }
   ],
   "source": [
    "plot_f"
   ]
  },
  {
   "cell_type": "code",
   "execution_count": 100,
   "metadata": {},
   "outputs": [
    {
     "data": {
      "text/html": [
       "'/oak/stanford/groups/mrivas/public_data/summary_stats/finngen_r3/UKB_WB_rg.20200711-171504.filtered.tsv'"
      ],
      "text/latex": [
       "'/oak/stanford/groups/mrivas/public\\_data/summary\\_stats/finngen\\_r3/UKB\\_WB\\_rg.20200711-171504.filtered.tsv'"
      ],
      "text/markdown": [
       "'/oak/stanford/groups/mrivas/public_data/summary_stats/finngen_r3/UKB_WB_rg.20200711-171504.filtered.tsv'"
      ],
      "text/plain": [
       "[1] \"/oak/stanford/groups/mrivas/public_data/summary_stats/finngen_r3/UKB_WB_rg.20200711-171504.filtered.tsv\""
      ]
     },
     "metadata": {},
     "output_type": "display_data"
    }
   ],
   "source": [
    "out_f"
   ]
  },
  {
   "cell_type": "code",
   "execution_count": 101,
   "metadata": {},
   "outputs": [
    {
     "data": {
      "text/html": [
       "'gdrive upload -p 1iyIXAk3woYnYPqCLuKmS86j31g4tB9rA /oak/stanford/groups/mrivas/public_data/summary_stats/finngen_r3/UKB_WB_rg.20200711-171504.filtered.tsv'"
      ],
      "text/latex": [
       "'gdrive upload -p 1iyIXAk3woYnYPqCLuKmS86j31g4tB9rA /oak/stanford/groups/mrivas/public\\_data/summary\\_stats/finngen\\_r3/UKB\\_WB\\_rg.20200711-171504.filtered.tsv'"
      ],
      "text/markdown": [
       "'gdrive upload -p 1iyIXAk3woYnYPqCLuKmS86j31g4tB9rA /oak/stanford/groups/mrivas/public_data/summary_stats/finngen_r3/UKB_WB_rg.20200711-171504.filtered.tsv'"
      ],
      "text/plain": [
       "[1] \"gdrive upload -p 1iyIXAk3woYnYPqCLuKmS86j31g4tB9rA /oak/stanford/groups/mrivas/public_data/summary_stats/finngen_r3/UKB_WB_rg.20200711-171504.filtered.tsv\""
      ]
     },
     "metadata": {},
     "output_type": "display_data"
    }
   ],
   "source": [
    "sprintf('gdrive upload -p 1iyIXAk3woYnYPqCLuKmS86j31g4tB9rA %s', out_f)"
   ]
  },
  {
   "cell_type": "code",
   "execution_count": null,
   "metadata": {},
   "outputs": [],
   "source": []
  }
 ],
 "metadata": {
  "kernelspec": {
   "display_name": "R",
   "language": "R",
   "name": "ir"
  },
  "language_info": {
   "codemirror_mode": "r",
   "file_extension": ".r",
   "mimetype": "text/x-r-source",
   "name": "R",
   "pygments_lexer": "r",
   "version": "3.6.2"
  }
 },
 "nbformat": 4,
 "nbformat_minor": 4
}
