{
 "cells": [
  {
   "cell_type": "code",
   "execution_count": 1,
   "metadata": {},
   "outputs": [],
   "source": [
    "suppressWarnings(suppressPackageStartupMessages({\n",
    "    library(tidyverse)\n",
    "    library(data.table)\n",
    "}))\n"
   ]
  },
  {
   "cell_type": "markdown",
   "metadata": {},
   "source": [
    "```{bash}\n",
    "$ zcat firth-default/ukb24983_v2_hg19.HC382.log.gz | python plink2_runtime_seconds.py /dev/stdin\n",
    "174119\n",
    "\n",
    "$ zcat firth-residualize/ukb24983_v2_hg19.HC382.log.gz | python plink2_runtime_seconds.py /dev/stdin\n",
    "57722\n",
    "\n",
    "$ zcat cc-residualize/ukb24983_v2_hg19.HC382.log.gz | python plink2_runtime_seconds.py /dev/stdin\n",
    "26047\n",
    "```\n"
   ]
  },
  {
   "cell_type": "code",
   "execution_count": 167,
   "metadata": {},
   "outputs": [],
   "source": [
    "timing_df <- data.frame(\n",
    "    method = c(\n",
    "        'firth-fallback (default)',\n",
    "        'w/ firth-residualize',\n",
    "        'w/ firth-residualize cc-residualize'\n",
    "    ),\n",
    "    time = c(\n",
    "        174119,\n",
    "        57722,\n",
    "        26047\n",
    "    )\n",
    ")"
   ]
  },
  {
   "cell_type": "code",
   "execution_count": 202,
   "metadata": {},
   "outputs": [],
   "source": [
    "p0_timing <- timing_df %>%\n",
    "ggplot(aes(x = reorder(as.factor(method), time), y = (2 * time / 3600))) +\n",
    "geom_bar(stat=\"identity\") +\n",
    "geom_text(aes(label=round(2 * time / 3600, 1)), hjust = 1.1, vjust=1.8, color=\"white\", size=5)+\n",
    "coord_flip() +\n",
    "theme_bw() +\n",
    "labs(\n",
    "    title='Runtime comparison of Firth logistic regression with plink2',\n",
    "    y = 'Total run time [hours] (single-thread)',\n",
    "    x = 'plink2 --glm modifier'\n",
    ")"
   ]
  },
  {
   "cell_type": "code",
   "execution_count": 203,
   "metadata": {},
   "outputs": [
    {
     "data": {
      "image/png": "[encoded data removed]",
      "text/plain": [
       "plot without title"
      ]
     },
     "metadata": {
      "image/png": {
       "height": 180,
       "width": 600
      },
      "text/plain": {
       "height": 180,
       "width": 600
      }
     },
     "output_type": "display_data"
    }
   ],
   "source": [
    "options(repr.plot.width=10, repr.plot.height=3)\n",
    "p0_timing"
   ]
  },
  {
   "cell_type": "code",
   "execution_count": 204,
   "metadata": {},
   "outputs": [],
   "source": [
    "ggsave(\n",
    "    'p0.time.png',\n",
    "    p0_timing,\n",
    "    width=10, height=3\n",
    ")"
   ]
  },
  {
   "cell_type": "code",
   "execution_count": 70,
   "metadata": {},
   "outputs": [],
   "source": [
    "# input files\n",
    "\n",
    "in_f1 <- 'firth-default/ukb24983_v2_hg19.HC382.glm.logistic.hybrid.gz'\n",
    "in_f2 <- 'cc-residualize/ukb24983_v2_hg19.HC382.glm.logistic.hybrid.gz'\n"
   ]
  },
  {
   "cell_type": "code",
   "execution_count": 71,
   "metadata": {},
   "outputs": [],
   "source": [
    "read_logit <- function(in_f){\n",
    "    # read the logit output files\n",
    "    in_f %>%\n",
    "    fread() %>%\n",
    "    rename('CHROM'='#CHROM') %>%\n",
    "    mutate(BETA = log(OR), log10P=-log10(P))\n",
    "}\n"
   ]
  },
  {
   "cell_type": "markdown",
   "metadata": {},
   "source": [
    "## read summary statistics files\n"
   ]
  },
  {
   "cell_type": "code",
   "execution_count": 72,
   "metadata": {},
   "outputs": [],
   "source": [
    "in_f1 %>% read_logit() -> df1\n",
    "in_f2 %>% read_logit() -> df2\n"
   ]
  },
  {
   "cell_type": "markdown",
   "metadata": {},
   "source": [
    "## check the error code\n",
    "\n",
    "The two runs may have different sets of unfinished variants\n"
   ]
  },
  {
   "cell_type": "code",
   "execution_count": 114,
   "metadata": {},
   "outputs": [
    {
     "data": {
      "text/html": [
       "<table>\n",
       "<caption>A data.table: 2 × 2</caption>\n",
       "<thead>\n",
       "\t<tr><th scope=col>ERRCODE == \".\"</th><th scope=col>n</th></tr>\n",
       "\t<tr><th scope=col>&lt;lgl&gt;</th><th scope=col>&lt;int&gt;</th></tr>\n",
       "</thead>\n",
       "<tbody>\n",
       "\t<tr><td>FALSE</td><td> 84574</td></tr>\n",
       "\t<tr><td> TRUE</td><td>996394</td></tr>\n",
       "</tbody>\n",
       "</table>\n"
      ],
      "text/latex": [
       "A data.table: 2 × 2\n",
       "\\begin{tabular}{ll}\n",
       " ERRCODE == \".\" & n\\\\\n",
       " <lgl> & <int>\\\\\n",
       "\\hline\n",
       "\t FALSE &  84574\\\\\n",
       "\t  TRUE & 996394\\\\\n",
       "\\end{tabular}\n"
      ],
      "text/markdown": [
       "\n",
       "A data.table: 2 × 2\n",
       "\n",
       "| ERRCODE == \".\" &lt;lgl&gt; | n &lt;int&gt; |\n",
       "|---|---|\n",
       "| FALSE |  84574 |\n",
       "|  TRUE | 996394 |\n",
       "\n"
      ],
      "text/plain": [
       "  ERRCODE == \".\" n     \n",
       "1 FALSE           84574\n",
       "2  TRUE          996394"
      ]
     },
     "metadata": {},
     "output_type": "display_data"
    }
   ],
   "source": [
    "df1 %>% count(ERRCODE=='.')\n"
   ]
  },
  {
   "cell_type": "code",
   "execution_count": 113,
   "metadata": {},
   "outputs": [
    {
     "data": {
      "text/html": [
       "<table>\n",
       "<caption>A data.table: 2 × 2</caption>\n",
       "<thead>\n",
       "\t<tr><th scope=col>ERRCODE == \".\"</th><th scope=col>n</th></tr>\n",
       "\t<tr><th scope=col>&lt;lgl&gt;</th><th scope=col>&lt;int&gt;</th></tr>\n",
       "</thead>\n",
       "<tbody>\n",
       "\t<tr><td>FALSE</td><td> 82716</td></tr>\n",
       "\t<tr><td> TRUE</td><td>998252</td></tr>\n",
       "</tbody>\n",
       "</table>\n"
      ],
      "text/latex": [
       "A data.table: 2 × 2\n",
       "\\begin{tabular}{ll}\n",
       " ERRCODE == \".\" & n\\\\\n",
       " <lgl> & <int>\\\\\n",
       "\\hline\n",
       "\t FALSE &  82716\\\\\n",
       "\t  TRUE & 998252\\\\\n",
       "\\end{tabular}\n"
      ],
      "text/markdown": [
       "\n",
       "A data.table: 2 × 2\n",
       "\n",
       "| ERRCODE == \".\" &lt;lgl&gt; | n &lt;int&gt; |\n",
       "|---|---|\n",
       "| FALSE |  82716 |\n",
       "|  TRUE | 998252 |\n",
       "\n"
      ],
      "text/plain": [
       "  ERRCODE == \".\" n     \n",
       "1 FALSE           82716\n",
       "2  TRUE          998252"
      ]
     },
     "metadata": {},
     "output_type": "display_data"
    }
   ],
   "source": [
    "df2 %>% count(ERRCODE=='.')"
   ]
  },
  {
   "cell_type": "markdown",
   "metadata": {},
   "source": [
    "## Join the two summary statistics into one data frame"
   ]
  },
  {
   "cell_type": "code",
   "execution_count": 94,
   "metadata": {},
   "outputs": [],
   "source": [
    "inner_join(\n",
    "    df1 %>% \n",
    "    select(ID, BETA, log10P, `LOG(OR)_SE`, `FIRTH?`, ERRCODE) %>%\n",
    "    rename('BETA_1' = 'BETA', 'log10P_1'='log10P', 'SE_1'='LOG(OR)_SE', 'FIRTH_1'='FIRTH?', 'ERRCODE_1'='ERRCODE'),\n",
    "    \n",
    "    df2 %>% \n",
    "    select(ID, BETA, log10P, `LOG(OR)_SE`, `FIRTH?`, ERRCODE) %>%\n",
    "    rename('BETA_2' = 'BETA', 'log10P_2'='log10P', 'SE_2'='LOG(OR)_SE', 'FIRTH_2'='FIRTH?', 'ERRCODE_2'='ERRCODE'),\n",
    "    \n",
    "    by='ID'\n",
    "    \n",
    ") %>%\n",
    "mutate(\n",
    "    is_sig_1 = (log10P_1 > -log10(5e-8)),\n",
    "    is_sig_2 = (log10P_2 > -log10(5e-8))\n",
    ") -> df\n"
   ]
  },
  {
   "cell_type": "markdown",
   "metadata": {},
   "source": [
    "## check the error codes"
   ]
  },
  {
   "cell_type": "code",
   "execution_count": 117,
   "metadata": {},
   "outputs": [
    {
     "data": {
      "text/html": [
       "<table>\n",
       "<caption>A data.table: 2 × 2</caption>\n",
       "<thead>\n",
       "\t<tr><th scope=col>ERRCODE_1 == ERRCODE_2</th><th scope=col>n</th></tr>\n",
       "\t<tr><th scope=col>&lt;lgl&gt;</th><th scope=col>&lt;int&gt;</th></tr>\n",
       "</thead>\n",
       "<tbody>\n",
       "\t<tr><td>FALSE</td><td>   4805</td></tr>\n",
       "\t<tr><td> TRUE</td><td>1076163</td></tr>\n",
       "</tbody>\n",
       "</table>\n"
      ],
      "text/latex": [
       "A data.table: 2 × 2\n",
       "\\begin{tabular}{ll}\n",
       " ERRCODE\\_1 == ERRCODE\\_2 & n\\\\\n",
       " <lgl> & <int>\\\\\n",
       "\\hline\n",
       "\t FALSE &    4805\\\\\n",
       "\t  TRUE & 1076163\\\\\n",
       "\\end{tabular}\n"
      ],
      "text/markdown": [
       "\n",
       "A data.table: 2 × 2\n",
       "\n",
       "| ERRCODE_1 == ERRCODE_2 &lt;lgl&gt; | n &lt;int&gt; |\n",
       "|---|---|\n",
       "| FALSE |    4805 |\n",
       "|  TRUE | 1076163 |\n",
       "\n"
      ],
      "text/plain": [
       "  ERRCODE_1 == ERRCODE_2 n      \n",
       "1 FALSE                     4805\n",
       "2  TRUE                  1076163"
      ]
     },
     "metadata": {},
     "output_type": "display_data"
    }
   ],
   "source": [
    "df %>%\n",
    "count(ERRCODE_1 == ERRCODE_2)\n"
   ]
  },
  {
   "cell_type": "code",
   "execution_count": 95,
   "metadata": {},
   "outputs": [
    {
     "data": {
      "text/html": [
       "<table>\n",
       "<caption>A data.table: 4 × 3</caption>\n",
       "<thead>\n",
       "\t<tr><th scope=col>ERRCODE_1</th><th scope=col>ERRCODE_2</th><th scope=col>n</th></tr>\n",
       "\t<tr><th scope=col>&lt;chr&gt;</th><th scope=col>&lt;chr&gt;</th><th scope=col>&lt;int&gt;</th></tr>\n",
       "</thead>\n",
       "<tbody>\n",
       "\t<tr><td>UNFINISHED         </td><td>.         </td><td>3036</td></tr>\n",
       "\t<tr><td>.                  </td><td>UNFINISHED</td><td>1473</td></tr>\n",
       "\t<tr><td>FIRTH_CONVERGE_FAIL</td><td>.         </td><td> 295</td></tr>\n",
       "\t<tr><td>FIRTH_CONVERGE_FAIL</td><td>UNFINISHED</td><td>   1</td></tr>\n",
       "</tbody>\n",
       "</table>\n"
      ],
      "text/latex": [
       "A data.table: 4 × 3\n",
       "\\begin{tabular}{lll}\n",
       " ERRCODE\\_1 & ERRCODE\\_2 & n\\\\\n",
       " <chr> & <chr> & <int>\\\\\n",
       "\\hline\n",
       "\t UNFINISHED          & .          & 3036\\\\\n",
       "\t .                   & UNFINISHED & 1473\\\\\n",
       "\t FIRTH\\_CONVERGE\\_FAIL & .          &  295\\\\\n",
       "\t FIRTH\\_CONVERGE\\_FAIL & UNFINISHED &    1\\\\\n",
       "\\end{tabular}\n"
      ],
      "text/markdown": [
       "\n",
       "A data.table: 4 × 3\n",
       "\n",
       "| ERRCODE_1 &lt;chr&gt; | ERRCODE_2 &lt;chr&gt; | n &lt;int&gt; |\n",
       "|---|---|---|\n",
       "| UNFINISHED          | .          | 3036 |\n",
       "| .                   | UNFINISHED | 1473 |\n",
       "| FIRTH_CONVERGE_FAIL | .          |  295 |\n",
       "| FIRTH_CONVERGE_FAIL | UNFINISHED |    1 |\n",
       "\n"
      ],
      "text/plain": [
       "  ERRCODE_1           ERRCODE_2  n   \n",
       "1 UNFINISHED          .          3036\n",
       "2 .                   UNFINISHED 1473\n",
       "3 FIRTH_CONVERGE_FAIL .           295\n",
       "4 FIRTH_CONVERGE_FAIL UNFINISHED    1"
      ]
     },
     "metadata": {},
     "output_type": "display_data"
    }
   ],
   "source": [
    "df %>%\n",
    "filter(ERRCODE_1 != ERRCODE_2) %>%\n",
    "count(ERRCODE_1, ERRCODE_2) %>%\n",
    "arrange(-n)\n"
   ]
  },
  {
   "cell_type": "markdown",
   "metadata": {},
   "source": [
    "## Error code and `Firth?` status\n",
    "\n",
    "`firth-residualize` and `cc-residualize` are the options for Firth and non-Firth regression runs.\n",
    "Let's see how the counts look like.\n"
   ]
  },
  {
   "cell_type": "code",
   "execution_count": 100,
   "metadata": {},
   "outputs": [
    {
     "data": {
      "text/html": [
       "<table>\n",
       "<caption>A data.table: 9 × 5</caption>\n",
       "<thead>\n",
       "\t<tr><th scope=col>FIRTH_1</th><th scope=col>FIRTH_2</th><th scope=col>ERRCODE_1</th><th scope=col>ERRCODE_2</th><th scope=col>n</th></tr>\n",
       "\t<tr><th scope=col>&lt;chr&gt;</th><th scope=col>&lt;chr&gt;</th><th scope=col>&lt;chr&gt;</th><th scope=col>&lt;chr&gt;</th><th scope=col>&lt;int&gt;</th></tr>\n",
       "</thead>\n",
       "<tbody>\n",
       "\t<tr><td>N</td><td>N</td><td>.                  </td><td>.         </td><td>807622</td></tr>\n",
       "\t<tr><td>Y</td><td>Y</td><td>.                  </td><td>.         </td><td>186922</td></tr>\n",
       "\t<tr><td>Y</td><td>Y</td><td>UNFINISHED         </td><td>.         </td><td>  3027</td></tr>\n",
       "\t<tr><td>Y</td><td>Y</td><td>.                  </td><td>UNFINISHED</td><td>  1464</td></tr>\n",
       "\t<tr><td>N</td><td>Y</td><td>.                  </td><td>.         </td><td>   377</td></tr>\n",
       "\t<tr><td>Y</td><td>N</td><td>FIRTH_CONVERGE_FAIL</td><td>.         </td><td>   203</td></tr>\n",
       "\t<tr><td>Y</td><td>Y</td><td>FIRTH_CONVERGE_FAIL</td><td>.         </td><td>    92</td></tr>\n",
       "\t<tr><td>N</td><td>N</td><td>UNFINISHED         </td><td>.         </td><td>     9</td></tr>\n",
       "\t<tr><td>N</td><td>Y</td><td>.                  </td><td>UNFINISHED</td><td>     9</td></tr>\n",
       "</tbody>\n",
       "</table>\n"
      ],
      "text/latex": [
       "A data.table: 9 × 5\n",
       "\\begin{tabular}{lllll}\n",
       " FIRTH\\_1 & FIRTH\\_2 & ERRCODE\\_1 & ERRCODE\\_2 & n\\\\\n",
       " <chr> & <chr> & <chr> & <chr> & <int>\\\\\n",
       "\\hline\n",
       "\t N & N & .                   & .          & 807622\\\\\n",
       "\t Y & Y & .                   & .          & 186922\\\\\n",
       "\t Y & Y & UNFINISHED          & .          &   3027\\\\\n",
       "\t Y & Y & .                   & UNFINISHED &   1464\\\\\n",
       "\t N & Y & .                   & .          &    377\\\\\n",
       "\t Y & N & FIRTH\\_CONVERGE\\_FAIL & .          &    203\\\\\n",
       "\t Y & Y & FIRTH\\_CONVERGE\\_FAIL & .          &     92\\\\\n",
       "\t N & N & UNFINISHED          & .          &      9\\\\\n",
       "\t N & Y & .                   & UNFINISHED &      9\\\\\n",
       "\\end{tabular}\n"
      ],
      "text/markdown": [
       "\n",
       "A data.table: 9 × 5\n",
       "\n",
       "| FIRTH_1 &lt;chr&gt; | FIRTH_2 &lt;chr&gt; | ERRCODE_1 &lt;chr&gt; | ERRCODE_2 &lt;chr&gt; | n &lt;int&gt; |\n",
       "|---|---|---|---|---|\n",
       "| N | N | .                   | .          | 807622 |\n",
       "| Y | Y | .                   | .          | 186922 |\n",
       "| Y | Y | UNFINISHED          | .          |   3027 |\n",
       "| Y | Y | .                   | UNFINISHED |   1464 |\n",
       "| N | Y | .                   | .          |    377 |\n",
       "| Y | N | FIRTH_CONVERGE_FAIL | .          |    203 |\n",
       "| Y | Y | FIRTH_CONVERGE_FAIL | .          |     92 |\n",
       "| N | N | UNFINISHED          | .          |      9 |\n",
       "| N | Y | .                   | UNFINISHED |      9 |\n",
       "\n"
      ],
      "text/plain": [
       "  FIRTH_1 FIRTH_2 ERRCODE_1           ERRCODE_2  n     \n",
       "1 N       N       .                   .          807622\n",
       "2 Y       Y       .                   .          186922\n",
       "3 Y       Y       UNFINISHED          .            3027\n",
       "4 Y       Y       .                   UNFINISHED   1464\n",
       "5 N       Y       .                   .             377\n",
       "6 Y       N       FIRTH_CONVERGE_FAIL .             203\n",
       "7 Y       Y       FIRTH_CONVERGE_FAIL .              92\n",
       "8 N       N       UNFINISHED          .               9\n",
       "9 N       Y       .                   UNFINISHED      9"
      ]
     },
     "metadata": {},
     "output_type": "display_data"
    }
   ],
   "source": [
    "df %>%\n",
    "filter(ERRCODE_1 == '.' | ERRCODE_2 == '.') %>%\n",
    "count(FIRTH_1, FIRTH_2, ERRCODE_1, ERRCODE_2) %>%\n",
    "arrange(-n)\n"
   ]
  },
  {
   "cell_type": "markdown",
   "metadata": {},
   "source": [
    "## Check whether we identify the same set of significant (p < 5e-8) associations"
   ]
  },
  {
   "cell_type": "code",
   "execution_count": 103,
   "metadata": {},
   "outputs": [
    {
     "data": {
      "text/html": [
       "<table>\n",
       "<caption>A data.table: 7 × 5</caption>\n",
       "<thead>\n",
       "\t<tr><th scope=col>is_sig_1</th><th scope=col>is_sig_2</th><th scope=col>ERRCODE_1</th><th scope=col>ERRCODE_2</th><th scope=col>n</th></tr>\n",
       "\t<tr><th scope=col>&lt;lgl&gt;</th><th scope=col>&lt;lgl&gt;</th><th scope=col>&lt;chr&gt;</th><th scope=col>&lt;chr&gt;</th><th scope=col>&lt;int&gt;</th></tr>\n",
       "</thead>\n",
       "<tbody>\n",
       "\t<tr><td>FALSE</td><td>FALSE</td><td>.                  </td><td>.         </td><td>992999</td></tr>\n",
       "\t<tr><td>FALSE</td><td>FALSE</td><td>UNFINISHED         </td><td>.         </td><td>  3036</td></tr>\n",
       "\t<tr><td> TRUE</td><td> TRUE</td><td>.                  </td><td>.         </td><td>  1914</td></tr>\n",
       "\t<tr><td>FALSE</td><td>FALSE</td><td>.                  </td><td>UNFINISHED</td><td>  1472</td></tr>\n",
       "\t<tr><td>   NA</td><td>FALSE</td><td>FIRTH_CONVERGE_FAIL</td><td>.         </td><td>   295</td></tr>\n",
       "\t<tr><td> TRUE</td><td>FALSE</td><td>.                  </td><td>.         </td><td>     8</td></tr>\n",
       "\t<tr><td>FALSE</td><td> TRUE</td><td>.                  </td><td>UNFINISHED</td><td>     1</td></tr>\n",
       "</tbody>\n",
       "</table>\n"
      ],
      "text/latex": [
       "A data.table: 7 × 5\n",
       "\\begin{tabular}{lllll}\n",
       " is\\_sig\\_1 & is\\_sig\\_2 & ERRCODE\\_1 & ERRCODE\\_2 & n\\\\\n",
       " <lgl> & <lgl> & <chr> & <chr> & <int>\\\\\n",
       "\\hline\n",
       "\t FALSE & FALSE & .                   & .          & 992999\\\\\n",
       "\t FALSE & FALSE & UNFINISHED          & .          &   3036\\\\\n",
       "\t  TRUE &  TRUE & .                   & .          &   1914\\\\\n",
       "\t FALSE & FALSE & .                   & UNFINISHED &   1472\\\\\n",
       "\t    NA & FALSE & FIRTH\\_CONVERGE\\_FAIL & .          &    295\\\\\n",
       "\t  TRUE & FALSE & .                   & .          &      8\\\\\n",
       "\t FALSE &  TRUE & .                   & UNFINISHED &      1\\\\\n",
       "\\end{tabular}\n"
      ],
      "text/markdown": [
       "\n",
       "A data.table: 7 × 5\n",
       "\n",
       "| is_sig_1 &lt;lgl&gt; | is_sig_2 &lt;lgl&gt; | ERRCODE_1 &lt;chr&gt; | ERRCODE_2 &lt;chr&gt; | n &lt;int&gt; |\n",
       "|---|---|---|---|---|\n",
       "| FALSE | FALSE | .                   | .          | 992999 |\n",
       "| FALSE | FALSE | UNFINISHED          | .          |   3036 |\n",
       "|  TRUE |  TRUE | .                   | .          |   1914 |\n",
       "| FALSE | FALSE | .                   | UNFINISHED |   1472 |\n",
       "|    NA | FALSE | FIRTH_CONVERGE_FAIL | .          |    295 |\n",
       "|  TRUE | FALSE | .                   | .          |      8 |\n",
       "| FALSE |  TRUE | .                   | UNFINISHED |      1 |\n",
       "\n"
      ],
      "text/plain": [
       "  is_sig_1 is_sig_2 ERRCODE_1           ERRCODE_2  n     \n",
       "1 FALSE    FALSE    .                   .          992999\n",
       "2 FALSE    FALSE    UNFINISHED          .            3036\n",
       "3  TRUE     TRUE    .                   .            1914\n",
       "4 FALSE    FALSE    .                   UNFINISHED   1472\n",
       "5    NA    FALSE    FIRTH_CONVERGE_FAIL .             295\n",
       "6  TRUE    FALSE    .                   .               8\n",
       "7 FALSE     TRUE    .                   UNFINISHED      1"
      ]
     },
     "metadata": {},
     "output_type": "display_data"
    }
   ],
   "source": [
    "df %>%\n",
    "filter(ERRCODE_1 == '.' | ERRCODE_2 == '.') %>%\n",
    "count(is_sig_1, is_sig_2, ERRCODE_1, ERRCODE_2) %>%\n",
    "arrange(-n)\n"
   ]
  },
  {
   "cell_type": "markdown",
   "metadata": {},
   "source": [
    "Those two runs are mostly consistent with exception of 9 variants."
   ]
  },
  {
   "cell_type": "code",
   "execution_count": 106,
   "metadata": {},
   "outputs": [
    {
     "data": {
      "text/html": [
       "<table>\n",
       "<caption>A data.table: 9 × 13</caption>\n",
       "<thead>\n",
       "\t<tr><th scope=col>ID</th><th scope=col>BETA_1</th><th scope=col>log10P_1</th><th scope=col>SE_1</th><th scope=col>FIRTH_1</th><th scope=col>ERRCODE_1</th><th scope=col>BETA_2</th><th scope=col>log10P_2</th><th scope=col>SE_2</th><th scope=col>FIRTH_2</th><th scope=col>ERRCODE_2</th><th scope=col>is_sig_1</th><th scope=col>is_sig_2</th></tr>\n",
       "\t<tr><th scope=col>&lt;chr&gt;</th><th scope=col>&lt;dbl&gt;</th><th scope=col>&lt;dbl&gt;</th><th scope=col>&lt;dbl&gt;</th><th scope=col>&lt;chr&gt;</th><th scope=col>&lt;chr&gt;</th><th scope=col>&lt;dbl&gt;</th><th scope=col>&lt;dbl&gt;</th><th scope=col>&lt;dbl&gt;</th><th scope=col>&lt;chr&gt;</th><th scope=col>&lt;chr&gt;</th><th scope=col>&lt;lgl&gt;</th><th scope=col>&lt;lgl&gt;</th></tr>\n",
       "</thead>\n",
       "<tbody>\n",
       "\t<tr><td>rs2215942    </td><td> 0.03999926</td><td>7.304276</td><td>0.00733498</td><td>N</td><td>.</td><td>   0.03995122</td><td>7.300903</td><td> 0.00732908</td><td>N</td><td>.         </td><td> TRUE</td><td>FALSE</td></tr>\n",
       "\t<tr><td>rs9264955    </td><td> 0.06541314</td><td>7.429323</td><td>0.01188480</td><td>N</td><td>.</td><td>   0.06311563</td><td>7.174149</td><td> 0.01168910</td><td>N</td><td>.         </td><td> TRUE</td><td>FALSE</td></tr>\n",
       "\t<tr><td>rs2428499    </td><td> 0.04579521</td><td>7.441240</td><td>0.00831399</td><td>N</td><td>.</td><td>   0.04430393</td><td>7.226124</td><td> 0.00817371</td><td>N</td><td>.         </td><td> TRUE</td><td>FALSE</td></tr>\n",
       "\t<tr><td>rs9268460    </td><td> 0.04253253</td><td>7.421496</td><td>0.00773315</td><td>N</td><td>.</td><td>   0.04112275</td><td>7.202232</td><td> 0.00760042</td><td>N</td><td>.         </td><td> TRUE</td><td>FALSE</td></tr>\n",
       "\t<tr><td>rs9271413    </td><td> 0.06007859</td><td>7.329692</td><td>0.01099710</td><td>N</td><td>.</td><td>   0.05825004</td><td>7.178339</td><td> 0.01078470</td><td>N</td><td>.         </td><td> TRUE</td><td>FALSE</td></tr>\n",
       "\t<tr><td>Affx-92039945</td><td> 0.06366939</td><td>7.378185</td><td>0.01161170</td><td>N</td><td>.</td><td>   0.06108569</td><td>7.065421</td><td> 0.01140970</td><td>N</td><td>.         </td><td> TRUE</td><td>FALSE</td></tr>\n",
       "\t<tr><td>rs7969196    </td><td>-0.04310063</td><td>7.311042</td><td>0.00790045</td><td>N</td><td>.</td><td>  -0.04163587</td><td>7.089991</td><td> 0.00776173</td><td>N</td><td>.         </td><td> TRUE</td><td>FALSE</td></tr>\n",
       "\t<tr><td>rs4775297    </td><td> 0.04311696</td><td>7.409728</td><td>0.00784520</td><td>N</td><td>.</td><td>   0.04177514</td><td>7.222315</td><td> 0.00770964</td><td>N</td><td>.         </td><td> TRUE</td><td>FALSE</td></tr>\n",
       "\t<tr><td>rs80357502   </td><td>-2.40820009</td><td>1.009723</td><td>1.45451000</td><td>Y</td><td>.</td><td>-117.76101626</td><td>7.598932</td><td>21.13440000</td><td>Y</td><td>UNFINISHED</td><td>FALSE</td><td> TRUE</td></tr>\n",
       "</tbody>\n",
       "</table>\n"
      ],
      "text/latex": [
       "A data.table: 9 × 13\n",
       "\\begin{tabular}{lllllllllllll}\n",
       " ID & BETA\\_1 & log10P\\_1 & SE\\_1 & FIRTH\\_1 & ERRCODE\\_1 & BETA\\_2 & log10P\\_2 & SE\\_2 & FIRTH\\_2 & ERRCODE\\_2 & is\\_sig\\_1 & is\\_sig\\_2\\\\\n",
       " <chr> & <dbl> & <dbl> & <dbl> & <chr> & <chr> & <dbl> & <dbl> & <dbl> & <chr> & <chr> & <lgl> & <lgl>\\\\\n",
       "\\hline\n",
       "\t rs2215942     &  0.03999926 & 7.304276 & 0.00733498 & N & . &    0.03995122 & 7.300903 &  0.00732908 & N & .          &  TRUE & FALSE\\\\\n",
       "\t rs9264955     &  0.06541314 & 7.429323 & 0.01188480 & N & . &    0.06311563 & 7.174149 &  0.01168910 & N & .          &  TRUE & FALSE\\\\\n",
       "\t rs2428499     &  0.04579521 & 7.441240 & 0.00831399 & N & . &    0.04430393 & 7.226124 &  0.00817371 & N & .          &  TRUE & FALSE\\\\\n",
       "\t rs9268460     &  0.04253253 & 7.421496 & 0.00773315 & N & . &    0.04112275 & 7.202232 &  0.00760042 & N & .          &  TRUE & FALSE\\\\\n",
       "\t rs9271413     &  0.06007859 & 7.329692 & 0.01099710 & N & . &    0.05825004 & 7.178339 &  0.01078470 & N & .          &  TRUE & FALSE\\\\\n",
       "\t Affx-92039945 &  0.06366939 & 7.378185 & 0.01161170 & N & . &    0.06108569 & 7.065421 &  0.01140970 & N & .          &  TRUE & FALSE\\\\\n",
       "\t rs7969196     & -0.04310063 & 7.311042 & 0.00790045 & N & . &   -0.04163587 & 7.089991 &  0.00776173 & N & .          &  TRUE & FALSE\\\\\n",
       "\t rs4775297     &  0.04311696 & 7.409728 & 0.00784520 & N & . &    0.04177514 & 7.222315 &  0.00770964 & N & .          &  TRUE & FALSE\\\\\n",
       "\t rs80357502    & -2.40820009 & 1.009723 & 1.45451000 & Y & . & -117.76101626 & 7.598932 & 21.13440000 & Y & UNFINISHED & FALSE &  TRUE\\\\\n",
       "\\end{tabular}\n"
      ],
      "text/markdown": [
       "\n",
       "A data.table: 9 × 13\n",
       "\n",
       "| ID &lt;chr&gt; | BETA_1 &lt;dbl&gt; | log10P_1 &lt;dbl&gt; | SE_1 &lt;dbl&gt; | FIRTH_1 &lt;chr&gt; | ERRCODE_1 &lt;chr&gt; | BETA_2 &lt;dbl&gt; | log10P_2 &lt;dbl&gt; | SE_2 &lt;dbl&gt; | FIRTH_2 &lt;chr&gt; | ERRCODE_2 &lt;chr&gt; | is_sig_1 &lt;lgl&gt; | is_sig_2 &lt;lgl&gt; |\n",
       "|---|---|---|---|---|---|---|---|---|---|---|---|---|\n",
       "| rs2215942     |  0.03999926 | 7.304276 | 0.00733498 | N | . |    0.03995122 | 7.300903 |  0.00732908 | N | .          |  TRUE | FALSE |\n",
       "| rs9264955     |  0.06541314 | 7.429323 | 0.01188480 | N | . |    0.06311563 | 7.174149 |  0.01168910 | N | .          |  TRUE | FALSE |\n",
       "| rs2428499     |  0.04579521 | 7.441240 | 0.00831399 | N | . |    0.04430393 | 7.226124 |  0.00817371 | N | .          |  TRUE | FALSE |\n",
       "| rs9268460     |  0.04253253 | 7.421496 | 0.00773315 | N | . |    0.04112275 | 7.202232 |  0.00760042 | N | .          |  TRUE | FALSE |\n",
       "| rs9271413     |  0.06007859 | 7.329692 | 0.01099710 | N | . |    0.05825004 | 7.178339 |  0.01078470 | N | .          |  TRUE | FALSE |\n",
       "| Affx-92039945 |  0.06366939 | 7.378185 | 0.01161170 | N | . |    0.06108569 | 7.065421 |  0.01140970 | N | .          |  TRUE | FALSE |\n",
       "| rs7969196     | -0.04310063 | 7.311042 | 0.00790045 | N | . |   -0.04163587 | 7.089991 |  0.00776173 | N | .          |  TRUE | FALSE |\n",
       "| rs4775297     |  0.04311696 | 7.409728 | 0.00784520 | N | . |    0.04177514 | 7.222315 |  0.00770964 | N | .          |  TRUE | FALSE |\n",
       "| rs80357502    | -2.40820009 | 1.009723 | 1.45451000 | Y | . | -117.76101626 | 7.598932 | 21.13440000 | Y | UNFINISHED | FALSE |  TRUE |\n",
       "\n"
      ],
      "text/plain": [
       "  ID            BETA_1      log10P_1 SE_1       FIRTH_1 ERRCODE_1 BETA_2       \n",
       "1 rs2215942      0.03999926 7.304276 0.00733498 N       .            0.03995122\n",
       "2 rs9264955      0.06541314 7.429323 0.01188480 N       .            0.06311563\n",
       "3 rs2428499      0.04579521 7.441240 0.00831399 N       .            0.04430393\n",
       "4 rs9268460      0.04253253 7.421496 0.00773315 N       .            0.04112275\n",
       "5 rs9271413      0.06007859 7.329692 0.01099710 N       .            0.05825004\n",
       "6 Affx-92039945  0.06366939 7.378185 0.01161170 N       .            0.06108569\n",
       "7 rs7969196     -0.04310063 7.311042 0.00790045 N       .           -0.04163587\n",
       "8 rs4775297      0.04311696 7.409728 0.00784520 N       .            0.04177514\n",
       "9 rs80357502    -2.40820009 1.009723 1.45451000 Y       .         -117.76101626\n",
       "  log10P_2 SE_2        FIRTH_2 ERRCODE_2  is_sig_1 is_sig_2\n",
       "1 7.300903  0.00732908 N       .           TRUE    FALSE   \n",
       "2 7.174149  0.01168910 N       .           TRUE    FALSE   \n",
       "3 7.226124  0.00817371 N       .           TRUE    FALSE   \n",
       "4 7.202232  0.00760042 N       .           TRUE    FALSE   \n",
       "5 7.178339  0.01078470 N       .           TRUE    FALSE   \n",
       "6 7.065421  0.01140970 N       .           TRUE    FALSE   \n",
       "7 7.089991  0.00776173 N       .           TRUE    FALSE   \n",
       "8 7.222315  0.00770964 N       .           TRUE    FALSE   \n",
       "9 7.598932 21.13440000 Y       UNFINISHED FALSE     TRUE   "
      ]
     },
     "metadata": {},
     "output_type": "display_data"
    }
   ],
   "source": [
    "df %>%\n",
    "filter(ERRCODE_1 == '.' | ERRCODE_2 == '.') %>%\n",
    "filter((is_sig_1 | is_sig_2) & (! (is_sig_1 & is_sig_2)))"
   ]
  },
  {
   "cell_type": "markdown",
   "metadata": {},
   "source": [
    "`rs80357502` has a wildly different estimates (with `UNFINISHED` status)."
   ]
  },
  {
   "cell_type": "markdown",
   "metadata": {},
   "source": [
    "## BETA vs BETA for the other 8 variants"
   ]
  },
  {
   "cell_type": "code",
   "execution_count": 118,
   "metadata": {},
   "outputs": [],
   "source": [
    "p1_8_vars_BETA_vs_BETA <- df %>%\n",
    "filter(ERRCODE_1 == '.', ERRCODE_2 == '.') %>%\n",
    "filter((is_sig_1 | is_sig_2) & (! (is_sig_1 & is_sig_2))) %>%\n",
    "ggplot(aes(x = BETA_1, y= BETA_2)) +\n",
    "geom_abline(slope = 1, intercept=0, color='gray')+\n",
    "geom_errorbarh(aes(xmin = BETA_1 - SE_1, xmax = BETA_1 + SE_1), alpha=.5) +\n",
    "geom_errorbar( aes(ymin = BETA_2 - SE_2, ymax = BETA_2 + SE_2), alpha=.5) +\n",
    "geom_point(alpha=.5) +\n",
    "theme_bw()"
   ]
  },
  {
   "cell_type": "code",
   "execution_count": 123,
   "metadata": {},
   "outputs": [
    {
     "data": {
      "image/png": "[encoded data removed]",
      "text/plain": [
       "plot without title"
      ]
     },
     "metadata": {
      "image/png": {
       "height": 420,
       "width": 420
      },
      "text/plain": {
       "height": 420,
       "width": 420
      }
     },
     "output_type": "display_data"
    }
   ],
   "source": [
    "p1_8_vars_BETA_vs_BETA +\n",
    "labs(\n",
    "    title = 'log(OR) comparison of Asthma (HC382) for the 8 variants',\n",
    "    x = 'log(OR) [SE(log[OR])] from the default (firth-hybrid)',\n",
    "    y = 'log(OR) [SE(log[OR])] from firth-residualize cc-residualize'\n",
    ")"
   ]
  },
  {
   "cell_type": "code",
   "execution_count": 124,
   "metadata": {},
   "outputs": [
    {
     "name": "stderr",
     "output_type": "stream",
     "text": [
      "Saving 6.67 x 6.67 in image\n",
      "\n"
     ]
    }
   ],
   "source": [
    "ggsave(\n",
    "    'p1.8_vars_BETA_vs_BETA.png',\n",
    "    p1_8_vars_BETA_vs_BETA +\n",
    "    labs(\n",
    "        title = 'log(OR) comparison of Asthma (HC382) for the 8 variants',\n",
    "        x = 'log(OR) [SE(log[OR])] from the default (firth-hybrid)',\n",
    "        y = 'log(OR) [SE(log[OR])] from firth-residualize cc-residualize'\n",
    "    )    \n",
    ")"
   ]
  },
  {
   "cell_type": "markdown",
   "metadata": {},
   "source": [
    "## -log10(P) vs -log10(P) for the significant variants"
   ]
  },
  {
   "cell_type": "code",
   "execution_count": 135,
   "metadata": {},
   "outputs": [
    {
     "data": {
      "text/plain": [
       "\n",
       "Call:\n",
       "lm(formula = log10P_2 ~ log10P_1, data = df %>% filter(ERRCODE_1 == \n",
       "    \".\", ERRCODE_2 == \".\") %>% filter(is_sig_1 | is_sig_2))\n",
       "\n",
       "Residuals:\n",
       "     Min       1Q   Median       3Q      Max \n",
       "-2.06231  0.02362  0.03996  0.07454  1.00796 \n",
       "\n",
       "Coefficients:\n",
       "             Estimate Std. Error  t value Pr(>|t|)    \n",
       "(Intercept) 0.0194903  0.0100126    1.947   0.0517 .  \n",
       "log10P_1    0.9942075  0.0004642 2141.830   <2e-16 ***\n",
       "---\n",
       "Signif. codes:  0 ‘***’ 0.001 ‘**’ 0.01 ‘*’ 0.05 ‘.’ 0.1 ‘ ’ 1\n",
       "\n",
       "Residual standard error: 0.2589 on 1920 degrees of freedom\n",
       "Multiple R-squared:  0.9996,\tAdjusted R-squared:  0.9996 \n",
       "F-statistic: 4.587e+06 on 1 and 1920 DF,  p-value: < 2.2e-16\n"
      ]
     },
     "metadata": {},
     "output_type": "display_data"
    }
   ],
   "source": [
    "lm(\n",
    "    log10P_2 ~ log10P_1,\n",
    "    df %>%\n",
    "    filter(ERRCODE_1 == '.', ERRCODE_2 == '.') %>%\n",
    "    filter(is_sig_1 | is_sig_2)\n",
    ") %>%\n",
    "summary()"
   ]
  },
  {
   "cell_type": "code",
   "execution_count": 136,
   "metadata": {},
   "outputs": [
    {
     "data": {
      "text/plain": [
       "\n",
       "Call:\n",
       "lm(formula = log10P_2 ~ 0 + log10P_1, data = df %>% filter(ERRCODE_1 == \n",
       "    \".\", ERRCODE_2 == \".\") %>% filter(is_sig_1 | is_sig_2))\n",
       "\n",
       "Residuals:\n",
       "     Min       1Q   Median       3Q      Max \n",
       "-2.10431  0.03653  0.05086  0.08186  0.96505 \n",
       "\n",
       "Coefficients:\n",
       "         Estimate Std. Error t value Pr(>|t|)    \n",
       "log10P_1 0.994937   0.000274    3631   <2e-16 ***\n",
       "---\n",
       "Signif. codes:  0 ‘***’ 0.001 ‘**’ 0.01 ‘*’ 0.05 ‘.’ 0.1 ‘ ’ 1\n",
       "\n",
       "Residual standard error: 0.2591 on 1921 degrees of freedom\n",
       "Multiple R-squared:  0.9999,\tAdjusted R-squared:  0.9999 \n",
       "F-statistic: 1.319e+07 on 1 and 1921 DF,  p-value: < 2.2e-16\n"
      ]
     },
     "metadata": {},
     "output_type": "display_data"
    }
   ],
   "source": [
    "lm(\n",
    "    log10P_2 ~ 0 + log10P_1,\n",
    "    df %>%\n",
    "    filter(ERRCODE_1 == '.', ERRCODE_2 == '.') %>%\n",
    "    filter(is_sig_1 | is_sig_2)\n",
    ") %>%\n",
    "summary()"
   ]
  },
  {
   "cell_type": "code",
   "execution_count": 130,
   "metadata": {},
   "outputs": [],
   "source": [
    "p2_sig_p_vs_p <- df %>%\n",
    "filter(ERRCODE_1 == '.', ERRCODE_2 == '.') %>%\n",
    "filter(is_sig_1 | is_sig_2) %>%\n",
    "ggplot(aes(x = log10P_1, y= log10P_2)) +\n",
    "geom_abline(slope = 1, intercept=0, color='gray')+\n",
    "geom_hline(yintercept = -log10(5e-8), color='gray')+\n",
    "geom_vline(xintercept = -log10(5e-8), color='gray')+\n",
    "geom_point(alpha=.05) +\n",
    "theme_bw()"
   ]
  },
  {
   "cell_type": "code",
   "execution_count": 137,
   "metadata": {},
   "outputs": [
    {
     "data": {
      "image/png": "[encoded data removed]",
      "text/plain": [
       "plot without title"
      ]
     },
     "metadata": {
      "image/png": {
       "height": 420,
       "width": 420
      },
      "text/plain": {
       "height": 420,
       "width": 420
      }
     },
     "output_type": "display_data"
    }
   ],
   "source": [
    "p2_sig_p_vs_p +\n",
    "labs(\n",
    "    title = '-log10(P) comparison of Asthma (HC382) for the significant variants',\n",
    "    x = '-log10(P) from the default (firth-hybrid)',\n",
    "    y = '-log10(P) from firth-residualize cc-residualize'\n",
    ")"
   ]
  },
  {
   "cell_type": "code",
   "execution_count": 138,
   "metadata": {},
   "outputs": [
    {
     "name": "stderr",
     "output_type": "stream",
     "text": [
      "Saving 6.67 x 6.67 in image\n",
      "\n"
     ]
    }
   ],
   "source": [
    "ggsave(\n",
    "    'p2.sigs_P_vs_P.png',\n",
    "    p2_sig_p_vs_p +\n",
    "    labs(\n",
    "        title = '-log10(P) comparison of Asthma (HC382) for the significant variants',\n",
    "        x = '-log10(P) from the default (firth-hybrid)',\n",
    "        y = '-log10(P) from firth-residualize cc-residualize'\n",
    "    )\n",
    ")"
   ]
  },
  {
   "cell_type": "markdown",
   "metadata": {},
   "source": [
    "## log(OR) vs log(OR) for the significant variants"
   ]
  },
  {
   "cell_type": "code",
   "execution_count": 139,
   "metadata": {},
   "outputs": [
    {
     "data": {
      "text/plain": [
       "\n",
       "Call:\n",
       "lm(formula = BETA_2 ~ BETA_1, data = df %>% filter(ERRCODE_1 == \n",
       "    \".\", ERRCODE_2 == \".\") %>% filter(is_sig_1 | is_sig_2))\n",
       "\n",
       "Residuals:\n",
       "       Min         1Q     Median         3Q        Max \n",
       "-0.0067295 -0.0003869  0.0002327  0.0003377  0.0061946 \n",
       "\n",
       "Coefficients:\n",
       "             Estimate Std. Error t value Pr(>|t|)    \n",
       "(Intercept) 6.978e-06  2.410e-05    0.29    0.772    \n",
       "BETA_1      9.936e-01  2.757e-04 3603.95   <2e-16 ***\n",
       "---\n",
       "Signif. codes:  0 ‘***’ 0.001 ‘**’ 0.01 ‘*’ 0.05 ‘.’ 0.1 ‘ ’ 1\n",
       "\n",
       "Residual standard error: 0.001049 on 1920 degrees of freedom\n",
       "Multiple R-squared:  0.9999,\tAdjusted R-squared:  0.9999 \n",
       "F-statistic: 1.299e+07 on 1 and 1920 DF,  p-value: < 2.2e-16\n"
      ]
     },
     "metadata": {},
     "output_type": "display_data"
    }
   ],
   "source": [
    "lm(\n",
    "    BETA_2 ~ BETA_1,\n",
    "    df %>%\n",
    "    filter(ERRCODE_1 == '.', ERRCODE_2 == '.') %>%\n",
    "    filter(is_sig_1 | is_sig_2)\n",
    ") %>%\n",
    "summary()"
   ]
  },
  {
   "cell_type": "code",
   "execution_count": 140,
   "metadata": {},
   "outputs": [
    {
     "data": {
      "text/plain": [
       "\n",
       "Call:\n",
       "lm(formula = BETA_2 ~ 0 + BETA_1, data = df %>% filter(ERRCODE_1 == \n",
       "    \".\", ERRCODE_2 == \".\") %>% filter(is_sig_1 | is_sig_2))\n",
       "\n",
       "Residuals:\n",
       "       Min         1Q     Median         3Q        Max \n",
       "-0.0067239 -0.0003793  0.0002391  0.0003441  0.0062033 \n",
       "\n",
       "Coefficients:\n",
       "        Estimate Std. Error t value Pr(>|t|)    \n",
       "BETA_1 0.9936035  0.0002737    3630   <2e-16 ***\n",
       "---\n",
       "Signif. codes:  0 ‘***’ 0.001 ‘**’ 0.01 ‘*’ 0.05 ‘.’ 0.1 ‘ ’ 1\n",
       "\n",
       "Residual standard error: 0.001049 on 1921 degrees of freedom\n",
       "Multiple R-squared:  0.9999,\tAdjusted R-squared:  0.9999 \n",
       "F-statistic: 1.318e+07 on 1 and 1921 DF,  p-value: < 2.2e-16\n"
      ]
     },
     "metadata": {},
     "output_type": "display_data"
    }
   ],
   "source": [
    "lm(\n",
    "    BETA_2 ~ 0 + BETA_1,\n",
    "    df %>%\n",
    "    filter(ERRCODE_1 == '.', ERRCODE_2 == '.') %>%\n",
    "    filter(is_sig_1 | is_sig_2)\n",
    ") %>%\n",
    "summary()"
   ]
  },
  {
   "cell_type": "code",
   "execution_count": 143,
   "metadata": {},
   "outputs": [],
   "source": [
    "p3_sig_BETA_vs_BETA <- df %>%\n",
    "filter(ERRCODE_1 == '.', ERRCODE_2 == '.') %>%\n",
    "filter(is_sig_1 | is_sig_2) %>%\n",
    "ggplot(aes(x = BETA_1, y= BETA_2)) +\n",
    "geom_abline(slope = 1, intercept=0, color='gray')+\n",
    "geom_errorbarh(aes(xmin = BETA_1 - SE_1, xmax = BETA_1 + SE_1), alpha=.05) +\n",
    "geom_errorbar( aes(ymin = BETA_2 - SE_2, ymax = BETA_2 + SE_2), alpha=.05) +\n",
    "geom_point(alpha=.05) + \n",
    "theme_bw()"
   ]
  },
  {
   "cell_type": "code",
   "execution_count": 144,
   "metadata": {},
   "outputs": [
    {
     "data": {
      "image/png": "[encoded data removed]",
      "text/plain": [
       "plot without title"
      ]
     },
     "metadata": {
      "image/png": {
       "height": 420,
       "width": 420
      },
      "text/plain": {
       "height": 420,
       "width": 420
      }
     },
     "output_type": "display_data"
    }
   ],
   "source": [
    "p3_sig_BETA_vs_BETA +\n",
    "labs(\n",
    "    title = 'log(OR) comparison of Asthma (HC382) for the significant variants',\n",
    "    x = 'log(OR) [SE(log[OR])] from the default (firth-hybrid)',\n",
    "    y = 'log(OR) [SE(log[OR])] from firth-residualize cc-residualize'\n",
    ")"
   ]
  },
  {
   "cell_type": "code",
   "execution_count": 145,
   "metadata": {},
   "outputs": [
    {
     "name": "stderr",
     "output_type": "stream",
     "text": [
      "Saving 6.67 x 6.67 in image\n",
      "\n"
     ]
    }
   ],
   "source": [
    "ggsave(\n",
    "    'p3.sigs_BETA_vs_BETA.png',\n",
    "    p3_sig_BETA_vs_BETA +\n",
    "    labs(\n",
    "        title = 'log(OR) comparison of Asthma (HC382) for the significant variants',\n",
    "        x = 'log(OR) [SE(log[OR])] from the default (firth-hybrid)',\n",
    "        y = 'log(OR) [SE(log[OR])] from firth-residualize cc-residualize'\n",
    "    )\n",
    ")"
   ]
  },
  {
   "cell_type": "markdown",
   "metadata": {},
   "source": [
    "## p-value comparison for the full sumstats"
   ]
  },
  {
   "cell_type": "code",
   "execution_count": 146,
   "metadata": {},
   "outputs": [
    {
     "data": {
      "text/plain": [
       "\n",
       "Call:\n",
       "lm(formula = log10P_2 ~ log10P_1, data = df %>% filter(ERRCODE_1 == \n",
       "    \".\", ERRCODE_2 == \".\"))\n",
       "\n",
       "Residuals:\n",
       "     Min       1Q   Median       3Q      Max \n",
       "-2.20845 -0.00208 -0.00129  0.00013  1.02362 \n",
       "\n",
       "Coefficients:\n",
       "             Estimate Std. Error t value Pr(>|t|)    \n",
       "(Intercept) 2.431e-03  1.989e-05   122.2   <2e-16 ***\n",
       "log10P_1    9.961e-01  1.700e-05 58603.6   <2e-16 ***\n",
       "---\n",
       "Signif. codes:  0 ‘***’ 0.001 ‘**’ 0.01 ‘*’ 0.05 ‘.’ 0.1 ‘ ’ 1\n",
       "\n",
       "Residual standard error: 0.01816 on 994919 degrees of freedom\n",
       "Multiple R-squared:  0.9997,\tAdjusted R-squared:  0.9997 \n",
       "F-statistic: 3.434e+09 on 1 and 994919 DF,  p-value: < 2.2e-16\n"
      ]
     },
     "metadata": {},
     "output_type": "display_data"
    }
   ],
   "source": [
    "lm(\n",
    "    log10P_2 ~ log10P_1,\n",
    "    df %>%\n",
    "    filter(ERRCODE_1 == '.', ERRCODE_2 == '.')\n",
    ") %>%\n",
    "summary()"
   ]
  },
  {
   "cell_type": "code",
   "execution_count": 147,
   "metadata": {},
   "outputs": [
    {
     "data": {
      "text/plain": [
       "\n",
       "Call:\n",
       "lm(formula = log10P_2 ~ 0 + log10P_1, data = df %>% filter(ERRCODE_1 == \n",
       "    \".\", ERRCODE_2 == \".\"))\n",
       "\n",
       "Residuals:\n",
       "     Min       1Q   Median       3Q      Max \n",
       "-2.27664  0.00024  0.00090  0.00207  1.02223 \n",
       "\n",
       "Coefficients:\n",
       "          Estimate Std. Error t value Pr(>|t|)    \n",
       "log10P_1 9.970e-01  1.567e-05   63624   <2e-16 ***\n",
       "---\n",
       "Signif. codes:  0 ‘***’ 0.001 ‘**’ 0.01 ‘*’ 0.05 ‘.’ 0.1 ‘ ’ 1\n",
       "\n",
       "Residual standard error: 0.01829 on 994920 degrees of freedom\n",
       "Multiple R-squared:  0.9998,\tAdjusted R-squared:  0.9998 \n",
       "F-statistic: 4.048e+09 on 1 and 994920 DF,  p-value: < 2.2e-16\n"
      ]
     },
     "metadata": {},
     "output_type": "display_data"
    }
   ],
   "source": [
    "lm(\n",
    "    log10P_2 ~ 0+log10P_1,\n",
    "    df %>%\n",
    "    filter(ERRCODE_1 == '.', ERRCODE_2 == '.')\n",
    ") %>%\n",
    "summary()"
   ]
  },
  {
   "cell_type": "markdown",
   "metadata": {},
   "source": [
    "## BETA comparison for the full sumstats"
   ]
  },
  {
   "cell_type": "code",
   "execution_count": 148,
   "metadata": {},
   "outputs": [
    {
     "data": {
      "text/plain": [
       "\n",
       "Call:\n",
       "lm(formula = BETA_2 ~ BETA_1, data = df %>% filter(ERRCODE_1 == \n",
       "    \".\", ERRCODE_2 == \".\"))\n",
       "\n",
       "Residuals:\n",
       "   Min     1Q Median     3Q    Max \n",
       "-2.765  0.000  0.000  0.000 32.458 \n",
       "\n",
       "Coefficients:\n",
       "             Estimate Std. Error   t value Pr(>|t|)    \n",
       "(Intercept) 3.470e-04  4.151e-05     8.359   <2e-16 ***\n",
       "BETA_1      1.004e+00  7.329e-05 13698.395   <2e-16 ***\n",
       "---\n",
       "Signif. codes:  0 ‘***’ 0.001 ‘**’ 0.01 ‘*’ 0.05 ‘.’ 0.1 ‘ ’ 1\n",
       "\n",
       "Residual standard error: 0.0394 on 994919 degrees of freedom\n",
       "Multiple R-squared:  0.9947,\tAdjusted R-squared:  0.9947 \n",
       "F-statistic: 1.876e+08 on 1 and 994919 DF,  p-value: < 2.2e-16\n"
      ]
     },
     "metadata": {},
     "output_type": "display_data"
    }
   ],
   "source": [
    "lm(\n",
    "    BETA_2 ~ BETA_1,\n",
    "    df %>%\n",
    "    filter(ERRCODE_1 == '.', ERRCODE_2 == '.')\n",
    ") %>%\n",
    "summary()"
   ]
  },
  {
   "cell_type": "code",
   "execution_count": 149,
   "metadata": {},
   "outputs": [
    {
     "data": {
      "text/plain": [
       "\n",
       "Call:\n",
       "lm(formula = BETA_2 ~ 0 + BETA_1, data = df %>% filter(ERRCODE_1 == \n",
       "    \".\", ERRCODE_2 == \".\"))\n",
       "\n",
       "Residuals:\n",
       "   Min     1Q Median     3Q    Max \n",
       "-2.764  0.000  0.000  0.000 32.458 \n",
       "\n",
       "Coefficients:\n",
       "        Estimate Std. Error t value Pr(>|t|)    \n",
       "BETA_1 1.004e+00  6.975e-05   14397   <2e-16 ***\n",
       "---\n",
       "Signif. codes:  0 ‘***’ 0.001 ‘**’ 0.01 ‘*’ 0.05 ‘.’ 0.1 ‘ ’ 1\n",
       "\n",
       "Residual standard error: 0.0394 on 994920 degrees of freedom\n",
       "Multiple R-squared:  0.9952,\tAdjusted R-squared:  0.9952 \n",
       "F-statistic: 2.073e+08 on 1 and 994920 DF,  p-value: < 2.2e-16\n"
      ]
     },
     "metadata": {},
     "output_type": "display_data"
    }
   ],
   "source": [
    "lm(\n",
    "    BETA_2 ~ 0 + BETA_1,\n",
    "    df %>%\n",
    "    filter(ERRCODE_1 == '.', ERRCODE_2 == '.')\n",
    ") %>%\n",
    "summary()"
   ]
  },
  {
   "cell_type": "code",
   "execution_count": null,
   "metadata": {},
   "outputs": [],
   "source": []
  }
 ],
 "metadata": {
  "kernelspec": {
   "display_name": "R",
   "language": "R",
   "name": "ir"
  },
  "language_info": {
   "codemirror_mode": "r",
   "file_extension": ".r",
   "mimetype": "text/x-r-source",
   "name": "R",
   "pygments_lexer": "r",
   "version": "3.6.2"
  }
 },
 "nbformat": 4,
 "nbformat_minor": 4
}
