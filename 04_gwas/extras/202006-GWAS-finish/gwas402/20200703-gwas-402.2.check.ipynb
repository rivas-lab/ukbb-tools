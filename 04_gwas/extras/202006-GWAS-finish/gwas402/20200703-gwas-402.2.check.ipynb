{
 "cells": [
  {
   "cell_type": "code",
   "execution_count": 1,
   "metadata": {},
   "outputs": [],
   "source": [
    "suppressWarnings(suppressPackageStartupMessages({\n",
    "    library(tidyverse)\n",
    "    library(data.table)\n",
    "}))\n"
   ]
  },
  {
   "cell_type": "code",
   "execution_count": 48,
   "metadata": {},
   "outputs": [],
   "source": [
    "# input\n",
    "idx_file=\"gwas-current-gz-wc.20200629-131527.tsv\"\n",
    "check402_file='20200703-gwas-402.1.check.tsv'\n",
    "\n",
    "# output\n",
    "check402_out_file='20200703-gwas-402.2.still-missing-402.tsv'\n",
    "\n"
   ]
  },
  {
   "cell_type": "code",
   "execution_count": 17,
   "metadata": {},
   "outputs": [],
   "source": [
    "check402_df <- fread(check402_file)"
   ]
  },
  {
   "cell_type": "code",
   "execution_count": 27,
   "metadata": {},
   "outputs": [],
   "source": [
    "check402_df %>%\n",
    "rename('GBE_ID'='#GBE_ID') %>%\n",
    "arrange(GBE_ID, population, f402) %>%\n",
    "group_by(GBE_ID, population) %>%\n",
    "summarise(f402=first(f402)) %>%\n",
    "ungroup() -> check402_uniq_df\n"
   ]
  },
  {
   "cell_type": "code",
   "execution_count": 5,
   "metadata": {},
   "outputs": [],
   "source": [
    "idx_df <- fread(idx_file) %>%\n",
    "rename('symlink'='#symlink')\n"
   ]
  },
  {
   "cell_type": "code",
   "execution_count": 41,
   "metadata": {},
   "outputs": [],
   "source": [
    "idx_df %>%\n",
    "filter(wc_l == 1080567) %>%\n",
    "separate(symlink, c(rep(NA, 9), 'population', 'basename'), sep='/', remove=F, fill='right', extra='drop') %>%\n",
    "separate(basename, c(NA, 'GBE_ID', NA), sep='\\\\.', remove=T, fill='right', extra='drop') %>%\n",
    "left_join(\n",
    "    check402_uniq_df, by=c('GBE_ID', 'population')\n",
    ") -> check_df\n"
   ]
  },
  {
   "cell_type": "code",
   "execution_count": 46,
   "metadata": {},
   "outputs": [
    {
     "data": {
      "text/html": [
       "<style>\n",
       ".list-inline {list-style: none; margin:0; padding: 0}\n",
       ".list-inline>li {display: inline-block}\n",
       ".list-inline>li:not(:last-child)::after {content: \"\\00b7\"; padding: 0 .5ex}\n",
       "</style>\n",
       "<ol class=list-inline><li>345</li><li>6</li></ol>\n"
      ],
      "text/latex": [
       "\\begin{enumerate*}\n",
       "\\item 345\n",
       "\\item 6\n",
       "\\end{enumerate*}\n"
      ],
      "text/markdown": [
       "1. 345\n",
       "2. 6\n",
       "\n",
       "\n"
      ],
      "text/plain": [
       "[1] 345   6"
      ]
     },
     "metadata": {},
     "output_type": "display_data"
    }
   ],
   "source": [
    "check_df %>% \n",
    "filter(is.na(f402)) %>%\n",
    "dim()"
   ]
  },
  {
   "cell_type": "code",
   "execution_count": 49,
   "metadata": {},
   "outputs": [],
   "source": [
    "check_df %>% \n",
    "filter(is.na(f402)) %>%\n",
    "select(GBE_ID, population) %>%\n",
    "rename('#GBE_ID' = 'GBE_ID') %>%\n",
    "fwrite(check402_out_file, sep='\\t', na = \"NA\", quote=F)\n"
   ]
  },
  {
   "cell_type": "code",
   "execution_count": null,
   "metadata": {},
   "outputs": [],
   "source": []
  }
 ],
 "metadata": {
  "kernelspec": {
   "display_name": "R",
   "language": "R",
   "name": "ir"
  },
  "language_info": {
   "codemirror_mode": "r",
   "file_extension": ".r",
   "mimetype": "text/x-r-source",
   "name": "R",
   "pygments_lexer": "r",
   "version": "3.6.1"
  }
 },
 "nbformat": 4,
 "nbformat_minor": 4
}
