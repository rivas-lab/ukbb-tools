{
 "cells": [
  {
   "cell_type": "code",
   "execution_count": 1,
   "metadata": {},
   "outputs": [],
   "source": [
    "suppressWarnings(suppressPackageStartupMessages({\n",
    "    library(tidyverse)\n",
    "    library(data.table)\n",
    "}))\n"
   ]
  },
  {
   "cell_type": "code",
   "execution_count": 45,
   "metadata": {},
   "outputs": [],
   "source": [
    "# input\n",
    "idx_file=\"../gwas-current-gz-wc.20200629-131527.tsv\"\n",
    "check402_file='20200703-gwas-402.4.check.lst'\n",
    "\n",
    "# output\n",
    "check402_out_file='20200703-gwas-402.5.map.tsv'\n"
   ]
  },
  {
   "cell_type": "code",
   "execution_count": 3,
   "metadata": {},
   "outputs": [],
   "source": [
    "check402_l <- fread(check402_file, head=F) %>% pull()"
   ]
  },
  {
   "cell_type": "code",
   "execution_count": 31,
   "metadata": {},
   "outputs": [],
   "source": [
    "check402_df <- data.frame(\n",
    "    f402=check402_l,\n",
    "    stringsAsFactors=F\n",
    ") %>%\n",
    "separate(f402, c(rep(NA, 8), 'population', 'basename'), sep='/', remove=F, fill='right', extra='drop') %>%\n",
    "separate(basename, c(NA, 'idx', NA, 'GBE_ID', NA), sep='\\\\.', remove=T, fill='right', extra='drop') %>%\n",
    "mutate(GBE_ID = if_else(GBE_ID == 'PHENO1', idx, GBE_ID))\n"
   ]
  },
  {
   "cell_type": "code",
   "execution_count": 34,
   "metadata": {},
   "outputs": [],
   "source": [
    "check402_df %>%\n",
    "arrange(GBE_ID, population, f402) %>%\n",
    "group_by(GBE_ID, population) %>%\n",
    "summarise(f402=first(f402)) %>%\n",
    "ungroup() -> check402_uniq_df\n"
   ]
  },
  {
   "cell_type": "code",
   "execution_count": 35,
   "metadata": {},
   "outputs": [
    {
     "data": {
      "text/html": [
       "<table>\n",
       "<caption>A tibble: 5 × 2</caption>\n",
       "<thead>\n",
       "\t<tr><th scope=col>population</th><th scope=col>n</th></tr>\n",
       "\t<tr><th scope=col>&lt;chr&gt;</th><th scope=col>&lt;int&gt;</th></tr>\n",
       "</thead>\n",
       "<tbody>\n",
       "\t<tr><td>african          </td><td>3378</td></tr>\n",
       "\t<tr><td>e_asian          </td><td>2885</td></tr>\n",
       "\t<tr><td>non_british_white</td><td>3469</td></tr>\n",
       "\t<tr><td>s_asian          </td><td>3407</td></tr>\n",
       "\t<tr><td>white_british    </td><td>3764</td></tr>\n",
       "</tbody>\n",
       "</table>\n"
      ],
      "text/latex": [
       "A tibble: 5 × 2\n",
       "\\begin{tabular}{ll}\n",
       " population & n\\\\\n",
       " <chr> & <int>\\\\\n",
       "\\hline\n",
       "\t african           & 3378\\\\\n",
       "\t e\\_asian           & 2885\\\\\n",
       "\t non\\_british\\_white & 3469\\\\\n",
       "\t s\\_asian           & 3407\\\\\n",
       "\t white\\_british     & 3764\\\\\n",
       "\\end{tabular}\n"
      ],
      "text/markdown": [
       "\n",
       "A tibble: 5 × 2\n",
       "\n",
       "| population &lt;chr&gt; | n &lt;int&gt; |\n",
       "|---|---|\n",
       "| african           | 3378 |\n",
       "| e_asian           | 2885 |\n",
       "| non_british_white | 3469 |\n",
       "| s_asian           | 3407 |\n",
       "| white_british     | 3764 |\n",
       "\n"
      ],
      "text/plain": [
       "  population        n   \n",
       "1 african           3378\n",
       "2 e_asian           2885\n",
       "3 non_british_white 3469\n",
       "4 s_asian           3407\n",
       "5 white_british     3764"
      ]
     },
     "metadata": {},
     "output_type": "display_data"
    }
   ],
   "source": [
    "check402_uniq_df %>%\n",
    "count(population)"
   ]
  },
  {
   "cell_type": "code",
   "execution_count": 36,
   "metadata": {},
   "outputs": [],
   "source": [
    "idx_df <- fread(idx_file) %>%\n",
    "rename('symlink'='#symlink')\n"
   ]
  },
  {
   "cell_type": "code",
   "execution_count": 37,
   "metadata": {},
   "outputs": [],
   "source": [
    "idx_df %>%\n",
    "filter(wc_l == 1080567) %>%\n",
    "separate(symlink, c(rep(NA, 9), 'population', 'basename'), sep='/', remove=F, fill='right', extra='drop') %>%\n",
    "separate(basename, c(NA, 'GBE_ID', NA), sep='\\\\.', remove=T, fill='right', extra='drop') %>%\n",
    "left_join(\n",
    "    check402_uniq_df, by=c('GBE_ID', 'population')\n",
    ") -> check_df\n"
   ]
  },
  {
   "cell_type": "code",
   "execution_count": 38,
   "metadata": {},
   "outputs": [
    {
     "data": {
      "text/html": [
       "<style>\n",
       ".list-inline {list-style: none; margin:0; padding: 0}\n",
       ".list-inline>li {display: inline-block}\n",
       ".list-inline>li:not(:last-child)::after {content: \"\\00b7\"; padding: 0 .5ex}\n",
       "</style>\n",
       "<ol class=list-inline><li>0</li><li>6</li></ol>\n"
      ],
      "text/latex": [
       "\\begin{enumerate*}\n",
       "\\item 0\n",
       "\\item 6\n",
       "\\end{enumerate*}\n"
      ],
      "text/markdown": [
       "1. 0\n",
       "2. 6\n",
       "\n",
       "\n"
      ],
      "text/plain": [
       "[1] 0 6"
      ]
     },
     "metadata": {},
     "output_type": "display_data"
    }
   ],
   "source": [
    "check_df %>% \n",
    "filter(is.na(f402)) %>%\n",
    "dim()"
   ]
  },
  {
   "cell_type": "code",
   "execution_count": 42,
   "metadata": {},
   "outputs": [
    {
     "data": {
      "text/html": [
       "<style>\n",
       ".list-inline {list-style: none; margin:0; padding: 0}\n",
       ".list-inline>li {display: inline-block}\n",
       ".list-inline>li:not(:last-child)::after {content: \"\\00b7\"; padding: 0 .5ex}\n",
       "</style>\n",
       "<ol class=list-inline><li>14246</li><li>5</li></ol>\n"
      ],
      "text/latex": [
       "\\begin{enumerate*}\n",
       "\\item 14246\n",
       "\\item 5\n",
       "\\end{enumerate*}\n"
      ],
      "text/markdown": [
       "1. 14246\n",
       "2. 5\n",
       "\n",
       "\n"
      ],
      "text/plain": [
       "[1] 14246     5"
      ]
     },
     "metadata": {},
     "output_type": "display_data"
    }
   ],
   "source": [
    "check_df %>% \n",
    "select(GBE_ID, population, symlink, location, f402) %>%\n",
    "dim()"
   ]
  },
  {
   "cell_type": "code",
   "execution_count": 46,
   "metadata": {},
   "outputs": [],
   "source": [
    "check_df %>% \n",
    "select(GBE_ID, population, symlink, location, f402) %>%\n",
    "rename('#GBE_ID' = 'GBE_ID') %>%\n",
    "fwrite(check402_out_file, sep='\\t', na = \"NA\", quote=F)\n"
   ]
  },
  {
   "cell_type": "code",
   "execution_count": null,
   "metadata": {},
   "outputs": [],
   "source": []
  }
 ],
 "metadata": {
  "kernelspec": {
   "display_name": "R",
   "language": "R",
   "name": "ir"
  },
  "language_info": {
   "codemirror_mode": "r",
   "file_extension": ".r",
   "mimetype": "text/x-r-source",
   "name": "R",
   "pygments_lexer": "r",
   "version": "3.6.1"
  }
 },
 "nbformat": 4,
 "nbformat_minor": 4
}
