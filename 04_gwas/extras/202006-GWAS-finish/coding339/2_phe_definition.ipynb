{
 "cells": [
  {
   "cell_type": "code",
   "execution_count": 1,
   "metadata": {},
   "outputs": [],
   "source": [
    "suppressWarnings(suppressPackageStartupMessages({\n",
    "    library(tidyverse)\n",
    "    library(data.table)\n",
    "}))\n"
   ]
  },
  {
   "cell_type": "code",
   "execution_count": 2,
   "metadata": {},
   "outputs": [],
   "source": [
    "# input\n",
    "long_f <- 'data/ukb.2005693.37855.coding339.long.tsv'\n",
    "\n",
    "# output\n",
    "\n",
    "combined_phe_f <- 'data/ukb.2005693.37855.coding339.phe'\n",
    "phe_f <- 'data/ukb.2005693.37855.coding339.%s.phe'\n"
   ]
  },
  {
   "cell_type": "code",
   "execution_count": 3,
   "metadata": {},
   "outputs": [],
   "source": [
    "GBE_IDs <- c(\n",
    "    'INI21048','INI21049','INI21051','INI21052',\n",
    "    'INI21053','INI21054','INI21055','INI21056',\n",
    "    'INI21058','INI21059','INI21060','INI21061'\n",
    ")\n",
    "\n",
    "GBE_IDs %>% \n",
    "lapply(function(x){as.integer(str_replace(x, 'INI', ''))}) -> UKB_Fields\n"
   ]
  },
  {
   "cell_type": "code",
   "execution_count": 8,
   "metadata": {},
   "outputs": [],
   "source": [
    "long_df <- fread(long_f, colClasses=c('#FID'='character')) %>%\n",
    "rename('FID'='#FID')\n"
   ]
  },
  {
   "cell_type": "code",
   "execution_count": 12,
   "metadata": {},
   "outputs": [],
   "source": [
    "long_df %>%\n",
    "filter(val != -818) %>%\n",
    "mutate(\n",
    "    field = str_replace(field, '^f.', 'INI'),\n",
    "    field = str_replace(field, '.0.0$', ''),\n",
    ") %>%\n",
    "mutate(\n",
    "    val_reorder = (-1 * val ) - 600 + 1\n",
    ") -> long_df2"
   ]
  },
  {
   "cell_type": "code",
   "execution_count": 13,
   "metadata": {},
   "outputs": [
    {
     "data": {
      "text/html": [
       "<table>\n",
       "<caption>A tibble: 3 × 3</caption>\n",
       "<thead>\n",
       "\t<tr><th scope=col>val</th><th scope=col>val_reorder</th><th scope=col>n</th></tr>\n",
       "\t<tr><th scope=col>&lt;int&gt;</th><th scope=col>&lt;dbl&gt;</th><th scope=col>&lt;int&gt;</th></tr>\n",
       "</thead>\n",
       "<tbody>\n",
       "\t<tr><td>-602</td><td>3</td><td> 169584</td></tr>\n",
       "\t<tr><td>-601</td><td>2</td><td> 650933</td></tr>\n",
       "\t<tr><td>-600</td><td>1</td><td>1275610</td></tr>\n",
       "</tbody>\n",
       "</table>\n"
      ],
      "text/latex": [
       "A tibble: 3 × 3\n",
       "\\begin{tabular}{lll}\n",
       " val & val\\_reorder & n\\\\\n",
       " <int> & <dbl> & <int>\\\\\n",
       "\\hline\n",
       "\t -602 & 3 &  169584\\\\\n",
       "\t -601 & 2 &  650933\\\\\n",
       "\t -600 & 1 & 1275610\\\\\n",
       "\\end{tabular}\n"
      ],
      "text/markdown": [
       "\n",
       "A tibble: 3 × 3\n",
       "\n",
       "| val &lt;int&gt; | val_reorder &lt;dbl&gt; | n &lt;int&gt; |\n",
       "|---|---|---|\n",
       "| -602 | 3 |  169584 |\n",
       "| -601 | 2 |  650933 |\n",
       "| -600 | 1 | 1275610 |\n",
       "\n"
      ],
      "text/plain": [
       "  val  val_reorder n      \n",
       "1 -602 3            169584\n",
       "2 -601 2            650933\n",
       "3 -600 1           1275610"
      ]
     },
     "metadata": {},
     "output_type": "display_data"
    }
   ],
   "source": [
    "long_df2 %>%\n",
    "count(val, val_reorder)"
   ]
  },
  {
   "cell_type": "code",
   "execution_count": 17,
   "metadata": {},
   "outputs": [],
   "source": [
    "long_df2 %>%\n",
    "select(-val) %>%\n",
    "spread(field, val_reorder, fill=-9) %>%\n",
    "mutate(IID = FID) %>%\n",
    "arrange(FID) %>%\n",
    "select(FID, IID, all_of(GBE_IDs)) -> phe_df\n"
   ]
  },
  {
   "cell_type": "code",
   "execution_count": 18,
   "metadata": {},
   "outputs": [
    {
     "data": {
      "text/html": [
       "<style>\n",
       ".list-inline {list-style: none; margin:0; padding: 0}\n",
       ".list-inline>li {display: inline-block}\n",
       ".list-inline>li:not(:last-child)::after {content: \"\\00b7\"; padding: 0 .5ex}\n",
       "</style>\n",
       "<ol class=list-inline><li>174763</li><li>14</li></ol>\n"
      ],
      "text/latex": [
       "\\begin{enumerate*}\n",
       "\\item 174763\n",
       "\\item 14\n",
       "\\end{enumerate*}\n"
      ],
      "text/markdown": [
       "1. 174763\n",
       "2. 14\n",
       "\n",
       "\n"
      ],
      "text/plain": [
       "[1] 174763     14"
      ]
     },
     "metadata": {},
     "output_type": "display_data"
    }
   ],
   "source": [
    "phe_df %>% dim()"
   ]
  },
  {
   "cell_type": "code",
   "execution_count": 19,
   "metadata": {},
   "outputs": [],
   "source": [
    "phe_df %>% \n",
    "rename('#FID' = 'FID') %>%\n",
    "fwrite(combined_phe_f, sep='\\t', na = \"NA\", quote=F)\n"
   ]
  },
  {
   "cell_type": "code",
   "execution_count": 25,
   "metadata": {},
   "outputs": [
    {
     "name": "stderr",
     "output_type": "stream",
     "text": [
      "data/ukb.2005693.37855.coding339.phe\n"
     ]
    }
   ],
   "source": [
    "message(combined_phe_f)"
   ]
  },
  {
   "cell_type": "code",
   "execution_count": 24,
   "metadata": {},
   "outputs": [
    {
     "name": "stderr",
     "output_type": "stream",
     "text": [
      "data/ukb.2005693.37855.coding339.INI21048.phe\n",
      "data/ukb.2005693.37855.coding339.INI21049.phe\n",
      "data/ukb.2005693.37855.coding339.INI21051.phe\n",
      "data/ukb.2005693.37855.coding339.INI21052.phe\n",
      "data/ukb.2005693.37855.coding339.INI21053.phe\n",
      "data/ukb.2005693.37855.coding339.INI21054.phe\n",
      "data/ukb.2005693.37855.coding339.INI21055.phe\n",
      "data/ukb.2005693.37855.coding339.INI21056.phe\n",
      "data/ukb.2005693.37855.coding339.INI21058.phe\n",
      "data/ukb.2005693.37855.coding339.INI21059.phe\n",
      "data/ukb.2005693.37855.coding339.INI21060.phe\n",
      "data/ukb.2005693.37855.coding339.INI21061.phe\n"
     ]
    }
   ],
   "source": [
    "for(GBE_ID in GBE_IDs){\n",
    "    phe_df %>%\n",
    "    select(FID, IID, all_of(GBE_ID)) %>%\n",
    "    fwrite(sprintf(phe_f, GBE_ID), sep='\\t', na = \"NA\", quote=F, col.names=F)\n",
    "    message(sprintf(phe_f, GBE_ID))\n",
    "}\n"
   ]
  },
  {
   "cell_type": "code",
   "execution_count": null,
   "metadata": {},
   "outputs": [],
   "source": []
  }
 ],
 "metadata": {
  "kernelspec": {
   "display_name": "R",
   "language": "R",
   "name": "ir"
  },
  "language_info": {
   "codemirror_mode": "r",
   "file_extension": ".r",
   "mimetype": "text/x-r-source",
   "name": "R",
   "pygments_lexer": "r",
   "version": "3.6.1"
  }
 },
 "nbformat": 4,
 "nbformat_minor": 4
}
