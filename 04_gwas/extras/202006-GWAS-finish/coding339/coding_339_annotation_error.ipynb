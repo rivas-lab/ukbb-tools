{
 "cells": [
  {
   "cell_type": "code",
   "execution_count": 1,
   "metadata": {},
   "outputs": [],
   "source": [
    "suppressWarnings(suppressPackageStartupMessages({\n",
    "    library(tidyverse)\n",
    "    library(data.table)\n",
    "}))\n"
   ]
  },
  {
   "cell_type": "code",
   "execution_count": 2,
   "metadata": {},
   "outputs": [],
   "source": [
    "master_phe_f <- '/oak/stanford/groups/mrivas/ukbb24983/phenotypedata/master_phe/master.20200618.phe'\n"
   ]
  },
  {
   "cell_type": "code",
   "execution_count": 11,
   "metadata": {},
   "outputs": [],
   "source": [
    "GBE_IDs <- c(\n",
    "    'INI21048', 'INI21049', 'INI21051', 'INI21052', 'INI21053', 'INI21054',\n",
    "    'INI21055', 'INI21056', 'INI21058', 'INI21059', 'INI21060', 'INI21061'\n",
    ")\n"
   ]
  },
  {
   "cell_type": "code",
   "execution_count": 12,
   "metadata": {},
   "outputs": [],
   "source": [
    "master_phe_df <- fread(\n",
    "    master_phe_f,\n",
    "    select=c('FID','IID','population',GBE_IDs),\n",
    "    colClasses=c('FID'='character', 'IID'='character')\n",
    ")"
   ]
  },
  {
   "cell_type": "code",
   "execution_count": 13,
   "metadata": {},
   "outputs": [
    {
     "data": {
      "text/html": [
       "<table>\n",
       "<caption>A tibble: 9 × 2</caption>\n",
       "<thead>\n",
       "\t<tr><th scope=col>population</th><th scope=col>n</th></tr>\n",
       "\t<tr><th scope=col>&lt;chr&gt;</th><th scope=col>&lt;int&gt;</th></tr>\n",
       "</thead>\n",
       "<tbody>\n",
       "\t<tr><td>-9               </td><td> 28498</td></tr>\n",
       "\t<tr><td>african          </td><td>  6497</td></tr>\n",
       "\t<tr><td>e_asian          </td><td>  1154</td></tr>\n",
       "\t<tr><td>e_asian_outlier  </td><td>   618</td></tr>\n",
       "\t<tr><td>non_british_white</td><td> 24905</td></tr>\n",
       "\t<tr><td>s_asian          </td><td>  7885</td></tr>\n",
       "\t<tr><td>s_asian_outlier  </td><td>    77</td></tr>\n",
       "\t<tr><td>white_british    </td><td>337138</td></tr>\n",
       "\t<tr><td>NA               </td><td>109998</td></tr>\n",
       "</tbody>\n",
       "</table>\n"
      ],
      "text/latex": [
       "A tibble: 9 × 2\n",
       "\\begin{tabular}{ll}\n",
       " population & n\\\\\n",
       " <chr> & <int>\\\\\n",
       "\\hline\n",
       "\t -9                &  28498\\\\\n",
       "\t african           &   6497\\\\\n",
       "\t e\\_asian           &   1154\\\\\n",
       "\t e\\_asian\\_outlier   &    618\\\\\n",
       "\t non\\_british\\_white &  24905\\\\\n",
       "\t s\\_asian           &   7885\\\\\n",
       "\t s\\_asian\\_outlier   &     77\\\\\n",
       "\t white\\_british     & 337138\\\\\n",
       "\t NA                & 109998\\\\\n",
       "\\end{tabular}\n"
      ],
      "text/markdown": [
       "\n",
       "A tibble: 9 × 2\n",
       "\n",
       "| population &lt;chr&gt; | n &lt;int&gt; |\n",
       "|---|---|\n",
       "| -9                |  28498 |\n",
       "| african           |   6497 |\n",
       "| e_asian           |   1154 |\n",
       "| e_asian_outlier   |    618 |\n",
       "| non_british_white |  24905 |\n",
       "| s_asian           |   7885 |\n",
       "| s_asian_outlier   |     77 |\n",
       "| white_british     | 337138 |\n",
       "| NA                | 109998 |\n",
       "\n"
      ],
      "text/plain": [
       "  population        n     \n",
       "1 -9                 28498\n",
       "2 african             6497\n",
       "3 e_asian             1154\n",
       "4 e_asian_outlier      618\n",
       "5 non_british_white  24905\n",
       "6 s_asian             7885\n",
       "7 s_asian_outlier       77\n",
       "8 white_british     337138\n",
       "9 NA                109998"
      ]
     },
     "metadata": {},
     "output_type": "display_data"
    }
   ],
   "source": [
    "master_phe_df %>% count(population)"
   ]
  },
  {
   "cell_type": "code",
   "execution_count": 14,
   "metadata": {},
   "outputs": [
    {
     "data": {
      "text/html": [
       "<table>\n",
       "<caption>A tibble: 3 × 2</caption>\n",
       "<thead>\n",
       "\t<tr><th scope=col>INI21049</th><th scope=col>n</th></tr>\n",
       "\t<tr><th scope=col>&lt;dbl&gt;</th><th scope=col>&lt;int&gt;</th></tr>\n",
       "</thead>\n",
       "<tbody>\n",
       "\t<tr><td>-9</td><td>240117</td></tr>\n",
       "\t<tr><td> 1</td><td> 33989</td></tr>\n",
       "\t<tr><td> 2</td><td> 63032</td></tr>\n",
       "</tbody>\n",
       "</table>\n"
      ],
      "text/latex": [
       "A tibble: 3 × 2\n",
       "\\begin{tabular}{ll}\n",
       " INI21049 & n\\\\\n",
       " <dbl> & <int>\\\\\n",
       "\\hline\n",
       "\t -9 & 240117\\\\\n",
       "\t  1 &  33989\\\\\n",
       "\t  2 &  63032\\\\\n",
       "\\end{tabular}\n"
      ],
      "text/markdown": [
       "\n",
       "A tibble: 3 × 2\n",
       "\n",
       "| INI21049 &lt;dbl&gt; | n &lt;int&gt; |\n",
       "|---|---|\n",
       "| -9 | 240117 |\n",
       "|  1 |  33989 |\n",
       "|  2 |  63032 |\n",
       "\n"
      ],
      "text/plain": [
       "  INI21049 n     \n",
       "1 -9       240117\n",
       "2  1        33989\n",
       "3  2        63032"
      ]
     },
     "metadata": {},
     "output_type": "display_data"
    }
   ],
   "source": [
    "master_phe_df %>% \n",
    "filter(population=='white_british') %>%\n",
    "count(INI21049)"
   ]
  },
  {
   "cell_type": "code",
   "execution_count": 15,
   "metadata": {},
   "outputs": [
    {
     "data": {
      "text/html": [
       "<table>\n",
       "<caption>A tibble: 3 × 2</caption>\n",
       "<thead>\n",
       "\t<tr><th scope=col>INI21049</th><th scope=col>n</th></tr>\n",
       "\t<tr><th scope=col>&lt;dbl&gt;</th><th scope=col>&lt;int&gt;</th></tr>\n",
       "</thead>\n",
       "<tbody>\n",
       "\t<tr><td>-9</td><td>379011</td></tr>\n",
       "\t<tr><td> 1</td><td> 48265</td></tr>\n",
       "\t<tr><td> 2</td><td> 89494</td></tr>\n",
       "</tbody>\n",
       "</table>\n"
      ],
      "text/latex": [
       "A tibble: 3 × 2\n",
       "\\begin{tabular}{ll}\n",
       " INI21049 & n\\\\\n",
       " <dbl> & <int>\\\\\n",
       "\\hline\n",
       "\t -9 & 379011\\\\\n",
       "\t  1 &  48265\\\\\n",
       "\t  2 &  89494\\\\\n",
       "\\end{tabular}\n"
      ],
      "text/markdown": [
       "\n",
       "A tibble: 3 × 2\n",
       "\n",
       "| INI21049 &lt;dbl&gt; | n &lt;int&gt; |\n",
       "|---|---|\n",
       "| -9 | 379011 |\n",
       "|  1 |  48265 |\n",
       "|  2 |  89494 |\n",
       "\n"
      ],
      "text/plain": [
       "  INI21049 n     \n",
       "1 -9       379011\n",
       "2  1        48265\n",
       "3  2        89494"
      ]
     },
     "metadata": {},
     "output_type": "display_data"
    }
   ],
   "source": [
    "master_phe_df %>% \n",
    "count(INI21049)"
   ]
  },
  {
   "cell_type": "code",
   "execution_count": 16,
   "metadata": {},
   "outputs": [
    {
     "data": {
      "text/html": [
       "<table>\n",
       "<caption>A tibble: 4 × 2</caption>\n",
       "<thead>\n",
       "\t<tr><th scope=col>INI21048</th><th scope=col>n</th></tr>\n",
       "\t<tr><th scope=col>&lt;dbl&gt;</th><th scope=col>&lt;int&gt;</th></tr>\n",
       "</thead>\n",
       "<tbody>\n",
       "\t<tr><td>-9</td><td>214782</td></tr>\n",
       "\t<tr><td> 1</td><td> 48044</td></tr>\n",
       "\t<tr><td> 2</td><td> 57522</td></tr>\n",
       "\t<tr><td> 3</td><td> 16790</td></tr>\n",
       "</tbody>\n",
       "</table>\n"
      ],
      "text/latex": [
       "A tibble: 4 × 2\n",
       "\\begin{tabular}{ll}\n",
       " INI21048 & n\\\\\n",
       " <dbl> & <int>\\\\\n",
       "\\hline\n",
       "\t -9 & 214782\\\\\n",
       "\t  1 &  48044\\\\\n",
       "\t  2 &  57522\\\\\n",
       "\t  3 &  16790\\\\\n",
       "\\end{tabular}\n"
      ],
      "text/markdown": [
       "\n",
       "A tibble: 4 × 2\n",
       "\n",
       "| INI21048 &lt;dbl&gt; | n &lt;int&gt; |\n",
       "|---|---|\n",
       "| -9 | 214782 |\n",
       "|  1 |  48044 |\n",
       "|  2 |  57522 |\n",
       "|  3 |  16790 |\n",
       "\n"
      ],
      "text/plain": [
       "  INI21048 n     \n",
       "1 -9       214782\n",
       "2  1        48044\n",
       "3  2        57522\n",
       "4  3        16790"
      ]
     },
     "metadata": {},
     "output_type": "display_data"
    }
   ],
   "source": [
    "master_phe_df %>% \n",
    "filter(population=='white_british') %>%\n",
    "count(INI21048)"
   ]
  },
  {
   "cell_type": "code",
   "execution_count": null,
   "metadata": {},
   "outputs": [],
   "source": []
  }
 ],
 "metadata": {
  "kernelspec": {
   "display_name": "R",
   "language": "R",
   "name": "ir"
  },
  "language_info": {
   "codemirror_mode": "r",
   "file_extension": ".r",
   "mimetype": "text/x-r-source",
   "name": "R",
   "pygments_lexer": "r",
   "version": "3.6.1"
  }
 },
 "nbformat": 4,
 "nbformat_minor": 4
}
