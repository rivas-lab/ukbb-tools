{
 "cells": [
  {
   "cell_type": "code",
   "execution_count": 1,
   "metadata": {},
   "outputs": [],
   "source": [
    "suppressWarnings(suppressPackageStartupMessages({\n",
    "    library(tidyverse)\n",
    "    library(data.table)\n",
    "}))\n"
   ]
  },
  {
   "cell_type": "code",
   "execution_count": 2,
   "metadata": {},
   "outputs": [],
   "source": [
    "# input\n",
    "idx_file=\"gwas-current-gz-wc.20200717-173655.tsv\"\n",
    "missing_f='missing_pop_GBE.minN100.20200717-171539.tsv'\n",
    "\n",
    "# output\n",
    "out_f=str_replace(idx_file, '.tsv$', '.annotated.tsv')\n",
    "combined_out_f=str_replace(idx_file, '.tsv$', '.combined.tsv')\n"
   ]
  },
  {
   "cell_type": "code",
   "execution_count": 3,
   "metadata": {},
   "outputs": [],
   "source": [
    "missing_df <- missing_f %>% fread() %>% rename('population'='#population')\n"
   ]
  },
  {
   "cell_type": "code",
   "execution_count": 4,
   "metadata": {},
   "outputs": [],
   "source": [
    "df <- fread(idx_file) %>%\n",
    "rename('symlink'='#symlink') %>%\n",
    "separate(symlink, c(rep(NA, 9), 'population', 'basename'), sep='/', remove=F, fill='right', extra='drop') %>%\n",
    "separate(basename, c(NA, 'GBE_ID', NA), sep='\\\\.', remove=T, fill='right', extra='drop') %>%\n",
    "select(GBE_ID, population, symlink, location, wc_l)\n"
   ]
  },
  {
   "cell_type": "code",
   "execution_count": 5,
   "metadata": {},
   "outputs": [],
   "source": [
    "df %>%\n",
    "rename('#GBE_ID' = 'GBE_ID') %>%\n",
    "fwrite(out_f, sep='\\t', na = \"NA\", quote=F)\n"
   ]
  },
  {
   "cell_type": "code",
   "execution_count": 6,
   "metadata": {},
   "outputs": [],
   "source": [
    "df %>%\n",
    "bind_rows(missing_df) %>%\n",
    "replace_na(list(wc_l=0)) -> combined_df\n"
   ]
  },
  {
   "cell_type": "code",
   "execution_count": 7,
   "metadata": {},
   "outputs": [],
   "source": [
    "combined_df %>%\n",
    "rename('#GBE_ID' = 'GBE_ID') %>%\n",
    "fwrite(combined_out_f, sep='\\t', na = \"NA\", quote=F)\n"
   ]
  },
  {
   "cell_type": "code",
   "execution_count": 8,
   "metadata": {},
   "outputs": [
    {
     "data": {
      "text/html": [
       "<table>\n",
       "<caption>A data.table: 23 × 3</caption>\n",
       "<thead>\n",
       "\t<tr><th scope=col>wc_l</th><th scope=col>population</th><th scope=col>n</th></tr>\n",
       "\t<tr><th scope=col>&lt;dbl&gt;</th><th scope=col>&lt;chr&gt;</th><th scope=col>&lt;int&gt;</th></tr>\n",
       "</thead>\n",
       "<tbody>\n",
       "\t<tr><td>1080969</td><td>african          </td><td>2697</td></tr>\n",
       "\t<tr><td>1080969</td><td>e_asian          </td><td>1973</td></tr>\n",
       "\t<tr><td>1080969</td><td>non_british_white</td><td>3241</td></tr>\n",
       "\t<tr><td>1080969</td><td>others           </td><td>3296</td></tr>\n",
       "\t<tr><td>1080969</td><td>related          </td><td>3358</td></tr>\n",
       "\t<tr><td>1080969</td><td>s_asian          </td><td>2863</td></tr>\n",
       "\t<tr><td>1080969</td><td>white_british    </td><td>3674</td></tr>\n",
       "\t<tr><td>1080600</td><td>others           </td><td>   1</td></tr>\n",
       "\t<tr><td>1080600</td><td>related          </td><td>   3</td></tr>\n",
       "\t<tr><td>1080278</td><td>african          </td><td> 206</td></tr>\n",
       "\t<tr><td>1080278</td><td>e_asian          </td><td> 249</td></tr>\n",
       "\t<tr><td>1080278</td><td>non_british_white</td><td> 142</td></tr>\n",
       "\t<tr><td>1080278</td><td>others           </td><td> 144</td></tr>\n",
       "\t<tr><td>1080278</td><td>related          </td><td>  83</td></tr>\n",
       "\t<tr><td>1080278</td><td>s_asian          </td><td> 121</td></tr>\n",
       "\t<tr><td>1080278</td><td>white_british    </td><td> 121</td></tr>\n",
       "\t<tr><td>      0</td><td>african          </td><td>   7</td></tr>\n",
       "\t<tr><td>      0</td><td>e_asian          </td><td>  21</td></tr>\n",
       "\t<tr><td>      0</td><td>non_british_white</td><td>  10</td></tr>\n",
       "\t<tr><td>      0</td><td>others           </td><td>  10</td></tr>\n",
       "\t<tr><td>      0</td><td>related          </td><td>  10</td></tr>\n",
       "\t<tr><td>      0</td><td>s_asian          </td><td>   3</td></tr>\n",
       "\t<tr><td>      0</td><td>white_british    </td><td>  11</td></tr>\n",
       "</tbody>\n",
       "</table>\n"
      ],
      "text/latex": [
       "A data.table: 23 × 3\n",
       "\\begin{tabular}{lll}\n",
       " wc\\_l & population & n\\\\\n",
       " <dbl> & <chr> & <int>\\\\\n",
       "\\hline\n",
       "\t 1080969 & african           & 2697\\\\\n",
       "\t 1080969 & e\\_asian           & 1973\\\\\n",
       "\t 1080969 & non\\_british\\_white & 3241\\\\\n",
       "\t 1080969 & others            & 3296\\\\\n",
       "\t 1080969 & related           & 3358\\\\\n",
       "\t 1080969 & s\\_asian           & 2863\\\\\n",
       "\t 1080969 & white\\_british     & 3674\\\\\n",
       "\t 1080600 & others            &    1\\\\\n",
       "\t 1080600 & related           &    3\\\\\n",
       "\t 1080278 & african           &  206\\\\\n",
       "\t 1080278 & e\\_asian           &  249\\\\\n",
       "\t 1080278 & non\\_british\\_white &  142\\\\\n",
       "\t 1080278 & others            &  144\\\\\n",
       "\t 1080278 & related           &   83\\\\\n",
       "\t 1080278 & s\\_asian           &  121\\\\\n",
       "\t 1080278 & white\\_british     &  121\\\\\n",
       "\t       0 & african           &    7\\\\\n",
       "\t       0 & e\\_asian           &   21\\\\\n",
       "\t       0 & non\\_british\\_white &   10\\\\\n",
       "\t       0 & others            &   10\\\\\n",
       "\t       0 & related           &   10\\\\\n",
       "\t       0 & s\\_asian           &    3\\\\\n",
       "\t       0 & white\\_british     &   11\\\\\n",
       "\\end{tabular}\n"
      ],
      "text/markdown": [
       "\n",
       "A data.table: 23 × 3\n",
       "\n",
       "| wc_l &lt;dbl&gt; | population &lt;chr&gt; | n &lt;int&gt; |\n",
       "|---|---|---|\n",
       "| 1080969 | african           | 2697 |\n",
       "| 1080969 | e_asian           | 1973 |\n",
       "| 1080969 | non_british_white | 3241 |\n",
       "| 1080969 | others            | 3296 |\n",
       "| 1080969 | related           | 3358 |\n",
       "| 1080969 | s_asian           | 2863 |\n",
       "| 1080969 | white_british     | 3674 |\n",
       "| 1080600 | others            |    1 |\n",
       "| 1080600 | related           |    3 |\n",
       "| 1080278 | african           |  206 |\n",
       "| 1080278 | e_asian           |  249 |\n",
       "| 1080278 | non_british_white |  142 |\n",
       "| 1080278 | others            |  144 |\n",
       "| 1080278 | related           |   83 |\n",
       "| 1080278 | s_asian           |  121 |\n",
       "| 1080278 | white_british     |  121 |\n",
       "|       0 | african           |    7 |\n",
       "|       0 | e_asian           |   21 |\n",
       "|       0 | non_british_white |   10 |\n",
       "|       0 | others            |   10 |\n",
       "|       0 | related           |   10 |\n",
       "|       0 | s_asian           |    3 |\n",
       "|       0 | white_british     |   11 |\n",
       "\n"
      ],
      "text/plain": [
       "   wc_l    population        n   \n",
       "1  1080969 african           2697\n",
       "2  1080969 e_asian           1973\n",
       "3  1080969 non_british_white 3241\n",
       "4  1080969 others            3296\n",
       "5  1080969 related           3358\n",
       "6  1080969 s_asian           2863\n",
       "7  1080969 white_british     3674\n",
       "8  1080600 others               1\n",
       "9  1080600 related              3\n",
       "10 1080278 african            206\n",
       "11 1080278 e_asian            249\n",
       "12 1080278 non_british_white  142\n",
       "13 1080278 others             144\n",
       "14 1080278 related             83\n",
       "15 1080278 s_asian            121\n",
       "16 1080278 white_british      121\n",
       "17       0 african              7\n",
       "18       0 e_asian             21\n",
       "19       0 non_british_white   10\n",
       "20       0 others              10\n",
       "21       0 related             10\n",
       "22       0 s_asian              3\n",
       "23       0 white_british       11"
      ]
     },
     "metadata": {},
     "output_type": "display_data"
    }
   ],
   "source": [
    "combined_df %>% count(wc_l, population) %>%\n",
    "arrange(-wc_l, population)"
   ]
  },
  {
   "cell_type": "code",
   "execution_count": 9,
   "metadata": {},
   "outputs": [
    {
     "data": {
      "text/html": [
       "<table>\n",
       "<caption>A data.table: 4 × 2</caption>\n",
       "<thead>\n",
       "\t<tr><th scope=col>wc_l</th><th scope=col>n</th></tr>\n",
       "\t<tr><th scope=col>&lt;dbl&gt;</th><th scope=col>&lt;int&gt;</th></tr>\n",
       "</thead>\n",
       "<tbody>\n",
       "\t<tr><td>1080969</td><td>21102</td></tr>\n",
       "\t<tr><td>1080600</td><td>    4</td></tr>\n",
       "\t<tr><td>1080278</td><td> 1066</td></tr>\n",
       "\t<tr><td>      0</td><td>   72</td></tr>\n",
       "</tbody>\n",
       "</table>\n"
      ],
      "text/latex": [
       "A data.table: 4 × 2\n",
       "\\begin{tabular}{ll}\n",
       " wc\\_l & n\\\\\n",
       " <dbl> & <int>\\\\\n",
       "\\hline\n",
       "\t 1080969 & 21102\\\\\n",
       "\t 1080600 &     4\\\\\n",
       "\t 1080278 &  1066\\\\\n",
       "\t       0 &    72\\\\\n",
       "\\end{tabular}\n"
      ],
      "text/markdown": [
       "\n",
       "A data.table: 4 × 2\n",
       "\n",
       "| wc_l &lt;dbl&gt; | n &lt;int&gt; |\n",
       "|---|---|\n",
       "| 1080969 | 21102 |\n",
       "| 1080600 |     4 |\n",
       "| 1080278 |  1066 |\n",
       "|       0 |    72 |\n",
       "\n"
      ],
      "text/plain": [
       "  wc_l    n    \n",
       "1 1080969 21102\n",
       "2 1080600     4\n",
       "3 1080278  1066\n",
       "4       0    72"
      ]
     },
     "metadata": {},
     "output_type": "display_data"
    }
   ],
   "source": [
    "combined_df %>% count(wc_l) %>%\n",
    "arrange(-wc_l)"
   ]
  },
  {
   "cell_type": "code",
   "execution_count": null,
   "metadata": {},
   "outputs": [],
   "source": []
  }
 ],
 "metadata": {
  "kernelspec": {
   "display_name": "R",
   "language": "R",
   "name": "ir"
  },
  "language_info": {
   "codemirror_mode": "r",
   "file_extension": ".r",
   "mimetype": "text/x-r-source",
   "name": "R",
   "pygments_lexer": "r",
   "version": "3.6.2"
  }
 },
 "nbformat": 4,
 "nbformat_minor": 4
}
