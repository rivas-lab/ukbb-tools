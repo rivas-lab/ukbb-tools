{
 "cells": [
  {
   "cell_type": "code",
   "execution_count": 1,
   "metadata": {},
   "outputs": [],
   "source": [
    "suppressWarnings(suppressPackageStartupMessages({\n",
    "    library(tidyverse)\n",
    "    library(data.table)\n",
    "}))\n"
   ]
  },
  {
   "cell_type": "code",
   "execution_count": 3,
   "metadata": {},
   "outputs": [],
   "source": [
    "# input\n",
    "master_phe_f <- '/oak/stanford/groups/mrivas/ukbb24983/phenotypedata/master_phe/master.20200522.phe'\n",
    "missing_df <- 'missing_pop_GBE.minN100.20200627-110724.tsv' %>% fread() %>% rename('population'='#population')\n",
    "related_f <- '/oak/stanford/groups/mrivas/ukbb24983/sqc/relatedness_20200514/semi_related.fam'\n",
    "\n",
    "# output\n",
    "gwas_redo_idx <- '20200627-gwas-additional-pops-redo.job.index.20200627-110724.tsv'\n"
   ]
  },
  {
   "cell_type": "code",
   "execution_count": 4,
   "metadata": {},
   "outputs": [],
   "source": [
    "master_phe_df <- fread(\n",
    "    master_phe_f,\n",
    "    select=c('#FID','IID','population', missing_df %>% pull(GBE_ID) %>% unique()),\n",
    "    colClasses=c('#FID'='character', 'IID'='character')\n",
    ") %>%\n",
    "rename('FID'='#FID')\n"
   ]
  },
  {
   "cell_type": "code",
   "execution_count": 5,
   "metadata": {},
   "outputs": [],
   "source": [
    "related_df <- fread(related_f, head=F, colClasses='character')\n",
    "colnames(related_df) <- c('FID', 'IID')\n"
   ]
  },
  {
   "cell_type": "code",
   "execution_count": 6,
   "metadata": {},
   "outputs": [],
   "source": [
    "master_phe_head0_df <- fread(\n",
    "    master_phe_f, nrows=0,\n",
    "    colClasses=c('#FID'='character', 'IID'='character')\n",
    ") %>%\n",
    "rename('FID'='#FID')\n"
   ]
  },
  {
   "cell_type": "code",
   "execution_count": 7,
   "metadata": {},
   "outputs": [],
   "source": [
    "master_phe_df %>%\n",
    "left_join(\n",
    "    related_df %>% mutate(related = 'related'),\n",
    "    by=c('FID', 'IID') \n",
    ") %>%\n",
    "mutate(\n",
    "    population = if_else(is.na(related), population, 'related'),\n",
    "#     population = if_else(population %in% c('e_asian_outlier', 's_asian_outlier'), 'others', population)\n",
    ") -> master_phe_rel_df\n"
   ]
  },
  {
   "cell_type": "code",
   "execution_count": 8,
   "metadata": {},
   "outputs": [
    {
     "data": {
      "text/html": [
       "<table>\n",
       "<caption>A tibble: 10 × 2</caption>\n",
       "<thead>\n",
       "\t<tr><th scope=col>population</th><th scope=col>n</th></tr>\n",
       "\t<tr><th scope=col>&lt;chr&gt;</th><th scope=col>&lt;int&gt;</th></tr>\n",
       "</thead>\n",
       "<tbody>\n",
       "\t<tr><td>african          </td><td>  6497</td></tr>\n",
       "\t<tr><td>e_asian          </td><td>  1154</td></tr>\n",
       "\t<tr><td>e_asian_outlier  </td><td>   618</td></tr>\n",
       "\t<tr><td>non_british_white</td><td> 24905</td></tr>\n",
       "\t<tr><td>others           </td><td> 28467</td></tr>\n",
       "\t<tr><td>related          </td><td> 44632</td></tr>\n",
       "\t<tr><td>s_asian          </td><td>  7885</td></tr>\n",
       "\t<tr><td>s_asian_outlier  </td><td>    77</td></tr>\n",
       "\t<tr><td>white_british    </td><td>337138</td></tr>\n",
       "\t<tr><td>NA               </td><td> 65397</td></tr>\n",
       "</tbody>\n",
       "</table>\n"
      ],
      "text/latex": [
       "A tibble: 10 × 2\n",
       "\\begin{tabular}{ll}\n",
       " population & n\\\\\n",
       " <chr> & <int>\\\\\n",
       "\\hline\n",
       "\t african           &   6497\\\\\n",
       "\t e\\_asian           &   1154\\\\\n",
       "\t e\\_asian\\_outlier   &    618\\\\\n",
       "\t non\\_british\\_white &  24905\\\\\n",
       "\t others            &  28467\\\\\n",
       "\t related           &  44632\\\\\n",
       "\t s\\_asian           &   7885\\\\\n",
       "\t s\\_asian\\_outlier   &     77\\\\\n",
       "\t white\\_british     & 337138\\\\\n",
       "\t NA                &  65397\\\\\n",
       "\\end{tabular}\n"
      ],
      "text/markdown": [
       "\n",
       "A tibble: 10 × 2\n",
       "\n",
       "| population &lt;chr&gt; | n &lt;int&gt; |\n",
       "|---|---|\n",
       "| african           |   6497 |\n",
       "| e_asian           |   1154 |\n",
       "| e_asian_outlier   |    618 |\n",
       "| non_british_white |  24905 |\n",
       "| others            |  28467 |\n",
       "| related           |  44632 |\n",
       "| s_asian           |   7885 |\n",
       "| s_asian_outlier   |     77 |\n",
       "| white_british     | 337138 |\n",
       "| NA                |  65397 |\n",
       "\n"
      ],
      "text/plain": [
       "   population        n     \n",
       "1  african             6497\n",
       "2  e_asian             1154\n",
       "3  e_asian_outlier      618\n",
       "4  non_british_white  24905\n",
       "5  others             28467\n",
       "6  related            44632\n",
       "7  s_asian             7885\n",
       "8  s_asian_outlier       77\n",
       "9  white_british     337138\n",
       "10 NA                 65397"
      ]
     },
     "metadata": {},
     "output_type": "display_data"
    }
   ],
   "source": [
    "master_phe_rel_df %>% count(population)"
   ]
  },
  {
   "cell_type": "code",
   "execution_count": 9,
   "metadata": {},
   "outputs": [],
   "source": [
    "master_phe_col_idx <- data.frame(\n",
    "    GBE_ID=colnames(master_phe_head0_df),\n",
    "    col_idx=1:ncol(master_phe_head0_df),\n",
    "    stringsAsFactors=F\n",
    ")\n"
   ]
  },
  {
   "cell_type": "code",
   "execution_count": 10,
   "metadata": {},
   "outputs": [],
   "source": [
    "master_phe_rel_df %>%\n",
    "drop_na(population)%>%\n",
    "select(-FID, -IID) %>%\n",
    "gather(GBE_ID, val, -population) %>%\n",
    "drop_na(val) %>%\n",
    "filter(val != -9) %>% \n",
    "unique() %>%\n",
    "mutate(GBE_CAT=str_replace_all(GBE_ID, '[0-9]', '')) %>%\n",
    "filter(!GBE_CAT %in% c('INI','QT_FC')) %>%\n",
    "count(population, GBE_ID) -> binary_traits_level_count\n"
   ]
  },
  {
   "cell_type": "code",
   "execution_count": 11,
   "metadata": {},
   "outputs": [
    {
     "data": {
      "text/html": [
       "<table>\n",
       "<caption>A tibble: 9 × 2</caption>\n",
       "<thead>\n",
       "\t<tr><th scope=col>population</th><th scope=col>n</th></tr>\n",
       "\t<tr><th scope=col>&lt;chr&gt;</th><th scope=col>&lt;int&gt;</th></tr>\n",
       "</thead>\n",
       "<tbody>\n",
       "\t<tr><td>african          </td><td>125</td></tr>\n",
       "\t<tr><td>e_asian          </td><td>124</td></tr>\n",
       "\t<tr><td>e_asian_outlier  </td><td>122</td></tr>\n",
       "\t<tr><td>non_british_white</td><td>125</td></tr>\n",
       "\t<tr><td>others           </td><td>125</td></tr>\n",
       "\t<tr><td>related          </td><td>126</td></tr>\n",
       "\t<tr><td>s_asian          </td><td>125</td></tr>\n",
       "\t<tr><td>s_asian_outlier  </td><td>120</td></tr>\n",
       "\t<tr><td>white_british    </td><td>125</td></tr>\n",
       "</tbody>\n",
       "</table>\n"
      ],
      "text/latex": [
       "A tibble: 9 × 2\n",
       "\\begin{tabular}{ll}\n",
       " population & n\\\\\n",
       " <chr> & <int>\\\\\n",
       "\\hline\n",
       "\t african           & 125\\\\\n",
       "\t e\\_asian           & 124\\\\\n",
       "\t e\\_asian\\_outlier   & 122\\\\\n",
       "\t non\\_british\\_white & 125\\\\\n",
       "\t others            & 125\\\\\n",
       "\t related           & 126\\\\\n",
       "\t s\\_asian           & 125\\\\\n",
       "\t s\\_asian\\_outlier   & 120\\\\\n",
       "\t white\\_british     & 125\\\\\n",
       "\\end{tabular}\n"
      ],
      "text/markdown": [
       "\n",
       "A tibble: 9 × 2\n",
       "\n",
       "| population &lt;chr&gt; | n &lt;int&gt; |\n",
       "|---|---|\n",
       "| african           | 125 |\n",
       "| e_asian           | 124 |\n",
       "| e_asian_outlier   | 122 |\n",
       "| non_british_white | 125 |\n",
       "| others            | 125 |\n",
       "| related           | 126 |\n",
       "| s_asian           | 125 |\n",
       "| s_asian_outlier   | 120 |\n",
       "| white_british     | 125 |\n",
       "\n"
      ],
      "text/plain": [
       "  population        n  \n",
       "1 african           125\n",
       "2 e_asian           124\n",
       "3 e_asian_outlier   122\n",
       "4 non_british_white 125\n",
       "5 others            125\n",
       "6 related           126\n",
       "7 s_asian           125\n",
       "8 s_asian_outlier   120\n",
       "9 white_british     125"
      ]
     },
     "metadata": {},
     "output_type": "display_data"
    }
   ],
   "source": [
    "binary_traits_level_count %>% count(population)"
   ]
  },
  {
   "cell_type": "code",
   "execution_count": 65,
   "metadata": {},
   "outputs": [],
   "source": [
    "missing_df %>%\n",
    "left_join(master_phe_col_idx, by='GBE_ID') %>%\n",
    "left_join(binary_traits_level_count, by=c('population', 'GBE_ID')) %>%\n",
    "filter(is.na(n) | (n > 1)) %>%\n",
    "select(population, GBE_ID, col_idx, N_pop, GBE_NAME) -> missing_filtered_df \n"
   ]
  },
  {
   "cell_type": "code",
   "execution_count": 66,
   "metadata": {},
   "outputs": [
    {
     "data": {
      "text/html": [
       "<table>\n",
       "<caption>A tibble: 7 × 2</caption>\n",
       "<thead>\n",
       "\t<tr><th scope=col>population</th><th scope=col>n</th></tr>\n",
       "\t<tr><th scope=col>&lt;chr&gt;</th><th scope=col>&lt;int&gt;</th></tr>\n",
       "</thead>\n",
       "<tbody>\n",
       "\t<tr><td>others           </td><td>219</td></tr>\n",
       "\t<tr><td>related          </td><td>112</td></tr>\n",
       "\t<tr><td>e_asian          </td><td> 90</td></tr>\n",
       "\t<tr><td>white_british    </td><td> 59</td></tr>\n",
       "\t<tr><td>non_british_white</td><td> 32</td></tr>\n",
       "\t<tr><td>african          </td><td> 15</td></tr>\n",
       "\t<tr><td>s_asian          </td><td> 13</td></tr>\n",
       "</tbody>\n",
       "</table>\n"
      ],
      "text/latex": [
       "A tibble: 7 × 2\n",
       "\\begin{tabular}{ll}\n",
       " population & n\\\\\n",
       " <chr> & <int>\\\\\n",
       "\\hline\n",
       "\t others            & 219\\\\\n",
       "\t related           & 112\\\\\n",
       "\t e\\_asian           &  90\\\\\n",
       "\t white\\_british     &  59\\\\\n",
       "\t non\\_british\\_white &  32\\\\\n",
       "\t african           &  15\\\\\n",
       "\t s\\_asian           &  13\\\\\n",
       "\\end{tabular}\n"
      ],
      "text/markdown": [
       "\n",
       "A tibble: 7 × 2\n",
       "\n",
       "| population &lt;chr&gt; | n &lt;int&gt; |\n",
       "|---|---|\n",
       "| others            | 219 |\n",
       "| related           | 112 |\n",
       "| e_asian           |  90 |\n",
       "| white_british     |  59 |\n",
       "| non_british_white |  32 |\n",
       "| african           |  15 |\n",
       "| s_asian           |  13 |\n",
       "\n"
      ],
      "text/plain": [
       "  population        n  \n",
       "1 others            219\n",
       "2 related           112\n",
       "3 e_asian            90\n",
       "4 white_british      59\n",
       "5 non_british_white  32\n",
       "6 african            15\n",
       "7 s_asian            13"
      ]
     },
     "metadata": {},
     "output_type": "display_data"
    }
   ],
   "source": [
    "missing_filtered_df  %>% count(population) %>% arrange(-n)"
   ]
  },
  {
   "cell_type": "code",
   "execution_count": 67,
   "metadata": {},
   "outputs": [],
   "source": [
    "missing_filtered_df %>%\n",
    "rename('#population' = 'population') %>%\n",
    "fwrite(gwas_redo_idx, sep='\\t', na = \"NA\", quote=F)\n"
   ]
  },
  {
   "cell_type": "code",
   "execution_count": 68,
   "metadata": {},
   "outputs": [
    {
     "data": {
      "text/html": [
       "<table>\n",
       "<caption>A data.frame: 6 × 5</caption>\n",
       "<thead>\n",
       "\t<tr><th></th><th scope=col>population</th><th scope=col>GBE_ID</th><th scope=col>col_idx</th><th scope=col>N_pop</th><th scope=col>GBE_NAME</th></tr>\n",
       "\t<tr><th></th><th scope=col>&lt;chr&gt;</th><th scope=col>&lt;chr&gt;</th><th scope=col>&lt;int&gt;</th><th scope=col>&lt;int&gt;</th><th scope=col>&lt;chr&gt;</th></tr>\n",
       "</thead>\n",
       "<tbody>\n",
       "\t<tr><th scope=row>1</th><td>others</td><td>BIN_FC20022506</td><td> 895</td><td>  354</td><td>Tobacco_smoking_current_vs_past                                        </td></tr>\n",
       "\t<tr><th scope=row>2</th><td>others</td><td>HC678         </td><td> 901</td><td>  131</td><td>TTE_deficiency_of_other_b_group_vitamins                               </td></tr>\n",
       "\t<tr><th scope=row>3</th><td>others</td><td>HC868         </td><td> 897</td><td>  159</td><td>TTE_iridocyclitis                                                      </td></tr>\n",
       "\t<tr><th scope=row>4</th><td>others</td><td>INI100150     </td><td>2609</td><td>10886</td><td>Drinking_water_intake_(Diet,_24hr_recall,_Online_follow-up)            </td></tr>\n",
       "\t<tr><th scope=row>5</th><td>others</td><td>INI100210     </td><td> 277</td><td> 2814</td><td>Pure_fruit/vegetable_juice_intake_(Diet,_24hr_recall,_Online_follow-up)</td></tr>\n",
       "\t<tr><th scope=row>6</th><td>others</td><td>INI10030630   </td><td> 278</td><td>24267</td><td>Apolipoprotein_A                                                       </td></tr>\n",
       "</tbody>\n",
       "</table>\n"
      ],
      "text/latex": [
       "A data.frame: 6 × 5\n",
       "\\begin{tabular}{r|lllll}\n",
       "  & population & GBE\\_ID & col\\_idx & N\\_pop & GBE\\_NAME\\\\\n",
       "  & <chr> & <chr> & <int> & <int> & <chr>\\\\\n",
       "\\hline\n",
       "\t1 & others & BIN\\_FC20022506 &  895 &   354 & Tobacco\\_smoking\\_current\\_vs\\_past                                        \\\\\n",
       "\t2 & others & HC678          &  901 &   131 & TTE\\_deficiency\\_of\\_other\\_b\\_group\\_vitamins                               \\\\\n",
       "\t3 & others & HC868          &  897 &   159 & TTE\\_iridocyclitis                                                      \\\\\n",
       "\t4 & others & INI100150      & 2609 & 10886 & Drinking\\_water\\_intake\\_(Diet,\\_24hr\\_recall,\\_Online\\_follow-up)            \\\\\n",
       "\t5 & others & INI100210      &  277 &  2814 & Pure\\_fruit/vegetable\\_juice\\_intake\\_(Diet,\\_24hr\\_recall,\\_Online\\_follow-up)\\\\\n",
       "\t6 & others & INI10030630    &  278 & 24267 & Apolipoprotein\\_A                                                       \\\\\n",
       "\\end{tabular}\n"
      ],
      "text/markdown": [
       "\n",
       "A data.frame: 6 × 5\n",
       "\n",
       "| <!--/--> | population &lt;chr&gt; | GBE_ID &lt;chr&gt; | col_idx &lt;int&gt; | N_pop &lt;int&gt; | GBE_NAME &lt;chr&gt; |\n",
       "|---|---|---|---|---|---|\n",
       "| 1 | others | BIN_FC20022506 |  895 |   354 | Tobacco_smoking_current_vs_past                                         |\n",
       "| 2 | others | HC678          |  901 |   131 | TTE_deficiency_of_other_b_group_vitamins                                |\n",
       "| 3 | others | HC868          |  897 |   159 | TTE_iridocyclitis                                                       |\n",
       "| 4 | others | INI100150      | 2609 | 10886 | Drinking_water_intake_(Diet,_24hr_recall,_Online_follow-up)             |\n",
       "| 5 | others | INI100210      |  277 |  2814 | Pure_fruit/vegetable_juice_intake_(Diet,_24hr_recall,_Online_follow-up) |\n",
       "| 6 | others | INI10030630    |  278 | 24267 | Apolipoprotein_A                                                        |\n",
       "\n"
      ],
      "text/plain": [
       "  population GBE_ID         col_idx N_pop\n",
       "1 others     BIN_FC20022506  895      354\n",
       "2 others     HC678           901      131\n",
       "3 others     HC868           897      159\n",
       "4 others     INI100150      2609    10886\n",
       "5 others     INI100210       277     2814\n",
       "6 others     INI10030630     278    24267\n",
       "  GBE_NAME                                                               \n",
       "1 Tobacco_smoking_current_vs_past                                        \n",
       "2 TTE_deficiency_of_other_b_group_vitamins                               \n",
       "3 TTE_iridocyclitis                                                      \n",
       "4 Drinking_water_intake_(Diet,_24hr_recall,_Online_follow-up)            \n",
       "5 Pure_fruit/vegetable_juice_intake_(Diet,_24hr_recall,_Online_follow-up)\n",
       "6 Apolipoprotein_A                                                       "
      ]
     },
     "metadata": {},
     "output_type": "display_data"
    }
   ],
   "source": [
    "missing_filtered_df %>%\n",
    "filter(population == 'others') %>%\n",
    "head()"
   ]
  },
  {
   "cell_type": "code",
   "execution_count": null,
   "metadata": {},
   "outputs": [],
   "source": []
  }
 ],
 "metadata": {
  "kernelspec": {
   "display_name": "R",
   "language": "R",
   "name": "ir"
  },
  "language_info": {
   "codemirror_mode": "r",
   "file_extension": ".r",
   "mimetype": "text/x-r-source",
   "name": "R",
   "pygments_lexer": "r",
   "version": "3.6.1"
  }
 },
 "nbformat": 4,
 "nbformat_minor": 4
}
