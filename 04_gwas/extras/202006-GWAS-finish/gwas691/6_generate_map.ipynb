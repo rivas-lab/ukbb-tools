{
 "cells": [
  {
   "cell_type": "code",
   "execution_count": 1,
   "metadata": {},
   "outputs": [],
   "source": [
    "suppressWarnings(suppressPackageStartupMessages({\n",
    "    library(tidyverse)\n",
    "    library(data.table)\n",
    "}))\n"
   ]
  },
  {
   "cell_type": "code",
   "execution_count": 2,
   "metadata": {},
   "outputs": [],
   "source": [
    "# input\n",
    "idx_file=\"../gwas-current-gz-wc.20200629-131527.tsv\"\n",
    "wc_l_file='4_wc_l.tsv'\n",
    "\n",
    "# output\n",
    "map_file='6_map.tsv'\n"
   ]
  },
  {
   "cell_type": "code",
   "execution_count": 10,
   "metadata": {},
   "outputs": [],
   "source": [
    "wc_l_df <- fread(wc_l_file) %>%\n",
    "rename('wc_l'='#wc_l') %>%\n",
    "separate(file, c(rep(NA, 1), 'population', 'basename'), sep='/', remove=F, fill='right', extra='drop') %>%\n",
    "separate(basename, c(NA, 'GBE_ID', NA), sep='\\\\.', remove=T, fill='right', extra='drop')\n"
   ]
  },
  {
   "cell_type": "code",
   "execution_count": 14,
   "metadata": {},
   "outputs": [
    {
     "data": {
      "text/html": [
       "<table>\n",
       "<caption>A tibble: 2 × 2</caption>\n",
       "<thead>\n",
       "\t<tr><th scope=col>population</th><th scope=col>n</th></tr>\n",
       "\t<tr><th scope=col>&lt;chr&gt;</th><th scope=col>&lt;int&gt;</th></tr>\n",
       "</thead>\n",
       "<tbody>\n",
       "\t<tr><td>others </td><td>89</td></tr>\n",
       "\t<tr><td>related</td><td>91</td></tr>\n",
       "</tbody>\n",
       "</table>\n"
      ],
      "text/latex": [
       "A tibble: 2 × 2\n",
       "\\begin{tabular}{ll}\n",
       " population & n\\\\\n",
       " <chr> & <int>\\\\\n",
       "\\hline\n",
       "\t others  & 89\\\\\n",
       "\t related & 91\\\\\n",
       "\\end{tabular}\n"
      ],
      "text/markdown": [
       "\n",
       "A tibble: 2 × 2\n",
       "\n",
       "| population &lt;chr&gt; | n &lt;int&gt; |\n",
       "|---|---|\n",
       "| others  | 89 |\n",
       "| related | 91 |\n",
       "\n"
      ],
      "text/plain": [
       "  population n \n",
       "1 others     89\n",
       "2 related    91"
      ]
     },
     "metadata": {},
     "output_type": "display_data"
    }
   ],
   "source": [
    "wc_l_df %>%\n",
    "count(population)"
   ]
  },
  {
   "cell_type": "code",
   "execution_count": 15,
   "metadata": {},
   "outputs": [],
   "source": [
    "idx_df <- fread(idx_file) %>%\n",
    "rename('symlink'='#symlink')\n"
   ]
  },
  {
   "cell_type": "code",
   "execution_count": 22,
   "metadata": {},
   "outputs": [],
   "source": [
    "idx_df %>%\n",
    "filter(wc_l == 1080278) %>%\n",
    "separate(symlink, c(rep(NA, 9), 'population', 'basename'), sep='/', remove=F, fill='right', extra='drop') %>%\n",
    "separate(basename, c(NA, 'GBE_ID', NA), sep='\\\\.', remove=T, fill='right', extra='drop') %>%\n",
    "rename('wc_l_main'='wc_l') %>%\n",
    "left_join(\n",
    "    wc_l_df %>% rename('wc_l_sub'='wc_l'),\n",
    "    by=c('GBE_ID', 'population')\n",
    ") %>%\n",
    "select(GBE_ID, population, symlink, location, file, wc_l_main, wc_l_sub) -> check_df \n"
   ]
  },
  {
   "cell_type": "code",
   "execution_count": 27,
   "metadata": {},
   "outputs": [
    {
     "name": "stdout",
     "output_type": "stream",
     "text": [
      "[1] 407   7\n",
      "[1] 227   7\n",
      "[1] 180   7\n"
     ]
    }
   ],
   "source": [
    "check_df %>% dim() %>% print()\n",
    "check_df %>% filter(is.na(file)) %>% dim() %>% print()\n",
    "check_df %>% drop_na(file) %>% dim() %>% print()"
   ]
  },
  {
   "cell_type": "code",
   "execution_count": 28,
   "metadata": {},
   "outputs": [],
   "source": [
    "check_df %>%\n",
    "drop_na(file) %>%\n",
    "select(GBE_ID, population, symlink, location, file) %>%\n",
    "rename('#GBE_ID' = 'GBE_ID') %>%\n",
    "fwrite(map_file, sep='\\t', na = \"NA\", quote=F)\n"
   ]
  },
  {
   "cell_type": "code",
   "execution_count": null,
   "metadata": {},
   "outputs": [],
   "source": []
  }
 ],
 "metadata": {
  "kernelspec": {
   "display_name": "R",
   "language": "R",
   "name": "ir"
  },
  "language_info": {
   "codemirror_mode": "r",
   "file_extension": ".r",
   "mimetype": "text/x-r-source",
   "name": "R",
   "pygments_lexer": "r",
   "version": "3.6.1"
  }
 },
 "nbformat": 4,
 "nbformat_minor": 4
}
