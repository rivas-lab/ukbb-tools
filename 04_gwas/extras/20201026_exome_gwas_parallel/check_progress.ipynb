{
 "cells": [
  {
   "cell_type": "code",
   "execution_count": 8,
   "metadata": {},
   "outputs": [],
   "source": [
    "suppressWarnings(suppressPackageStartupMessages({\n",
    "    library(tidyverse)\n",
    "    library(data.table)\n",
    "}))\n"
   ]
  },
  {
   "cell_type": "code",
   "execution_count": 31,
   "metadata": {},
   "outputs": [],
   "source": [
    "'3a_check_results.BINs.20201102-171020.tsv'%>%\n",
    "fread() %>% rename('population'='#population') -> df"
   ]
  },
  {
   "cell_type": "code",
   "execution_count": 32,
   "metadata": {},
   "outputs": [
    {
     "name": "stdout",
     "output_type": "stream",
     "text": [
      "          population    n\n",
      "1:           african 1143\n",
      "2:           e_asian  603\n",
      "3: non_british_white 1595\n",
      "4:            others 1477\n",
      "5:           related 1385\n",
      "6:           s_asian 1369\n",
      "7:     white_british 1873\n"
     ]
    }
   ],
   "source": [
    "df %>% filter(n_finished_batch == 100) %>%\n",
    "count(population) %>% print()\n"
   ]
  },
  {
   "cell_type": "code",
   "execution_count": 33,
   "metadata": {},
   "outputs": [
    {
     "name": "stdout",
     "output_type": "stream",
     "text": [
      "      population  n\n",
      "1: white_british 11\n"
     ]
    },
    {
     "data": {
      "text/html": [
       "0.36"
      ],
      "text/latex": [
       "0.36"
      ],
      "text/markdown": [
       "0.36"
      ],
      "text/plain": [
       "[1] 0.36"
      ]
     },
     "metadata": {},
     "output_type": "display_data"
    }
   ],
   "source": [
    "df %>% filter(n_finished_batch != 100) %>%\n",
    "count(population) %>% print()\n",
    "\n",
    "df %>% filter(n_finished_batch != 100, population == 'white_british') %>%\n",
    "mutate(n_unfinished = 100 - n_finished_batch) %>%\n",
    "pull(n_unfinished) %>% sum() / 100\n"
   ]
  },
  {
   "cell_type": "markdown",
   "metadata": {},
   "source": [
    "1000 pheno remaining\n"
   ]
  },
  {
   "cell_type": "code",
   "execution_count": 34,
   "metadata": {},
   "outputs": [
    {
     "data": {
      "text/html": [
       "<table>\n",
       "<caption>A data.table: 6 × 2</caption>\n",
       "<thead>\n",
       "\t<tr><th scope=col>n_finished_batch</th><th scope=col>n</th></tr>\n",
       "\t<tr><th scope=col>&lt;int&gt;</th><th scope=col>&lt;int&gt;</th></tr>\n",
       "</thead>\n",
       "<tbody>\n",
       "\t<tr><td>90</td><td>1</td></tr>\n",
       "\t<tr><td>92</td><td>1</td></tr>\n",
       "\t<tr><td>94</td><td>1</td></tr>\n",
       "\t<tr><td>96</td><td>1</td></tr>\n",
       "\t<tr><td>98</td><td>1</td></tr>\n",
       "\t<tr><td>99</td><td>6</td></tr>\n",
       "</tbody>\n",
       "</table>\n"
      ],
      "text/latex": [
       "A data.table: 6 × 2\n",
       "\\begin{tabular}{ll}\n",
       " n\\_finished\\_batch & n\\\\\n",
       " <int> & <int>\\\\\n",
       "\\hline\n",
       "\t 90 & 1\\\\\n",
       "\t 92 & 1\\\\\n",
       "\t 94 & 1\\\\\n",
       "\t 96 & 1\\\\\n",
       "\t 98 & 1\\\\\n",
       "\t 99 & 6\\\\\n",
       "\\end{tabular}\n"
      ],
      "text/markdown": [
       "\n",
       "A data.table: 6 × 2\n",
       "\n",
       "| n_finished_batch &lt;int&gt; | n &lt;int&gt; |\n",
       "|---|---|\n",
       "| 90 | 1 |\n",
       "| 92 | 1 |\n",
       "| 94 | 1 |\n",
       "| 96 | 1 |\n",
       "| 98 | 1 |\n",
       "| 99 | 6 |\n",
       "\n"
      ],
      "text/plain": [
       "  n_finished_batch n\n",
       "1 90               1\n",
       "2 92               1\n",
       "3 94               1\n",
       "4 96               1\n",
       "5 98               1\n",
       "6 99               6"
      ]
     },
     "metadata": {},
     "output_type": "display_data"
    }
   ],
   "source": [
    "df %>% filter(n_finished_batch != 100) %>% count(n_finished_batch) %>% arrange(n_finished_batch)"
   ]
  },
  {
   "cell_type": "code",
   "execution_count": 35,
   "metadata": {},
   "outputs": [
    {
     "data": {
      "text/html": [
       "<table>\n",
       "<caption>A data.table: 11 × 3</caption>\n",
       "<thead>\n",
       "\t<tr><th scope=col>population</th><th scope=col>GBE_ID</th><th scope=col>n_finished_batch</th></tr>\n",
       "\t<tr><th scope=col>&lt;chr&gt;</th><th scope=col>&lt;chr&gt;</th><th scope=col>&lt;int&gt;</th></tr>\n",
       "</thead>\n",
       "<tbody>\n",
       "\t<tr><td>white_british</td><td>HC1308</td><td>90</td></tr>\n",
       "\t<tr><td>white_british</td><td>HC1307</td><td>92</td></tr>\n",
       "\t<tr><td>white_british</td><td>HC1314</td><td>94</td></tr>\n",
       "\t<tr><td>white_british</td><td>HC1299</td><td>96</td></tr>\n",
       "\t<tr><td>white_british</td><td>HC1584</td><td>98</td></tr>\n",
       "\t<tr><td>white_british</td><td>HC1297</td><td>99</td></tr>\n",
       "\t<tr><td>white_british</td><td>HC1317</td><td>99</td></tr>\n",
       "\t<tr><td>white_british</td><td>HC1319</td><td>99</td></tr>\n",
       "\t<tr><td>white_british</td><td>HC1362</td><td>99</td></tr>\n",
       "\t<tr><td>white_british</td><td>HC1563</td><td>99</td></tr>\n",
       "\t<tr><td>white_british</td><td>HC1582</td><td>99</td></tr>\n",
       "</tbody>\n",
       "</table>\n"
      ],
      "text/latex": [
       "A data.table: 11 × 3\n",
       "\\begin{tabular}{lll}\n",
       " population & GBE\\_ID & n\\_finished\\_batch\\\\\n",
       " <chr> & <chr> & <int>\\\\\n",
       "\\hline\n",
       "\t white\\_british & HC1308 & 90\\\\\n",
       "\t white\\_british & HC1307 & 92\\\\\n",
       "\t white\\_british & HC1314 & 94\\\\\n",
       "\t white\\_british & HC1299 & 96\\\\\n",
       "\t white\\_british & HC1584 & 98\\\\\n",
       "\t white\\_british & HC1297 & 99\\\\\n",
       "\t white\\_british & HC1317 & 99\\\\\n",
       "\t white\\_british & HC1319 & 99\\\\\n",
       "\t white\\_british & HC1362 & 99\\\\\n",
       "\t white\\_british & HC1563 & 99\\\\\n",
       "\t white\\_british & HC1582 & 99\\\\\n",
       "\\end{tabular}\n"
      ],
      "text/markdown": [
       "\n",
       "A data.table: 11 × 3\n",
       "\n",
       "| population &lt;chr&gt; | GBE_ID &lt;chr&gt; | n_finished_batch &lt;int&gt; |\n",
       "|---|---|---|\n",
       "| white_british | HC1308 | 90 |\n",
       "| white_british | HC1307 | 92 |\n",
       "| white_british | HC1314 | 94 |\n",
       "| white_british | HC1299 | 96 |\n",
       "| white_british | HC1584 | 98 |\n",
       "| white_british | HC1297 | 99 |\n",
       "| white_british | HC1317 | 99 |\n",
       "| white_british | HC1319 | 99 |\n",
       "| white_british | HC1362 | 99 |\n",
       "| white_british | HC1563 | 99 |\n",
       "| white_british | HC1582 | 99 |\n",
       "\n"
      ],
      "text/plain": [
       "   population    GBE_ID n_finished_batch\n",
       "1  white_british HC1308 90              \n",
       "2  white_british HC1307 92              \n",
       "3  white_british HC1314 94              \n",
       "4  white_british HC1299 96              \n",
       "5  white_british HC1584 98              \n",
       "6  white_british HC1297 99              \n",
       "7  white_british HC1317 99              \n",
       "8  white_british HC1319 99              \n",
       "9  white_british HC1362 99              \n",
       "10 white_british HC1563 99              \n",
       "11 white_british HC1582 99              "
      ]
     },
     "metadata": {},
     "output_type": "display_data"
    }
   ],
   "source": [
    "df %>% filter(n_finished_batch != 100) %>% arrange(n_finished_batch)"
   ]
  },
  {
   "cell_type": "code",
   "execution_count": null,
   "metadata": {},
   "outputs": [],
   "source": []
  },
  {
   "cell_type": "code",
   "execution_count": 24,
   "metadata": {},
   "outputs": [
    {
     "data": {
      "text/html": [
       "33.3333333333333"
      ],
      "text/latex": [
       "33.3333333333333"
      ],
      "text/markdown": [
       "33.3333333333333"
      ],
      "text/plain": [
       "[1] 33.33333"
      ]
     },
     "metadata": {},
     "output_type": "display_data"
    }
   ],
   "source": [
    "2000 / 60"
   ]
  },
  {
   "cell_type": "markdown",
   "metadata": {},
   "source": [
    "400 jobs at once.\n",
    "\n",
    "33 h per phe * 1000 pheno / 400 = 82.5 = 3.5 days"
   ]
  },
  {
   "cell_type": "code",
   "execution_count": null,
   "metadata": {},
   "outputs": [],
   "source": []
  }
 ],
 "metadata": {
  "kernelspec": {
   "display_name": "R",
   "language": "R",
   "name": "ir"
  },
  "language_info": {
   "codemirror_mode": "r",
   "file_extension": ".r",
   "mimetype": "text/x-r-source",
   "name": "R",
   "pygments_lexer": "r",
   "version": "3.6.2"
  }
 },
 "nbformat": 4,
 "nbformat_minor": 4
}
