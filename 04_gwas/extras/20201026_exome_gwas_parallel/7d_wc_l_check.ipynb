{
 "cells": [
  {
   "cell_type": "code",
   "execution_count": 2,
   "metadata": {},
   "outputs": [],
   "source": [
    "suppressWarnings(suppressPackageStartupMessages({\n",
    "    library(tidyverse)\n",
    "    library(data.table)\n",
    "}))\n"
   ]
  },
  {
   "cell_type": "code",
   "execution_count": 1,
   "metadata": {},
   "outputs": [],
   "source": [
    "wc_l_f <- '/scratch/groups/mrivas/ukbb24983/exome/gwas/master_phe_20201002_exomeOQFE/wc_l.20201105-081350.tsv'\n"
   ]
  },
  {
   "cell_type": "code",
   "execution_count": 3,
   "metadata": {},
   "outputs": [],
   "source": [
    "wc_l_f %>% fread(colClasses = c('#population'='character')) %>%\n",
    "rename('population'='#population') -> wc_l_df"
   ]
  },
  {
   "cell_type": "code",
   "execution_count": 4,
   "metadata": {},
   "outputs": [
    {
     "data": {
      "text/html": [
       "<style>\n",
       ".list-inline {list-style: none; margin:0; padding: 0}\n",
       ".list-inline>li {display: inline-block}\n",
       ".list-inline>li:not(:last-child)::after {content: \"\\00b7\"; padding: 0 .5ex}\n",
       "</style>\n",
       "<ol class=list-inline><li>20013</li><li>8</li></ol>\n"
      ],
      "text/latex": [
       "\\begin{enumerate*}\n",
       "\\item 20013\n",
       "\\item 8\n",
       "\\end{enumerate*}\n"
      ],
      "text/markdown": [
       "1. 20013\n",
       "2. 8\n",
       "\n",
       "\n"
      ],
      "text/plain": [
       "[1] 20013     8"
      ]
     },
     "metadata": {},
     "output_type": "display_data"
    }
   ],
   "source": [
    "wc_l_df %>% dim()"
   ]
  },
  {
   "cell_type": "code",
   "execution_count": 5,
   "metadata": {},
   "outputs": [
    {
     "data": {
      "text/html": [
       "<style>\n",
       ".list-inline {list-style: none; margin:0; padding: 0}\n",
       ".list-inline>li {display: inline-block}\n",
       ".list-inline>li:not(:last-child)::after {content: \"\\00b7\"; padding: 0 .5ex}\n",
       "</style>\n",
       "<ol class=list-inline><li>20013</li><li>8</li></ol>\n"
      ],
      "text/latex": [
       "\\begin{enumerate*}\n",
       "\\item 20013\n",
       "\\item 8\n",
       "\\end{enumerate*}\n"
      ],
      "text/markdown": [
       "1. 20013\n",
       "2. 8\n",
       "\n",
       "\n"
      ],
      "text/plain": [
       "[1] 20013     8"
      ]
     },
     "metadata": {},
     "output_type": "display_data"
    }
   ],
   "source": [
    "wc_l_df %>% filter(NF_wc_l == 1, wc_l %in% c(17777817, 17777951)) %>% dim()"
   ]
  },
  {
   "cell_type": "code",
   "execution_count": 6,
   "metadata": {},
   "outputs": [
    {
     "data": {
      "text/html": [
       "<table>\n",
       "<caption>A data.table: 7 × 2</caption>\n",
       "<thead>\n",
       "\t<tr><th scope=col>population</th><th scope=col>n</th></tr>\n",
       "\t<tr><th scope=col>&lt;chr&gt;</th><th scope=col>&lt;int&gt;</th></tr>\n",
       "</thead>\n",
       "<tbody>\n",
       "\t<tr><td>african          </td><td>2641</td></tr>\n",
       "\t<tr><td>e_asian          </td><td>2011</td></tr>\n",
       "\t<tr><td>non_british_white</td><td>3152</td></tr>\n",
       "\t<tr><td>others           </td><td>3031</td></tr>\n",
       "\t<tr><td>related          </td><td>2921</td></tr>\n",
       "\t<tr><td>s_asian          </td><td>2897</td></tr>\n",
       "\t<tr><td>white_british    </td><td>3360</td></tr>\n",
       "</tbody>\n",
       "</table>\n"
      ],
      "text/latex": [
       "A data.table: 7 × 2\n",
       "\\begin{tabular}{ll}\n",
       " population & n\\\\\n",
       " <chr> & <int>\\\\\n",
       "\\hline\n",
       "\t african           & 2641\\\\\n",
       "\t e\\_asian           & 2011\\\\\n",
       "\t non\\_british\\_white & 3152\\\\\n",
       "\t others            & 3031\\\\\n",
       "\t related           & 2921\\\\\n",
       "\t s\\_asian           & 2897\\\\\n",
       "\t white\\_british     & 3360\\\\\n",
       "\\end{tabular}\n"
      ],
      "text/markdown": [
       "\n",
       "A data.table: 7 × 2\n",
       "\n",
       "| population &lt;chr&gt; | n &lt;int&gt; |\n",
       "|---|---|\n",
       "| african           | 2641 |\n",
       "| e_asian           | 2011 |\n",
       "| non_british_white | 3152 |\n",
       "| others            | 3031 |\n",
       "| related           | 2921 |\n",
       "| s_asian           | 2897 |\n",
       "| white_british     | 3360 |\n",
       "\n"
      ],
      "text/plain": [
       "  population        n   \n",
       "1 african           2641\n",
       "2 e_asian           2011\n",
       "3 non_british_white 3152\n",
       "4 others            3031\n",
       "5 related           2921\n",
       "6 s_asian           2897\n",
       "7 white_british     3360"
      ]
     },
     "metadata": {},
     "output_type": "display_data"
    }
   ],
   "source": [
    "wc_l_df %>% filter(NF_wc_l == 1, wc_l %in% c(17777817, 17777951)) %>%\n",
    "count(population)"
   ]
  },
  {
   "cell_type": "code",
   "execution_count": 7,
   "metadata": {},
   "outputs": [
    {
     "data": {
      "text/html": [
       "<table>\n",
       "<caption>A data.table: 2 × 2</caption>\n",
       "<thead>\n",
       "\t<tr><th scope=col>wc_l</th><th scope=col>n</th></tr>\n",
       "\t<tr><th scope=col>&lt;int&gt;</th><th scope=col>&lt;int&gt;</th></tr>\n",
       "</thead>\n",
       "<tbody>\n",
       "\t<tr><td>17777817</td><td> 2225</td></tr>\n",
       "\t<tr><td>17777951</td><td>17788</td></tr>\n",
       "</tbody>\n",
       "</table>\n"
      ],
      "text/latex": [
       "A data.table: 2 × 2\n",
       "\\begin{tabular}{ll}\n",
       " wc\\_l & n\\\\\n",
       " <int> & <int>\\\\\n",
       "\\hline\n",
       "\t 17777817 &  2225\\\\\n",
       "\t 17777951 & 17788\\\\\n",
       "\\end{tabular}\n"
      ],
      "text/markdown": [
       "\n",
       "A data.table: 2 × 2\n",
       "\n",
       "| wc_l &lt;int&gt; | n &lt;int&gt; |\n",
       "|---|---|\n",
       "| 17777817 |  2225 |\n",
       "| 17777951 | 17788 |\n",
       "\n"
      ],
      "text/plain": [
       "  wc_l     n    \n",
       "1 17777817  2225\n",
       "2 17777951 17788"
      ]
     },
     "metadata": {},
     "output_type": "display_data"
    }
   ],
   "source": [
    "wc_l_df %>% filter(NF_wc_l == 1, wc_l %in% c(17777817, 17777951)) %>%\n",
    "count(wc_l)"
   ]
  },
  {
   "cell_type": "code",
   "execution_count": 9,
   "metadata": {},
   "outputs": [
    {
     "data": {
      "text/html": [
       "<table>\n",
       "<caption>A data.table: 2 × 3</caption>\n",
       "<thead>\n",
       "\t<tr><th scope=col>NF_wc_l</th><th scope=col>wc_l</th><th scope=col>n</th></tr>\n",
       "\t<tr><th scope=col>&lt;int&gt;</th><th scope=col>&lt;int&gt;</th><th scope=col>&lt;int&gt;</th></tr>\n",
       "</thead>\n",
       "<tbody>\n",
       "\t<tr><td>1</td><td>17777817</td><td> 2225</td></tr>\n",
       "\t<tr><td>1</td><td>17777951</td><td>17788</td></tr>\n",
       "</tbody>\n",
       "</table>\n"
      ],
      "text/latex": [
       "A data.table: 2 × 3\n",
       "\\begin{tabular}{lll}\n",
       " NF\\_wc\\_l & wc\\_l & n\\\\\n",
       " <int> & <int> & <int>\\\\\n",
       "\\hline\n",
       "\t 1 & 17777817 &  2225\\\\\n",
       "\t 1 & 17777951 & 17788\\\\\n",
       "\\end{tabular}\n"
      ],
      "text/markdown": [
       "\n",
       "A data.table: 2 × 3\n",
       "\n",
       "| NF_wc_l &lt;int&gt; | wc_l &lt;int&gt; | n &lt;int&gt; |\n",
       "|---|---|---|\n",
       "| 1 | 17777817 |  2225 |\n",
       "| 1 | 17777951 | 17788 |\n",
       "\n"
      ],
      "text/plain": [
       "  NF_wc_l wc_l     n    \n",
       "1 1       17777817  2225\n",
       "2 1       17777951 17788"
      ]
     },
     "metadata": {},
     "output_type": "display_data"
    }
   ],
   "source": [
    "wc_l_df %>% count(NF_wc_l, wc_l)"
   ]
  },
  {
   "cell_type": "code",
   "execution_count": null,
   "metadata": {},
   "outputs": [],
   "source": []
  }
 ],
 "metadata": {
  "kernelspec": {
   "display_name": "R",
   "language": "R",
   "name": "ir"
  },
  "language_info": {
   "codemirror_mode": "r",
   "file_extension": ".r",
   "mimetype": "text/x-r-source",
   "name": "R",
   "pygments_lexer": "r",
   "version": "3.6.2"
  }
 },
 "nbformat": 4,
 "nbformat_minor": 4
}
