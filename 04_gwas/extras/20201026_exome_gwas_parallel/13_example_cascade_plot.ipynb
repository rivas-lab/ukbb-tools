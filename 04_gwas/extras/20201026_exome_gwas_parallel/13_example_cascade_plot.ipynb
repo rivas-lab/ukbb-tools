{
 "cells": [
  {
   "cell_type": "code",
   "execution_count": 1,
   "metadata": {},
   "outputs": [],
   "source": [
    "suppressWarnings(suppressPackageStartupMessages({\n",
    "    library(tidyverse)\n",
    "    library(data.table)\n",
    "}))\n"
   ]
  },
  {
   "cell_type": "code",
   "execution_count": 3,
   "metadata": {},
   "outputs": [],
   "source": [
    "annot_f = '/scratch/groups/mrivas/ukbb24983/exome/annotation/20201025_exome_oqfe_2020/ukb24983_exomeOQFE.annotation.compact.tsv.gz'\n",
    "in_f    = '/scratch/groups/mrivas/ukbb24983/exome/gwas/master_phe_20201002_exomeOQFE/metal/ukb24983_exomeOQFE.HC382.metal.tsv.gz'\n"
   ]
  },
  {
   "cell_type": "code",
   "execution_count": 4,
   "metadata": {},
   "outputs": [],
   "source": [
    "cat_or_zcat <- function(f){\n",
    "    ifelse(endsWith(f, '.zst'), 'zstdcat', ifelse(endsWith(f, '.gz'), 'zcat', 'cat'))\n",
    "}\n",
    "\n",
    "fread_CHROM <- function(f, select=NULL){\n",
    "    fread(cmd=paste(cat_or_zcat(f), f), colClasses = c('#CHROM'='character'), select=select) %>% rename('CHROM'='#CHROM')\n",
    "}\n"
   ]
  },
  {
   "cell_type": "code",
   "execution_count": 5,
   "metadata": {},
   "outputs": [],
   "source": [
    "annot_f %>% fread_CHROM() -> annot_df\n",
    "in_f    %>% fread_CHROM() -> in_df\n"
   ]
  },
  {
   "cell_type": "code",
   "execution_count": 37,
   "metadata": {},
   "outputs": [
    {
     "data": {
      "text/html": [
       "<style>\n",
       ".list-inline {list-style: none; margin:0; padding: 0}\n",
       ".list-inline>li {display: inline-block}\n",
       ".list-inline>li:not(:last-child)::after {content: \"\\00b7\"; padding: 0 .5ex}\n",
       "</style>\n",
       "<ol class=list-inline><li>'CHROM'</li><li>'POS'</li><li>'ID'</li><li>'REF'</li><li>'ALT'</li><li>'FILTER'</li><li>'Allele'</li><li>'Csq'</li><li>'Consequence'</li><li>'SYMBOL'</li><li>'Gene'</li><li>'HGVSp'</li><li>'f_miss'</li><li>'UKB_white_british_hwe_p'</li><li>'UKB_white_british_AF'</li><li>'UKB_AF'</li><li>'CHROM_hg19'</li><li>'POS_hg19'</li><li>'REF_hg19'</li><li>'ALT_hg19'</li><li>'liftOver_unmapped_reason'</li></ol>\n"
      ],
      "text/latex": [
       "\\begin{enumerate*}\n",
       "\\item 'CHROM'\n",
       "\\item 'POS'\n",
       "\\item 'ID'\n",
       "\\item 'REF'\n",
       "\\item 'ALT'\n",
       "\\item 'FILTER'\n",
       "\\item 'Allele'\n",
       "\\item 'Csq'\n",
       "\\item 'Consequence'\n",
       "\\item 'SYMBOL'\n",
       "\\item 'Gene'\n",
       "\\item 'HGVSp'\n",
       "\\item 'f\\_miss'\n",
       "\\item 'UKB\\_white\\_british\\_hwe\\_p'\n",
       "\\item 'UKB\\_white\\_british\\_AF'\n",
       "\\item 'UKB\\_AF'\n",
       "\\item 'CHROM\\_hg19'\n",
       "\\item 'POS\\_hg19'\n",
       "\\item 'REF\\_hg19'\n",
       "\\item 'ALT\\_hg19'\n",
       "\\item 'liftOver\\_unmapped\\_reason'\n",
       "\\end{enumerate*}\n"
      ],
      "text/markdown": [
       "1. 'CHROM'\n",
       "2. 'POS'\n",
       "3. 'ID'\n",
       "4. 'REF'\n",
       "5. 'ALT'\n",
       "6. 'FILTER'\n",
       "7. 'Allele'\n",
       "8. 'Csq'\n",
       "9. 'Consequence'\n",
       "10. 'SYMBOL'\n",
       "11. 'Gene'\n",
       "12. 'HGVSp'\n",
       "13. 'f_miss'\n",
       "14. 'UKB_white_british_hwe_p'\n",
       "15. 'UKB_white_british_AF'\n",
       "16. 'UKB_AF'\n",
       "17. 'CHROM_hg19'\n",
       "18. 'POS_hg19'\n",
       "19. 'REF_hg19'\n",
       "20. 'ALT_hg19'\n",
       "21. 'liftOver_unmapped_reason'\n",
       "\n",
       "\n"
      ],
      "text/plain": [
       " [1] \"CHROM\"                    \"POS\"                     \n",
       " [3] \"ID\"                       \"REF\"                     \n",
       " [5] \"ALT\"                      \"FILTER\"                  \n",
       " [7] \"Allele\"                   \"Csq\"                     \n",
       " [9] \"Consequence\"              \"SYMBOL\"                  \n",
       "[11] \"Gene\"                     \"HGVSp\"                   \n",
       "[13] \"f_miss\"                   \"UKB_white_british_hwe_p\" \n",
       "[15] \"UKB_white_british_AF\"     \"UKB_AF\"                  \n",
       "[17] \"CHROM_hg19\"               \"POS_hg19\"                \n",
       "[19] \"REF_hg19\"                 \"ALT_hg19\"                \n",
       "[21] \"liftOver_unmapped_reason\""
      ]
     },
     "metadata": {},
     "output_type": "display_data"
    }
   ],
   "source": [
    "annot_df %>% colnames()"
   ]
  },
  {
   "cell_type": "code",
   "execution_count": 10,
   "metadata": {},
   "outputs": [],
   "source": [
    "in_df %>%\n",
    "select(ID, BETA, P) %>%\n",
    "left_join(\n",
    "    annot_df, by='ID'\n",
    ") -> df\n"
   ]
  },
  {
   "cell_type": "code",
   "execution_count": 11,
   "metadata": {},
   "outputs": [
    {
     "data": {
      "text/html": [
       "<style>\n",
       ".list-inline {list-style: none; margin:0; padding: 0}\n",
       ".list-inline>li {display: inline-block}\n",
       ".list-inline>li:not(:last-child)::after {content: \"\\00b7\"; padding: 0 .5ex}\n",
       "</style>\n",
       "<ol class=list-inline><li>'ID'</li><li>'BETA'</li><li>'P'</li><li>'CHROM'</li><li>'POS'</li><li>'REF'</li><li>'ALT'</li><li>'FILTER'</li><li>'Allele'</li><li>'Csq'</li><li>'Consequence'</li><li>'SYMBOL'</li><li>'Gene'</li><li>'HGVSp'</li><li>'f_miss'</li><li>'UKB_white_british_hwe_p'</li><li>'UKB_white_british_AF'</li><li>'UKB_AF'</li><li>'CHROM_hg19'</li><li>'POS_hg19'</li><li>'REF_hg19'</li><li>'ALT_hg19'</li><li>'liftOver_unmapped_reason'</li></ol>\n"
      ],
      "text/latex": [
       "\\begin{enumerate*}\n",
       "\\item 'ID'\n",
       "\\item 'BETA'\n",
       "\\item 'P'\n",
       "\\item 'CHROM'\n",
       "\\item 'POS'\n",
       "\\item 'REF'\n",
       "\\item 'ALT'\n",
       "\\item 'FILTER'\n",
       "\\item 'Allele'\n",
       "\\item 'Csq'\n",
       "\\item 'Consequence'\n",
       "\\item 'SYMBOL'\n",
       "\\item 'Gene'\n",
       "\\item 'HGVSp'\n",
       "\\item 'f\\_miss'\n",
       "\\item 'UKB\\_white\\_british\\_hwe\\_p'\n",
       "\\item 'UKB\\_white\\_british\\_AF'\n",
       "\\item 'UKB\\_AF'\n",
       "\\item 'CHROM\\_hg19'\n",
       "\\item 'POS\\_hg19'\n",
       "\\item 'REF\\_hg19'\n",
       "\\item 'ALT\\_hg19'\n",
       "\\item 'liftOver\\_unmapped\\_reason'\n",
       "\\end{enumerate*}\n"
      ],
      "text/markdown": [
       "1. 'ID'\n",
       "2. 'BETA'\n",
       "3. 'P'\n",
       "4. 'CHROM'\n",
       "5. 'POS'\n",
       "6. 'REF'\n",
       "7. 'ALT'\n",
       "8. 'FILTER'\n",
       "9. 'Allele'\n",
       "10. 'Csq'\n",
       "11. 'Consequence'\n",
       "12. 'SYMBOL'\n",
       "13. 'Gene'\n",
       "14. 'HGVSp'\n",
       "15. 'f_miss'\n",
       "16. 'UKB_white_british_hwe_p'\n",
       "17. 'UKB_white_british_AF'\n",
       "18. 'UKB_AF'\n",
       "19. 'CHROM_hg19'\n",
       "20. 'POS_hg19'\n",
       "21. 'REF_hg19'\n",
       "22. 'ALT_hg19'\n",
       "23. 'liftOver_unmapped_reason'\n",
       "\n",
       "\n"
      ],
      "text/plain": [
       " [1] \"ID\"                       \"BETA\"                    \n",
       " [3] \"P\"                        \"CHROM\"                   \n",
       " [5] \"POS\"                      \"REF\"                     \n",
       " [7] \"ALT\"                      \"FILTER\"                  \n",
       " [9] \"Allele\"                   \"Csq\"                     \n",
       "[11] \"Consequence\"              \"SYMBOL\"                  \n",
       "[13] \"Gene\"                     \"HGVSp\"                   \n",
       "[15] \"f_miss\"                   \"UKB_white_british_hwe_p\" \n",
       "[17] \"UKB_white_british_AF\"     \"UKB_AF\"                  \n",
       "[19] \"CHROM_hg19\"               \"POS_hg19\"                \n",
       "[21] \"REF_hg19\"                 \"ALT_hg19\"                \n",
       "[23] \"liftOver_unmapped_reason\""
      ]
     },
     "metadata": {},
     "output_type": "display_data"
    }
   ],
   "source": [
    "df %>% colnames()"
   ]
  },
  {
   "cell_type": "code",
   "execution_count": 32,
   "metadata": {},
   "outputs": [
    {
     "data": {
      "text/html": [
       "184758"
      ],
      "text/latex": [
       "184758"
      ],
      "text/markdown": [
       "184758"
      ],
      "text/plain": [
       "[1] 184758"
      ]
     },
     "metadata": {},
     "output_type": "display_data"
    }
   ],
   "source": [
    "max(in_df$OBS_CT)"
   ]
  },
  {
   "cell_type": "code",
   "execution_count": 13,
   "metadata": {},
   "outputs": [
    {
     "data": {
      "text/html": [
       "2.94117647058824e-09"
      ],
      "text/latex": [
       "2.94117647058824e-09"
      ],
      "text/markdown": [
       "2.94117647058824e-09"
      ],
      "text/plain": [
       "[1] 2.941176e-09"
      ]
     },
     "metadata": {},
     "output_type": "display_data"
    }
   ],
   "source": [
    "0.05/17000000"
   ]
  },
  {
   "cell_type": "code",
   "execution_count": 15,
   "metadata": {},
   "outputs": [],
   "source": [
    "df %>%\n",
    "filter(P <= 1e-9) -> df_1e9\n"
   ]
  },
  {
   "cell_type": "code",
   "execution_count": 16,
   "metadata": {},
   "outputs": [
    {
     "data": {
      "text/html": [
       "<style>\n",
       ".list-inline {list-style: none; margin:0; padding: 0}\n",
       ".list-inline>li {display: inline-block}\n",
       ".list-inline>li:not(:last-child)::after {content: \"\\00b7\"; padding: 0 .5ex}\n",
       "</style>\n",
       "<ol class=list-inline><li>599</li><li>23</li></ol>\n"
      ],
      "text/latex": [
       "\\begin{enumerate*}\n",
       "\\item 599\n",
       "\\item 23\n",
       "\\end{enumerate*}\n"
      ],
      "text/markdown": [
       "1. 599\n",
       "2. 23\n",
       "\n",
       "\n"
      ],
      "text/plain": [
       "[1] 599  23"
      ]
     },
     "metadata": {},
     "output_type": "display_data"
    }
   ],
   "source": [
    "df_1e9 %>% dim()"
   ]
  },
  {
   "cell_type": "code",
   "execution_count": 38,
   "metadata": {},
   "outputs": [],
   "source": [
    "df_1e9 %>% \n",
    "mutate(ggrepel_label = if_else(abs(BETA) >= .2, SYMBOL, '')) %>%\n",
    "ggplot(aes(\n",
    "    x = log10(pmin(UKB_white_british_AF, 1-UKB_white_british_AF)),\n",
    "    y = BETA,\n",
    "    color = Csq,\n",
    "    label=ggrepel_label\n",
    ")) +\n",
    "geom_hline(yintercept=0, color=\"gray\") +\n",
    "geom_point() +\n",
    "ggrepel::geom_text_repel(size=3, force=4) +\n",
    "theme_bw() + labs(\n",
    "    color = 'Predicted consequence (VEP)',\n",
    "    title='meta-analyzed (n = 184,758) EWAS hits (p <= 1e-9) for asthma (HC382)',\n",
    "    x = 'log10(Minor allele frequency)',\n",
    "    y = 'log(OR)'\n",
    ") + \n",
    "theme(legend.position = 'bottom') -> p\n"
   ]
  },
  {
   "cell_type": "code",
   "execution_count": 35,
   "metadata": {},
   "outputs": [
    {
     "data": {
      "image/png": "[encoded data removed]",
      "text/plain": [
       "plot without title"
      ]
     },
     "metadata": {
      "image/png": {
       "height": 420,
       "width": 420
      },
      "text/plain": {
       "height": 420,
       "width": 420
      }
     },
     "output_type": "display_data"
    }
   ],
   "source": [
    "p \n"
   ]
  },
  {
   "cell_type": "code",
   "execution_count": 39,
   "metadata": {},
   "outputs": [
    {
     "name": "stderr",
     "output_type": "stream",
     "text": [
      "Saving 6.67 x 6.67 in image\n",
      "\n"
     ]
    }
   ],
   "source": [
    "ggsave('13_example_cascade_plot.HC382.png', p)"
   ]
  },
  {
   "cell_type": "code",
   "execution_count": 40,
   "metadata": {},
   "outputs": [
    {
     "name": "stderr",
     "output_type": "stream",
     "text": [
      "Saving 6.67 x 6.67 in image\n",
      "\n"
     ]
    }
   ],
   "source": [
    "ggsave('13_example_cascade_plot.HC382.pdf', p)"
   ]
  },
  {
   "cell_type": "markdown",
   "metadata": {},
   "source": [
    "_ANGPTL7_"
   ]
  },
  {
   "cell_type": "code",
   "execution_count": 42,
   "metadata": {},
   "outputs": [
    {
     "data": {
      "text/html": [
       "<table>\n",
       "<caption>A data.table: 4 × 21</caption>\n",
       "<thead>\n",
       "\t<tr><th scope=col>CHROM</th><th scope=col>POS</th><th scope=col>ID</th><th scope=col>REF</th><th scope=col>ALT</th><th scope=col>FILTER</th><th scope=col>Allele</th><th scope=col>Csq</th><th scope=col>Consequence</th><th scope=col>SYMBOL</th><th scope=col>⋯</th><th scope=col>HGVSp</th><th scope=col>f_miss</th><th scope=col>UKB_white_british_hwe_p</th><th scope=col>UKB_white_british_AF</th><th scope=col>UKB_AF</th><th scope=col>CHROM_hg19</th><th scope=col>POS_hg19</th><th scope=col>REF_hg19</th><th scope=col>ALT_hg19</th><th scope=col>liftOver_unmapped_reason</th></tr>\n",
       "\t<tr><th scope=col>&lt;chr&gt;</th><th scope=col>&lt;int&gt;</th><th scope=col>&lt;chr&gt;</th><th scope=col>&lt;chr&gt;</th><th scope=col>&lt;chr&gt;</th><th scope=col>&lt;chr&gt;</th><th scope=col>&lt;chr&gt;</th><th scope=col>&lt;chr&gt;</th><th scope=col>&lt;chr&gt;</th><th scope=col>&lt;chr&gt;</th><th scope=col>⋯</th><th scope=col>&lt;chr&gt;</th><th scope=col>&lt;dbl&gt;</th><th scope=col>&lt;dbl&gt;</th><th scope=col>&lt;dbl&gt;</th><th scope=col>&lt;dbl&gt;</th><th scope=col>&lt;chr&gt;</th><th scope=col>&lt;int&gt;</th><th scope=col>&lt;chr&gt;</th><th scope=col>&lt;chr&gt;</th><th scope=col>&lt;chr&gt;</th></tr>\n",
       "</thead>\n",
       "<tbody>\n",
       "\t<tr><td>1</td><td>11189480</td><td>1:11189480:A:G</td><td>A</td><td>G</td><td>.</td><td>G</td><td>utr</td><td>5_prime_UTR_variant</td><td>ANGPTL7</td><td>⋯</td><td>NA</td><td>0.0006180131</td><td>0.500000</td><td>0.00000e+00</td><td>2.49353e-06</td><td>1</td><td>11249537</td><td>A</td><td>G</td><td>NA</td></tr>\n",
       "\t<tr><td>1</td><td>11189482</td><td>1:11189482:C:T</td><td>C</td><td>T</td><td>.</td><td>T</td><td>utr</td><td>5_prime_UTR_variant</td><td>ANGPTL7</td><td>⋯</td><td>NA</td><td>0.0018689912</td><td>0.500005</td><td>1.08966e-05</td><td>1.99732e-05</td><td>1</td><td>11249539</td><td>C</td><td>T</td><td>NA</td></tr>\n",
       "\t<tr><td>1</td><td>11195123</td><td>1:11195123:G:A</td><td>G</td><td>A</td><td>.</td><td>A</td><td>utr</td><td>3_prime_UTR_variant</td><td>ANGPTL7</td><td>⋯</td><td>NA</td><td>0.0014951930</td><td>0.500900</td><td>1.16163e-04</td><td>1.04820e-04</td><td>1</td><td>11255180</td><td>G</td><td>A</td><td>NA</td></tr>\n",
       "\t<tr><td>1</td><td>11195123</td><td>1:11195123:G:C</td><td>G</td><td>C</td><td>.</td><td>C</td><td>utr</td><td>3_prime_UTR_variant</td><td>ANGPTL7</td><td>⋯</td><td>NA</td><td>0.0016995360</td><td>0.500000</td><td>3.63092e-06</td><td>2.49623e-06</td><td>1</td><td>11255180</td><td>G</td><td>C</td><td>NA</td></tr>\n",
       "</tbody>\n",
       "</table>\n"
      ],
      "text/latex": [
       "A data.table: 4 × 21\n",
       "\\begin{tabular}{lllllllllllllllllllll}\n",
       " CHROM & POS & ID & REF & ALT & FILTER & Allele & Csq & Consequence & SYMBOL & ⋯ & HGVSp & f\\_miss & UKB\\_white\\_british\\_hwe\\_p & UKB\\_white\\_british\\_AF & UKB\\_AF & CHROM\\_hg19 & POS\\_hg19 & REF\\_hg19 & ALT\\_hg19 & liftOver\\_unmapped\\_reason\\\\\n",
       " <chr> & <int> & <chr> & <chr> & <chr> & <chr> & <chr> & <chr> & <chr> & <chr> & ⋯ & <chr> & <dbl> & <dbl> & <dbl> & <dbl> & <chr> & <int> & <chr> & <chr> & <chr>\\\\\n",
       "\\hline\n",
       "\t 1 & 11189480 & 1:11189480:A:G & A & G & . & G & utr & 5\\_prime\\_UTR\\_variant & ANGPTL7 & ⋯ & NA & 0.0006180131 & 0.500000 & 0.00000e+00 & 2.49353e-06 & 1 & 11249537 & A & G & NA\\\\\n",
       "\t 1 & 11189482 & 1:11189482:C:T & C & T & . & T & utr & 5\\_prime\\_UTR\\_variant & ANGPTL7 & ⋯ & NA & 0.0018689912 & 0.500005 & 1.08966e-05 & 1.99732e-05 & 1 & 11249539 & C & T & NA\\\\\n",
       "\t 1 & 11195123 & 1:11195123:G:A & G & A & . & A & utr & 3\\_prime\\_UTR\\_variant & ANGPTL7 & ⋯ & NA & 0.0014951930 & 0.500900 & 1.16163e-04 & 1.04820e-04 & 1 & 11255180 & G & A & NA\\\\\n",
       "\t 1 & 11195123 & 1:11195123:G:C & G & C & . & C & utr & 3\\_prime\\_UTR\\_variant & ANGPTL7 & ⋯ & NA & 0.0016995360 & 0.500000 & 3.63092e-06 & 2.49623e-06 & 1 & 11255180 & G & C & NA\\\\\n",
       "\\end{tabular}\n"
      ],
      "text/markdown": [
       "\n",
       "A data.table: 4 × 21\n",
       "\n",
       "| CHROM &lt;chr&gt; | POS &lt;int&gt; | ID &lt;chr&gt; | REF &lt;chr&gt; | ALT &lt;chr&gt; | FILTER &lt;chr&gt; | Allele &lt;chr&gt; | Csq &lt;chr&gt; | Consequence &lt;chr&gt; | SYMBOL &lt;chr&gt; | ⋯ ⋯ | HGVSp &lt;chr&gt; | f_miss &lt;dbl&gt; | UKB_white_british_hwe_p &lt;dbl&gt; | UKB_white_british_AF &lt;dbl&gt; | UKB_AF &lt;dbl&gt; | CHROM_hg19 &lt;chr&gt; | POS_hg19 &lt;int&gt; | REF_hg19 &lt;chr&gt; | ALT_hg19 &lt;chr&gt; | liftOver_unmapped_reason &lt;chr&gt; |\n",
       "|---|---|---|---|---|---|---|---|---|---|---|---|---|---|---|---|---|---|---|---|---|\n",
       "| 1 | 11189480 | 1:11189480:A:G | A | G | . | G | utr | 5_prime_UTR_variant | ANGPTL7 | ⋯ | NA | 0.0006180131 | 0.500000 | 0.00000e+00 | 2.49353e-06 | 1 | 11249537 | A | G | NA |\n",
       "| 1 | 11189482 | 1:11189482:C:T | C | T | . | T | utr | 5_prime_UTR_variant | ANGPTL7 | ⋯ | NA | 0.0018689912 | 0.500005 | 1.08966e-05 | 1.99732e-05 | 1 | 11249539 | C | T | NA |\n",
       "| 1 | 11195123 | 1:11195123:G:A | G | A | . | A | utr | 3_prime_UTR_variant | ANGPTL7 | ⋯ | NA | 0.0014951930 | 0.500900 | 1.16163e-04 | 1.04820e-04 | 1 | 11255180 | G | A | NA |\n",
       "| 1 | 11195123 | 1:11195123:G:C | G | C | . | C | utr | 3_prime_UTR_variant | ANGPTL7 | ⋯ | NA | 0.0016995360 | 0.500000 | 3.63092e-06 | 2.49623e-06 | 1 | 11255180 | G | C | NA |\n",
       "\n"
      ],
      "text/plain": [
       "  CHROM POS      ID             REF ALT FILTER Allele Csq Consequence        \n",
       "1 1     11189480 1:11189480:A:G A   G   .      G      utr 5_prime_UTR_variant\n",
       "2 1     11189482 1:11189482:C:T C   T   .      T      utr 5_prime_UTR_variant\n",
       "3 1     11195123 1:11195123:G:A G   A   .      A      utr 3_prime_UTR_variant\n",
       "4 1     11195123 1:11195123:G:C G   C   .      C      utr 3_prime_UTR_variant\n",
       "  SYMBOL  ⋯ HGVSp f_miss       UKB_white_british_hwe_p UKB_white_british_AF\n",
       "1 ANGPTL7 ⋯ NA    0.0006180131 0.500000                0.00000e+00         \n",
       "2 ANGPTL7 ⋯ NA    0.0018689912 0.500005                1.08966e-05         \n",
       "3 ANGPTL7 ⋯ NA    0.0014951930 0.500900                1.16163e-04         \n",
       "4 ANGPTL7 ⋯ NA    0.0016995360 0.500000                3.63092e-06         \n",
       "  UKB_AF      CHROM_hg19 POS_hg19 REF_hg19 ALT_hg19 liftOver_unmapped_reason\n",
       "1 2.49353e-06 1          11249537 A        G        NA                      \n",
       "2 1.99732e-05 1          11249539 C        T        NA                      \n",
       "3 1.04820e-04 1          11255180 G        A        NA                      \n",
       "4 2.49623e-06 1          11255180 G        C        NA                      "
      ]
     },
     "metadata": {},
     "output_type": "display_data"
    }
   ],
   "source": [
    "bind_rows(\n",
    "    annot_df %>% filter(SYMBOL == 'ANGPTL7') %>% head(2),\n",
    "    annot_df %>% filter(SYMBOL == 'ANGPTL7') %>% tail(2)\n",
    ")"
   ]
  },
  {
   "cell_type": "code",
   "execution_count": null,
   "metadata": {},
   "outputs": [],
   "source": [
    "1:11189480-11195123"
   ]
  },
  {
   "cell_type": "code",
   "execution_count": 44,
   "metadata": {},
   "outputs": [
    {
     "data": {
      "text/html": [
       "'tabix -h /scratch/groups/mrivas/ukbb24983/exome/gwas/freeze/master_phe_20201002_exomeOQFE_20201110/ukb24983_exomeOQFE.metal.p1e-3.tsv.gz 1:11189480-11195123'"
      ],
      "text/latex": [
       "'tabix -h /scratch/groups/mrivas/ukbb24983/exome/gwas/freeze/master\\_phe\\_20201002\\_exomeOQFE\\_20201110/ukb24983\\_exomeOQFE.metal.p1e-3.tsv.gz 1:11189480-11195123'"
      ],
      "text/markdown": [
       "'tabix -h /scratch/groups/mrivas/ukbb24983/exome/gwas/freeze/master_phe_20201002_exomeOQFE_20201110/ukb24983_exomeOQFE.metal.p1e-3.tsv.gz 1:11189480-11195123'"
      ],
      "text/plain": [
       "[1] \"tabix -h /scratch/groups/mrivas/ukbb24983/exome/gwas/freeze/master_phe_20201002_exomeOQFE_20201110/ukb24983_exomeOQFE.metal.p1e-3.tsv.gz 1:11189480-11195123\""
      ]
     },
     "metadata": {},
     "output_type": "display_data"
    }
   ],
   "source": [
    "paste(\n",
    "        'tabix', '-h',\n",
    "        '/scratch/groups/mrivas/ukbb24983/exome/gwas/freeze/master_phe_20201002_exomeOQFE_20201110/ukb24983_exomeOQFE.metal.p1e-3.tsv.gz',\n",
    "        '1:11189480-11195123'\n",
    "    )"
   ]
  },
  {
   "cell_type": "code",
   "execution_count": 46,
   "metadata": {},
   "outputs": [],
   "source": [
    "'13_example_cascade_plot.ANGPTL7.tsv' %>%\n",
    "fread_CHROM() -> ANGPTL7_df"
   ]
  },
  {
   "cell_type": "code",
   "execution_count": 52,
   "metadata": {},
   "outputs": [
    {
     "data": {
      "text/html": [
       "<style>\n",
       ".list-inline {list-style: none; margin:0; padding: 0}\n",
       ".list-inline>li {display: inline-block}\n",
       ".list-inline>li:not(:last-child)::after {content: \"\\00b7\"; padding: 0 .5ex}\n",
       "</style>\n",
       "<ol class=list-inline><li>'CHROM'</li><li>'POS'</li><li>'Variant_ID'</li><li>'Csq'</li><li>'GBE_ID'</li><li>'population'</li><li>'REF'</li><li>'ALT'</li><li>'A1'</li><li>'OBS_CT'</li><li>'BETA'</li><li>'SE'</li><li>'P'</li><li>'Direction'</li><li>'HetISq'</li><li>'HetChiSq'</li><li>'HetDf'</li><li>'HetPVal'</li><li>'SYMBOL'</li><li>'GBE_short_name'</li><li>'Consequence'</li><li>'Gene'</li><li>'GBE_category'</li></ol>\n"
      ],
      "text/latex": [
       "\\begin{enumerate*}\n",
       "\\item 'CHROM'\n",
       "\\item 'POS'\n",
       "\\item 'Variant\\_ID'\n",
       "\\item 'Csq'\n",
       "\\item 'GBE\\_ID'\n",
       "\\item 'population'\n",
       "\\item 'REF'\n",
       "\\item 'ALT'\n",
       "\\item 'A1'\n",
       "\\item 'OBS\\_CT'\n",
       "\\item 'BETA'\n",
       "\\item 'SE'\n",
       "\\item 'P'\n",
       "\\item 'Direction'\n",
       "\\item 'HetISq'\n",
       "\\item 'HetChiSq'\n",
       "\\item 'HetDf'\n",
       "\\item 'HetPVal'\n",
       "\\item 'SYMBOL'\n",
       "\\item 'GBE\\_short\\_name'\n",
       "\\item 'Consequence'\n",
       "\\item 'Gene'\n",
       "\\item 'GBE\\_category'\n",
       "\\end{enumerate*}\n"
      ],
      "text/markdown": [
       "1. 'CHROM'\n",
       "2. 'POS'\n",
       "3. 'Variant_ID'\n",
       "4. 'Csq'\n",
       "5. 'GBE_ID'\n",
       "6. 'population'\n",
       "7. 'REF'\n",
       "8. 'ALT'\n",
       "9. 'A1'\n",
       "10. 'OBS_CT'\n",
       "11. 'BETA'\n",
       "12. 'SE'\n",
       "13. 'P'\n",
       "14. 'Direction'\n",
       "15. 'HetISq'\n",
       "16. 'HetChiSq'\n",
       "17. 'HetDf'\n",
       "18. 'HetPVal'\n",
       "19. 'SYMBOL'\n",
       "20. 'GBE_short_name'\n",
       "21. 'Consequence'\n",
       "22. 'Gene'\n",
       "23. 'GBE_category'\n",
       "\n",
       "\n"
      ],
      "text/plain": [
       " [1] \"CHROM\"          \"POS\"            \"Variant_ID\"     \"Csq\"           \n",
       " [5] \"GBE_ID\"         \"population\"     \"REF\"            \"ALT\"           \n",
       " [9] \"A1\"             \"OBS_CT\"         \"BETA\"           \"SE\"            \n",
       "[13] \"P\"              \"Direction\"      \"HetISq\"         \"HetChiSq\"      \n",
       "[17] \"HetDf\"          \"HetPVal\"        \"SYMBOL\"         \"GBE_short_name\"\n",
       "[21] \"Consequence\"    \"Gene\"           \"GBE_category\"  "
      ]
     },
     "metadata": {},
     "output_type": "display_data"
    }
   ],
   "source": [
    "ANGPTL7_df %>% colnames()"
   ]
  },
  {
   "cell_type": "code",
   "execution_count": 54,
   "metadata": {},
   "outputs": [
    {
     "data": {
      "text/html": [
       "<table>\n",
       "<caption>A data.table: 1 × 23</caption>\n",
       "<thead>\n",
       "\t<tr><th scope=col>CHROM</th><th scope=col>POS</th><th scope=col>Variant_ID</th><th scope=col>Csq</th><th scope=col>GBE_ID</th><th scope=col>population</th><th scope=col>REF</th><th scope=col>ALT</th><th scope=col>A1</th><th scope=col>OBS_CT</th><th scope=col>⋯</th><th scope=col>Direction</th><th scope=col>HetISq</th><th scope=col>HetChiSq</th><th scope=col>HetDf</th><th scope=col>HetPVal</th><th scope=col>SYMBOL</th><th scope=col>GBE_short_name</th><th scope=col>Consequence</th><th scope=col>Gene</th><th scope=col>GBE_category</th></tr>\n",
       "\t<tr><th scope=col>&lt;chr&gt;</th><th scope=col>&lt;int&gt;</th><th scope=col>&lt;chr&gt;</th><th scope=col>&lt;chr&gt;</th><th scope=col>&lt;chr&gt;</th><th scope=col>&lt;chr&gt;</th><th scope=col>&lt;chr&gt;</th><th scope=col>&lt;chr&gt;</th><th scope=col>&lt;chr&gt;</th><th scope=col>&lt;int&gt;</th><th scope=col>⋯</th><th scope=col>&lt;chr&gt;</th><th scope=col>&lt;dbl&gt;</th><th scope=col>&lt;dbl&gt;</th><th scope=col>&lt;int&gt;</th><th scope=col>&lt;dbl&gt;</th><th scope=col>&lt;chr&gt;</th><th scope=col>&lt;chr&gt;</th><th scope=col>&lt;chr&gt;</th><th scope=col>&lt;chr&gt;</th><th scope=col>&lt;chr&gt;</th></tr>\n",
       "</thead>\n",
       "<tbody>\n",
       "\t<tr><td>1</td><td>11193627</td><td>1:11193627:G:T</td><td>pav</td><td>INI5255</td><td>metal</td><td>G</td><td>T</td><td>T</td><td>64443</td><td>⋯</td><td>---+?--</td><td>0</td><td>2.207</td><td>5</td><td>0.8198</td><td>ANGPTL7</td><td>Intra-ocular pressure, Goldmann-correlated (R)</td><td>missense_variant</td><td>ENSG00000171819</td><td>Eye_measures</td></tr>\n",
       "</tbody>\n",
       "</table>\n"
      ],
      "text/latex": [
       "A data.table: 1 × 23\n",
       "\\begin{tabular}{lllllllllllllllllllll}\n",
       " CHROM & POS & Variant\\_ID & Csq & GBE\\_ID & population & REF & ALT & A1 & OBS\\_CT & ⋯ & Direction & HetISq & HetChiSq & HetDf & HetPVal & SYMBOL & GBE\\_short\\_name & Consequence & Gene & GBE\\_category\\\\\n",
       " <chr> & <int> & <chr> & <chr> & <chr> & <chr> & <chr> & <chr> & <chr> & <int> & ⋯ & <chr> & <dbl> & <dbl> & <int> & <dbl> & <chr> & <chr> & <chr> & <chr> & <chr>\\\\\n",
       "\\hline\n",
       "\t 1 & 11193627 & 1:11193627:G:T & pav & INI5255 & metal & G & T & T & 64443 & ⋯ & ---+?-- & 0 & 2.207 & 5 & 0.8198 & ANGPTL7 & Intra-ocular pressure, Goldmann-correlated (R) & missense\\_variant & ENSG00000171819 & Eye\\_measures\\\\\n",
       "\\end{tabular}\n"
      ],
      "text/markdown": [
       "\n",
       "A data.table: 1 × 23\n",
       "\n",
       "| CHROM &lt;chr&gt; | POS &lt;int&gt; | Variant_ID &lt;chr&gt; | Csq &lt;chr&gt; | GBE_ID &lt;chr&gt; | population &lt;chr&gt; | REF &lt;chr&gt; | ALT &lt;chr&gt; | A1 &lt;chr&gt; | OBS_CT &lt;int&gt; | ⋯ ⋯ | Direction &lt;chr&gt; | HetISq &lt;dbl&gt; | HetChiSq &lt;dbl&gt; | HetDf &lt;int&gt; | HetPVal &lt;dbl&gt; | SYMBOL &lt;chr&gt; | GBE_short_name &lt;chr&gt; | Consequence &lt;chr&gt; | Gene &lt;chr&gt; | GBE_category &lt;chr&gt; |\n",
       "|---|---|---|---|---|---|---|---|---|---|---|---|---|---|---|---|---|---|---|---|---|\n",
       "| 1 | 11193627 | 1:11193627:G:T | pav | INI5255 | metal | G | T | T | 64443 | ⋯ | ---+?-- | 0 | 2.207 | 5 | 0.8198 | ANGPTL7 | Intra-ocular pressure, Goldmann-correlated (R) | missense_variant | ENSG00000171819 | Eye_measures |\n",
       "\n"
      ],
      "text/plain": [
       "  CHROM POS      Variant_ID     Csq GBE_ID  population REF ALT A1 OBS_CT ⋯\n",
       "1 1     11193627 1:11193627:G:T pav INI5255 metal      G   T   T  64443  ⋯\n",
       "  Direction HetISq HetChiSq HetDf HetPVal SYMBOL \n",
       "1 ---+?--   0      2.207    5     0.8198  ANGPTL7\n",
       "  GBE_short_name                                 Consequence     \n",
       "1 Intra-ocular pressure, Goldmann-correlated (R) missense_variant\n",
       "  Gene            GBE_category\n",
       "1 ENSG00000171819 Eye_measures"
      ]
     },
     "metadata": {},
     "output_type": "display_data"
    }
   ],
   "source": [
    "ANGPTL7_df %>% filter(GBE_ID == 'INI5255')"
   ]
  },
  {
   "cell_type": "code",
   "execution_count": 57,
   "metadata": {},
   "outputs": [
    {
     "data": {
      "text/html": [
       "<table>\n",
       "<caption>A data.table: 1 × 11</caption>\n",
       "<thead>\n",
       "\t<tr><th scope=col>Variant_ID</th><th scope=col>Csq</th><th scope=col>GBE_ID</th><th scope=col>BETA</th><th scope=col>SE</th><th scope=col>P</th><th scope=col>Direction</th><th scope=col>SYMBOL</th><th scope=col>GBE_short_name</th><th scope=col>Consequence</th><th scope=col>GBE_category</th></tr>\n",
       "\t<tr><th scope=col>&lt;chr&gt;</th><th scope=col>&lt;chr&gt;</th><th scope=col>&lt;chr&gt;</th><th scope=col>&lt;dbl&gt;</th><th scope=col>&lt;dbl&gt;</th><th scope=col>&lt;chr&gt;</th><th scope=col>&lt;chr&gt;</th><th scope=col>&lt;chr&gt;</th><th scope=col>&lt;chr&gt;</th><th scope=col>&lt;chr&gt;</th><th scope=col>&lt;chr&gt;</th></tr>\n",
       "</thead>\n",
       "<tbody>\n",
       "\t<tr><td>1:11193627:G:T</td><td>pav</td><td>INI5255</td><td>-0.2339061</td><td>0.0327558</td><td>9.272e-13</td><td>---+?--</td><td>ANGPTL7</td><td>Intra-ocular pressure, Goldmann-correlated (R)</td><td>missense_variant</td><td>Eye_measures</td></tr>\n",
       "</tbody>\n",
       "</table>\n"
      ],
      "text/latex": [
       "A data.table: 1 × 11\n",
       "\\begin{tabular}{lllllllllll}\n",
       " Variant\\_ID & Csq & GBE\\_ID & BETA & SE & P & Direction & SYMBOL & GBE\\_short\\_name & Consequence & GBE\\_category\\\\\n",
       " <chr> & <chr> & <chr> & <dbl> & <dbl> & <chr> & <chr> & <chr> & <chr> & <chr> & <chr>\\\\\n",
       "\\hline\n",
       "\t 1:11193627:G:T & pav & INI5255 & -0.2339061 & 0.0327558 & 9.272e-13 & ---+?-- & ANGPTL7 & Intra-ocular pressure, Goldmann-correlated (R) & missense\\_variant & Eye\\_measures\\\\\n",
       "\\end{tabular}\n"
      ],
      "text/markdown": [
       "\n",
       "A data.table: 1 × 11\n",
       "\n",
       "| Variant_ID &lt;chr&gt; | Csq &lt;chr&gt; | GBE_ID &lt;chr&gt; | BETA &lt;dbl&gt; | SE &lt;dbl&gt; | P &lt;chr&gt; | Direction &lt;chr&gt; | SYMBOL &lt;chr&gt; | GBE_short_name &lt;chr&gt; | Consequence &lt;chr&gt; | GBE_category &lt;chr&gt; |\n",
       "|---|---|---|---|---|---|---|---|---|---|---|\n",
       "| 1:11193627:G:T | pav | INI5255 | -0.2339061 | 0.0327558 | 9.272e-13 | ---+?-- | ANGPTL7 | Intra-ocular pressure, Goldmann-correlated (R) | missense_variant | Eye_measures |\n",
       "\n"
      ],
      "text/plain": [
       "  Variant_ID     Csq GBE_ID  BETA       SE        P         Direction SYMBOL \n",
       "1 1:11193627:G:T pav INI5255 -0.2339061 0.0327558 9.272e-13 ---+?--   ANGPTL7\n",
       "  GBE_short_name                                 Consequence      GBE_category\n",
       "1 Intra-ocular pressure, Goldmann-correlated (R) missense_variant Eye_measures"
      ]
     },
     "metadata": {},
     "output_type": "display_data"
    }
   ],
   "source": [
    "ANGPTL7_df %>% filter(GBE_ID == 'INI5255') %>%\n",
    "select(Variant_ID, Csq, GBE_ID, BETA, SE, P, Direction, SYMBOL, GBE_short_name, Consequence, GBE_category)"
   ]
  },
  {
   "cell_type": "code",
   "execution_count": 60,
   "metadata": {},
   "outputs": [
    {
     "data": {
      "text/html": [
       "<table>\n",
       "<caption>A data.table: 35 × 11</caption>\n",
       "<thead>\n",
       "\t<tr><th scope=col>Variant_ID</th><th scope=col>Csq</th><th scope=col>GBE_ID</th><th scope=col>BETA</th><th scope=col>SE</th><th scope=col>P</th><th scope=col>Direction</th><th scope=col>SYMBOL</th><th scope=col>GBE_short_name</th><th scope=col>Consequence</th><th scope=col>GBE_category</th></tr>\n",
       "\t<tr><th scope=col>&lt;chr&gt;</th><th scope=col>&lt;chr&gt;</th><th scope=col>&lt;chr&gt;</th><th scope=col>&lt;dbl&gt;</th><th scope=col>&lt;dbl&gt;</th><th scope=col>&lt;chr&gt;</th><th scope=col>&lt;chr&gt;</th><th scope=col>&lt;chr&gt;</th><th scope=col>&lt;chr&gt;</th><th scope=col>&lt;chr&gt;</th><th scope=col>&lt;chr&gt;</th></tr>\n",
       "</thead>\n",
       "<tbody>\n",
       "\t<tr><td>1:11189808:G:A</td><td>pav   </td><td>BIN5327</td><td>16.3809666</td><td>1.5898294</td><td>6.787e-25</td><td>???+?+ </td><td>ANGPTL7     </td><td>Ever had laser treatment for glaucoma or high eye pressure</td><td>missense_variant  </td><td>Eye_measures</td></tr>\n",
       "\t<tr><td>1:11189845:A:T</td><td>pav   </td><td>BIN5327</td><td>17.6967000</td><td>2.2882700</td><td>1.045e-14</td><td>?????+ </td><td>ANGPTL7     </td><td>Ever had laser treatment for glaucoma or high eye pressure</td><td>missense_variant  </td><td>Eye_measures</td></tr>\n",
       "\t<tr><td>1:11193627:G:T</td><td>pav   </td><td>INI5097</td><td> 0.1938339</td><td>0.0342578</td><td>1.531e-08</td><td>++-+?++</td><td>ANGPTL7     </td><td>6mm weak meridian (L)                                     </td><td>missense_variant  </td><td>Eye_measures</td></tr>\n",
       "\t<tr><td>1:11193627:G:T</td><td>pav   </td><td>INI5098</td><td> 0.1734179</td><td>0.0343484</td><td>4.446e-07</td><td>++-+?++</td><td>ANGPTL7     </td><td>6mm weak meridian (R)                                     </td><td>missense_variant  </td><td>Eye_measures</td></tr>\n",
       "\t<tr><td>1:11193627:G:T</td><td>pav   </td><td>INI5099</td><td> 0.1603938</td><td>0.0324399</td><td>7.64e-07 </td><td>++-+?++</td><td>ANGPTL7     </td><td>3mm weak meridian (R)                                     </td><td>missense_variant  </td><td>Eye_measures</td></tr>\n",
       "\t<tr><td>1:11193627:G:T</td><td>pav   </td><td>INI5134</td><td> 0.1781968</td><td>0.0341889</td><td>1.867e-07</td><td>++++?++</td><td>ANGPTL7     </td><td>6mm strong meridian (L)                                   </td><td>missense_variant  </td><td>Eye_measures</td></tr>\n",
       "\t<tr><td>1:11193627:G:T</td><td>pav   </td><td>INI5254</td><td>-0.1857980</td><td>0.0324951</td><td>1.08e-08 </td><td>-+-+?--</td><td>ANGPTL7     </td><td>Intra-ocular pressure, corneal-compensated (R)            </td><td>missense_variant  </td><td>Eye_measures</td></tr>\n",
       "\t<tr><td>1:11193627:G:T</td><td>pav   </td><td>INI5255</td><td>-0.2339061</td><td>0.0327558</td><td>9.272e-13</td><td>---+?--</td><td>ANGPTL7     </td><td>Intra-ocular pressure, Goldmann-correlated (R)            </td><td>missense_variant  </td><td>Eye_measures</td></tr>\n",
       "\t<tr><td>1:11193627:G:T</td><td>pav   </td><td>INI5262</td><td>-0.1656939</td><td>0.0325778</td><td>3.655e-07</td><td>-+-+?--</td><td>ANGPTL7     </td><td>Intra-ocular pressure, corneal-compensated (L)            </td><td>missense_variant  </td><td>Eye_measures</td></tr>\n",
       "\t<tr><td>1:11193627:G:T</td><td>pav   </td><td>INI5263</td><td>-0.2143863</td><td>0.0328702</td><td>6.928e-11</td><td>---+?--</td><td>ANGPTL7     </td><td>Intra-ocular pressure, Goldmann-correlated (L)            </td><td>missense_variant  </td><td>Eye_measures</td></tr>\n",
       "\t<tr><td>1:11193631:C:T</td><td>ptv   </td><td>INI5133</td><td> 0.7076568</td><td>0.1435410</td><td>8.223e-07</td><td>++?+?++</td><td>ANGPTL7     </td><td>6mm strong meridian (R)                                   </td><td>stop_gained       </td><td>Eye_measures</td></tr>\n",
       "\t<tr><td>1:11193787:C:T</td><td>intron</td><td>INI5096</td><td>-0.1272742</td><td>0.0163664</td><td>7.454e-15</td><td>-------</td><td>ANGPTL7,MTOR</td><td>3mm weak meridian (L)                                     </td><td>intron_variant    </td><td>Eye_measures</td></tr>\n",
       "\t<tr><td>1:11193787:C:T</td><td>intron</td><td>INI5097</td><td>-0.1497217</td><td>0.0175462</td><td>1.426e-17</td><td>-------</td><td>ANGPTL7,MTOR</td><td>6mm weak meridian (L)                                     </td><td>intron_variant    </td><td>Eye_measures</td></tr>\n",
       "\t<tr><td>1:11193787:C:T</td><td>intron</td><td>INI5098</td><td>-0.1453497</td><td>0.0176735</td><td>1.966e-16</td><td>-------</td><td>ANGPTL7,MTOR</td><td>6mm weak meridian (R)                                     </td><td>intron_variant    </td><td>Eye_measures</td></tr>\n",
       "\t<tr><td>1:11193787:C:T</td><td>intron</td><td>INI5099</td><td>-0.1332890</td><td>0.0163959</td><td>4.313e-16</td><td>-------</td><td>ANGPTL7,MTOR</td><td>3mm weak meridian (R)                                     </td><td>intron_variant    </td><td>Eye_measures</td></tr>\n",
       "\t<tr><td>1:11193787:C:T</td><td>intron</td><td>INI5132</td><td>-0.1322532</td><td>0.0164072</td><td>7.586e-16</td><td>-------</td><td>ANGPTL7,MTOR</td><td>3mm strong meridian (R)                                   </td><td>intron_variant    </td><td>Eye_measures</td></tr>\n",
       "\t<tr><td>1:11193787:C:T</td><td>intron</td><td>INI5133</td><td>-0.1501461</td><td>0.0176769</td><td>1.998e-17</td><td>-------</td><td>ANGPTL7,MTOR</td><td>6mm strong meridian (R)                                   </td><td>intron_variant    </td><td>Eye_measures</td></tr>\n",
       "\t<tr><td>1:11193787:C:T</td><td>intron</td><td>INI5134</td><td>-0.1577524</td><td>0.0175273</td><td>2.249e-19</td><td>-------</td><td>ANGPTL7,MTOR</td><td>6mm strong meridian (L)                                   </td><td>intron_variant    </td><td>Eye_measures</td></tr>\n",
       "\t<tr><td>1:11193787:C:T</td><td>intron</td><td>INI5135</td><td>-0.1383358</td><td>0.0163665</td><td>2.855e-17</td><td>-------</td><td>ANGPTL7,MTOR</td><td>3mm strong meridian (L)                                   </td><td>intron_variant    </td><td>Eye_measures</td></tr>\n",
       "\t<tr><td>1:11194786:T:C</td><td>intron</td><td>INI5096</td><td>-0.1268334</td><td>0.0163497</td><td>8.66e-15 </td><td>-------</td><td>ANGPTL7,MTOR</td><td>3mm weak meridian (L)                                     </td><td>intron_variant    </td><td>Eye_measures</td></tr>\n",
       "\t<tr><td>1:11194786:T:C</td><td>intron</td><td>INI5097</td><td>-0.1488993</td><td>0.0175273</td><td>1.975e-17</td><td>-------</td><td>ANGPTL7,MTOR</td><td>6mm weak meridian (L)                                     </td><td>intron_variant    </td><td>Eye_measures</td></tr>\n",
       "\t<tr><td>1:11194786:T:C</td><td>intron</td><td>INI5098</td><td>-0.1448309</td><td>0.0176598</td><td>2.38e-16 </td><td>-------</td><td>ANGPTL7,MTOR</td><td>6mm weak meridian (R)                                     </td><td>intron_variant    </td><td>Eye_measures</td></tr>\n",
       "\t<tr><td>1:11194786:T:C</td><td>intron</td><td>INI5099</td><td>-0.1329925</td><td>0.0163852</td><td>4.794e-16</td><td>-------</td><td>ANGPTL7,MTOR</td><td>3mm weak meridian (R)                                     </td><td>intron_variant    </td><td>Eye_measures</td></tr>\n",
       "\t<tr><td>1:11194786:T:C</td><td>intron</td><td>INI5132</td><td>-0.1323534</td><td>0.0163964</td><td>6.911e-16</td><td>-------</td><td>ANGPTL7,MTOR</td><td>3mm strong meridian (R)                                   </td><td>intron_variant    </td><td>Eye_measures</td></tr>\n",
       "\t<tr><td>1:11194786:T:C</td><td>intron</td><td>INI5133</td><td>-0.1500232</td><td>0.0176639</td><td>2.01e-17 </td><td>-------</td><td>ANGPTL7,MTOR</td><td>6mm strong meridian (R)                                   </td><td>intron_variant    </td><td>Eye_measures</td></tr>\n",
       "\t<tr><td>1:11194786:T:C</td><td>intron</td><td>INI5134</td><td>-0.1572246</td><td>0.0175089</td><td>2.715e-19</td><td>-------</td><td>ANGPTL7,MTOR</td><td>6mm strong meridian (L)                                   </td><td>intron_variant    </td><td>Eye_measures</td></tr>\n",
       "\t<tr><td>1:11194786:T:C</td><td>intron</td><td>INI5135</td><td>-0.1386040</td><td>0.0163502</td><td>2.307e-17</td><td>-------</td><td>ANGPTL7,MTOR</td><td>3mm strong meridian (L)                                   </td><td>intron_variant    </td><td>Eye_measures</td></tr>\n",
       "\t<tr><td>1:11194951:T:C</td><td>pcv   </td><td>INI5096</td><td>-0.1250510</td><td>0.0162667</td><td>1.5e-14  </td><td>-------</td><td>ANGPTL7     </td><td>3mm weak meridian (L)                                     </td><td>synonymous_variant</td><td>Eye_measures</td></tr>\n",
       "\t<tr><td>1:11194951:T:C</td><td>pcv   </td><td>INI5097</td><td>-0.1490796</td><td>0.0174328</td><td>1.213e-17</td><td>-------</td><td>ANGPTL7     </td><td>6mm weak meridian (L)                                     </td><td>synonymous_variant</td><td>Eye_measures</td></tr>\n",
       "\t<tr><td>1:11194951:T:C</td><td>pcv   </td><td>INI5098</td><td>-0.1434224</td><td>0.0175628</td><td>3.181e-16</td><td>-------</td><td>ANGPTL7     </td><td>6mm weak meridian (R)                                     </td><td>synonymous_variant</td><td>Eye_measures</td></tr>\n",
       "\t<tr><td>1:11194951:T:C</td><td>pcv   </td><td>INI5099</td><td>-0.1319266</td><td>0.0163015</td><td>5.826e-16</td><td>-------</td><td>ANGPTL7     </td><td>3mm weak meridian (R)                                     </td><td>synonymous_variant</td><td>Eye_measures</td></tr>\n",
       "\t<tr><td>1:11194951:T:C</td><td>pcv   </td><td>INI5132</td><td>-0.1309063</td><td>0.0163136</td><td>1.02e-15 </td><td>-------</td><td>ANGPTL7     </td><td>3mm strong meridian (R)                                   </td><td>synonymous_variant</td><td>Eye_measures</td></tr>\n",
       "\t<tr><td>1:11194951:T:C</td><td>pcv   </td><td>INI5133</td><td>-0.1493582</td><td>0.0175666</td><td>1.857e-17</td><td>-------</td><td>ANGPTL7     </td><td>6mm strong meridian (R)                                   </td><td>synonymous_variant</td><td>Eye_measures</td></tr>\n",
       "\t<tr><td>1:11194951:T:C</td><td>pcv   </td><td>INI5134</td><td>-0.1569260</td><td>0.0174151</td><td>2.044e-19</td><td>-------</td><td>ANGPTL7     </td><td>6mm strong meridian (L)                                   </td><td>synonymous_variant</td><td>Eye_measures</td></tr>\n",
       "\t<tr><td>1:11194951:T:C</td><td>pcv   </td><td>INI5135</td><td>-0.1367880</td><td>0.0162674</td><td>4.145e-17</td><td>-------</td><td>ANGPTL7     </td><td>3mm strong meridian (L)                                   </td><td>synonymous_variant</td><td>Eye_measures</td></tr>\n",
       "</tbody>\n",
       "</table>\n"
      ],
      "text/latex": [
       "A data.table: 35 × 11\n",
       "\\begin{tabular}{lllllllllll}\n",
       " Variant\\_ID & Csq & GBE\\_ID & BETA & SE & P & Direction & SYMBOL & GBE\\_short\\_name & Consequence & GBE\\_category\\\\\n",
       " <chr> & <chr> & <chr> & <dbl> & <dbl> & <chr> & <chr> & <chr> & <chr> & <chr> & <chr>\\\\\n",
       "\\hline\n",
       "\t 1:11189808:G:A & pav    & BIN5327 & 16.3809666 & 1.5898294 & 6.787e-25 & ???+?+  & ANGPTL7      & Ever had laser treatment for glaucoma or high eye pressure & missense\\_variant   & Eye\\_measures\\\\\n",
       "\t 1:11189845:A:T & pav    & BIN5327 & 17.6967000 & 2.2882700 & 1.045e-14 & ?????+  & ANGPTL7      & Ever had laser treatment for glaucoma or high eye pressure & missense\\_variant   & Eye\\_measures\\\\\n",
       "\t 1:11193627:G:T & pav    & INI5097 &  0.1938339 & 0.0342578 & 1.531e-08 & ++-+?++ & ANGPTL7      & 6mm weak meridian (L)                                      & missense\\_variant   & Eye\\_measures\\\\\n",
       "\t 1:11193627:G:T & pav    & INI5098 &  0.1734179 & 0.0343484 & 4.446e-07 & ++-+?++ & ANGPTL7      & 6mm weak meridian (R)                                      & missense\\_variant   & Eye\\_measures\\\\\n",
       "\t 1:11193627:G:T & pav    & INI5099 &  0.1603938 & 0.0324399 & 7.64e-07  & ++-+?++ & ANGPTL7      & 3mm weak meridian (R)                                      & missense\\_variant   & Eye\\_measures\\\\\n",
       "\t 1:11193627:G:T & pav    & INI5134 &  0.1781968 & 0.0341889 & 1.867e-07 & ++++?++ & ANGPTL7      & 6mm strong meridian (L)                                    & missense\\_variant   & Eye\\_measures\\\\\n",
       "\t 1:11193627:G:T & pav    & INI5254 & -0.1857980 & 0.0324951 & 1.08e-08  & -+-+?-- & ANGPTL7      & Intra-ocular pressure, corneal-compensated (R)             & missense\\_variant   & Eye\\_measures\\\\\n",
       "\t 1:11193627:G:T & pav    & INI5255 & -0.2339061 & 0.0327558 & 9.272e-13 & ---+?-- & ANGPTL7      & Intra-ocular pressure, Goldmann-correlated (R)             & missense\\_variant   & Eye\\_measures\\\\\n",
       "\t 1:11193627:G:T & pav    & INI5262 & -0.1656939 & 0.0325778 & 3.655e-07 & -+-+?-- & ANGPTL7      & Intra-ocular pressure, corneal-compensated (L)             & missense\\_variant   & Eye\\_measures\\\\\n",
       "\t 1:11193627:G:T & pav    & INI5263 & -0.2143863 & 0.0328702 & 6.928e-11 & ---+?-- & ANGPTL7      & Intra-ocular pressure, Goldmann-correlated (L)             & missense\\_variant   & Eye\\_measures\\\\\n",
       "\t 1:11193631:C:T & ptv    & INI5133 &  0.7076568 & 0.1435410 & 8.223e-07 & ++?+?++ & ANGPTL7      & 6mm strong meridian (R)                                    & stop\\_gained        & Eye\\_measures\\\\\n",
       "\t 1:11193787:C:T & intron & INI5096 & -0.1272742 & 0.0163664 & 7.454e-15 & ------- & ANGPTL7,MTOR & 3mm weak meridian (L)                                      & intron\\_variant     & Eye\\_measures\\\\\n",
       "\t 1:11193787:C:T & intron & INI5097 & -0.1497217 & 0.0175462 & 1.426e-17 & ------- & ANGPTL7,MTOR & 6mm weak meridian (L)                                      & intron\\_variant     & Eye\\_measures\\\\\n",
       "\t 1:11193787:C:T & intron & INI5098 & -0.1453497 & 0.0176735 & 1.966e-16 & ------- & ANGPTL7,MTOR & 6mm weak meridian (R)                                      & intron\\_variant     & Eye\\_measures\\\\\n",
       "\t 1:11193787:C:T & intron & INI5099 & -0.1332890 & 0.0163959 & 4.313e-16 & ------- & ANGPTL7,MTOR & 3mm weak meridian (R)                                      & intron\\_variant     & Eye\\_measures\\\\\n",
       "\t 1:11193787:C:T & intron & INI5132 & -0.1322532 & 0.0164072 & 7.586e-16 & ------- & ANGPTL7,MTOR & 3mm strong meridian (R)                                    & intron\\_variant     & Eye\\_measures\\\\\n",
       "\t 1:11193787:C:T & intron & INI5133 & -0.1501461 & 0.0176769 & 1.998e-17 & ------- & ANGPTL7,MTOR & 6mm strong meridian (R)                                    & intron\\_variant     & Eye\\_measures\\\\\n",
       "\t 1:11193787:C:T & intron & INI5134 & -0.1577524 & 0.0175273 & 2.249e-19 & ------- & ANGPTL7,MTOR & 6mm strong meridian (L)                                    & intron\\_variant     & Eye\\_measures\\\\\n",
       "\t 1:11193787:C:T & intron & INI5135 & -0.1383358 & 0.0163665 & 2.855e-17 & ------- & ANGPTL7,MTOR & 3mm strong meridian (L)                                    & intron\\_variant     & Eye\\_measures\\\\\n",
       "\t 1:11194786:T:C & intron & INI5096 & -0.1268334 & 0.0163497 & 8.66e-15  & ------- & ANGPTL7,MTOR & 3mm weak meridian (L)                                      & intron\\_variant     & Eye\\_measures\\\\\n",
       "\t 1:11194786:T:C & intron & INI5097 & -0.1488993 & 0.0175273 & 1.975e-17 & ------- & ANGPTL7,MTOR & 6mm weak meridian (L)                                      & intron\\_variant     & Eye\\_measures\\\\\n",
       "\t 1:11194786:T:C & intron & INI5098 & -0.1448309 & 0.0176598 & 2.38e-16  & ------- & ANGPTL7,MTOR & 6mm weak meridian (R)                                      & intron\\_variant     & Eye\\_measures\\\\\n",
       "\t 1:11194786:T:C & intron & INI5099 & -0.1329925 & 0.0163852 & 4.794e-16 & ------- & ANGPTL7,MTOR & 3mm weak meridian (R)                                      & intron\\_variant     & Eye\\_measures\\\\\n",
       "\t 1:11194786:T:C & intron & INI5132 & -0.1323534 & 0.0163964 & 6.911e-16 & ------- & ANGPTL7,MTOR & 3mm strong meridian (R)                                    & intron\\_variant     & Eye\\_measures\\\\\n",
       "\t 1:11194786:T:C & intron & INI5133 & -0.1500232 & 0.0176639 & 2.01e-17  & ------- & ANGPTL7,MTOR & 6mm strong meridian (R)                                    & intron\\_variant     & Eye\\_measures\\\\\n",
       "\t 1:11194786:T:C & intron & INI5134 & -0.1572246 & 0.0175089 & 2.715e-19 & ------- & ANGPTL7,MTOR & 6mm strong meridian (L)                                    & intron\\_variant     & Eye\\_measures\\\\\n",
       "\t 1:11194786:T:C & intron & INI5135 & -0.1386040 & 0.0163502 & 2.307e-17 & ------- & ANGPTL7,MTOR & 3mm strong meridian (L)                                    & intron\\_variant     & Eye\\_measures\\\\\n",
       "\t 1:11194951:T:C & pcv    & INI5096 & -0.1250510 & 0.0162667 & 1.5e-14   & ------- & ANGPTL7      & 3mm weak meridian (L)                                      & synonymous\\_variant & Eye\\_measures\\\\\n",
       "\t 1:11194951:T:C & pcv    & INI5097 & -0.1490796 & 0.0174328 & 1.213e-17 & ------- & ANGPTL7      & 6mm weak meridian (L)                                      & synonymous\\_variant & Eye\\_measures\\\\\n",
       "\t 1:11194951:T:C & pcv    & INI5098 & -0.1434224 & 0.0175628 & 3.181e-16 & ------- & ANGPTL7      & 6mm weak meridian (R)                                      & synonymous\\_variant & Eye\\_measures\\\\\n",
       "\t 1:11194951:T:C & pcv    & INI5099 & -0.1319266 & 0.0163015 & 5.826e-16 & ------- & ANGPTL7      & 3mm weak meridian (R)                                      & synonymous\\_variant & Eye\\_measures\\\\\n",
       "\t 1:11194951:T:C & pcv    & INI5132 & -0.1309063 & 0.0163136 & 1.02e-15  & ------- & ANGPTL7      & 3mm strong meridian (R)                                    & synonymous\\_variant & Eye\\_measures\\\\\n",
       "\t 1:11194951:T:C & pcv    & INI5133 & -0.1493582 & 0.0175666 & 1.857e-17 & ------- & ANGPTL7      & 6mm strong meridian (R)                                    & synonymous\\_variant & Eye\\_measures\\\\\n",
       "\t 1:11194951:T:C & pcv    & INI5134 & -0.1569260 & 0.0174151 & 2.044e-19 & ------- & ANGPTL7      & 6mm strong meridian (L)                                    & synonymous\\_variant & Eye\\_measures\\\\\n",
       "\t 1:11194951:T:C & pcv    & INI5135 & -0.1367880 & 0.0162674 & 4.145e-17 & ------- & ANGPTL7      & 3mm strong meridian (L)                                    & synonymous\\_variant & Eye\\_measures\\\\\n",
       "\\end{tabular}\n"
      ],
      "text/markdown": [
       "\n",
       "A data.table: 35 × 11\n",
       "\n",
       "| Variant_ID &lt;chr&gt; | Csq &lt;chr&gt; | GBE_ID &lt;chr&gt; | BETA &lt;dbl&gt; | SE &lt;dbl&gt; | P &lt;chr&gt; | Direction &lt;chr&gt; | SYMBOL &lt;chr&gt; | GBE_short_name &lt;chr&gt; | Consequence &lt;chr&gt; | GBE_category &lt;chr&gt; |\n",
       "|---|---|---|---|---|---|---|---|---|---|---|\n",
       "| 1:11189808:G:A | pav    | BIN5327 | 16.3809666 | 1.5898294 | 6.787e-25 | ???+?+  | ANGPTL7      | Ever had laser treatment for glaucoma or high eye pressure | missense_variant   | Eye_measures |\n",
       "| 1:11189845:A:T | pav    | BIN5327 | 17.6967000 | 2.2882700 | 1.045e-14 | ?????+  | ANGPTL7      | Ever had laser treatment for glaucoma or high eye pressure | missense_variant   | Eye_measures |\n",
       "| 1:11193627:G:T | pav    | INI5097 |  0.1938339 | 0.0342578 | 1.531e-08 | ++-+?++ | ANGPTL7      | 6mm weak meridian (L)                                      | missense_variant   | Eye_measures |\n",
       "| 1:11193627:G:T | pav    | INI5098 |  0.1734179 | 0.0343484 | 4.446e-07 | ++-+?++ | ANGPTL7      | 6mm weak meridian (R)                                      | missense_variant   | Eye_measures |\n",
       "| 1:11193627:G:T | pav    | INI5099 |  0.1603938 | 0.0324399 | 7.64e-07  | ++-+?++ | ANGPTL7      | 3mm weak meridian (R)                                      | missense_variant   | Eye_measures |\n",
       "| 1:11193627:G:T | pav    | INI5134 |  0.1781968 | 0.0341889 | 1.867e-07 | ++++?++ | ANGPTL7      | 6mm strong meridian (L)                                    | missense_variant   | Eye_measures |\n",
       "| 1:11193627:G:T | pav    | INI5254 | -0.1857980 | 0.0324951 | 1.08e-08  | -+-+?-- | ANGPTL7      | Intra-ocular pressure, corneal-compensated (R)             | missense_variant   | Eye_measures |\n",
       "| 1:11193627:G:T | pav    | INI5255 | -0.2339061 | 0.0327558 | 9.272e-13 | ---+?-- | ANGPTL7      | Intra-ocular pressure, Goldmann-correlated (R)             | missense_variant   | Eye_measures |\n",
       "| 1:11193627:G:T | pav    | INI5262 | -0.1656939 | 0.0325778 | 3.655e-07 | -+-+?-- | ANGPTL7      | Intra-ocular pressure, corneal-compensated (L)             | missense_variant   | Eye_measures |\n",
       "| 1:11193627:G:T | pav    | INI5263 | -0.2143863 | 0.0328702 | 6.928e-11 | ---+?-- | ANGPTL7      | Intra-ocular pressure, Goldmann-correlated (L)             | missense_variant   | Eye_measures |\n",
       "| 1:11193631:C:T | ptv    | INI5133 |  0.7076568 | 0.1435410 | 8.223e-07 | ++?+?++ | ANGPTL7      | 6mm strong meridian (R)                                    | stop_gained        | Eye_measures |\n",
       "| 1:11193787:C:T | intron | INI5096 | -0.1272742 | 0.0163664 | 7.454e-15 | ------- | ANGPTL7,MTOR | 3mm weak meridian (L)                                      | intron_variant     | Eye_measures |\n",
       "| 1:11193787:C:T | intron | INI5097 | -0.1497217 | 0.0175462 | 1.426e-17 | ------- | ANGPTL7,MTOR | 6mm weak meridian (L)                                      | intron_variant     | Eye_measures |\n",
       "| 1:11193787:C:T | intron | INI5098 | -0.1453497 | 0.0176735 | 1.966e-16 | ------- | ANGPTL7,MTOR | 6mm weak meridian (R)                                      | intron_variant     | Eye_measures |\n",
       "| 1:11193787:C:T | intron | INI5099 | -0.1332890 | 0.0163959 | 4.313e-16 | ------- | ANGPTL7,MTOR | 3mm weak meridian (R)                                      | intron_variant     | Eye_measures |\n",
       "| 1:11193787:C:T | intron | INI5132 | -0.1322532 | 0.0164072 | 7.586e-16 | ------- | ANGPTL7,MTOR | 3mm strong meridian (R)                                    | intron_variant     | Eye_measures |\n",
       "| 1:11193787:C:T | intron | INI5133 | -0.1501461 | 0.0176769 | 1.998e-17 | ------- | ANGPTL7,MTOR | 6mm strong meridian (R)                                    | intron_variant     | Eye_measures |\n",
       "| 1:11193787:C:T | intron | INI5134 | -0.1577524 | 0.0175273 | 2.249e-19 | ------- | ANGPTL7,MTOR | 6mm strong meridian (L)                                    | intron_variant     | Eye_measures |\n",
       "| 1:11193787:C:T | intron | INI5135 | -0.1383358 | 0.0163665 | 2.855e-17 | ------- | ANGPTL7,MTOR | 3mm strong meridian (L)                                    | intron_variant     | Eye_measures |\n",
       "| 1:11194786:T:C | intron | INI5096 | -0.1268334 | 0.0163497 | 8.66e-15  | ------- | ANGPTL7,MTOR | 3mm weak meridian (L)                                      | intron_variant     | Eye_measures |\n",
       "| 1:11194786:T:C | intron | INI5097 | -0.1488993 | 0.0175273 | 1.975e-17 | ------- | ANGPTL7,MTOR | 6mm weak meridian (L)                                      | intron_variant     | Eye_measures |\n",
       "| 1:11194786:T:C | intron | INI5098 | -0.1448309 | 0.0176598 | 2.38e-16  | ------- | ANGPTL7,MTOR | 6mm weak meridian (R)                                      | intron_variant     | Eye_measures |\n",
       "| 1:11194786:T:C | intron | INI5099 | -0.1329925 | 0.0163852 | 4.794e-16 | ------- | ANGPTL7,MTOR | 3mm weak meridian (R)                                      | intron_variant     | Eye_measures |\n",
       "| 1:11194786:T:C | intron | INI5132 | -0.1323534 | 0.0163964 | 6.911e-16 | ------- | ANGPTL7,MTOR | 3mm strong meridian (R)                                    | intron_variant     | Eye_measures |\n",
       "| 1:11194786:T:C | intron | INI5133 | -0.1500232 | 0.0176639 | 2.01e-17  | ------- | ANGPTL7,MTOR | 6mm strong meridian (R)                                    | intron_variant     | Eye_measures |\n",
       "| 1:11194786:T:C | intron | INI5134 | -0.1572246 | 0.0175089 | 2.715e-19 | ------- | ANGPTL7,MTOR | 6mm strong meridian (L)                                    | intron_variant     | Eye_measures |\n",
       "| 1:11194786:T:C | intron | INI5135 | -0.1386040 | 0.0163502 | 2.307e-17 | ------- | ANGPTL7,MTOR | 3mm strong meridian (L)                                    | intron_variant     | Eye_measures |\n",
       "| 1:11194951:T:C | pcv    | INI5096 | -0.1250510 | 0.0162667 | 1.5e-14   | ------- | ANGPTL7      | 3mm weak meridian (L)                                      | synonymous_variant | Eye_measures |\n",
       "| 1:11194951:T:C | pcv    | INI5097 | -0.1490796 | 0.0174328 | 1.213e-17 | ------- | ANGPTL7      | 6mm weak meridian (L)                                      | synonymous_variant | Eye_measures |\n",
       "| 1:11194951:T:C | pcv    | INI5098 | -0.1434224 | 0.0175628 | 3.181e-16 | ------- | ANGPTL7      | 6mm weak meridian (R)                                      | synonymous_variant | Eye_measures |\n",
       "| 1:11194951:T:C | pcv    | INI5099 | -0.1319266 | 0.0163015 | 5.826e-16 | ------- | ANGPTL7      | 3mm weak meridian (R)                                      | synonymous_variant | Eye_measures |\n",
       "| 1:11194951:T:C | pcv    | INI5132 | -0.1309063 | 0.0163136 | 1.02e-15  | ------- | ANGPTL7      | 3mm strong meridian (R)                                    | synonymous_variant | Eye_measures |\n",
       "| 1:11194951:T:C | pcv    | INI5133 | -0.1493582 | 0.0175666 | 1.857e-17 | ------- | ANGPTL7      | 6mm strong meridian (R)                                    | synonymous_variant | Eye_measures |\n",
       "| 1:11194951:T:C | pcv    | INI5134 | -0.1569260 | 0.0174151 | 2.044e-19 | ------- | ANGPTL7      | 6mm strong meridian (L)                                    | synonymous_variant | Eye_measures |\n",
       "| 1:11194951:T:C | pcv    | INI5135 | -0.1367880 | 0.0162674 | 4.145e-17 | ------- | ANGPTL7      | 3mm strong meridian (L)                                    | synonymous_variant | Eye_measures |\n",
       "\n"
      ],
      "text/plain": [
       "   Variant_ID     Csq    GBE_ID  BETA       SE        P         Direction\n",
       "1  1:11189808:G:A pav    BIN5327 16.3809666 1.5898294 6.787e-25 ???+?+   \n",
       "2  1:11189845:A:T pav    BIN5327 17.6967000 2.2882700 1.045e-14 ?????+   \n",
       "3  1:11193627:G:T pav    INI5097  0.1938339 0.0342578 1.531e-08 ++-+?++  \n",
       "4  1:11193627:G:T pav    INI5098  0.1734179 0.0343484 4.446e-07 ++-+?++  \n",
       "5  1:11193627:G:T pav    INI5099  0.1603938 0.0324399 7.64e-07  ++-+?++  \n",
       "6  1:11193627:G:T pav    INI5134  0.1781968 0.0341889 1.867e-07 ++++?++  \n",
       "7  1:11193627:G:T pav    INI5254 -0.1857980 0.0324951 1.08e-08  -+-+?--  \n",
       "8  1:11193627:G:T pav    INI5255 -0.2339061 0.0327558 9.272e-13 ---+?--  \n",
       "9  1:11193627:G:T pav    INI5262 -0.1656939 0.0325778 3.655e-07 -+-+?--  \n",
       "10 1:11193627:G:T pav    INI5263 -0.2143863 0.0328702 6.928e-11 ---+?--  \n",
       "11 1:11193631:C:T ptv    INI5133  0.7076568 0.1435410 8.223e-07 ++?+?++  \n",
       "12 1:11193787:C:T intron INI5096 -0.1272742 0.0163664 7.454e-15 -------  \n",
       "13 1:11193787:C:T intron INI5097 -0.1497217 0.0175462 1.426e-17 -------  \n",
       "14 1:11193787:C:T intron INI5098 -0.1453497 0.0176735 1.966e-16 -------  \n",
       "15 1:11193787:C:T intron INI5099 -0.1332890 0.0163959 4.313e-16 -------  \n",
       "16 1:11193787:C:T intron INI5132 -0.1322532 0.0164072 7.586e-16 -------  \n",
       "17 1:11193787:C:T intron INI5133 -0.1501461 0.0176769 1.998e-17 -------  \n",
       "18 1:11193787:C:T intron INI5134 -0.1577524 0.0175273 2.249e-19 -------  \n",
       "19 1:11193787:C:T intron INI5135 -0.1383358 0.0163665 2.855e-17 -------  \n",
       "20 1:11194786:T:C intron INI5096 -0.1268334 0.0163497 8.66e-15  -------  \n",
       "21 1:11194786:T:C intron INI5097 -0.1488993 0.0175273 1.975e-17 -------  \n",
       "22 1:11194786:T:C intron INI5098 -0.1448309 0.0176598 2.38e-16  -------  \n",
       "23 1:11194786:T:C intron INI5099 -0.1329925 0.0163852 4.794e-16 -------  \n",
       "24 1:11194786:T:C intron INI5132 -0.1323534 0.0163964 6.911e-16 -------  \n",
       "25 1:11194786:T:C intron INI5133 -0.1500232 0.0176639 2.01e-17  -------  \n",
       "26 1:11194786:T:C intron INI5134 -0.1572246 0.0175089 2.715e-19 -------  \n",
       "27 1:11194786:T:C intron INI5135 -0.1386040 0.0163502 2.307e-17 -------  \n",
       "28 1:11194951:T:C pcv    INI5096 -0.1250510 0.0162667 1.5e-14   -------  \n",
       "29 1:11194951:T:C pcv    INI5097 -0.1490796 0.0174328 1.213e-17 -------  \n",
       "30 1:11194951:T:C pcv    INI5098 -0.1434224 0.0175628 3.181e-16 -------  \n",
       "31 1:11194951:T:C pcv    INI5099 -0.1319266 0.0163015 5.826e-16 -------  \n",
       "32 1:11194951:T:C pcv    INI5132 -0.1309063 0.0163136 1.02e-15  -------  \n",
       "33 1:11194951:T:C pcv    INI5133 -0.1493582 0.0175666 1.857e-17 -------  \n",
       "34 1:11194951:T:C pcv    INI5134 -0.1569260 0.0174151 2.044e-19 -------  \n",
       "35 1:11194951:T:C pcv    INI5135 -0.1367880 0.0162674 4.145e-17 -------  \n",
       "   SYMBOL       GBE_short_name                                            \n",
       "1  ANGPTL7      Ever had laser treatment for glaucoma or high eye pressure\n",
       "2  ANGPTL7      Ever had laser treatment for glaucoma or high eye pressure\n",
       "3  ANGPTL7      6mm weak meridian (L)                                     \n",
       "4  ANGPTL7      6mm weak meridian (R)                                     \n",
       "5  ANGPTL7      3mm weak meridian (R)                                     \n",
       "6  ANGPTL7      6mm strong meridian (L)                                   \n",
       "7  ANGPTL7      Intra-ocular pressure, corneal-compensated (R)            \n",
       "8  ANGPTL7      Intra-ocular pressure, Goldmann-correlated (R)            \n",
       "9  ANGPTL7      Intra-ocular pressure, corneal-compensated (L)            \n",
       "10 ANGPTL7      Intra-ocular pressure, Goldmann-correlated (L)            \n",
       "11 ANGPTL7      6mm strong meridian (R)                                   \n",
       "12 ANGPTL7,MTOR 3mm weak meridian (L)                                     \n",
       "13 ANGPTL7,MTOR 6mm weak meridian (L)                                     \n",
       "14 ANGPTL7,MTOR 6mm weak meridian (R)                                     \n",
       "15 ANGPTL7,MTOR 3mm weak meridian (R)                                     \n",
       "16 ANGPTL7,MTOR 3mm strong meridian (R)                                   \n",
       "17 ANGPTL7,MTOR 6mm strong meridian (R)                                   \n",
       "18 ANGPTL7,MTOR 6mm strong meridian (L)                                   \n",
       "19 ANGPTL7,MTOR 3mm strong meridian (L)                                   \n",
       "20 ANGPTL7,MTOR 3mm weak meridian (L)                                     \n",
       "21 ANGPTL7,MTOR 6mm weak meridian (L)                                     \n",
       "22 ANGPTL7,MTOR 6mm weak meridian (R)                                     \n",
       "23 ANGPTL7,MTOR 3mm weak meridian (R)                                     \n",
       "24 ANGPTL7,MTOR 3mm strong meridian (R)                                   \n",
       "25 ANGPTL7,MTOR 6mm strong meridian (R)                                   \n",
       "26 ANGPTL7,MTOR 6mm strong meridian (L)                                   \n",
       "27 ANGPTL7,MTOR 3mm strong meridian (L)                                   \n",
       "28 ANGPTL7      3mm weak meridian (L)                                     \n",
       "29 ANGPTL7      6mm weak meridian (L)                                     \n",
       "30 ANGPTL7      6mm weak meridian (R)                                     \n",
       "31 ANGPTL7      3mm weak meridian (R)                                     \n",
       "32 ANGPTL7      3mm strong meridian (R)                                   \n",
       "33 ANGPTL7      6mm strong meridian (R)                                   \n",
       "34 ANGPTL7      6mm strong meridian (L)                                   \n",
       "35 ANGPTL7      3mm strong meridian (L)                                   \n",
       "   Consequence        GBE_category\n",
       "1  missense_variant   Eye_measures\n",
       "2  missense_variant   Eye_measures\n",
       "3  missense_variant   Eye_measures\n",
       "4  missense_variant   Eye_measures\n",
       "5  missense_variant   Eye_measures\n",
       "6  missense_variant   Eye_measures\n",
       "7  missense_variant   Eye_measures\n",
       "8  missense_variant   Eye_measures\n",
       "9  missense_variant   Eye_measures\n",
       "10 missense_variant   Eye_measures\n",
       "11 stop_gained        Eye_measures\n",
       "12 intron_variant     Eye_measures\n",
       "13 intron_variant     Eye_measures\n",
       "14 intron_variant     Eye_measures\n",
       "15 intron_variant     Eye_measures\n",
       "16 intron_variant     Eye_measures\n",
       "17 intron_variant     Eye_measures\n",
       "18 intron_variant     Eye_measures\n",
       "19 intron_variant     Eye_measures\n",
       "20 intron_variant     Eye_measures\n",
       "21 intron_variant     Eye_measures\n",
       "22 intron_variant     Eye_measures\n",
       "23 intron_variant     Eye_measures\n",
       "24 intron_variant     Eye_measures\n",
       "25 intron_variant     Eye_measures\n",
       "26 intron_variant     Eye_measures\n",
       "27 intron_variant     Eye_measures\n",
       "28 synonymous_variant Eye_measures\n",
       "29 synonymous_variant Eye_measures\n",
       "30 synonymous_variant Eye_measures\n",
       "31 synonymous_variant Eye_measures\n",
       "32 synonymous_variant Eye_measures\n",
       "33 synonymous_variant Eye_measures\n",
       "34 synonymous_variant Eye_measures\n",
       "35 synonymous_variant Eye_measures"
      ]
     },
     "metadata": {},
     "output_type": "display_data"
    }
   ],
   "source": [
    "ANGPTL7_df %>% filter(GBE_category == 'Eye_measures') %>%\n",
    "select(Variant_ID, Csq, GBE_ID, BETA, SE, P, Direction, SYMBOL, GBE_short_name, Consequence, GBE_category) %>%\n",
    "filter(as.numeric(P) <= 1e-6)"
   ]
  },
  {
   "cell_type": "code",
   "execution_count": 63,
   "metadata": {},
   "outputs": [
    {
     "data": {
      "text/html": [
       "<table>\n",
       "<caption>A data.table: 1 × 15</caption>\n",
       "<thead>\n",
       "\t<tr><th scope=col>ID</th><th scope=col>Csq</th><th scope=col>Consequence</th><th scope=col>SYMBOL</th><th scope=col>Gene</th><th scope=col>HGVSp</th><th scope=col>f_miss</th><th scope=col>UKB_white_british_hwe_p</th><th scope=col>UKB_white_british_AF</th><th scope=col>UKB_AF</th><th scope=col>CHROM_hg19</th><th scope=col>POS_hg19</th><th scope=col>REF_hg19</th><th scope=col>ALT_hg19</th><th scope=col>liftOver_unmapped_reason</th></tr>\n",
       "\t<tr><th scope=col>&lt;chr&gt;</th><th scope=col>&lt;chr&gt;</th><th scope=col>&lt;chr&gt;</th><th scope=col>&lt;chr&gt;</th><th scope=col>&lt;chr&gt;</th><th scope=col>&lt;chr&gt;</th><th scope=col>&lt;dbl&gt;</th><th scope=col>&lt;dbl&gt;</th><th scope=col>&lt;dbl&gt;</th><th scope=col>&lt;dbl&gt;</th><th scope=col>&lt;chr&gt;</th><th scope=col>&lt;int&gt;</th><th scope=col>&lt;chr&gt;</th><th scope=col>&lt;chr&gt;</th><th scope=col>&lt;chr&gt;</th></tr>\n",
       "</thead>\n",
       "<tbody>\n",
       "\t<tr><td>1:11193627:G:T</td><td>pav</td><td>missense_variant</td><td>ANGPTL7</td><td>ENSG00000171819</td><td>ENSP00000366015.3:p.Gln175His</td><td>4.983977e-06</td><td>0.214468</td><td>0.00823666</td><td>0.00733147</td><td>1</td><td>11253684</td><td>G</td><td>T</td><td>NA</td></tr>\n",
       "</tbody>\n",
       "</table>\n"
      ],
      "text/latex": [
       "A data.table: 1 × 15\n",
       "\\begin{tabular}{lllllllllllllll}\n",
       " ID & Csq & Consequence & SYMBOL & Gene & HGVSp & f\\_miss & UKB\\_white\\_british\\_hwe\\_p & UKB\\_white\\_british\\_AF & UKB\\_AF & CHROM\\_hg19 & POS\\_hg19 & REF\\_hg19 & ALT\\_hg19 & liftOver\\_unmapped\\_reason\\\\\n",
       " <chr> & <chr> & <chr> & <chr> & <chr> & <chr> & <dbl> & <dbl> & <dbl> & <dbl> & <chr> & <int> & <chr> & <chr> & <chr>\\\\\n",
       "\\hline\n",
       "\t 1:11193627:G:T & pav & missense\\_variant & ANGPTL7 & ENSG00000171819 & ENSP00000366015.3:p.Gln175His & 4.983977e-06 & 0.214468 & 0.00823666 & 0.00733147 & 1 & 11253684 & G & T & NA\\\\\n",
       "\\end{tabular}\n"
      ],
      "text/markdown": [
       "\n",
       "A data.table: 1 × 15\n",
       "\n",
       "| ID &lt;chr&gt; | Csq &lt;chr&gt; | Consequence &lt;chr&gt; | SYMBOL &lt;chr&gt; | Gene &lt;chr&gt; | HGVSp &lt;chr&gt; | f_miss &lt;dbl&gt; | UKB_white_british_hwe_p &lt;dbl&gt; | UKB_white_british_AF &lt;dbl&gt; | UKB_AF &lt;dbl&gt; | CHROM_hg19 &lt;chr&gt; | POS_hg19 &lt;int&gt; | REF_hg19 &lt;chr&gt; | ALT_hg19 &lt;chr&gt; | liftOver_unmapped_reason &lt;chr&gt; |\n",
       "|---|---|---|---|---|---|---|---|---|---|---|---|---|---|---|\n",
       "| 1:11193627:G:T | pav | missense_variant | ANGPTL7 | ENSG00000171819 | ENSP00000366015.3:p.Gln175His | 4.983977e-06 | 0.214468 | 0.00823666 | 0.00733147 | 1 | 11253684 | G | T | NA |\n",
       "\n"
      ],
      "text/plain": [
       "  ID             Csq Consequence      SYMBOL  Gene           \n",
       "1 1:11193627:G:T pav missense_variant ANGPTL7 ENSG00000171819\n",
       "  HGVSp                         f_miss       UKB_white_british_hwe_p\n",
       "1 ENSP00000366015.3:p.Gln175His 4.983977e-06 0.214468               \n",
       "  UKB_white_british_AF UKB_AF     CHROM_hg19 POS_hg19 REF_hg19 ALT_hg19\n",
       "1 0.00823666           0.00733147 1          11253684 G        T       \n",
       "  liftOver_unmapped_reason\n",
       "1 NA                      "
      ]
     },
     "metadata": {},
     "output_type": "display_data"
    }
   ],
   "source": [
    "annot_df %>%\n",
    "filter(ID == '1:11193627:G:T') %>%\n",
    "select(-CHROM, -POS, -REF, -ALT, -FILTER, -Allele)"
   ]
  },
  {
   "cell_type": "code",
   "execution_count": 64,
   "metadata": {},
   "outputs": [
    {
     "data": {
      "text/html": [
       "<table>\n",
       "<caption>A data.table: 2 × 15</caption>\n",
       "<thead>\n",
       "\t<tr><th scope=col>ID</th><th scope=col>Csq</th><th scope=col>Consequence</th><th scope=col>SYMBOL</th><th scope=col>Gene</th><th scope=col>HGVSp</th><th scope=col>f_miss</th><th scope=col>UKB_white_british_hwe_p</th><th scope=col>UKB_white_british_AF</th><th scope=col>UKB_AF</th><th scope=col>CHROM_hg19</th><th scope=col>POS_hg19</th><th scope=col>REF_hg19</th><th scope=col>ALT_hg19</th><th scope=col>liftOver_unmapped_reason</th></tr>\n",
       "\t<tr><th scope=col>&lt;chr&gt;</th><th scope=col>&lt;chr&gt;</th><th scope=col>&lt;chr&gt;</th><th scope=col>&lt;chr&gt;</th><th scope=col>&lt;chr&gt;</th><th scope=col>&lt;chr&gt;</th><th scope=col>&lt;dbl&gt;</th><th scope=col>&lt;dbl&gt;</th><th scope=col>&lt;dbl&gt;</th><th scope=col>&lt;dbl&gt;</th><th scope=col>&lt;chr&gt;</th><th scope=col>&lt;int&gt;</th><th scope=col>&lt;chr&gt;</th><th scope=col>&lt;chr&gt;</th><th scope=col>&lt;chr&gt;</th></tr>\n",
       "</thead>\n",
       "<tbody>\n",
       "\t<tr><td>1:11194786:T:C</td><td>intron</td><td>intron_variant    </td><td>ANGPTL7,MTOR</td><td>ENSG00000198793,ENSG00000171819</td><td>NA                           </td><td>8.47276e-05</td><td>0.919176</td><td>0.0203179</td><td>0.0260908</td><td>1</td><td>11254843</td><td>T</td><td>C</td><td>NA</td></tr>\n",
       "\t<tr><td>1:11194951:T:C</td><td>pcv   </td><td>synonymous_variant</td><td>ANGPTL7     </td><td>ENSG00000171819                </td><td>ENSP00000366015.3:p.Tyr323%3D</td><td>0.00000e+00</td><td>0.973079</td><td>0.0203633</td><td>0.0263378</td><td>1</td><td>11255008</td><td>T</td><td>C</td><td>NA</td></tr>\n",
       "</tbody>\n",
       "</table>\n"
      ],
      "text/latex": [
       "A data.table: 2 × 15\n",
       "\\begin{tabular}{lllllllllllllll}\n",
       " ID & Csq & Consequence & SYMBOL & Gene & HGVSp & f\\_miss & UKB\\_white\\_british\\_hwe\\_p & UKB\\_white\\_british\\_AF & UKB\\_AF & CHROM\\_hg19 & POS\\_hg19 & REF\\_hg19 & ALT\\_hg19 & liftOver\\_unmapped\\_reason\\\\\n",
       " <chr> & <chr> & <chr> & <chr> & <chr> & <chr> & <dbl> & <dbl> & <dbl> & <dbl> & <chr> & <int> & <chr> & <chr> & <chr>\\\\\n",
       "\\hline\n",
       "\t 1:11194786:T:C & intron & intron\\_variant     & ANGPTL7,MTOR & ENSG00000198793,ENSG00000171819 & NA                            & 8.47276e-05 & 0.919176 & 0.0203179 & 0.0260908 & 1 & 11254843 & T & C & NA\\\\\n",
       "\t 1:11194951:T:C & pcv    & synonymous\\_variant & ANGPTL7      & ENSG00000171819                 & ENSP00000366015.3:p.Tyr323\\%3D & 0.00000e+00 & 0.973079 & 0.0203633 & 0.0263378 & 1 & 11255008 & T & C & NA\\\\\n",
       "\\end{tabular}\n"
      ],
      "text/markdown": [
       "\n",
       "A data.table: 2 × 15\n",
       "\n",
       "| ID &lt;chr&gt; | Csq &lt;chr&gt; | Consequence &lt;chr&gt; | SYMBOL &lt;chr&gt; | Gene &lt;chr&gt; | HGVSp &lt;chr&gt; | f_miss &lt;dbl&gt; | UKB_white_british_hwe_p &lt;dbl&gt; | UKB_white_british_AF &lt;dbl&gt; | UKB_AF &lt;dbl&gt; | CHROM_hg19 &lt;chr&gt; | POS_hg19 &lt;int&gt; | REF_hg19 &lt;chr&gt; | ALT_hg19 &lt;chr&gt; | liftOver_unmapped_reason &lt;chr&gt; |\n",
       "|---|---|---|---|---|---|---|---|---|---|---|---|---|---|---|\n",
       "| 1:11194786:T:C | intron | intron_variant     | ANGPTL7,MTOR | ENSG00000198793,ENSG00000171819 | NA                            | 8.47276e-05 | 0.919176 | 0.0203179 | 0.0260908 | 1 | 11254843 | T | C | NA |\n",
       "| 1:11194951:T:C | pcv    | synonymous_variant | ANGPTL7      | ENSG00000171819                 | ENSP00000366015.3:p.Tyr323%3D | 0.00000e+00 | 0.973079 | 0.0203633 | 0.0263378 | 1 | 11255008 | T | C | NA |\n",
       "\n"
      ],
      "text/plain": [
       "  ID             Csq    Consequence        SYMBOL      \n",
       "1 1:11194786:T:C intron intron_variant     ANGPTL7,MTOR\n",
       "2 1:11194951:T:C pcv    synonymous_variant ANGPTL7     \n",
       "  Gene                            HGVSp                         f_miss     \n",
       "1 ENSG00000198793,ENSG00000171819 NA                            8.47276e-05\n",
       "2 ENSG00000171819                 ENSP00000366015.3:p.Tyr323%3D 0.00000e+00\n",
       "  UKB_white_british_hwe_p UKB_white_british_AF UKB_AF    CHROM_hg19 POS_hg19\n",
       "1 0.919176                0.0203179            0.0260908 1          11254843\n",
       "2 0.973079                0.0203633            0.0263378 1          11255008\n",
       "  REF_hg19 ALT_hg19 liftOver_unmapped_reason\n",
       "1 T        C        NA                      \n",
       "2 T        C        NA                      "
      ]
     },
     "metadata": {},
     "output_type": "display_data"
    }
   ],
   "source": [
    "annot_df %>%\n",
    "filter(ID %in% c('1:11194786:T:C', '1:11194951:T:C')) %>%\n",
    "select(-CHROM, -POS, -REF, -ALT, -FILTER, -Allele)"
   ]
  },
  {
   "cell_type": "code",
   "execution_count": 62,
   "metadata": {},
   "outputs": [
    {
     "data": {
      "text/html": [
       "<table>\n",
       "<caption>A data.table: 15 × 11</caption>\n",
       "<thead>\n",
       "\t<tr><th scope=col>Variant_ID</th><th scope=col>Csq</th><th scope=col>GBE_ID</th><th scope=col>BETA</th><th scope=col>SE</th><th scope=col>P</th><th scope=col>Direction</th><th scope=col>SYMBOL</th><th scope=col>GBE_short_name</th><th scope=col>Consequence</th><th scope=col>GBE_category</th></tr>\n",
       "\t<tr><th scope=col>&lt;chr&gt;</th><th scope=col>&lt;chr&gt;</th><th scope=col>&lt;chr&gt;</th><th scope=col>&lt;dbl&gt;</th><th scope=col>&lt;dbl&gt;</th><th scope=col>&lt;chr&gt;</th><th scope=col>&lt;chr&gt;</th><th scope=col>&lt;chr&gt;</th><th scope=col>&lt;chr&gt;</th><th scope=col>&lt;chr&gt;</th><th scope=col>&lt;chr&gt;</th></tr>\n",
       "</thead>\n",
       "<tbody>\n",
       "\t<tr><td>1:11193627:G:T</td><td>pav</td><td>HC327     </td><td> 2.7310930</td><td>0.5291362</td><td>2.451e-07</td><td>-++++  </td><td>ANGPTL7</td><td>Fracture metatarsal                                                   </td><td>missense_variant</td><td>Disease_outcome</td></tr>\n",
       "\t<tr><td>1:11193627:G:T</td><td>pav</td><td>HC375     </td><td> 4.6474086</td><td>0.6505321</td><td>9.065e-13</td><td>-+++   </td><td>ANGPTL7</td><td>Alcohol dependency                                                    </td><td>missense_variant</td><td>Disease_outcome</td></tr>\n",
       "\t<tr><td>1:11193627:G:T</td><td>pav</td><td>HC1392    </td><td>28.7874000</td><td>2.3062800</td><td>9.34e-36 </td><td>+      </td><td>ANGPTL7</td><td>TTE multiple gestation                                                </td><td>missense_variant</td><td>Disease_outcome</td></tr>\n",
       "\t<tr><td>1:11193627:G:T</td><td>pav</td><td>HC1412    </td><td>23.7505000</td><td>2.3067300</td><td>7.332e-25</td><td>+      </td><td>ANGPTL7</td><td>TTE obstructed labour due to malposition and malpresentation of foetus</td><td>missense_variant</td><td>Disease_outcome</td></tr>\n",
       "\t<tr><td>1:11193627:G:T</td><td>pav</td><td>HC1425    </td><td>26.1418000</td><td>2.3067100</td><td>9.013e-30</td><td>+      </td><td>ANGPTL7</td><td>TTE single delivery by forceps and vacuum extractor                   </td><td>missense_variant</td><td>Disease_outcome</td></tr>\n",
       "\t<tr><td>1:11193627:G:T</td><td>pav</td><td>INI5097   </td><td> 0.1938339</td><td>0.0342578</td><td>1.531e-08</td><td>++-+?++</td><td>ANGPTL7</td><td>6mm weak meridian (L)                                                 </td><td>missense_variant</td><td>Eye_measures   </td></tr>\n",
       "\t<tr><td>1:11193627:G:T</td><td>pav</td><td>INI5098   </td><td> 0.1734179</td><td>0.0343484</td><td>4.446e-07</td><td>++-+?++</td><td>ANGPTL7</td><td>6mm weak meridian (R)                                                 </td><td>missense_variant</td><td>Eye_measures   </td></tr>\n",
       "\t<tr><td>1:11193627:G:T</td><td>pav</td><td>INI5099   </td><td> 0.1603938</td><td>0.0324399</td><td>7.64e-07 </td><td>++-+?++</td><td>ANGPTL7</td><td>3mm weak meridian (R)                                                 </td><td>missense_variant</td><td>Eye_measures   </td></tr>\n",
       "\t<tr><td>1:11193627:G:T</td><td>pav</td><td>INI5134   </td><td> 0.1781968</td><td>0.0341889</td><td>1.867e-07</td><td>++++?++</td><td>ANGPTL7</td><td>6mm strong meridian (L)                                               </td><td>missense_variant</td><td>Eye_measures   </td></tr>\n",
       "\t<tr><td>1:11193627:G:T</td><td>pav</td><td>INI5254   </td><td>-0.1857980</td><td>0.0324951</td><td>1.08e-08 </td><td>-+-+?--</td><td>ANGPTL7</td><td>Intra-ocular pressure, corneal-compensated (R)                        </td><td>missense_variant</td><td>Eye_measures   </td></tr>\n",
       "\t<tr><td>1:11193627:G:T</td><td>pav</td><td>INI5255   </td><td>-0.2339061</td><td>0.0327558</td><td>9.272e-13</td><td>---+?--</td><td>ANGPTL7</td><td>Intra-ocular pressure, Goldmann-correlated (R)                        </td><td>missense_variant</td><td>Eye_measures   </td></tr>\n",
       "\t<tr><td>1:11193627:G:T</td><td>pav</td><td>INI5262   </td><td>-0.1656939</td><td>0.0325778</td><td>3.655e-07</td><td>-+-+?--</td><td>ANGPTL7</td><td>Intra-ocular pressure, corneal-compensated (L)                        </td><td>missense_variant</td><td>Eye_measures   </td></tr>\n",
       "\t<tr><td>1:11193627:G:T</td><td>pav</td><td>INI5263   </td><td>-0.2143863</td><td>0.0328702</td><td>6.928e-11</td><td>---+?--</td><td>ANGPTL7</td><td>Intra-ocular pressure, Goldmann-correlated (L)                        </td><td>missense_variant</td><td>Eye_measures   </td></tr>\n",
       "\t<tr><td>1:11193627:G:T</td><td>pav</td><td>INI2005254</td><td>-0.1945758</td><td>0.0322873</td><td>1.677e-09</td><td>-+-+?--</td><td>ANGPTL7</td><td>Intra-ocular pressure, corneal-compensated (median)                   </td><td>missense_variant</td><td>Others         </td></tr>\n",
       "\t<tr><td>1:11193627:G:T</td><td>pav</td><td>INI2005255</td><td>-0.2351267</td><td>0.0326322</td><td>5.789e-13</td><td>---+?--</td><td>ANGPTL7</td><td>Intra-ocular pressure, Goldmann-correlated (median)                   </td><td>missense_variant</td><td>Others         </td></tr>\n",
       "</tbody>\n",
       "</table>\n"
      ],
      "text/latex": [
       "A data.table: 15 × 11\n",
       "\\begin{tabular}{lllllllllll}\n",
       " Variant\\_ID & Csq & GBE\\_ID & BETA & SE & P & Direction & SYMBOL & GBE\\_short\\_name & Consequence & GBE\\_category\\\\\n",
       " <chr> & <chr> & <chr> & <dbl> & <dbl> & <chr> & <chr> & <chr> & <chr> & <chr> & <chr>\\\\\n",
       "\\hline\n",
       "\t 1:11193627:G:T & pav & HC327      &  2.7310930 & 0.5291362 & 2.451e-07 & -++++   & ANGPTL7 & Fracture metatarsal                                                    & missense\\_variant & Disease\\_outcome\\\\\n",
       "\t 1:11193627:G:T & pav & HC375      &  4.6474086 & 0.6505321 & 9.065e-13 & -+++    & ANGPTL7 & Alcohol dependency                                                     & missense\\_variant & Disease\\_outcome\\\\\n",
       "\t 1:11193627:G:T & pav & HC1392     & 28.7874000 & 2.3062800 & 9.34e-36  & +       & ANGPTL7 & TTE multiple gestation                                                 & missense\\_variant & Disease\\_outcome\\\\\n",
       "\t 1:11193627:G:T & pav & HC1412     & 23.7505000 & 2.3067300 & 7.332e-25 & +       & ANGPTL7 & TTE obstructed labour due to malposition and malpresentation of foetus & missense\\_variant & Disease\\_outcome\\\\\n",
       "\t 1:11193627:G:T & pav & HC1425     & 26.1418000 & 2.3067100 & 9.013e-30 & +       & ANGPTL7 & TTE single delivery by forceps and vacuum extractor                    & missense\\_variant & Disease\\_outcome\\\\\n",
       "\t 1:11193627:G:T & pav & INI5097    &  0.1938339 & 0.0342578 & 1.531e-08 & ++-+?++ & ANGPTL7 & 6mm weak meridian (L)                                                  & missense\\_variant & Eye\\_measures   \\\\\n",
       "\t 1:11193627:G:T & pav & INI5098    &  0.1734179 & 0.0343484 & 4.446e-07 & ++-+?++ & ANGPTL7 & 6mm weak meridian (R)                                                  & missense\\_variant & Eye\\_measures   \\\\\n",
       "\t 1:11193627:G:T & pav & INI5099    &  0.1603938 & 0.0324399 & 7.64e-07  & ++-+?++ & ANGPTL7 & 3mm weak meridian (R)                                                  & missense\\_variant & Eye\\_measures   \\\\\n",
       "\t 1:11193627:G:T & pav & INI5134    &  0.1781968 & 0.0341889 & 1.867e-07 & ++++?++ & ANGPTL7 & 6mm strong meridian (L)                                                & missense\\_variant & Eye\\_measures   \\\\\n",
       "\t 1:11193627:G:T & pav & INI5254    & -0.1857980 & 0.0324951 & 1.08e-08  & -+-+?-- & ANGPTL7 & Intra-ocular pressure, corneal-compensated (R)                         & missense\\_variant & Eye\\_measures   \\\\\n",
       "\t 1:11193627:G:T & pav & INI5255    & -0.2339061 & 0.0327558 & 9.272e-13 & ---+?-- & ANGPTL7 & Intra-ocular pressure, Goldmann-correlated (R)                         & missense\\_variant & Eye\\_measures   \\\\\n",
       "\t 1:11193627:G:T & pav & INI5262    & -0.1656939 & 0.0325778 & 3.655e-07 & -+-+?-- & ANGPTL7 & Intra-ocular pressure, corneal-compensated (L)                         & missense\\_variant & Eye\\_measures   \\\\\n",
       "\t 1:11193627:G:T & pav & INI5263    & -0.2143863 & 0.0328702 & 6.928e-11 & ---+?-- & ANGPTL7 & Intra-ocular pressure, Goldmann-correlated (L)                         & missense\\_variant & Eye\\_measures   \\\\\n",
       "\t 1:11193627:G:T & pav & INI2005254 & -0.1945758 & 0.0322873 & 1.677e-09 & -+-+?-- & ANGPTL7 & Intra-ocular pressure, corneal-compensated (median)                    & missense\\_variant & Others         \\\\\n",
       "\t 1:11193627:G:T & pav & INI2005255 & -0.2351267 & 0.0326322 & 5.789e-13 & ---+?-- & ANGPTL7 & Intra-ocular pressure, Goldmann-correlated (median)                    & missense\\_variant & Others         \\\\\n",
       "\\end{tabular}\n"
      ],
      "text/markdown": [
       "\n",
       "A data.table: 15 × 11\n",
       "\n",
       "| Variant_ID &lt;chr&gt; | Csq &lt;chr&gt; | GBE_ID &lt;chr&gt; | BETA &lt;dbl&gt; | SE &lt;dbl&gt; | P &lt;chr&gt; | Direction &lt;chr&gt; | SYMBOL &lt;chr&gt; | GBE_short_name &lt;chr&gt; | Consequence &lt;chr&gt; | GBE_category &lt;chr&gt; |\n",
       "|---|---|---|---|---|---|---|---|---|---|---|\n",
       "| 1:11193627:G:T | pav | HC327      |  2.7310930 | 0.5291362 | 2.451e-07 | -++++   | ANGPTL7 | Fracture metatarsal                                                    | missense_variant | Disease_outcome |\n",
       "| 1:11193627:G:T | pav | HC375      |  4.6474086 | 0.6505321 | 9.065e-13 | -+++    | ANGPTL7 | Alcohol dependency                                                     | missense_variant | Disease_outcome |\n",
       "| 1:11193627:G:T | pav | HC1392     | 28.7874000 | 2.3062800 | 9.34e-36  | +       | ANGPTL7 | TTE multiple gestation                                                 | missense_variant | Disease_outcome |\n",
       "| 1:11193627:G:T | pav | HC1412     | 23.7505000 | 2.3067300 | 7.332e-25 | +       | ANGPTL7 | TTE obstructed labour due to malposition and malpresentation of foetus | missense_variant | Disease_outcome |\n",
       "| 1:11193627:G:T | pav | HC1425     | 26.1418000 | 2.3067100 | 9.013e-30 | +       | ANGPTL7 | TTE single delivery by forceps and vacuum extractor                    | missense_variant | Disease_outcome |\n",
       "| 1:11193627:G:T | pav | INI5097    |  0.1938339 | 0.0342578 | 1.531e-08 | ++-+?++ | ANGPTL7 | 6mm weak meridian (L)                                                  | missense_variant | Eye_measures    |\n",
       "| 1:11193627:G:T | pav | INI5098    |  0.1734179 | 0.0343484 | 4.446e-07 | ++-+?++ | ANGPTL7 | 6mm weak meridian (R)                                                  | missense_variant | Eye_measures    |\n",
       "| 1:11193627:G:T | pav | INI5099    |  0.1603938 | 0.0324399 | 7.64e-07  | ++-+?++ | ANGPTL7 | 3mm weak meridian (R)                                                  | missense_variant | Eye_measures    |\n",
       "| 1:11193627:G:T | pav | INI5134    |  0.1781968 | 0.0341889 | 1.867e-07 | ++++?++ | ANGPTL7 | 6mm strong meridian (L)                                                | missense_variant | Eye_measures    |\n",
       "| 1:11193627:G:T | pav | INI5254    | -0.1857980 | 0.0324951 | 1.08e-08  | -+-+?-- | ANGPTL7 | Intra-ocular pressure, corneal-compensated (R)                         | missense_variant | Eye_measures    |\n",
       "| 1:11193627:G:T | pav | INI5255    | -0.2339061 | 0.0327558 | 9.272e-13 | ---+?-- | ANGPTL7 | Intra-ocular pressure, Goldmann-correlated (R)                         | missense_variant | Eye_measures    |\n",
       "| 1:11193627:G:T | pav | INI5262    | -0.1656939 | 0.0325778 | 3.655e-07 | -+-+?-- | ANGPTL7 | Intra-ocular pressure, corneal-compensated (L)                         | missense_variant | Eye_measures    |\n",
       "| 1:11193627:G:T | pav | INI5263    | -0.2143863 | 0.0328702 | 6.928e-11 | ---+?-- | ANGPTL7 | Intra-ocular pressure, Goldmann-correlated (L)                         | missense_variant | Eye_measures    |\n",
       "| 1:11193627:G:T | pav | INI2005254 | -0.1945758 | 0.0322873 | 1.677e-09 | -+-+?-- | ANGPTL7 | Intra-ocular pressure, corneal-compensated (median)                    | missense_variant | Others          |\n",
       "| 1:11193627:G:T | pav | INI2005255 | -0.2351267 | 0.0326322 | 5.789e-13 | ---+?-- | ANGPTL7 | Intra-ocular pressure, Goldmann-correlated (median)                    | missense_variant | Others          |\n",
       "\n"
      ],
      "text/plain": [
       "   Variant_ID     Csq GBE_ID     BETA       SE        P         Direction\n",
       "1  1:11193627:G:T pav HC327       2.7310930 0.5291362 2.451e-07 -++++    \n",
       "2  1:11193627:G:T pav HC375       4.6474086 0.6505321 9.065e-13 -+++     \n",
       "3  1:11193627:G:T pav HC1392     28.7874000 2.3062800 9.34e-36  +        \n",
       "4  1:11193627:G:T pav HC1412     23.7505000 2.3067300 7.332e-25 +        \n",
       "5  1:11193627:G:T pav HC1425     26.1418000 2.3067100 9.013e-30 +        \n",
       "6  1:11193627:G:T pav INI5097     0.1938339 0.0342578 1.531e-08 ++-+?++  \n",
       "7  1:11193627:G:T pav INI5098     0.1734179 0.0343484 4.446e-07 ++-+?++  \n",
       "8  1:11193627:G:T pav INI5099     0.1603938 0.0324399 7.64e-07  ++-+?++  \n",
       "9  1:11193627:G:T pav INI5134     0.1781968 0.0341889 1.867e-07 ++++?++  \n",
       "10 1:11193627:G:T pav INI5254    -0.1857980 0.0324951 1.08e-08  -+-+?--  \n",
       "11 1:11193627:G:T pav INI5255    -0.2339061 0.0327558 9.272e-13 ---+?--  \n",
       "12 1:11193627:G:T pav INI5262    -0.1656939 0.0325778 3.655e-07 -+-+?--  \n",
       "13 1:11193627:G:T pav INI5263    -0.2143863 0.0328702 6.928e-11 ---+?--  \n",
       "14 1:11193627:G:T pav INI2005254 -0.1945758 0.0322873 1.677e-09 -+-+?--  \n",
       "15 1:11193627:G:T pav INI2005255 -0.2351267 0.0326322 5.789e-13 ---+?--  \n",
       "   SYMBOL \n",
       "1  ANGPTL7\n",
       "2  ANGPTL7\n",
       "3  ANGPTL7\n",
       "4  ANGPTL7\n",
       "5  ANGPTL7\n",
       "6  ANGPTL7\n",
       "7  ANGPTL7\n",
       "8  ANGPTL7\n",
       "9  ANGPTL7\n",
       "10 ANGPTL7\n",
       "11 ANGPTL7\n",
       "12 ANGPTL7\n",
       "13 ANGPTL7\n",
       "14 ANGPTL7\n",
       "15 ANGPTL7\n",
       "   GBE_short_name                                                        \n",
       "1  Fracture metatarsal                                                   \n",
       "2  Alcohol dependency                                                    \n",
       "3  TTE multiple gestation                                                \n",
       "4  TTE obstructed labour due to malposition and malpresentation of foetus\n",
       "5  TTE single delivery by forceps and vacuum extractor                   \n",
       "6  6mm weak meridian (L)                                                 \n",
       "7  6mm weak meridian (R)                                                 \n",
       "8  3mm weak meridian (R)                                                 \n",
       "9  6mm strong meridian (L)                                               \n",
       "10 Intra-ocular pressure, corneal-compensated (R)                        \n",
       "11 Intra-ocular pressure, Goldmann-correlated (R)                        \n",
       "12 Intra-ocular pressure, corneal-compensated (L)                        \n",
       "13 Intra-ocular pressure, Goldmann-correlated (L)                        \n",
       "14 Intra-ocular pressure, corneal-compensated (median)                   \n",
       "15 Intra-ocular pressure, Goldmann-correlated (median)                   \n",
       "   Consequence      GBE_category   \n",
       "1  missense_variant Disease_outcome\n",
       "2  missense_variant Disease_outcome\n",
       "3  missense_variant Disease_outcome\n",
       "4  missense_variant Disease_outcome\n",
       "5  missense_variant Disease_outcome\n",
       "6  missense_variant Eye_measures   \n",
       "7  missense_variant Eye_measures   \n",
       "8  missense_variant Eye_measures   \n",
       "9  missense_variant Eye_measures   \n",
       "10 missense_variant Eye_measures   \n",
       "11 missense_variant Eye_measures   \n",
       "12 missense_variant Eye_measures   \n",
       "13 missense_variant Eye_measures   \n",
       "14 missense_variant Others         \n",
       "15 missense_variant Others         "
      ]
     },
     "metadata": {},
     "output_type": "display_data"
    }
   ],
   "source": [
    "ANGPTL7_df %>% filter(Variant_ID == '1:11193627:G:T') %>%\n",
    "select(Variant_ID, Csq, GBE_ID, BETA, SE, P, Direction, SYMBOL, GBE_short_name, Consequence, GBE_category) %>%\n",
    "filter(as.numeric(P) <= 1e-6)"
   ]
  },
  {
   "cell_type": "code",
   "execution_count": 51,
   "metadata": {},
   "outputs": [
    {
     "data": {
      "text/html": [
       "<table>\n",
       "<caption>A data.table: 4 × 23</caption>\n",
       "<thead>\n",
       "\t<tr><th scope=col>CHROM</th><th scope=col>POS</th><th scope=col>Variant_ID</th><th scope=col>Csq</th><th scope=col>GBE_ID</th><th scope=col>population</th><th scope=col>REF</th><th scope=col>ALT</th><th scope=col>A1</th><th scope=col>OBS_CT</th><th scope=col>⋯</th><th scope=col>Direction</th><th scope=col>HetISq</th><th scope=col>HetChiSq</th><th scope=col>HetDf</th><th scope=col>HetPVal</th><th scope=col>SYMBOL</th><th scope=col>GBE_short_name</th><th scope=col>Consequence</th><th scope=col>Gene</th><th scope=col>GBE_category</th></tr>\n",
       "\t<tr><th scope=col>&lt;chr&gt;</th><th scope=col>&lt;int&gt;</th><th scope=col>&lt;chr&gt;</th><th scope=col>&lt;chr&gt;</th><th scope=col>&lt;chr&gt;</th><th scope=col>&lt;chr&gt;</th><th scope=col>&lt;chr&gt;</th><th scope=col>&lt;chr&gt;</th><th scope=col>&lt;chr&gt;</th><th scope=col>&lt;int&gt;</th><th scope=col>⋯</th><th scope=col>&lt;chr&gt;</th><th scope=col>&lt;dbl&gt;</th><th scope=col>&lt;dbl&gt;</th><th scope=col>&lt;int&gt;</th><th scope=col>&lt;dbl&gt;</th><th scope=col>&lt;chr&gt;</th><th scope=col>&lt;chr&gt;</th><th scope=col>&lt;chr&gt;</th><th scope=col>&lt;chr&gt;</th><th scope=col>&lt;chr&gt;</th></tr>\n",
       "</thead>\n",
       "<tbody>\n",
       "\t<tr><td>1</td><td>11189482</td><td>1:11189482:C:T</td><td>utr</td><td>HC276</td><td>metal</td><td>C</td><td>T</td><td>T</td><td>178888</td><td>⋯</td><td>++??+++</td><td> 0.0</td><td>  0.973</td><td>4</td><td> 9.138e-01</td><td>ANGPTL7</td><td>Glaucoma</td><td>5_prime_UTR_variant</td><td>ENSG00000171819</td><td>Disease_outcome</td></tr>\n",
       "\t<tr><td>1</td><td>11189883</td><td>1:11189883:T:A</td><td>pav</td><td>HC276</td><td>metal</td><td>T</td><td>A</td><td>A</td><td> 16315</td><td>⋯</td><td>???-+?+</td><td>99.6</td><td>540.316</td><td>2</td><td>4.696e-118</td><td>ANGPTL7</td><td>Glaucoma</td><td>missense_variant   </td><td>ENSG00000171819</td><td>Disease_outcome</td></tr>\n",
       "\t<tr><td>1</td><td>11193658</td><td>1:11193658:C:T</td><td>pav</td><td>HC276</td><td>metal</td><td>C</td><td>T</td><td>T</td><td>168069</td><td>⋯</td><td>+????++</td><td> 0.0</td><td>  0.846</td><td>2</td><td> 6.550e-01</td><td>ANGPTL7</td><td>Glaucoma</td><td>missense_variant   </td><td>ENSG00000171819</td><td>Disease_outcome</td></tr>\n",
       "\t<tr><td>1</td><td>11194982</td><td>1:11194982:C:T</td><td>pav</td><td>HC276</td><td>metal</td><td>C</td><td>T</td><td>T</td><td>179226</td><td>⋯</td><td>++??+++</td><td> 0.0</td><td>  2.382</td><td>4</td><td> 6.660e-01</td><td>ANGPTL7</td><td>Glaucoma</td><td>missense_variant   </td><td>ENSG00000171819</td><td>Disease_outcome</td></tr>\n",
       "</tbody>\n",
       "</table>\n"
      ],
      "text/latex": [
       "A data.table: 4 × 23\n",
       "\\begin{tabular}{lllllllllllllllllllll}\n",
       " CHROM & POS & Variant\\_ID & Csq & GBE\\_ID & population & REF & ALT & A1 & OBS\\_CT & ⋯ & Direction & HetISq & HetChiSq & HetDf & HetPVal & SYMBOL & GBE\\_short\\_name & Consequence & Gene & GBE\\_category\\\\\n",
       " <chr> & <int> & <chr> & <chr> & <chr> & <chr> & <chr> & <chr> & <chr> & <int> & ⋯ & <chr> & <dbl> & <dbl> & <int> & <dbl> & <chr> & <chr> & <chr> & <chr> & <chr>\\\\\n",
       "\\hline\n",
       "\t 1 & 11189482 & 1:11189482:C:T & utr & HC276 & metal & C & T & T & 178888 & ⋯ & ++??+++ &  0.0 &   0.973 & 4 &  9.138e-01 & ANGPTL7 & Glaucoma & 5\\_prime\\_UTR\\_variant & ENSG00000171819 & Disease\\_outcome\\\\\n",
       "\t 1 & 11189883 & 1:11189883:T:A & pav & HC276 & metal & T & A & A &  16315 & ⋯ & ???-+?+ & 99.6 & 540.316 & 2 & 4.696e-118 & ANGPTL7 & Glaucoma & missense\\_variant    & ENSG00000171819 & Disease\\_outcome\\\\\n",
       "\t 1 & 11193658 & 1:11193658:C:T & pav & HC276 & metal & C & T & T & 168069 & ⋯ & +????++ &  0.0 &   0.846 & 2 &  6.550e-01 & ANGPTL7 & Glaucoma & missense\\_variant    & ENSG00000171819 & Disease\\_outcome\\\\\n",
       "\t 1 & 11194982 & 1:11194982:C:T & pav & HC276 & metal & C & T & T & 179226 & ⋯ & ++??+++ &  0.0 &   2.382 & 4 &  6.660e-01 & ANGPTL7 & Glaucoma & missense\\_variant    & ENSG00000171819 & Disease\\_outcome\\\\\n",
       "\\end{tabular}\n"
      ],
      "text/markdown": [
       "\n",
       "A data.table: 4 × 23\n",
       "\n",
       "| CHROM &lt;chr&gt; | POS &lt;int&gt; | Variant_ID &lt;chr&gt; | Csq &lt;chr&gt; | GBE_ID &lt;chr&gt; | population &lt;chr&gt; | REF &lt;chr&gt; | ALT &lt;chr&gt; | A1 &lt;chr&gt; | OBS_CT &lt;int&gt; | ⋯ ⋯ | Direction &lt;chr&gt; | HetISq &lt;dbl&gt; | HetChiSq &lt;dbl&gt; | HetDf &lt;int&gt; | HetPVal &lt;dbl&gt; | SYMBOL &lt;chr&gt; | GBE_short_name &lt;chr&gt; | Consequence &lt;chr&gt; | Gene &lt;chr&gt; | GBE_category &lt;chr&gt; |\n",
       "|---|---|---|---|---|---|---|---|---|---|---|---|---|---|---|---|---|---|---|---|---|\n",
       "| 1 | 11189482 | 1:11189482:C:T | utr | HC276 | metal | C | T | T | 178888 | ⋯ | ++??+++ |  0.0 |   0.973 | 4 |  9.138e-01 | ANGPTL7 | Glaucoma | 5_prime_UTR_variant | ENSG00000171819 | Disease_outcome |\n",
       "| 1 | 11189883 | 1:11189883:T:A | pav | HC276 | metal | T | A | A |  16315 | ⋯ | ???-+?+ | 99.6 | 540.316 | 2 | 4.696e-118 | ANGPTL7 | Glaucoma | missense_variant    | ENSG00000171819 | Disease_outcome |\n",
       "| 1 | 11193658 | 1:11193658:C:T | pav | HC276 | metal | C | T | T | 168069 | ⋯ | +????++ |  0.0 |   0.846 | 2 |  6.550e-01 | ANGPTL7 | Glaucoma | missense_variant    | ENSG00000171819 | Disease_outcome |\n",
       "| 1 | 11194982 | 1:11194982:C:T | pav | HC276 | metal | C | T | T | 179226 | ⋯ | ++??+++ |  0.0 |   2.382 | 4 |  6.660e-01 | ANGPTL7 | Glaucoma | missense_variant    | ENSG00000171819 | Disease_outcome |\n",
       "\n"
      ],
      "text/plain": [
       "  CHROM POS      Variant_ID     Csq GBE_ID population REF ALT A1 OBS_CT ⋯\n",
       "1 1     11189482 1:11189482:C:T utr HC276  metal      C   T   T  178888 ⋯\n",
       "2 1     11189883 1:11189883:T:A pav HC276  metal      T   A   A   16315 ⋯\n",
       "3 1     11193658 1:11193658:C:T pav HC276  metal      C   T   T  168069 ⋯\n",
       "4 1     11194982 1:11194982:C:T pav HC276  metal      C   T   T  179226 ⋯\n",
       "  Direction HetISq HetChiSq HetDf HetPVal    SYMBOL  GBE_short_name\n",
       "1 ++??+++    0.0     0.973  4      9.138e-01 ANGPTL7 Glaucoma      \n",
       "2 ???-+?+   99.6   540.316  2     4.696e-118 ANGPTL7 Glaucoma      \n",
       "3 +????++    0.0     0.846  2      6.550e-01 ANGPTL7 Glaucoma      \n",
       "4 ++??+++    0.0     2.382  4      6.660e-01 ANGPTL7 Glaucoma      \n",
       "  Consequence         Gene            GBE_category   \n",
       "1 5_prime_UTR_variant ENSG00000171819 Disease_outcome\n",
       "2 missense_variant    ENSG00000171819 Disease_outcome\n",
       "3 missense_variant    ENSG00000171819 Disease_outcome\n",
       "4 missense_variant    ENSG00000171819 Disease_outcome"
      ]
     },
     "metadata": {},
     "output_type": "display_data"
    }
   ],
   "source": [
    "ANGPTL7_df %>% filter(GBE_ID == 'HC276')"
   ]
  },
  {
   "cell_type": "code",
   "execution_count": 53,
   "metadata": {},
   "outputs": [
    {
     "data": {
      "text/html": [
       "<table>\n",
       "<caption>A data.table: 1 × 21</caption>\n",
       "<thead>\n",
       "\t<tr><th scope=col>CHROM</th><th scope=col>POS</th><th scope=col>ID</th><th scope=col>REF</th><th scope=col>ALT</th><th scope=col>FILTER</th><th scope=col>Allele</th><th scope=col>Csq</th><th scope=col>Consequence</th><th scope=col>SYMBOL</th><th scope=col>⋯</th><th scope=col>HGVSp</th><th scope=col>f_miss</th><th scope=col>UKB_white_british_hwe_p</th><th scope=col>UKB_white_british_AF</th><th scope=col>UKB_AF</th><th scope=col>CHROM_hg19</th><th scope=col>POS_hg19</th><th scope=col>REF_hg19</th><th scope=col>ALT_hg19</th><th scope=col>liftOver_unmapped_reason</th></tr>\n",
       "\t<tr><th scope=col>&lt;chr&gt;</th><th scope=col>&lt;int&gt;</th><th scope=col>&lt;chr&gt;</th><th scope=col>&lt;chr&gt;</th><th scope=col>&lt;chr&gt;</th><th scope=col>&lt;chr&gt;</th><th scope=col>&lt;chr&gt;</th><th scope=col>&lt;chr&gt;</th><th scope=col>&lt;chr&gt;</th><th scope=col>&lt;chr&gt;</th><th scope=col>⋯</th><th scope=col>&lt;chr&gt;</th><th scope=col>&lt;dbl&gt;</th><th scope=col>&lt;dbl&gt;</th><th scope=col>&lt;dbl&gt;</th><th scope=col>&lt;dbl&gt;</th><th scope=col>&lt;chr&gt;</th><th scope=col>&lt;int&gt;</th><th scope=col>&lt;chr&gt;</th><th scope=col>&lt;chr&gt;</th><th scope=col>&lt;chr&gt;</th></tr>\n",
       "</thead>\n",
       "<tbody>\n",
       "\t<tr><td>1</td><td>11189883</td><td>1:11189883:T:A</td><td>T</td><td>A</td><td>.</td><td>A</td><td>pav</td><td>missense_variant</td><td>ANGPTL7</td><td>⋯</td><td>ENSP00000366015.3:p.Tyr102Asn</td><td>0</td><td>0.5</td><td>0</td><td>4.48558e-05</td><td>1</td><td>11249940</td><td>T</td><td>A</td><td>NA</td></tr>\n",
       "</tbody>\n",
       "</table>\n"
      ],
      "text/latex": [
       "A data.table: 1 × 21\n",
       "\\begin{tabular}{lllllllllllllllllllll}\n",
       " CHROM & POS & ID & REF & ALT & FILTER & Allele & Csq & Consequence & SYMBOL & ⋯ & HGVSp & f\\_miss & UKB\\_white\\_british\\_hwe\\_p & UKB\\_white\\_british\\_AF & UKB\\_AF & CHROM\\_hg19 & POS\\_hg19 & REF\\_hg19 & ALT\\_hg19 & liftOver\\_unmapped\\_reason\\\\\n",
       " <chr> & <int> & <chr> & <chr> & <chr> & <chr> & <chr> & <chr> & <chr> & <chr> & ⋯ & <chr> & <dbl> & <dbl> & <dbl> & <dbl> & <chr> & <int> & <chr> & <chr> & <chr>\\\\\n",
       "\\hline\n",
       "\t 1 & 11189883 & 1:11189883:T:A & T & A & . & A & pav & missense\\_variant & ANGPTL7 & ⋯ & ENSP00000366015.3:p.Tyr102Asn & 0 & 0.5 & 0 & 4.48558e-05 & 1 & 11249940 & T & A & NA\\\\\n",
       "\\end{tabular}\n"
      ],
      "text/markdown": [
       "\n",
       "A data.table: 1 × 21\n",
       "\n",
       "| CHROM &lt;chr&gt; | POS &lt;int&gt; | ID &lt;chr&gt; | REF &lt;chr&gt; | ALT &lt;chr&gt; | FILTER &lt;chr&gt; | Allele &lt;chr&gt; | Csq &lt;chr&gt; | Consequence &lt;chr&gt; | SYMBOL &lt;chr&gt; | ⋯ ⋯ | HGVSp &lt;chr&gt; | f_miss &lt;dbl&gt; | UKB_white_british_hwe_p &lt;dbl&gt; | UKB_white_british_AF &lt;dbl&gt; | UKB_AF &lt;dbl&gt; | CHROM_hg19 &lt;chr&gt; | POS_hg19 &lt;int&gt; | REF_hg19 &lt;chr&gt; | ALT_hg19 &lt;chr&gt; | liftOver_unmapped_reason &lt;chr&gt; |\n",
       "|---|---|---|---|---|---|---|---|---|---|---|---|---|---|---|---|---|---|---|---|---|\n",
       "| 1 | 11189883 | 1:11189883:T:A | T | A | . | A | pav | missense_variant | ANGPTL7 | ⋯ | ENSP00000366015.3:p.Tyr102Asn | 0 | 0.5 | 0 | 4.48558e-05 | 1 | 11249940 | T | A | NA |\n",
       "\n"
      ],
      "text/plain": [
       "  CHROM POS      ID             REF ALT FILTER Allele Csq Consequence     \n",
       "1 1     11189883 1:11189883:T:A T   A   .      A      pav missense_variant\n",
       "  SYMBOL  ⋯ HGVSp                         f_miss UKB_white_british_hwe_p\n",
       "1 ANGPTL7 ⋯ ENSP00000366015.3:p.Tyr102Asn 0      0.5                    \n",
       "  UKB_white_british_AF UKB_AF      CHROM_hg19 POS_hg19 REF_hg19 ALT_hg19\n",
       "1 0                    4.48558e-05 1          11249940 T        A       \n",
       "  liftOver_unmapped_reason\n",
       "1 NA                      "
      ]
     },
     "metadata": {},
     "output_type": "display_data"
    }
   ],
   "source": [
    "annot_df %>%\n",
    "filter(ID == '1:11189883:T:A')"
   ]
  },
  {
   "cell_type": "code",
   "execution_count": null,
   "metadata": {},
   "outputs": [],
   "source": []
  }
 ],
 "metadata": {
  "kernelspec": {
   "display_name": "R",
   "language": "R",
   "name": "ir"
  },
  "language_info": {
   "codemirror_mode": "r",
   "file_extension": ".r",
   "mimetype": "text/x-r-source",
   "name": "R",
   "pygments_lexer": "r",
   "version": "3.6.2"
  }
 },
 "nbformat": 4,
 "nbformat_minor": 4
}
