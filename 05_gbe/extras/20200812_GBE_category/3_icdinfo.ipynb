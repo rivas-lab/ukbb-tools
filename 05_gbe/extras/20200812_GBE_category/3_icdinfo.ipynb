{
 "cells": [
  {
   "cell_type": "code",
   "execution_count": 1,
   "metadata": {},
   "outputs": [],
   "source": [
    "suppressWarnings(suppressPackageStartupMessages({\n",
    "    library(tidyverse)\n",
    "    library(data.table)\n",
    "}))\n"
   ]
  },
  {
   "cell_type": "code",
   "execution_count": 2,
   "metadata": {},
   "outputs": [],
   "source": [
    "# input files\n",
    "GBE_cat_f <- 'GBE_category.20201024.tsv'\n",
    "\n",
    "# output files\n",
    "out_d <- 'icdinfo.20201024'\n",
    "icd_info_f <- file.path(out_d, 'icdinfo.%s.tsv')\n"
   ]
  },
  {
   "cell_type": "code",
   "execution_count": 3,
   "metadata": {},
   "outputs": [],
   "source": [
    "df <- fread(GBE_cat_f) %>%\n",
    "rename('GBE_category' = '#GBE_category')\n"
   ]
  },
  {
   "cell_type": "code",
   "execution_count": 4,
   "metadata": {},
   "outputs": [],
   "source": [
    "pops <- setNames(\n",
    "    c('GBE', 'NBW', 'AFR', 'SAS', 'EAS', 'SMR', 'OTH', 'META'),\n",
    "    c('white_british', 'non_british_white', 'african', 's_asian', 'e_asian', 'related', 'others', 'metal')\n",
    ")\n"
   ]
  },
  {
   "cell_type": "code",
   "execution_count": 5,
   "metadata": {},
   "outputs": [],
   "source": [
    "for(pop in names(pops)){\n",
    "    \n",
    "    df %>%\n",
    "    select(all_of(c(\n",
    "        'GBE_category', 'GBE_ID', \n",
    "        sprintf('N_%s', pops[[pop]]), \n",
    "        'GBE_NAME', 'GBE_short_name', 'GBE_short_name_len'\n",
    "    ))) %>%\n",
    "    rename('N' = sprintf('N_%s', pops[[pop]])) %>%\n",
    "    drop_na(N) %>%\n",
    "    filter(N>0) %>%\n",
    "    fwrite(sprintf(icd_info_f, pop), sep='\\t', na = \"NA\", quote=F)\n",
    "    \n",
    "}\n"
   ]
  },
  {
   "cell_type": "code",
   "execution_count": null,
   "metadata": {},
   "outputs": [],
   "source": []
  }
 ],
 "metadata": {
  "kernelspec": {
   "display_name": "R",
   "language": "R",
   "name": "ir"
  },
  "language_info": {
   "codemirror_mode": "r",
   "file_extension": ".r",
   "mimetype": "text/x-r-source",
   "name": "R",
   "pygments_lexer": "r",
   "version": "3.6.2"
  }
 },
 "nbformat": 4,
 "nbformat_minor": 4
}
