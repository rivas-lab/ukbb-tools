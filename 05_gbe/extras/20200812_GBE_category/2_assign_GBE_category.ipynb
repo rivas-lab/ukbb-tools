{
 "cells": [
  {
   "cell_type": "code",
   "execution_count": 1,
   "metadata": {},
   "outputs": [],
   "source": [
    "suppressWarnings(suppressPackageStartupMessages({\n",
    "    library(tidyverse)\n",
    "    library(data.table)\n",
    "    library(googlesheets)\n",
    "}))\n"
   ]
  },
  {
   "cell_type": "code",
   "execution_count": 2,
   "metadata": {},
   "outputs": [],
   "source": [
    "suppressWarnings(suppressMessages({\n",
    "gs_token <- \"/home/users/ytanigaw/.googlesheets_token.rds\"\n",
    "gs_auth(token = gs_token)\n",
    "\n",
    "'https://docs.google.com/spreadsheets/d/1gwzS0SVZBSKkkHgsoqB5vHo5JpUeYYz8PK2RWrHEq3A' %>%\n",
    "gs_url() %>% \n",
    "gs_read(\n",
    "    ws = 'GBE_names', \n",
    "    col_types = cols('Units_of_measurement' = col_character())\n",
    ") -> GBE_names_df\n",
    "}))\n"
   ]
  },
  {
   "cell_type": "code",
   "execution_count": 3,
   "metadata": {},
   "outputs": [],
   "source": [
    "# input files\n",
    "phe_info_f <- '../../phenotype_info.tsv'\n",
    "UKB_cat_f  <- 'UKB_fields_with_category.20200812.tsv'\n",
    "metal_N_f <- '../../../18_metal/202006_metal/icdinfo.metal.20200717.txt'\n",
    "\n",
    "# output\n",
    "\n",
    "GBE_cat_f <- 'GBE_category.20201024.tsv'\n"
   ]
  },
  {
   "cell_type": "code",
   "execution_count": 4,
   "metadata": {},
   "outputs": [],
   "source": [
    "GBE_IDs_biomarkers <- c(\n",
    "    # we manually assign \"Biomarker\" as a category for those 35 traits\n",
    "    'INI10030620',\n",
    "    'INI10030600',\n",
    "    'INI10030610',\n",
    "    'INI10030630',\n",
    "    'INI20030640',\n",
    "    'INI10030650',\n",
    "    'INI30030650',\n",
    "    'INI10030710',\n",
    "    'INI10030680',\n",
    "    'INI20030690',\n",
    "    'INI10030700',\n",
    "    'INI10030510',\n",
    "    'INI10030720',\n",
    "    'INI10030660',\n",
    "    'INI30030700',\n",
    "    'INI10030730',\n",
    "    'INI10030740',\n",
    "    'INI10030750',\n",
    "    'INI10030760',\n",
    "    'INI10030770',\n",
    "    'INI20030780',\n",
    "    'INI10030790',\n",
    "    'INI10030500',\n",
    "    'INI30030860',\n",
    "    'INI10030810',\n",
    "    'INI10030520',\n",
    "    'INI10030830',\n",
    "    'INI10030530',\n",
    "    'INI10030850',\n",
    "    'INI10030840',\n",
    "    'INI10030860',\n",
    "    'INI10030870',\n",
    "    'INI10030880',\n",
    "    'INI10030670',\n",
    "    'INI10030890'\n",
    ")\n"
   ]
  },
  {
   "cell_type": "code",
   "execution_count": 5,
   "metadata": {},
   "outputs": [],
   "source": [
    "cat_df <- fread(UKB_cat_f) %>%\n",
    "rename('FieldID'='#FieldID')"
   ]
  },
  {
   "cell_type": "code",
   "execution_count": 6,
   "metadata": {},
   "outputs": [],
   "source": [
    "metal_N_df <- fread(metal_N_f) %>%\n",
    "select(V1, V2) %>%\n",
    "rename('GBE_ID'='V1', 'N_META'='V2')\n"
   ]
  },
  {
   "cell_type": "code",
   "execution_count": 7,
   "metadata": {},
   "outputs": [],
   "source": [
    "phe_info_f %>%\n",
    "fread() %>%\n",
    "rename('GBE_ID'='#GBE_ID') %>% \n",
    "mutate(\n",
    "    RivasLabCategory = if_else(\n",
    "        GBE_ID %in% GBE_IDs_biomarkers,\n",
    "        'Biomarkers',\n",
    "        str_replace_all(GBE_ID, '\\\\d+$', '')\n",
    "    ),\n",
    "    RivasLabCategory = str_replace(RivasLabCategory, 'FH', 'Family_history'),\n",
    "    RivasLabCategory = str_replace(RivasLabCategory, 'HC', 'Disease_outcome')\n",
    ") %>%\n",
    "left_join(\n",
    "    cat_df %>% select(FieldID, Category) %>%\n",
    "    mutate(\n",
    "        FieldID = as.character(FieldID),\n",
    "        Category = str_replace_all(Category, '\\\\s', '_')\n",
    "    ),\n",
    "    by=c('FIELD'='FieldID')\n",
    ") %>% \n",
    "mutate(\n",
    "    Category = if_else(is.na(Category), RivasLabCategory, Category),\n",
    "    Category = if_else(Category %in% c('BIN', 'INI'), 'Others', Category)\n",
    ") %>% \n",
    "rename('GBE_category'='Category') %>%\n",
    "left_join(metal_N_df, by='GBE_ID') %>%\n",
    "replace_na(list(N_META = 0)) %>%\n",
    "select(GBE_category, GBE_ID, N, N_GBE, N_NBW, N_AFR, N_SAS, N_EAS, N_SMR, N_OTH, N_META, GBE_NAME) %>%\n",
    "left_join(\n",
    "    GBE_names_df %>%\n",
    "    select(GBE_ID, GBE_short_name, GBE_short_name_len),\n",
    "    by='GBE_ID'\n",
    ") %>%\n",
    "arrange(GBE_category, GBE_ID) -> df"
   ]
  },
  {
   "cell_type": "code",
   "execution_count": 8,
   "metadata": {},
   "outputs": [],
   "source": [
    "df %>%\n",
    "rename('#GBE_category' = 'GBE_category') %>%\n",
    "fwrite(GBE_cat_f, sep='\\t', na = \"NA\", quote=F)\n"
   ]
  },
  {
   "cell_type": "code",
   "execution_count": null,
   "metadata": {},
   "outputs": [],
   "source": []
  }
 ],
 "metadata": {
  "kernelspec": {
   "display_name": "R",
   "language": "R",
   "name": "ir"
  },
  "language_info": {
   "codemirror_mode": "r",
   "file_extension": ".r",
   "mimetype": "text/x-r-source",
   "name": "R",
   "pygments_lexer": "r",
   "version": "3.6.2"
  }
 },
 "nbformat": 4,
 "nbformat_minor": 4
}
