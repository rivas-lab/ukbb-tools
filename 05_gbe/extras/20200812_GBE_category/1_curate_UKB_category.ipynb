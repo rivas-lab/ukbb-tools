{
 "cells": [
  {
   "cell_type": "code",
   "execution_count": 1,
   "metadata": {},
   "outputs": [],
   "source": [
    "suppressWarnings(suppressPackageStartupMessages({\n",
    "    library(tidyverse)\n",
    "    library(data.table)\n",
    "}))\n"
   ]
  },
  {
   "cell_type": "code",
   "execution_count": 2,
   "metadata": {},
   "outputs": [],
   "source": [
    "in_f  <- 'http://biobank.ctsu.ox.ac.uk/~bbdatan/Data_Dictionary_Showcase.csv'\n",
    "out_f <- 'UKB_fields_with_category.20200812.tsv'\n"
   ]
  },
  {
   "cell_type": "code",
   "execution_count": 3,
   "metadata": {},
   "outputs": [],
   "source": [
    "df <- fread(in_f)\n"
   ]
  },
  {
   "cell_type": "code",
   "execution_count": 9,
   "metadata": {},
   "outputs": [],
   "source": [
    "df %>% select(Path, FieldID, Field)  %>%\n",
    "mutate(\n",
    "    UKBCategoryTreePath = Path,\n",
    "    # here we have a custom Regex to clean-up the tree structure\n",
    "    Path = str_replace(Path, 'Touchscreen > ([^>]+) > .*', 'Touchscreen > \\\\1'),\n",
    "    Path = str_replace(Path, 'Online follow-up > ([^>]+) > .*', 'Online follow-up > \\\\1'),\n",
    "    Path = str_replace(Path, 'Brain MRI > ([^>]+) > .*', 'Brain MRI > \\\\1'),\n",
    "    Path = str_replace(Path, 'Health-related outcomes > ([^>]+) > .*', 'Health-related outcomes > \\\\1'),\n",
    "    Path = str_replace(Path, 'Additional exposures > ([^>]+) > .*', 'Additional exposures > \\\\1'),\n",
    "    Path = str_replace(Path, 'Genomics > ([^>]+) > .*', 'Genomics > \\\\1'),\n",
    "    Path = str_replace(Path, 'Assay results > ([^>]+) > .*', 'Assay results > \\\\1'),\n",
    "    Path = str_replace(Path, 'Physical measures > ([^>]+) > .*', 'Physical measures > \\\\1'),\n",
    "    Path = str_replace(Path, '^Population characteristics >.*', 'Population characteristics'),\n",
    "    Path = str_replace(Path, 'Sample inventory >.*', 'Sample inventory'),\n",
    "    Path = str_replace(Path, 'Biological sampling >.*', 'Biological sampling'),\n",
    "    Path = str_replace(Path, 'Recruitment >.*', 'Recruitment'),\n",
    "    Path = str_replace(Path, 'Procedural metrics >.*', 'Procedural metrics'),\n",
    "    Path = str_replace(Path, 'Cognitive function >.*', 'Cognitive function'),\n",
    "    Path = str_replace(Path, 'Cognitive function online', 'Cognitive function'),\n",
    "    Path = str_replace(Path, 'Abdominal MRI >.*', 'Abdominal MRI'),\n",
    "    Path = str_replace(Path, 'Heart MRI >.*', 'Heart MRI'),\n",
    "    Path = str_replace(Path, 'DXA assessment >.*', 'DXA assessment')\n",
    ") %>%\n",
    "separate(Path, c(paste0('category', rev(1:5))), sep=' > ', remove=F, fill='left', extra='drop') %>%\n",
    "gather(category_level, category_name, -FieldID, -Field, -Path, -UKBCategoryTreePath) %>%\n",
    "filter(!is.na(category_name)) %>%\n",
    "arrange(FieldID, category_level) -> long_df\n"
   ]
  },
  {
   "cell_type": "code",
   "execution_count": 10,
   "metadata": {},
   "outputs": [
    {
     "name": "stderr",
     "output_type": "stream",
     "text": [
      "`summarise()` ungrouping output (override with `.groups` argument)\n",
      "\n"
     ]
    }
   ],
   "source": [
    "long_df %>%\n",
    "group_by(FieldID) %>%\n",
    "summarise(Field = first(Field), Category = first(category_name), UKBCategoryTreePath = first(UKBCategoryTreePath)) %>%\n",
    "ungroup() -> category_df\n"
   ]
  },
  {
   "cell_type": "code",
   "execution_count": 11,
   "metadata": {},
   "outputs": [],
   "source": [
    "category_df %>% \n",
    "rename('#FieldID' = 'FieldID') %>%\n",
    "fwrite(out_f, sep='\\t', na = \"NA\", quote=F)\n"
   ]
  },
  {
   "cell_type": "code",
   "execution_count": null,
   "metadata": {},
   "outputs": [],
   "source": []
  }
 ],
 "metadata": {
  "kernelspec": {
   "display_name": "R",
   "language": "R",
   "name": "ir"
  },
  "language_info": {
   "codemirror_mode": "r",
   "file_extension": ".r",
   "mimetype": "text/x-r-source",
   "name": "R",
   "pygments_lexer": "r",
   "version": "3.6.2"
  }
 },
 "nbformat": 4,
 "nbformat_minor": 4
}
