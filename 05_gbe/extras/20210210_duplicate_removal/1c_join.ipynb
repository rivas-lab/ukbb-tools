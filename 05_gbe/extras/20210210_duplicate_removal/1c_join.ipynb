{
 "cells": [
  {
   "cell_type": "code",
   "execution_count": 1,
   "id": "standing-outside",
   "metadata": {},
   "outputs": [],
   "source": [
    "suppressWarnings(suppressPackageStartupMessages({\n",
    "    library(tidyverse)\n",
    "    library(data.table)\n",
    "}))\n"
   ]
  },
  {
   "cell_type": "code",
   "execution_count": 2,
   "id": "brazilian-journalism",
   "metadata": {},
   "outputs": [],
   "source": [
    "source('0_parameters.sh')\n"
   ]
  },
  {
   "cell_type": "code",
   "execution_count": 3,
   "id": "statewide-fifteen",
   "metadata": {},
   "outputs": [],
   "source": [
    "potential_dups_GBE_f %>%\n",
    "fread(colClasses = c('#GBE_ID'='character')) %>%\n",
    "rename('GBE_ID'='#GBE_ID') %>% \n",
    "left_join(\n",
    "    potential_dups_GBE_md5_f %>%\n",
    "    fread(colClasses = c('#GBE_ID'='character')) %>%\n",
    "    rename('GBE_ID'='#GBE_ID'),\n",
    "    by='GBE_ID'\n",
    ") %>%\n",
    "rename('#GBE_ID' = 'GBE_ID') %>%\n",
    "fwrite(potential_dups_GBE_w_md5_f, sep='\\t', na = \"NA\", quote=F)\n",
    "\n"
   ]
  },
  {
   "cell_type": "code",
   "execution_count": null,
   "id": "desperate-offset",
   "metadata": {},
   "outputs": [],
   "source": []
  }
 ],
 "metadata": {
  "kernelspec": {
   "display_name": "R",
   "language": "R",
   "name": "ir"
  },
  "language_info": {
   "codemirror_mode": "r",
   "file_extension": ".r",
   "mimetype": "text/x-r-source",
   "name": "R",
   "pygments_lexer": "r",
   "version": "3.6.2"
  }
 },
 "nbformat": 4,
 "nbformat_minor": 5
}
