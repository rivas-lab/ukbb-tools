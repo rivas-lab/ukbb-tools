{
 "cells": [
  {
   "cell_type": "code",
   "execution_count": 1,
   "id": "accepted-relief",
   "metadata": {},
   "outputs": [],
   "source": [
    "suppressWarnings(suppressPackageStartupMessages({\n",
    "    library(tidyverse)\n",
    "    library(data.table)\n",
    "}))\n"
   ]
  },
  {
   "cell_type": "code",
   "execution_count": 2,
   "id": "piano-holder",
   "metadata": {},
   "outputs": [],
   "source": [
    "source('0_parameters.sh')\n"
   ]
  },
  {
   "cell_type": "code",
   "execution_count": 3,
   "id": "legal-asthma",
   "metadata": {},
   "outputs": [],
   "source": [
    "master_phe_info %>%\n",
    "fread(colClasses = c('#GBE_ID'='character')) %>%\n",
    "rename('GBE_ID'='#GBE_ID') -> master_phe_info_df\n"
   ]
  },
  {
   "cell_type": "code",
   "execution_count": 4,
   "id": "burning-biography",
   "metadata": {},
   "outputs": [],
   "source": [
    "master_phe_info_df %>% drop_na(FIELD) %>% group_by(FIELD) %>%\n",
    "summarise(n_GBE_IDs = n(), n_uniq_Ns = length(unique(N))) %>%\n",
    "filter(n_GBE_IDs != n_uniq_Ns) -> potential_duplicates_df\n"
   ]
  },
  {
   "cell_type": "code",
   "execution_count": 5,
   "id": "floppy-keeping",
   "metadata": {},
   "outputs": [
    {
     "data": {
      "text/html": [
       "<style>\n",
       ".list-inline {list-style: none; margin:0; padding: 0}\n",
       ".list-inline>li {display: inline-block}\n",
       ".list-inline>li:not(:last-child)::after {content: \"\\00b7\"; padding: 0 .5ex}\n",
       "</style>\n",
       "<ol class=list-inline><li>16</li><li>3</li></ol>\n"
      ],
      "text/latex": [
       "\\begin{enumerate*}\n",
       "\\item 16\n",
       "\\item 3\n",
       "\\end{enumerate*}\n"
      ],
      "text/markdown": [
       "1. 16\n",
       "2. 3\n",
       "\n",
       "\n"
      ],
      "text/plain": [
       "[1] 16  3"
      ]
     },
     "metadata": {},
     "output_type": "display_data"
    }
   ],
   "source": [
    "potential_duplicates_df %>% dim()"
   ]
  },
  {
   "cell_type": "code",
   "execution_count": 6,
   "id": "sufficient-manual",
   "metadata": {},
   "outputs": [],
   "source": [
    "potential_duplicates_df %>%\n",
    "rename('#FIELD' = 'FIELD') %>%\n",
    "fwrite(potential_dups_UKB_f, sep='\\t', na = \"NA\", quote=F)\n"
   ]
  },
  {
   "cell_type": "code",
   "execution_count": 8,
   "id": "indonesian-southeast",
   "metadata": {},
   "outputs": [],
   "source": [
    "master_phe_info_df %>% filter(FIELD %in% (potential_duplicates_df %>% pull(FIELD))) %>%\n",
    "arrange(FIELD, N) %>%\n",
    "select(GBE_ID, FIELD, GBE_NAME, N) %>%\n",
    "left_join(potential_duplicates_df, by='FIELD') %>%\n",
    "mutate(AMS_URL=paste0('https://biobank.ctsu.ox.ac.uk/crystal/field.cgi?id=', FIELD)) %>%\n",
    "rename('#GBE_ID' = 'GBE_ID') %>%\n",
    "fwrite(potential_dups_GBE_f, sep='\\t', na = \"NA\", quote=F)\n"
   ]
  },
  {
   "cell_type": "code",
   "execution_count": null,
   "id": "hollywood-freeware",
   "metadata": {},
   "outputs": [],
   "source": []
  }
 ],
 "metadata": {
  "kernelspec": {
   "display_name": "R",
   "language": "R",
   "name": "ir"
  },
  "language_info": {
   "codemirror_mode": "r",
   "file_extension": ".r",
   "mimetype": "text/x-r-source",
   "name": "R",
   "pygments_lexer": "r",
   "version": "3.6.2"
  }
 },
 "nbformat": 4,
 "nbformat_minor": 5
}
