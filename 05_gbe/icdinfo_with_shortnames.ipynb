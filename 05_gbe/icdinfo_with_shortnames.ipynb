{
 "cells": [
  {
   "cell_type": "markdown",
   "metadata": {},
   "source": [
    "## Short names and its lengths in icdinfo\n",
    "\n",
    "- We pull short names (and its length) from Google Spreadsheet and add them to icdinfo file as the 7-th and 8-th columns"
   ]
  },
  {
   "cell_type": "code",
   "execution_count": 1,
   "metadata": {},
   "outputs": [
    {
     "name": "stderr",
     "output_type": "stream",
     "text": [
      "Loading required package: tidyverse\n",
      "── Attaching packages ─────────────────────────────────────── tidyverse 1.2.1 ──\n",
      "✔ ggplot2 3.2.1     ✔ purrr   0.3.2\n",
      "✔ tibble  2.1.3     ✔ dplyr   0.8.3\n",
      "✔ tidyr   0.8.3     ✔ stringr 1.4.0\n",
      "✔ readr   1.3.1     ✔ forcats 0.4.0\n",
      "── Conflicts ────────────────────────────────────────── tidyverse_conflicts() ──\n",
      "✖ dplyr::filter() masks stats::filter()\n",
      "✖ dplyr::lag()    masks stats::lag()\n",
      "Loading required package: data.table\n",
      "\n",
      "Attaching package: ‘data.table’\n",
      "\n",
      "The following objects are masked from ‘package:dplyr’:\n",
      "\n",
      "    between, first, last\n",
      "\n",
      "The following object is masked from ‘package:purrr’:\n",
      "\n",
      "    transpose\n",
      "\n",
      "Loading required package: googlesheets\n",
      "Auto-refreshing stale OAuth token.\n"
     ]
    }
   ],
   "source": [
    "require(tidyverse)\n",
    "require(data.table)\n",
    "require(googlesheets)\n",
    "gs_auth(token = \"/home/users/ytanigaw/.googlesheets_token.rds\")\n"
   ]
  },
  {
   "cell_type": "code",
   "execution_count": 2,
   "metadata": {},
   "outputs": [
    {
     "name": "stderr",
     "output_type": "stream",
     "text": [
      "Sheet-identifying info appears to be a browser URL.\n",
      "googlesheets will attempt to extract sheet key from the URL.\n",
      "Putative key: 1gwzS0SVZBSKkkHgsoqB5vHo5JpUeYYz8PK2RWrHEq3A\n",
      "Sheet successfully identified: \"GBE_names\"\n",
      "Accessing worksheet titled 'GBE_names'.\n",
      "Parsed with column specification:\n",
      "cols(\n",
      "  GBE_category = col_character(),\n",
      "  GBE_ID = col_character(),\n",
      "  GBE_N = col_double(),\n",
      "  GBE_NAME = col_character(),\n",
      "  GBE_short_name = col_character(),\n",
      "  GBE_short_name_len = col_double()\n",
      ")\n"
     ]
    }
   ],
   "source": [
    "file <- 'https://docs.google.com/spreadsheets/d/1gwzS0SVZBSKkkHgsoqB5vHo5JpUeYYz8PK2RWrHEq3A'\n",
    "names_df <- file %>% gs_url() %>% gs_read(ws = 'GBE_names')\n"
   ]
  },
  {
   "cell_type": "code",
   "execution_count": 3,
   "metadata": {},
   "outputs": [],
   "source": [
    "pops <- c(\n",
    "'white_british',\n",
    "'non_british_white',\n",
    "'african',\n",
    "'s_asian',\n",
    "'e_asian'\n",
    ")"
   ]
  },
  {
   "cell_type": "code",
   "execution_count": 4,
   "metadata": {},
   "outputs": [],
   "source": [
    "for(pop in pops){\n",
    "    fread(paste0('icdinfo.', pop, '.txt'), head=F) %>%\n",
    "    rename(GBE_ID = V1) %>%\n",
    "    left_join(\n",
    "        names_df %>% select(-GBE_N, -GBE_category, -GBE_NAME), by='GBE_ID'\n",
    "    ) %>% \n",
    "    fwrite(paste0('icdinfo.', pop, '.shortname.txt'), sep='\\t', col.names=F)\n",
    "}"
   ]
  },
  {
   "cell_type": "code",
   "execution_count": null,
   "metadata": {},
   "outputs": [],
   "source": []
  }
 ],
 "metadata": {
  "kernelspec": {
   "display_name": "R",
   "language": "R",
   "name": "ir"
  },
  "language_info": {
   "codemirror_mode": "r",
   "file_extension": ".r",
   "mimetype": "text/x-r-source",
   "name": "R",
   "pygments_lexer": "r",
   "version": "3.4.0"
  }
 },
 "nbformat": 4,
 "nbformat_minor": 4
}
