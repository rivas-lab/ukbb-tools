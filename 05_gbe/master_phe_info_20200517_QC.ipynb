{
 "cells": [
  {
   "cell_type": "code",
   "execution_count": 1,
   "metadata": {},
   "outputs": [],
   "source": [
    "suppressWarnings(suppressPackageStartupMessages({\n",
    "    library(tidyverse)\n",
    "    library(data.table)\n",
    "}))\n"
   ]
  },
  {
   "cell_type": "markdown",
   "metadata": {},
   "source": [
    "## master phe info file (v 20200517) QC\n",
    "\n",
    "We found that `N_GBE` is too small compared with `N` in this master info file.\n"
   ]
  },
  {
   "cell_type": "code",
   "execution_count": 2,
   "metadata": {},
   "outputs": [],
   "source": [
    "versions <- c(20200408, 20200517)\n"
   ]
  },
  {
   "cell_type": "markdown",
   "metadata": {},
   "source": [
    "We check the contents of the master phe file against the previous version 20200408."
   ]
  },
  {
   "cell_type": "markdown",
   "metadata": {},
   "source": [
    "## read the master phe info file"
   ]
  },
  {
   "cell_type": "code",
   "execution_count": 3,
   "metadata": {},
   "outputs": [],
   "source": [
    "info_dfs <- list()\n",
    "for(v in versions){\n",
    "    info_dfs[[v]] <-\n",
    "    sprintf('/oak/stanford/groups/mrivas/ukbb24983/phenotypedata/master_phe/master.%s.phe.info.tsv', v) %>%\n",
    "    fread() %>%\n",
    "    rename('GBE_ID'='#GBE_ID') %>%\n",
    "    filter(str_detect(GBE_ID, '^HC')) %>%\n",
    "    filter(!str_detect(GBE_NAME, '^TTE'))\n",
    "}\n"
   ]
  },
  {
   "cell_type": "code",
   "execution_count": 5,
   "metadata": {},
   "outputs": [
    {
     "data": {
      "text/html": [
       "<table>\n",
       "<caption>A data.frame: 6 × 4</caption>\n",
       "<thead>\n",
       "\t<tr><th></th><th scope=col>GBE_ID</th><th scope=col>N</th><th scope=col>N_GBE</th><th scope=col>GBE_NAME</th></tr>\n",
       "\t<tr><th></th><th scope=col>&lt;chr&gt;</th><th scope=col>&lt;int&gt;</th><th scope=col>&lt;int&gt;</th><th scope=col>&lt;chr&gt;</th></tr>\n",
       "</thead>\n",
       "<tbody>\n",
       "\t<tr><th scope=row>1</th><td>HC0  </td><td>2116</td><td>1406</td><td>scoliosis                     </td></tr>\n",
       "\t<tr><th scope=row>2</th><td>HC1  </td><td>6569</td><td>4509</td><td>bowel_/_intestinal_obstruction</td></tr>\n",
       "\t<tr><th scope=row>3</th><td>HC10 </td><td> 388</td><td> 260</td><td>dysmenorrhoea_/_dysmenorrhea  </td></tr>\n",
       "\t<tr><th scope=row>4</th><td>HC100</td><td> 311</td><td> 215</td><td>gastroenteritis/dysentry      </td></tr>\n",
       "\t<tr><th scope=row>5</th><td>HC101</td><td> 787</td><td> 574</td><td>eye_trauma                    </td></tr>\n",
       "\t<tr><th scope=row>6</th><td>HC102</td><td>1489</td><td> 998</td><td>vertigo                       </td></tr>\n",
       "</tbody>\n",
       "</table>\n"
      ],
      "text/latex": [
       "A data.frame: 6 × 4\n",
       "\\begin{tabular}{r|llll}\n",
       "  & GBE\\_ID & N & N\\_GBE & GBE\\_NAME\\\\\n",
       "  & <chr> & <int> & <int> & <chr>\\\\\n",
       "\\hline\n",
       "\t1 & HC0   & 2116 & 1406 & scoliosis                     \\\\\n",
       "\t2 & HC1   & 6569 & 4509 & bowel\\_/\\_intestinal\\_obstruction\\\\\n",
       "\t3 & HC10  &  388 &  260 & dysmenorrhoea\\_/\\_dysmenorrhea  \\\\\n",
       "\t4 & HC100 &  311 &  215 & gastroenteritis/dysentry      \\\\\n",
       "\t5 & HC101 &  787 &  574 & eye\\_trauma                    \\\\\n",
       "\t6 & HC102 & 1489 &  998 & vertigo                       \\\\\n",
       "\\end{tabular}\n"
      ],
      "text/markdown": [
       "\n",
       "A data.frame: 6 × 4\n",
       "\n",
       "| <!--/--> | GBE_ID &lt;chr&gt; | N &lt;int&gt; | N_GBE &lt;int&gt; | GBE_NAME &lt;chr&gt; |\n",
       "|---|---|---|---|---|\n",
       "| 1 | HC0   | 2116 | 1406 | scoliosis                      |\n",
       "| 2 | HC1   | 6569 | 4509 | bowel_/_intestinal_obstruction |\n",
       "| 3 | HC10  |  388 |  260 | dysmenorrhoea_/_dysmenorrhea   |\n",
       "| 4 | HC100 |  311 |  215 | gastroenteritis/dysentry       |\n",
       "| 5 | HC101 |  787 |  574 | eye_trauma                     |\n",
       "| 6 | HC102 | 1489 |  998 | vertigo                        |\n",
       "\n"
      ],
      "text/plain": [
       "  GBE_ID N    N_GBE GBE_NAME                      \n",
       "1 HC0    2116 1406  scoliosis                     \n",
       "2 HC1    6569 4509  bowel_/_intestinal_obstruction\n",
       "3 HC10    388  260  dysmenorrhoea_/_dysmenorrhea  \n",
       "4 HC100   311  215  gastroenteritis/dysentry      \n",
       "5 HC101   787  574  eye_trauma                    \n",
       "6 HC102  1489  998  vertigo                       "
      ]
     },
     "metadata": {},
     "output_type": "display_data"
    }
   ],
   "source": [
    "info_dfs[[20200408]] %>%\n",
    "select(GBE_ID, N, N_GBE, GBE_NAME) %>%\n",
    "head()"
   ]
  },
  {
   "cell_type": "code",
   "execution_count": 6,
   "metadata": {},
   "outputs": [
    {
     "data": {
      "text/html": [
       "<table>\n",
       "<caption>A data.frame: 6 × 4</caption>\n",
       "<thead>\n",
       "\t<tr><th></th><th scope=col>GBE_ID</th><th scope=col>N</th><th scope=col>N_GBE</th><th scope=col>GBE_NAME</th></tr>\n",
       "\t<tr><th></th><th scope=col>&lt;chr&gt;</th><th scope=col>&lt;int&gt;</th><th scope=col>&lt;int&gt;</th><th scope=col>&lt;chr&gt;</th></tr>\n",
       "</thead>\n",
       "<tbody>\n",
       "\t<tr><th scope=row>1</th><td>HC0  </td><td>2116</td><td> 97</td><td>scoliosis                     </td></tr>\n",
       "\t<tr><th scope=row>2</th><td>HC1  </td><td>6569</td><td>309</td><td>bowel_/_intestinal_obstruction</td></tr>\n",
       "\t<tr><th scope=row>3</th><td>HC10 </td><td> 388</td><td>  9</td><td>dysmenorrhoea_/_dysmenorrhea  </td></tr>\n",
       "\t<tr><th scope=row>4</th><td>HC100</td><td> 311</td><td>  7</td><td>gastroenteritis/dysentry      </td></tr>\n",
       "\t<tr><th scope=row>5</th><td>HC101</td><td> 787</td><td> 37</td><td>eye_trauma                    </td></tr>\n",
       "\t<tr><th scope=row>6</th><td>HC102</td><td>1489</td><td> 61</td><td>vertigo                       </td></tr>\n",
       "</tbody>\n",
       "</table>\n"
      ],
      "text/latex": [
       "A data.frame: 6 × 4\n",
       "\\begin{tabular}{r|llll}\n",
       "  & GBE\\_ID & N & N\\_GBE & GBE\\_NAME\\\\\n",
       "  & <chr> & <int> & <int> & <chr>\\\\\n",
       "\\hline\n",
       "\t1 & HC0   & 2116 &  97 & scoliosis                     \\\\\n",
       "\t2 & HC1   & 6569 & 309 & bowel\\_/\\_intestinal\\_obstruction\\\\\n",
       "\t3 & HC10  &  388 &   9 & dysmenorrhoea\\_/\\_dysmenorrhea  \\\\\n",
       "\t4 & HC100 &  311 &   7 & gastroenteritis/dysentry      \\\\\n",
       "\t5 & HC101 &  787 &  37 & eye\\_trauma                    \\\\\n",
       "\t6 & HC102 & 1489 &  61 & vertigo                       \\\\\n",
       "\\end{tabular}\n"
      ],
      "text/markdown": [
       "\n",
       "A data.frame: 6 × 4\n",
       "\n",
       "| <!--/--> | GBE_ID &lt;chr&gt; | N &lt;int&gt; | N_GBE &lt;int&gt; | GBE_NAME &lt;chr&gt; |\n",
       "|---|---|---|---|---|\n",
       "| 1 | HC0   | 2116 |  97 | scoliosis                      |\n",
       "| 2 | HC1   | 6569 | 309 | bowel_/_intestinal_obstruction |\n",
       "| 3 | HC10  |  388 |   9 | dysmenorrhoea_/_dysmenorrhea   |\n",
       "| 4 | HC100 |  311 |   7 | gastroenteritis/dysentry       |\n",
       "| 5 | HC101 |  787 |  37 | eye_trauma                     |\n",
       "| 6 | HC102 | 1489 |  61 | vertigo                        |\n",
       "\n"
      ],
      "text/plain": [
       "  GBE_ID N    N_GBE GBE_NAME                      \n",
       "1 HC0    2116  97   scoliosis                     \n",
       "2 HC1    6569 309   bowel_/_intestinal_obstruction\n",
       "3 HC10    388   9   dysmenorrhoea_/_dysmenorrhea  \n",
       "4 HC100   311   7   gastroenteritis/dysentry      \n",
       "5 HC101   787  37   eye_trauma                    \n",
       "6 HC102  1489  61   vertigo                       "
      ]
     },
     "metadata": {},
     "output_type": "display_data"
    }
   ],
   "source": [
    "info_dfs[[20200517]] %>%\n",
    "select(GBE_ID, N, N_GBE, GBE_NAME) %>%\n",
    "head()"
   ]
  },
  {
   "cell_type": "markdown",
   "metadata": {},
   "source": [
    "## N vs N_GBE plot"
   ]
  },
  {
   "cell_type": "code",
   "execution_count": 17,
   "metadata": {},
   "outputs": [
    {
     "data": {
      "image/png": "[encoded data removed]",
      "text/plain": [
       "plot without title"
      ]
     },
     "metadata": {},
     "output_type": "display_data"
    }
   ],
   "source": [
    "options(repr.plot.width=8, repr.plot.height=4)\n",
    "gridExtra::grid.arrange(\n",
    "    info_dfs[[20200408]] %>%\n",
    "    ggplot(aes(x=N, y=N_GBE)) +\n",
    "    geom_abline(intercept = 0, slope=1, color='gray') +\n",
    "    geom_point() + theme_bw() +\n",
    "    xlim(0, 175000) + ylim(0, 175000) +\n",
    "    labs(title='master.20200408.phe.info.tsv'), \n",
    "    \n",
    "    info_dfs[[20200517]] %>%\n",
    "    ggplot(aes(x=N, y=N_GBE)) +\n",
    "    geom_abline(intercept = 0, slope=1, color='gray') +\n",
    "    geom_point() + theme_bw() +\n",
    "    xlim(0, 175000) + ylim(0, 175000) +\n",
    "    labs(title='master.20200517.phe.info.tsv'),\n",
    "    \n",
    "    ncol=2\n",
    ")\n"
   ]
  },
  {
   "cell_type": "markdown",
   "metadata": {},
   "source": [
    "## check the example phenotypes in the original master phe file"
   ]
  },
  {
   "cell_type": "code",
   "execution_count": 18,
   "metadata": {},
   "outputs": [],
   "source": [
    "phe_dfs <-list()\n",
    "\n",
    "for(v in versions){\n",
    "    phe_dfs[[v]] <-\n",
    "    sprintf('/oak/stanford/groups/mrivas/ukbb24983/phenotypedata/master_phe/master.%s.phe', v) %>%\n",
    "    fread(select=c('FID', 'IID', 'population', paste0('HC', 0:10)))\n",
    "}\n"
   ]
  },
  {
   "cell_type": "code",
   "execution_count": 19,
   "metadata": {},
   "outputs": [
    {
     "data": {
      "text/html": [
       "<table>\n",
       "<caption>A tibble: 3 × 3</caption>\n",
       "<thead>\n",
       "\t<tr><th scope=col>population == \"white_british\"</th><th scope=col>HC0</th><th scope=col>n</th></tr>\n",
       "\t<tr><th scope=col>&lt;lgl&gt;</th><th scope=col>&lt;int&gt;</th><th scope=col>&lt;int&gt;</th></tr>\n",
       "</thead>\n",
       "<tbody>\n",
       "\t<tr><td>FALSE</td><td>2</td><td> 220</td></tr>\n",
       "\t<tr><td> TRUE</td><td>2</td><td>1406</td></tr>\n",
       "\t<tr><td>   NA</td><td>2</td><td> 490</td></tr>\n",
       "</tbody>\n",
       "</table>\n"
      ],
      "text/latex": [
       "A tibble: 3 × 3\n",
       "\\begin{tabular}{lll}\n",
       " population == \"white\\_british\" & HC0 & n\\\\\n",
       " <lgl> & <int> & <int>\\\\\n",
       "\\hline\n",
       "\t FALSE & 2 &  220\\\\\n",
       "\t  TRUE & 2 & 1406\\\\\n",
       "\t    NA & 2 &  490\\\\\n",
       "\\end{tabular}\n"
      ],
      "text/markdown": [
       "\n",
       "A tibble: 3 × 3\n",
       "\n",
       "| population == \"white_british\" &lt;lgl&gt; | HC0 &lt;int&gt; | n &lt;int&gt; |\n",
       "|---|---|---|\n",
       "| FALSE | 2 |  220 |\n",
       "|  TRUE | 2 | 1406 |\n",
       "|    NA | 2 |  490 |\n",
       "\n"
      ],
      "text/plain": [
       "  population == \"white_british\" HC0 n   \n",
       "1 FALSE                         2    220\n",
       "2  TRUE                         2   1406\n",
       "3    NA                         2    490"
      ]
     },
     "metadata": {},
     "output_type": "display_data"
    }
   ],
   "source": [
    "phe_dfs[[20200408]] %>%\n",
    "count(population=='white_british', HC0) %>%\n",
    "filter(HC0==2)"
   ]
  },
  {
   "cell_type": "code",
   "execution_count": 20,
   "metadata": {},
   "outputs": [
    {
     "data": {
      "text/html": [
       "<table>\n",
       "<caption>A tibble: 3 × 3</caption>\n",
       "<thead>\n",
       "\t<tr><th scope=col>population == \"white_british\"</th><th scope=col>HC0</th><th scope=col>n</th></tr>\n",
       "\t<tr><th scope=col>&lt;lgl&gt;</th><th scope=col>&lt;int&gt;</th><th scope=col>&lt;int&gt;</th></tr>\n",
       "</thead>\n",
       "<tbody>\n",
       "\t<tr><td>FALSE</td><td>2</td><td> 220</td></tr>\n",
       "\t<tr><td> TRUE</td><td>2</td><td>1406</td></tr>\n",
       "\t<tr><td>   NA</td><td>2</td><td> 490</td></tr>\n",
       "</tbody>\n",
       "</table>\n"
      ],
      "text/latex": [
       "A tibble: 3 × 3\n",
       "\\begin{tabular}{lll}\n",
       " population == \"white\\_british\" & HC0 & n\\\\\n",
       " <lgl> & <int> & <int>\\\\\n",
       "\\hline\n",
       "\t FALSE & 2 &  220\\\\\n",
       "\t  TRUE & 2 & 1406\\\\\n",
       "\t    NA & 2 &  490\\\\\n",
       "\\end{tabular}\n"
      ],
      "text/markdown": [
       "\n",
       "A tibble: 3 × 3\n",
       "\n",
       "| population == \"white_british\" &lt;lgl&gt; | HC0 &lt;int&gt; | n &lt;int&gt; |\n",
       "|---|---|---|\n",
       "| FALSE | 2 |  220 |\n",
       "|  TRUE | 2 | 1406 |\n",
       "|    NA | 2 |  490 |\n",
       "\n"
      ],
      "text/plain": [
       "  population == \"white_british\" HC0 n   \n",
       "1 FALSE                         2    220\n",
       "2  TRUE                         2   1406\n",
       "3    NA                         2    490"
      ]
     },
     "metadata": {},
     "output_type": "display_data"
    }
   ],
   "source": [
    "phe_dfs[[20200517]] %>%\n",
    "count(population=='white_british', HC0) %>%\n",
    "filter(HC0==2)\n"
   ]
  },
  {
   "cell_type": "code",
   "execution_count": null,
   "metadata": {},
   "outputs": [],
   "source": []
  }
 ],
 "metadata": {
  "kernelspec": {
   "display_name": "R",
   "language": "R",
   "name": "ir"
  },
  "language_info": {
   "codemirror_mode": "r",
   "file_extension": ".r",
   "mimetype": "text/x-r-source",
   "name": "R",
   "pygments_lexer": "r",
   "version": "3.6.1"
  }
 },
 "nbformat": 4,
 "nbformat_minor": 4
}
