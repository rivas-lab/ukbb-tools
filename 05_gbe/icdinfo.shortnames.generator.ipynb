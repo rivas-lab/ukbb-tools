{
 "cells": [
  {
   "cell_type": "code",
   "execution_count": 1,
   "metadata": {},
   "outputs": [
    {
     "name": "stderr",
     "output_type": "stream",
     "text": [
      "Loading required package: tidyverse\n",
      "── Attaching packages ─────────────────────────────────────── tidyverse 1.2.1 ──\n",
      "✔ ggplot2 3.1.0       ✔ purrr   0.3.1  \n",
      "✔ tibble  2.0.1       ✔ dplyr   0.8.0.1\n",
      "✔ tidyr   0.8.3       ✔ stringr 1.4.0  \n",
      "✔ readr   1.3.1       ✔ forcats 0.4.0  \n",
      "── Conflicts ────────────────────────────────────────── tidyverse_conflicts() ──\n",
      "✖ dplyr::filter() masks stats::filter()\n",
      "✖ dplyr::lag()    masks stats::lag()\n",
      "Loading required package: data.table\n",
      "\n",
      "Attaching package: ‘data.table’\n",
      "\n",
      "The following objects are masked from ‘package:dplyr’:\n",
      "\n",
      "    between, first, last\n",
      "\n",
      "The following object is masked from ‘package:purrr’:\n",
      "\n",
      "    transpose\n",
      "\n"
     ]
    }
   ],
   "source": [
    "require(tidyverse)\n",
    "require(data.table)"
   ]
  },
  {
   "cell_type": "code",
   "execution_count": 64,
   "metadata": {},
   "outputs": [],
   "source": [
    "firstup <- function(x) {\n",
    "  substr(x, 1, 1) <- toupper(substr(x, 1, 1))\n",
    "  x\n",
    "}"
   ]
  },
  {
   "cell_type": "code",
   "execution_count": 2,
   "metadata": {},
   "outputs": [],
   "source": [
    "df <- fread(cmd=paste0('cat ', 'icdinfo.txt', ' | cut -f1-3'), sep='\\t', data.table=F)\n"
   ]
  },
  {
   "cell_type": "code",
   "execution_count": 4,
   "metadata": {},
   "outputs": [],
   "source": [
    "colnames(df) <- c('GBE_ID', 'GBE_N', 'GBE_NAME')"
   ]
  },
  {
   "cell_type": "code",
   "execution_count": 65,
   "metadata": {},
   "outputs": [],
   "source": [
    "df_clean <- df %>% mutate(\n",
    "    GBE_short_name = GBE_NAME,\n",
    "    GBE_short_name = str_replace_all(GBE_short_name, '_', ' '),\n",
    "    GBE_short_name = str_replace_all(GBE_short_name, '\\\\(left\\\\)', '(L)'),\n",
    "    GBE_short_name = str_replace_all(GBE_short_name, '\\\\(right\\\\)', '(R)'),\n",
    "    GBE_short_name = str_replace_all(GBE_short_name, 'percentage', '%'),\n",
    "    GBE_short_name = str_replace_all(GBE_short_name, '90th percentile', '90%ile'),\n",
    "    GBE_short_name = str_replace_all(GBE_short_name, 'number', '#'),\n",
    "    GBE_short_name = str_replace_all(GBE_short_name, 'Number', '#'),\n",
    "    GBE_short_name = str_replace_all(GBE_short_name, 'Frequency', 'Freq.'),        \n",
    "    GBE_short_name = str_replace_all(GBE_short_name, 'higher than', '>'),\n",
    "    GBE_short_name = str_replace_all(GBE_short_name, 'lower than', '<'),    \n",
    "    GBE_short_name = str_replace_all(GBE_short_name, 'Volume of', 'Vol. of'),\n",
    "    GBE_short_name = str_replace_all(GBE_short_name, 'volume of', 'vol. of'),    \n",
    "    GBE_short_name = str_replace_all(GBE_short_name, 'predicted', 'pred.'),\n",
    "    GBE_short_name = str_replace_all(GBE_short_name, 'blood pressure', 'BP'),\n",
    "    GBE_short_name = str_replace_all(GBE_short_name, 'Average', 'Ave.'),\n",
    "    GBE_short_name = str_replace_all(GBE_short_name, 'average', 'ave.'),\n",
    "    GBE_short_name = str_replace_all(GBE_short_name, 'distance', 'dist.'),\n",
    "    GBE_short_name = str_replace_all(GBE_short_name, ', automated reading', ' (AR)'),   \n",
    "    GBE_short_name = str_replace_all(GBE_short_name, 'cholelithiasis/gall stones', 'Gallstones'),\n",
    "    GBE_short_name = str_replace_all(GBE_short_name, 'Body mass index \\\\(BMI\\\\)', 'BMI'),\n",
    "    GBE_short_name = str_replace_all(GBE_short_name, 'Weighted-mean', 'WA'), # WA. weighted average\n",
    "    GBE_short_name = str_replace_all(GBE_short_name, 'treatments/medications', 'medications'),\n",
    "    GBE_short_name = str_replace_all(GBE_short_name, 'Peak expiratory flow \\\\(PEF\\\\)', 'PEF'),\n",
    "    GBE_short_name = str_replace_all(GBE_short_name, 'Forced expiratory volume in 1-second \\\\(FEV1\\\\)', 'FEV1'),\n",
    "    GBE_short_name = str_replace_all(GBE_short_name, 'Forced vital capacity \\\\(FVC\\\\)', 'FVC'),\n",
    "    GBE_short_name = str_replace_all(GBE_short_name, 'statistic', 'stat.'),\n",
    "    GBE_short_name = str_replace_all(GBE_short_name, \"Alzheimer's disease/dementia\", \"Alzheimer's/dementia\"),\n",
    "    GBE_short_name = str_replace_all(GBE_short_name, 'Time spent outdoors in', 'Outdoor time,'),\n",
    "    GBE_short_name = str_replace_all(GBE_short_name, 'Nitrogen dioxide', 'NO2'),\n",
    "    GBE_short_name = str_replace_all(GBE_short_name, 'Particulate matter air pollution', 'air pollution'),\n",
    "    GBE_short_name = str_replace_all(GBE_short_name, 'sound level of noise pollution', 'noise lvl.'),\n",
    "    GBE_short_name = str_replace_all(GBE_short_name, 'platelet \\\\(thrombocyte\\\\)', 'platelet'),\n",
    "    GBE_short_name = str_replace_all(GBE_short_name, 'White blood cell \\\\(leukocyte\\\\)', 'White blood cell'),\n",
    "    GBE_short_name = str_replace_all(GBE_short_name, 'Red blood cell \\\\(erythrocyte\\\\)', 'Red blood cell'),\n",
    "    GBE_short_name = str_replace_all(GBE_short_name, 'Age at menopause \\\\(last menstrual period\\\\)', 'Age at menopause'),\n",
    "    GBE_short_name = str_replace_all(GBE_short_name, 'difficulty/problems', 'problems'),\n",
    "    GBE_short_name = str_replace_all(GBE_short_name, 'Nucleated red blood cell', 'Nuc. red blood cell'),\n",
    "    GBE_short_name = str_replace_all(GBE_short_name, 'night-time', 'nighttime'),\n",
    "    GBE_short_name = str_replace_all(GBE_short_name, 'air pollution', 'air poll.'),\n",
    "    GBE_short_name = str_replace_all(GBE_short_name, ';', ''),       \n",
    "    GBE_short_name = str_replace_all(GBE_short_name, 'heart attack/myocardial infarction', 'heart attack (MI)'),\n",
    "    GBE_short_name = str_replace_all(GBE_short_name, 'Childhood sunburn occasions', 'Childhood sunburn'),\n",
    "    GBE_short_name = str_replace_all(GBE_short_name, 'deep venous thrombosis \\\\(dvt\\\\)', 'DVT'),\n",
    "    GBE_short_name = str_replace_all(GBE_short_name, 'dvt', 'DVT'),\n",
    "    GBE_short_name = str_replace_all(GBE_short_name, 'Attention deficit \\\\(hyperactivity\\\\) disorder \\\\(ADD/ADHD\\\\)', 'ADD/ADHD'),\n",
    "    GBE_short_name = str_replace_all(GBE_short_name, 'COPD \\\\(chronic obstructive pulmonary disease\\\\)', 'COPD'),    \n",
    "    GBE_short_name = str_replace_all(GBE_short_name, 'pulmonary embolism', 'PE'),\n",
    "    GBE_short_name = str_replace_all(GBE_short_name, 'hereditary/genetic', 'genetic'),\n",
    "    GBE_short_name = str_replace_all(GBE_short_name, 'C reactive protein', 'C-reactive protein'),\n",
    "    GBE_short_name = str_replace_all(GBE_short_name, '\\\\s+$', ''),\n",
    "    GBE_short_name = str_replace_all(GBE_short_name, '^\\\\s+', ''),   \n",
    "    GBE_short_name = firstup(GBE_short_name) # capitalize the first letter\n",
    ") %>%\n",
    "mutate(\n",
    "    GBE_short_name_len = str_length(GBE_short_name),\n",
    "    GBE_category = str_replace_all(GBE_ID, '[0-9]+', '')\n",
    ") %>%\n",
    "select(GBE_category, GBE_ID, GBE_N, GBE_NAME, GBE_short_name, GBE_short_name_len)"
   ]
  },
  {
   "cell_type": "code",
   "execution_count": 66,
   "metadata": {},
   "outputs": [],
   "source": [
    "df_clean %>% fwrite(\n",
    "    'icdinfo.shortnames.tsv', sep='\\t'\n",
    ")"
   ]
  },
  {
   "cell_type": "code",
   "execution_count": null,
   "metadata": {},
   "outputs": [],
   "source": []
  }
 ],
 "metadata": {
  "kernelspec": {
   "display_name": "R 3.5 (module)",
   "language": "R",
   "name": "ir35ml"
  },
  "language_info": {
   "codemirror_mode": "r",
   "file_extension": ".r",
   "mimetype": "text/x-r-source",
   "name": "R",
   "pygments_lexer": "r",
   "version": "3.5.1"
  }
 },
 "nbformat": 4,
 "nbformat_minor": 2
}
