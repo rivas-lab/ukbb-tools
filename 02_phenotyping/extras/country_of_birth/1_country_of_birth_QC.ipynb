{
 "cells": [
  {
   "cell_type": "markdown",
   "metadata": {},
   "source": [
    "# Data QC for the Country of Birth\n",
    "\n",
    "Yosuke Tanigawa (3/28/2020)"
   ]
  },
  {
   "cell_type": "code",
   "execution_count": 1,
   "metadata": {},
   "outputs": [],
   "source": [
    "suppressPackageStartupMessages(library(tidyverse))\n",
    "suppressPackageStartupMessages(library(data.table))\n"
   ]
  },
  {
   "cell_type": "code",
   "execution_count": 2,
   "metadata": {},
   "outputs": [],
   "source": [
    "d <- '/oak/stanford/groups/mrivas/ukbb24983/phenotypedata/extras/country_of_birth/misc/'\n",
    "\n",
    "# input\n",
    "f <- file.path(d, 'ukb2005693_ukb37855.fields1647_20115.tsv.zst')\n",
    "coding89f     <- file.path(d, 'coding89.tsv')\n",
    "coding100420f <- file.path(d, 'coding100420.tsv')\n",
    "\n",
    "remove_f <- '/oak/stanford/groups/mrivas/ukbb24983/sqc/w24983_20200204.csv'\n",
    "master_sqc_f <- '/oak/stanford/groups/mrivas/ukbb24983/sqc/population_stratification_w24983_20200313/ukb24983_master_sqc.20200313.phe'\n"
   ]
  },
  {
   "cell_type": "code",
   "execution_count": 3,
   "metadata": {},
   "outputs": [],
   "source": [
    "# output\n",
    "out_tsv_f <- file.path(d, 'ukb2005693_ukb37855.country_of_birth.tsv')\n",
    "out_coding_tsv_f <- file.path(d, 'ukb2005693_ukb37855.country_of_birth.coding.tsv')\n"
   ]
  },
  {
   "cell_type": "code",
   "execution_count": 4,
   "metadata": {},
   "outputs": [],
   "source": [
    "coding_df <- \n",
    "bind_rows(\n",
    "    fread(coding89f) %>%\n",
    "    mutate(field  = 20115),\n",
    "\n",
    "    fread(coding100420f) %>%\n",
    "    mutate(field = 1647)\n",
    ") %>%\n",
    "rename('coding'='#coding') %>%\n",
    "left_join(\n",
    "    fread(coding89f) %>%\n",
    "    rename('coding'='#coding')%>%\n",
    "    select(coding, meaning) %>%\n",
    "    rename('parent_meaning'='meaning'),\n",
    "    by=c('parent_id'='coding')\n",
    ")"
   ]
  },
  {
   "cell_type": "code",
   "execution_count": 5,
   "metadata": {},
   "outputs": [
    {
     "data": {
      "text/html": [
       "<table>\n",
       "<caption>A data.frame: 2 × 7</caption>\n",
       "<thead>\n",
       "\t<tr><th scope=col>coding</th><th scope=col>meaning</th><th scope=col>node_id</th><th scope=col>parent_id</th><th scope=col>selectable</th><th scope=col>field</th><th scope=col>parent_meaning</th></tr>\n",
       "\t<tr><th scope=col>&lt;int&gt;</th><th scope=col>&lt;chr&gt;</th><th scope=col>&lt;int&gt;</th><th scope=col>&lt;int&gt;</th><th scope=col>&lt;chr&gt;</th><th scope=col>&lt;dbl&gt;</th><th scope=col>&lt;chr&gt;</th></tr>\n",
       "</thead>\n",
       "<tbody>\n",
       "\t<tr><td>-3</td><td>Prefer not to answer</td><td>NA</td><td>NA</td><td>NA</td><td>1647</td><td>NA</td></tr>\n",
       "\t<tr><td>-1</td><td>Do not know         </td><td>NA</td><td>NA</td><td>NA</td><td>1647</td><td>NA</td></tr>\n",
       "</tbody>\n",
       "</table>\n"
      ],
      "text/latex": [
       "A data.frame: 2 × 7\n",
       "\\begin{tabular}{r|lllllll}\n",
       " coding & meaning & node\\_id & parent\\_id & selectable & field & parent\\_meaning\\\\\n",
       " <int> & <chr> & <int> & <int> & <chr> & <dbl> & <chr>\\\\\n",
       "\\hline\n",
       "\t -3 & Prefer not to answer & NA & NA & NA & 1647 & NA\\\\\n",
       "\t -1 & Do not know          & NA & NA & NA & 1647 & NA\\\\\n",
       "\\end{tabular}\n"
      ],
      "text/markdown": [
       "\n",
       "A data.frame: 2 × 7\n",
       "\n",
       "| coding &lt;int&gt; | meaning &lt;chr&gt; | node_id &lt;int&gt; | parent_id &lt;int&gt; | selectable &lt;chr&gt; | field &lt;dbl&gt; | parent_meaning &lt;chr&gt; |\n",
       "|---|---|---|---|---|---|---|\n",
       "| -3 | Prefer not to answer | NA | NA | NA | 1647 | NA |\n",
       "| -1 | Do not know          | NA | NA | NA | 1647 | NA |\n",
       "\n"
      ],
      "text/plain": [
       "  coding meaning              node_id parent_id selectable field parent_meaning\n",
       "1 -3     Prefer not to answer NA      NA        NA         1647  NA            \n",
       "2 -1     Do not know          NA      NA        NA         1647  NA            "
      ]
     },
     "metadata": {},
     "output_type": "display_data"
    }
   ],
   "source": [
    "coding_df %>%\n",
    "filter(coding < 0)"
   ]
  },
  {
   "cell_type": "code",
   "execution_count": 6,
   "metadata": {},
   "outputs": [],
   "source": [
    "remove_l <- fread(remove_f, head=F) %>% mutate(V1 = as.character(V1)) %>%pull(V1)"
   ]
  },
  {
   "cell_type": "code",
   "execution_count": 7,
   "metadata": {},
   "outputs": [],
   "source": [
    "sqc_df <- master_sqc_f %>% fread(\n",
    "    select=c('FID', 'IID', 'putative_sex_chromosome_aneuploidy', 'het_missing_outliers', 'pass_filter'),\n",
    "    colClasses=c('FID'='character', 'IID'='character')\n",
    ")\n"
   ]
  },
  {
   "cell_type": "code",
   "execution_count": 8,
   "metadata": {},
   "outputs": [
    {
     "data": {
      "text/html": [
       "<table>\n",
       "<caption>A tibble: 3 × 3</caption>\n",
       "<thead>\n",
       "\t<tr><th scope=col>putative_sex_chromosome_aneuploidy</th><th scope=col>het_missing_outliers</th><th scope=col>n</th></tr>\n",
       "\t<tr><th scope=col>&lt;int&gt;</th><th scope=col>&lt;int&gt;</th><th scope=col>&lt;int&gt;</th></tr>\n",
       "</thead>\n",
       "<tbody>\n",
       "\t<tr><td>0</td><td>0</td><td>486757</td></tr>\n",
       "\t<tr><td>0</td><td>1</td><td>   968</td></tr>\n",
       "\t<tr><td>1</td><td>0</td><td>   652</td></tr>\n",
       "</tbody>\n",
       "</table>\n"
      ],
      "text/latex": [
       "A tibble: 3 × 3\n",
       "\\begin{tabular}{r|lll}\n",
       " putative\\_sex\\_chromosome\\_aneuploidy & het\\_missing\\_outliers & n\\\\\n",
       " <int> & <int> & <int>\\\\\n",
       "\\hline\n",
       "\t 0 & 0 & 486757\\\\\n",
       "\t 0 & 1 &    968\\\\\n",
       "\t 1 & 0 &    652\\\\\n",
       "\\end{tabular}\n"
      ],
      "text/markdown": [
       "\n",
       "A tibble: 3 × 3\n",
       "\n",
       "| putative_sex_chromosome_aneuploidy &lt;int&gt; | het_missing_outliers &lt;int&gt; | n &lt;int&gt; |\n",
       "|---|---|---|\n",
       "| 0 | 0 | 486757 |\n",
       "| 0 | 1 |    968 |\n",
       "| 1 | 0 |    652 |\n",
       "\n"
      ],
      "text/plain": [
       "  putative_sex_chromosome_aneuploidy het_missing_outliers n     \n",
       "1 0                                  0                    486757\n",
       "2 0                                  1                       968\n",
       "3 1                                  0                       652"
      ]
     },
     "metadata": {},
     "output_type": "display_data"
    }
   ],
   "source": [
    "sqc_df %>%\n",
    "count(putative_sex_chromosome_aneuploidy, het_missing_outliers)"
   ]
  },
  {
   "cell_type": "code",
   "execution_count": 9,
   "metadata": {},
   "outputs": [],
   "source": [
    "df <- fread(cmd=paste('zstdcat', f)) %>%\n",
    "rename('IID' = '#IID') %>%\n",
    "mutate(IID = as.character(IID)) %>%\n",
    "left_join(\n",
    "    coding_df, \n",
    "    by=c('val'='coding', 'field')\n",
    ") %>%\n",
    "left_join(\n",
    "    sqc_df %>%\n",
    "    select(IID, putative_sex_chromosome_aneuploidy, het_missing_outliers), \n",
    "    by='IID'\n",
    ") %>%\n",
    "filter(\n",
    "    !((field == 1647) & val %in% c(-3, -1)),\n",
    "    !(IID %in% remove_l),\n",
    "    putative_sex_chromosome_aneuploidy == 0,\n",
    "    het_missing_outliers == 0\n",
    ")\n"
   ]
  },
  {
   "cell_type": "markdown",
   "metadata": {},
   "source": [
    "## explorer the basic characteristics"
   ]
  },
  {
   "cell_type": "code",
   "execution_count": 10,
   "metadata": {},
   "outputs": [
    {
     "data": {
      "text/html": [
       "<table>\n",
       "<caption>A tibble: 3 × 4</caption>\n",
       "<thead>\n",
       "\t<tr><th scope=col>time</th><th scope=col>array</th><th scope=col>tab_file</th><th scope=col>n</th></tr>\n",
       "\t<tr><th scope=col>&lt;int&gt;</th><th scope=col>&lt;int&gt;</th><th scope=col>&lt;chr&gt;</th><th scope=col>&lt;int&gt;</th></tr>\n",
       "</thead>\n",
       "<tbody>\n",
       "\t<tr><td>0</td><td>0</td><td>ukb37855.tab</td><td>524267</td></tr>\n",
       "\t<tr><td>1</td><td>0</td><td>ukb37855.tab</td><td> 20161</td></tr>\n",
       "\t<tr><td>2</td><td>0</td><td>ukb37855.tab</td><td> 11386</td></tr>\n",
       "</tbody>\n",
       "</table>\n"
      ],
      "text/latex": [
       "A tibble: 3 × 4\n",
       "\\begin{tabular}{r|llll}\n",
       " time & array & tab\\_file & n\\\\\n",
       " <int> & <int> & <chr> & <int>\\\\\n",
       "\\hline\n",
       "\t 0 & 0 & ukb37855.tab & 524267\\\\\n",
       "\t 1 & 0 & ukb37855.tab &  20161\\\\\n",
       "\t 2 & 0 & ukb37855.tab &  11386\\\\\n",
       "\\end{tabular}\n"
      ],
      "text/markdown": [
       "\n",
       "A tibble: 3 × 4\n",
       "\n",
       "| time &lt;int&gt; | array &lt;int&gt; | tab_file &lt;chr&gt; | n &lt;int&gt; |\n",
       "|---|---|---|---|\n",
       "| 0 | 0 | ukb37855.tab | 524267 |\n",
       "| 1 | 0 | ukb37855.tab |  20161 |\n",
       "| 2 | 0 | ukb37855.tab |  11386 |\n",
       "\n"
      ],
      "text/plain": [
       "  time array tab_file     n     \n",
       "1 0    0     ukb37855.tab 524267\n",
       "2 1    0     ukb37855.tab  20161\n",
       "3 2    0     ukb37855.tab  11386"
      ]
     },
     "metadata": {},
     "output_type": "display_data"
    }
   ],
   "source": [
    "df %>% count(time, array, tab_file)"
   ]
  },
  {
   "cell_type": "markdown",
   "metadata": {},
   "source": [
    "## how many different kinds of answers?"
   ]
  },
  {
   "cell_type": "code",
   "execution_count": 11,
   "metadata": {},
   "outputs": [
    {
     "data": {
      "text/html": [
       "555814"
      ],
      "text/latex": [
       "555814"
      ],
      "text/markdown": [
       "555814"
      ],
      "text/plain": [
       "[1] 555814"
      ]
     },
     "metadata": {},
     "output_type": "display_data"
    }
   ],
   "source": [
    "df %>% nrow()"
   ]
  },
  {
   "cell_type": "code",
   "execution_count": 12,
   "metadata": {},
   "outputs": [
    {
     "data": {
      "text/html": [
       "524313"
      ],
      "text/latex": [
       "524313"
      ],
      "text/markdown": [
       "524313"
      ],
      "text/plain": [
       "[1] 524313"
      ]
     },
     "metadata": {},
     "output_type": "display_data"
    }
   ],
   "source": [
    "df %>% select(-time, -array) %>% unique() %>% nrow()\n"
   ]
  },
  {
   "cell_type": "code",
   "execution_count": 13,
   "metadata": {},
   "outputs": [
    {
     "data": {
      "text/html": [
       "<table>\n",
       "<caption>A tibble: 3 × 2</caption>\n",
       "<thead>\n",
       "\t<tr><th scope=col>n_distinct_answers_per_individual</th><th scope=col>n</th></tr>\n",
       "\t<tr><th scope=col>&lt;int&gt;</th><th scope=col>&lt;int&gt;</th></tr>\n",
       "</thead>\n",
       "<tbody>\n",
       "\t<tr><td>1</td><td>447342</td></tr>\n",
       "\t<tr><td>2</td><td> 38460</td></tr>\n",
       "\t<tr><td>3</td><td>    17</td></tr>\n",
       "</tbody>\n",
       "</table>\n"
      ],
      "text/latex": [
       "A tibble: 3 × 2\n",
       "\\begin{tabular}{r|ll}\n",
       " n\\_distinct\\_answers\\_per\\_individual & n\\\\\n",
       " <int> & <int>\\\\\n",
       "\\hline\n",
       "\t 1 & 447342\\\\\n",
       "\t 2 &  38460\\\\\n",
       "\t 3 &     17\\\\\n",
       "\\end{tabular}\n"
      ],
      "text/markdown": [
       "\n",
       "A tibble: 3 × 2\n",
       "\n",
       "| n_distinct_answers_per_individual &lt;int&gt; | n &lt;int&gt; |\n",
       "|---|---|\n",
       "| 1 | 447342 |\n",
       "| 2 |  38460 |\n",
       "| 3 |     17 |\n",
       "\n"
      ],
      "text/plain": [
       "  n_distinct_answers_per_individual n     \n",
       "1 1                                 447342\n",
       "2 2                                  38460\n",
       "3 3                                     17"
      ]
     },
     "metadata": {},
     "output_type": "display_data"
    }
   ],
   "source": [
    "df %>% \n",
    "select(IID, val) %>%\n",
    "unique() %>%\n",
    "count(IID) %>%\n",
    "rename('n_distinct_answers_per_individual' = 'n') %>%\n",
    "count(n_distinct_answers_per_individual)\n"
   ]
  },
  {
   "cell_type": "code",
   "execution_count": 14,
   "metadata": {},
   "outputs": [
    {
     "data": {
      "text/html": [
       "<table>\n",
       "<caption>A grouped_df: 3 × 3</caption>\n",
       "<thead>\n",
       "\t<tr><th scope=col>field</th><th scope=col>n_distinct_answers_per_individual</th><th scope=col>n</th></tr>\n",
       "\t<tr><th scope=col>&lt;dbl&gt;</th><th scope=col>&lt;int&gt;</th><th scope=col>&lt;int&gt;</th></tr>\n",
       "</thead>\n",
       "<tbody>\n",
       "\t<tr><td> 1647</td><td>1</td><td>485275</td></tr>\n",
       "\t<tr><td> 1647</td><td>2</td><td>    36</td></tr>\n",
       "\t<tr><td>20115</td><td>1</td><td> 38966</td></tr>\n",
       "</tbody>\n",
       "</table>\n"
      ],
      "text/latex": [
       "A grouped_df: 3 × 3\n",
       "\\begin{tabular}{r|lll}\n",
       " field & n\\_distinct\\_answers\\_per\\_individual & n\\\\\n",
       " <dbl> & <int> & <int>\\\\\n",
       "\\hline\n",
       "\t  1647 & 1 & 485275\\\\\n",
       "\t  1647 & 2 &     36\\\\\n",
       "\t 20115 & 1 &  38966\\\\\n",
       "\\end{tabular}\n"
      ],
      "text/markdown": [
       "\n",
       "A grouped_df: 3 × 3\n",
       "\n",
       "| field &lt;dbl&gt; | n_distinct_answers_per_individual &lt;int&gt; | n &lt;int&gt; |\n",
       "|---|---|---|\n",
       "|  1647 | 1 | 485275 |\n",
       "|  1647 | 2 |     36 |\n",
       "| 20115 | 1 |  38966 |\n",
       "\n"
      ],
      "text/plain": [
       "  field n_distinct_answers_per_individual n     \n",
       "1  1647 1                                 485275\n",
       "2  1647 2                                     36\n",
       "3 20115 1                                  38966"
      ]
     },
     "metadata": {},
     "output_type": "display_data"
    }
   ],
   "source": [
    "df %>% \n",
    "group_by(field) %>%\n",
    "select(field, IID, val) %>%\n",
    "unique() %>%\n",
    "count(field, IID) %>%\n",
    "rename('n_distinct_answers_per_individual' = 'n') %>%\n",
    "count(n_distinct_answers_per_individual)\n"
   ]
  },
  {
   "cell_type": "code",
   "execution_count": 15,
   "metadata": {},
   "outputs": [
    {
     "data": {
      "text/html": [
       "38458"
      ],
      "text/latex": [
       "38458"
      ],
      "text/markdown": [
       "38458"
      ],
      "text/plain": [
       "[1] 38458"
      ]
     },
     "metadata": {},
     "output_type": "display_data"
    }
   ],
   "source": [
    "intersect(\n",
    "    df %>% filter(field == 1647) %>% pull(IID),\n",
    "    df %>% filter(field == 20115) %>% pull(IID)\n",
    ") %>% \n",
    "length()\n"
   ]
  },
  {
   "cell_type": "code",
   "execution_count": 16,
   "metadata": {},
   "outputs": [
    {
     "data": {
      "text/html": [
       "<table>\n",
       "<caption>A tibble: 6 × 8</caption>\n",
       "<thead>\n",
       "\t<tr><th scope=col>val</th><th scope=col>field</th><th scope=col>n</th><th scope=col>meaning</th><th scope=col>node_id</th><th scope=col>parent_id</th><th scope=col>selectable</th><th scope=col>parent_meaning</th></tr>\n",
       "\t<tr><th scope=col>&lt;int&gt;</th><th scope=col>&lt;dbl&gt;</th><th scope=col>&lt;int&gt;</th><th scope=col>&lt;chr&gt;</th><th scope=col>&lt;int&gt;</th><th scope=col>&lt;int&gt;</th><th scope=col>&lt;chr&gt;</th><th scope=col>&lt;chr&gt;</th></tr>\n",
       "</thead>\n",
       "<tbody>\n",
       "\t<tr><td>1</td><td>1647</td><td>  219</td><td>England            </td><td>NA</td><td>NA</td><td>NA</td><td>NA</td></tr>\n",
       "\t<tr><td>2</td><td>1647</td><td>   13</td><td>Wales              </td><td>NA</td><td>NA</td><td>NA</td><td>NA</td></tr>\n",
       "\t<tr><td>3</td><td>1647</td><td>   32</td><td>Scotland           </td><td>NA</td><td>NA</td><td>NA</td><td>NA</td></tr>\n",
       "\t<tr><td>4</td><td>1647</td><td>    4</td><td>Northern Ireland   </td><td>NA</td><td>NA</td><td>NA</td><td>NA</td></tr>\n",
       "\t<tr><td>5</td><td>1647</td><td>    2</td><td>Republic of Ireland</td><td>NA</td><td>NA</td><td>NA</td><td>NA</td></tr>\n",
       "\t<tr><td>6</td><td>1647</td><td>38205</td><td>Elsewhere          </td><td>NA</td><td>NA</td><td>NA</td><td>NA</td></tr>\n",
       "</tbody>\n",
       "</table>\n"
      ],
      "text/latex": [
       "A tibble: 6 × 8\n",
       "\\begin{tabular}{r|llllllll}\n",
       " val & field & n & meaning & node\\_id & parent\\_id & selectable & parent\\_meaning\\\\\n",
       " <int> & <dbl> & <int> & <chr> & <int> & <int> & <chr> & <chr>\\\\\n",
       "\\hline\n",
       "\t 1 & 1647 &   219 & England             & NA & NA & NA & NA\\\\\n",
       "\t 2 & 1647 &    13 & Wales               & NA & NA & NA & NA\\\\\n",
       "\t 3 & 1647 &    32 & Scotland            & NA & NA & NA & NA\\\\\n",
       "\t 4 & 1647 &     4 & Northern Ireland    & NA & NA & NA & NA\\\\\n",
       "\t 5 & 1647 &     2 & Republic of Ireland & NA & NA & NA & NA\\\\\n",
       "\t 6 & 1647 & 38205 & Elsewhere           & NA & NA & NA & NA\\\\\n",
       "\\end{tabular}\n"
      ],
      "text/markdown": [
       "\n",
       "A tibble: 6 × 8\n",
       "\n",
       "| val &lt;int&gt; | field &lt;dbl&gt; | n &lt;int&gt; | meaning &lt;chr&gt; | node_id &lt;int&gt; | parent_id &lt;int&gt; | selectable &lt;chr&gt; | parent_meaning &lt;chr&gt; |\n",
       "|---|---|---|---|---|---|---|---|\n",
       "| 1 | 1647 |   219 | England             | NA | NA | NA | NA |\n",
       "| 2 | 1647 |    13 | Wales               | NA | NA | NA | NA |\n",
       "| 3 | 1647 |    32 | Scotland            | NA | NA | NA | NA |\n",
       "| 4 | 1647 |     4 | Northern Ireland    | NA | NA | NA | NA |\n",
       "| 5 | 1647 |     2 | Republic of Ireland | NA | NA | NA | NA |\n",
       "| 6 | 1647 | 38205 | Elsewhere           | NA | NA | NA | NA |\n",
       "\n"
      ],
      "text/plain": [
       "  val field n     meaning             node_id parent_id selectable\n",
       "1 1   1647    219 England             NA      NA        NA        \n",
       "2 2   1647     13 Wales               NA      NA        NA        \n",
       "3 3   1647     32 Scotland            NA      NA        NA        \n",
       "4 4   1647      4 Northern Ireland    NA      NA        NA        \n",
       "5 5   1647      2 Republic of Ireland NA      NA        NA        \n",
       "6 6   1647  38205 Elsewhere           NA      NA        NA        \n",
       "  parent_meaning\n",
       "1 NA            \n",
       "2 NA            \n",
       "3 NA            \n",
       "4 NA            \n",
       "5 NA            \n",
       "6 NA            "
      ]
     },
     "metadata": {},
     "output_type": "display_data"
    }
   ],
   "source": [
    "df %>%\n",
    "filter(\n",
    "    field == 1647,\n",
    "    IID %in% intersect(\n",
    "        df %>% filter(field == 1647) %>% pull(IID),\n",
    "        df %>% filter(field == 20115) %>% pull(IID)\n",
    "    )\n",
    ") %>%\n",
    "select(IID, val, field) %>%\n",
    "unique() %>%\n",
    "count(val, field) %>%\n",
    "left_join(\n",
    "    coding_df, by=c('field', 'val'='coding')\n",
    ")"
   ]
  },
  {
   "cell_type": "markdown",
   "metadata": {},
   "source": [
    "we should remove `Elsewhere`"
   ]
  },
  {
   "cell_type": "code",
   "execution_count": 17,
   "metadata": {},
   "outputs": [
    {
     "data": {
      "text/html": [
       "<table>\n",
       "<caption>A tibble: 2 × 2</caption>\n",
       "<thead>\n",
       "\t<tr><th scope=col>n_distinct_answers_per_individual</th><th scope=col>n</th></tr>\n",
       "\t<tr><th scope=col>&lt;int&gt;</th><th scope=col>&lt;int&gt;</th></tr>\n",
       "</thead>\n",
       "<tbody>\n",
       "\t<tr><td>1</td><td>485470</td></tr>\n",
       "\t<tr><td>2</td><td>   286</td></tr>\n",
       "</tbody>\n",
       "</table>\n"
      ],
      "text/latex": [
       "A tibble: 2 × 2\n",
       "\\begin{tabular}{r|ll}\n",
       " n\\_distinct\\_answers\\_per\\_individual & n\\\\\n",
       " <int> & <int>\\\\\n",
       "\\hline\n",
       "\t 1 & 485470\\\\\n",
       "\t 2 &    286\\\\\n",
       "\\end{tabular}\n"
      ],
      "text/markdown": [
       "\n",
       "A tibble: 2 × 2\n",
       "\n",
       "| n_distinct_answers_per_individual &lt;int&gt; | n &lt;int&gt; |\n",
       "|---|---|\n",
       "| 1 | 485470 |\n",
       "| 2 |    286 |\n",
       "\n"
      ],
      "text/plain": [
       "  n_distinct_answers_per_individual n     \n",
       "1 1                                 485470\n",
       "2 2                                    286"
      ]
     },
     "metadata": {},
     "output_type": "display_data"
    }
   ],
   "source": [
    "df %>% \n",
    "filter(\n",
    "    !((field == 1647) & (val == 6))\n",
    ") %>%\n",
    "select(IID, val) %>%\n",
    "unique() %>%\n",
    "count(IID) %>%\n",
    "rename('n_distinct_answers_per_individual' = 'n') %>%\n",
    "count(n_distinct_answers_per_individual)\n"
   ]
  },
  {
   "cell_type": "markdown",
   "metadata": {},
   "source": [
    "290 individuals have multiple answers. Let's remove them for now."
   ]
  },
  {
   "cell_type": "code",
   "execution_count": 18,
   "metadata": {},
   "outputs": [],
   "source": [
    "non_dup_IIDs <- df %>% \n",
    "filter(\n",
    "    !((field == 1647) & (val == 6)),\n",
    ") %>%\n",
    "select(IID, val) %>%\n",
    "unique() %>%\n",
    "count(IID) %>%\n",
    "filter(n == 1) %>%\n",
    "pull(IID)"
   ]
  },
  {
   "cell_type": "code",
   "execution_count": 19,
   "metadata": {},
   "outputs": [
    {
     "data": {
      "text/html": [
       "<table>\n",
       "<caption>A tibble: 1 × 2</caption>\n",
       "<thead>\n",
       "\t<tr><th scope=col>n_distinct_answers_per_individual</th><th scope=col>n</th></tr>\n",
       "\t<tr><th scope=col>&lt;int&gt;</th><th scope=col>&lt;int&gt;</th></tr>\n",
       "</thead>\n",
       "<tbody>\n",
       "\t<tr><td>1</td><td>485470</td></tr>\n",
       "</tbody>\n",
       "</table>\n"
      ],
      "text/latex": [
       "A tibble: 1 × 2\n",
       "\\begin{tabular}{r|ll}\n",
       " n\\_distinct\\_answers\\_per\\_individual & n\\\\\n",
       " <int> & <int>\\\\\n",
       "\\hline\n",
       "\t 1 & 485470\\\\\n",
       "\\end{tabular}\n"
      ],
      "text/markdown": [
       "\n",
       "A tibble: 1 × 2\n",
       "\n",
       "| n_distinct_answers_per_individual &lt;int&gt; | n &lt;int&gt; |\n",
       "|---|---|\n",
       "| 1 | 485470 |\n",
       "\n"
      ],
      "text/plain": [
       "  n_distinct_answers_per_individual n     \n",
       "1 1                                 485470"
      ]
     },
     "metadata": {},
     "output_type": "display_data"
    }
   ],
   "source": [
    "df %>% \n",
    "filter(\n",
    "    !((field == 1647) & (val == 6)),\n",
    "    IID %in% non_dup_IIDs\n",
    ") %>%\n",
    "select(IID, val) %>%\n",
    "unique() %>%\n",
    "count(IID) %>%\n",
    "rename('n_distinct_answers_per_individual' = 'n') %>%\n",
    "count(n_distinct_answers_per_individual)\n"
   ]
  },
  {
   "cell_type": "markdown",
   "metadata": {},
   "source": [
    "This confirms we have unique answer for 485,470 individuals"
   ]
  },
  {
   "cell_type": "markdown",
   "metadata": {},
   "source": [
    "## Top level counts"
   ]
  },
  {
   "cell_type": "code",
   "execution_count": 20,
   "metadata": {},
   "outputs": [
    {
     "data": {
      "text/html": [
       "<table>\n",
       "<caption>A tibble: 11 × 3</caption>\n",
       "<thead>\n",
       "\t<tr><th scope=col>field</th><th scope=col>top_level</th><th scope=col>n</th></tr>\n",
       "\t<tr><th scope=col>&lt;dbl&gt;</th><th scope=col>&lt;chr&gt;</th><th scope=col>&lt;int&gt;</th></tr>\n",
       "</thead>\n",
       "<tbody>\n",
       "\t<tr><td> 1647</td><td>England            </td><td>406905</td></tr>\n",
       "\t<tr><td> 1647</td><td>Scotland           </td><td> 39794</td></tr>\n",
       "\t<tr><td> 1647</td><td>Wales              </td><td> 22100</td></tr>\n",
       "\t<tr><td>20115</td><td>Africa             </td><td> 12199</td></tr>\n",
       "\t<tr><td>20115</td><td>Asia               </td><td> 11360</td></tr>\n",
       "\t<tr><td>20115</td><td>Europe             </td><td>  9544</td></tr>\n",
       "\t<tr><td> 1647</td><td>Republic of Ireland</td><td>  5006</td></tr>\n",
       "\t<tr><td> 1647</td><td>Northern Ireland   </td><td>  3178</td></tr>\n",
       "\t<tr><td>20115</td><td>North America      </td><td>  2610</td></tr>\n",
       "\t<tr><td>20115</td><td>Oceania            </td><td>  1660</td></tr>\n",
       "\t<tr><td>20115</td><td>South America      </td><td>  1323</td></tr>\n",
       "</tbody>\n",
       "</table>\n"
      ],
      "text/latex": [
       "A tibble: 11 × 3\n",
       "\\begin{tabular}{r|lll}\n",
       " field & top\\_level & n\\\\\n",
       " <dbl> & <chr> & <int>\\\\\n",
       "\\hline\n",
       "\t  1647 & England             & 406905\\\\\n",
       "\t  1647 & Scotland            &  39794\\\\\n",
       "\t  1647 & Wales               &  22100\\\\\n",
       "\t 20115 & Africa              &  12199\\\\\n",
       "\t 20115 & Asia                &  11360\\\\\n",
       "\t 20115 & Europe              &   9544\\\\\n",
       "\t  1647 & Republic of Ireland &   5006\\\\\n",
       "\t  1647 & Northern Ireland    &   3178\\\\\n",
       "\t 20115 & North America       &   2610\\\\\n",
       "\t 20115 & Oceania             &   1660\\\\\n",
       "\t 20115 & South America       &   1323\\\\\n",
       "\\end{tabular}\n"
      ],
      "text/markdown": [
       "\n",
       "A tibble: 11 × 3\n",
       "\n",
       "| field &lt;dbl&gt; | top_level &lt;chr&gt; | n &lt;int&gt; |\n",
       "|---|---|---|\n",
       "|  1647 | England             | 406905 |\n",
       "|  1647 | Scotland            |  39794 |\n",
       "|  1647 | Wales               |  22100 |\n",
       "| 20115 | Africa              |  12199 |\n",
       "| 20115 | Asia                |  11360 |\n",
       "| 20115 | Europe              |   9544 |\n",
       "|  1647 | Republic of Ireland |   5006 |\n",
       "|  1647 | Northern Ireland    |   3178 |\n",
       "| 20115 | North America       |   2610 |\n",
       "| 20115 | Oceania             |   1660 |\n",
       "| 20115 | South America       |   1323 |\n",
       "\n"
      ],
      "text/plain": [
       "   field top_level           n     \n",
       "1   1647 England             406905\n",
       "2   1647 Scotland             39794\n",
       "3   1647 Wales                22100\n",
       "4  20115 Africa               12199\n",
       "5  20115 Asia                 11360\n",
       "6  20115 Europe                9544\n",
       "7   1647 Republic of Ireland   5006\n",
       "8   1647 Northern Ireland      3178\n",
       "9  20115 North America         2610\n",
       "10 20115 Oceania               1660\n",
       "11 20115 South America         1323"
      ]
     },
     "metadata": {},
     "output_type": "display_data"
    }
   ],
   "source": [
    "df %>% \n",
    "filter(\n",
    "    !((field == 1647) & (val == 6)),\n",
    "    IID %in% non_dup_IIDs\n",
    ") %>%\n",
    "mutate(\n",
    "    top_level = if_else(is.na(parent_id), meaning, parent_meaning)\n",
    ") %>%\n",
    "count(field, top_level) %>%\n",
    "arrange(-n)"
   ]
  },
  {
   "cell_type": "markdown",
   "metadata": {},
   "source": [
    "## Count the number of individuals for each country"
   ]
  },
  {
   "cell_type": "code",
   "execution_count": 21,
   "metadata": {},
   "outputs": [],
   "source": [
    "count_df <- df %>% \n",
    "filter(\n",
    "    !((field == 1647) & (val == 6)),\n",
    "    IID %in% non_dup_IIDs\n",
    ") %>%\n",
    "left_join(sqc_df, by='IID') %>%\n",
    "replace_na(list(pass_filter=F))%>%\n",
    "count(field, val, meaning, parent_id, parent_meaning, pass_filter) %>%\n",
    "mutate(pass_filter = if_else(pass_filter, 'unrelated_n', 'total_n')) %>%\n",
    "spread(pass_filter, n, fill=0) %>%\n",
    "mutate(total_n = unrelated_n + total_n)\n"
   ]
  },
  {
   "cell_type": "code",
   "execution_count": 22,
   "metadata": {},
   "outputs": [
    {
     "data": {
      "text/html": [
       "<table>\n",
       "<caption>A tibble: 20 × 6</caption>\n",
       "<thead>\n",
       "\t<tr><th scope=col>field</th><th scope=col>val</th><th scope=col>meaning</th><th scope=col>parent_id</th><th scope=col>parent_meaning</th><th scope=col>total_n</th></tr>\n",
       "\t<tr><th scope=col>&lt;dbl&gt;</th><th scope=col>&lt;int&gt;</th><th scope=col>&lt;chr&gt;</th><th scope=col>&lt;int&gt;</th><th scope=col>&lt;chr&gt;</th><th scope=col>&lt;dbl&gt;</th></tr>\n",
       "</thead>\n",
       "<tbody>\n",
       "\t<tr><td> 1647</td><td>  1</td><td>England            </td><td> NA</td><td>NA           </td><td>406905</td></tr>\n",
       "\t<tr><td> 1647</td><td>  3</td><td>Scotland           </td><td> NA</td><td>NA           </td><td> 39794</td></tr>\n",
       "\t<tr><td> 1647</td><td>  2</td><td>Wales              </td><td> NA</td><td>NA           </td><td> 22100</td></tr>\n",
       "\t<tr><td> 1647</td><td>  5</td><td>Republic of Ireland</td><td> NA</td><td>NA           </td><td>  5006</td></tr>\n",
       "\t<tr><td>20115</td><td>212</td><td>India              </td><td>200</td><td>Asia         </td><td>  3979</td></tr>\n",
       "\t<tr><td> 1647</td><td>  4</td><td>Northern Ireland   </td><td> NA</td><td>NA           </td><td>  3178</td></tr>\n",
       "\t<tr><td>20115</td><td>109</td><td>Caribbean          </td><td>100</td><td>Africa       </td><td>  2669</td></tr>\n",
       "\t<tr><td>20115</td><td>320</td><td>Germany            </td><td>300</td><td>Europe       </td><td>  2126</td></tr>\n",
       "\t<tr><td>20115</td><td>124</td><td>Kenya              </td><td>100</td><td>Africa       </td><td>  1667</td></tr>\n",
       "\t<tr><td>20115</td><td>232</td><td>Pakistan           </td><td>200</td><td>Asia         </td><td>  1435</td></tr>\n",
       "\t<tr><td>20115</td><td>434</td><td>USA                </td><td>400</td><td>North America</td><td>  1385</td></tr>\n",
       "\t<tr><td>20115</td><td>143</td><td>South Africa       </td><td>100</td><td>Africa       </td><td>  1355</td></tr>\n",
       "\t<tr><td>20115</td><td>136</td><td>Nigeria            </td><td>100</td><td>Africa       </td><td>  1158</td></tr>\n",
       "\t<tr><td>20115</td><td>120</td><td>Ghana              </td><td>100</td><td>Africa       </td><td>   928</td></tr>\n",
       "\t<tr><td>20115</td><td>502</td><td>Australia          </td><td>500</td><td>Oceania      </td><td>   923</td></tr>\n",
       "\t<tr><td>20115</td><td>318</td><td>France             </td><td>300</td><td>Europe       </td><td>   853</td></tr>\n",
       "\t<tr><td>20115</td><td>326</td><td>Italy              </td><td>300</td><td>Europe       </td><td>   819</td></tr>\n",
       "\t<tr><td>20115</td><td>152</td><td>Zimbabwe           </td><td>100</td><td>Africa       </td><td>   748</td></tr>\n",
       "\t<tr><td>20115</td><td>241</td><td>Sri Lanka          </td><td>200</td><td>Asia         </td><td>   744</td></tr>\n",
       "\t<tr><td>20115</td><td>409</td><td>Canada             </td><td>400</td><td>North America</td><td>   728</td></tr>\n",
       "</tbody>\n",
       "</table>\n"
      ],
      "text/latex": [
       "A tibble: 20 × 6\n",
       "\\begin{tabular}{r|llllll}\n",
       " field & val & meaning & parent\\_id & parent\\_meaning & total\\_n\\\\\n",
       " <dbl> & <int> & <chr> & <int> & <chr> & <dbl>\\\\\n",
       "\\hline\n",
       "\t  1647 &   1 & England             &  NA & NA            & 406905\\\\\n",
       "\t  1647 &   3 & Scotland            &  NA & NA            &  39794\\\\\n",
       "\t  1647 &   2 & Wales               &  NA & NA            &  22100\\\\\n",
       "\t  1647 &   5 & Republic of Ireland &  NA & NA            &   5006\\\\\n",
       "\t 20115 & 212 & India               & 200 & Asia          &   3979\\\\\n",
       "\t  1647 &   4 & Northern Ireland    &  NA & NA            &   3178\\\\\n",
       "\t 20115 & 109 & Caribbean           & 100 & Africa        &   2669\\\\\n",
       "\t 20115 & 320 & Germany             & 300 & Europe        &   2126\\\\\n",
       "\t 20115 & 124 & Kenya               & 100 & Africa        &   1667\\\\\n",
       "\t 20115 & 232 & Pakistan            & 200 & Asia          &   1435\\\\\n",
       "\t 20115 & 434 & USA                 & 400 & North America &   1385\\\\\n",
       "\t 20115 & 143 & South Africa        & 100 & Africa        &   1355\\\\\n",
       "\t 20115 & 136 & Nigeria             & 100 & Africa        &   1158\\\\\n",
       "\t 20115 & 120 & Ghana               & 100 & Africa        &    928\\\\\n",
       "\t 20115 & 502 & Australia           & 500 & Oceania       &    923\\\\\n",
       "\t 20115 & 318 & France              & 300 & Europe        &    853\\\\\n",
       "\t 20115 & 326 & Italy               & 300 & Europe        &    819\\\\\n",
       "\t 20115 & 152 & Zimbabwe            & 100 & Africa        &    748\\\\\n",
       "\t 20115 & 241 & Sri Lanka           & 200 & Asia          &    744\\\\\n",
       "\t 20115 & 409 & Canada              & 400 & North America &    728\\\\\n",
       "\\end{tabular}\n"
      ],
      "text/markdown": [
       "\n",
       "A tibble: 20 × 6\n",
       "\n",
       "| field &lt;dbl&gt; | val &lt;int&gt; | meaning &lt;chr&gt; | parent_id &lt;int&gt; | parent_meaning &lt;chr&gt; | total_n &lt;dbl&gt; |\n",
       "|---|---|---|---|---|---|\n",
       "|  1647 |   1 | England             |  NA | NA            | 406905 |\n",
       "|  1647 |   3 | Scotland            |  NA | NA            |  39794 |\n",
       "|  1647 |   2 | Wales               |  NA | NA            |  22100 |\n",
       "|  1647 |   5 | Republic of Ireland |  NA | NA            |   5006 |\n",
       "| 20115 | 212 | India               | 200 | Asia          |   3979 |\n",
       "|  1647 |   4 | Northern Ireland    |  NA | NA            |   3178 |\n",
       "| 20115 | 109 | Caribbean           | 100 | Africa        |   2669 |\n",
       "| 20115 | 320 | Germany             | 300 | Europe        |   2126 |\n",
       "| 20115 | 124 | Kenya               | 100 | Africa        |   1667 |\n",
       "| 20115 | 232 | Pakistan            | 200 | Asia          |   1435 |\n",
       "| 20115 | 434 | USA                 | 400 | North America |   1385 |\n",
       "| 20115 | 143 | South Africa        | 100 | Africa        |   1355 |\n",
       "| 20115 | 136 | Nigeria             | 100 | Africa        |   1158 |\n",
       "| 20115 | 120 | Ghana               | 100 | Africa        |    928 |\n",
       "| 20115 | 502 | Australia           | 500 | Oceania       |    923 |\n",
       "| 20115 | 318 | France              | 300 | Europe        |    853 |\n",
       "| 20115 | 326 | Italy               | 300 | Europe        |    819 |\n",
       "| 20115 | 152 | Zimbabwe            | 100 | Africa        |    748 |\n",
       "| 20115 | 241 | Sri Lanka           | 200 | Asia          |    744 |\n",
       "| 20115 | 409 | Canada              | 400 | North America |    728 |\n",
       "\n"
      ],
      "text/plain": [
       "   field val meaning             parent_id parent_meaning total_n\n",
       "1   1647   1 England              NA       NA             406905 \n",
       "2   1647   3 Scotland             NA       NA              39794 \n",
       "3   1647   2 Wales                NA       NA              22100 \n",
       "4   1647   5 Republic of Ireland  NA       NA               5006 \n",
       "5  20115 212 India               200       Asia             3979 \n",
       "6   1647   4 Northern Ireland     NA       NA               3178 \n",
       "7  20115 109 Caribbean           100       Africa           2669 \n",
       "8  20115 320 Germany             300       Europe           2126 \n",
       "9  20115 124 Kenya               100       Africa           1667 \n",
       "10 20115 232 Pakistan            200       Asia             1435 \n",
       "11 20115 434 USA                 400       North America    1385 \n",
       "12 20115 143 South Africa        100       Africa           1355 \n",
       "13 20115 136 Nigeria             100       Africa           1158 \n",
       "14 20115 120 Ghana               100       Africa            928 \n",
       "15 20115 502 Australia           500       Oceania           923 \n",
       "16 20115 318 France              300       Europe            853 \n",
       "17 20115 326 Italy               300       Europe            819 \n",
       "18 20115 152 Zimbabwe            100       Africa            748 \n",
       "19 20115 241 Sri Lanka           200       Asia              744 \n",
       "20 20115 409 Canada              400       North America     728 "
      ]
     },
     "metadata": {},
     "output_type": "display_data"
    }
   ],
   "source": [
    "count_df %>%\n",
    "arrange(-total_n) %>%\n",
    "select(-unrelated_n) %>%\n",
    "head(20)"
   ]
  },
  {
   "cell_type": "code",
   "execution_count": 23,
   "metadata": {},
   "outputs": [
    {
     "data": {
      "text/html": [
       "<table>\n",
       "<caption>A tibble: 20 × 6</caption>\n",
       "<thead>\n",
       "\t<tr><th scope=col>field</th><th scope=col>val</th><th scope=col>meaning</th><th scope=col>parent_id</th><th scope=col>parent_meaning</th><th scope=col>total_n</th></tr>\n",
       "\t<tr><th scope=col>&lt;dbl&gt;</th><th scope=col>&lt;int&gt;</th><th scope=col>&lt;chr&gt;</th><th scope=col>&lt;int&gt;</th><th scope=col>&lt;chr&gt;</th><th scope=col>&lt;dbl&gt;</th></tr>\n",
       "</thead>\n",
       "<tbody>\n",
       "\t<tr><td>20115</td><td>103</td><td>Benin                </td><td>100</td><td>Africa       </td><td>1</td></tr>\n",
       "\t<tr><td>20115</td><td>105</td><td>Burkina              </td><td>100</td><td>Africa       </td><td>1</td></tr>\n",
       "\t<tr><td>20115</td><td>111</td><td>Comoros              </td><td>100</td><td>Africa       </td><td>1</td></tr>\n",
       "\t<tr><td>20115</td><td>122</td><td>Guinea-Bissau        </td><td>100</td><td>Africa       </td><td>1</td></tr>\n",
       "\t<tr><td>20115</td><td>130</td><td>Mauritania           </td><td>100</td><td>Africa       </td><td>1</td></tr>\n",
       "\t<tr><td>20115</td><td>210</td><td>Emirates             </td><td>200</td><td>Asia         </td><td>1</td></tr>\n",
       "\t<tr><td>20115</td><td>227</td><td>Maldives             </td><td>200</td><td>Asia         </td><td>1</td></tr>\n",
       "\t<tr><td>20115</td><td>231</td><td>Oman                 </td><td>200</td><td>Asia         </td><td>1</td></tr>\n",
       "\t<tr><td>20115</td><td>234</td><td>Pattaya              </td><td>200</td><td>Asia         </td><td>1</td></tr>\n",
       "\t<tr><td>20115</td><td>244</td><td>Tajikistan           </td><td>200</td><td>Asia         </td><td>1</td></tr>\n",
       "\t<tr><td>20115</td><td>246</td><td>Tibet                </td><td>200</td><td>Asia         </td><td>1</td></tr>\n",
       "\t<tr><td>20115</td><td>247</td><td>Turkmenistan         </td><td>200</td><td>Asia         </td><td>1</td></tr>\n",
       "\t<tr><td>20115</td><td>301</td><td>Akrotiri and Dhekelia</td><td>300</td><td>Europe       </td><td>1</td></tr>\n",
       "\t<tr><td>20115</td><td>310</td><td>Crete                </td><td>300</td><td>Europe       </td><td>1</td></tr>\n",
       "\t<tr><td>20115</td><td>332</td><td>Madeira              </td><td>300</td><td>Europe       </td><td>1</td></tr>\n",
       "\t<tr><td>20115</td><td>334</td><td>Moldova              </td><td>300</td><td>Europe       </td><td>1</td></tr>\n",
       "\t<tr><td>20115</td><td>335</td><td>Monaco               </td><td>300</td><td>Europe       </td><td>1</td></tr>\n",
       "\t<tr><td>20115</td><td>424</td><td>Nicaragua            </td><td>400</td><td>North America</td><td>1</td></tr>\n",
       "\t<tr><td>20115</td><td>108</td><td>Cape Verde           </td><td>100</td><td>Africa       </td><td>2</td></tr>\n",
       "\t<tr><td>20115</td><td>113</td><td>Djibouti             </td><td>100</td><td>Africa       </td><td>2</td></tr>\n",
       "</tbody>\n",
       "</table>\n"
      ],
      "text/latex": [
       "A tibble: 20 × 6\n",
       "\\begin{tabular}{r|llllll}\n",
       " field & val & meaning & parent\\_id & parent\\_meaning & total\\_n\\\\\n",
       " <dbl> & <int> & <chr> & <int> & <chr> & <dbl>\\\\\n",
       "\\hline\n",
       "\t 20115 & 103 & Benin                 & 100 & Africa        & 1\\\\\n",
       "\t 20115 & 105 & Burkina               & 100 & Africa        & 1\\\\\n",
       "\t 20115 & 111 & Comoros               & 100 & Africa        & 1\\\\\n",
       "\t 20115 & 122 & Guinea-Bissau         & 100 & Africa        & 1\\\\\n",
       "\t 20115 & 130 & Mauritania            & 100 & Africa        & 1\\\\\n",
       "\t 20115 & 210 & Emirates              & 200 & Asia          & 1\\\\\n",
       "\t 20115 & 227 & Maldives              & 200 & Asia          & 1\\\\\n",
       "\t 20115 & 231 & Oman                  & 200 & Asia          & 1\\\\\n",
       "\t 20115 & 234 & Pattaya               & 200 & Asia          & 1\\\\\n",
       "\t 20115 & 244 & Tajikistan            & 200 & Asia          & 1\\\\\n",
       "\t 20115 & 246 & Tibet                 & 200 & Asia          & 1\\\\\n",
       "\t 20115 & 247 & Turkmenistan          & 200 & Asia          & 1\\\\\n",
       "\t 20115 & 301 & Akrotiri and Dhekelia & 300 & Europe        & 1\\\\\n",
       "\t 20115 & 310 & Crete                 & 300 & Europe        & 1\\\\\n",
       "\t 20115 & 332 & Madeira               & 300 & Europe        & 1\\\\\n",
       "\t 20115 & 334 & Moldova               & 300 & Europe        & 1\\\\\n",
       "\t 20115 & 335 & Monaco                & 300 & Europe        & 1\\\\\n",
       "\t 20115 & 424 & Nicaragua             & 400 & North America & 1\\\\\n",
       "\t 20115 & 108 & Cape Verde            & 100 & Africa        & 2\\\\\n",
       "\t 20115 & 113 & Djibouti              & 100 & Africa        & 2\\\\\n",
       "\\end{tabular}\n"
      ],
      "text/markdown": [
       "\n",
       "A tibble: 20 × 6\n",
       "\n",
       "| field &lt;dbl&gt; | val &lt;int&gt; | meaning &lt;chr&gt; | parent_id &lt;int&gt; | parent_meaning &lt;chr&gt; | total_n &lt;dbl&gt; |\n",
       "|---|---|---|---|---|---|\n",
       "| 20115 | 103 | Benin                 | 100 | Africa        | 1 |\n",
       "| 20115 | 105 | Burkina               | 100 | Africa        | 1 |\n",
       "| 20115 | 111 | Comoros               | 100 | Africa        | 1 |\n",
       "| 20115 | 122 | Guinea-Bissau         | 100 | Africa        | 1 |\n",
       "| 20115 | 130 | Mauritania            | 100 | Africa        | 1 |\n",
       "| 20115 | 210 | Emirates              | 200 | Asia          | 1 |\n",
       "| 20115 | 227 | Maldives              | 200 | Asia          | 1 |\n",
       "| 20115 | 231 | Oman                  | 200 | Asia          | 1 |\n",
       "| 20115 | 234 | Pattaya               | 200 | Asia          | 1 |\n",
       "| 20115 | 244 | Tajikistan            | 200 | Asia          | 1 |\n",
       "| 20115 | 246 | Tibet                 | 200 | Asia          | 1 |\n",
       "| 20115 | 247 | Turkmenistan          | 200 | Asia          | 1 |\n",
       "| 20115 | 301 | Akrotiri and Dhekelia | 300 | Europe        | 1 |\n",
       "| 20115 | 310 | Crete                 | 300 | Europe        | 1 |\n",
       "| 20115 | 332 | Madeira               | 300 | Europe        | 1 |\n",
       "| 20115 | 334 | Moldova               | 300 | Europe        | 1 |\n",
       "| 20115 | 335 | Monaco                | 300 | Europe        | 1 |\n",
       "| 20115 | 424 | Nicaragua             | 400 | North America | 1 |\n",
       "| 20115 | 108 | Cape Verde            | 100 | Africa        | 2 |\n",
       "| 20115 | 113 | Djibouti              | 100 | Africa        | 2 |\n",
       "\n"
      ],
      "text/plain": [
       "   field val meaning               parent_id parent_meaning total_n\n",
       "1  20115 103 Benin                 100       Africa         1      \n",
       "2  20115 105 Burkina               100       Africa         1      \n",
       "3  20115 111 Comoros               100       Africa         1      \n",
       "4  20115 122 Guinea-Bissau         100       Africa         1      \n",
       "5  20115 130 Mauritania            100       Africa         1      \n",
       "6  20115 210 Emirates              200       Asia           1      \n",
       "7  20115 227 Maldives              200       Asia           1      \n",
       "8  20115 231 Oman                  200       Asia           1      \n",
       "9  20115 234 Pattaya               200       Asia           1      \n",
       "10 20115 244 Tajikistan            200       Asia           1      \n",
       "11 20115 246 Tibet                 200       Asia           1      \n",
       "12 20115 247 Turkmenistan          200       Asia           1      \n",
       "13 20115 301 Akrotiri and Dhekelia 300       Europe         1      \n",
       "14 20115 310 Crete                 300       Europe         1      \n",
       "15 20115 332 Madeira               300       Europe         1      \n",
       "16 20115 334 Moldova               300       Europe         1      \n",
       "17 20115 335 Monaco                300       Europe         1      \n",
       "18 20115 424 Nicaragua             400       North America  1      \n",
       "19 20115 108 Cape Verde            100       Africa         2      \n",
       "20 20115 113 Djibouti              100       Africa         2      "
      ]
     },
     "metadata": {},
     "output_type": "display_data"
    }
   ],
   "source": [
    "count_df %>%\n",
    "arrange(total_n) %>%\n",
    "select(-unrelated_n) %>%\n",
    "head(20)"
   ]
  },
  {
   "cell_type": "code",
   "execution_count": 24,
   "metadata": {},
   "outputs": [
    {
     "name": "stderr",
     "output_type": "stream",
     "text": [
      "`stat_bin()` using `bins = 30`. Pick better value with `binwidth`.\n"
     ]
    },
    {
     "data": {
      "image/png": "[encoded data removed]",
      "text/plain": [
       "plot without title"
      ]
     },
     "metadata": {},
     "output_type": "display_data"
    }
   ],
   "source": [
    "count_df %>%\n",
    "filter(total_n < 1000) %>%\n",
    "ggplot(aes(x=total_n)) +\n",
    "geom_histogram() + \n",
    "labs(\n",
    "    title = 'Frequency of frequency of the country',\n",
    "    x = 'Number of QC-passed individuals with genotype data per country',\n",
    "    y = 'Number of country'\n",
    ")"
   ]
  },
  {
   "cell_type": "markdown",
   "metadata": {},
   "source": [
    "## aggregate and reformat"
   ]
  },
  {
   "cell_type": "code",
   "execution_count": 25,
   "metadata": {},
   "outputs": [],
   "source": [
    "N_agg <- 30"
   ]
  },
  {
   "cell_type": "markdown",
   "metadata": {},
   "source": [
    "We keep countries with at least 30 individuals with genotype data"
   ]
  },
  {
   "cell_type": "code",
   "execution_count": 26,
   "metadata": {},
   "outputs": [],
   "source": [
    "agg_df <- df %>%\n",
    "filter(\n",
    "    !((field == 1647) & (val == 6)),\n",
    "    IID %in% non_dup_IIDs\n",
    ") %>%\n",
    "mutate(\n",
    "    aggregate = (\n",
    "        (field == 20115) &\n",
    "        (val %in% (count_df %>% filter(field == 20115, total_n < N_agg) %>% pull(val)))\n",
    "    )\n",
    ") %>%\n",
    "mutate(\n",
    "    field_val       = paste(field, val, sep='_'),\n",
    "    field_parent_id = paste(field, parent_id, sep='_'),\n",
    "    country_of_birth_id  = if_else(aggregate, field_parent_id, field_val),\n",
    "    country_of_birth_txt = if_else(aggregate, parent_meaning,  meaning),\n",
    "    country_of_birth_top_level_id  = if_else(is.na(parent_id), field_val, field_parent_id),\n",
    "    country_of_birth_top_level_txt = if_else(is.na(parent_id), meaning,   parent_meaning)\n",
    ") %>%\n",
    "rename(\n",
    "    'country_of_birth_raw_id' = 'field_val',\n",
    "    'country_of_birth_raw_txt' = 'meaning',\n",
    ") %>%\n",
    "mutate(FID = IID) %>%\n",
    "left_join(sqc_df %>% mutate(sort_order = 1:n()), by=c('FID', 'IID')) %>%\n",
    "arrange(sort_order) %>%\n",
    "select(\n",
    "    FID, IID, pass_filter,\n",
    "    country_of_birth_id, country_of_birth_txt, \n",
    "    country_of_birth_top_level_id, country_of_birth_top_level_txt,\n",
    "    country_of_birth_raw_id, country_of_birth_raw_txt\n",
    ")\n"
   ]
  },
  {
   "cell_type": "code",
   "execution_count": 27,
   "metadata": {},
   "outputs": [],
   "source": [
    "coding_agg_df <- coding_df %>%\n",
    "mutate(\n",
    "    field_val        = paste(field, coding, sep='_'),\n",
    "    parent_field_val = paste(field, parent_id, sep='_')\n",
    ") %>%\n",
    "left_join(    \n",
    "    count_df %>% \n",
    "    select(field, val, unrelated_n, total_n),\n",
    "    by=c('field', 'coding'='val')\n",
    ") %>%\n",
    "replace_na(list('unrelated_n' = 0, 'total_n' = 0)) %>%\n",
    "arrange(field, coding)%>%\n",
    "select(field_val, meaning, parent_field_val, parent_meaning, unrelated_n, total_n)\n"
   ]
  },
  {
   "cell_type": "code",
   "execution_count": 28,
   "metadata": {},
   "outputs": [],
   "source": [
    "agg_df %>%\n",
    "rename('#FID' = 'FID') %>%\n",
    "fwrite(out_tsv_f, sep='\\t', na = \"NA\", quote=F)\n"
   ]
  },
  {
   "cell_type": "code",
   "execution_count": 29,
   "metadata": {},
   "outputs": [],
   "source": [
    "coding_agg_df %>%\n",
    "rename('#field_val' = 'field_val') %>%\n",
    "fwrite(out_coding_tsv_f, sep='\\t', na = \"NA\", quote=F)\n"
   ]
  },
  {
   "cell_type": "code",
   "execution_count": null,
   "metadata": {},
   "outputs": [],
   "source": []
  }
 ],
 "metadata": {
  "kernelspec": {
   "display_name": "R",
   "language": "R",
   "name": "ir"
  },
  "language_info": {
   "codemirror_mode": "r",
   "file_extension": ".r",
   "mimetype": "text/x-r-source",
   "name": "R",
   "pygments_lexer": "r",
   "version": "3.6.1"
  }
 },
 "nbformat": 4,
 "nbformat_minor": 4
}
