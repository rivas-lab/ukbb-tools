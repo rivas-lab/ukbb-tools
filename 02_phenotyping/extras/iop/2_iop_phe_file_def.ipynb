{
 "cells": [
  {
   "cell_type": "code",
   "execution_count": 1,
   "metadata": {},
   "outputs": [],
   "source": [
    "suppressPackageStartupMessages(require(tidyverse))\n",
    "suppressPackageStartupMessages(require(data.table))\n"
   ]
  },
  {
   "cell_type": "code",
   "execution_count": 75,
   "metadata": {},
   "outputs": [],
   "source": [
    "phe_path <- '/oak/stanford/groups/mrivas/ukbb24983/phenotypedata'\n",
    "extracted_tab_file <- file.path(phe_path, 'extras/iop/misc/ukb2005693_ukb37855_IOP.tsv')\n",
    "master_phe_file <- file.path(phe_path, 'extras/iop/misc/ukb2005693_ukb37855_IOP.phe')\n",
    "GBE_IDs <- c(5254, 5255, 5262, 5263)\n"
   ]
  },
  {
   "cell_type": "code",
   "execution_count": 80,
   "metadata": {},
   "outputs": [],
   "source": [
    "phe_dir <- file.path(phe_path, 'extras/iop/phe')"
   ]
  },
  {
   "cell_type": "code",
   "execution_count": 16,
   "metadata": {},
   "outputs": [],
   "source": [
    "selectCols <- c(simplify2array(c(lapply(GBE_IDs, function(x){c(paste0('f.', x, '.0.0'), paste0('f.', x, '.1.0'))}))))\n",
    "colClases <- setNames(rep('double', length(selectCols)), selectCols)\n",
    "colClases[['IID']] <- 'character'\n",
    "\n",
    "tab_df <- fread(\n",
    "    extracted_tab_file,\n",
    "    colClasses = colClases\n",
    ") %>% \n",
    "gather(field, val, -IID) %>%\n",
    "drop_na(val) %>% \n",
    "mutate(\n",
    "    field = str_replace_all(field, '^f.', '')\n",
    ") %>%\n",
    "separate(field, c('Field', 'Time', 'Array'))\n"
   ]
  },
  {
   "cell_type": "code",
   "execution_count": 55,
   "metadata": {},
   "outputs": [
    {
     "data": {
      "text/html": [
       "<table>\n",
       "<caption>A tibble: 4 × 3</caption>\n",
       "<thead>\n",
       "\t<tr><th scope=col>Field</th><th scope=col>Time=0</th><th scope=col>Time=1</th></tr>\n",
       "\t<tr><th scope=col>&lt;chr&gt;</th><th scope=col>&lt;int&gt;</th><th scope=col>&lt;int&gt;</th></tr>\n",
       "</thead>\n",
       "<tbody>\n",
       "\t<tr><td>5254</td><td>112268</td><td>19512</td></tr>\n",
       "\t<tr><td>5255</td><td>112268</td><td>19512</td></tr>\n",
       "\t<tr><td>5262</td><td>111936</td><td>19457</td></tr>\n",
       "\t<tr><td>5263</td><td>111936</td><td>19457</td></tr>\n",
       "</tbody>\n",
       "</table>\n"
      ],
      "text/latex": [
       "A tibble: 4 × 3\n",
       "\\begin{tabular}{r|lll}\n",
       " Field & Time=0 & Time=1\\\\\n",
       " <chr> & <int> & <int>\\\\\n",
       "\\hline\n",
       "\t 5254 & 112268 & 19512\\\\\n",
       "\t 5255 & 112268 & 19512\\\\\n",
       "\t 5262 & 111936 & 19457\\\\\n",
       "\t 5263 & 111936 & 19457\\\\\n",
       "\\end{tabular}\n"
      ],
      "text/markdown": [
       "\n",
       "A tibble: 4 × 3\n",
       "\n",
       "| Field &lt;chr&gt; | Time=0 &lt;int&gt; | Time=1 &lt;int&gt; |\n",
       "|---|---|---|\n",
       "| 5254 | 112268 | 19512 |\n",
       "| 5255 | 112268 | 19512 |\n",
       "| 5262 | 111936 | 19457 |\n",
       "| 5263 | 111936 | 19457 |\n",
       "\n"
      ],
      "text/plain": [
       "  Field Time=0 Time=1\n",
       "1 5254  112268 19512 \n",
       "2 5255  112268 19512 \n",
       "3 5262  111936 19457 \n",
       "4 5263  111936 19457 "
      ]
     },
     "metadata": {},
     "output_type": "display_data"
    }
   ],
   "source": [
    "tab_df %>% count(Field, Time) %>% \n",
    "mutate(Time = paste0('Time=', Time)) %>%\n",
    "spread(Time, n)\n"
   ]
  },
  {
   "cell_type": "code",
   "execution_count": 59,
   "metadata": {},
   "outputs": [],
   "source": [
    "median_phenos <- tab_df %>% mutate(\n",
    "    median_pheno = if_else(\n",
    "        Field == 5254 | Field == 5262, \n",
    "        'INI2005254', # 'corneal-compensated', \n",
    "        if_else(\n",
    "            Field == 5255 | Field == 5263,\n",
    "            'INI2005255', # 'Goldmann-correlated', \n",
    "            ''\n",
    "        )\n",
    "    )\n",
    ") %>% group_by(IID, median_pheno) %>%\n",
    "summarise(median = median(val)) %>%\n",
    "spread(median_pheno, median) %>%\n",
    "ungroup()\n"
   ]
  },
  {
   "cell_type": "code",
   "execution_count": 60,
   "metadata": {},
   "outputs": [],
   "source": [
    "INI_phenos <- tab_df %>% group_by(IID, Field) %>%\n",
    "summarise(median = median(val)) %>%\n",
    "mutate(Field = paste0('INI', Field)) %>%\n",
    "spread(Field, median) %>%\n",
    "ungroup()\n"
   ]
  },
  {
   "cell_type": "code",
   "execution_count": 61,
   "metadata": {},
   "outputs": [
    {
     "name": "stdout",
     "output_type": "stream",
     "text": [
      "[1] 128943      3\n",
      "[1] 128943      5\n",
      "\u001b[90m# A tibble: 0 x 3\u001b[39m\n",
      "\u001b[90m# … with 3 variables: IID \u001b[3m\u001b[90m<chr>\u001b[90m\u001b[23m, INI2005254 \u001b[3m\u001b[90m<dbl>\u001b[90m\u001b[23m, INI2005255 \u001b[3m\u001b[90m<dbl>\u001b[90m\u001b[23m\u001b[39m\n",
      "\u001b[90m# A tibble: 0 x 5\u001b[39m\n",
      "\u001b[90m# … with 5 variables: IID \u001b[3m\u001b[90m<chr>\u001b[90m\u001b[23m, INI5254 \u001b[3m\u001b[90m<dbl>\u001b[90m\u001b[23m, INI5255 \u001b[3m\u001b[90m<dbl>\u001b[90m\u001b[23m, INI5262 \u001b[3m\u001b[90m<dbl>\u001b[90m\u001b[23m,\n",
      "#   INI5263 \u001b[3m\u001b[90m<dbl>\u001b[90m\u001b[23m\u001b[39m\n"
     ]
    }
   ],
   "source": [
    "median_phenos %>% dim() %>% print()\n",
    "INI_phenos %>% dim() %>% print()\n",
    "median_phenos %>% head(0) %>% print()\n",
    "INI_phenos    %>% head(0) %>% print()\n"
   ]
  },
  {
   "cell_type": "code",
   "execution_count": 70,
   "metadata": {},
   "outputs": [],
   "source": [
    "master_IOP_phe <- median_phenos %>%\n",
    "inner_join(INI_phenos, by=c('IID')) %>%\n",
    "mutate(FID = IID) %>%\n",
    "select(FID, IID, INI2005254, INI2005255, INI5254, INI5255, INI5262, INI5263)\n"
   ]
  },
  {
   "cell_type": "code",
   "execution_count": 76,
   "metadata": {},
   "outputs": [],
   "source": [
    "master_IOP_phe %>% \n",
    "fwrite(master_phe_file, sep='\\t', na='NA', quote = F)\n"
   ]
  },
  {
   "cell_type": "code",
   "execution_count": 77,
   "metadata": {},
   "outputs": [
    {
     "data": {
      "text/html": [
       "'/oak/stanford/groups/mrivas/ukbb24983/phenotypedata/extras/iop/misc/ukb2005693_ukb37855_IOP.phe'"
      ],
      "text/latex": [
       "'/oak/stanford/groups/mrivas/ukbb24983/phenotypedata/extras/iop/misc/ukb2005693\\_ukb37855\\_IOP.phe'"
      ],
      "text/markdown": [
       "'/oak/stanford/groups/mrivas/ukbb24983/phenotypedata/extras/iop/misc/ukb2005693_ukb37855_IOP.phe'"
      ],
      "text/plain": [
       "[1] \"/oak/stanford/groups/mrivas/ukbb24983/phenotypedata/extras/iop/misc/ukb2005693_ukb37855_IOP.phe\""
      ]
     },
     "metadata": {},
     "output_type": "display_data"
    }
   ],
   "source": [
    "master_phe_file"
   ]
  },
  {
   "cell_type": "code",
   "execution_count": 82,
   "metadata": {},
   "outputs": [],
   "source": [
    "for(GBE_ID in c('INI2005254', 'INI2005255', 'INI5254', 'INI5255', 'INI5262', 'INI5263')){\n",
    "    master_IOP_phe %>%\n",
    "    select(FID, IID, GBE_ID) %>%\n",
    "    drop_na() %>%\n",
    "    fwrite(file.path(phe_dir, paste0(GBE_ID, '.phe')), sep='\\t')\n",
    "}\n"
   ]
  },
  {
   "cell_type": "code",
   "execution_count": null,
   "metadata": {},
   "outputs": [],
   "source": []
  }
 ],
 "metadata": {
  "kernelspec": {
   "display_name": "R",
   "language": "R",
   "name": "ir"
  },
  "language_info": {
   "codemirror_mode": "r",
   "file_extension": ".r",
   "mimetype": "text/x-r-source",
   "name": "R",
   "pygments_lexer": "r",
   "version": "3.6.1"
  }
 },
 "nbformat": 4,
 "nbformat_minor": 4
}
