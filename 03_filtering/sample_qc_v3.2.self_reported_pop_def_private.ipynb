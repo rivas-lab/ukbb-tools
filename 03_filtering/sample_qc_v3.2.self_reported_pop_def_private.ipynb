{
 "cells": [
  {
   "cell_type": "code",
   "execution_count": 1,
   "metadata": {},
   "outputs": [],
   "source": [
    "suppressPackageStartupMessages(library(tidyverse))\n",
    "suppressPackageStartupMessages(library(data.table))\n"
   ]
  },
  {
   "cell_type": "markdown",
   "metadata": {},
   "source": [
    "# UK Biobank additional population definition\n",
    "\n",
    "- We define `Chinese` (n = 1419), `Indian` (n = 5117), `Pakistani` (n = 1583), and `Bangladeshi` (n = 209) populations, based on the self-reported ethnicity data (UKB field 21000)\n"
   ]
  },
  {
   "cell_type": "code",
   "execution_count": 2,
   "metadata": {},
   "outputs": [],
   "source": [
    "sqc_f <- '/oak/stanford/groups/mrivas/ukbb24983/sqc/population_stratification_w24983_20200313/ukb24983_master_sqc.20200313.phe'\n"
   ]
  },
  {
   "cell_type": "code",
   "execution_count": 3,
   "metadata": {},
   "outputs": [],
   "source": [
    "sqc_df <- fread(\n",
    "    sqc_f, \n",
    "    select=c('FID', 'IID', 'pass_filter', 'f21000', 'f21000_top_label', 'f21000_sub_label')\n",
    ")\n"
   ]
  },
  {
   "cell_type": "code",
   "execution_count": 4,
   "metadata": {},
   "outputs": [
    {
     "data": {
      "text/html": [
       "<table>\n",
       "<caption>A tibble: 23 × 4</caption>\n",
       "<thead>\n",
       "\t<tr><th scope=col>f21000</th><th scope=col>f21000_top_label</th><th scope=col>f21000_sub_label</th><th scope=col>n</th></tr>\n",
       "\t<tr><th scope=col>&lt;int&gt;</th><th scope=col>&lt;chr&gt;</th><th scope=col>&lt;chr&gt;</th><th scope=col>&lt;int&gt;</th></tr>\n",
       "</thead>\n",
       "<tbody>\n",
       "\t<tr><td>  -3</td><td>Prefer not to answer  </td><td>Prefer not to answer      </td><td>  1307</td></tr>\n",
       "\t<tr><td>  -1</td><td>Do not know           </td><td>Do not know               </td><td>   181</td></tr>\n",
       "\t<tr><td>   1</td><td>White                 </td><td>White                     </td><td>   441</td></tr>\n",
       "\t<tr><td>   2</td><td>Mixed                 </td><td>Mixed                     </td><td>    42</td></tr>\n",
       "\t<tr><td>   3</td><td>Asian or Asian British</td><td>Asian or Asian British    </td><td>    34</td></tr>\n",
       "\t<tr><td>   4</td><td>Black or Black British</td><td>Black or Black British    </td><td>    22</td></tr>\n",
       "\t<tr><td>   5</td><td>Chinese               </td><td>Chinese                   </td><td>  1419</td></tr>\n",
       "\t<tr><td>   6</td><td>Other ethnic group    </td><td>Other ethnic group        </td><td>  4007</td></tr>\n",
       "\t<tr><td>1001</td><td>White                 </td><td>British                   </td><td>355081</td></tr>\n",
       "\t<tr><td>1002</td><td>White                 </td><td>Irish                     </td><td> 10492</td></tr>\n",
       "\t<tr><td>1003</td><td>White                 </td><td>Any other white background</td><td> 14539</td></tr>\n",
       "\t<tr><td>2001</td><td>Mixed                 </td><td>White and Black Caribbean </td><td>   527</td></tr>\n",
       "\t<tr><td>2002</td><td>Mixed                 </td><td>White and Black African   </td><td>   362</td></tr>\n",
       "\t<tr><td>2003</td><td>Mixed                 </td><td>White and Asian           </td><td>   719</td></tr>\n",
       "\t<tr><td>2004</td><td>Mixed                 </td><td>Any other mixed background</td><td>   889</td></tr>\n",
       "\t<tr><td>3001</td><td>Asian or Asian British</td><td>Indian                    </td><td>  5117</td></tr>\n",
       "\t<tr><td>3002</td><td>Asian or Asian British</td><td>Pakistani                 </td><td>  1583</td></tr>\n",
       "\t<tr><td>3003</td><td>Asian or Asian British</td><td>Bangladeshi               </td><td>   209</td></tr>\n",
       "\t<tr><td>3004</td><td>Asian or Asian British</td><td>Any other Asian background</td><td>  1629</td></tr>\n",
       "\t<tr><td>4001</td><td>Black or Black British</td><td>Caribbean                 </td><td>  3789</td></tr>\n",
       "\t<tr><td>4002</td><td>Black or Black British</td><td>African                   </td><td>  3067</td></tr>\n",
       "\t<tr><td>4003</td><td>Black or Black British</td><td>Any other Black background</td><td>   107</td></tr>\n",
       "\t<tr><td>  NA</td><td>NA                    </td><td>NA                        </td><td>  1171</td></tr>\n",
       "</tbody>\n",
       "</table>\n"
      ],
      "text/latex": [
       "A tibble: 23 × 4\n",
       "\\begin{tabular}{r|llll}\n",
       " f21000 & f21000\\_top\\_label & f21000\\_sub\\_label & n\\\\\n",
       " <int> & <chr> & <chr> & <int>\\\\\n",
       "\\hline\n",
       "\t   -3 & Prefer not to answer   & Prefer not to answer       &   1307\\\\\n",
       "\t   -1 & Do not know            & Do not know                &    181\\\\\n",
       "\t    1 & White                  & White                      &    441\\\\\n",
       "\t    2 & Mixed                  & Mixed                      &     42\\\\\n",
       "\t    3 & Asian or Asian British & Asian or Asian British     &     34\\\\\n",
       "\t    4 & Black or Black British & Black or Black British     &     22\\\\\n",
       "\t    5 & Chinese                & Chinese                    &   1419\\\\\n",
       "\t    6 & Other ethnic group     & Other ethnic group         &   4007\\\\\n",
       "\t 1001 & White                  & British                    & 355081\\\\\n",
       "\t 1002 & White                  & Irish                      &  10492\\\\\n",
       "\t 1003 & White                  & Any other white background &  14539\\\\\n",
       "\t 2001 & Mixed                  & White and Black Caribbean  &    527\\\\\n",
       "\t 2002 & Mixed                  & White and Black African    &    362\\\\\n",
       "\t 2003 & Mixed                  & White and Asian            &    719\\\\\n",
       "\t 2004 & Mixed                  & Any other mixed background &    889\\\\\n",
       "\t 3001 & Asian or Asian British & Indian                     &   5117\\\\\n",
       "\t 3002 & Asian or Asian British & Pakistani                  &   1583\\\\\n",
       "\t 3003 & Asian or Asian British & Bangladeshi                &    209\\\\\n",
       "\t 3004 & Asian or Asian British & Any other Asian background &   1629\\\\\n",
       "\t 4001 & Black or Black British & Caribbean                  &   3789\\\\\n",
       "\t 4002 & Black or Black British & African                    &   3067\\\\\n",
       "\t 4003 & Black or Black British & Any other Black background &    107\\\\\n",
       "\t   NA & NA                     & NA                         &   1171\\\\\n",
       "\\end{tabular}\n"
      ],
      "text/markdown": [
       "\n",
       "A tibble: 23 × 4\n",
       "\n",
       "| f21000 &lt;int&gt; | f21000_top_label &lt;chr&gt; | f21000_sub_label &lt;chr&gt; | n &lt;int&gt; |\n",
       "|---|---|---|---|\n",
       "|   -3 | Prefer not to answer   | Prefer not to answer       |   1307 |\n",
       "|   -1 | Do not know            | Do not know                |    181 |\n",
       "|    1 | White                  | White                      |    441 |\n",
       "|    2 | Mixed                  | Mixed                      |     42 |\n",
       "|    3 | Asian or Asian British | Asian or Asian British     |     34 |\n",
       "|    4 | Black or Black British | Black or Black British     |     22 |\n",
       "|    5 | Chinese                | Chinese                    |   1419 |\n",
       "|    6 | Other ethnic group     | Other ethnic group         |   4007 |\n",
       "| 1001 | White                  | British                    | 355081 |\n",
       "| 1002 | White                  | Irish                      |  10492 |\n",
       "| 1003 | White                  | Any other white background |  14539 |\n",
       "| 2001 | Mixed                  | White and Black Caribbean  |    527 |\n",
       "| 2002 | Mixed                  | White and Black African    |    362 |\n",
       "| 2003 | Mixed                  | White and Asian            |    719 |\n",
       "| 2004 | Mixed                  | Any other mixed background |    889 |\n",
       "| 3001 | Asian or Asian British | Indian                     |   5117 |\n",
       "| 3002 | Asian or Asian British | Pakistani                  |   1583 |\n",
       "| 3003 | Asian or Asian British | Bangladeshi                |    209 |\n",
       "| 3004 | Asian or Asian British | Any other Asian background |   1629 |\n",
       "| 4001 | Black or Black British | Caribbean                  |   3789 |\n",
       "| 4002 | Black or Black British | African                    |   3067 |\n",
       "| 4003 | Black or Black British | Any other Black background |    107 |\n",
       "|   NA | NA                     | NA                         |   1171 |\n",
       "\n"
      ],
      "text/plain": [
       "   f21000 f21000_top_label       f21000_sub_label           n     \n",
       "1    -3   Prefer not to answer   Prefer not to answer         1307\n",
       "2    -1   Do not know            Do not know                   181\n",
       "3     1   White                  White                         441\n",
       "4     2   Mixed                  Mixed                          42\n",
       "5     3   Asian or Asian British Asian or Asian British         34\n",
       "6     4   Black or Black British Black or Black British         22\n",
       "7     5   Chinese                Chinese                      1419\n",
       "8     6   Other ethnic group     Other ethnic group           4007\n",
       "9  1001   White                  British                    355081\n",
       "10 1002   White                  Irish                       10492\n",
       "11 1003   White                  Any other white background  14539\n",
       "12 2001   Mixed                  White and Black Caribbean     527\n",
       "13 2002   Mixed                  White and Black African       362\n",
       "14 2003   Mixed                  White and Asian               719\n",
       "15 2004   Mixed                  Any other mixed background    889\n",
       "16 3001   Asian or Asian British Indian                       5117\n",
       "17 3002   Asian or Asian British Pakistani                    1583\n",
       "18 3003   Asian or Asian British Bangladeshi                   209\n",
       "19 3004   Asian or Asian British Any other Asian background   1629\n",
       "20 4001   Black or Black British Caribbean                    3789\n",
       "21 4002   Black or Black British African                      3067\n",
       "22 4003   Black or Black British Any other Black background    107\n",
       "23   NA   NA                     NA                           1171"
      ]
     },
     "metadata": {},
     "output_type": "display_data"
    }
   ],
   "source": [
    "sqc_df %>% filter(pass_filter) %>% count(f21000, f21000_top_label, f21000_sub_label)\n"
   ]
  },
  {
   "cell_type": "markdown",
   "metadata": {},
   "source": [
    "\n",
    "```\n",
    "out_d <- '/oak/stanford/groups/mrivas/ukbb24983/sqc/population_stratification_w24983_20200313'\n",
    "```"
   ]
  },
  {
   "cell_type": "code",
   "execution_count": 6,
   "metadata": {},
   "outputs": [],
   "source": [
    "additional_pops <- c(\n",
    "    'Chinese', 'Indian', 'Pakistani', 'Bangladeshi'\n",
    ")\n"
   ]
  },
  {
   "cell_type": "code",
   "execution_count": 7,
   "metadata": {},
   "outputs": [
    {
     "name": "stdout",
     "output_type": "stream",
     "text": [
      "[1] \"/oak/stanford/groups/mrivas/ukbb24983/sqc/population_stratification_w24983_20200313/ukb24983_Chinese.phe\"\n",
      "[1] \"/oak/stanford/groups/mrivas/ukbb24983/sqc/population_stratification_w24983_20200313/ukb24983_Indian.phe\"\n",
      "[1] \"/oak/stanford/groups/mrivas/ukbb24983/sqc/population_stratification_w24983_20200313/ukb24983_Pakistani.phe\"\n",
      "[1] \"/oak/stanford/groups/mrivas/ukbb24983/sqc/population_stratification_w24983_20200313/ukb24983_Bangladeshi.phe\"\n"
     ]
    }
   ],
   "source": [
    "for(pop in additional_pops){\n",
    "    sqc_df %>%\n",
    "    filter(pass_filter, f21000_sub_label==pop) %>%\n",
    "    select('FID', 'IID') %>%\n",
    "    fwrite(\n",
    "        file.path(out_d, paste0('ukb24983_', pop, '.phe')),\n",
    "        sep='\\t', col.names = F\n",
    "    )\n",
    "    file.path(out_d, paste0('ukb24983_', pop, '.phe')) %>% print()\n",
    "}\n"
   ]
  },
  {
   "cell_type": "code",
   "execution_count": null,
   "metadata": {},
   "outputs": [],
   "source": []
  }
 ],
 "metadata": {
  "kernelspec": {
   "display_name": "R",
   "language": "R",
   "name": "ir"
  },
  "language_info": {
   "codemirror_mode": "r",
   "file_extension": ".r",
   "mimetype": "text/x-r-source",
   "name": "R",
   "pygments_lexer": "r",
   "version": "3.6.1"
  }
 },
 "nbformat": 4,
 "nbformat_minor": 4
}
