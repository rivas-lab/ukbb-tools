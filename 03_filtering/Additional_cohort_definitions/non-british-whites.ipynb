{
 "cells": [
  {
   "cell_type": "code",
   "execution_count": 1,
   "metadata": {},
   "outputs": [],
   "source": [
    "import pandas as pd\n",
    "import os\n",
    "from functools import reduce"
   ]
  },
  {
   "cell_type": "code",
   "execution_count": 18,
   "metadata": {},
   "outputs": [],
   "source": [
    "import numpy as np"
   ]
  },
  {
   "cell_type": "code",
   "execution_count": 2,
   "metadata": {},
   "outputs": [],
   "source": [
    "# We import the SQC files from the OAK space\n",
    "with open('/oak/stanford/groups/mrivas/ukbb24983/sqc/download/ukb_sqc_v2.fields.txt') as f:\n",
    "    sqc_columns = [x for x in f.read().splitlines() if len(x) > 0]"
   ]
  },
  {
   "cell_type": "code",
   "execution_count": 3,
   "metadata": {},
   "outputs": [
    {
     "name": "stdout",
     "output_type": "stream",
     "text": [
      "(488377, 89)\n",
      "Index(['affymetrix_field_1', 'affymetrix_field_2', 'genotyping_array', 'Batch',\n",
      "       'Plate_Name', 'Well', 'Cluster_CR', 'dQC', 'Internal_Pico_ng_uL',\n",
      "       'Submitted_Gender', 'Inferred_Gender', 'X_intensity', 'Y_intensity',\n",
      "       'Submitted_Plate_Name', 'Submitted_Well', 'sample_qc_missing_rate',\n",
      "       'heterozygosity', 'heterozygosity_pc_corrected', 'het_missing_outliers',\n",
      "       'putative_sex_chromosome_aneuploidy', 'in_kinship_table',\n",
      "       'excluded_from_kinship_inference', 'excess_relatives',\n",
      "       'in_white_British_ancestry_subset', 'used_in_pca_calculation', 'PC1',\n",
      "       'PC2', 'PC3', 'PC4', 'PC5', 'PC6', 'PC7', 'PC8', 'PC9', 'PC10', 'PC11',\n",
      "       'PC12', 'PC13', 'PC14', 'PC15', 'PC16', 'PC17', 'PC18', 'PC19', 'PC20',\n",
      "       'PC21', 'PC22', 'PC23', 'PC24', 'PC25', 'PC26', 'PC27', 'PC28', 'PC29',\n",
      "       'PC30', 'PC31', 'PC32', 'PC33', 'PC34', 'PC35', 'PC36', 'PC37', 'PC38',\n",
      "       'PC39', 'PC40', 'in_Phasing_Input_chr1', 'in_Phasing_Input_chr2',\n",
      "       'in_Phasing_Input_chr3', 'in_Phasing_Input_chr4',\n",
      "       'in_Phasing_Input_chr5', 'in_Phasing_Input_chr6',\n",
      "       'in_Phasing_Input_chr7', 'in_Phasing_Input_chr8',\n",
      "       'in_Phasing_Input_chr9', 'in_Phasing_Input_chr10',\n",
      "       'in_Phasing_Input_chr11', 'in_Phasing_Input_chr12',\n",
      "       'in_Phasing_Input_chr13', 'in_Phasing_Input_chr14',\n",
      "       'in_Phasing_Input_chr15', 'in_Phasing_Input_chr16',\n",
      "       'in_Phasing_Input_chr17', 'in_Phasing_Input_chr18',\n",
      "       'in_Phasing_Input_chr19', 'in_Phasing_Input_chr20',\n",
      "       'in_Phasing_Input_chr21', 'in_Phasing_Input_chr22',\n",
      "       'in_Phasing_Input_chrX', 'in_Phasing_Input_chrXY'],\n",
      "      dtype='object')\n"
     ]
    }
   ],
   "source": [
    "sqc = pd.read_csv(\n",
    "    '/oak/stanford/groups/mrivas/ukbb24983/sqc/download/ukb_sqc_v2.txt',\n",
    "    sep='\\s+', names = sqc_columns\n",
    ")\n",
    "# We get an idea of what is inside the SQC files by looking at the shape and columns\n",
    "print(sqc.shape)\n",
    "print(sqc.columns)"
   ]
  },
  {
   "cell_type": "code",
   "execution_count": 4,
   "metadata": {},
   "outputs": [
    {
     "name": "stdout",
     "output_type": "stream",
     "text": [
      "(488377, 6)\n"
     ]
    },
    {
     "data": {
      "text/html": [
       "<div>\n",
       "<style scoped>\n",
       "    .dataframe tbody tr th:only-of-type {\n",
       "        vertical-align: middle;\n",
       "    }\n",
       "\n",
       "    .dataframe tbody tr th {\n",
       "        vertical-align: top;\n",
       "    }\n",
       "\n",
       "    .dataframe thead th {\n",
       "        text-align: right;\n",
       "    }\n",
       "</style>\n",
       "<table border=\"1\" class=\"dataframe\">\n",
       "  <thead>\n",
       "    <tr style=\"text-align: right;\">\n",
       "      <th></th>\n",
       "      <th>FID</th>\n",
       "      <th>IID</th>\n",
       "      <th>father</th>\n",
       "      <th>mother</th>\n",
       "      <th>sex_1=male_2=female_0=unkonwn</th>\n",
       "      <th>batch</th>\n",
       "    </tr>\n",
       "  </thead>\n",
       "  <tbody>\n",
       "    <tr>\n",
       "      <th>0</th>\n",
       "      <td>2502845</td>\n",
       "      <td>2502845</td>\n",
       "      <td>0</td>\n",
       "      <td>0</td>\n",
       "      <td>1</td>\n",
       "      <td>Batch_b001</td>\n",
       "    </tr>\n",
       "    <tr>\n",
       "      <th>1</th>\n",
       "      <td>2314965</td>\n",
       "      <td>2314965</td>\n",
       "      <td>0</td>\n",
       "      <td>0</td>\n",
       "      <td>2</td>\n",
       "      <td>Batch_b001</td>\n",
       "    </tr>\n",
       "    <tr>\n",
       "      <th>2</th>\n",
       "      <td>1142584</td>\n",
       "      <td>1142584</td>\n",
       "      <td>0</td>\n",
       "      <td>0</td>\n",
       "      <td>2</td>\n",
       "      <td>Batch_b001</td>\n",
       "    </tr>\n",
       "    <tr>\n",
       "      <th>3</th>\n",
       "      <td>3665122</td>\n",
       "      <td>3665122</td>\n",
       "      <td>0</td>\n",
       "      <td>0</td>\n",
       "      <td>2</td>\n",
       "      <td>Batch_b001</td>\n",
       "    </tr>\n",
       "    <tr>\n",
       "      <th>4</th>\n",
       "      <td>4377492</td>\n",
       "      <td>4377492</td>\n",
       "      <td>0</td>\n",
       "      <td>0</td>\n",
       "      <td>2</td>\n",
       "      <td>Batch_b001</td>\n",
       "    </tr>\n",
       "  </tbody>\n",
       "</table>\n",
       "</div>"
      ],
      "text/plain": [
       "       FID      IID  father  mother  sex_1=male_2=female_0=unkonwn       batch\n",
       "0  2502845  2502845       0       0                              1  Batch_b001\n",
       "1  2314965  2314965       0       0                              2  Batch_b001\n",
       "2  1142584  1142584       0       0                              2  Batch_b001\n",
       "3  3665122  3665122       0       0                              2  Batch_b001\n",
       "4  4377492  4377492       0       0                              2  Batch_b001"
      ]
     },
     "execution_count": 4,
     "metadata": {},
     "output_type": "execute_result"
    }
   ],
   "source": [
    "genotype_fam_file = '/oak/stanford/groups/mrivas/ukbb24983/fam/ukb2498_cal_v2_s488370.fam'\n",
    "genotype_fam = pd.read_csv(\n",
    "    genotype_fam_file, sep='\\s+', \n",
    "    names = ['FID', 'IID', 'father', 'mother', 'sex_1=male_2=female_0=unkonwn', 'batch']\n",
    ")\n",
    "print(genotype_fam.shape)\n",
    "genotype_fam.head()"
   ]
  },
  {
   "cell_type": "code",
   "execution_count": 5,
   "metadata": {},
   "outputs": [
    {
     "name": "stdout",
     "output_type": "stream",
     "text": [
      "Total number of exclusions (initial redactions + SQC): 81559\n"
     ]
    }
   ],
   "source": [
    "exclude_sqc = set(\n",
    "    genotype_fam['FID'][\n",
    "        (sqc.used_in_pca_calculation == 0) |\n",
    "        (sqc.het_missing_outliers == 1) |\n",
    "        (sqc.excess_relatives == 1) |\n",
    "        (sqc.putative_sex_chromosome_aneuploidy == 1) |\n",
    "        (genotype_fam.FID < 0)\n",
    "    ]\n",
    ")\n",
    "# The total number of people excluded via SQC metrics and initial redactions\n",
    "print(\"Total number of exclusions (initial redactions + SQC): \" + str(len(exclude_sqc)))"
   ]
  },
  {
   "cell_type": "code",
   "execution_count": 6,
   "metadata": {},
   "outputs": [
    {
     "name": "stdout",
     "output_type": "stream",
     "text": [
      "Total number of redacted individuals: 79\n",
      "Total number of exclusions (redactions + SQC rejections): 81623\n"
     ]
    }
   ],
   "source": [
    "redacted = set()\n",
    "list_indivs = open('/oak/stanford/groups/mrivas/ukbb24983/sqc/w24983_20181016.csv', 'r')\n",
    "for val in list_indivs.read().split():\n",
    "    redacted.add(int(val))\n",
    "list_indivs.close()\n",
    "print(\"Total number of redacted individuals: \" + str(len(redacted)))\n",
    "# We add the newly redacted individuals to the previous set of SQC rejects/initial redactions\n",
    "exclude = exclude_sqc.union(redacted)\n",
    "# This leads to the total number of exclusions...\n",
    "print(\"Total number of exclusions (redactions + SQC rejections): \" + str(len(exclude)))"
   ]
  },
  {
   "cell_type": "code",
   "execution_count": null,
   "metadata": {},
   "outputs": [],
   "source": []
  },
  {
   "cell_type": "code",
   "execution_count": 7,
   "metadata": {},
   "outputs": [],
   "source": [
    "field21000 = pd.read_csv(\n",
    "    'ukb9796.24611.f.21000.tsv.gz', compression='gzip', sep='\\t'\n",
    ")"
   ]
  },
  {
   "cell_type": "code",
   "execution_count": 31,
   "metadata": {},
   "outputs": [],
   "source": [
    "field21000['f.21000'] = [\n",
    "    {x for x in l if (not np.isnan(x) and x not in {-1, -3})} \n",
    "    for l in \n",
    "    field21000[\n",
    "        ['f.21000.0.0', 'f.21000.1.0', 'f.21000.2.0']\n",
    "    ].values\n",
    "]"
   ]
  },
  {
   "cell_type": "code",
   "execution_count": 32,
   "metadata": {},
   "outputs": [],
   "source": [
    "field21000['f.21000.n.uniq'] = field21000['f.21000'].map(lambda x: len(x))"
   ]
  },
  {
   "cell_type": "code",
   "execution_count": 33,
   "metadata": {},
   "outputs": [
    {
     "data": {
      "text/plain": [
       "(756, 6)"
      ]
     },
     "execution_count": 33,
     "metadata": {},
     "output_type": "execute_result"
    }
   ],
   "source": [
    "field21000[field21000['f.21000.n.uniq'] > 1].shape"
   ]
  },
  {
   "cell_type": "code",
   "execution_count": 34,
   "metadata": {},
   "outputs": [
    {
     "data": {
      "text/html": [
       "<div>\n",
       "<style scoped>\n",
       "    .dataframe tbody tr th:only-of-type {\n",
       "        vertical-align: middle;\n",
       "    }\n",
       "\n",
       "    .dataframe tbody tr th {\n",
       "        vertical-align: top;\n",
       "    }\n",
       "\n",
       "    .dataframe thead th {\n",
       "        text-align: right;\n",
       "    }\n",
       "</style>\n",
       "<table border=\"1\" class=\"dataframe\">\n",
       "  <thead>\n",
       "    <tr style=\"text-align: right;\">\n",
       "      <th></th>\n",
       "      <th>f.eid</th>\n",
       "      <th>f.21000.0.0</th>\n",
       "      <th>f.21000.1.0</th>\n",
       "      <th>f.21000.2.0</th>\n",
       "      <th>f.21000</th>\n",
       "      <th>f.21000.n.uniq</th>\n",
       "    </tr>\n",
       "  </thead>\n",
       "  <tbody>\n",
       "    <tr>\n",
       "      <th>340</th>\n",
       "      <td>3894664</td>\n",
       "      <td>2003.0</td>\n",
       "      <td>1003.0</td>\n",
       "      <td>5.0</td>\n",
       "      <td>{2003.0, 5.0, 1003.0}</td>\n",
       "      <td>3</td>\n",
       "    </tr>\n",
       "    <tr>\n",
       "      <th>546</th>\n",
       "      <td>2194101</td>\n",
       "      <td>1.0</td>\n",
       "      <td>1002.0</td>\n",
       "      <td>1001.0</td>\n",
       "      <td>{1.0, 1002.0, 1001.0}</td>\n",
       "      <td>3</td>\n",
       "    </tr>\n",
       "    <tr>\n",
       "      <th>743</th>\n",
       "      <td>4559510</td>\n",
       "      <td>1001.0</td>\n",
       "      <td>NaN</td>\n",
       "      <td>1003.0</td>\n",
       "      <td>{1001.0, 1003.0}</td>\n",
       "      <td>2</td>\n",
       "    </tr>\n",
       "    <tr>\n",
       "      <th>1041</th>\n",
       "      <td>5094397</td>\n",
       "      <td>1001.0</td>\n",
       "      <td>2002.0</td>\n",
       "      <td>NaN</td>\n",
       "      <td>{1001.0, 2002.0}</td>\n",
       "      <td>2</td>\n",
       "    </tr>\n",
       "    <tr>\n",
       "      <th>1074</th>\n",
       "      <td>5590666</td>\n",
       "      <td>3002.0</td>\n",
       "      <td>NaN</td>\n",
       "      <td>3001.0</td>\n",
       "      <td>{3001.0, 3002.0}</td>\n",
       "      <td>2</td>\n",
       "    </tr>\n",
       "  </tbody>\n",
       "</table>\n",
       "</div>"
      ],
      "text/plain": [
       "        f.eid  f.21000.0.0  f.21000.1.0  f.21000.2.0                f.21000  \\\n",
       "340   3894664       2003.0       1003.0          5.0  {2003.0, 5.0, 1003.0}   \n",
       "546   2194101          1.0       1002.0       1001.0  {1.0, 1002.0, 1001.0}   \n",
       "743   4559510       1001.0          NaN       1003.0       {1001.0, 1003.0}   \n",
       "1041  5094397       1001.0       2002.0          NaN       {1001.0, 2002.0}   \n",
       "1074  5590666       3002.0          NaN       3001.0       {3001.0, 3002.0}   \n",
       "\n",
       "      f.21000.n.uniq  \n",
       "340                3  \n",
       "546                3  \n",
       "743                2  \n",
       "1041               2  \n",
       "1074               2  "
      ]
     },
     "execution_count": 34,
     "metadata": {},
     "output_type": "execute_result"
    }
   ],
   "source": [
    "field21000[field21000['f.21000.n.uniq'] > 1].head()"
   ]
  },
  {
   "cell_type": "code",
   "execution_count": 35,
   "metadata": {},
   "outputs": [
    {
     "data": {
      "text/plain": [
       "(499070, 6)"
      ]
     },
     "execution_count": 35,
     "metadata": {},
     "output_type": "execute_result"
    }
   ],
   "source": [
    "field21000[field21000['f.21000.n.uniq'] == 1].shape"
   ]
  },
  {
   "cell_type": "code",
   "execution_count": 38,
   "metadata": {},
   "outputs": [
    {
     "data": {
      "text/plain": [
       "1"
      ]
     },
     "execution_count": 38,
     "metadata": {},
     "output_type": "execute_result"
    }
   ],
   "source": [
    "set([1]).pop()"
   ]
  },
  {
   "cell_type": "code",
   "execution_count": 40,
   "metadata": {},
   "outputs": [],
   "source": [
    "field21000['f.21000.QC'] = field21000['f.21000'].map(\n",
    "    lambda x: x.pop() if len(x) == 1 else np.nan\n",
    ")"
   ]
  },
  {
   "cell_type": "code",
   "execution_count": 41,
   "metadata": {},
   "outputs": [
    {
     "data": {
      "text/html": [
       "<div>\n",
       "<style scoped>\n",
       "    .dataframe tbody tr th:only-of-type {\n",
       "        vertical-align: middle;\n",
       "    }\n",
       "\n",
       "    .dataframe tbody tr th {\n",
       "        vertical-align: top;\n",
       "    }\n",
       "\n",
       "    .dataframe thead th {\n",
       "        text-align: right;\n",
       "    }\n",
       "</style>\n",
       "<table border=\"1\" class=\"dataframe\">\n",
       "  <thead>\n",
       "    <tr style=\"text-align: right;\">\n",
       "      <th></th>\n",
       "      <th>f.eid</th>\n",
       "      <th>f.21000.0.0</th>\n",
       "      <th>f.21000.1.0</th>\n",
       "      <th>f.21000.2.0</th>\n",
       "      <th>f.21000</th>\n",
       "      <th>f.21000.n.uniq</th>\n",
       "      <th>f.21000.QC</th>\n",
       "    </tr>\n",
       "  </thead>\n",
       "  <tbody>\n",
       "    <tr>\n",
       "      <th>0</th>\n",
       "      <td>4646215</td>\n",
       "      <td>1003.0</td>\n",
       "      <td>NaN</td>\n",
       "      <td>NaN</td>\n",
       "      <td>{}</td>\n",
       "      <td>1</td>\n",
       "      <td>1003.0</td>\n",
       "    </tr>\n",
       "    <tr>\n",
       "      <th>1</th>\n",
       "      <td>5007659</td>\n",
       "      <td>1001.0</td>\n",
       "      <td>NaN</td>\n",
       "      <td>NaN</td>\n",
       "      <td>{}</td>\n",
       "      <td>1</td>\n",
       "      <td>1001.0</td>\n",
       "    </tr>\n",
       "    <tr>\n",
       "      <th>2</th>\n",
       "      <td>1038854</td>\n",
       "      <td>1001.0</td>\n",
       "      <td>NaN</td>\n",
       "      <td>NaN</td>\n",
       "      <td>{}</td>\n",
       "      <td>1</td>\n",
       "      <td>1001.0</td>\n",
       "    </tr>\n",
       "    <tr>\n",
       "      <th>3</th>\n",
       "      <td>5441319</td>\n",
       "      <td>1001.0</td>\n",
       "      <td>NaN</td>\n",
       "      <td>NaN</td>\n",
       "      <td>{}</td>\n",
       "      <td>1</td>\n",
       "      <td>1001.0</td>\n",
       "    </tr>\n",
       "    <tr>\n",
       "      <th>4</th>\n",
       "      <td>5743544</td>\n",
       "      <td>1001.0</td>\n",
       "      <td>NaN</td>\n",
       "      <td>1001.0</td>\n",
       "      <td>{}</td>\n",
       "      <td>1</td>\n",
       "      <td>1001.0</td>\n",
       "    </tr>\n",
       "  </tbody>\n",
       "</table>\n",
       "</div>"
      ],
      "text/plain": [
       "     f.eid  f.21000.0.0  f.21000.1.0  f.21000.2.0 f.21000  f.21000.n.uniq  \\\n",
       "0  4646215       1003.0          NaN          NaN      {}               1   \n",
       "1  5007659       1001.0          NaN          NaN      {}               1   \n",
       "2  1038854       1001.0          NaN          NaN      {}               1   \n",
       "3  5441319       1001.0          NaN          NaN      {}               1   \n",
       "4  5743544       1001.0          NaN       1001.0      {}               1   \n",
       "\n",
       "   f.21000.QC  \n",
       "0      1003.0  \n",
       "1      1001.0  \n",
       "2      1001.0  \n",
       "3      1001.0  \n",
       "4      1001.0  "
      ]
     },
     "execution_count": 41,
     "metadata": {},
     "output_type": "execute_result"
    }
   ],
   "source": [
    "field21000.head()"
   ]
  },
  {
   "cell_type": "code",
   "execution_count": 42,
   "metadata": {},
   "outputs": [],
   "source": [
    "whites = {1, 1001, 1002, 1003}"
   ]
  },
  {
   "cell_type": "code",
   "execution_count": 45,
   "metadata": {},
   "outputs": [],
   "source": [
    "british = {1001}"
   ]
  },
  {
   "cell_type": "code",
   "execution_count": 44,
   "metadata": {},
   "outputs": [
    {
     "data": {
      "text/plain": [
       "(472138, 7)"
      ]
     },
     "execution_count": 44,
     "metadata": {},
     "output_type": "execute_result"
    }
   ],
   "source": [
    "field21000[field21000['f.21000.QC'].map(\n",
    "    lambda x: (not np.isnan(x)) and x in whites\n",
    ")].shape"
   ]
  },
  {
   "cell_type": "code",
   "execution_count": 46,
   "metadata": {},
   "outputs": [
    {
     "data": {
      "text/plain": [
       "(29733, 7)"
      ]
     },
     "execution_count": 46,
     "metadata": {},
     "output_type": "execute_result"
    }
   ],
   "source": [
    "field21000[field21000['f.21000.QC'].map(\n",
    "    lambda x: (not np.isnan(x)) and (x in whites) and (x not in british)\n",
    ")].shape"
   ]
  },
  {
   "cell_type": "code",
   "execution_count": 47,
   "metadata": {},
   "outputs": [],
   "source": [
    "non_british_whites = set(field21000[field21000['f.21000.QC'].map(\n",
    "    lambda x: (not np.isnan(x)) and (x in whites) and (x not in british)\n",
    ")]['f.eid'])"
   ]
  },
  {
   "cell_type": "code",
   "execution_count": 48,
   "metadata": {},
   "outputs": [
    {
     "data": {
      "text/plain": [
       "29733"
      ]
     },
     "execution_count": 48,
     "metadata": {},
     "output_type": "execute_result"
    }
   ],
   "source": [
    "len(non_british_whites)"
   ]
  },
  {
   "cell_type": "code",
   "execution_count": 49,
   "metadata": {},
   "outputs": [
    {
     "data": {
      "text/plain": [
       "26471"
      ]
     },
     "execution_count": 49,
     "metadata": {},
     "output_type": "execute_result"
    }
   ],
   "source": [
    "len(non_british_whites - exclude)"
   ]
  },
  {
   "cell_type": "code",
   "execution_count": 50,
   "metadata": {},
   "outputs": [],
   "source": [
    "key='non_british_white'"
   ]
  },
  {
   "cell_type": "code",
   "execution_count": 51,
   "metadata": {},
   "outputs": [],
   "source": [
    "write_dir='/oak/stanford/groups/mrivas/ukbb24983/sqc/population_stratification_w24983_20190411'\n"
   ]
  },
  {
   "cell_type": "code",
   "execution_count": 53,
   "metadata": {},
   "outputs": [],
   "source": [
    "ethnic_groups=dict()\n",
    "ethnic_groups[key] = non_british_whites - exclude"
   ]
  },
  {
   "cell_type": "code",
   "execution_count": 54,
   "metadata": {},
   "outputs": [],
   "source": [
    "pd.DataFrame({\n",
    "    'FID': sorted(ethnic_groups[key]),\n",
    "    'IID': sorted(ethnic_groups[key])\n",
    "}).to_csv(\n",
    "    os.path.join(write_dir, 'ukb24983_{}.phe'.format(key)), sep='\\t', index=False, header=False\n",
    ")"
   ]
  },
  {
   "cell_type": "code",
   "execution_count": null,
   "metadata": {},
   "outputs": [],
   "source": []
  }
 ],
 "metadata": {
  "kernelspec": {
   "display_name": "Python 3",
   "language": "python",
   "name": "python3"
  },
  "language_info": {
   "codemirror_mode": {
    "name": "ipython",
    "version": 3
   },
   "file_extension": ".py",
   "mimetype": "text/x-python",
   "name": "python",
   "nbconvert_exporter": "python",
   "pygments_lexer": "ipython3",
   "version": "3.7.1"
  }
 },
 "nbformat": 4,
 "nbformat_minor": 2
}
