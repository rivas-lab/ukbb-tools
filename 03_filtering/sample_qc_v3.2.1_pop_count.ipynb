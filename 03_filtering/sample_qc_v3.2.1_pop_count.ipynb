{
 "cells": [
  {
   "cell_type": "markdown",
   "metadata": {},
   "source": [
    "# Additional PCA computation for those who are not used in the 5 population definitions\n",
    "#### Yosuke Tanigawa (ytanigaw@stanford.edu)\n",
    "#### Last update: 2020/5/22\n",
    "\n",
    "We defined the 5 populations in UK Biobank. Please see `README.md` file for more details.\n",
    "\n",
    "After applying the standard QC fiter, there are still 28,551 individuals who are not included in those 5 populations.\n",
    "\n",
    "This notebook generates a keep phe file for those 28k individuals. We apply the [`sample_qc_v3.PCA.sh`](sample_qc_v3.PCA.sh) to compute the PCs for those individuals.\n"
   ]
  },
  {
   "cell_type": "code",
   "execution_count": 1,
   "metadata": {},
   "outputs": [],
   "source": [
    "suppressWarnings(suppressPackageStartupMessages({\n",
    "    library(tidyverse)\n",
    "    library(data.table)\n",
    "}))\n"
   ]
  },
  {
   "cell_type": "code",
   "execution_count": 20,
   "metadata": {},
   "outputs": [],
   "source": [
    "# input\n",
    "sqc_f <- '/oak/stanford/groups/mrivas/ukbb24983/sqc/population_stratification_w24983_20200313/ukb24983_master_sqc.20200313.phe'\n",
    "\n",
    "# output\n",
    "out_f <- '/oak/stanford/groups/mrivas/ukbb24983/sqc/population_stratification_w24983_20200522/ukb24983_others.phe'\n"
   ]
  },
  {
   "cell_type": "code",
   "execution_count": 3,
   "metadata": {},
   "outputs": [],
   "source": [
    "sqc_df <- fread(sqc_f)\n"
   ]
  },
  {
   "cell_type": "code",
   "execution_count": 4,
   "metadata": {},
   "outputs": [
    {
     "data": {
      "text/html": [
       "<table>\n",
       "<caption>A tibble: 8 × 2</caption>\n",
       "<thead>\n",
       "\t<tr><th scope=col>population</th><th scope=col>n</th></tr>\n",
       "\t<tr><th scope=col>&lt;chr&gt;</th><th scope=col>&lt;int&gt;</th></tr>\n",
       "</thead>\n",
       "<tbody>\n",
       "\t<tr><td>white_british    </td><td>337138</td></tr>\n",
       "\t<tr><td>NA               </td><td> 28551</td></tr>\n",
       "\t<tr><td>non_british_white</td><td> 24905</td></tr>\n",
       "\t<tr><td>s_asian          </td><td>  7885</td></tr>\n",
       "\t<tr><td>african          </td><td>  6497</td></tr>\n",
       "\t<tr><td>e_asian          </td><td>  1154</td></tr>\n",
       "\t<tr><td>e_asian_outlier  </td><td>   618</td></tr>\n",
       "\t<tr><td>s_asian_outlier  </td><td>    77</td></tr>\n",
       "</tbody>\n",
       "</table>\n"
      ],
      "text/latex": [
       "A tibble: 8 × 2\n",
       "\\begin{tabular}{ll}\n",
       " population & n\\\\\n",
       " <chr> & <int>\\\\\n",
       "\\hline\n",
       "\t white\\_british     & 337138\\\\\n",
       "\t NA                &  28551\\\\\n",
       "\t non\\_british\\_white &  24905\\\\\n",
       "\t s\\_asian           &   7885\\\\\n",
       "\t african           &   6497\\\\\n",
       "\t e\\_asian           &   1154\\\\\n",
       "\t e\\_asian\\_outlier   &    618\\\\\n",
       "\t s\\_asian\\_outlier   &     77\\\\\n",
       "\\end{tabular}\n"
      ],
      "text/markdown": [
       "\n",
       "A tibble: 8 × 2\n",
       "\n",
       "| population &lt;chr&gt; | n &lt;int&gt; |\n",
       "|---|---|\n",
       "| white_british     | 337138 |\n",
       "| NA                |  28551 |\n",
       "| non_british_white |  24905 |\n",
       "| s_asian           |   7885 |\n",
       "| african           |   6497 |\n",
       "| e_asian           |   1154 |\n",
       "| e_asian_outlier   |    618 |\n",
       "| s_asian_outlier   |     77 |\n",
       "\n"
      ],
      "text/plain": [
       "  population        n     \n",
       "1 white_british     337138\n",
       "2 NA                 28551\n",
       "3 non_british_white  24905\n",
       "4 s_asian             7885\n",
       "5 african             6497\n",
       "6 e_asian             1154\n",
       "7 e_asian_outlier      618\n",
       "8 s_asian_outlier       77"
      ]
     },
     "metadata": {},
     "output_type": "display_data"
    }
   ],
   "source": [
    "sqc_df %>% \n",
    "filter(\n",
    "    used_in_pca_calculation == 1, \n",
    "    excess_relatives == 0, \n",
    "    het_missing_outliers == 0, \n",
    "    putative_sex_chromosome_aneuploidy == 0\n",
    ") %>%\n",
    "count(population) %>%\n",
    "arrange(-n)\n"
   ]
  },
  {
   "cell_type": "code",
   "execution_count": 5,
   "metadata": {},
   "outputs": [
    {
     "data": {
      "text/html": [
       "377579"
      ],
      "text/latex": [
       "377579"
      ],
      "text/markdown": [
       "377579"
      ],
      "text/plain": [
       "[1] 377579"
      ]
     },
     "metadata": {},
     "output_type": "display_data"
    }
   ],
   "source": [
    "337138 + 24905 + 7885 + 6497 + 1154"
   ]
  },
  {
   "cell_type": "code",
   "execution_count": 6,
   "metadata": {},
   "outputs": [
    {
     "data": {
      "text/html": [
       "406130"
      ],
      "text/latex": [
       "406130"
      ],
      "text/markdown": [
       "406130"
      ],
      "text/plain": [
       "[1] 406130"
      ]
     },
     "metadata": {},
     "output_type": "display_data"
    }
   ],
   "source": [
    "337138 + 24905 + 7885 + 6497 + 1154 + 28551"
   ]
  },
  {
   "cell_type": "code",
   "execution_count": 7,
   "metadata": {},
   "outputs": [
    {
     "data": {
      "text/html": [
       "1.07561596381155"
      ],
      "text/latex": [
       "1.07561596381155"
      ],
      "text/markdown": [
       "1.07561596381155"
      ],
      "text/plain": [
       "[1] 1.075616"
      ]
     },
     "metadata": {},
     "output_type": "display_data"
    }
   ],
   "source": [
    "(337138 + 24905 + 7885 + 6497 + 1154 + 28551) / (337138 + 24905 + 7885 + 6497 + 1154)"
   ]
  },
  {
   "cell_type": "code",
   "execution_count": 21,
   "metadata": {},
   "outputs": [],
   "source": [
    "sqc_df %>% \n",
    "filter(\n",
    "    used_in_pca_calculation == 1, \n",
    "    excess_relatives == 0, \n",
    "    het_missing_outliers == 0, \n",
    "    putative_sex_chromosome_aneuploidy == 0\n",
    ") %>%\n",
    "filter(is.na(population)) %>%\n",
    "select(FID, IID) %>%\n",
    "fwrite(out_f, sep='\\t', na = \"NA\", quote=F, col.names=F)\n"
   ]
  },
  {
   "cell_type": "code",
   "execution_count": 22,
   "metadata": {},
   "outputs": [],
   "source": [
    "sqc_df %>% \n",
    "filter(\n",
    "    used_in_pca_calculation == 1, \n",
    "    excess_relatives == 0, \n",
    "    het_missing_outliers == 0, \n",
    "    putative_sex_chromosome_aneuploidy == 0\n",
    ") %>%\n",
    "filter(is.na(population)) %>%\n",
    "filter(sex == 0) %>%\n",
    "select(FID, IID) %>%\n",
    "fwrite(str_replace(out_f, '.phe$', '.F.phe'), sep='\\t', na = \"NA\", quote=F, col.names=F)\n"
   ]
  },
  {
   "cell_type": "code",
   "execution_count": 23,
   "metadata": {},
   "outputs": [],
   "source": [
    "sqc_df %>% \n",
    "filter(\n",
    "    used_in_pca_calculation == 1, \n",
    "    excess_relatives == 0, \n",
    "    het_missing_outliers == 0, \n",
    "    putative_sex_chromosome_aneuploidy == 0\n",
    ") %>%\n",
    "filter(is.na(population)) %>%\n",
    "filter(sex == 1) %>%\n",
    "select(FID, IID) %>%\n",
    "fwrite(str_replace(out_f, '.phe$', '.M.phe'), sep='\\t', na = \"NA\", quote=F, col.names=F)\n"
   ]
  },
  {
   "cell_type": "code",
   "execution_count": 24,
   "metadata": {},
   "outputs": [
    {
     "data": {
      "text/html": [
       "'/oak/stanford/groups/mrivas/ukbb24983/sqc/population_stratification_w24983_20200522/ukb24983_others.phe'"
      ],
      "text/latex": [
       "'/oak/stanford/groups/mrivas/ukbb24983/sqc/population\\_stratification\\_w24983\\_20200522/ukb24983\\_others.phe'"
      ],
      "text/markdown": [
       "'/oak/stanford/groups/mrivas/ukbb24983/sqc/population_stratification_w24983_20200522/ukb24983_others.phe'"
      ],
      "text/plain": [
       "[1] \"/oak/stanford/groups/mrivas/ukbb24983/sqc/population_stratification_w24983_20200522/ukb24983_others.phe\""
      ]
     },
     "metadata": {},
     "output_type": "display_data"
    }
   ],
   "source": [
    "out_f"
   ]
  },
  {
   "cell_type": "code",
   "execution_count": null,
   "metadata": {},
   "outputs": [],
   "source": []
  }
 ],
 "metadata": {
  "kernelspec": {
   "display_name": "R",
   "language": "R",
   "name": "ir"
  },
  "language_info": {
   "codemirror_mode": "r",
   "file_extension": ".r",
   "mimetype": "text/x-r-source",
   "name": "R",
   "pygments_lexer": "r",
   "version": "3.6.1"
  }
 },
 "nbformat": 4,
 "nbformat_minor": 4
}
