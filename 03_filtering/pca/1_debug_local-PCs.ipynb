{
 "cells": [
  {
   "cell_type": "code",
   "execution_count": 1,
   "metadata": {},
   "outputs": [],
   "source": [
    "suppressWarnings(suppressPackageStartupMessages({\n",
    "    library(tidyverse)\n",
    "    library(data.table)\n",
    "}))\n"
   ]
  },
  {
   "cell_type": "code",
   "execution_count": 2,
   "metadata": {},
   "outputs": [],
   "source": [
    "pca_d <- '/oak/stanford/groups/mrivas/ukbb24983/sqc/population_stratification_w24983_20200313/pca_20200817'"
   ]
  },
  {
   "cell_type": "code",
   "execution_count": 22,
   "metadata": {},
   "outputs": [],
   "source": [
    "evec_f <- file.path(pca_d, 'ukb24983_%s.eigenvec')\n",
    "evec_alleles_f <- file.path(pca_d, 'ukb24983_%s.eigenvec.allele.zst')\n"
   ]
  },
  {
   "cell_type": "code",
   "execution_count": 51,
   "metadata": {},
   "outputs": [
    {
     "data": {
      "text/html": [
       "'/oak/stanford/groups/mrivas/ukbb24983/sqc/population_stratification_w24983_20200313/pca_20200817/ukb24983_%s.eigenvec'"
      ],
      "text/latex": [
       "'/oak/stanford/groups/mrivas/ukbb24983/sqc/population\\_stratification\\_w24983\\_20200313/pca\\_20200817/ukb24983\\_\\%s.eigenvec'"
      ],
      "text/markdown": [
       "'/oak/stanford/groups/mrivas/ukbb24983/sqc/population_stratification_w24983_20200313/pca_20200817/ukb24983_%s.eigenvec'"
      ],
      "text/plain": [
       "[1] \"/oak/stanford/groups/mrivas/ukbb24983/sqc/population_stratification_w24983_20200313/pca_20200817/ukb24983_%s.eigenvec\""
      ]
     },
     "metadata": {},
     "output_type": "display_data"
    }
   ],
   "source": [
    "evec_f"
   ]
  },
  {
   "cell_type": "code",
   "execution_count": 12,
   "metadata": {},
   "outputs": [],
   "source": [
    "pop <- 'white_british'\n"
   ]
  },
  {
   "cell_type": "code",
   "execution_count": 13,
   "metadata": {},
   "outputs": [],
   "source": [
    "evec <- fread(sprintf(evec_f, pop), colClasses=c('#FID'='character', 'IID'='character')) %>%\n",
    "rename('FID'='#FID')\n"
   ]
  },
  {
   "cell_type": "code",
   "execution_count": 24,
   "metadata": {},
   "outputs": [],
   "source": [
    "evec_alleles <- fread(cmd=paste('zstdcat', sprintf(evec_alleles_f, pop)), colClasses=c('#CHROM'='character', 'ID'='character')) %>%\n",
    "rename('CHROM'='#CHROM')\n"
   ]
  },
  {
   "cell_type": "code",
   "execution_count": 14,
   "metadata": {},
   "outputs": [],
   "source": [
    "p <- evec %>% \n",
    "ggplot(aes(x=PC1, y=PC2)) +\n",
    "stat_density_2d(aes(fill = ..level..), geom = \"polygon\") +\n",
    "theme_bw()"
   ]
  },
  {
   "cell_type": "code",
   "execution_count": 15,
   "metadata": {},
   "outputs": [
    {
     "data": {
      "image/png": "[encoded data removed]",
      "text/plain": [
       "plot without title"
      ]
     },
     "metadata": {
      "image/png": {
       "height": 420,
       "width": 420
      },
      "text/plain": {
       "height": 420,
       "width": 420
      }
     },
     "output_type": "display_data"
    }
   ],
   "source": [
    "p"
   ]
  },
  {
   "cell_type": "code",
   "execution_count": 34,
   "metadata": {},
   "outputs": [
    {
     "data": {
      "text/html": [
       "467232"
      ],
      "text/latex": [
       "467232"
      ],
      "text/markdown": [
       "467232"
      ],
      "text/plain": [
       "[1] 467232"
      ]
     },
     "metadata": {},
     "output_type": "display_data"
    }
   ],
   "source": [
    "233616 * 2"
   ]
  },
  {
   "cell_type": "code",
   "execution_count": 33,
   "metadata": {},
   "outputs": [
    {
     "data": {
      "text/html": [
       "<style>\n",
       ".list-inline {list-style: none; margin:0; padding: 0}\n",
       ".list-inline>li {display: inline-block}\n",
       ".list-inline>li:not(:last-child)::after {content: \"\\00b7\"; padding: 0 .5ex}\n",
       "</style>\n",
       "<ol class=list-inline><li>467232</li><li>48</li></ol>\n"
      ],
      "text/latex": [
       "\\begin{enumerate*}\n",
       "\\item 467232\n",
       "\\item 48\n",
       "\\end{enumerate*}\n"
      ],
      "text/markdown": [
       "1. 467232\n",
       "2. 48\n",
       "\n",
       "\n"
      ],
      "text/plain": [
       "[1] 467232     48"
      ]
     },
     "metadata": {},
     "output_type": "display_data"
    }
   ],
   "source": [
    "evec_alleles %>% dim()"
   ]
  },
  {
   "cell_type": "code",
   "execution_count": 32,
   "metadata": {},
   "outputs": [
    {
     "data": {
      "text/html": [
       "233616"
      ],
      "text/latex": [
       "233616"
      ],
      "text/markdown": [
       "233616"
      ],
      "text/plain": [
       "[1] 233616"
      ]
     },
     "metadata": {},
     "output_type": "display_data"
    }
   ],
   "source": [
    "evec_alleles %>%\n",
    "select(ID) %>% pull() %>% unique() %>% length()"
   ]
  },
  {
   "cell_type": "code",
   "execution_count": 41,
   "metadata": {},
   "outputs": [
    {
     "data": {
      "text/plain": [
       "    abs_PC1        \n",
       " Min.   : 0.00000  \n",
       " 1st Qu.: 0.01890  \n",
       " Median : 0.04007  \n",
       " Mean   : 0.06728  \n",
       " 3rd Qu.: 0.06844  \n",
       " Max.   :25.46180  "
      ]
     },
     "metadata": {},
     "output_type": "display_data"
    }
   ],
   "source": [
    "evec_alleles %>%\n",
    "filter(ALT1 == ALT, A1 == ALT) %>%\n",
    "mutate(abs_PC1 = abs(PC1)) %>%\n",
    "select(abs_PC1) %>%\n",
    "summary()"
   ]
  },
  {
   "cell_type": "code",
   "execution_count": 42,
   "metadata": {},
   "outputs": [
    {
     "data": {
      "text/html": [
       "<table>\n",
       "<caption>A data.table: 100 × 48</caption>\n",
       "<thead>\n",
       "\t<tr><th scope=col>CHROM</th><th scope=col>POS</th><th scope=col>ID</th><th scope=col>REF</th><th scope=col>ALT1</th><th scope=col>ALT</th><th scope=col>A1</th><th scope=col>AX</th><th scope=col>PC1</th><th scope=col>PC2</th><th scope=col>⋯</th><th scope=col>PC31</th><th scope=col>PC32</th><th scope=col>PC33</th><th scope=col>PC34</th><th scope=col>PC35</th><th scope=col>PC36</th><th scope=col>PC37</th><th scope=col>PC38</th><th scope=col>PC39</th><th scope=col>PC40</th></tr>\n",
       "\t<tr><th scope=col>&lt;chr&gt;</th><th scope=col>&lt;int&gt;</th><th scope=col>&lt;chr&gt;</th><th scope=col>&lt;chr&gt;</th><th scope=col>&lt;chr&gt;</th><th scope=col>&lt;chr&gt;</th><th scope=col>&lt;chr&gt;</th><th scope=col>&lt;chr&gt;</th><th scope=col>&lt;dbl&gt;</th><th scope=col>&lt;dbl&gt;</th><th scope=col>⋯</th><th scope=col>&lt;dbl&gt;</th><th scope=col>&lt;dbl&gt;</th><th scope=col>&lt;dbl&gt;</th><th scope=col>&lt;dbl&gt;</th><th scope=col>&lt;dbl&gt;</th><th scope=col>&lt;dbl&gt;</th><th scope=col>&lt;dbl&gt;</th><th scope=col>&lt;dbl&gt;</th><th scope=col>&lt;dbl&gt;</th><th scope=col>&lt;dbl&gt;</th></tr>\n",
       "</thead>\n",
       "<tbody>\n",
       "\t<tr><td>8</td><td> 8661534</td><td>rs12547493</td><td>T</td><td>C</td><td>C</td><td>C</td><td>T</td><td> 25.4618</td><td> 1.532580</td><td>⋯</td><td>-0.03733320</td><td> 0.098843900</td><td> 0.02703750</td><td> 0.03768280</td><td> 0.08106880</td><td>-0.06346750</td><td> 0.0439513</td><td>-0.05330070</td><td>-0.19334500</td><td>-0.11376800</td></tr>\n",
       "\t<tr><td>8</td><td> 8379107</td><td>rs7826660 </td><td>C</td><td>A</td><td>A</td><td>A</td><td>C</td><td> 25.3469</td><td> 1.319930</td><td>⋯</td><td>-0.08613090</td><td> 0.076455900</td><td> 0.10647700</td><td>-0.00944706</td><td> 0.07672260</td><td>-0.12687400</td><td>-0.0894347</td><td> 0.02717320</td><td> 0.04046430</td><td>-0.01894710</td></tr>\n",
       "\t<tr><td>8</td><td>11045161</td><td>rs7819412 </td><td>G</td><td>A</td><td>A</td><td>A</td><td>G</td><td>-24.4504</td><td>-1.400150</td><td>⋯</td><td> 0.02894470</td><td> 0.044574600</td><td>-0.05957420</td><td>-0.05737150</td><td> 0.00377354</td><td>-0.04059510</td><td>-0.0370403</td><td>-0.03056320</td><td>-0.00392719</td><td> 0.00887570</td></tr>\n",
       "\t<tr><td>8</td><td> 9084341</td><td>rs2929453 </td><td>T</td><td>C</td><td>C</td><td>C</td><td>T</td><td>-24.0146</td><td>-1.585840</td><td>⋯</td><td> 0.01685820</td><td>-0.087602300</td><td>-0.12910500</td><td> 0.13845400</td><td> 0.07417130</td><td>-0.10108600</td><td>-0.0891405</td><td>-0.12641500</td><td> 0.05209420</td><td> 0.04017110</td></tr>\n",
       "\t<tr><td>8</td><td>11396874</td><td>rs2248325 </td><td>A</td><td>G</td><td>G</td><td>G</td><td>A</td><td>-23.8449</td><td>-1.366630</td><td>⋯</td><td> 0.03565560</td><td>-0.035131600</td><td>-0.08746350</td><td> 0.02143470</td><td> 0.08285040</td><td> 0.01396560</td><td>-0.0563548</td><td>-0.05361500</td><td> 0.03062450</td><td>-0.05217300</td></tr>\n",
       "\t<tr><td>8</td><td> 9818065</td><td>rs591346  </td><td>C</td><td>T</td><td>T</td><td>T</td><td>C</td><td>-23.3825</td><td>-1.136920</td><td>⋯</td><td>-0.11835600</td><td>-0.163718000</td><td> 0.22245800</td><td> 0.02720840</td><td>-0.11907700</td><td>-0.15465200</td><td> 0.1223470</td><td>-0.02352560</td><td> 0.02028720</td><td> 0.08078330</td></tr>\n",
       "\t<tr><td>8</td><td>11831948</td><td>rs7461062 </td><td>T</td><td>C</td><td>C</td><td>C</td><td>T</td><td> 22.6560</td><td> 0.908457</td><td>⋯</td><td>-0.06732460</td><td>-0.105255000</td><td>-0.01724550</td><td>-0.00684241</td><td>-0.12794500</td><td>-0.07842430</td><td> 0.2181750</td><td> 0.16412500</td><td> 0.10967100</td><td>-0.01038460</td></tr>\n",
       "\t<tr><td>8</td><td>11525435</td><td>rs11250157</td><td>G</td><td>A</td><td>A</td><td>A</td><td>G</td><td> 22.5084</td><td> 1.045220</td><td>⋯</td><td>-0.16750200</td><td>-0.026742500</td><td>-0.01444330</td><td> 0.01152190</td><td>-0.07414600</td><td>-0.04667160</td><td> 0.0359496</td><td> 0.09354550</td><td> 0.08963490</td><td> 0.00836383</td></tr>\n",
       "\t<tr><td>8</td><td>10251265</td><td>rs11249999</td><td>T</td><td>C</td><td>C</td><td>C</td><td>T</td><td> 22.1274</td><td> 1.253080</td><td>⋯</td><td> 0.01564780</td><td>-0.133425000</td><td>-0.05162850</td><td>-0.01960960</td><td> 0.04231650</td><td>-0.05513400</td><td>-0.1702140</td><td> 0.05512590</td><td> 0.10687800</td><td>-0.13253500</td></tr>\n",
       "\t<tr><td>8</td><td>10766082</td><td>rs6997997 </td><td>T</td><td>C</td><td>C</td><td>C</td><td>T</td><td>-22.0754</td><td>-1.248720</td><td>⋯</td><td> 0.35369900</td><td> 0.000272716</td><td> 0.01683590</td><td>-0.10301400</td><td>-0.16678800</td><td>-0.07856500</td><td>-0.2011180</td><td> 0.12658300</td><td> 0.08135600</td><td>-0.03973280</td></tr>\n",
       "\t<tr><td>8</td><td>10098902</td><td>rs12156387</td><td>A</td><td>G</td><td>G</td><td>G</td><td>A</td><td>-21.6969</td><td>-0.994503</td><td>⋯</td><td>-0.16708300</td><td>-0.339079000</td><td> 0.00710912</td><td>-0.01825710</td><td>-0.06420910</td><td>-0.11012000</td><td> 0.3025940</td><td> 0.24588700</td><td>-0.38347100</td><td>-0.11759500</td></tr>\n",
       "\t<tr><td>8</td><td> 8929130</td><td>rs7846644 </td><td>A</td><td>C</td><td>C</td><td>C</td><td>A</td><td>-21.6468</td><td>-1.662120</td><td>⋯</td><td>-0.05937420</td><td> 0.125752000</td><td> 0.03215620</td><td>-0.21034800</td><td> 0.06240500</td><td> 0.21003000</td><td>-0.0687000</td><td> 0.12641000</td><td>-0.01371310</td><td> 0.20875400</td></tr>\n",
       "\t<tr><td>8</td><td>11258456</td><td>rs4841527 </td><td>T</td><td>G</td><td>G</td><td>G</td><td>T</td><td> 21.4825</td><td> 1.581130</td><td>⋯</td><td>-0.17064600</td><td> 0.036148300</td><td> 0.07160970</td><td> 0.04578370</td><td>-0.10932000</td><td>-0.04932720</td><td> 0.0789649</td><td>-0.14490800</td><td>-0.11700800</td><td> 0.04909210</td></tr>\n",
       "\t<tr><td>8</td><td>11462517</td><td>rs13248109</td><td>C</td><td>A</td><td>A</td><td>A</td><td>C</td><td>-20.8913</td><td>-0.782298</td><td>⋯</td><td>-0.10116100</td><td> 0.043932400</td><td>-0.02070450</td><td> 0.10361600</td><td> 0.06410860</td><td> 0.06286250</td><td>-0.0232753</td><td>-0.15199900</td><td>-0.09823810</td><td> 0.01709290</td></tr>\n",
       "\t<tr><td>8</td><td> 8974338</td><td>rs4841103 </td><td>C</td><td>T</td><td>T</td><td>T</td><td>C</td><td>-20.8405</td><td>-1.398200</td><td>⋯</td><td> 0.06127860</td><td>-0.003504760</td><td>-0.09003060</td><td> 0.09923800</td><td> 0.10869700</td><td> 0.31283900</td><td>-0.0744493</td><td>-0.02866110</td><td> 0.10828200</td><td> 0.01652930</td></tr>\n",
       "\t<tr><td>8</td><td>11455262</td><td>rs34876360</td><td>G</td><td>A</td><td>A</td><td>A</td><td>G</td><td> 20.8108</td><td> 1.715970</td><td>⋯</td><td>-0.03064810</td><td>-0.022933700</td><td> 0.13665900</td><td>-0.00663613</td><td> 0.06669470</td><td> 0.02558060</td><td>-0.0995190</td><td> 0.03737090</td><td>-0.14150500</td><td> 0.00236457</td></tr>\n",
       "\t<tr><td>8</td><td> 8959671</td><td>rs28649568</td><td>T</td><td>G</td><td>G</td><td>G</td><td>T</td><td>-20.4805</td><td>-1.702630</td><td>⋯</td><td> 0.25970300</td><td>-0.177878000</td><td> 0.01718740</td><td> 0.18830100</td><td>-0.05254710</td><td>-0.02490810</td><td>-0.1831370</td><td> 0.06057080</td><td> 0.14616800</td><td>-0.12488000</td></tr>\n",
       "\t<tr><td>8</td><td> 9653902</td><td>rs4841218 </td><td>T</td><td>C</td><td>C</td><td>C</td><td>T</td><td>-20.4525</td><td>-1.168620</td><td>⋯</td><td>-0.25253400</td><td> 0.069524300</td><td> 0.40719900</td><td> 0.11269400</td><td>-0.09025020</td><td>-0.10904600</td><td> 0.2455390</td><td>-0.14699600</td><td> 0.18609100</td><td> 0.21104500</td></tr>\n",
       "\t<tr><td>8</td><td>10321881</td><td>rs6601465 </td><td>A</td><td>G</td><td>G</td><td>G</td><td>A</td><td> 20.4426</td><td> 1.211000</td><td>⋯</td><td>-0.27365600</td><td>-0.160089000</td><td> 0.09264340</td><td> 0.16798000</td><td> 0.20519400</td><td> 0.02199780</td><td>-0.1586390</td><td>-0.07850080</td><td> 0.14647700</td><td> 0.11963400</td></tr>\n",
       "\t<tr><td>8</td><td> 9143521</td><td>rs11249913</td><td>T</td><td>G</td><td>G</td><td>G</td><td>T</td><td> 20.3476</td><td> 0.650494</td><td>⋯</td><td> 0.12655500</td><td> 0.121695000</td><td>-0.12338300</td><td>-0.09743430</td><td> 0.02181800</td><td> 0.11680900</td><td>-0.0388143</td><td> 0.07574070</td><td>-0.31670100</td><td>-0.12638800</td></tr>\n",
       "\t<tr><td>8</td><td>10466482</td><td>rs13267180</td><td>G</td><td>A</td><td>A</td><td>A</td><td>G</td><td>-20.2321</td><td>-0.595473</td><td>⋯</td><td> 0.09303880</td><td> 0.205260000</td><td> 0.17727400</td><td>-0.08749910</td><td> 0.01312950</td><td>-0.25817500</td><td>-0.1130790</td><td> 0.17665200</td><td> 0.03183840</td><td> 0.19257200</td></tr>\n",
       "\t<tr><td>8</td><td> 8139331</td><td>rs793508  </td><td>C</td><td>T</td><td>T</td><td>T</td><td>C</td><td>-20.1826</td><td>-0.787354</td><td>⋯</td><td>-0.15494000</td><td> 0.263635000</td><td>-0.03582310</td><td>-0.11590000</td><td> 0.05270570</td><td> 0.25988900</td><td> 0.2155340</td><td> 0.06697040</td><td>-0.01454260</td><td> 0.09284560</td></tr>\n",
       "\t<tr><td>8</td><td>11333353</td><td>rs936546  </td><td>C</td><td>T</td><td>T</td><td>T</td><td>C</td><td>-20.1353</td><td>-1.572280</td><td>⋯</td><td> 0.24814500</td><td>-0.056761700</td><td> 0.00175213</td><td>-0.27927800</td><td>-0.00758199</td><td>-0.00161733</td><td>-0.1005480</td><td> 0.00725383</td><td>-0.13092100</td><td>-0.07723560</td></tr>\n",
       "\t<tr><td>8</td><td> 8783506</td><td>rs878504  </td><td>A</td><td>G</td><td>G</td><td>G</td><td>A</td><td> 19.7797</td><td> 0.920778</td><td>⋯</td><td>-0.03613200</td><td>-0.011866200</td><td> 0.08480670</td><td>-0.05102990</td><td>-0.05592090</td><td>-0.00091294</td><td>-0.1923150</td><td>-0.11103500</td><td> 0.05776010</td><td> 0.10797900</td></tr>\n",
       "\t<tr><td>8</td><td>11856864</td><td>rs7835672 </td><td>C</td><td>T</td><td>T</td><td>T</td><td>C</td><td> 19.5652</td><td> 1.064790</td><td>⋯</td><td>-0.05983680</td><td> 0.088301400</td><td>-0.00850313</td><td> 0.03674730</td><td> 0.07095330</td><td> 0.11113800</td><td> 0.2774530</td><td> 0.08284650</td><td>-0.03769630</td><td>-0.05166330</td></tr>\n",
       "\t<tr><td>8</td><td>11838932</td><td>rs10086500</td><td>A</td><td>G</td><td>G</td><td>G</td><td>A</td><td> 19.2532</td><td> 0.853142</td><td>⋯</td><td>-0.03055290</td><td> 0.093415300</td><td> 0.02561360</td><td>-0.10309500</td><td> 0.08482670</td><td>-0.09049060</td><td> 0.1422810</td><td> 0.07185450</td><td> 0.06007290</td><td> 0.08129170</td></tr>\n",
       "\t<tr><td>8</td><td>11665217</td><td>rs1736057 </td><td>G</td><td>A</td><td>A</td><td>A</td><td>G</td><td> 19.2343</td><td> 0.748065</td><td>⋯</td><td>-0.06236660</td><td>-0.225110000</td><td> 0.03495220</td><td>-0.05599960</td><td> 0.01006920</td><td>-0.16908500</td><td> 0.2139130</td><td> 0.20616300</td><td> 0.13762700</td><td> 0.08425160</td></tr>\n",
       "\t<tr><td>8</td><td>11002093</td><td>rs6986002 </td><td>C</td><td>T</td><td>T</td><td>T</td><td>C</td><td>-19.0340</td><td>-1.215370</td><td>⋯</td><td>-0.00643048</td><td> 0.208376000</td><td> 0.10193700</td><td> 0.10795400</td><td> 0.08635000</td><td> 0.01729810</td><td>-0.2125570</td><td> 0.08079850</td><td> 0.13905600</td><td> 0.19130400</td></tr>\n",
       "\t<tr><td>8</td><td> 9154065</td><td>rs330081  </td><td>C</td><td>A</td><td>A</td><td>A</td><td>C</td><td> 18.9972</td><td> 1.327610</td><td>⋯</td><td> 0.00130824</td><td>-0.114248000</td><td> 0.12873200</td><td>-0.19404800</td><td> 0.05527540</td><td> 0.44020400</td><td>-0.2034010</td><td> 0.06173810</td><td> 0.09519630</td><td> 0.05529140</td></tr>\n",
       "\t<tr><td>8</td><td> 9048104</td><td>rs2929301 </td><td>G</td><td>A</td><td>A</td><td>A</td><td>G</td><td>-18.6843</td><td>-1.094250</td><td>⋯</td><td>-0.08359570</td><td>-0.041441900</td><td> 0.08476340</td><td> 0.24918900</td><td> 0.31201100</td><td> 0.04595660</td><td> 0.3395620</td><td>-0.22248800</td><td> 0.08131970</td><td>-0.00106875</td></tr>\n",
       "\t<tr><td>⋮</td><td>⋮</td><td>⋮</td><td>⋮</td><td>⋮</td><td>⋮</td><td>⋮</td><td>⋮</td><td>⋮</td><td>⋮</td><td>⋱</td><td>⋮</td><td>⋮</td><td>⋮</td><td>⋮</td><td>⋮</td><td>⋮</td><td>⋮</td><td>⋮</td><td>⋮</td><td>⋮</td></tr>\n",
       "\t<tr><td>8</td><td> 9111855</td><td>rs57954207</td><td>G</td><td>T</td><td>T</td><td>T</td><td>G</td><td> 15.6103</td><td> 0.818593</td><td>⋯</td><td> 0.22513300</td><td> 0.20983900</td><td>-0.080461800</td><td>-0.10486200</td><td>-0.06096350</td><td>-4.37660e-02</td><td>-0.4304080</td><td> 0.07588520</td><td>-0.24811700</td><td> 0.0538071</td></tr>\n",
       "\t<tr><td>8</td><td> 8997614</td><td>rs330920  </td><td>C</td><td>T</td><td>T</td><td>T</td><td>C</td><td> 15.4396</td><td> 1.090300</td><td>⋯</td><td> 0.06558760</td><td> 0.05961780</td><td> 0.062026200</td><td>-0.12325600</td><td>-0.12813600</td><td>-4.12978e-01</td><td> 0.2552270</td><td> 0.34956700</td><td>-0.26407700</td><td> 0.0244164</td></tr>\n",
       "\t<tr><td>8</td><td> 9328926</td><td>rs7007562 </td><td>A</td><td>G</td><td>G</td><td>G</td><td>A</td><td> 15.4211</td><td> 0.970278</td><td>⋯</td><td>-0.24877700</td><td>-0.14297100</td><td> 0.276103000</td><td> 0.26381400</td><td>-0.04788950</td><td>-1.60597e-01</td><td> 0.0475102</td><td> 0.16557100</td><td> 0.11206600</td><td> 0.0418688</td></tr>\n",
       "\t<tr><td>8</td><td>10105661</td><td>rs4563888 </td><td>G</td><td>A</td><td>A</td><td>A</td><td>G</td><td> 15.3471</td><td> 0.311815</td><td>⋯</td><td> 0.06554860</td><td> 0.11406300</td><td>-0.114005000</td><td> 0.01581990</td><td>-0.00258946</td><td> 1.27799e-01</td><td> 0.1856600</td><td> 0.05024800</td><td>-0.02913280</td><td>-0.2120230</td></tr>\n",
       "\t<tr><td>8</td><td> 8266309</td><td>rs2030280 </td><td>A</td><td>G</td><td>G</td><td>G</td><td>A</td><td> 15.3203</td><td> 0.689634</td><td>⋯</td><td> 0.27271900</td><td>-0.20928300</td><td> 0.147506000</td><td> 0.03634490</td><td> 0.02713460</td><td>-2.52896e-01</td><td>-0.0353646</td><td>-0.06683360</td><td>-0.12018500</td><td> 0.0910785</td></tr>\n",
       "\t<tr><td>8</td><td> 8974673</td><td>rs56135405</td><td>A</td><td>G</td><td>G</td><td>G</td><td>A</td><td> 15.3100</td><td> 1.574450</td><td>⋯</td><td>-0.00223021</td><td> 0.02816920</td><td> 0.169922000</td><td>-0.03980630</td><td>-0.21554300</td><td>-2.75274e-01</td><td> 0.0963103</td><td> 0.22599700</td><td>-0.10746300</td><td> 0.1484100</td></tr>\n",
       "\t<tr><td>8</td><td>11851156</td><td>rs4604485 </td><td>T</td><td>C</td><td>C</td><td>C</td><td>T</td><td> 15.2855</td><td> 0.895419</td><td>⋯</td><td>-0.07909050</td><td> 0.09539100</td><td> 0.038816400</td><td>-0.14119000</td><td> 0.07892740</td><td> 9.92642e-02</td><td> 0.2922470</td><td>-0.00987182</td><td> 0.17640600</td><td>-0.0649041</td></tr>\n",
       "\t<tr><td>8</td><td> 8349757</td><td>rs6997361 </td><td>C</td><td>T</td><td>T</td><td>T</td><td>C</td><td>-15.2324</td><td>-0.731294</td><td>⋯</td><td>-0.05811280</td><td>-0.29546200</td><td>-0.150816000</td><td>-0.16899600</td><td>-0.24348500</td><td> 1.25574e-01</td><td>-0.1962080</td><td> 0.05052780</td><td> 0.04429180</td><td> 0.0935128</td></tr>\n",
       "\t<tr><td>8</td><td> 9029068</td><td>rs424481  </td><td>C</td><td>T</td><td>T</td><td>T</td><td>C</td><td> 15.0558</td><td> 0.891661</td><td>⋯</td><td> 0.00265423</td><td>-0.08541930</td><td> 0.131875000</td><td>-0.30119900</td><td>-0.19461000</td><td>-4.15269e-01</td><td> 0.1329400</td><td> 0.17914700</td><td>-0.09112320</td><td> 0.1688460</td></tr>\n",
       "\t<tr><td>8</td><td>11699988</td><td>rs1692821 </td><td>C</td><td>T</td><td>T</td><td>T</td><td>C</td><td>-15.0303</td><td>-1.581080</td><td>⋯</td><td> 0.58507800</td><td>-0.05477390</td><td> 0.179974000</td><td> 0.08052560</td><td> 0.03215730</td><td> 9.31696e-02</td><td>-0.1151760</td><td> 0.20739800</td><td> 0.25648700</td><td> 0.0386783</td></tr>\n",
       "\t<tr><td>8</td><td>10963619</td><td>rs62488580</td><td>G</td><td>T</td><td>T</td><td>T</td><td>G</td><td> 15.0139</td><td> 0.639424</td><td>⋯</td><td>-0.26406500</td><td>-0.10680800</td><td> 0.049374100</td><td>-0.02908630</td><td>-0.12964100</td><td>-4.53883e-03</td><td> 0.0574023</td><td>-0.01609730</td><td> 0.06422550</td><td>-0.2313700</td></tr>\n",
       "\t<tr><td>8</td><td>11403769</td><td>rs2244931 </td><td>C</td><td>G</td><td>G</td><td>G</td><td>C</td><td> 14.8453</td><td> 0.360743</td><td>⋯</td><td>-0.15942200</td><td>-0.20923500</td><td>-0.085917600</td><td> 0.15516100</td><td> 0.19506200</td><td>-2.73754e-01</td><td>-0.0315038</td><td> 0.34825800</td><td> 0.07006390</td><td> 0.1021790</td></tr>\n",
       "\t<tr><td>8</td><td>10383138</td><td>rs35102108</td><td>G</td><td>A</td><td>A</td><td>A</td><td>G</td><td> 14.6731</td><td> 0.743775</td><td>⋯</td><td>-0.54026600</td><td>-0.03665930</td><td> 0.007915710</td><td>-0.00368842</td><td> 0.13854800</td><td> 1.42895e-01</td><td>-0.1592830</td><td> 0.09489980</td><td> 0.37525200</td><td>-0.2304790</td></tr>\n",
       "\t<tr><td>8</td><td>11354933</td><td>rs4606022 </td><td>A</td><td>G</td><td>G</td><td>G</td><td>A</td><td>-14.6187</td><td>-1.035470</td><td>⋯</td><td> 0.09176860</td><td> 0.02084360</td><td> 0.245832000</td><td>-0.23998300</td><td>-0.06945780</td><td> 8.30796e-02</td><td> 0.0909649</td><td>-0.19665400</td><td>-0.23326600</td><td>-0.1577720</td></tr>\n",
       "\t<tr><td>8</td><td>10280818</td><td>rs6985267 </td><td>A</td><td>C</td><td>C</td><td>C</td><td>A</td><td> 14.5804</td><td> 0.676516</td><td>⋯</td><td> 0.18703700</td><td> 0.06030040</td><td>-0.208592000</td><td>-0.10272600</td><td>-0.19525800</td><td> 2.10812e-01</td><td> 0.1503980</td><td> 0.03323420</td><td>-0.21088900</td><td> 0.0481308</td></tr>\n",
       "\t<tr><td>8</td><td>11615695</td><td>rs745379  </td><td>A</td><td>G</td><td>G</td><td>G</td><td>A</td><td>-14.5539</td><td> 0.295556</td><td>⋯</td><td>-0.02012050</td><td> 0.15660200</td><td> 0.046490400</td><td> 0.16928600</td><td>-0.00720093</td><td>-9.65552e-05</td><td>-0.0214625</td><td>-0.10178200</td><td> 0.07197600</td><td> 0.0841104</td></tr>\n",
       "\t<tr><td>8</td><td> 9221080</td><td>rs922049  </td><td>C</td><td>A</td><td>A</td><td>A</td><td>C</td><td>-14.5112</td><td>-0.118041</td><td>⋯</td><td>-0.45620500</td><td>-0.25162400</td><td> 0.116032000</td><td>-0.07012250</td><td>-0.03241720</td><td>-1.72164e-01</td><td> 0.0242250</td><td> 0.06852650</td><td> 0.19674500</td><td>-0.0721852</td></tr>\n",
       "\t<tr><td>8</td><td> 8848993</td><td>rs6998594 </td><td>T</td><td>C</td><td>C</td><td>C</td><td>T</td><td>-14.4809</td><td>-0.726565</td><td>⋯</td><td>-0.59522000</td><td> 0.28758900</td><td>-0.088921000</td><td>-0.29890500</td><td> 0.41973500</td><td> 6.06713e-01</td><td> 0.3005500</td><td>-0.01911210</td><td> 0.05754870</td><td> 0.4466650</td></tr>\n",
       "\t<tr><td>8</td><td> 9046312</td><td>rs1968853 </td><td>A</td><td>C</td><td>C</td><td>C</td><td>A</td><td> 14.4404</td><td> 0.788183</td><td>⋯</td><td> 0.07054270</td><td>-0.13654000</td><td>-0.141010000</td><td>-0.24089100</td><td>-0.33472800</td><td> 5.97761e-02</td><td>-0.2190970</td><td> 0.36791400</td><td> 0.12341800</td><td>-0.0931145</td></tr>\n",
       "\t<tr><td>8</td><td> 8174533</td><td>rs2980505 </td><td>T</td><td>C</td><td>C</td><td>C</td><td>T</td><td> 14.2922</td><td> 0.706992</td><td>⋯</td><td>-0.05750970</td><td> 0.10734800</td><td>-0.092585700</td><td>-0.13047300</td><td> 0.01541770</td><td> 2.04833e-01</td><td> 0.0936835</td><td>-0.04407230</td><td> 0.20162600</td><td> 0.0360818</td></tr>\n",
       "\t<tr><td>8</td><td>10323484</td><td>rs7016808 </td><td>G</td><td>A</td><td>A</td><td>A</td><td>G</td><td> 14.2512</td><td> 1.084160</td><td>⋯</td><td> 0.35196000</td><td> 0.12107900</td><td>-0.047071200</td><td>-0.31089600</td><td> 0.15857300</td><td> 1.66577e-01</td><td>-0.3319140</td><td>-0.09863350</td><td> 0.42323200</td><td> 0.1411730</td></tr>\n",
       "\t<tr><td>8</td><td>10071620</td><td>rs11775334</td><td>A</td><td>G</td><td>G</td><td>G</td><td>A</td><td>-14.1752</td><td>-0.691232</td><td>⋯</td><td>-0.22772500</td><td>-0.34263900</td><td> 0.297241000</td><td> 0.03842010</td><td> 0.03749250</td><td>-9.65668e-02</td><td> 0.0610365</td><td>-0.04132830</td><td>-0.15144300</td><td> 0.0706476</td></tr>\n",
       "\t<tr><td>8</td><td> 8472561</td><td>rs9329274 </td><td>G</td><td>A</td><td>A</td><td>A</td><td>G</td><td>-14.0414</td><td>-0.890497</td><td>⋯</td><td>-0.09069580</td><td> 0.00625628</td><td> 0.000711718</td><td> 0.01556540</td><td> 0.14528400</td><td> 2.97832e-01</td><td>-0.2784230</td><td>-0.16798400</td><td> 0.24379300</td><td> 0.0175192</td></tr>\n",
       "\t<tr><td>8</td><td>11119855</td><td>rs11986879</td><td>G</td><td>A</td><td>A</td><td>A</td><td>G</td><td>-14.0321</td><td>-0.705474</td><td>⋯</td><td> 0.05011850</td><td> 0.12223000</td><td>-0.199160000</td><td>-0.06467810</td><td> 0.03946910</td><td> 5.58909e-02</td><td>-0.1151590</td><td>-0.04407570</td><td>-0.08077680</td><td>-0.0521475</td></tr>\n",
       "\t<tr><td>8</td><td> 9446300</td><td>rs11787063</td><td>G</td><td>T</td><td>T</td><td>T</td><td>G</td><td>-14.0123</td><td>-1.505620</td><td>⋯</td><td> 0.10392000</td><td> 0.13706700</td><td> 0.395532000</td><td> 0.36721100</td><td>-0.07782420</td><td>-3.27212e-01</td><td> 0.1393930</td><td>-0.11430000</td><td> 0.17163700</td><td>-0.0347715</td></tr>\n",
       "\t<tr><td>8</td><td> 9044040</td><td>rs11775297</td><td>T</td><td>C</td><td>C</td><td>C</td><td>T</td><td>-13.9715</td><td>-1.515600</td><td>⋯</td><td>-0.06056420</td><td>-0.12529400</td><td>-0.098845100</td><td>-0.01076410</td><td> 0.23273800</td><td>-8.18948e-03</td><td> 0.2390040</td><td>-0.07875340</td><td>-0.16853200</td><td> 0.1726810</td></tr>\n",
       "\t<tr><td>8</td><td>10537940</td><td>rs7838749 </td><td>T</td><td>G</td><td>G</td><td>G</td><td>T</td><td>-13.8396</td><td>-0.694408</td><td>⋯</td><td>-0.07106740</td><td> 0.21188800</td><td> 0.053243500</td><td>-0.14037800</td><td>-0.05718030</td><td>-1.45281e-01</td><td>-0.0597078</td><td> 0.15542400</td><td> 0.00801453</td><td> 0.1540300</td></tr>\n",
       "\t<tr><td>8</td><td> 9186835</td><td>rs12542898</td><td>A</td><td>G</td><td>G</td><td>G</td><td>A</td><td>-13.8333</td><td>-0.663173</td><td>⋯</td><td>-0.69976200</td><td> 0.04007540</td><td> 0.280710000</td><td>-0.13839200</td><td> 0.16594900</td><td>-3.53972e-01</td><td> 0.0966529</td><td> 0.15858600</td><td> 0.06526010</td><td> 0.2170170</td></tr>\n",
       "\t<tr><td>8</td><td>10118302</td><td>rs35886862</td><td>C</td><td>T</td><td>T</td><td>T</td><td>C</td><td>-13.8128</td><td>-0.118583</td><td>⋯</td><td>-0.21067700</td><td> 0.00761677</td><td>-0.240349000</td><td> 0.14054900</td><td>-0.15577800</td><td> 1.70921e-01</td><td> 0.2624950</td><td>-0.09604880</td><td> 0.04751230</td><td>-0.2569990</td></tr>\n",
       "\t<tr><td>8</td><td>10803725</td><td>rs73196842</td><td>G</td><td>A</td><td>A</td><td>A</td><td>G</td><td>-13.7743</td><td>-1.517570</td><td>⋯</td><td>-0.19938800</td><td> 0.23578300</td><td>-0.082942300</td><td>-0.07332060</td><td> 0.25733000</td><td>-1.39743e-01</td><td>-0.3063500</td><td> 0.28246900</td><td> 0.14466900</td><td> 0.0105062</td></tr>\n",
       "</tbody>\n",
       "</table>\n"
      ],
      "text/latex": [
       "A data.table: 100 × 48\n",
       "\\begin{tabular}{lllllllllllllllllllll}\n",
       " CHROM & POS & ID & REF & ALT1 & ALT & A1 & AX & PC1 & PC2 & ⋯ & PC31 & PC32 & PC33 & PC34 & PC35 & PC36 & PC37 & PC38 & PC39 & PC40\\\\\n",
       " <chr> & <int> & <chr> & <chr> & <chr> & <chr> & <chr> & <chr> & <dbl> & <dbl> & ⋯ & <dbl> & <dbl> & <dbl> & <dbl> & <dbl> & <dbl> & <dbl> & <dbl> & <dbl> & <dbl>\\\\\n",
       "\\hline\n",
       "\t 8 &  8661534 & rs12547493 & T & C & C & C & T &  25.4618 &  1.532580 & ⋯ & -0.03733320 &  0.098843900 &  0.02703750 &  0.03768280 &  0.08106880 & -0.06346750 &  0.0439513 & -0.05330070 & -0.19334500 & -0.11376800\\\\\n",
       "\t 8 &  8379107 & rs7826660  & C & A & A & A & C &  25.3469 &  1.319930 & ⋯ & -0.08613090 &  0.076455900 &  0.10647700 & -0.00944706 &  0.07672260 & -0.12687400 & -0.0894347 &  0.02717320 &  0.04046430 & -0.01894710\\\\\n",
       "\t 8 & 11045161 & rs7819412  & G & A & A & A & G & -24.4504 & -1.400150 & ⋯ &  0.02894470 &  0.044574600 & -0.05957420 & -0.05737150 &  0.00377354 & -0.04059510 & -0.0370403 & -0.03056320 & -0.00392719 &  0.00887570\\\\\n",
       "\t 8 &  9084341 & rs2929453  & T & C & C & C & T & -24.0146 & -1.585840 & ⋯ &  0.01685820 & -0.087602300 & -0.12910500 &  0.13845400 &  0.07417130 & -0.10108600 & -0.0891405 & -0.12641500 &  0.05209420 &  0.04017110\\\\\n",
       "\t 8 & 11396874 & rs2248325  & A & G & G & G & A & -23.8449 & -1.366630 & ⋯ &  0.03565560 & -0.035131600 & -0.08746350 &  0.02143470 &  0.08285040 &  0.01396560 & -0.0563548 & -0.05361500 &  0.03062450 & -0.05217300\\\\\n",
       "\t 8 &  9818065 & rs591346   & C & T & T & T & C & -23.3825 & -1.136920 & ⋯ & -0.11835600 & -0.163718000 &  0.22245800 &  0.02720840 & -0.11907700 & -0.15465200 &  0.1223470 & -0.02352560 &  0.02028720 &  0.08078330\\\\\n",
       "\t 8 & 11831948 & rs7461062  & T & C & C & C & T &  22.6560 &  0.908457 & ⋯ & -0.06732460 & -0.105255000 & -0.01724550 & -0.00684241 & -0.12794500 & -0.07842430 &  0.2181750 &  0.16412500 &  0.10967100 & -0.01038460\\\\\n",
       "\t 8 & 11525435 & rs11250157 & G & A & A & A & G &  22.5084 &  1.045220 & ⋯ & -0.16750200 & -0.026742500 & -0.01444330 &  0.01152190 & -0.07414600 & -0.04667160 &  0.0359496 &  0.09354550 &  0.08963490 &  0.00836383\\\\\n",
       "\t 8 & 10251265 & rs11249999 & T & C & C & C & T &  22.1274 &  1.253080 & ⋯ &  0.01564780 & -0.133425000 & -0.05162850 & -0.01960960 &  0.04231650 & -0.05513400 & -0.1702140 &  0.05512590 &  0.10687800 & -0.13253500\\\\\n",
       "\t 8 & 10766082 & rs6997997  & T & C & C & C & T & -22.0754 & -1.248720 & ⋯ &  0.35369900 &  0.000272716 &  0.01683590 & -0.10301400 & -0.16678800 & -0.07856500 & -0.2011180 &  0.12658300 &  0.08135600 & -0.03973280\\\\\n",
       "\t 8 & 10098902 & rs12156387 & A & G & G & G & A & -21.6969 & -0.994503 & ⋯ & -0.16708300 & -0.339079000 &  0.00710912 & -0.01825710 & -0.06420910 & -0.11012000 &  0.3025940 &  0.24588700 & -0.38347100 & -0.11759500\\\\\n",
       "\t 8 &  8929130 & rs7846644  & A & C & C & C & A & -21.6468 & -1.662120 & ⋯ & -0.05937420 &  0.125752000 &  0.03215620 & -0.21034800 &  0.06240500 &  0.21003000 & -0.0687000 &  0.12641000 & -0.01371310 &  0.20875400\\\\\n",
       "\t 8 & 11258456 & rs4841527  & T & G & G & G & T &  21.4825 &  1.581130 & ⋯ & -0.17064600 &  0.036148300 &  0.07160970 &  0.04578370 & -0.10932000 & -0.04932720 &  0.0789649 & -0.14490800 & -0.11700800 &  0.04909210\\\\\n",
       "\t 8 & 11462517 & rs13248109 & C & A & A & A & C & -20.8913 & -0.782298 & ⋯ & -0.10116100 &  0.043932400 & -0.02070450 &  0.10361600 &  0.06410860 &  0.06286250 & -0.0232753 & -0.15199900 & -0.09823810 &  0.01709290\\\\\n",
       "\t 8 &  8974338 & rs4841103  & C & T & T & T & C & -20.8405 & -1.398200 & ⋯ &  0.06127860 & -0.003504760 & -0.09003060 &  0.09923800 &  0.10869700 &  0.31283900 & -0.0744493 & -0.02866110 &  0.10828200 &  0.01652930\\\\\n",
       "\t 8 & 11455262 & rs34876360 & G & A & A & A & G &  20.8108 &  1.715970 & ⋯ & -0.03064810 & -0.022933700 &  0.13665900 & -0.00663613 &  0.06669470 &  0.02558060 & -0.0995190 &  0.03737090 & -0.14150500 &  0.00236457\\\\\n",
       "\t 8 &  8959671 & rs28649568 & T & G & G & G & T & -20.4805 & -1.702630 & ⋯ &  0.25970300 & -0.177878000 &  0.01718740 &  0.18830100 & -0.05254710 & -0.02490810 & -0.1831370 &  0.06057080 &  0.14616800 & -0.12488000\\\\\n",
       "\t 8 &  9653902 & rs4841218  & T & C & C & C & T & -20.4525 & -1.168620 & ⋯ & -0.25253400 &  0.069524300 &  0.40719900 &  0.11269400 & -0.09025020 & -0.10904600 &  0.2455390 & -0.14699600 &  0.18609100 &  0.21104500\\\\\n",
       "\t 8 & 10321881 & rs6601465  & A & G & G & G & A &  20.4426 &  1.211000 & ⋯ & -0.27365600 & -0.160089000 &  0.09264340 &  0.16798000 &  0.20519400 &  0.02199780 & -0.1586390 & -0.07850080 &  0.14647700 &  0.11963400\\\\\n",
       "\t 8 &  9143521 & rs11249913 & T & G & G & G & T &  20.3476 &  0.650494 & ⋯ &  0.12655500 &  0.121695000 & -0.12338300 & -0.09743430 &  0.02181800 &  0.11680900 & -0.0388143 &  0.07574070 & -0.31670100 & -0.12638800\\\\\n",
       "\t 8 & 10466482 & rs13267180 & G & A & A & A & G & -20.2321 & -0.595473 & ⋯ &  0.09303880 &  0.205260000 &  0.17727400 & -0.08749910 &  0.01312950 & -0.25817500 & -0.1130790 &  0.17665200 &  0.03183840 &  0.19257200\\\\\n",
       "\t 8 &  8139331 & rs793508   & C & T & T & T & C & -20.1826 & -0.787354 & ⋯ & -0.15494000 &  0.263635000 & -0.03582310 & -0.11590000 &  0.05270570 &  0.25988900 &  0.2155340 &  0.06697040 & -0.01454260 &  0.09284560\\\\\n",
       "\t 8 & 11333353 & rs936546   & C & T & T & T & C & -20.1353 & -1.572280 & ⋯ &  0.24814500 & -0.056761700 &  0.00175213 & -0.27927800 & -0.00758199 & -0.00161733 & -0.1005480 &  0.00725383 & -0.13092100 & -0.07723560\\\\\n",
       "\t 8 &  8783506 & rs878504   & A & G & G & G & A &  19.7797 &  0.920778 & ⋯ & -0.03613200 & -0.011866200 &  0.08480670 & -0.05102990 & -0.05592090 & -0.00091294 & -0.1923150 & -0.11103500 &  0.05776010 &  0.10797900\\\\\n",
       "\t 8 & 11856864 & rs7835672  & C & T & T & T & C &  19.5652 &  1.064790 & ⋯ & -0.05983680 &  0.088301400 & -0.00850313 &  0.03674730 &  0.07095330 &  0.11113800 &  0.2774530 &  0.08284650 & -0.03769630 & -0.05166330\\\\\n",
       "\t 8 & 11838932 & rs10086500 & A & G & G & G & A &  19.2532 &  0.853142 & ⋯ & -0.03055290 &  0.093415300 &  0.02561360 & -0.10309500 &  0.08482670 & -0.09049060 &  0.1422810 &  0.07185450 &  0.06007290 &  0.08129170\\\\\n",
       "\t 8 & 11665217 & rs1736057  & G & A & A & A & G &  19.2343 &  0.748065 & ⋯ & -0.06236660 & -0.225110000 &  0.03495220 & -0.05599960 &  0.01006920 & -0.16908500 &  0.2139130 &  0.20616300 &  0.13762700 &  0.08425160\\\\\n",
       "\t 8 & 11002093 & rs6986002  & C & T & T & T & C & -19.0340 & -1.215370 & ⋯ & -0.00643048 &  0.208376000 &  0.10193700 &  0.10795400 &  0.08635000 &  0.01729810 & -0.2125570 &  0.08079850 &  0.13905600 &  0.19130400\\\\\n",
       "\t 8 &  9154065 & rs330081   & C & A & A & A & C &  18.9972 &  1.327610 & ⋯ &  0.00130824 & -0.114248000 &  0.12873200 & -0.19404800 &  0.05527540 &  0.44020400 & -0.2034010 &  0.06173810 &  0.09519630 &  0.05529140\\\\\n",
       "\t 8 &  9048104 & rs2929301  & G & A & A & A & G & -18.6843 & -1.094250 & ⋯ & -0.08359570 & -0.041441900 &  0.08476340 &  0.24918900 &  0.31201100 &  0.04595660 &  0.3395620 & -0.22248800 &  0.08131970 & -0.00106875\\\\\n",
       "\t ⋮ & ⋮ & ⋮ & ⋮ & ⋮ & ⋮ & ⋮ & ⋮ & ⋮ & ⋮ & ⋱ & ⋮ & ⋮ & ⋮ & ⋮ & ⋮ & ⋮ & ⋮ & ⋮ & ⋮ & ⋮\\\\\n",
       "\t 8 &  9111855 & rs57954207 & G & T & T & T & G &  15.6103 &  0.818593 & ⋯ &  0.22513300 &  0.20983900 & -0.080461800 & -0.10486200 & -0.06096350 & -4.37660e-02 & -0.4304080 &  0.07588520 & -0.24811700 &  0.0538071\\\\\n",
       "\t 8 &  8997614 & rs330920   & C & T & T & T & C &  15.4396 &  1.090300 & ⋯ &  0.06558760 &  0.05961780 &  0.062026200 & -0.12325600 & -0.12813600 & -4.12978e-01 &  0.2552270 &  0.34956700 & -0.26407700 &  0.0244164\\\\\n",
       "\t 8 &  9328926 & rs7007562  & A & G & G & G & A &  15.4211 &  0.970278 & ⋯ & -0.24877700 & -0.14297100 &  0.276103000 &  0.26381400 & -0.04788950 & -1.60597e-01 &  0.0475102 &  0.16557100 &  0.11206600 &  0.0418688\\\\\n",
       "\t 8 & 10105661 & rs4563888  & G & A & A & A & G &  15.3471 &  0.311815 & ⋯ &  0.06554860 &  0.11406300 & -0.114005000 &  0.01581990 & -0.00258946 &  1.27799e-01 &  0.1856600 &  0.05024800 & -0.02913280 & -0.2120230\\\\\n",
       "\t 8 &  8266309 & rs2030280  & A & G & G & G & A &  15.3203 &  0.689634 & ⋯ &  0.27271900 & -0.20928300 &  0.147506000 &  0.03634490 &  0.02713460 & -2.52896e-01 & -0.0353646 & -0.06683360 & -0.12018500 &  0.0910785\\\\\n",
       "\t 8 &  8974673 & rs56135405 & A & G & G & G & A &  15.3100 &  1.574450 & ⋯ & -0.00223021 &  0.02816920 &  0.169922000 & -0.03980630 & -0.21554300 & -2.75274e-01 &  0.0963103 &  0.22599700 & -0.10746300 &  0.1484100\\\\\n",
       "\t 8 & 11851156 & rs4604485  & T & C & C & C & T &  15.2855 &  0.895419 & ⋯ & -0.07909050 &  0.09539100 &  0.038816400 & -0.14119000 &  0.07892740 &  9.92642e-02 &  0.2922470 & -0.00987182 &  0.17640600 & -0.0649041\\\\\n",
       "\t 8 &  8349757 & rs6997361  & C & T & T & T & C & -15.2324 & -0.731294 & ⋯ & -0.05811280 & -0.29546200 & -0.150816000 & -0.16899600 & -0.24348500 &  1.25574e-01 & -0.1962080 &  0.05052780 &  0.04429180 &  0.0935128\\\\\n",
       "\t 8 &  9029068 & rs424481   & C & T & T & T & C &  15.0558 &  0.891661 & ⋯ &  0.00265423 & -0.08541930 &  0.131875000 & -0.30119900 & -0.19461000 & -4.15269e-01 &  0.1329400 &  0.17914700 & -0.09112320 &  0.1688460\\\\\n",
       "\t 8 & 11699988 & rs1692821  & C & T & T & T & C & -15.0303 & -1.581080 & ⋯ &  0.58507800 & -0.05477390 &  0.179974000 &  0.08052560 &  0.03215730 &  9.31696e-02 & -0.1151760 &  0.20739800 &  0.25648700 &  0.0386783\\\\\n",
       "\t 8 & 10963619 & rs62488580 & G & T & T & T & G &  15.0139 &  0.639424 & ⋯ & -0.26406500 & -0.10680800 &  0.049374100 & -0.02908630 & -0.12964100 & -4.53883e-03 &  0.0574023 & -0.01609730 &  0.06422550 & -0.2313700\\\\\n",
       "\t 8 & 11403769 & rs2244931  & C & G & G & G & C &  14.8453 &  0.360743 & ⋯ & -0.15942200 & -0.20923500 & -0.085917600 &  0.15516100 &  0.19506200 & -2.73754e-01 & -0.0315038 &  0.34825800 &  0.07006390 &  0.1021790\\\\\n",
       "\t 8 & 10383138 & rs35102108 & G & A & A & A & G &  14.6731 &  0.743775 & ⋯ & -0.54026600 & -0.03665930 &  0.007915710 & -0.00368842 &  0.13854800 &  1.42895e-01 & -0.1592830 &  0.09489980 &  0.37525200 & -0.2304790\\\\\n",
       "\t 8 & 11354933 & rs4606022  & A & G & G & G & A & -14.6187 & -1.035470 & ⋯ &  0.09176860 &  0.02084360 &  0.245832000 & -0.23998300 & -0.06945780 &  8.30796e-02 &  0.0909649 & -0.19665400 & -0.23326600 & -0.1577720\\\\\n",
       "\t 8 & 10280818 & rs6985267  & A & C & C & C & A &  14.5804 &  0.676516 & ⋯ &  0.18703700 &  0.06030040 & -0.208592000 & -0.10272600 & -0.19525800 &  2.10812e-01 &  0.1503980 &  0.03323420 & -0.21088900 &  0.0481308\\\\\n",
       "\t 8 & 11615695 & rs745379   & A & G & G & G & A & -14.5539 &  0.295556 & ⋯ & -0.02012050 &  0.15660200 &  0.046490400 &  0.16928600 & -0.00720093 & -9.65552e-05 & -0.0214625 & -0.10178200 &  0.07197600 &  0.0841104\\\\\n",
       "\t 8 &  9221080 & rs922049   & C & A & A & A & C & -14.5112 & -0.118041 & ⋯ & -0.45620500 & -0.25162400 &  0.116032000 & -0.07012250 & -0.03241720 & -1.72164e-01 &  0.0242250 &  0.06852650 &  0.19674500 & -0.0721852\\\\\n",
       "\t 8 &  8848993 & rs6998594  & T & C & C & C & T & -14.4809 & -0.726565 & ⋯ & -0.59522000 &  0.28758900 & -0.088921000 & -0.29890500 &  0.41973500 &  6.06713e-01 &  0.3005500 & -0.01911210 &  0.05754870 &  0.4466650\\\\\n",
       "\t 8 &  9046312 & rs1968853  & A & C & C & C & A &  14.4404 &  0.788183 & ⋯ &  0.07054270 & -0.13654000 & -0.141010000 & -0.24089100 & -0.33472800 &  5.97761e-02 & -0.2190970 &  0.36791400 &  0.12341800 & -0.0931145\\\\\n",
       "\t 8 &  8174533 & rs2980505  & T & C & C & C & T &  14.2922 &  0.706992 & ⋯ & -0.05750970 &  0.10734800 & -0.092585700 & -0.13047300 &  0.01541770 &  2.04833e-01 &  0.0936835 & -0.04407230 &  0.20162600 &  0.0360818\\\\\n",
       "\t 8 & 10323484 & rs7016808  & G & A & A & A & G &  14.2512 &  1.084160 & ⋯ &  0.35196000 &  0.12107900 & -0.047071200 & -0.31089600 &  0.15857300 &  1.66577e-01 & -0.3319140 & -0.09863350 &  0.42323200 &  0.1411730\\\\\n",
       "\t 8 & 10071620 & rs11775334 & A & G & G & G & A & -14.1752 & -0.691232 & ⋯ & -0.22772500 & -0.34263900 &  0.297241000 &  0.03842010 &  0.03749250 & -9.65668e-02 &  0.0610365 & -0.04132830 & -0.15144300 &  0.0706476\\\\\n",
       "\t 8 &  8472561 & rs9329274  & G & A & A & A & G & -14.0414 & -0.890497 & ⋯ & -0.09069580 &  0.00625628 &  0.000711718 &  0.01556540 &  0.14528400 &  2.97832e-01 & -0.2784230 & -0.16798400 &  0.24379300 &  0.0175192\\\\\n",
       "\t 8 & 11119855 & rs11986879 & G & A & A & A & G & -14.0321 & -0.705474 & ⋯ &  0.05011850 &  0.12223000 & -0.199160000 & -0.06467810 &  0.03946910 &  5.58909e-02 & -0.1151590 & -0.04407570 & -0.08077680 & -0.0521475\\\\\n",
       "\t 8 &  9446300 & rs11787063 & G & T & T & T & G & -14.0123 & -1.505620 & ⋯ &  0.10392000 &  0.13706700 &  0.395532000 &  0.36721100 & -0.07782420 & -3.27212e-01 &  0.1393930 & -0.11430000 &  0.17163700 & -0.0347715\\\\\n",
       "\t 8 &  9044040 & rs11775297 & T & C & C & C & T & -13.9715 & -1.515600 & ⋯ & -0.06056420 & -0.12529400 & -0.098845100 & -0.01076410 &  0.23273800 & -8.18948e-03 &  0.2390040 & -0.07875340 & -0.16853200 &  0.1726810\\\\\n",
       "\t 8 & 10537940 & rs7838749  & T & G & G & G & T & -13.8396 & -0.694408 & ⋯ & -0.07106740 &  0.21188800 &  0.053243500 & -0.14037800 & -0.05718030 & -1.45281e-01 & -0.0597078 &  0.15542400 &  0.00801453 &  0.1540300\\\\\n",
       "\t 8 &  9186835 & rs12542898 & A & G & G & G & A & -13.8333 & -0.663173 & ⋯ & -0.69976200 &  0.04007540 &  0.280710000 & -0.13839200 &  0.16594900 & -3.53972e-01 &  0.0966529 &  0.15858600 &  0.06526010 &  0.2170170\\\\\n",
       "\t 8 & 10118302 & rs35886862 & C & T & T & T & C & -13.8128 & -0.118583 & ⋯ & -0.21067700 &  0.00761677 & -0.240349000 &  0.14054900 & -0.15577800 &  1.70921e-01 &  0.2624950 & -0.09604880 &  0.04751230 & -0.2569990\\\\\n",
       "\t 8 & 10803725 & rs73196842 & G & A & A & A & G & -13.7743 & -1.517570 & ⋯ & -0.19938800 &  0.23578300 & -0.082942300 & -0.07332060 &  0.25733000 & -1.39743e-01 & -0.3063500 &  0.28246900 &  0.14466900 &  0.0105062\\\\\n",
       "\\end{tabular}\n"
      ],
      "text/markdown": [
       "\n",
       "A data.table: 100 × 48\n",
       "\n",
       "| CHROM &lt;chr&gt; | POS &lt;int&gt; | ID &lt;chr&gt; | REF &lt;chr&gt; | ALT1 &lt;chr&gt; | ALT &lt;chr&gt; | A1 &lt;chr&gt; | AX &lt;chr&gt; | PC1 &lt;dbl&gt; | PC2 &lt;dbl&gt; | ⋯ ⋯ | PC31 &lt;dbl&gt; | PC32 &lt;dbl&gt; | PC33 &lt;dbl&gt; | PC34 &lt;dbl&gt; | PC35 &lt;dbl&gt; | PC36 &lt;dbl&gt; | PC37 &lt;dbl&gt; | PC38 &lt;dbl&gt; | PC39 &lt;dbl&gt; | PC40 &lt;dbl&gt; |\n",
       "|---|---|---|---|---|---|---|---|---|---|---|---|---|---|---|---|---|---|---|---|---|\n",
       "| 8 |  8661534 | rs12547493 | T | C | C | C | T |  25.4618 |  1.532580 | ⋯ | -0.03733320 |  0.098843900 |  0.02703750 |  0.03768280 |  0.08106880 | -0.06346750 |  0.0439513 | -0.05330070 | -0.19334500 | -0.11376800 |\n",
       "| 8 |  8379107 | rs7826660  | C | A | A | A | C |  25.3469 |  1.319930 | ⋯ | -0.08613090 |  0.076455900 |  0.10647700 | -0.00944706 |  0.07672260 | -0.12687400 | -0.0894347 |  0.02717320 |  0.04046430 | -0.01894710 |\n",
       "| 8 | 11045161 | rs7819412  | G | A | A | A | G | -24.4504 | -1.400150 | ⋯ |  0.02894470 |  0.044574600 | -0.05957420 | -0.05737150 |  0.00377354 | -0.04059510 | -0.0370403 | -0.03056320 | -0.00392719 |  0.00887570 |\n",
       "| 8 |  9084341 | rs2929453  | T | C | C | C | T | -24.0146 | -1.585840 | ⋯ |  0.01685820 | -0.087602300 | -0.12910500 |  0.13845400 |  0.07417130 | -0.10108600 | -0.0891405 | -0.12641500 |  0.05209420 |  0.04017110 |\n",
       "| 8 | 11396874 | rs2248325  | A | G | G | G | A | -23.8449 | -1.366630 | ⋯ |  0.03565560 | -0.035131600 | -0.08746350 |  0.02143470 |  0.08285040 |  0.01396560 | -0.0563548 | -0.05361500 |  0.03062450 | -0.05217300 |\n",
       "| 8 |  9818065 | rs591346   | C | T | T | T | C | -23.3825 | -1.136920 | ⋯ | -0.11835600 | -0.163718000 |  0.22245800 |  0.02720840 | -0.11907700 | -0.15465200 |  0.1223470 | -0.02352560 |  0.02028720 |  0.08078330 |\n",
       "| 8 | 11831948 | rs7461062  | T | C | C | C | T |  22.6560 |  0.908457 | ⋯ | -0.06732460 | -0.105255000 | -0.01724550 | -0.00684241 | -0.12794500 | -0.07842430 |  0.2181750 |  0.16412500 |  0.10967100 | -0.01038460 |\n",
       "| 8 | 11525435 | rs11250157 | G | A | A | A | G |  22.5084 |  1.045220 | ⋯ | -0.16750200 | -0.026742500 | -0.01444330 |  0.01152190 | -0.07414600 | -0.04667160 |  0.0359496 |  0.09354550 |  0.08963490 |  0.00836383 |\n",
       "| 8 | 10251265 | rs11249999 | T | C | C | C | T |  22.1274 |  1.253080 | ⋯ |  0.01564780 | -0.133425000 | -0.05162850 | -0.01960960 |  0.04231650 | -0.05513400 | -0.1702140 |  0.05512590 |  0.10687800 | -0.13253500 |\n",
       "| 8 | 10766082 | rs6997997  | T | C | C | C | T | -22.0754 | -1.248720 | ⋯ |  0.35369900 |  0.000272716 |  0.01683590 | -0.10301400 | -0.16678800 | -0.07856500 | -0.2011180 |  0.12658300 |  0.08135600 | -0.03973280 |\n",
       "| 8 | 10098902 | rs12156387 | A | G | G | G | A | -21.6969 | -0.994503 | ⋯ | -0.16708300 | -0.339079000 |  0.00710912 | -0.01825710 | -0.06420910 | -0.11012000 |  0.3025940 |  0.24588700 | -0.38347100 | -0.11759500 |\n",
       "| 8 |  8929130 | rs7846644  | A | C | C | C | A | -21.6468 | -1.662120 | ⋯ | -0.05937420 |  0.125752000 |  0.03215620 | -0.21034800 |  0.06240500 |  0.21003000 | -0.0687000 |  0.12641000 | -0.01371310 |  0.20875400 |\n",
       "| 8 | 11258456 | rs4841527  | T | G | G | G | T |  21.4825 |  1.581130 | ⋯ | -0.17064600 |  0.036148300 |  0.07160970 |  0.04578370 | -0.10932000 | -0.04932720 |  0.0789649 | -0.14490800 | -0.11700800 |  0.04909210 |\n",
       "| 8 | 11462517 | rs13248109 | C | A | A | A | C | -20.8913 | -0.782298 | ⋯ | -0.10116100 |  0.043932400 | -0.02070450 |  0.10361600 |  0.06410860 |  0.06286250 | -0.0232753 | -0.15199900 | -0.09823810 |  0.01709290 |\n",
       "| 8 |  8974338 | rs4841103  | C | T | T | T | C | -20.8405 | -1.398200 | ⋯ |  0.06127860 | -0.003504760 | -0.09003060 |  0.09923800 |  0.10869700 |  0.31283900 | -0.0744493 | -0.02866110 |  0.10828200 |  0.01652930 |\n",
       "| 8 | 11455262 | rs34876360 | G | A | A | A | G |  20.8108 |  1.715970 | ⋯ | -0.03064810 | -0.022933700 |  0.13665900 | -0.00663613 |  0.06669470 |  0.02558060 | -0.0995190 |  0.03737090 | -0.14150500 |  0.00236457 |\n",
       "| 8 |  8959671 | rs28649568 | T | G | G | G | T | -20.4805 | -1.702630 | ⋯ |  0.25970300 | -0.177878000 |  0.01718740 |  0.18830100 | -0.05254710 | -0.02490810 | -0.1831370 |  0.06057080 |  0.14616800 | -0.12488000 |\n",
       "| 8 |  9653902 | rs4841218  | T | C | C | C | T | -20.4525 | -1.168620 | ⋯ | -0.25253400 |  0.069524300 |  0.40719900 |  0.11269400 | -0.09025020 | -0.10904600 |  0.2455390 | -0.14699600 |  0.18609100 |  0.21104500 |\n",
       "| 8 | 10321881 | rs6601465  | A | G | G | G | A |  20.4426 |  1.211000 | ⋯ | -0.27365600 | -0.160089000 |  0.09264340 |  0.16798000 |  0.20519400 |  0.02199780 | -0.1586390 | -0.07850080 |  0.14647700 |  0.11963400 |\n",
       "| 8 |  9143521 | rs11249913 | T | G | G | G | T |  20.3476 |  0.650494 | ⋯ |  0.12655500 |  0.121695000 | -0.12338300 | -0.09743430 |  0.02181800 |  0.11680900 | -0.0388143 |  0.07574070 | -0.31670100 | -0.12638800 |\n",
       "| 8 | 10466482 | rs13267180 | G | A | A | A | G | -20.2321 | -0.595473 | ⋯ |  0.09303880 |  0.205260000 |  0.17727400 | -0.08749910 |  0.01312950 | -0.25817500 | -0.1130790 |  0.17665200 |  0.03183840 |  0.19257200 |\n",
       "| 8 |  8139331 | rs793508   | C | T | T | T | C | -20.1826 | -0.787354 | ⋯ | -0.15494000 |  0.263635000 | -0.03582310 | -0.11590000 |  0.05270570 |  0.25988900 |  0.2155340 |  0.06697040 | -0.01454260 |  0.09284560 |\n",
       "| 8 | 11333353 | rs936546   | C | T | T | T | C | -20.1353 | -1.572280 | ⋯ |  0.24814500 | -0.056761700 |  0.00175213 | -0.27927800 | -0.00758199 | -0.00161733 | -0.1005480 |  0.00725383 | -0.13092100 | -0.07723560 |\n",
       "| 8 |  8783506 | rs878504   | A | G | G | G | A |  19.7797 |  0.920778 | ⋯ | -0.03613200 | -0.011866200 |  0.08480670 | -0.05102990 | -0.05592090 | -0.00091294 | -0.1923150 | -0.11103500 |  0.05776010 |  0.10797900 |\n",
       "| 8 | 11856864 | rs7835672  | C | T | T | T | C |  19.5652 |  1.064790 | ⋯ | -0.05983680 |  0.088301400 | -0.00850313 |  0.03674730 |  0.07095330 |  0.11113800 |  0.2774530 |  0.08284650 | -0.03769630 | -0.05166330 |\n",
       "| 8 | 11838932 | rs10086500 | A | G | G | G | A |  19.2532 |  0.853142 | ⋯ | -0.03055290 |  0.093415300 |  0.02561360 | -0.10309500 |  0.08482670 | -0.09049060 |  0.1422810 |  0.07185450 |  0.06007290 |  0.08129170 |\n",
       "| 8 | 11665217 | rs1736057  | G | A | A | A | G |  19.2343 |  0.748065 | ⋯ | -0.06236660 | -0.225110000 |  0.03495220 | -0.05599960 |  0.01006920 | -0.16908500 |  0.2139130 |  0.20616300 |  0.13762700 |  0.08425160 |\n",
       "| 8 | 11002093 | rs6986002  | C | T | T | T | C | -19.0340 | -1.215370 | ⋯ | -0.00643048 |  0.208376000 |  0.10193700 |  0.10795400 |  0.08635000 |  0.01729810 | -0.2125570 |  0.08079850 |  0.13905600 |  0.19130400 |\n",
       "| 8 |  9154065 | rs330081   | C | A | A | A | C |  18.9972 |  1.327610 | ⋯ |  0.00130824 | -0.114248000 |  0.12873200 | -0.19404800 |  0.05527540 |  0.44020400 | -0.2034010 |  0.06173810 |  0.09519630 |  0.05529140 |\n",
       "| 8 |  9048104 | rs2929301  | G | A | A | A | G | -18.6843 | -1.094250 | ⋯ | -0.08359570 | -0.041441900 |  0.08476340 |  0.24918900 |  0.31201100 |  0.04595660 |  0.3395620 | -0.22248800 |  0.08131970 | -0.00106875 |\n",
       "| ⋮ | ⋮ | ⋮ | ⋮ | ⋮ | ⋮ | ⋮ | ⋮ | ⋮ | ⋮ | ⋱ | ⋮ | ⋮ | ⋮ | ⋮ | ⋮ | ⋮ | ⋮ | ⋮ | ⋮ | ⋮ |\n",
       "| 8 |  9111855 | rs57954207 | G | T | T | T | G |  15.6103 |  0.818593 | ⋯ |  0.22513300 |  0.20983900 | -0.080461800 | -0.10486200 | -0.06096350 | -4.37660e-02 | -0.4304080 |  0.07588520 | -0.24811700 |  0.0538071 |\n",
       "| 8 |  8997614 | rs330920   | C | T | T | T | C |  15.4396 |  1.090300 | ⋯ |  0.06558760 |  0.05961780 |  0.062026200 | -0.12325600 | -0.12813600 | -4.12978e-01 |  0.2552270 |  0.34956700 | -0.26407700 |  0.0244164 |\n",
       "| 8 |  9328926 | rs7007562  | A | G | G | G | A |  15.4211 |  0.970278 | ⋯ | -0.24877700 | -0.14297100 |  0.276103000 |  0.26381400 | -0.04788950 | -1.60597e-01 |  0.0475102 |  0.16557100 |  0.11206600 |  0.0418688 |\n",
       "| 8 | 10105661 | rs4563888  | G | A | A | A | G |  15.3471 |  0.311815 | ⋯ |  0.06554860 |  0.11406300 | -0.114005000 |  0.01581990 | -0.00258946 |  1.27799e-01 |  0.1856600 |  0.05024800 | -0.02913280 | -0.2120230 |\n",
       "| 8 |  8266309 | rs2030280  | A | G | G | G | A |  15.3203 |  0.689634 | ⋯ |  0.27271900 | -0.20928300 |  0.147506000 |  0.03634490 |  0.02713460 | -2.52896e-01 | -0.0353646 | -0.06683360 | -0.12018500 |  0.0910785 |\n",
       "| 8 |  8974673 | rs56135405 | A | G | G | G | A |  15.3100 |  1.574450 | ⋯ | -0.00223021 |  0.02816920 |  0.169922000 | -0.03980630 | -0.21554300 | -2.75274e-01 |  0.0963103 |  0.22599700 | -0.10746300 |  0.1484100 |\n",
       "| 8 | 11851156 | rs4604485  | T | C | C | C | T |  15.2855 |  0.895419 | ⋯ | -0.07909050 |  0.09539100 |  0.038816400 | -0.14119000 |  0.07892740 |  9.92642e-02 |  0.2922470 | -0.00987182 |  0.17640600 | -0.0649041 |\n",
       "| 8 |  8349757 | rs6997361  | C | T | T | T | C | -15.2324 | -0.731294 | ⋯ | -0.05811280 | -0.29546200 | -0.150816000 | -0.16899600 | -0.24348500 |  1.25574e-01 | -0.1962080 |  0.05052780 |  0.04429180 |  0.0935128 |\n",
       "| 8 |  9029068 | rs424481   | C | T | T | T | C |  15.0558 |  0.891661 | ⋯ |  0.00265423 | -0.08541930 |  0.131875000 | -0.30119900 | -0.19461000 | -4.15269e-01 |  0.1329400 |  0.17914700 | -0.09112320 |  0.1688460 |\n",
       "| 8 | 11699988 | rs1692821  | C | T | T | T | C | -15.0303 | -1.581080 | ⋯ |  0.58507800 | -0.05477390 |  0.179974000 |  0.08052560 |  0.03215730 |  9.31696e-02 | -0.1151760 |  0.20739800 |  0.25648700 |  0.0386783 |\n",
       "| 8 | 10963619 | rs62488580 | G | T | T | T | G |  15.0139 |  0.639424 | ⋯ | -0.26406500 | -0.10680800 |  0.049374100 | -0.02908630 | -0.12964100 | -4.53883e-03 |  0.0574023 | -0.01609730 |  0.06422550 | -0.2313700 |\n",
       "| 8 | 11403769 | rs2244931  | C | G | G | G | C |  14.8453 |  0.360743 | ⋯ | -0.15942200 | -0.20923500 | -0.085917600 |  0.15516100 |  0.19506200 | -2.73754e-01 | -0.0315038 |  0.34825800 |  0.07006390 |  0.1021790 |\n",
       "| 8 | 10383138 | rs35102108 | G | A | A | A | G |  14.6731 |  0.743775 | ⋯ | -0.54026600 | -0.03665930 |  0.007915710 | -0.00368842 |  0.13854800 |  1.42895e-01 | -0.1592830 |  0.09489980 |  0.37525200 | -0.2304790 |\n",
       "| 8 | 11354933 | rs4606022  | A | G | G | G | A | -14.6187 | -1.035470 | ⋯ |  0.09176860 |  0.02084360 |  0.245832000 | -0.23998300 | -0.06945780 |  8.30796e-02 |  0.0909649 | -0.19665400 | -0.23326600 | -0.1577720 |\n",
       "| 8 | 10280818 | rs6985267  | A | C | C | C | A |  14.5804 |  0.676516 | ⋯ |  0.18703700 |  0.06030040 | -0.208592000 | -0.10272600 | -0.19525800 |  2.10812e-01 |  0.1503980 |  0.03323420 | -0.21088900 |  0.0481308 |\n",
       "| 8 | 11615695 | rs745379   | A | G | G | G | A | -14.5539 |  0.295556 | ⋯ | -0.02012050 |  0.15660200 |  0.046490400 |  0.16928600 | -0.00720093 | -9.65552e-05 | -0.0214625 | -0.10178200 |  0.07197600 |  0.0841104 |\n",
       "| 8 |  9221080 | rs922049   | C | A | A | A | C | -14.5112 | -0.118041 | ⋯ | -0.45620500 | -0.25162400 |  0.116032000 | -0.07012250 | -0.03241720 | -1.72164e-01 |  0.0242250 |  0.06852650 |  0.19674500 | -0.0721852 |\n",
       "| 8 |  8848993 | rs6998594  | T | C | C | C | T | -14.4809 | -0.726565 | ⋯ | -0.59522000 |  0.28758900 | -0.088921000 | -0.29890500 |  0.41973500 |  6.06713e-01 |  0.3005500 | -0.01911210 |  0.05754870 |  0.4466650 |\n",
       "| 8 |  9046312 | rs1968853  | A | C | C | C | A |  14.4404 |  0.788183 | ⋯ |  0.07054270 | -0.13654000 | -0.141010000 | -0.24089100 | -0.33472800 |  5.97761e-02 | -0.2190970 |  0.36791400 |  0.12341800 | -0.0931145 |\n",
       "| 8 |  8174533 | rs2980505  | T | C | C | C | T |  14.2922 |  0.706992 | ⋯ | -0.05750970 |  0.10734800 | -0.092585700 | -0.13047300 |  0.01541770 |  2.04833e-01 |  0.0936835 | -0.04407230 |  0.20162600 |  0.0360818 |\n",
       "| 8 | 10323484 | rs7016808  | G | A | A | A | G |  14.2512 |  1.084160 | ⋯ |  0.35196000 |  0.12107900 | -0.047071200 | -0.31089600 |  0.15857300 |  1.66577e-01 | -0.3319140 | -0.09863350 |  0.42323200 |  0.1411730 |\n",
       "| 8 | 10071620 | rs11775334 | A | G | G | G | A | -14.1752 | -0.691232 | ⋯ | -0.22772500 | -0.34263900 |  0.297241000 |  0.03842010 |  0.03749250 | -9.65668e-02 |  0.0610365 | -0.04132830 | -0.15144300 |  0.0706476 |\n",
       "| 8 |  8472561 | rs9329274  | G | A | A | A | G | -14.0414 | -0.890497 | ⋯ | -0.09069580 |  0.00625628 |  0.000711718 |  0.01556540 |  0.14528400 |  2.97832e-01 | -0.2784230 | -0.16798400 |  0.24379300 |  0.0175192 |\n",
       "| 8 | 11119855 | rs11986879 | G | A | A | A | G | -14.0321 | -0.705474 | ⋯ |  0.05011850 |  0.12223000 | -0.199160000 | -0.06467810 |  0.03946910 |  5.58909e-02 | -0.1151590 | -0.04407570 | -0.08077680 | -0.0521475 |\n",
       "| 8 |  9446300 | rs11787063 | G | T | T | T | G | -14.0123 | -1.505620 | ⋯ |  0.10392000 |  0.13706700 |  0.395532000 |  0.36721100 | -0.07782420 | -3.27212e-01 |  0.1393930 | -0.11430000 |  0.17163700 | -0.0347715 |\n",
       "| 8 |  9044040 | rs11775297 | T | C | C | C | T | -13.9715 | -1.515600 | ⋯ | -0.06056420 | -0.12529400 | -0.098845100 | -0.01076410 |  0.23273800 | -8.18948e-03 |  0.2390040 | -0.07875340 | -0.16853200 |  0.1726810 |\n",
       "| 8 | 10537940 | rs7838749  | T | G | G | G | T | -13.8396 | -0.694408 | ⋯ | -0.07106740 |  0.21188800 |  0.053243500 | -0.14037800 | -0.05718030 | -1.45281e-01 | -0.0597078 |  0.15542400 |  0.00801453 |  0.1540300 |\n",
       "| 8 |  9186835 | rs12542898 | A | G | G | G | A | -13.8333 | -0.663173 | ⋯ | -0.69976200 |  0.04007540 |  0.280710000 | -0.13839200 |  0.16594900 | -3.53972e-01 |  0.0966529 |  0.15858600 |  0.06526010 |  0.2170170 |\n",
       "| 8 | 10118302 | rs35886862 | C | T | T | T | C | -13.8128 | -0.118583 | ⋯ | -0.21067700 |  0.00761677 | -0.240349000 |  0.14054900 | -0.15577800 |  1.70921e-01 |  0.2624950 | -0.09604880 |  0.04751230 | -0.2569990 |\n",
       "| 8 | 10803725 | rs73196842 | G | A | A | A | G | -13.7743 | -1.517570 | ⋯ | -0.19938800 |  0.23578300 | -0.082942300 | -0.07332060 |  0.25733000 | -1.39743e-01 | -0.3063500 |  0.28246900 |  0.14466900 |  0.0105062 |\n",
       "\n"
      ],
      "text/plain": [
       "    CHROM POS      ID         REF ALT1 ALT A1 AX PC1      PC2       ⋯\n",
       "1   8      8661534 rs12547493 T   C    C   C  T   25.4618  1.532580 ⋯\n",
       "2   8      8379107 rs7826660  C   A    A   A  C   25.3469  1.319930 ⋯\n",
       "3   8     11045161 rs7819412  G   A    A   A  G  -24.4504 -1.400150 ⋯\n",
       "4   8      9084341 rs2929453  T   C    C   C  T  -24.0146 -1.585840 ⋯\n",
       "5   8     11396874 rs2248325  A   G    G   G  A  -23.8449 -1.366630 ⋯\n",
       "6   8      9818065 rs591346   C   T    T   T  C  -23.3825 -1.136920 ⋯\n",
       "7   8     11831948 rs7461062  T   C    C   C  T   22.6560  0.908457 ⋯\n",
       "8   8     11525435 rs11250157 G   A    A   A  G   22.5084  1.045220 ⋯\n",
       "9   8     10251265 rs11249999 T   C    C   C  T   22.1274  1.253080 ⋯\n",
       "10  8     10766082 rs6997997  T   C    C   C  T  -22.0754 -1.248720 ⋯\n",
       "11  8     10098902 rs12156387 A   G    G   G  A  -21.6969 -0.994503 ⋯\n",
       "12  8      8929130 rs7846644  A   C    C   C  A  -21.6468 -1.662120 ⋯\n",
       "13  8     11258456 rs4841527  T   G    G   G  T   21.4825  1.581130 ⋯\n",
       "14  8     11462517 rs13248109 C   A    A   A  C  -20.8913 -0.782298 ⋯\n",
       "15  8      8974338 rs4841103  C   T    T   T  C  -20.8405 -1.398200 ⋯\n",
       "16  8     11455262 rs34876360 G   A    A   A  G   20.8108  1.715970 ⋯\n",
       "17  8      8959671 rs28649568 T   G    G   G  T  -20.4805 -1.702630 ⋯\n",
       "18  8      9653902 rs4841218  T   C    C   C  T  -20.4525 -1.168620 ⋯\n",
       "19  8     10321881 rs6601465  A   G    G   G  A   20.4426  1.211000 ⋯\n",
       "20  8      9143521 rs11249913 T   G    G   G  T   20.3476  0.650494 ⋯\n",
       "21  8     10466482 rs13267180 G   A    A   A  G  -20.2321 -0.595473 ⋯\n",
       "22  8      8139331 rs793508   C   T    T   T  C  -20.1826 -0.787354 ⋯\n",
       "23  8     11333353 rs936546   C   T    T   T  C  -20.1353 -1.572280 ⋯\n",
       "24  8      8783506 rs878504   A   G    G   G  A   19.7797  0.920778 ⋯\n",
       "25  8     11856864 rs7835672  C   T    T   T  C   19.5652  1.064790 ⋯\n",
       "26  8     11838932 rs10086500 A   G    G   G  A   19.2532  0.853142 ⋯\n",
       "27  8     11665217 rs1736057  G   A    A   A  G   19.2343  0.748065 ⋯\n",
       "28  8     11002093 rs6986002  C   T    T   T  C  -19.0340 -1.215370 ⋯\n",
       "29  8      9154065 rs330081   C   A    A   A  C   18.9972  1.327610 ⋯\n",
       "30  8      9048104 rs2929301  G   A    A   A  G  -18.6843 -1.094250 ⋯\n",
       "⋮   ⋮     ⋮        ⋮          ⋮   ⋮    ⋮   ⋮  ⋮  ⋮        ⋮         ⋱\n",
       "71  8      9111855 rs57954207 G   T    T   T  G   15.6103  0.818593 ⋯\n",
       "72  8      8997614 rs330920   C   T    T   T  C   15.4396  1.090300 ⋯\n",
       "73  8      9328926 rs7007562  A   G    G   G  A   15.4211  0.970278 ⋯\n",
       "74  8     10105661 rs4563888  G   A    A   A  G   15.3471  0.311815 ⋯\n",
       "75  8      8266309 rs2030280  A   G    G   G  A   15.3203  0.689634 ⋯\n",
       "76  8      8974673 rs56135405 A   G    G   G  A   15.3100  1.574450 ⋯\n",
       "77  8     11851156 rs4604485  T   C    C   C  T   15.2855  0.895419 ⋯\n",
       "78  8      8349757 rs6997361  C   T    T   T  C  -15.2324 -0.731294 ⋯\n",
       "79  8      9029068 rs424481   C   T    T   T  C   15.0558  0.891661 ⋯\n",
       "80  8     11699988 rs1692821  C   T    T   T  C  -15.0303 -1.581080 ⋯\n",
       "81  8     10963619 rs62488580 G   T    T   T  G   15.0139  0.639424 ⋯\n",
       "82  8     11403769 rs2244931  C   G    G   G  C   14.8453  0.360743 ⋯\n",
       "83  8     10383138 rs35102108 G   A    A   A  G   14.6731  0.743775 ⋯\n",
       "84  8     11354933 rs4606022  A   G    G   G  A  -14.6187 -1.035470 ⋯\n",
       "85  8     10280818 rs6985267  A   C    C   C  A   14.5804  0.676516 ⋯\n",
       "86  8     11615695 rs745379   A   G    G   G  A  -14.5539  0.295556 ⋯\n",
       "87  8      9221080 rs922049   C   A    A   A  C  -14.5112 -0.118041 ⋯\n",
       "88  8      8848993 rs6998594  T   C    C   C  T  -14.4809 -0.726565 ⋯\n",
       "89  8      9046312 rs1968853  A   C    C   C  A   14.4404  0.788183 ⋯\n",
       "90  8      8174533 rs2980505  T   C    C   C  T   14.2922  0.706992 ⋯\n",
       "91  8     10323484 rs7016808  G   A    A   A  G   14.2512  1.084160 ⋯\n",
       "92  8     10071620 rs11775334 A   G    G   G  A  -14.1752 -0.691232 ⋯\n",
       "93  8      8472561 rs9329274  G   A    A   A  G  -14.0414 -0.890497 ⋯\n",
       "94  8     11119855 rs11986879 G   A    A   A  G  -14.0321 -0.705474 ⋯\n",
       "95  8      9446300 rs11787063 G   T    T   T  G  -14.0123 -1.505620 ⋯\n",
       "96  8      9044040 rs11775297 T   C    C   C  T  -13.9715 -1.515600 ⋯\n",
       "97  8     10537940 rs7838749  T   G    G   G  T  -13.8396 -0.694408 ⋯\n",
       "98  8      9186835 rs12542898 A   G    G   G  A  -13.8333 -0.663173 ⋯\n",
       "99  8     10118302 rs35886862 C   T    T   T  C  -13.8128 -0.118583 ⋯\n",
       "100 8     10803725 rs73196842 G   A    A   A  G  -13.7743 -1.517570 ⋯\n",
       "    PC31        PC32         PC33         PC34        PC35        PC36        \n",
       "1   -0.03733320  0.098843900  0.02703750   0.03768280  0.08106880 -0.06346750 \n",
       "2   -0.08613090  0.076455900  0.10647700  -0.00944706  0.07672260 -0.12687400 \n",
       "3    0.02894470  0.044574600 -0.05957420  -0.05737150  0.00377354 -0.04059510 \n",
       "4    0.01685820 -0.087602300 -0.12910500   0.13845400  0.07417130 -0.10108600 \n",
       "5    0.03565560 -0.035131600 -0.08746350   0.02143470  0.08285040  0.01396560 \n",
       "6   -0.11835600 -0.163718000  0.22245800   0.02720840 -0.11907700 -0.15465200 \n",
       "7   -0.06732460 -0.105255000 -0.01724550  -0.00684241 -0.12794500 -0.07842430 \n",
       "8   -0.16750200 -0.026742500 -0.01444330   0.01152190 -0.07414600 -0.04667160 \n",
       "9    0.01564780 -0.133425000 -0.05162850  -0.01960960  0.04231650 -0.05513400 \n",
       "10   0.35369900  0.000272716  0.01683590  -0.10301400 -0.16678800 -0.07856500 \n",
       "11  -0.16708300 -0.339079000  0.00710912  -0.01825710 -0.06420910 -0.11012000 \n",
       "12  -0.05937420  0.125752000  0.03215620  -0.21034800  0.06240500  0.21003000 \n",
       "13  -0.17064600  0.036148300  0.07160970   0.04578370 -0.10932000 -0.04932720 \n",
       "14  -0.10116100  0.043932400 -0.02070450   0.10361600  0.06410860  0.06286250 \n",
       "15   0.06127860 -0.003504760 -0.09003060   0.09923800  0.10869700  0.31283900 \n",
       "16  -0.03064810 -0.022933700  0.13665900  -0.00663613  0.06669470  0.02558060 \n",
       "17   0.25970300 -0.177878000  0.01718740   0.18830100 -0.05254710 -0.02490810 \n",
       "18  -0.25253400  0.069524300  0.40719900   0.11269400 -0.09025020 -0.10904600 \n",
       "19  -0.27365600 -0.160089000  0.09264340   0.16798000  0.20519400  0.02199780 \n",
       "20   0.12655500  0.121695000 -0.12338300  -0.09743430  0.02181800  0.11680900 \n",
       "21   0.09303880  0.205260000  0.17727400  -0.08749910  0.01312950 -0.25817500 \n",
       "22  -0.15494000  0.263635000 -0.03582310  -0.11590000  0.05270570  0.25988900 \n",
       "23   0.24814500 -0.056761700  0.00175213  -0.27927800 -0.00758199 -0.00161733 \n",
       "24  -0.03613200 -0.011866200  0.08480670  -0.05102990 -0.05592090 -0.00091294 \n",
       "25  -0.05983680  0.088301400 -0.00850313   0.03674730  0.07095330  0.11113800 \n",
       "26  -0.03055290  0.093415300  0.02561360  -0.10309500  0.08482670 -0.09049060 \n",
       "27  -0.06236660 -0.225110000  0.03495220  -0.05599960  0.01006920 -0.16908500 \n",
       "28  -0.00643048  0.208376000  0.10193700   0.10795400  0.08635000  0.01729810 \n",
       "29   0.00130824 -0.114248000  0.12873200  -0.19404800  0.05527540  0.44020400 \n",
       "30  -0.08359570 -0.041441900  0.08476340   0.24918900  0.31201100  0.04595660 \n",
       "⋮   ⋮           ⋮            ⋮            ⋮           ⋮           ⋮           \n",
       "71   0.22513300  0.20983900  -0.080461800 -0.10486200 -0.06096350 -4.37660e-02\n",
       "72   0.06558760  0.05961780   0.062026200 -0.12325600 -0.12813600 -4.12978e-01\n",
       "73  -0.24877700 -0.14297100   0.276103000  0.26381400 -0.04788950 -1.60597e-01\n",
       "74   0.06554860  0.11406300  -0.114005000  0.01581990 -0.00258946  1.27799e-01\n",
       "75   0.27271900 -0.20928300   0.147506000  0.03634490  0.02713460 -2.52896e-01\n",
       "76  -0.00223021  0.02816920   0.169922000 -0.03980630 -0.21554300 -2.75274e-01\n",
       "77  -0.07909050  0.09539100   0.038816400 -0.14119000  0.07892740  9.92642e-02\n",
       "78  -0.05811280 -0.29546200  -0.150816000 -0.16899600 -0.24348500  1.25574e-01\n",
       "79   0.00265423 -0.08541930   0.131875000 -0.30119900 -0.19461000 -4.15269e-01\n",
       "80   0.58507800 -0.05477390   0.179974000  0.08052560  0.03215730  9.31696e-02\n",
       "81  -0.26406500 -0.10680800   0.049374100 -0.02908630 -0.12964100 -4.53883e-03\n",
       "82  -0.15942200 -0.20923500  -0.085917600  0.15516100  0.19506200 -2.73754e-01\n",
       "83  -0.54026600 -0.03665930   0.007915710 -0.00368842  0.13854800  1.42895e-01\n",
       "84   0.09176860  0.02084360   0.245832000 -0.23998300 -0.06945780  8.30796e-02\n",
       "85   0.18703700  0.06030040  -0.208592000 -0.10272600 -0.19525800  2.10812e-01\n",
       "86  -0.02012050  0.15660200   0.046490400  0.16928600 -0.00720093 -9.65552e-05\n",
       "87  -0.45620500 -0.25162400   0.116032000 -0.07012250 -0.03241720 -1.72164e-01\n",
       "88  -0.59522000  0.28758900  -0.088921000 -0.29890500  0.41973500  6.06713e-01\n",
       "89   0.07054270 -0.13654000  -0.141010000 -0.24089100 -0.33472800  5.97761e-02\n",
       "90  -0.05750970  0.10734800  -0.092585700 -0.13047300  0.01541770  2.04833e-01\n",
       "91   0.35196000  0.12107900  -0.047071200 -0.31089600  0.15857300  1.66577e-01\n",
       "92  -0.22772500 -0.34263900   0.297241000  0.03842010  0.03749250 -9.65668e-02\n",
       "93  -0.09069580  0.00625628   0.000711718  0.01556540  0.14528400  2.97832e-01\n",
       "94   0.05011850  0.12223000  -0.199160000 -0.06467810  0.03946910  5.58909e-02\n",
       "95   0.10392000  0.13706700   0.395532000  0.36721100 -0.07782420 -3.27212e-01\n",
       "96  -0.06056420 -0.12529400  -0.098845100 -0.01076410  0.23273800 -8.18948e-03\n",
       "97  -0.07106740  0.21188800   0.053243500 -0.14037800 -0.05718030 -1.45281e-01\n",
       "98  -0.69976200  0.04007540   0.280710000 -0.13839200  0.16594900 -3.53972e-01\n",
       "99  -0.21067700  0.00761677  -0.240349000  0.14054900 -0.15577800  1.70921e-01\n",
       "100 -0.19938800  0.23578300  -0.082942300 -0.07332060  0.25733000 -1.39743e-01\n",
       "    PC37       PC38        PC39        PC40       \n",
       "1    0.0439513 -0.05330070 -0.19334500 -0.11376800\n",
       "2   -0.0894347  0.02717320  0.04046430 -0.01894710\n",
       "3   -0.0370403 -0.03056320 -0.00392719  0.00887570\n",
       "4   -0.0891405 -0.12641500  0.05209420  0.04017110\n",
       "5   -0.0563548 -0.05361500  0.03062450 -0.05217300\n",
       "6    0.1223470 -0.02352560  0.02028720  0.08078330\n",
       "7    0.2181750  0.16412500  0.10967100 -0.01038460\n",
       "8    0.0359496  0.09354550  0.08963490  0.00836383\n",
       "9   -0.1702140  0.05512590  0.10687800 -0.13253500\n",
       "10  -0.2011180  0.12658300  0.08135600 -0.03973280\n",
       "11   0.3025940  0.24588700 -0.38347100 -0.11759500\n",
       "12  -0.0687000  0.12641000 -0.01371310  0.20875400\n",
       "13   0.0789649 -0.14490800 -0.11700800  0.04909210\n",
       "14  -0.0232753 -0.15199900 -0.09823810  0.01709290\n",
       "15  -0.0744493 -0.02866110  0.10828200  0.01652930\n",
       "16  -0.0995190  0.03737090 -0.14150500  0.00236457\n",
       "17  -0.1831370  0.06057080  0.14616800 -0.12488000\n",
       "18   0.2455390 -0.14699600  0.18609100  0.21104500\n",
       "19  -0.1586390 -0.07850080  0.14647700  0.11963400\n",
       "20  -0.0388143  0.07574070 -0.31670100 -0.12638800\n",
       "21  -0.1130790  0.17665200  0.03183840  0.19257200\n",
       "22   0.2155340  0.06697040 -0.01454260  0.09284560\n",
       "23  -0.1005480  0.00725383 -0.13092100 -0.07723560\n",
       "24  -0.1923150 -0.11103500  0.05776010  0.10797900\n",
       "25   0.2774530  0.08284650 -0.03769630 -0.05166330\n",
       "26   0.1422810  0.07185450  0.06007290  0.08129170\n",
       "27   0.2139130  0.20616300  0.13762700  0.08425160\n",
       "28  -0.2125570  0.08079850  0.13905600  0.19130400\n",
       "29  -0.2034010  0.06173810  0.09519630  0.05529140\n",
       "30   0.3395620 -0.22248800  0.08131970 -0.00106875\n",
       "⋮   ⋮          ⋮           ⋮           ⋮          \n",
       "71  -0.4304080  0.07588520 -0.24811700  0.0538071 \n",
       "72   0.2552270  0.34956700 -0.26407700  0.0244164 \n",
       "73   0.0475102  0.16557100  0.11206600  0.0418688 \n",
       "74   0.1856600  0.05024800 -0.02913280 -0.2120230 \n",
       "75  -0.0353646 -0.06683360 -0.12018500  0.0910785 \n",
       "76   0.0963103  0.22599700 -0.10746300  0.1484100 \n",
       "77   0.2922470 -0.00987182  0.17640600 -0.0649041 \n",
       "78  -0.1962080  0.05052780  0.04429180  0.0935128 \n",
       "79   0.1329400  0.17914700 -0.09112320  0.1688460 \n",
       "80  -0.1151760  0.20739800  0.25648700  0.0386783 \n",
       "81   0.0574023 -0.01609730  0.06422550 -0.2313700 \n",
       "82  -0.0315038  0.34825800  0.07006390  0.1021790 \n",
       "83  -0.1592830  0.09489980  0.37525200 -0.2304790 \n",
       "84   0.0909649 -0.19665400 -0.23326600 -0.1577720 \n",
       "85   0.1503980  0.03323420 -0.21088900  0.0481308 \n",
       "86  -0.0214625 -0.10178200  0.07197600  0.0841104 \n",
       "87   0.0242250  0.06852650  0.19674500 -0.0721852 \n",
       "88   0.3005500 -0.01911210  0.05754870  0.4466650 \n",
       "89  -0.2190970  0.36791400  0.12341800 -0.0931145 \n",
       "90   0.0936835 -0.04407230  0.20162600  0.0360818 \n",
       "91  -0.3319140 -0.09863350  0.42323200  0.1411730 \n",
       "92   0.0610365 -0.04132830 -0.15144300  0.0706476 \n",
       "93  -0.2784230 -0.16798400  0.24379300  0.0175192 \n",
       "94  -0.1151590 -0.04407570 -0.08077680 -0.0521475 \n",
       "95   0.1393930 -0.11430000  0.17163700 -0.0347715 \n",
       "96   0.2390040 -0.07875340 -0.16853200  0.1726810 \n",
       "97  -0.0597078  0.15542400  0.00801453  0.1540300 \n",
       "98   0.0966529  0.15858600  0.06526010  0.2170170 \n",
       "99   0.2624950 -0.09604880  0.04751230 -0.2569990 \n",
       "100 -0.3063500  0.28246900  0.14466900  0.0105062 "
      ]
     },
     "metadata": {},
     "output_type": "display_data"
    }
   ],
   "source": [
    "evec_alleles %>%\n",
    "filter(ALT1 == ALT, A1 == ALT) %>%\n",
    "arrange(-abs(PC1)) %>% head(100)"
   ]
  },
  {
   "cell_type": "code",
   "execution_count": 49,
   "metadata": {},
   "outputs": [
    {
     "name": "stderr",
     "output_type": "stream",
     "text": [
      "`stat_bin()` using `bins = 30`. Pick better value with `binwidth`.\n",
      "\n",
      "Warning message:\n",
      "“Removed 1188 rows containing non-finite values (stat_bin).”\n",
      "Warning message:\n",
      "“Removed 2 rows containing missing values (geom_bar).”\n"
     ]
    },
    {
     "data": {
      "image/png": "[encoded data removed]",
      "text/plain": [
       "plot without title"
      ]
     },
     "metadata": {
      "image/png": {
       "height": 420,
       "width": 420
      },
      "text/plain": {
       "height": 420,
       "width": 420
      }
     },
     "output_type": "display_data"
    }
   ],
   "source": [
    "evec_alleles %>%\n",
    "ggplot(aes(x = abs(PC1))) +\n",
    "geom_histogram(aes(y = cumsum(..count..) / nrow(evec_alleles))) +\n",
    "xlim(0, .25) +\n",
    "theme_bw()"
   ]
  },
  {
   "cell_type": "code",
   "execution_count": 19,
   "metadata": {},
   "outputs": [],
   "source": [
    "df <- '/oak/stanford/groups/mrivas/ukbb24983/phenotypedata/master_phe/master.20200522.phe' %>%\n",
    "fread(colClasses=c('#FID'='character', 'IID'='character'), select=c('#FID', 'IID', paste0('PC', 1:10), paste0('Global_PC', 1:10), 'population')) %>%\n",
    "rename('FID'='#FID')\n"
   ]
  },
  {
   "cell_type": "code",
   "execution_count": 3,
   "metadata": {},
   "outputs": [
    {
     "data": {
      "text/html": [
       "<table>\n",
       "<caption>A data.table: 9 × 2</caption>\n",
       "<thead>\n",
       "\t<tr><th scope=col>population</th><th scope=col>n</th></tr>\n",
       "\t<tr><th scope=col>&lt;chr&gt;</th><th scope=col>&lt;int&gt;</th></tr>\n",
       "</thead>\n",
       "<tbody>\n",
       "\t<tr><td>african          </td><td>  6497</td></tr>\n",
       "\t<tr><td>e_asian          </td><td>  1154</td></tr>\n",
       "\t<tr><td>e_asian_outlier  </td><td>   618</td></tr>\n",
       "\t<tr><td>non_british_white</td><td> 24905</td></tr>\n",
       "\t<tr><td>others           </td><td> 28467</td></tr>\n",
       "\t<tr><td>s_asian          </td><td>  7885</td></tr>\n",
       "\t<tr><td>s_asian_outlier  </td><td>    77</td></tr>\n",
       "\t<tr><td>white_british    </td><td>337138</td></tr>\n",
       "\t<tr><td>NA               </td><td>110029</td></tr>\n",
       "</tbody>\n",
       "</table>\n"
      ],
      "text/latex": [
       "A data.table: 9 × 2\n",
       "\\begin{tabular}{ll}\n",
       " population & n\\\\\n",
       " <chr> & <int>\\\\\n",
       "\\hline\n",
       "\t african           &   6497\\\\\n",
       "\t e\\_asian           &   1154\\\\\n",
       "\t e\\_asian\\_outlier   &    618\\\\\n",
       "\t non\\_british\\_white &  24905\\\\\n",
       "\t others            &  28467\\\\\n",
       "\t s\\_asian           &   7885\\\\\n",
       "\t s\\_asian\\_outlier   &     77\\\\\n",
       "\t white\\_british     & 337138\\\\\n",
       "\t NA                & 110029\\\\\n",
       "\\end{tabular}\n"
      ],
      "text/markdown": [
       "\n",
       "A data.table: 9 × 2\n",
       "\n",
       "| population &lt;chr&gt; | n &lt;int&gt; |\n",
       "|---|---|\n",
       "| african           |   6497 |\n",
       "| e_asian           |   1154 |\n",
       "| e_asian_outlier   |    618 |\n",
       "| non_british_white |  24905 |\n",
       "| others            |  28467 |\n",
       "| s_asian           |   7885 |\n",
       "| s_asian_outlier   |     77 |\n",
       "| white_british     | 337138 |\n",
       "| NA                | 110029 |\n",
       "\n"
      ],
      "text/plain": [
       "  population        n     \n",
       "1 african             6497\n",
       "2 e_asian             1154\n",
       "3 e_asian_outlier      618\n",
       "4 non_british_white  24905\n",
       "5 others             28467\n",
       "6 s_asian             7885\n",
       "7 s_asian_outlier       77\n",
       "8 white_british     337138\n",
       "9 NA                110029"
      ]
     },
     "metadata": {},
     "output_type": "display_data"
    }
   ],
   "source": [
    "df %>% count(population)"
   ]
  },
  {
   "cell_type": "code",
   "execution_count": 20,
   "metadata": {},
   "outputs": [],
   "source": [
    "p_WB_global <- df %>% \n",
    "drop_na(population) %>%\n",
    "filter(!str_detect(population, 'outlier')) %>%\n",
    "filter(population == 'white_british') %>%\n",
    "ggplot(aes(x=Global_PC1, y=Global_PC2)) +\n",
    "stat_density_2d(aes(fill = ..level..), geom = \"polygon\") +\n",
    "theme_bw()\n",
    "\n"
   ]
  },
  {
   "cell_type": "code",
   "execution_count": 21,
   "metadata": {},
   "outputs": [
    {
     "data": {
      "image/png": "[encoded data removed]",
      "text/plain": [
       "plot without title"
      ]
     },
     "metadata": {
      "image/png": {
       "height": 420,
       "width": 420
      },
      "text/plain": {
       "height": 420,
       "width": 420
      }
     },
     "output_type": "display_data"
    }
   ],
   "source": [
    "p_WB_global"
   ]
  },
  {
   "cell_type": "code",
   "execution_count": null,
   "metadata": {},
   "outputs": [],
   "source": []
  }
 ],
 "metadata": {
  "kernelspec": {
   "display_name": "R",
   "language": "R",
   "name": "ir"
  },
  "language_info": {
   "codemirror_mode": "r",
   "file_extension": ".r",
   "mimetype": "text/x-r-source",
   "name": "R",
   "pygments_lexer": "r",
   "version": "3.6.2"
  }
 },
 "nbformat": 4,
 "nbformat_minor": 4
}
