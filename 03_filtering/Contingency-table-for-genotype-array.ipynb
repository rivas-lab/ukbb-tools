{
 "cells": [
  {
   "cell_type": "markdown",
   "metadata": {},
   "source": [
    "# Genotype array covariate for multi-ethnic group\n",
    "\n",
    "#### Mamie Wang (szmamie@stanford.edu)\n",
    "\n",
    "#### 2018/02/19\n",
    "\n",
    "This note aims to investigate the problem of `Array` covariate dropping in glm regression of the GWAS pipeline.\n",
    "\n",
    "### Objective\n",
    "* produce a contingency table of array type count for each of the four population (`white_british`, `african`, `e_asian`, `s_asian`)"
   ]
  },
  {
   "cell_type": "code",
   "execution_count": 1,
   "metadata": {
    "collapsed": true
   },
   "outputs": [],
   "source": [
    "import pandas as pd"
   ]
  },
  {
   "cell_type": "markdown",
   "metadata": {},
   "source": [
    "## Genotype array covariate in sqc file\n",
    "* `genotype_array` column of sqc file provides the type of array (`UKBL`, `UKBB`)"
   ]
  },
  {
   "cell_type": "code",
   "execution_count": 2,
   "metadata": {
    "collapsed": true
   },
   "outputs": [],
   "source": [
    "with open('/oak/stanford/groups/mrivas/ukbb24983/sqc/download/ukb_sqc_v2.fields.txt') as f:\n",
    "    sqc_columns = [x for x in f.read().splitlines() if len(x) > 0]"
   ]
  },
  {
   "cell_type": "code",
   "execution_count": 3,
   "metadata": {
    "collapsed": true
   },
   "outputs": [],
   "source": [
    "sqc = pd.read_csv(\n",
    "    '/oak/stanford/groups/mrivas/ukbb24983/sqc/download/ukb_sqc_v2.txt',\n",
    "    sep='\\s+', names = sqc_columns\n",
    ")"
   ]
  },
  {
   "cell_type": "code",
   "execution_count": 4,
   "metadata": {
    "scrolled": true
   },
   "outputs": [
    {
     "data": {
      "text/plain": [
       "['affymetrix_field_1',\n",
       " 'affymetrix_field_2',\n",
       " 'genotyping_array',\n",
       " 'Batch',\n",
       " 'Plate_Name',\n",
       " 'Well',\n",
       " 'Cluster_CR',\n",
       " 'dQC',\n",
       " 'Internal_Pico_ng_uL',\n",
       " 'Submitted_Gender']"
      ]
     },
     "execution_count": 4,
     "metadata": {},
     "output_type": "execute_result"
    }
   ],
   "source": [
    "list(sqc.columns)[0:10]"
   ]
  },
  {
   "cell_type": "code",
   "execution_count": 5,
   "metadata": {},
   "outputs": [
    {
     "data": {
      "text/plain": [
       "array(['UKBB', 'UKBL'], dtype=object)"
      ]
     },
     "execution_count": 5,
     "metadata": {},
     "output_type": "execute_result"
    }
   ],
   "source": [
    "sqc.iloc[:,2].unique()"
   ]
  },
  {
   "cell_type": "code",
   "execution_count": 11,
   "metadata": {},
   "outputs": [
    {
     "data": {
      "text/plain": [
       "(488377, 89)"
      ]
     },
     "execution_count": 11,
     "metadata": {},
     "output_type": "execute_result"
    }
   ],
   "source": [
    "sqc.shape"
   ]
  },
  {
   "cell_type": "markdown",
   "metadata": {
    "collapsed": true
   },
   "source": [
    "## Fam file and population stratification file"
   ]
  },
  {
   "cell_type": "code",
   "execution_count": 14,
   "metadata": {},
   "outputs": [],
   "source": [
    "fam = pd.read_csv(\n",
    "    '/oak/stanford/groups/mrivas/ukbb24983/fam/ukb2498_cal_v2_s488370.fam', sep='\\s+',\n",
    "    names=['FID', 'IID', 'father', 'mother', 'sex', 'batch']\n",
    ")"
   ]
  },
  {
   "cell_type": "code",
   "execution_count": 15,
   "metadata": {},
   "outputs": [
    {
     "data": {
      "text/plain": [
       "(488377, 6)"
      ]
     },
     "execution_count": 15,
     "metadata": {},
     "output_type": "execute_result"
    }
   ],
   "source": [
    "fam.shape"
   ]
  },
  {
   "cell_type": "code",
   "execution_count": 38,
   "metadata": {
    "collapsed": true
   },
   "outputs": [],
   "source": [
    "white_british = pd.read_csv(\n",
    "    \"/oak/stanford/groups/mrivas/ukbb24983/sqc/population_stratification/ukb24983_white_british.phe\",\n",
    "    sep='\\s+', names = [\"FID\", \"IID\"]\n",
    ")\n",
    "african = pd.read_csv(\n",
    "    \"/oak/stanford/groups/mrivas/ukbb24983/sqc/population_stratification/ukb24983_african.phe\",\n",
    "    sep='\\s+', names = [\"FID\", \"IID\"]\n",
    ")\n",
    "\n",
    "s_asian = pd.read_csv(\n",
    "    \"/oak/stanford/groups/mrivas/ukbb24983/sqc/population_stratification/ukb24983_s_asian.phe\",\n",
    "    sep='\\s+', names = [\"FID\", \"IID\"]\n",
    ")\n",
    "\n",
    "e_asian = pd.read_csv(\n",
    "    \"/oak/stanford/groups/mrivas/ukbb24983/sqc/population_stratification/ukb24983_e_asian.phe\",\n",
    "    sep='\\s+', names = [\"FID\", \"IID\"]\n",
    ")    "
   ]
  },
  {
   "cell_type": "code",
   "execution_count": 16,
   "metadata": {},
   "outputs": [],
   "source": [
    "sqc_fam = pd.concat([fam, sqc], axis=1)"
   ]
  },
  {
   "cell_type": "code",
   "execution_count": 34,
   "metadata": {},
   "outputs": [],
   "source": [
    "def genotypeArrayCount(phe):\n",
    "    print(phe.merge(sqc_fam, on=('FID', 'IID'), how='left')\\\n",
    "    .groupby('genotyping_array')['IID']\\\n",
    "    .count())"
   ]
  },
  {
   "cell_type": "code",
   "execution_count": 39,
   "metadata": {},
   "outputs": [
    {
     "name": "stdout",
     "output_type": "stream",
     "text": [
      "genotyping_array\n",
      "UKBB    300158\n",
      "UKBL     37041\n",
      "Name: IID, dtype: int64\n"
     ]
    }
   ],
   "source": [
    "genotypeArrayCount(white_british)"
   ]
  },
  {
   "cell_type": "code",
   "execution_count": 35,
   "metadata": {},
   "outputs": [
    {
     "name": "stdout",
     "output_type": "stream",
     "text": [
      "genotyping_array\n",
      "UKBB    6497\n",
      "UKBL       1\n",
      "Name: IID, dtype: int64\n"
     ]
    }
   ],
   "source": [
    "genotypeArrayCount(african)"
   ]
  },
  {
   "cell_type": "code",
   "execution_count": 36,
   "metadata": {},
   "outputs": [
    {
     "name": "stdout",
     "output_type": "stream",
     "text": [
      "genotyping_array\n",
      "UKBB    7347\n",
      "UKBL      16\n",
      "Name: IID, dtype: int64\n"
     ]
    }
   ],
   "source": [
    "genotypeArrayCount(s_asian)"
   ]
  },
  {
   "cell_type": "code",
   "execution_count": 37,
   "metadata": {},
   "outputs": [
    {
     "name": "stdout",
     "output_type": "stream",
     "text": [
      "genotyping_array\n",
      "UKBB    2060\n",
      "UKBL       1\n",
      "Name: IID, dtype: int64\n"
     ]
    }
   ],
   "source": [
    "genotypeArrayCount(e_asian)"
   ]
  },
  {
   "cell_type": "markdown",
   "metadata": {},
   "source": [
    "# summary\n",
    "\n",
    "| number of individuals | UKBB | UKBL |\n",
    "| --- | --- | --- |\n",
    "| White British | 300,158 | 37,041 |\n",
    "| African       |   6,497 |      1 |\n",
    "| South Asian   |   7,347 |     16 |\n",
    "| East Asian    |   2,060 |      1 | "
   ]
  }
 ],
 "metadata": {
  "kernelspec": {
   "display_name": "Python 3",
   "language": "python",
   "name": "python3"
  },
  "language_info": {
   "codemirror_mode": {
    "name": "ipython",
    "version": 3
   },
   "file_extension": ".py",
   "mimetype": "text/x-python",
   "name": "python",
   "nbconvert_exporter": "python",
   "pygments_lexer": "ipython3",
   "version": "3.6.5"
  }
 },
 "nbformat": 4,
 "nbformat_minor": 2
}
