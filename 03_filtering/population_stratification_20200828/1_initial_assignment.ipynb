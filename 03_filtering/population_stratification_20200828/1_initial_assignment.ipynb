{
 "cells": [
  {
   "cell_type": "markdown",
   "metadata": {},
   "source": [
    "# Step 1) Sample-level QC (sqc) and initial population assignment based on Global genotype PCs and self-reported ancestry information\n",
    "\n",
    "#### Yosuke Tanigawa (ytanigaw@stanford.edu)\n",
    "#### Last update: 2020/9/1\n",
    "\n",
    "We define the following 5 populations in UK Biobank. Please see `README.md` file for more details.\n"
   ]
  },
  {
   "cell_type": "code",
   "execution_count": 2,
   "metadata": {},
   "outputs": [],
   "source": [
    "suppressWarnings(suppressPackageStartupMessages({\n",
    "    library(tidyverse)\n",
    "    library(data.table)\n",
    "}))\n"
   ]
  },
  {
   "cell_type": "markdown",
   "metadata": {},
   "source": [
    "## Step 1-0) Read the file names"
   ]
  },
  {
   "cell_type": "code",
   "execution_count": 19,
   "metadata": {},
   "outputs": [],
   "source": [
    "source('0_file_names.R')\n"
   ]
  },
  {
   "cell_type": "code",
   "execution_count": 20,
   "metadata": {},
   "outputs": [],
   "source": [
    "file_names <- get_file_names()"
   ]
  },
  {
   "cell_type": "markdown",
   "metadata": {},
   "source": [
    "## Step 1-1) Read the input files\n",
    "\n",
    "- `sqc` (sample quality control) file from UK Biobank has the same order as in fam file for the array fam file\n"
   ]
  },
  {
   "cell_type": "code",
   "execution_count": 3,
   "metadata": {},
   "outputs": [],
   "source": [
    "source('../sample_qc_functions.R')"
   ]
  },
  {
   "cell_type": "code",
   "execution_count": 4,
   "metadata": {},
   "outputs": [],
   "source": [
    "master_sqc_df <- read_master_sqc(file_names)\n"
   ]
  },
  {
   "cell_type": "markdown",
   "metadata": {},
   "source": [
    "### Characterize some counts"
   ]
  },
  {
   "cell_type": "markdown",
   "metadata": {},
   "source": [
    "#### QC filter"
   ]
  },
  {
   "cell_type": "code",
   "execution_count": 36,
   "metadata": {},
   "outputs": [
    {
     "data": {
      "text/html": [
       "<table>\n",
       "<caption>A data.frame: 7 × 5</caption>\n",
       "<thead>\n",
       "\t<tr><th scope=col>putative_sex_chromosome_aneuploidy</th><th scope=col>het_missing_outliers</th><th scope=col>excess_relatives</th><th scope=col>used_in_pca_calculation</th><th scope=col>n</th></tr>\n",
       "\t<tr><th scope=col>&lt;int&gt;</th><th scope=col>&lt;int&gt;</th><th scope=col>&lt;int&gt;</th><th scope=col>&lt;int&gt;</th><th scope=col>&lt;int&gt;</th></tr>\n",
       "</thead>\n",
       "<tbody>\n",
       "\t<tr><td>0</td><td>0</td><td>0</td><td>1</td><td>406825</td></tr>\n",
       "\t<tr><td>0</td><td>0</td><td>0</td><td>0</td><td> 79745</td></tr>\n",
       "\t<tr><td>0</td><td>1</td><td>0</td><td>0</td><td>   968</td></tr>\n",
       "\t<tr><td>1</td><td>0</td><td>0</td><td>1</td><td>   394</td></tr>\n",
       "\t<tr><td>1</td><td>0</td><td>0</td><td>0</td><td>   257</td></tr>\n",
       "\t<tr><td>0</td><td>0</td><td>1</td><td>0</td><td>   187</td></tr>\n",
       "\t<tr><td>1</td><td>0</td><td>1</td><td>0</td><td>     1</td></tr>\n",
       "</tbody>\n",
       "</table>\n"
      ],
      "text/latex": [
       "A data.frame: 7 × 5\n",
       "\\begin{tabular}{lllll}\n",
       " putative\\_sex\\_chromosome\\_aneuploidy & het\\_missing\\_outliers & excess\\_relatives & used\\_in\\_pca\\_calculation & n\\\\\n",
       " <int> & <int> & <int> & <int> & <int>\\\\\n",
       "\\hline\n",
       "\t 0 & 0 & 0 & 1 & 406825\\\\\n",
       "\t 0 & 0 & 0 & 0 &  79745\\\\\n",
       "\t 0 & 1 & 0 & 0 &    968\\\\\n",
       "\t 1 & 0 & 0 & 1 &    394\\\\\n",
       "\t 1 & 0 & 0 & 0 &    257\\\\\n",
       "\t 0 & 0 & 1 & 0 &    187\\\\\n",
       "\t 1 & 0 & 1 & 0 &      1\\\\\n",
       "\\end{tabular}\n"
      ],
      "text/markdown": [
       "\n",
       "A data.frame: 7 × 5\n",
       "\n",
       "| putative_sex_chromosome_aneuploidy &lt;int&gt; | het_missing_outliers &lt;int&gt; | excess_relatives &lt;int&gt; | used_in_pca_calculation &lt;int&gt; | n &lt;int&gt; |\n",
       "|---|---|---|---|---|\n",
       "| 0 | 0 | 0 | 1 | 406825 |\n",
       "| 0 | 0 | 0 | 0 |  79745 |\n",
       "| 0 | 1 | 0 | 0 |    968 |\n",
       "| 1 | 0 | 0 | 1 |    394 |\n",
       "| 1 | 0 | 0 | 0 |    257 |\n",
       "| 0 | 0 | 1 | 0 |    187 |\n",
       "| 1 | 0 | 1 | 0 |      1 |\n",
       "\n"
      ],
      "text/plain": [
       "  putative_sex_chromosome_aneuploidy het_missing_outliers excess_relatives\n",
       "1 0                                  0                    0               \n",
       "2 0                                  0                    0               \n",
       "3 0                                  1                    0               \n",
       "4 1                                  0                    0               \n",
       "5 1                                  0                    0               \n",
       "6 0                                  0                    1               \n",
       "7 1                                  0                    1               \n",
       "  used_in_pca_calculation n     \n",
       "1 1                       406825\n",
       "2 0                        79745\n",
       "3 0                          968\n",
       "4 1                          394\n",
       "5 0                          257\n",
       "6 0                          187\n",
       "7 0                            1"
      ]
     },
     "metadata": {},
     "output_type": "display_data"
    }
   ],
   "source": [
    "master_sqc_df %>% count(\n",
    "    putative_sex_chromosome_aneuploidy,\n",
    "    het_missing_outliers,\n",
    "    excess_relatives,\n",
    "    used_in_pca_calculation\n",
    ") %>%\n",
    "arrange(-n)\n"
   ]
  },
  {
   "cell_type": "code",
   "execution_count": 44,
   "metadata": {},
   "outputs": [
    {
     "data": {
      "text/html": [
       "<strong>png:</strong> 2"
      ],
      "text/latex": [
       "\\textbf{png:} 2"
      ],
      "text/markdown": [
       "**png:** 2"
      ],
      "text/plain": [
       "png \n",
       "  2 "
      ]
     },
     "metadata": {},
     "output_type": "display_data"
    }
   ],
   "source": [
    "png(file=sprintf('%s.QC.UpSetR.wo_PCA_flag.png', file_names$out_figs_prefix), width=800, height=600, units=\"px\", family = \"Helvetica\")\n",
    "UpSetR::upset(\n",
    "    UpSetR::fromList(list(\n",
    "        'putative_sex_chromosome_aneuploidy=1' = master_sqc_df %>% \n",
    "        filter(putative_sex_chromosome_aneuploidy == 1) %>% pull(IID),\n",
    "        \n",
    "        'het_missing_outliers=1' = master_sqc_df %>% \n",
    "        filter(het_missing_outliers == 1) %>% pull(IID),\n",
    "\n",
    "        'excess_relatives=1' = master_sqc_df %>% \n",
    "        filter(excess_relatives == 1) %>% pull(IID)\n",
    "    )),\n",
    "    mainbar.y.label = \"Number of removed individuals\",\n",
    "    sets.x.label = \"# individuals\", nsets = 20, nintersects = NA,\n",
    "    text.scale = 1.5, order.by = \"freq\", show.numbers = \"yes\"\n",
    ")\n",
    "dev.off()\n"
   ]
  },
  {
   "cell_type": "code",
   "execution_count": 45,
   "metadata": {},
   "outputs": [
    {
     "data": {
      "text/html": [
       "<strong>png:</strong> 2"
      ],
      "text/latex": [
       "\\textbf{png:} 2"
      ],
      "text/markdown": [
       "**png:** 2"
      ],
      "text/plain": [
       "png \n",
       "  2 "
      ]
     },
     "metadata": {},
     "output_type": "display_data"
    }
   ],
   "source": [
    "png(file=sprintf('%s.QC.UpSetR.png', file_names$out_figs_prefix), width=800, height=600, units=\"px\", family = \"Helvetica\")\n",
    "UpSetR::upset(\n",
    "    UpSetR::fromList(list(\n",
    "        'putative_sex_chromosome_aneuploidy=1' = master_sqc_df %>% \n",
    "        filter(putative_sex_chromosome_aneuploidy == 1) %>% pull(IID),\n",
    "        \n",
    "        'het_missing_outliers=1' = master_sqc_df %>% \n",
    "        filter(het_missing_outliers == 1) %>% pull(IID),\n",
    "\n",
    "        'excess_relatives=1' = master_sqc_df %>% \n",
    "        filter(excess_relatives == 1) %>% pull(IID),\n",
    "        \n",
    "        'used_in_pca_calculation=0' = master_sqc_df %>% \n",
    "        filter(used_in_pca_calculation == 0) %>% pull(IID)\n",
    "    )), \n",
    "    mainbar.y.label = \"Number of removed individuals\",\n",
    "    sets.x.label = \"# individuals\", nsets = 20, nintersects = NA,\n",
    "    text.scale = 1.5, order.by = \"freq\", show.numbers = \"yes\"\n",
    ")\n",
    "dev.off()\n"
   ]
  },
  {
   "cell_type": "markdown",
   "metadata": {},
   "source": [
    "#### Summary (number of individuals by self-reported ethnicity)\n",
    "\n",
    "- `n` is the total number of individuals\n",
    "- `n_QC` is the number of individuals who passed the 4 QC filters above\n",
    "- `n_QC_OCA` is the number of **unrelated** individuals who passed the 4 QC filters above\n"
   ]
  },
  {
   "cell_type": "code",
   "execution_count": 9,
   "metadata": {},
   "outputs": [
    {
     "data": {
      "text/html": [
       "<table>\n",
       "<caption>A data.frame: 23 × 6</caption>\n",
       "<thead>\n",
       "\t<tr><th scope=col>f21000_top_label</th><th scope=col>f21000_sub_label</th><th scope=col>f21000</th><th scope=col>n</th><th scope=col>n_QC</th><th scope=col>n_QC_PCA</th></tr>\n",
       "\t<tr><th scope=col>&lt;chr&gt;</th><th scope=col>&lt;chr&gt;</th><th scope=col>&lt;int&gt;</th><th scope=col>&lt;int&gt;</th><th scope=col>&lt;int&gt;</th><th scope=col>&lt;int&gt;</th></tr>\n",
       "</thead>\n",
       "<tbody>\n",
       "\t<tr><td>Do not know           </td><td>Do not know               </td><td>  -1</td><td>   200</td><td>   200</td><td>   181</td></tr>\n",
       "\t<tr><td>Prefer not to answer  </td><td>Prefer not to answer      </td><td>  -3</td><td>  1531</td><td>  1526</td><td>  1307</td></tr>\n",
       "\t<tr><td>White                 </td><td>White                     </td><td>   1</td><td>   525</td><td>   522</td><td>   441</td></tr>\n",
       "\t<tr><td>White                 </td><td>British                   </td><td>1001</td><td>430740</td><td>429184</td><td>355071</td></tr>\n",
       "\t<tr><td>White                 </td><td>Irish                     </td><td>1002</td><td> 12576</td><td> 12515</td><td> 10492</td></tr>\n",
       "\t<tr><td>White                 </td><td>Any other white background</td><td>1003</td><td> 15632</td><td> 15542</td><td> 14539</td></tr>\n",
       "\t<tr><td>Mixed                 </td><td>Mixed                     </td><td>   2</td><td>    46</td><td>    46</td><td>    42</td></tr>\n",
       "\t<tr><td>Mixed                 </td><td>White and Black Caribbean </td><td>2001</td><td>   594</td><td>   593</td><td>   527</td></tr>\n",
       "\t<tr><td>Mixed                 </td><td>White and Black African   </td><td>2002</td><td>   397</td><td>   396</td><td>   362</td></tr>\n",
       "\t<tr><td>Mixed                 </td><td>White and Asian           </td><td>2003</td><td>   795</td><td>   794</td><td>   719</td></tr>\n",
       "\t<tr><td>Mixed                 </td><td>Any other mixed background</td><td>2004</td><td>   982</td><td>   980</td><td>   889</td></tr>\n",
       "\t<tr><td>Asian or Asian British</td><td>Asian or Asian British    </td><td>   3</td><td>    42</td><td>    41</td><td>    34</td></tr>\n",
       "\t<tr><td>Asian or Asian British</td><td>Indian                    </td><td>3001</td><td>  5712</td><td>  5651</td><td>  5117</td></tr>\n",
       "\t<tr><td>Asian or Asian British</td><td>Pakistani                 </td><td>3002</td><td>  1746</td><td>  1740</td><td>  1583</td></tr>\n",
       "\t<tr><td>Asian or Asian British</td><td>Bangladeshi               </td><td>3003</td><td>   221</td><td>   221</td><td>   209</td></tr>\n",
       "\t<tr><td>Asian or Asian British</td><td>Any other Asian background</td><td>3004</td><td>  1733</td><td>  1733</td><td>  1629</td></tr>\n",
       "\t<tr><td>Black or Black British</td><td>Black or Black British    </td><td>   4</td><td>    25</td><td>    25</td><td>    22</td></tr>\n",
       "\t<tr><td>Black or Black British</td><td>Caribbean                 </td><td>4001</td><td>  4294</td><td>  4285</td><td>  3789</td></tr>\n",
       "\t<tr><td>Black or Black British</td><td>African                   </td><td>4002</td><td>  3199</td><td>  3196</td><td>  3067</td></tr>\n",
       "\t<tr><td>Black or Black British</td><td>Any other Black background</td><td>4003</td><td>   116</td><td>   116</td><td>   107</td></tr>\n",
       "\t<tr><td>Chinese               </td><td>Chinese                   </td><td>   5</td><td>  1501</td><td>  1500</td><td>  1419</td></tr>\n",
       "\t<tr><td>Other ethnic group    </td><td>Other ethnic group        </td><td>   6</td><td>  4301</td><td>  4294</td><td>  4007</td></tr>\n",
       "\t<tr><td>NA                    </td><td>NA                        </td><td>  NA</td><td>  1469</td><td>  1346</td><td>  1169</td></tr>\n",
       "</tbody>\n",
       "</table>\n"
      ],
      "text/latex": [
       "A data.frame: 23 × 6\n",
       "\\begin{tabular}{llllll}\n",
       " f21000\\_top\\_label & f21000\\_sub\\_label & f21000 & n & n\\_QC & n\\_QC\\_PCA\\\\\n",
       " <chr> & <chr> & <int> & <int> & <int> & <int>\\\\\n",
       "\\hline\n",
       "\t Do not know            & Do not know                &   -1 &    200 &    200 &    181\\\\\n",
       "\t Prefer not to answer   & Prefer not to answer       &   -3 &   1531 &   1526 &   1307\\\\\n",
       "\t White                  & White                      &    1 &    525 &    522 &    441\\\\\n",
       "\t White                  & British                    & 1001 & 430740 & 429184 & 355071\\\\\n",
       "\t White                  & Irish                      & 1002 &  12576 &  12515 &  10492\\\\\n",
       "\t White                  & Any other white background & 1003 &  15632 &  15542 &  14539\\\\\n",
       "\t Mixed                  & Mixed                      &    2 &     46 &     46 &     42\\\\\n",
       "\t Mixed                  & White and Black Caribbean  & 2001 &    594 &    593 &    527\\\\\n",
       "\t Mixed                  & White and Black African    & 2002 &    397 &    396 &    362\\\\\n",
       "\t Mixed                  & White and Asian            & 2003 &    795 &    794 &    719\\\\\n",
       "\t Mixed                  & Any other mixed background & 2004 &    982 &    980 &    889\\\\\n",
       "\t Asian or Asian British & Asian or Asian British     &    3 &     42 &     41 &     34\\\\\n",
       "\t Asian or Asian British & Indian                     & 3001 &   5712 &   5651 &   5117\\\\\n",
       "\t Asian or Asian British & Pakistani                  & 3002 &   1746 &   1740 &   1583\\\\\n",
       "\t Asian or Asian British & Bangladeshi                & 3003 &    221 &    221 &    209\\\\\n",
       "\t Asian or Asian British & Any other Asian background & 3004 &   1733 &   1733 &   1629\\\\\n",
       "\t Black or Black British & Black or Black British     &    4 &     25 &     25 &     22\\\\\n",
       "\t Black or Black British & Caribbean                  & 4001 &   4294 &   4285 &   3789\\\\\n",
       "\t Black or Black British & African                    & 4002 &   3199 &   3196 &   3067\\\\\n",
       "\t Black or Black British & Any other Black background & 4003 &    116 &    116 &    107\\\\\n",
       "\t Chinese                & Chinese                    &    5 &   1501 &   1500 &   1419\\\\\n",
       "\t Other ethnic group     & Other ethnic group         &    6 &   4301 &   4294 &   4007\\\\\n",
       "\t NA                     & NA                         &   NA &   1469 &   1346 &   1169\\\\\n",
       "\\end{tabular}\n"
      ],
      "text/markdown": [
       "\n",
       "A data.frame: 23 × 6\n",
       "\n",
       "| f21000_top_label &lt;chr&gt; | f21000_sub_label &lt;chr&gt; | f21000 &lt;int&gt; | n &lt;int&gt; | n_QC &lt;int&gt; | n_QC_PCA &lt;int&gt; |\n",
       "|---|---|---|---|---|---|\n",
       "| Do not know            | Do not know                |   -1 |    200 |    200 |    181 |\n",
       "| Prefer not to answer   | Prefer not to answer       |   -3 |   1531 |   1526 |   1307 |\n",
       "| White                  | White                      |    1 |    525 |    522 |    441 |\n",
       "| White                  | British                    | 1001 | 430740 | 429184 | 355071 |\n",
       "| White                  | Irish                      | 1002 |  12576 |  12515 |  10492 |\n",
       "| White                  | Any other white background | 1003 |  15632 |  15542 |  14539 |\n",
       "| Mixed                  | Mixed                      |    2 |     46 |     46 |     42 |\n",
       "| Mixed                  | White and Black Caribbean  | 2001 |    594 |    593 |    527 |\n",
       "| Mixed                  | White and Black African    | 2002 |    397 |    396 |    362 |\n",
       "| Mixed                  | White and Asian            | 2003 |    795 |    794 |    719 |\n",
       "| Mixed                  | Any other mixed background | 2004 |    982 |    980 |    889 |\n",
       "| Asian or Asian British | Asian or Asian British     |    3 |     42 |     41 |     34 |\n",
       "| Asian or Asian British | Indian                     | 3001 |   5712 |   5651 |   5117 |\n",
       "| Asian or Asian British | Pakistani                  | 3002 |   1746 |   1740 |   1583 |\n",
       "| Asian or Asian British | Bangladeshi                | 3003 |    221 |    221 |    209 |\n",
       "| Asian or Asian British | Any other Asian background | 3004 |   1733 |   1733 |   1629 |\n",
       "| Black or Black British | Black or Black British     |    4 |     25 |     25 |     22 |\n",
       "| Black or Black British | Caribbean                  | 4001 |   4294 |   4285 |   3789 |\n",
       "| Black or Black British | African                    | 4002 |   3199 |   3196 |   3067 |\n",
       "| Black or Black British | Any other Black background | 4003 |    116 |    116 |    107 |\n",
       "| Chinese                | Chinese                    |    5 |   1501 |   1500 |   1419 |\n",
       "| Other ethnic group     | Other ethnic group         |    6 |   4301 |   4294 |   4007 |\n",
       "| NA                     | NA                         |   NA |   1469 |   1346 |   1169 |\n",
       "\n"
      ],
      "text/plain": [
       "   f21000_top_label       f21000_sub_label           f21000 n      n_QC  \n",
       "1  Do not know            Do not know                  -1      200    200\n",
       "2  Prefer not to answer   Prefer not to answer         -3     1531   1526\n",
       "3  White                  White                         1      525    522\n",
       "4  White                  British                    1001   430740 429184\n",
       "5  White                  Irish                      1002    12576  12515\n",
       "6  White                  Any other white background 1003    15632  15542\n",
       "7  Mixed                  Mixed                         2       46     46\n",
       "8  Mixed                  White and Black Caribbean  2001      594    593\n",
       "9  Mixed                  White and Black African    2002      397    396\n",
       "10 Mixed                  White and Asian            2003      795    794\n",
       "11 Mixed                  Any other mixed background 2004      982    980\n",
       "12 Asian or Asian British Asian or Asian British        3       42     41\n",
       "13 Asian or Asian British Indian                     3001     5712   5651\n",
       "14 Asian or Asian British Pakistani                  3002     1746   1740\n",
       "15 Asian or Asian British Bangladeshi                3003      221    221\n",
       "16 Asian or Asian British Any other Asian background 3004     1733   1733\n",
       "17 Black or Black British Black or Black British        4       25     25\n",
       "18 Black or Black British Caribbean                  4001     4294   4285\n",
       "19 Black or Black British African                    4002     3199   3196\n",
       "20 Black or Black British Any other Black background 4003      116    116\n",
       "21 Chinese                Chinese                       5     1501   1500\n",
       "22 Other ethnic group     Other ethnic group            6     4301   4294\n",
       "23 NA                     NA                           NA     1469   1346\n",
       "   n_QC_PCA\n",
       "1     181  \n",
       "2    1307  \n",
       "3     441  \n",
       "4  355071  \n",
       "5   10492  \n",
       "6   14539  \n",
       "7      42  \n",
       "8     527  \n",
       "9     362  \n",
       "10    719  \n",
       "11    889  \n",
       "12     34  \n",
       "13   5117  \n",
       "14   1583  \n",
       "15    209  \n",
       "16   1629  \n",
       "17     22  \n",
       "18   3789  \n",
       "19   3067  \n",
       "20    107  \n",
       "21   1419  \n",
       "22   4007  \n",
       "23   1169  "
      ]
     },
     "metadata": {},
     "output_type": "display_data"
    }
   ],
   "source": [
    "master_sqc_df %>% \n",
    "show_counts_for_self_reported_ethnicity()"
   ]
  },
  {
   "cell_type": "markdown",
   "metadata": {},
   "source": [
    "### Save PCA plots"
   ]
  },
  {
   "cell_type": "code",
   "execution_count": 10,
   "metadata": {},
   "outputs": [],
   "source": [
    "plot_pca_all       <- master_sqc_df %>% plot_pca_self_reported() +\n",
    "labs(\n",
    "    title='Genotype-based global PCs across self-reported ethnicity in UK Biobank', \n",
    "    x='Genotype-based global PC1',\n",
    "    y='Genotype-based global PC2',\n",
    "    color='Self-reported ethnicity'\n",
    ")\n",
    "\n",
    "plot_pca_top_label <- plot_pca_all + facet_wrap( ~ f21000_top_label, ncol=3) \n"
   ]
  },
  {
   "cell_type": "code",
   "execution_count": 11,
   "metadata": {},
   "outputs": [
    {
     "name": "stderr",
     "output_type": "stream",
     "text": [
      "Saving 6.67 x 6.67 in image\n",
      "\n",
      "Saving 6.67 x 6.67 in image\n",
      "\n"
     ]
    }
   ],
   "source": [
    "# for(ext in c('png', 'pdf')){\n",
    "for(ext in c('png')){    \n",
    "    ggsave(\n",
    "        sprintf('%s.PCA.self.reported.ethnicity.%s', file_names$out_figs_prefix, ext),\n",
    "        plot_pca_all\n",
    "    )\n",
    "    \n",
    "    ggsave(\n",
    "        sprintf('%s.PCA.self.reported.ethnicity.facet.%s', file_names$out_figs_prefix, ext),\n",
    "        plot_pca_top_label\n",
    "    )\n",
    "    \n",
    "}"
   ]
  },
  {
   "cell_type": "markdown",
   "metadata": {},
   "source": [
    "## Step 1-2) define the population groups based on thresholds on PC1 and PC2"
   ]
  },
  {
   "cell_type": "code",
   "execution_count": 12,
   "metadata": {},
   "outputs": [],
   "source": [
    "master_sqc_pop_df <- master_sqc_df %>% \n",
    "define_populations()\n"
   ]
  },
  {
   "cell_type": "code",
   "execution_count": 13,
   "metadata": {},
   "outputs": [],
   "source": [
    "pops <- master_sqc_pop_df %>% \n",
    "drop_na(population) %>% \n",
    "select(population) %>% \n",
    "unique() %>% \n",
    "pull()\n"
   ]
  },
  {
   "cell_type": "markdown",
   "metadata": {},
   "source": [
    "### The number of individuals in the initial population assignment"
   ]
  },
  {
   "cell_type": "code",
   "execution_count": 14,
   "metadata": {},
   "outputs": [
    {
     "data": {
      "text/html": [
       "<table>\n",
       "<caption>A data.frame: 5 × 6</caption>\n",
       "<thead>\n",
       "\t<tr><th scope=col>population</th><th scope=col>UKBB</th><th scope=col>UKBL</th><th scope=col>w_exome</th><th scope=col>wo_exome</th><th scope=col>n</th></tr>\n",
       "\t<tr><th scope=col>&lt;chr&gt;</th><th scope=col>&lt;dbl&gt;</th><th scope=col>&lt;dbl&gt;</th><th scope=col>&lt;dbl&gt;</th><th scope=col>&lt;dbl&gt;</th><th scope=col>&lt;dbl&gt;</th></tr>\n",
       "</thead>\n",
       "<tbody>\n",
       "\t<tr><td>white_british    </td><td>300094</td><td>37035</td><td>34392</td><td>302737</td><td>337129</td></tr>\n",
       "\t<tr><td>non_british_white</td><td> 22406</td><td> 2499</td><td> 2694</td><td> 22211</td><td> 24905</td></tr>\n",
       "\t<tr><td>s_asian          </td><td>  7962</td><td>    0</td><td>  893</td><td>  7069</td><td>  7962</td></tr>\n",
       "\t<tr><td>african          </td><td>  6497</td><td>    0</td><td>  847</td><td>  5650</td><td>  6497</td></tr>\n",
       "\t<tr><td>e_asian          </td><td>  1772</td><td>    0</td><td>  187</td><td>  1585</td><td>  1772</td></tr>\n",
       "</tbody>\n",
       "</table>\n"
      ],
      "text/latex": [
       "A data.frame: 5 × 6\n",
       "\\begin{tabular}{llllll}\n",
       " population & UKBB & UKBL & w\\_exome & wo\\_exome & n\\\\\n",
       " <chr> & <dbl> & <dbl> & <dbl> & <dbl> & <dbl>\\\\\n",
       "\\hline\n",
       "\t white\\_british     & 300094 & 37035 & 34392 & 302737 & 337129\\\\\n",
       "\t non\\_british\\_white &  22406 &  2499 &  2694 &  22211 &  24905\\\\\n",
       "\t s\\_asian           &   7962 &     0 &   893 &   7069 &   7962\\\\\n",
       "\t african           &   6497 &     0 &   847 &   5650 &   6497\\\\\n",
       "\t e\\_asian           &   1772 &     0 &   187 &   1585 &   1772\\\\\n",
       "\\end{tabular}\n"
      ],
      "text/markdown": [
       "\n",
       "A data.frame: 5 × 6\n",
       "\n",
       "| population &lt;chr&gt; | UKBB &lt;dbl&gt; | UKBL &lt;dbl&gt; | w_exome &lt;dbl&gt; | wo_exome &lt;dbl&gt; | n &lt;dbl&gt; |\n",
       "|---|---|---|---|---|---|\n",
       "| white_british     | 300094 | 37035 | 34392 | 302737 | 337129 |\n",
       "| non_british_white |  22406 |  2499 |  2694 |  22211 |  24905 |\n",
       "| s_asian           |   7962 |     0 |   893 |   7069 |   7962 |\n",
       "| african           |   6497 |     0 |   847 |   5650 |   6497 |\n",
       "| e_asian           |   1772 |     0 |   187 |   1585 |   1772 |\n",
       "\n"
      ],
      "text/plain": [
       "  population        UKBB   UKBL  w_exome wo_exome n     \n",
       "1 white_british     300094 37035 34392   302737   337129\n",
       "2 non_british_white  22406  2499  2694    22211    24905\n",
       "3 s_asian             7962     0   893     7069     7962\n",
       "4 african             6497     0   847     5650     6497\n",
       "5 e_asian             1772     0   187     1585     1772"
      ]
     },
     "metadata": {},
     "output_type": "display_data"
    }
   ],
   "source": [
    "master_sqc_pop_df %>% show_population_counts()"
   ]
  },
  {
   "cell_type": "markdown",
   "metadata": {},
   "source": [
    "## Step 1-3) Write the initial population definition to phe files\n",
    "Every time this notebook is run, we should save the new phenotype (`.phe`) files to a new directory that has the date in the name. We have kept the root directory as `/oak/stanford/groups/mrivas/ukbb24983/sqc/` on Sherlock, and the name of the directory as `population_stratification_w24983_YYYYMMDD`.\n",
    "\n",
    "This file paths is now configured in `0_file_names.R`.\n",
    "\n",
    "### [warning] Please check and update the paths in `0_file_names.R`. Otherwise, we will LOSE the previous files from the previous iteration.\n",
    "\n",
    "Please uncomment the following `fwrite` commands after you double checked the file paths\n"
   ]
  },
  {
   "cell_type": "code",
   "execution_count": 50,
   "metadata": {},
   "outputs": [
    {
     "data": {
      "text/html": [
       "'/oak/stanford/groups/mrivas/ukbb24983/sqc/population_stratification_w24983_20200828/pca1_refinement'"
      ],
      "text/latex": [
       "'/oak/stanford/groups/mrivas/ukbb24983/sqc/population\\_stratification\\_w24983\\_20200828/pca1\\_refinement'"
      ],
      "text/markdown": [
       "'/oak/stanford/groups/mrivas/ukbb24983/sqc/population_stratification_w24983_20200828/pca1_refinement'"
      ],
      "text/plain": [
       "[1] \"/oak/stanford/groups/mrivas/ukbb24983/sqc/population_stratification_w24983_20200828/pca1_refinement\""
      ]
     },
     "metadata": {},
     "output_type": "display_data"
    }
   ],
   "source": [
    "file_names$pop_refinement_pca"
   ]
  },
  {
   "cell_type": "code",
   "execution_count": 18,
   "metadata": {},
   "outputs": [
    {
     "name": "stdout",
     "output_type": "stream",
     "text": [
      "[1] \"white_british\"\n",
      "[1] \"e_asian\"\n",
      "[1] \"non_british_white\"\n",
      "[1] \"s_asian\"\n",
      "[1] \"african\"\n"
     ]
    }
   ],
   "source": [
    "# for (pop in pops){\n",
    "#     print(pop)\n",
    "    \n",
    "#     master_sqc_pop_df %>% filter(population == pop) %>%\n",
    "#     select(FID, IID) %>% \n",
    "#     fwrite(file.path(file_names$pop_refinement_pca, paste0('ukb24983_', pop, '.phe')), sep='\\t', col.names = F)    \n",
    "# }\n"
   ]
  },
  {
   "cell_type": "markdown",
   "metadata": {},
   "source": [
    "## Next Step: Run PCA for each population group for population refinement\n",
    "\n",
    "Please check `2_pca1_refinement.sh`"
   ]
  },
  {
   "cell_type": "code",
   "execution_count": null,
   "metadata": {},
   "outputs": [],
   "source": []
  }
 ],
 "metadata": {
  "kernelspec": {
   "display_name": "R",
   "language": "R",
   "name": "ir"
  },
  "language_info": {
   "codemirror_mode": "r",
   "file_extension": ".r",
   "mimetype": "text/x-r-source",
   "name": "R",
   "pygments_lexer": "r",
   "version": "3.6.2"
  }
 },
 "nbformat": 4,
 "nbformat_minor": 4
}
