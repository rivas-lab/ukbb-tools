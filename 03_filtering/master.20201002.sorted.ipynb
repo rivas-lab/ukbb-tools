{
 "cells": [
  {
   "cell_type": "code",
   "execution_count": 1,
   "metadata": {},
   "outputs": [],
   "source": [
    "suppressWarnings(suppressPackageStartupMessages({\n",
    "    library(tidyverse)\n",
    "    library(data.table)\n",
    "}))\n"
   ]
  },
  {
   "cell_type": "code",
   "execution_count": 2,
   "metadata": {},
   "outputs": [],
   "source": [
    "cat_or_zcat <- function(f){\n",
    "    ifelse(endsWith(f, '.zst'), 'zstdcat', ifelse(endsWith(f, '.gz'), 'zcat', 'cat'))\n",
    "}\n",
    "\n",
    "fread_FID_IID <- function(f){\n",
    "    fread(cmd=paste(cat_or_zcat(f), f), colClasses = c('#FID'='character', 'IID'='character')) %>% rename('FID'='#FID')\n",
    "}\n"
   ]
  },
  {
   "cell_type": "code",
   "execution_count": 3,
   "metadata": {},
   "outputs": [],
   "source": [
    "in_f <- '/scratch/groups/mrivas/ukbb24983/phenotypedata/master_phe/master.20201002.phe.zst'\n",
    "out_f <- '/scratch/groups/mrivas/ukbb24983/phenotypedata/master_phe/master.20201002.sorted.phe'\n"
   ]
  },
  {
   "cell_type": "code",
   "execution_count": 4,
   "metadata": {},
   "outputs": [],
   "source": [
    "in_f %>% fread_FID_IID() -> master_phe_df\n"
   ]
  },
  {
   "cell_type": "code",
   "execution_count": 15,
   "metadata": {},
   "outputs": [
    {
     "data": {
      "text/html": [
       "<style>\n",
       ".list-inline {list-style: none; margin:0; padding: 0}\n",
       ".list-inline>li {display: inline-block}\n",
       ".list-inline>li:not(:last-child)::after {content: \"\\00b7\"; padding: 0 .5ex}\n",
       "</style>\n",
       "<ol class=list-inline><li>'Global_PC40'</li><li>'BIN_FC1002306'</li></ol>\n"
      ],
      "text/latex": [
       "\\begin{enumerate*}\n",
       "\\item 'Global\\_PC40'\n",
       "\\item 'BIN\\_FC1002306'\n",
       "\\end{enumerate*}\n"
      ],
      "text/markdown": [
       "1. 'Global_PC40'\n",
       "2. 'BIN_FC1002306'\n",
       "\n",
       "\n"
      ],
      "text/plain": [
       "[1] \"Global_PC40\"   \"BIN_FC1002306\""
      ]
     },
     "metadata": {},
     "output_type": "display_data"
    }
   ],
   "source": [
    "colnames(master_phe_df)[94:95]"
   ]
  },
  {
   "cell_type": "code",
   "execution_count": 8,
   "metadata": {},
   "outputs": [],
   "source": [
    "master_phe_df %>%\n",
    "select(all_of(c(\n",
    "    colnames(master_phe_df)[1:94], sort(colnames(master_phe_df)[95:ncol(master_phe_df)])\n",
    "))) -> master_phe_sorted_df\n"
   ]
  },
  {
   "cell_type": "code",
   "execution_count": 11,
   "metadata": {},
   "outputs": [
    {
     "data": {
      "text/html": [
       "<style>\n",
       ".list-inline {list-style: none; margin:0; padding: 0}\n",
       ".list-inline>li {display: inline-block}\n",
       ".list-inline>li:not(:last-child)::after {content: \"\\00b7\"; padding: 0 .5ex}\n",
       "</style>\n",
       "<ol class=list-inline><li>'Global_PC40'</li><li>'BIN_FC10000120'</li></ol>\n"
      ],
      "text/latex": [
       "\\begin{enumerate*}\n",
       "\\item 'Global\\_PC40'\n",
       "\\item 'BIN\\_FC10000120'\n",
       "\\end{enumerate*}\n"
      ],
      "text/markdown": [
       "1. 'Global_PC40'\n",
       "2. 'BIN_FC10000120'\n",
       "\n",
       "\n"
      ],
      "text/plain": [
       "[1] \"Global_PC40\"    \"BIN_FC10000120\""
      ]
     },
     "metadata": {},
     "output_type": "display_data"
    }
   ],
   "source": [
    "colnames(master_phe_sorted_df)[94:95]"
   ]
  },
  {
   "cell_type": "code",
   "execution_count": 13,
   "metadata": {},
   "outputs": [],
   "source": [
    "master_phe_sorted_df %>%\n",
    "rename('#FID' = 'FID') %>%\n",
    "fwrite(out_f, sep='\\t', na = \"NA\", quote=F)\n"
   ]
  },
  {
   "cell_type": "code",
   "execution_count": 16,
   "metadata": {},
   "outputs": [
    {
     "data": {
      "text/html": [
       "<style>\n",
       ".list-inline {list-style: none; margin:0; padding: 0}\n",
       ".list-inline>li {display: inline-block}\n",
       ".list-inline>li:not(:last-child)::after {content: \"\\00b7\"; padding: 0 .5ex}\n",
       "</style>\n",
       "<ol class=list-inline><li>516770</li><li>3562</li></ol>\n"
      ],
      "text/latex": [
       "\\begin{enumerate*}\n",
       "\\item 516770\n",
       "\\item 3562\n",
       "\\end{enumerate*}\n"
      ],
      "text/markdown": [
       "1. 516770\n",
       "2. 3562\n",
       "\n",
       "\n"
      ],
      "text/plain": [
       "[1] 516770   3562"
      ]
     },
     "metadata": {},
     "output_type": "display_data"
    }
   ],
   "source": [
    "dim(master_phe_sorted_df)"
   ]
  },
  {
   "cell_type": "code",
   "execution_count": 17,
   "metadata": {},
   "outputs": [
    {
     "data": {
      "text/html": [
       "<style>\n",
       ".list-inline {list-style: none; margin:0; padding: 0}\n",
       ".list-inline>li {display: inline-block}\n",
       ".list-inline>li:not(:last-child)::after {content: \"\\00b7\"; padding: 0 .5ex}\n",
       "</style>\n",
       "<ol class=list-inline><li>516770</li><li>3562</li></ol>\n"
      ],
      "text/latex": [
       "\\begin{enumerate*}\n",
       "\\item 516770\n",
       "\\item 3562\n",
       "\\end{enumerate*}\n"
      ],
      "text/markdown": [
       "1. 516770\n",
       "2. 3562\n",
       "\n",
       "\n"
      ],
      "text/plain": [
       "[1] 516770   3562"
      ]
     },
     "metadata": {},
     "output_type": "display_data"
    }
   ],
   "source": [
    "dim(master_phe_df)"
   ]
  },
  {
   "cell_type": "code",
   "execution_count": null,
   "metadata": {},
   "outputs": [],
   "source": []
  }
 ],
 "metadata": {
  "kernelspec": {
   "display_name": "R",
   "language": "R",
   "name": "ir"
  },
  "language_info": {
   "codemirror_mode": "r",
   "file_extension": ".r",
   "mimetype": "text/x-r-source",
   "name": "R",
   "pygments_lexer": "r",
   "version": "3.6.2"
  }
 },
 "nbformat": 4,
 "nbformat_minor": 4
}
