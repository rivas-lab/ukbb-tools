{
 "cells": [
  {
   "cell_type": "code",
   "execution_count": 1,
   "metadata": {},
   "outputs": [],
   "source": [
    "suppressWarnings(suppressPackageStartupMessages({\n",
    "    library(tidyverse)\n",
    "    library(data.table)\n",
    "}))\n"
   ]
  },
  {
   "cell_type": "code",
   "execution_count": 6,
   "metadata": {},
   "outputs": [],
   "source": [
    "penalty_f <- '/oak/stanford/groups/mrivas/ukbb24983/array_combined/snpnet/penalty.rds'\n",
    "coding_lst <- '/oak/stanford/groups/mrivas/ukbb24983/cal/coding-only/coding.vars.lst'\n",
    "pvar_f <- '/oak/stanford/groups/mrivas/ukbb24983/cal/pgen/ukb24983_cal_cALL_v2.pvar'"
   ]
  },
  {
   "cell_type": "code",
   "execution_count": 3,
   "metadata": {},
   "outputs": [],
   "source": [
    "penalty <- readRDS(penalty_f)\n",
    "penalty_df <- data.frame(\n",
    "    ID_A1 = names(penalty),\n",
    "    penalty = penalty,\n",
    "    stringsAsFactors=F\n",
    ") %>%\n",
    "mutate(\n",
    "    Csq = if_else(\n",
    "        penalty == .5, 'PTVs',\n",
    "        if_else(\n",
    "            penalty == .75, 'PAVs', 'Others'\n",
    "        )    \n",
    "    )\n",
    ")\n"
   ]
  },
  {
   "cell_type": "code",
   "execution_count": 5,
   "metadata": {},
   "outputs": [
    {
     "data": {
      "text/html": [
       "<table>\n",
       "<caption>A tibble: 3 × 2</caption>\n",
       "<thead>\n",
       "\t<tr><th scope=col>Csq</th><th scope=col>n</th></tr>\n",
       "\t<tr><th scope=col>&lt;chr&gt;</th><th scope=col>&lt;int&gt;</th></tr>\n",
       "</thead>\n",
       "<tbody>\n",
       "\t<tr><td>Others</td><td>965722</td></tr>\n",
       "\t<tr><td>PAVs  </td><td> 87430</td></tr>\n",
       "\t<tr><td>PTVs  </td><td> 27816</td></tr>\n",
       "</tbody>\n",
       "</table>\n"
      ],
      "text/latex": [
       "A tibble: 3 × 2\n",
       "\\begin{tabular}{ll}\n",
       " Csq & n\\\\\n",
       " <chr> & <int>\\\\\n",
       "\\hline\n",
       "\t Others & 965722\\\\\n",
       "\t PAVs   &  87430\\\\\n",
       "\t PTVs   &  27816\\\\\n",
       "\\end{tabular}\n"
      ],
      "text/markdown": [
       "\n",
       "A tibble: 3 × 2\n",
       "\n",
       "| Csq &lt;chr&gt; | n &lt;int&gt; |\n",
       "|---|---|\n",
       "| Others | 965722 |\n",
       "| PAVs   |  87430 |\n",
       "| PTVs   |  27816 |\n",
       "\n"
      ],
      "text/plain": [
       "  Csq    n     \n",
       "1 Others 965722\n",
       "2 PAVs    87430\n",
       "3 PTVs    27816"
      ]
     },
     "metadata": {},
     "output_type": "display_data"
    }
   ],
   "source": [
    "penalty_df %>% count(Csq)"
   ]
  },
  {
   "cell_type": "code",
   "execution_count": 12,
   "metadata": {},
   "outputs": [
    {
     "data": {
      "text/html": [
       "115246"
      ],
      "text/latex": [
       "115246"
      ],
      "text/markdown": [
       "115246"
      ],
      "text/plain": [
       "[1] 115246"
      ]
     },
     "metadata": {},
     "output_type": "display_data"
    }
   ],
   "source": [
    "87430 + 27816"
   ]
  },
  {
   "cell_type": "code",
   "execution_count": 8,
   "metadata": {},
   "outputs": [],
   "source": [
    "pvar_df <- fread(pvar_f) %>% rename('CHROM'='#CHROM')\n"
   ]
  },
  {
   "cell_type": "code",
   "execution_count": 13,
   "metadata": {},
   "outputs": [],
   "source": [
    "penalty_df %>%\n",
    "filter(penalty != 1) %>%\n",
    "select(-Csq, -penalty) %>%\n",
    "\n"
   ]
  },
  {
   "cell_type": "code",
   "execution_count": 11,
   "metadata": {},
   "outputs": [],
   "source": [
    "penalty_df %>%\n",
    "filter(penalty != 1) %>%\n",
    "select(-Csq, -penalty) %>%\n",
    "left_join(\n",
    "    pvar_df %>%\n",
    "    mutate(ID_A1 = paste(ID, ALT, sep='_')),\n",
    "    by='ID_A1'\n",
    ") %>%\n",
    "select(ID) %>%\n",
    "fwrite(coding_lst, col.names=F, sep='\\t', na = \"NA\", quote=F)\n"
   ]
  },
  {
   "cell_type": "code",
   "execution_count": null,
   "metadata": {},
   "outputs": [],
   "source": []
  }
 ],
 "metadata": {
  "kernelspec": {
   "display_name": "R",
   "language": "R",
   "name": "ir"
  },
  "language_info": {
   "codemirror_mode": "r",
   "file_extension": ".r",
   "mimetype": "text/x-r-source",
   "name": "R",
   "pygments_lexer": "r",
   "version": "3.6.1"
  }
 },
 "nbformat": 4,
 "nbformat_minor": 4
}
