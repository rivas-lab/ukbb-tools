{
 "cells": [
  {
   "cell_type": "code",
   "execution_count": 1,
   "metadata": {},
   "outputs": [],
   "source": [
    "suppressWarnings(suppressPackageStartupMessages({\n",
    "    library(tidyverse)\n",
    "    library(data.table)\n",
    "}))\n"
   ]
  },
  {
   "cell_type": "code",
   "execution_count": 3,
   "metadata": {},
   "outputs": [],
   "source": [
    "# input\n",
    "Csq_f <- '/oak/stanford/groups/mrivas/ukbb24983/cal/annotation_20200912/ukb24983_cal_cALL_v2_hg19.vep101.noLoF.Csq.tsv.gz'\n",
    "HLA_f <- '/oak/stanford/groups/mrivas/ukbb24983/hla/pgen/ukb_hla_v3.pvar'\n",
    "CNV_f <- '/oak/stanford/groups/mrivas/ukbb24983/cnv/pgen/cnv.pvar'\n",
    "\n",
    "# output\n",
    "p_factor_v4 <- '/oak/stanford/groups/mrivas/ukbb24983/array-combined/snpnet/penalty.v4.rds'\n"
   ]
  },
  {
   "cell_type": "code",
   "execution_count": 4,
   "metadata": {},
   "outputs": [],
   "source": [
    "HLA_df <- fread(HLA_f) %>%\n",
    "rename('CHROM'='#CHROM') %>%\n",
    "mutate(ID_ALT = paste(ID, ALT, sep='_'), w=.75)\n",
    "\n",
    "CNV_df <- fread(CNV_f) %>%\n",
    "rename('CHROM'='#CHROM') %>%\n",
    "mutate(ID_ALT = paste(ID, ALT, sep='_'), w=1)\n"
   ]
  },
  {
   "cell_type": "code",
   "execution_count": 5,
   "metadata": {},
   "outputs": [],
   "source": [
    "Csq <- fread(Csq_f) %>%\n",
    "rename('CHROM'='#CHROM')\n"
   ]
  },
  {
   "cell_type": "code",
   "execution_count": 6,
   "metadata": {},
   "outputs": [],
   "source": [
    "weights_df <- data.frame(\n",
    "    Csq_priority=1:6,\n",
    "    Csq = c('ptv', 'pav', 'pcv', 'intron', 'utr', 'others'),\n",
    "    w = c(.5, .75,  1, 1, 1, 1),\n",
    "    stringsAsFactors=F\n",
    ")\n"
   ]
  },
  {
   "cell_type": "code",
   "execution_count": 7,
   "metadata": {},
   "outputs": [
    {
     "data": {
      "text/html": [
       "<table>\n",
       "<caption>A data.table: 6 × 4</caption>\n",
       "<thead>\n",
       "\t<tr><th scope=col>Csq</th><th scope=col>n</th><th scope=col>Csq_priority</th><th scope=col>w</th></tr>\n",
       "\t<tr><th scope=col>&lt;chr&gt;</th><th scope=col>&lt;int&gt;</th><th scope=col>&lt;int&gt;</th><th scope=col>&lt;dbl&gt;</th></tr>\n",
       "</thead>\n",
       "<tbody>\n",
       "\t<tr><td>ptv   </td><td> 28321</td><td>1</td><td>0.50</td></tr>\n",
       "\t<tr><td>pav   </td><td> 89161</td><td>2</td><td>0.75</td></tr>\n",
       "\t<tr><td>pcv   </td><td> 11282</td><td>3</td><td>1.00</td></tr>\n",
       "\t<tr><td>intron</td><td>358439</td><td>4</td><td>1.00</td></tr>\n",
       "\t<tr><td>utr   </td><td>  7928</td><td>5</td><td>1.00</td></tr>\n",
       "\t<tr><td>others</td><td>310295</td><td>6</td><td>1.00</td></tr>\n",
       "</tbody>\n",
       "</table>\n"
      ],
      "text/latex": [
       "A data.table: 6 × 4\n",
       "\\begin{tabular}{llll}\n",
       " Csq & n & Csq\\_priority & w\\\\\n",
       " <chr> & <int> & <int> & <dbl>\\\\\n",
       "\\hline\n",
       "\t ptv    &  28321 & 1 & 0.50\\\\\n",
       "\t pav    &  89161 & 2 & 0.75\\\\\n",
       "\t pcv    &  11282 & 3 & 1.00\\\\\n",
       "\t intron & 358439 & 4 & 1.00\\\\\n",
       "\t utr    &   7928 & 5 & 1.00\\\\\n",
       "\t others & 310295 & 6 & 1.00\\\\\n",
       "\\end{tabular}\n"
      ],
      "text/markdown": [
       "\n",
       "A data.table: 6 × 4\n",
       "\n",
       "| Csq &lt;chr&gt; | n &lt;int&gt; | Csq_priority &lt;int&gt; | w &lt;dbl&gt; |\n",
       "|---|---|---|---|\n",
       "| ptv    |  28321 | 1 | 0.50 |\n",
       "| pav    |  89161 | 2 | 0.75 |\n",
       "| pcv    |  11282 | 3 | 1.00 |\n",
       "| intron | 358439 | 4 | 1.00 |\n",
       "| utr    |   7928 | 5 | 1.00 |\n",
       "| others | 310295 | 6 | 1.00 |\n",
       "\n"
      ],
      "text/plain": [
       "  Csq    n      Csq_priority w   \n",
       "1 ptv     28321 1            0.50\n",
       "2 pav     89161 2            0.75\n",
       "3 pcv     11282 3            1.00\n",
       "4 intron 358439 4            1.00\n",
       "5 utr      7928 5            1.00\n",
       "6 others 310295 6            1.00"
      ]
     },
     "metadata": {},
     "output_type": "display_data"
    }
   ],
   "source": [
    "Csq %>% count(Csq) %>%\n",
    "left_join(weights_df, by='Csq') %>%\n",
    "arrange(Csq_priority)\n"
   ]
  },
  {
   "cell_type": "code",
   "execution_count": 8,
   "metadata": {},
   "outputs": [],
   "source": [
    "bind_rows(\n",
    "    Csq %>%\n",
    "    left_join(weights_df, by='Csq') %>%\n",
    "    mutate(ID_ALT = paste(ID, ALT, sep='_')) %>%\n",
    "    select(ID_ALT, w),\n",
    "    \n",
    "    HLA_df %>% select(ID_ALT, w),\n",
    "    \n",
    "    CNV_df %>% select(ID_ALT, w)\n",
    ") -> weights\n"
   ]
  },
  {
   "cell_type": "code",
   "execution_count": 9,
   "metadata": {},
   "outputs": [
    {
     "data": {
      "text/html": [
       "<table>\n",
       "<caption>A data.table: 3 × 2</caption>\n",
       "<thead>\n",
       "\t<tr><th scope=col>w</th><th scope=col>n</th></tr>\n",
       "\t<tr><th scope=col>&lt;dbl&gt;</th><th scope=col>&lt;int&gt;</th></tr>\n",
       "</thead>\n",
       "<tbody>\n",
       "\t<tr><td>0.50</td><td> 28321</td></tr>\n",
       "\t<tr><td>0.75</td><td> 89523</td></tr>\n",
       "\t<tr><td>1.00</td><td>963124</td></tr>\n",
       "</tbody>\n",
       "</table>\n"
      ],
      "text/latex": [
       "A data.table: 3 × 2\n",
       "\\begin{tabular}{ll}\n",
       " w & n\\\\\n",
       " <dbl> & <int>\\\\\n",
       "\\hline\n",
       "\t 0.50 &  28321\\\\\n",
       "\t 0.75 &  89523\\\\\n",
       "\t 1.00 & 963124\\\\\n",
       "\\end{tabular}\n"
      ],
      "text/markdown": [
       "\n",
       "A data.table: 3 × 2\n",
       "\n",
       "| w &lt;dbl&gt; | n &lt;int&gt; |\n",
       "|---|---|\n",
       "| 0.50 |  28321 |\n",
       "| 0.75 |  89523 |\n",
       "| 1.00 | 963124 |\n",
       "\n"
      ],
      "text/plain": [
       "  w    n     \n",
       "1 0.50  28321\n",
       "2 0.75  89523\n",
       "3 1.00 963124"
      ]
     },
     "metadata": {},
     "output_type": "display_data"
    }
   ],
   "source": [
    "weights %>% count(w)\n"
   ]
  },
  {
   "cell_type": "code",
   "execution_count": 11,
   "metadata": {},
   "outputs": [],
   "source": [
    "weights %>%\n",
    "deframe() %>%\n",
    "saveRDS(file = p_factor_v4)\n"
   ]
  },
  {
   "cell_type": "code",
   "execution_count": null,
   "metadata": {},
   "outputs": [],
   "source": []
  }
 ],
 "metadata": {
  "kernelspec": {
   "display_name": "R",
   "language": "R",
   "name": "ir"
  },
  "language_info": {
   "codemirror_mode": "r",
   "file_extension": ".r",
   "mimetype": "text/x-r-source",
   "name": "R",
   "pygments_lexer": "r",
   "version": "3.6.2"
  }
 },
 "nbformat": 4,
 "nbformat_minor": 4
}
