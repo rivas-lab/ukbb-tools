{
 "cells": [
  {
   "cell_type": "markdown",
   "metadata": {},
   "source": [
    "## Add gene symbols to variant filter table\n",
    "\n",
    "#### 2019/4/9 Yosuke Tanigawa (ytanigaw@stanford.edu)\n",
    "\n",
    "Using the data dump from the other notebook (`gene_id_mapping_mygene_mapping_file_generation.ipynb`), \n",
    "we add one column (gene_symbol) to variant filter table.\n"
   ]
  },
  {
   "cell_type": "code",
   "execution_count": 1,
   "metadata": {},
   "outputs": [
    {
     "name": "stderr",
     "output_type": "stream",
     "text": [
      "── Attaching packages ─────────────────────────────────────── tidyverse 1.2.1 ──\n",
      "✔ ggplot2 3.1.0       ✔ purrr   0.3.1  \n",
      "✔ tibble  2.0.1       ✔ dplyr   0.8.0.1\n",
      "✔ tidyr   0.8.3       ✔ stringr 1.4.0  \n",
      "✔ readr   1.3.1       ✔ forcats 0.4.0  \n",
      "── Conflicts ────────────────────────────────────────── tidyverse_conflicts() ──\n",
      "✖ dplyr::filter() masks stats::filter()\n",
      "✖ dplyr::lag()    masks stats::lag()\n",
      "\n",
      "Attaching package: ‘data.table’\n",
      "\n",
      "The following objects are masked from ‘package:dplyr’:\n",
      "\n",
      "    between, first, last\n",
      "\n",
      "The following object is masked from ‘package:purrr’:\n",
      "\n",
      "    transpose\n",
      "\n"
     ]
    }
   ],
   "source": [
    "library(tidyverse)\n",
    "library(data.table)"
   ]
  },
  {
   "cell_type": "code",
   "execution_count": 2,
   "metadata": {},
   "outputs": [],
   "source": [
    "variant_id_gene_symbols <- fread(\n",
    "    cmd=paste0('zcat ', 'variant_id_to_gene_symbol.tsv'),\n",
    "    head=TRUE, sep='\\t'\n",
    ")"
   ]
  },
  {
   "cell_type": "code",
   "execution_count": 3,
   "metadata": {},
   "outputs": [
    {
     "data": {
      "text/html": [
       "<table>\n",
       "<thead><tr><th scope=col>ID</th><th scope=col>Gene</th><th scope=col>Gene_symbol</th></tr></thead>\n",
       "<tbody>\n",
       "\t<tr><td>rs28659788     </td><td>ENSG00000237491</td><td>AL669831.5     </td></tr>\n",
       "\t<tr><td>rs116587930    </td><td>ENSG00000237491</td><td>AL669831.5     </td></tr>\n",
       "\t<tr><td>rs116720794    </td><td>ENSG00000237491</td><td>AL669831.5     </td></tr>\n",
       "\t<tr><td>rs3131972      </td><td>ENSG00000240453</td><td>RP11-206L10.10 </td></tr>\n",
       "\t<tr><td>rs12184325     </td><td>ENSG00000177757</td><td>FAM87B         </td></tr>\n",
       "\t<tr><td>rs3131962      </td><td>ENSG00000240453</td><td>RP11-206L10.10 </td></tr>\n",
       "</tbody>\n",
       "</table>\n"
      ],
      "text/latex": [
       "\\begin{tabular}{r|lll}\n",
       " ID & Gene & Gene\\_symbol\\\\\n",
       "\\hline\n",
       "\t rs28659788      & ENSG00000237491 & AL669831.5     \\\\\n",
       "\t rs116587930     & ENSG00000237491 & AL669831.5     \\\\\n",
       "\t rs116720794     & ENSG00000237491 & AL669831.5     \\\\\n",
       "\t rs3131972       & ENSG00000240453 & RP11-206L10.10 \\\\\n",
       "\t rs12184325      & ENSG00000177757 & FAM87B         \\\\\n",
       "\t rs3131962       & ENSG00000240453 & RP11-206L10.10 \\\\\n",
       "\\end{tabular}\n"
      ],
      "text/markdown": [
       "\n",
       "| ID | Gene | Gene_symbol |\n",
       "|---|---|---|\n",
       "| rs28659788      | ENSG00000237491 | AL669831.5      |\n",
       "| rs116587930     | ENSG00000237491 | AL669831.5      |\n",
       "| rs116720794     | ENSG00000237491 | AL669831.5      |\n",
       "| rs3131972       | ENSG00000240453 | RP11-206L10.10  |\n",
       "| rs12184325      | ENSG00000177757 | FAM87B          |\n",
       "| rs3131962       | ENSG00000240453 | RP11-206L10.10  |\n",
       "\n"
      ],
      "text/plain": [
       "  ID          Gene            Gene_symbol   \n",
       "1 rs28659788  ENSG00000237491 AL669831.5    \n",
       "2 rs116587930 ENSG00000237491 AL669831.5    \n",
       "3 rs116720794 ENSG00000237491 AL669831.5    \n",
       "4 rs3131972   ENSG00000240453 RP11-206L10.10\n",
       "5 rs12184325  ENSG00000177757 FAM87B        \n",
       "6 rs3131962   ENSG00000240453 RP11-206L10.10"
      ]
     },
     "metadata": {},
     "output_type": "display_data"
    }
   ],
   "source": [
    "variant_id_gene_symbols %>% head()"
   ]
  },
  {
   "cell_type": "code",
   "execution_count": 4,
   "metadata": {},
   "outputs": [],
   "source": [
    "in_f <- '/oak/stanford/groups/mrivas/private_data/ukbb/variant_filtering/variant_filter_table.old.tsv.gz'\n"
   ]
  },
  {
   "cell_type": "code",
   "execution_count": 5,
   "metadata": {},
   "outputs": [],
   "source": [
    "df <- fread(cmd=paste0('zcat ', in_f), sep='\\t')"
   ]
  },
  {
   "cell_type": "code",
   "execution_count": 6,
   "metadata": {},
   "outputs": [
    {
     "data": {
      "text/html": [
       "<table>\n",
       "<thead><tr><th scope=col>CHROM</th><th scope=col>POS</th><th scope=col>REF</th><th scope=col>ALT</th><th scope=col>ID</th><th scope=col>Gene</th><th scope=col>Consequence</th><th scope=col>HGVSp</th><th scope=col>LoF</th><th scope=col>LoF_filter</th><th scope=col>⋯</th><th scope=col>wcsg_only</th><th scope=col>bileve_only</th><th scope=col>filter</th><th scope=col>missingness</th><th scope=col>hwe</th><th scope=col>mcpi</th><th scope=col>gnomad_af</th><th scope=col>mgi</th><th scope=col>mgi_notes</th><th scope=col>all_filters</th></tr></thead>\n",
       "<tbody>\n",
       "\t<tr><td>1                    </td><td>723307               </td><td>C                    </td><td>G                    </td><td>rs28659788           </td><td>ENSG00000237491      </td><td>intron_variant       </td><td>                     </td><td>                     </td><td>                     </td><td>⋯                    </td><td>FALSE                </td><td> TRUE                </td><td>NA                   </td><td>1                    </td><td>1                    </td><td>0                    </td><td>NA                   </td><td>NA                   </td><td>                     </td><td>2                    </td></tr>\n",
       "\t<tr><td>1                    </td><td>727841               </td><td>G                    </td><td>A                    </td><td>rs116587930          </td><td>ENSG00000237491      </td><td>intron_variant       </td><td>                     </td><td>                     </td><td>                     </td><td>⋯                    </td><td>FALSE                </td><td>FALSE                </td><td>NA                   </td><td>1                    </td><td>1                    </td><td>0                    </td><td>NA                   </td><td>NA                   </td><td>                     </td><td>2                    </td></tr>\n",
       "\t<tr><td>1                    </td><td>729632               </td><td>C                    </td><td>T                    </td><td>rs116720794          </td><td>ENSG00000237491      </td><td>intron_variant       </td><td>                     </td><td>                     </td><td>                     </td><td>⋯                    </td><td>FALSE                </td><td>FALSE                </td><td>NA                   </td><td>1                    </td><td>1                    </td><td>0                    </td><td>NA                   </td><td>NA                   </td><td>                     </td><td>2                    </td></tr>\n",
       "\t<tr><td>1                    </td><td>752721               </td><td>A                    </td><td>G                    </td><td>rs3131972            </td><td>ENSG00000240453      </td><td>intron_variant       </td><td>                     </td><td>                     </td><td>                     </td><td>⋯                    </td><td>FALSE                </td><td>FALSE                </td><td>NA                   </td><td>0                    </td><td>1                    </td><td>0                    </td><td>NA                   </td><td>NA                   </td><td>                     </td><td>1                    </td></tr>\n",
       "\t<tr><td>1                    </td><td>754105               </td><td>C                    </td><td>T                    </td><td>rs12184325           </td><td>ENSG00000177757      </td><td>splice_region_variant</td><td>                     </td><td>                     </td><td>                     </td><td>⋯                    </td><td>FALSE                </td><td>FALSE                </td><td>NA                   </td><td>0                    </td><td>1                    </td><td>0                    </td><td>NA                   </td><td>NA                   </td><td>                     </td><td>1                    </td></tr>\n",
       "\t<tr><td>1                    </td><td>756604               </td><td>A                    </td><td>G                    </td><td>rs3131962            </td><td>ENSG00000240453      </td><td>upstream_gene_variant</td><td>                     </td><td>                     </td><td>                     </td><td>⋯                    </td><td>FALSE                </td><td>FALSE                </td><td>NA                   </td><td>0                    </td><td>0                    </td><td>0                    </td><td>NA                   </td><td>NA                   </td><td>                     </td><td>0                    </td></tr>\n",
       "</tbody>\n",
       "</table>\n"
      ],
      "text/latex": [
       "\\begin{tabular}{r|llllllllllllllllllllllllllllll}\n",
       " CHROM & POS & REF & ALT & ID & Gene & Consequence & HGVSp & LoF & LoF\\_filter & ⋯ & wcsg\\_only & bileve\\_only & filter & missingness & hwe & mcpi & gnomad\\_af & mgi & mgi\\_notes & all\\_filters\\\\\n",
       "\\hline\n",
       "\t 1                       & 723307                  & C                       & G                       & rs28659788              & ENSG00000237491         & intron\\_variant        &                         &                         &                         & ⋯                       & FALSE                   &  TRUE                   & NA                      & 1                       & 1                       & 0                       & NA                      & NA                      &                         & 2                      \\\\\n",
       "\t 1                       & 727841                  & G                       & A                       & rs116587930             & ENSG00000237491         & intron\\_variant        &                         &                         &                         & ⋯                       & FALSE                   & FALSE                   & NA                      & 1                       & 1                       & 0                       & NA                      & NA                      &                         & 2                      \\\\\n",
       "\t 1                       & 729632                  & C                       & T                       & rs116720794             & ENSG00000237491         & intron\\_variant        &                         &                         &                         & ⋯                       & FALSE                   & FALSE                   & NA                      & 1                       & 1                       & 0                       & NA                      & NA                      &                         & 2                      \\\\\n",
       "\t 1                       & 752721                  & A                       & G                       & rs3131972               & ENSG00000240453         & intron\\_variant        &                         &                         &                         & ⋯                       & FALSE                   & FALSE                   & NA                      & 0                       & 1                       & 0                       & NA                      & NA                      &                         & 1                      \\\\\n",
       "\t 1                         & 754105                    & C                         & T                         & rs12184325                & ENSG00000177757           & splice\\_region\\_variant &                           &                           &                           & ⋯                         & FALSE                     & FALSE                     & NA                        & 0                         & 1                         & 0                         & NA                        & NA                        &                           & 1                        \\\\\n",
       "\t 1                         & 756604                    & A                         & G                         & rs3131962                 & ENSG00000240453           & upstream\\_gene\\_variant &                           &                           &                           & ⋯                         & FALSE                     & FALSE                     & NA                        & 0                         & 0                         & 0                         & NA                        & NA                        &                           & 0                        \\\\\n",
       "\\end{tabular}\n"
      ],
      "text/markdown": [
       "\n",
       "| CHROM | POS | REF | ALT | ID | Gene | Consequence | HGVSp | LoF | LoF_filter | ⋯ | wcsg_only | bileve_only | filter | missingness | hwe | mcpi | gnomad_af | mgi | mgi_notes | all_filters |\n",
       "|---|---|---|---|---|---|---|---|---|---|---|---|---|---|---|---|---|---|---|---|---|\n",
       "| 1                     | 723307                | C                     | G                     | rs28659788            | ENSG00000237491       | intron_variant        |                       |                       |                       | ⋯                     | FALSE                 |  TRUE                 | NA                    | 1                     | 1                     | 0                     | NA                    | NA                    |                       | 2                     |\n",
       "| 1                     | 727841                | G                     | A                     | rs116587930           | ENSG00000237491       | intron_variant        |                       |                       |                       | ⋯                     | FALSE                 | FALSE                 | NA                    | 1                     | 1                     | 0                     | NA                    | NA                    |                       | 2                     |\n",
       "| 1                     | 729632                | C                     | T                     | rs116720794           | ENSG00000237491       | intron_variant        |                       |                       |                       | ⋯                     | FALSE                 | FALSE                 | NA                    | 1                     | 1                     | 0                     | NA                    | NA                    |                       | 2                     |\n",
       "| 1                     | 752721                | A                     | G                     | rs3131972             | ENSG00000240453       | intron_variant        |                       |                       |                       | ⋯                     | FALSE                 | FALSE                 | NA                    | 0                     | 1                     | 0                     | NA                    | NA                    |                       | 1                     |\n",
       "| 1                     | 754105                | C                     | T                     | rs12184325            | ENSG00000177757       | splice_region_variant |                       |                       |                       | ⋯                     | FALSE                 | FALSE                 | NA                    | 0                     | 1                     | 0                     | NA                    | NA                    |                       | 1                     |\n",
       "| 1                     | 756604                | A                     | G                     | rs3131962             | ENSG00000240453       | upstream_gene_variant |                       |                       |                       | ⋯                     | FALSE                 | FALSE                 | NA                    | 0                     | 0                     | 0                     | NA                    | NA                    |                       | 0                     |\n",
       "\n"
      ],
      "text/plain": [
       "  CHROM POS    REF ALT ID          Gene            Consequence           HGVSp\n",
       "1 1     723307 C   G   rs28659788  ENSG00000237491 intron_variant             \n",
       "2 1     727841 G   A   rs116587930 ENSG00000237491 intron_variant             \n",
       "3 1     729632 C   T   rs116720794 ENSG00000237491 intron_variant             \n",
       "4 1     752721 A   G   rs3131972   ENSG00000240453 intron_variant             \n",
       "5 1     754105 C   T   rs12184325  ENSG00000177757 splice_region_variant      \n",
       "6 1     756604 A   G   rs3131962   ENSG00000240453 upstream_gene_variant      \n",
       "  LoF LoF_filter ⋯ wcsg_only bileve_only filter missingness hwe mcpi gnomad_af\n",
       "1                ⋯ FALSE      TRUE       NA     1           1   0    NA       \n",
       "2                ⋯ FALSE     FALSE       NA     1           1   0    NA       \n",
       "3                ⋯ FALSE     FALSE       NA     1           1   0    NA       \n",
       "4                ⋯ FALSE     FALSE       NA     0           1   0    NA       \n",
       "5                ⋯ FALSE     FALSE       NA     0           1   0    NA       \n",
       "6                ⋯ FALSE     FALSE       NA     0           0   0    NA       \n",
       "  mgi mgi_notes all_filters\n",
       "1 NA            2          \n",
       "2 NA            2          \n",
       "3 NA            2          \n",
       "4 NA            1          \n",
       "5 NA            1          \n",
       "6 NA            0          "
      ]
     },
     "metadata": {},
     "output_type": "display_data"
    }
   ],
   "source": [
    "df %>% head()"
   ]
  },
  {
   "cell_type": "code",
   "execution_count": 7,
   "metadata": {},
   "outputs": [
    {
     "name": "stderr",
     "output_type": "stream",
     "text": [
      "Joining, by = \"ID\"\n"
     ]
    }
   ],
   "source": [
    "df_joined <- df %>% left_join(\n",
    "    variant_id_gene_symbols %>% select(ID, Gene_symbol), on='ID'\n",
    ")\n"
   ]
  },
  {
   "cell_type": "code",
   "execution_count": 8,
   "metadata": {},
   "outputs": [
    {
     "data": {
      "text/html": [
       "<table>\n",
       "<thead><tr><th scope=col>CHROM</th><th scope=col>POS</th><th scope=col>REF</th><th scope=col>ALT</th><th scope=col>ID</th><th scope=col>Gene</th><th scope=col>Consequence</th><th scope=col>HGVSp</th><th scope=col>LoF</th><th scope=col>LoF_filter</th><th scope=col>⋯</th><th scope=col>bileve_only</th><th scope=col>filter</th><th scope=col>missingness</th><th scope=col>hwe</th><th scope=col>mcpi</th><th scope=col>gnomad_af</th><th scope=col>mgi</th><th scope=col>mgi_notes</th><th scope=col>all_filters</th><th scope=col>Gene_symbol</th></tr></thead>\n",
       "<tbody>\n",
       "\t<tr><td>1                    </td><td>723307               </td><td>C                    </td><td>G                    </td><td>rs28659788           </td><td>ENSG00000237491      </td><td>intron_variant       </td><td>                     </td><td>                     </td><td>                     </td><td>⋯                    </td><td> TRUE                </td><td>NA                   </td><td>1                    </td><td>1                    </td><td>0                    </td><td>NA                   </td><td>NA                   </td><td>                     </td><td>2                    </td><td>AL669831.5           </td></tr>\n",
       "\t<tr><td>1                    </td><td>727841               </td><td>G                    </td><td>A                    </td><td>rs116587930          </td><td>ENSG00000237491      </td><td>intron_variant       </td><td>                     </td><td>                     </td><td>                     </td><td>⋯                    </td><td>FALSE                </td><td>NA                   </td><td>1                    </td><td>1                    </td><td>0                    </td><td>NA                   </td><td>NA                   </td><td>                     </td><td>2                    </td><td>AL669831.5           </td></tr>\n",
       "\t<tr><td>1                    </td><td>729632               </td><td>C                    </td><td>T                    </td><td>rs116720794          </td><td>ENSG00000237491      </td><td>intron_variant       </td><td>                     </td><td>                     </td><td>                     </td><td>⋯                    </td><td>FALSE                </td><td>NA                   </td><td>1                    </td><td>1                    </td><td>0                    </td><td>NA                   </td><td>NA                   </td><td>                     </td><td>2                    </td><td>AL669831.5           </td></tr>\n",
       "\t<tr><td>1                    </td><td>752721               </td><td>A                    </td><td>G                    </td><td>rs3131972            </td><td>ENSG00000240453      </td><td>intron_variant       </td><td>                     </td><td>                     </td><td>                     </td><td>⋯                    </td><td>FALSE                </td><td>NA                   </td><td>0                    </td><td>1                    </td><td>0                    </td><td>NA                   </td><td>NA                   </td><td>                     </td><td>1                    </td><td>RP11-206L10.10       </td></tr>\n",
       "\t<tr><td>1                    </td><td>754105               </td><td>C                    </td><td>T                    </td><td>rs12184325           </td><td>ENSG00000177757      </td><td>splice_region_variant</td><td>                     </td><td>                     </td><td>                     </td><td>⋯                    </td><td>FALSE                </td><td>NA                   </td><td>0                    </td><td>1                    </td><td>0                    </td><td>NA                   </td><td>NA                   </td><td>                     </td><td>1                    </td><td>FAM87B               </td></tr>\n",
       "\t<tr><td>1                    </td><td>756604               </td><td>A                    </td><td>G                    </td><td>rs3131962            </td><td>ENSG00000240453      </td><td>upstream_gene_variant</td><td>                     </td><td>                     </td><td>                     </td><td>⋯                    </td><td>FALSE                </td><td>NA                   </td><td>0                    </td><td>0                    </td><td>0                    </td><td>NA                   </td><td>NA                   </td><td>                     </td><td>0                    </td><td>RP11-206L10.10       </td></tr>\n",
       "</tbody>\n",
       "</table>\n"
      ],
      "text/latex": [
       "\\begin{tabular}{r|lllllllllllllllllllllllllllllll}\n",
       " CHROM & POS & REF & ALT & ID & Gene & Consequence & HGVSp & LoF & LoF\\_filter & ⋯ & bileve\\_only & filter & missingness & hwe & mcpi & gnomad\\_af & mgi & mgi\\_notes & all\\_filters & Gene\\_symbol\\\\\n",
       "\\hline\n",
       "\t 1                       & 723307                  & C                       & G                       & rs28659788              & ENSG00000237491         & intron\\_variant        &                         &                         &                         & ⋯                       &  TRUE                   & NA                      & 1                       & 1                       & 0                       & NA                      & NA                      &                         & 2                       & AL669831.5             \\\\\n",
       "\t 1                       & 727841                  & G                       & A                       & rs116587930             & ENSG00000237491         & intron\\_variant        &                         &                         &                         & ⋯                       & FALSE                   & NA                      & 1                       & 1                       & 0                       & NA                      & NA                      &                         & 2                       & AL669831.5             \\\\\n",
       "\t 1                       & 729632                  & C                       & T                       & rs116720794             & ENSG00000237491         & intron\\_variant        &                         &                         &                         & ⋯                       & FALSE                   & NA                      & 1                       & 1                       & 0                       & NA                      & NA                      &                         & 2                       & AL669831.5             \\\\\n",
       "\t 1                       & 752721                  & A                       & G                       & rs3131972               & ENSG00000240453         & intron\\_variant        &                         &                         &                         & ⋯                       & FALSE                   & NA                      & 0                       & 1                       & 0                       & NA                      & NA                      &                         & 1                       & RP11-206L10.10         \\\\\n",
       "\t 1                         & 754105                    & C                         & T                         & rs12184325                & ENSG00000177757           & splice\\_region\\_variant &                           &                           &                           & ⋯                         & FALSE                     & NA                        & 0                         & 1                         & 0                         & NA                        & NA                        &                           & 1                         & FAM87B                   \\\\\n",
       "\t 1                         & 756604                    & A                         & G                         & rs3131962                 & ENSG00000240453           & upstream\\_gene\\_variant &                           &                           &                           & ⋯                         & FALSE                     & NA                        & 0                         & 0                         & 0                         & NA                        & NA                        &                           & 0                         & RP11-206L10.10           \\\\\n",
       "\\end{tabular}\n"
      ],
      "text/markdown": [
       "\n",
       "| CHROM | POS | REF | ALT | ID | Gene | Consequence | HGVSp | LoF | LoF_filter | ⋯ | bileve_only | filter | missingness | hwe | mcpi | gnomad_af | mgi | mgi_notes | all_filters | Gene_symbol |\n",
       "|---|---|---|---|---|---|---|---|---|---|---|---|---|---|---|---|---|---|---|---|---|\n",
       "| 1                     | 723307                | C                     | G                     | rs28659788            | ENSG00000237491       | intron_variant        |                       |                       |                       | ⋯                     |  TRUE                 | NA                    | 1                     | 1                     | 0                     | NA                    | NA                    |                       | 2                     | AL669831.5            |\n",
       "| 1                     | 727841                | G                     | A                     | rs116587930           | ENSG00000237491       | intron_variant        |                       |                       |                       | ⋯                     | FALSE                 | NA                    | 1                     | 1                     | 0                     | NA                    | NA                    |                       | 2                     | AL669831.5            |\n",
       "| 1                     | 729632                | C                     | T                     | rs116720794           | ENSG00000237491       | intron_variant        |                       |                       |                       | ⋯                     | FALSE                 | NA                    | 1                     | 1                     | 0                     | NA                    | NA                    |                       | 2                     | AL669831.5            |\n",
       "| 1                     | 752721                | A                     | G                     | rs3131972             | ENSG00000240453       | intron_variant        |                       |                       |                       | ⋯                     | FALSE                 | NA                    | 0                     | 1                     | 0                     | NA                    | NA                    |                       | 1                     | RP11-206L10.10        |\n",
       "| 1                     | 754105                | C                     | T                     | rs12184325            | ENSG00000177757       | splice_region_variant |                       |                       |                       | ⋯                     | FALSE                 | NA                    | 0                     | 1                     | 0                     | NA                    | NA                    |                       | 1                     | FAM87B                |\n",
       "| 1                     | 756604                | A                     | G                     | rs3131962             | ENSG00000240453       | upstream_gene_variant |                       |                       |                       | ⋯                     | FALSE                 | NA                    | 0                     | 0                     | 0                     | NA                    | NA                    |                       | 0                     | RP11-206L10.10        |\n",
       "\n"
      ],
      "text/plain": [
       "  CHROM POS    REF ALT ID          Gene            Consequence           HGVSp\n",
       "1 1     723307 C   G   rs28659788  ENSG00000237491 intron_variant             \n",
       "2 1     727841 G   A   rs116587930 ENSG00000237491 intron_variant             \n",
       "3 1     729632 C   T   rs116720794 ENSG00000237491 intron_variant             \n",
       "4 1     752721 A   G   rs3131972   ENSG00000240453 intron_variant             \n",
       "5 1     754105 C   T   rs12184325  ENSG00000177757 splice_region_variant      \n",
       "6 1     756604 A   G   rs3131962   ENSG00000240453 upstream_gene_variant      \n",
       "  LoF LoF_filter ⋯ bileve_only filter missingness hwe mcpi gnomad_af mgi\n",
       "1                ⋯  TRUE       NA     1           1   0    NA        NA \n",
       "2                ⋯ FALSE       NA     1           1   0    NA        NA \n",
       "3                ⋯ FALSE       NA     1           1   0    NA        NA \n",
       "4                ⋯ FALSE       NA     0           1   0    NA        NA \n",
       "5                ⋯ FALSE       NA     0           1   0    NA        NA \n",
       "6                ⋯ FALSE       NA     0           0   0    NA        NA \n",
       "  mgi_notes all_filters Gene_symbol   \n",
       "1           2           AL669831.5    \n",
       "2           2           AL669831.5    \n",
       "3           2           AL669831.5    \n",
       "4           1           RP11-206L10.10\n",
       "5           1           FAM87B        \n",
       "6           0           RP11-206L10.10"
      ]
     },
     "metadata": {},
     "output_type": "display_data"
    }
   ],
   "source": [
    "df_joined %>% head()"
   ]
  },
  {
   "cell_type": "code",
   "execution_count": 9,
   "metadata": {},
   "outputs": [
    {
     "name": "stdout",
     "output_type": "stream",
     "text": [
      "[1] 784256     30\n",
      "[1] 784256     31\n"
     ]
    }
   ],
   "source": [
    "df %>% dim() %>% print()\n",
    "df_joined %>% dim() %>% print()"
   ]
  },
  {
   "cell_type": "code",
   "execution_count": 10,
   "metadata": {},
   "outputs": [],
   "source": [
    "df_joined %>% \n",
    "fwrite(\n",
    "    '/oak/stanford/groups/mrivas/private_data/ukbb/variant_filtering/variant_filter_table.new.tsv',\n",
    "    sep='\\t'\n",
    ")"
   ]
  },
  {
   "cell_type": "code",
   "execution_count": 12,
   "metadata": {},
   "outputs": [
    {
     "data": {
      "text/html": [
       "<table>\n",
       "<thead><tr><th scope=col>ID</th><th scope=col>Gene</th><th scope=col>Consequence</th><th scope=col>Gene_symbol</th></tr></thead>\n",
       "<tbody>\n",
       "</tbody>\n",
       "</table>\n"
      ],
      "text/latex": [
       "\\begin{tabular}{r|llll}\n",
       " ID & Gene & Consequence & Gene\\_symbol\\\\\n",
       "\\hline\n",
       "\\end{tabular}\n"
      ],
      "text/markdown": [
       "\n",
       "| ID | Gene | Consequence | Gene_symbol |\n",
       "|---|---|---|---|\n",
       "\n"
      ],
      "text/plain": [
       "     ID Gene Consequence Gene_symbol"
      ]
     },
     "metadata": {},
     "output_type": "display_data"
    }
   ],
   "source": [
    "df_joined %>% \n",
    "select(ID, Gene, Consequence, Gene_symbol) %>% \n",
    "filter(\n",
    "    str_length(Gene) > 0,\n",
    "    str_length(Gene_symbol) == 0\n",
    ")"
   ]
  },
  {
   "cell_type": "code",
   "execution_count": null,
   "metadata": {},
   "outputs": [],
   "source": []
  }
 ],
 "metadata": {
  "kernelspec": {
   "display_name": "R",
   "language": "R",
   "name": "ir"
  },
  "language_info": {
   "codemirror_mode": "r",
   "file_extension": ".r",
   "mimetype": "text/x-r-source",
   "name": "R",
   "pygments_lexer": "r",
   "version": "3.5.1"
  }
 },
 "nbformat": 4,
 "nbformat_minor": 2
}
