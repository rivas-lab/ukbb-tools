{
 "cells": [
  {
   "cell_type": "markdown",
   "metadata": {},
   "source": [
    "## Ensembl Gene ID to Gene symbol mapping\n",
    "\n",
    "#### 2019/4/9 Yosuke Tanigawa (ytanigaw@stanford.edu)\n",
    "\n",
    "We use mygene (https://mygene.info/) API to map Ensembl gene IDs to gene symbols.\n"
   ]
  },
  {
   "cell_type": "code",
   "execution_count": 3,
   "metadata": {},
   "outputs": [],
   "source": [
    "import pandas as pd \n",
    "import numpy as np\n"
   ]
  },
  {
   "cell_type": "code",
   "execution_count": 25,
   "metadata": {},
   "outputs": [],
   "source": [
    "import mygene "
   ]
  },
  {
   "cell_type": "code",
   "execution_count": 12,
   "metadata": {},
   "outputs": [],
   "source": [
    "import itertools as it"
   ]
  },
  {
   "cell_type": "code",
   "execution_count": 4,
   "metadata": {},
   "outputs": [],
   "source": [
    "in_f = '/oak/stanford/groups/mrivas/private_data/ukbb/variant_filtering/variant_filter_table.old.tsv.gz'\n"
   ]
  },
  {
   "cell_type": "code",
   "execution_count": 21,
   "metadata": {},
   "outputs": [],
   "source": [
    "df_Ensembls = pd.read_csv(\n",
    "    in_f, compression='gzip', usecols=[5], sep='\\t'\n",
    ")"
   ]
  },
  {
   "cell_type": "code",
   "execution_count": 22,
   "metadata": {},
   "outputs": [],
   "source": [
    "ensembl_ids = set(list(it.chain.from_iterable([str(x).split(',') for x in set(df_Ensembls['Gene'].dropna())])))"
   ]
  },
  {
   "cell_type": "code",
   "execution_count": 23,
   "metadata": {},
   "outputs": [
    {
     "data": {
      "text/plain": [
       "39055"
      ]
     },
     "execution_count": 23,
     "metadata": {},
     "output_type": "execute_result"
    }
   ],
   "source": [
    "len(ensembl_ids)"
   ]
  },
  {
   "cell_type": "code",
   "execution_count": 27,
   "metadata": {},
   "outputs": [
    {
     "data": {
      "text/plain": [
       "['ENSG00000266379',\n",
       " 'ENSG00000230223',\n",
       " 'ENSG00000198373',\n",
       " 'ENSG00000271207',\n",
       " 'ENSG00000211647',\n",
       " 'ENSG00000222520',\n",
       " 'ENSG00000147592',\n",
       " 'ENSG00000255824',\n",
       " 'ENSG00000124440',\n",
       " 'ENSG00000212146']"
      ]
     },
     "execution_count": 27,
     "metadata": {},
     "output_type": "execute_result"
    }
   ],
   "source": [
    "list(ensembl_ids)[:10]"
   ]
  },
  {
   "cell_type": "code",
   "execution_count": 26,
   "metadata": {},
   "outputs": [],
   "source": [
    "mg = mygene.MyGeneInfo()"
   ]
  },
  {
   "cell_type": "code",
   "execution_count": 36,
   "metadata": {},
   "outputs": [
    {
     "name": "stdout",
     "output_type": "stream",
     "text": [
      "querying 1-1000...done.\n",
      "querying 1001-2000...done.\n",
      "querying 2001-3000...done.\n",
      "querying 3001-4000...done.\n",
      "querying 4001-5000...done.\n",
      "querying 5001-6000...done.\n",
      "querying 6001-7000...done.\n",
      "querying 7001-8000...done.\n",
      "querying 8001-9000...done.\n",
      "querying 9001-10000...done.\n",
      "querying 10001-11000...done.\n",
      "querying 11001-12000...done.\n",
      "querying 12001-13000...done.\n",
      "querying 13001-14000...done.\n",
      "querying 14001-15000...done.\n",
      "querying 15001-16000...done.\n",
      "querying 16001-17000...done.\n",
      "querying 17001-18000...done.\n",
      "querying 18001-19000...done.\n",
      "querying 19001-20000...done.\n",
      "querying 20001-21000...done.\n",
      "querying 21001-22000...done.\n",
      "querying 22001-23000...done.\n",
      "querying 23001-24000...done.\n",
      "querying 24001-25000...done.\n",
      "querying 25001-26000...done.\n",
      "querying 26001-27000...done.\n",
      "querying 27001-28000...done.\n",
      "querying 28001-29000...done.\n",
      "querying 29001-30000...done.\n",
      "querying 30001-31000...done.\n",
      "querying 31001-32000...done.\n",
      "querying 32001-33000...done.\n",
      "querying 33001-34000...done.\n",
      "querying 34001-35000...done.\n",
      "querying 35001-36000...done.\n",
      "querying 36001-37000...done.\n",
      "querying 37001-38000...done.\n",
      "querying 38001-39000...done.\n",
      "querying 39001-39055...done.\n"
     ]
    }
   ],
   "source": [
    "df = mg.getgenes(\n",
    "list(ensembl_ids), \n",
    "fields='ensembl.gene,symbol',\n",
    "as_dataframe=True, df_index=False, species='human')"
   ]
  },
  {
   "cell_type": "code",
   "execution_count": 43,
   "metadata": {},
   "outputs": [],
   "source": [
    "df[df['notfound'] != True][['ensembl.gene', 'symbol']].to_csv(\n",
    "    'mygene.human.ensembl_ID.gene_symbol.tsv', sep='\\t', index=False\n",
    ")"
   ]
  },
  {
   "cell_type": "code",
   "execution_count": 44,
   "metadata": {},
   "outputs": [],
   "source": [
    "gene_id_mapping_df = pd.read_csv(\n",
    "    'mygene.human.ensembl_ID.gene_symbol.tsv.gz', sep='\\t', compression='gzip'\n",
    ")"
   ]
  },
  {
   "cell_type": "code",
   "execution_count": 45,
   "metadata": {},
   "outputs": [
    {
     "data": {
      "text/html": [
       "<div>\n",
       "<style scoped>\n",
       "    .dataframe tbody tr th:only-of-type {\n",
       "        vertical-align: middle;\n",
       "    }\n",
       "\n",
       "    .dataframe tbody tr th {\n",
       "        vertical-align: top;\n",
       "    }\n",
       "\n",
       "    .dataframe thead th {\n",
       "        text-align: right;\n",
       "    }\n",
       "</style>\n",
       "<table border=\"1\" class=\"dataframe\">\n",
       "  <thead>\n",
       "    <tr style=\"text-align: right;\">\n",
       "      <th></th>\n",
       "      <th>ensembl.gene</th>\n",
       "      <th>symbol</th>\n",
       "    </tr>\n",
       "  </thead>\n",
       "  <tbody>\n",
       "    <tr>\n",
       "      <th>0</th>\n",
       "      <td>ENSG00000266379</td>\n",
       "      <td>AC090616.5</td>\n",
       "    </tr>\n",
       "    <tr>\n",
       "      <th>1</th>\n",
       "      <td>ENSG00000230223</td>\n",
       "      <td>ATXN8OS</td>\n",
       "    </tr>\n",
       "    <tr>\n",
       "      <th>2</th>\n",
       "      <td>ENSG00000198373</td>\n",
       "      <td>WWP2</td>\n",
       "    </tr>\n",
       "    <tr>\n",
       "      <th>3</th>\n",
       "      <td>ENSG00000271207</td>\n",
       "      <td>MTCO1P22</td>\n",
       "    </tr>\n",
       "    <tr>\n",
       "      <th>4</th>\n",
       "      <td>ENSG00000211647</td>\n",
       "      <td>IGLV5-48</td>\n",
       "    </tr>\n",
       "  </tbody>\n",
       "</table>\n",
       "</div>"
      ],
      "text/plain": [
       "      ensembl.gene      symbol\n",
       "0  ENSG00000266379  AC090616.5\n",
       "1  ENSG00000230223     ATXN8OS\n",
       "2  ENSG00000198373        WWP2\n",
       "3  ENSG00000271207    MTCO1P22\n",
       "4  ENSG00000211647    IGLV5-48"
      ]
     },
     "execution_count": 45,
     "metadata": {},
     "output_type": "execute_result"
    }
   ],
   "source": [
    "gene_id_mapping_df.head()"
   ]
  },
  {
   "cell_type": "code",
   "execution_count": 63,
   "metadata": {},
   "outputs": [],
   "source": [
    "df_new = pd.read_csv(\n",
    "    in_f, compression='gzip', usecols=[4,5], sep='\\t'\n",
    ")"
   ]
  },
  {
   "cell_type": "code",
   "execution_count": 64,
   "metadata": {},
   "outputs": [],
   "source": [
    "df_new['Genes'] = df_new['Gene'].map(lambda x: str(x).split(','))"
   ]
  },
  {
   "cell_type": "code",
   "execution_count": 65,
   "metadata": {},
   "outputs": [
    {
     "data": {
      "text/html": [
       "<div>\n",
       "<style scoped>\n",
       "    .dataframe tbody tr th:only-of-type {\n",
       "        vertical-align: middle;\n",
       "    }\n",
       "\n",
       "    .dataframe tbody tr th {\n",
       "        vertical-align: top;\n",
       "    }\n",
       "\n",
       "    .dataframe thead th {\n",
       "        text-align: right;\n",
       "    }\n",
       "</style>\n",
       "<table border=\"1\" class=\"dataframe\">\n",
       "  <thead>\n",
       "    <tr style=\"text-align: right;\">\n",
       "      <th></th>\n",
       "      <th>ID</th>\n",
       "      <th>Gene</th>\n",
       "      <th>Genes</th>\n",
       "    </tr>\n",
       "  </thead>\n",
       "  <tbody>\n",
       "    <tr>\n",
       "      <th>0</th>\n",
       "      <td>rs28659788</td>\n",
       "      <td>ENSG00000237491</td>\n",
       "      <td>[ENSG00000237491]</td>\n",
       "    </tr>\n",
       "    <tr>\n",
       "      <th>1</th>\n",
       "      <td>rs116587930</td>\n",
       "      <td>ENSG00000237491</td>\n",
       "      <td>[ENSG00000237491]</td>\n",
       "    </tr>\n",
       "    <tr>\n",
       "      <th>2</th>\n",
       "      <td>rs116720794</td>\n",
       "      <td>ENSG00000237491</td>\n",
       "      <td>[ENSG00000237491]</td>\n",
       "    </tr>\n",
       "    <tr>\n",
       "      <th>3</th>\n",
       "      <td>rs3131972</td>\n",
       "      <td>ENSG00000240453</td>\n",
       "      <td>[ENSG00000240453]</td>\n",
       "    </tr>\n",
       "    <tr>\n",
       "      <th>4</th>\n",
       "      <td>rs12184325</td>\n",
       "      <td>ENSG00000177757</td>\n",
       "      <td>[ENSG00000177757]</td>\n",
       "    </tr>\n",
       "  </tbody>\n",
       "</table>\n",
       "</div>"
      ],
      "text/plain": [
       "            ID             Gene              Genes\n",
       "0   rs28659788  ENSG00000237491  [ENSG00000237491]\n",
       "1  rs116587930  ENSG00000237491  [ENSG00000237491]\n",
       "2  rs116720794  ENSG00000237491  [ENSG00000237491]\n",
       "3    rs3131972  ENSG00000240453  [ENSG00000240453]\n",
       "4   rs12184325  ENSG00000177757  [ENSG00000177757]"
      ]
     },
     "execution_count": 65,
     "metadata": {},
     "output_type": "execute_result"
    }
   ],
   "source": [
    "df_new.head()"
   ]
  },
  {
   "cell_type": "code",
   "execution_count": 66,
   "metadata": {},
   "outputs": [],
   "source": [
    "gene_id_map_dict = dict(zip(\n",
    "    gene_id_mapping_df['ensembl.gene'],\n",
    "    gene_id_mapping_df['symbol']\n",
    "))"
   ]
  },
  {
   "cell_type": "code",
   "execution_count": 67,
   "metadata": {},
   "outputs": [],
   "source": [
    "df_new['Gene_symbols'] = df_new['Genes'].map(lambda x: [gene_id_map_dict[y] for y in x if y in gene_id_map_dict])"
   ]
  },
  {
   "cell_type": "code",
   "execution_count": 68,
   "metadata": {},
   "outputs": [],
   "source": [
    "df_new['Gene_symbol'] = df_new['Gene_symbols'].map(lambda x: ','.join(x))"
   ]
  },
  {
   "cell_type": "code",
   "execution_count": 69,
   "metadata": {},
   "outputs": [
    {
     "data": {
      "text/html": [
       "<div>\n",
       "<style scoped>\n",
       "    .dataframe tbody tr th:only-of-type {\n",
       "        vertical-align: middle;\n",
       "    }\n",
       "\n",
       "    .dataframe tbody tr th {\n",
       "        vertical-align: top;\n",
       "    }\n",
       "\n",
       "    .dataframe thead th {\n",
       "        text-align: right;\n",
       "    }\n",
       "</style>\n",
       "<table border=\"1\" class=\"dataframe\">\n",
       "  <thead>\n",
       "    <tr style=\"text-align: right;\">\n",
       "      <th></th>\n",
       "      <th>ID</th>\n",
       "      <th>Gene</th>\n",
       "      <th>Genes</th>\n",
       "      <th>Gene_symbols</th>\n",
       "      <th>Gene_symbol</th>\n",
       "    </tr>\n",
       "  </thead>\n",
       "  <tbody>\n",
       "    <tr>\n",
       "      <th>0</th>\n",
       "      <td>rs28659788</td>\n",
       "      <td>ENSG00000237491</td>\n",
       "      <td>[ENSG00000237491]</td>\n",
       "      <td>[AL669831.5]</td>\n",
       "      <td>AL669831.5</td>\n",
       "    </tr>\n",
       "    <tr>\n",
       "      <th>1</th>\n",
       "      <td>rs116587930</td>\n",
       "      <td>ENSG00000237491</td>\n",
       "      <td>[ENSG00000237491]</td>\n",
       "      <td>[AL669831.5]</td>\n",
       "      <td>AL669831.5</td>\n",
       "    </tr>\n",
       "    <tr>\n",
       "      <th>2</th>\n",
       "      <td>rs116720794</td>\n",
       "      <td>ENSG00000237491</td>\n",
       "      <td>[ENSG00000237491]</td>\n",
       "      <td>[AL669831.5]</td>\n",
       "      <td>AL669831.5</td>\n",
       "    </tr>\n",
       "    <tr>\n",
       "      <th>3</th>\n",
       "      <td>rs3131972</td>\n",
       "      <td>ENSG00000240453</td>\n",
       "      <td>[ENSG00000240453]</td>\n",
       "      <td>[]</td>\n",
       "      <td></td>\n",
       "    </tr>\n",
       "    <tr>\n",
       "      <th>4</th>\n",
       "      <td>rs12184325</td>\n",
       "      <td>ENSG00000177757</td>\n",
       "      <td>[ENSG00000177757]</td>\n",
       "      <td>[FAM87B]</td>\n",
       "      <td>FAM87B</td>\n",
       "    </tr>\n",
       "  </tbody>\n",
       "</table>\n",
       "</div>"
      ],
      "text/plain": [
       "            ID             Gene              Genes  Gene_symbols Gene_symbol\n",
       "0   rs28659788  ENSG00000237491  [ENSG00000237491]  [AL669831.5]  AL669831.5\n",
       "1  rs116587930  ENSG00000237491  [ENSG00000237491]  [AL669831.5]  AL669831.5\n",
       "2  rs116720794  ENSG00000237491  [ENSG00000237491]  [AL669831.5]  AL669831.5\n",
       "3    rs3131972  ENSG00000240453  [ENSG00000240453]            []            \n",
       "4   rs12184325  ENSG00000177757  [ENSG00000177757]      [FAM87B]      FAM87B"
      ]
     },
     "execution_count": 69,
     "metadata": {},
     "output_type": "execute_result"
    }
   ],
   "source": [
    "df_new.head()"
   ]
  },
  {
   "cell_type": "code",
   "execution_count": 72,
   "metadata": {},
   "outputs": [
    {
     "data": {
      "text/plain": [
       "(784256, 5)"
      ]
     },
     "execution_count": 72,
     "metadata": {},
     "output_type": "execute_result"
    }
   ],
   "source": [
    "df_new.shape"
   ]
  },
  {
   "cell_type": "code",
   "execution_count": 73,
   "metadata": {},
   "outputs": [
    {
     "data": {
      "text/plain": [
       "784256"
      ]
     },
     "execution_count": 73,
     "metadata": {},
     "output_type": "execute_result"
    }
   ],
   "source": [
    "len(set(df_new['ID']))"
   ]
  },
  {
   "cell_type": "code",
   "execution_count": 74,
   "metadata": {},
   "outputs": [],
   "source": [
    "df_new[['ID', 'Gene', 'Gene_symbol']].to_csv(\n",
    "    'variant_id_to_gene_symbol.tsv', sep='\\t', index=False\n",
    ")"
   ]
  },
  {
   "cell_type": "code",
   "execution_count": null,
   "metadata": {},
   "outputs": [],
   "source": []
  }
 ],
 "metadata": {
  "kernelspec": {
   "display_name": "Python 3",
   "language": "python",
   "name": "python3"
  },
  "language_info": {
   "codemirror_mode": {
    "name": "ipython",
    "version": 3
   },
   "file_extension": ".py",
   "mimetype": "text/x-python",
   "name": "python",
   "nbconvert_exporter": "python",
   "pygments_lexer": "ipython3",
   "version": "3.7.1"
  }
 },
 "nbformat": 4,
 "nbformat_minor": 2
}
