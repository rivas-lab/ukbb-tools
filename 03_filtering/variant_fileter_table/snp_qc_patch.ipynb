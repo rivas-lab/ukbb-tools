{
 "cells": [
  {
   "cell_type": "markdown",
   "metadata": {},
   "source": [
    "# Minor patch on `ukb_snp_qc` file for the array dataset\n",
    "\n",
    "## Yosuke Tanigawa, 2020/10/14\n",
    "\n",
    "\n",
    "- The snp QC file provided by UK Biobank (http://biobank.ctsu.ox.ac.uk/crystal/refer.cgi?id=1955) has marker-level QC information.\n",
    "- It seems like the file has some errors in header line: `PC19_loading`, `PC29_loading`, and `PC39_loading` are all mislabed as `PC9_loading`\n",
    "- This notebook applies patches to the issues above and merge it with the pvar file.\n",
    "\n"
   ]
  },
  {
   "cell_type": "code",
   "execution_count": 1,
   "metadata": {},
   "outputs": [],
   "source": [
    "suppressWarnings(suppressPackageStartupMessages({\n",
    "    library(tidyverse)\n",
    "    library(data.table)\n",
    "}))\n"
   ]
  },
  {
   "cell_type": "code",
   "execution_count": 2,
   "metadata": {},
   "outputs": [],
   "source": [
    "snp_qc_f <- '/oak/stanford/groups/mrivas/ukbb24983/snp/snp_download/ukb_snp_qc.txt'\n",
    "pvar_f <- '/oak/stanford/groups/mrivas/ukbb24983/cal/pgen/ukb24983_cal_cALL_v2_hg19.pvar.zst'\n",
    "snp_qc_patched_f <- '/oak/stanford/groups/mrivas/ukbb24983/snp/ukb_snp_qc.pvar'\n"
   ]
  },
  {
   "cell_type": "code",
   "execution_count": 3,
   "metadata": {},
   "outputs": [],
   "source": [
    "pvar_df <- fread(cmd=paste('zstdcat', pvar_f), colClasses = c('#CHROM'='character')) %>%\n",
    "rename('CHROM'='#CHROM')\n"
   ]
  },
  {
   "cell_type": "code",
   "execution_count": 4,
   "metadata": {},
   "outputs": [],
   "source": [
    "snp_qc_f %>%\n",
    "fread(colClasses = c('chromosome'='character')) %>%\n",
    "rename('PC19_loading'=137, 'PC29_loading'=147, 'PC39_loading'=157) -> snp_qc_df\n"
   ]
  },
  {
   "cell_type": "code",
   "execution_count": 5,
   "metadata": {},
   "outputs": [],
   "source": [
    "pvar_df %>%\n",
    "left_join(\n",
    "    snp_qc_df,\n",
    "    by=c('ID'='rs_id', 'POS'='position', 'REF'='allele1_ref', 'ALT'='allele2_alt')\n",
    ") -> full_df\n"
   ]
  },
  {
   "cell_type": "code",
   "execution_count": 6,
   "metadata": {},
   "outputs": [
    {
     "data": {
      "text/html": [
       "<table>\n",
       "<caption>A data.table: 3 × 2</caption>\n",
       "<thead>\n",
       "\t<tr><th scope=col>array</th><th scope=col>n</th></tr>\n",
       "\t<tr><th scope=col>&lt;int&gt;</th><th scope=col>&lt;int&gt;</th></tr>\n",
       "</thead>\n",
       "<tbody>\n",
       "\t<tr><td>0</td><td> 17536</td></tr>\n",
       "\t<tr><td>1</td><td> 34197</td></tr>\n",
       "\t<tr><td>2</td><td>753693</td></tr>\n",
       "</tbody>\n",
       "</table>\n"
      ],
      "text/latex": [
       "A data.table: 3 × 2\n",
       "\\begin{tabular}{ll}\n",
       " array & n\\\\\n",
       " <int> & <int>\\\\\n",
       "\\hline\n",
       "\t 0 &  17536\\\\\n",
       "\t 1 &  34197\\\\\n",
       "\t 2 & 753693\\\\\n",
       "\\end{tabular}\n"
      ],
      "text/markdown": [
       "\n",
       "A data.table: 3 × 2\n",
       "\n",
       "| array &lt;int&gt; | n &lt;int&gt; |\n",
       "|---|---|\n",
       "| 0 |  17536 |\n",
       "| 1 |  34197 |\n",
       "| 2 | 753693 |\n",
       "\n"
      ],
      "text/plain": [
       "  array n     \n",
       "1 0      17536\n",
       "2 1      34197\n",
       "3 2     753693"
      ]
     },
     "metadata": {},
     "output_type": "display_data"
    }
   ],
   "source": [
    "full_df %>% count(array)"
   ]
  },
  {
   "cell_type": "code",
   "execution_count": 9,
   "metadata": {},
   "outputs": [
    {
     "data": {
      "text/html": [
       "<table>\n",
       "<caption>A data.table: 4 × 3</caption>\n",
       "<thead>\n",
       "\t<tr><th scope=col>CHROM</th><th scope=col>chromosome</th><th scope=col>n</th></tr>\n",
       "\t<tr><th scope=col>&lt;chr&gt;</th><th scope=col>&lt;chr&gt;</th><th scope=col>&lt;int&gt;</th></tr>\n",
       "</thead>\n",
       "<tbody>\n",
       "\t<tr><td>MT</td><td>26</td><td>  265</td></tr>\n",
       "\t<tr><td>X </td><td>23</td><td>18857</td></tr>\n",
       "\t<tr><td>XY</td><td>25</td><td> 1357</td></tr>\n",
       "\t<tr><td>Y </td><td>24</td><td>  691</td></tr>\n",
       "</tbody>\n",
       "</table>\n"
      ],
      "text/latex": [
       "A data.table: 4 × 3\n",
       "\\begin{tabular}{lll}\n",
       " CHROM & chromosome & n\\\\\n",
       " <chr> & <chr> & <int>\\\\\n",
       "\\hline\n",
       "\t MT & 26 &   265\\\\\n",
       "\t X  & 23 & 18857\\\\\n",
       "\t XY & 25 &  1357\\\\\n",
       "\t Y  & 24 &   691\\\\\n",
       "\\end{tabular}\n"
      ],
      "text/markdown": [
       "\n",
       "A data.table: 4 × 3\n",
       "\n",
       "| CHROM &lt;chr&gt; | chromosome &lt;chr&gt; | n &lt;int&gt; |\n",
       "|---|---|---|\n",
       "| MT | 26 |   265 |\n",
       "| X  | 23 | 18857 |\n",
       "| XY | 25 |  1357 |\n",
       "| Y  | 24 |   691 |\n",
       "\n"
      ],
      "text/plain": [
       "  CHROM chromosome n    \n",
       "1 MT    26           265\n",
       "2 X     23         18857\n",
       "3 XY    25          1357\n",
       "4 Y     24           691"
      ]
     },
     "metadata": {},
     "output_type": "display_data"
    }
   ],
   "source": [
    "full_df %>% filter(CHROM != chromosome) %>% count(CHROM, chromosome)"
   ]
  },
  {
   "cell_type": "code",
   "execution_count": 10,
   "metadata": {},
   "outputs": [],
   "source": [
    "full_df %>% \n",
    "select(-chromosome) %>%\n",
    "rename('#CHROM' = 'CHROM') %>%\n",
    "fwrite(snp_qc_patched_f, sep='\\t', na = \"NA\", quote=F)\n"
   ]
  },
  {
   "cell_type": "code",
   "execution_count": null,
   "metadata": {},
   "outputs": [],
   "source": []
  }
 ],
 "metadata": {
  "kernelspec": {
   "display_name": "R",
   "language": "R",
   "name": "ir"
  },
  "language_info": {
   "codemirror_mode": "r",
   "file_extension": ".r",
   "mimetype": "text/x-r-source",
   "name": "R",
   "pygments_lexer": "r",
   "version": "3.6.2"
  }
 },
 "nbformat": 4,
 "nbformat_minor": 4
}
