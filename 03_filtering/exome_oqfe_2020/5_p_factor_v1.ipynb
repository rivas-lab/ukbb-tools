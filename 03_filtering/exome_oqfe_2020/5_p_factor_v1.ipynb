{
 "cells": [
  {
   "cell_type": "code",
   "execution_count": 2,
   "metadata": {},
   "outputs": [],
   "source": [
    "suppressWarnings(suppressPackageStartupMessages({\n",
    "    library(tidyverse)\n",
    "    library(data.table)\n",
    "}))\n"
   ]
  },
  {
   "cell_type": "markdown",
   "metadata": {},
   "source": [
    "# penalty factor file for snpnet\n",
    "\n",
    "## Yosuke Tanigawa, 2021/1/8\n",
    "\n",
    "As in array-combined dataset, we generate penalty factor file for snpnet, based on the VEP-predicted consequence and ClinVar annotation.\n",
    "\n",
    "https://github.com/rivas-lab/ukbb-tools/tree/master/03_filtering/array-combined"
   ]
  },
  {
   "cell_type": "code",
   "execution_count": 3,
   "metadata": {},
   "outputs": [],
   "source": [
    "# input\n",
    "annot_f <- '/oak/stanford/groups/mrivas/ukbb24983/exome/annotation/20201025_exome_oqfe_2020/ukb24983_exomeOQFE.annotation.20210108.tsv.gz'\n",
    "\n",
    "# output\n",
    "p_factor <- '/oak/stanford/groups/mrivas/ukbb24983/exome/snpnet/ukb24983_exomeOQFE.snpnet.penalty.v1.rds'\n"
   ]
  },
  {
   "cell_type": "code",
   "execution_count": 9,
   "metadata": {},
   "outputs": [],
   "source": [
    "annot_f %>%\n",
    "fread(\n",
    "    colClasses = c('#CHROM'='character'),\n",
    "    select=c('#CHROM', 'POS', 'ID', 'REF', 'ALT', 'FILTER', 'Csq', 'CLIN_SIG')\n",
    ") %>%\n",
    "rename('CHROM'='#CHROM') -> annot_df\n"
   ]
  },
  {
   "cell_type": "code",
   "execution_count": 11,
   "metadata": {},
   "outputs": [
    {
     "data": {
      "text/html": [
       "<table>\n",
       "<caption>A data.table: 8 × 2</caption>\n",
       "<thead>\n",
       "\t<tr><th scope=col>FILTER</th><th scope=col>n</th></tr>\n",
       "\t<tr><th scope=col>&lt;chr&gt;</th><th scope=col>&lt;int&gt;</th></tr>\n",
       "</thead>\n",
       "<tbody>\n",
       "\t<tr><td>.                              </td><td>17582030</td></tr>\n",
       "\t<tr><td>duplicated                     </td><td>      91</td></tr>\n",
       "\t<tr><td>duplicated;sample_miss         </td><td>     146</td></tr>\n",
       "\t<tr><td>duplicated;sample_miss;WB_HWE_p</td><td>      76</td></tr>\n",
       "\t<tr><td>duplicated;WB_HWE_p            </td><td>      13</td></tr>\n",
       "\t<tr><td>sample_miss                    </td><td>  150824</td></tr>\n",
       "\t<tr><td>sample_miss;WB_HWE_p           </td><td>   20165</td></tr>\n",
       "\t<tr><td>WB_HWE_p                       </td><td>   24605</td></tr>\n",
       "</tbody>\n",
       "</table>\n"
      ],
      "text/latex": [
       "A data.table: 8 × 2\n",
       "\\begin{tabular}{ll}\n",
       " FILTER & n\\\\\n",
       " <chr> & <int>\\\\\n",
       "\\hline\n",
       "\t .                               & 17582030\\\\\n",
       "\t duplicated                      &       91\\\\\n",
       "\t duplicated;sample\\_miss          &      146\\\\\n",
       "\t duplicated;sample\\_miss;WB\\_HWE\\_p &       76\\\\\n",
       "\t duplicated;WB\\_HWE\\_p             &       13\\\\\n",
       "\t sample\\_miss                     &   150824\\\\\n",
       "\t sample\\_miss;WB\\_HWE\\_p            &    20165\\\\\n",
       "\t WB\\_HWE\\_p                        &    24605\\\\\n",
       "\\end{tabular}\n"
      ],
      "text/markdown": [
       "\n",
       "A data.table: 8 × 2\n",
       "\n",
       "| FILTER &lt;chr&gt; | n &lt;int&gt; |\n",
       "|---|---|\n",
       "| .                               | 17582030 |\n",
       "| duplicated                      |       91 |\n",
       "| duplicated;sample_miss          |      146 |\n",
       "| duplicated;sample_miss;WB_HWE_p |       76 |\n",
       "| duplicated;WB_HWE_p             |       13 |\n",
       "| sample_miss                     |   150824 |\n",
       "| sample_miss;WB_HWE_p            |    20165 |\n",
       "| WB_HWE_p                        |    24605 |\n",
       "\n"
      ],
      "text/plain": [
       "  FILTER                          n       \n",
       "1 .                               17582030\n",
       "2 duplicated                            91\n",
       "3 duplicated;sample_miss               146\n",
       "4 duplicated;sample_miss;WB_HWE_p       76\n",
       "5 duplicated;WB_HWE_p                   13\n",
       "6 sample_miss                       150824\n",
       "7 sample_miss;WB_HWE_p               20165\n",
       "8 WB_HWE_p                           24605"
      ]
     },
     "metadata": {},
     "output_type": "display_data"
    }
   ],
   "source": [
    "annot_df %>% count(FILTER)"
   ]
  },
  {
   "cell_type": "code",
   "execution_count": 43,
   "metadata": {},
   "outputs": [
    {
     "data": {
      "text/html": [
       "<table>\n",
       "<caption>A data.table: 6 × 2</caption>\n",
       "<thead>\n",
       "\t<tr><th scope=col>Csq</th><th scope=col>n</th></tr>\n",
       "\t<tr><th scope=col>&lt;chr&gt;</th><th scope=col>&lt;int&gt;</th></tr>\n",
       "</thead>\n",
       "<tbody>\n",
       "\t<tr><td>intron</td><td>6688092</td></tr>\n",
       "\t<tr><td>others</td><td>1180120</td></tr>\n",
       "\t<tr><td>pav   </td><td>5412581</td></tr>\n",
       "\t<tr><td>pcv   </td><td>2196041</td></tr>\n",
       "\t<tr><td>ptv   </td><td> 496158</td></tr>\n",
       "\t<tr><td>utr   </td><td>1804958</td></tr>\n",
       "</tbody>\n",
       "</table>\n"
      ],
      "text/latex": [
       "A data.table: 6 × 2\n",
       "\\begin{tabular}{ll}\n",
       " Csq & n\\\\\n",
       " <chr> & <int>\\\\\n",
       "\\hline\n",
       "\t intron & 6688092\\\\\n",
       "\t others & 1180120\\\\\n",
       "\t pav    & 5412581\\\\\n",
       "\t pcv    & 2196041\\\\\n",
       "\t ptv    &  496158\\\\\n",
       "\t utr    & 1804958\\\\\n",
       "\\end{tabular}\n"
      ],
      "text/markdown": [
       "\n",
       "A data.table: 6 × 2\n",
       "\n",
       "| Csq &lt;chr&gt; | n &lt;int&gt; |\n",
       "|---|---|\n",
       "| intron | 6688092 |\n",
       "| others | 1180120 |\n",
       "| pav    | 5412581 |\n",
       "| pcv    | 2196041 |\n",
       "| ptv    |  496158 |\n",
       "| utr    | 1804958 |\n",
       "\n"
      ],
      "text/plain": [
       "  Csq    n      \n",
       "1 intron 6688092\n",
       "2 others 1180120\n",
       "3 pav    5412581\n",
       "4 pcv    2196041\n",
       "5 ptv     496158\n",
       "6 utr    1804958"
      ]
     },
     "metadata": {},
     "output_type": "display_data"
    }
   ],
   "source": [
    "annot_df %>% count(Csq)\n"
   ]
  },
  {
   "cell_type": "code",
   "execution_count": 47,
   "metadata": {},
   "outputs": [],
   "source": [
    "annot_df %>%\n",
    "mutate(\n",
    "    CLIN_SIG_curated = if_else(\n",
    "        is.na(CLIN_SIG) |\n",
    "        (! str_detect(CLIN_SIG, 'pathogenic')) |\n",
    "        str_detect(CLIN_SIG, 'conflicting_interpretation') |\n",
    "        str_detect(CLIN_SIG, 'benign'),\n",
    "        '3_no_pathogenic_info',\n",
    "        if_else(\n",
    "            str_detect(CLIN_SIG, 'likely'),\n",
    "            '2_likely_pathogenic',\n",
    "            '1_pathogenic'\n",
    "        )\n",
    "    ),\n",
    "    w = if_else(\n",
    "        Csq == 'ptv' | CLIN_SIG_curated == '1_pathogenic', .5,\n",
    "        if_else(\n",
    "            Csq == 'pav' | CLIN_SIG_curated == '2_likely_pathogenic', .75, 1\n",
    "        )\n",
    "    )\n",
    ") -> annot_weights_df\n"
   ]
  },
  {
   "cell_type": "code",
   "execution_count": 49,
   "metadata": {},
   "outputs": [
    {
     "data": {
      "text/html": [
       "<table>\n",
       "<caption>A data.table: 18 × 4</caption>\n",
       "<thead>\n",
       "\t<tr><th scope=col>w</th><th scope=col>CLIN_SIG_curated</th><th scope=col>Csq</th><th scope=col>n</th></tr>\n",
       "\t<tr><th scope=col>&lt;dbl&gt;</th><th scope=col>&lt;chr&gt;</th><th scope=col>&lt;chr&gt;</th><th scope=col>&lt;int&gt;</th></tr>\n",
       "</thead>\n",
       "<tbody>\n",
       "\t<tr><td>0.50</td><td>1_pathogenic        </td><td>intron</td><td>     50</td></tr>\n",
       "\t<tr><td>0.50</td><td>1_pathogenic        </td><td>others</td><td>     14</td></tr>\n",
       "\t<tr><td>0.50</td><td>1_pathogenic        </td><td>pav   </td><td>   4640</td></tr>\n",
       "\t<tr><td>0.50</td><td>1_pathogenic        </td><td>pcv   </td><td>     27</td></tr>\n",
       "\t<tr><td>0.50</td><td>1_pathogenic        </td><td>ptv   </td><td>   5351</td></tr>\n",
       "\t<tr><td>0.50</td><td>1_pathogenic        </td><td>utr   </td><td>     20</td></tr>\n",
       "\t<tr><td>0.50</td><td>2_likely_pathogenic </td><td>ptv   </td><td>   3326</td></tr>\n",
       "\t<tr><td>0.50</td><td>3_no_pathogenic_info</td><td>ptv   </td><td> 484663</td></tr>\n",
       "\t<tr><td>0.75</td><td>2_likely_pathogenic </td><td>intron</td><td>     34</td></tr>\n",
       "\t<tr><td>0.75</td><td>2_likely_pathogenic </td><td>others</td><td>     11</td></tr>\n",
       "\t<tr><td>0.75</td><td>2_likely_pathogenic </td><td>pav   </td><td>   4541</td></tr>\n",
       "\t<tr><td>0.75</td><td>2_likely_pathogenic </td><td>pcv   </td><td>     35</td></tr>\n",
       "\t<tr><td>0.75</td><td>2_likely_pathogenic </td><td>utr   </td><td>     10</td></tr>\n",
       "\t<tr><td>0.75</td><td>3_no_pathogenic_info</td><td>pav   </td><td>5380877</td></tr>\n",
       "\t<tr><td>1.00</td><td>3_no_pathogenic_info</td><td>intron</td><td>6564947</td></tr>\n",
       "\t<tr><td>1.00</td><td>3_no_pathogenic_info</td><td>others</td><td>1163504</td></tr>\n",
       "\t<tr><td>1.00</td><td>3_no_pathogenic_info</td><td>pcv   </td><td>2188587</td></tr>\n",
       "\t<tr><td>1.00</td><td>3_no_pathogenic_info</td><td>utr   </td><td>1781393</td></tr>\n",
       "</tbody>\n",
       "</table>\n"
      ],
      "text/latex": [
       "A data.table: 18 × 4\n",
       "\\begin{tabular}{llll}\n",
       " w & CLIN\\_SIG\\_curated & Csq & n\\\\\n",
       " <dbl> & <chr> & <chr> & <int>\\\\\n",
       "\\hline\n",
       "\t 0.50 & 1\\_pathogenic         & intron &      50\\\\\n",
       "\t 0.50 & 1\\_pathogenic         & others &      14\\\\\n",
       "\t 0.50 & 1\\_pathogenic         & pav    &    4640\\\\\n",
       "\t 0.50 & 1\\_pathogenic         & pcv    &      27\\\\\n",
       "\t 0.50 & 1\\_pathogenic         & ptv    &    5351\\\\\n",
       "\t 0.50 & 1\\_pathogenic         & utr    &      20\\\\\n",
       "\t 0.50 & 2\\_likely\\_pathogenic  & ptv    &    3326\\\\\n",
       "\t 0.50 & 3\\_no\\_pathogenic\\_info & ptv    &  484663\\\\\n",
       "\t 0.75 & 2\\_likely\\_pathogenic  & intron &      34\\\\\n",
       "\t 0.75 & 2\\_likely\\_pathogenic  & others &      11\\\\\n",
       "\t 0.75 & 2\\_likely\\_pathogenic  & pav    &    4541\\\\\n",
       "\t 0.75 & 2\\_likely\\_pathogenic  & pcv    &      35\\\\\n",
       "\t 0.75 & 2\\_likely\\_pathogenic  & utr    &      10\\\\\n",
       "\t 0.75 & 3\\_no\\_pathogenic\\_info & pav    & 5380877\\\\\n",
       "\t 1.00 & 3\\_no\\_pathogenic\\_info & intron & 6564947\\\\\n",
       "\t 1.00 & 3\\_no\\_pathogenic\\_info & others & 1163504\\\\\n",
       "\t 1.00 & 3\\_no\\_pathogenic\\_info & pcv    & 2188587\\\\\n",
       "\t 1.00 & 3\\_no\\_pathogenic\\_info & utr    & 1781393\\\\\n",
       "\\end{tabular}\n"
      ],
      "text/markdown": [
       "\n",
       "A data.table: 18 × 4\n",
       "\n",
       "| w &lt;dbl&gt; | CLIN_SIG_curated &lt;chr&gt; | Csq &lt;chr&gt; | n &lt;int&gt; |\n",
       "|---|---|---|---|\n",
       "| 0.50 | 1_pathogenic         | intron |      50 |\n",
       "| 0.50 | 1_pathogenic         | others |      14 |\n",
       "| 0.50 | 1_pathogenic         | pav    |    4640 |\n",
       "| 0.50 | 1_pathogenic         | pcv    |      27 |\n",
       "| 0.50 | 1_pathogenic         | ptv    |    5351 |\n",
       "| 0.50 | 1_pathogenic         | utr    |      20 |\n",
       "| 0.50 | 2_likely_pathogenic  | ptv    |    3326 |\n",
       "| 0.50 | 3_no_pathogenic_info | ptv    |  484663 |\n",
       "| 0.75 | 2_likely_pathogenic  | intron |      34 |\n",
       "| 0.75 | 2_likely_pathogenic  | others |      11 |\n",
       "| 0.75 | 2_likely_pathogenic  | pav    |    4541 |\n",
       "| 0.75 | 2_likely_pathogenic  | pcv    |      35 |\n",
       "| 0.75 | 2_likely_pathogenic  | utr    |      10 |\n",
       "| 0.75 | 3_no_pathogenic_info | pav    | 5380877 |\n",
       "| 1.00 | 3_no_pathogenic_info | intron | 6564947 |\n",
       "| 1.00 | 3_no_pathogenic_info | others | 1163504 |\n",
       "| 1.00 | 3_no_pathogenic_info | pcv    | 2188587 |\n",
       "| 1.00 | 3_no_pathogenic_info | utr    | 1781393 |\n",
       "\n"
      ],
      "text/plain": [
       "   w    CLIN_SIG_curated     Csq    n      \n",
       "1  0.50 1_pathogenic         intron      50\n",
       "2  0.50 1_pathogenic         others      14\n",
       "3  0.50 1_pathogenic         pav       4640\n",
       "4  0.50 1_pathogenic         pcv         27\n",
       "5  0.50 1_pathogenic         ptv       5351\n",
       "6  0.50 1_pathogenic         utr         20\n",
       "7  0.50 2_likely_pathogenic  ptv       3326\n",
       "8  0.50 3_no_pathogenic_info ptv     484663\n",
       "9  0.75 2_likely_pathogenic  intron      34\n",
       "10 0.75 2_likely_pathogenic  others      11\n",
       "11 0.75 2_likely_pathogenic  pav       4541\n",
       "12 0.75 2_likely_pathogenic  pcv         35\n",
       "13 0.75 2_likely_pathogenic  utr         10\n",
       "14 0.75 3_no_pathogenic_info pav    5380877\n",
       "15 1.00 3_no_pathogenic_info intron 6564947\n",
       "16 1.00 3_no_pathogenic_info others 1163504\n",
       "17 1.00 3_no_pathogenic_info pcv    2188587\n",
       "18 1.00 3_no_pathogenic_info utr    1781393"
      ]
     },
     "metadata": {},
     "output_type": "display_data"
    }
   ],
   "source": [
    "annot_weights_df %>%\n",
    "filter(FILTER == '.') %>%\n",
    "count(w, CLIN_SIG_curated, Csq)"
   ]
  },
  {
   "cell_type": "code",
   "execution_count": 53,
   "metadata": {},
   "outputs": [],
   "source": [
    "annot_weights_df %>%\n",
    "filter(FILTER == '.') %>%\n",
    "mutate(ID_ALT = paste(ID, ALT, sep='_')) %>%\n",
    "select(ID_ALT, w) %>%\n",
    "deframe() %>%\n",
    "saveRDS(file = p_factor)\n"
   ]
  },
  {
   "cell_type": "markdown",
   "metadata": {},
   "source": [
    "## Appendix. ClinVar significance info"
   ]
  },
  {
   "cell_type": "code",
   "execution_count": 12,
   "metadata": {},
   "outputs": [],
   "source": [
    "annot_df %>% count(CLIN_SIG) -> annot_CLIN_SIG_cnt_df\n"
   ]
  },
  {
   "cell_type": "code",
   "execution_count": 50,
   "metadata": {},
   "outputs": [
    {
     "data": {
      "text/html": [
       "<table>\n",
       "<caption>A data.table: 20 × 2</caption>\n",
       "<thead>\n",
       "\t<tr><th scope=col>CLIN_SIG</th><th scope=col>n</th></tr>\n",
       "\t<tr><th scope=col>&lt;chr&gt;</th><th scope=col>&lt;int&gt;</th></tr>\n",
       "</thead>\n",
       "<tbody>\n",
       "\t<tr><td>NA                                                                 </td><td>17568276</td></tr>\n",
       "\t<tr><td>uncertain_significance                                             </td><td>   79167</td></tr>\n",
       "\t<tr><td>likely_benign                                                      </td><td>   40553</td></tr>\n",
       "\t<tr><td>benign                                                             </td><td>   21468</td></tr>\n",
       "\t<tr><td>pathogenic                                                         </td><td>    8987</td></tr>\n",
       "\t<tr><td><span style=white-space:pre-wrap>benign&amp;likely_benign                                               </span></td><td><span style=white-space:pre-wrap>    7331</span></td></tr>\n",
       "\t<tr><td><span style=white-space:pre-wrap>likely_benign&amp;benign                                               </span></td><td><span style=white-space:pre-wrap>    6530</span></td></tr>\n",
       "\t<tr><td><span style=white-space:pre-wrap>uncertain_significance&amp;likely_benign                               </span></td><td><span style=white-space:pre-wrap>    4238</span></td></tr>\n",
       "\t<tr><td>likely_pathogenic                                                  </td><td>    4024</td></tr>\n",
       "\t<tr><td><span style=white-space:pre-wrap>likely_benign&amp;uncertain_significance                               </span></td><td><span style=white-space:pre-wrap>    3979</span></td></tr>\n",
       "\t<tr><td>conflicting_interpretations_of_pathogenicity                       </td><td>    3807</td></tr>\n",
       "\t<tr><td>not_provided                                                       </td><td>    2210</td></tr>\n",
       "\t<tr><td><span style=white-space:pre-wrap>uncertain_significance&amp;benign                                      </span></td><td><span style=white-space:pre-wrap>    1720</span></td></tr>\n",
       "\t<tr><td><span style=white-space:pre-wrap>benign&amp;uncertain_significance                                      </span></td><td><span style=white-space:pre-wrap>    1544</span></td></tr>\n",
       "\t<tr><td>uncertain_significance&amp;conflicting_interpretations_of_pathogenicity</td><td><span style=white-space:pre-wrap>    1274</span></td></tr>\n",
       "\t<tr><td>conflicting_interpretations_of_pathogenicity&amp;uncertain_significance</td><td><span style=white-space:pre-wrap>    1240</span></td></tr>\n",
       "\t<tr><td><span style=white-space:pre-wrap>conflicting_interpretations_of_pathogenicity&amp;likely_benign         </span></td><td><span style=white-space:pre-wrap>    1119</span></td></tr>\n",
       "\t<tr><td><span style=white-space:pre-wrap>likely_pathogenic&amp;pathogenic                                       </span></td><td><span style=white-space:pre-wrap>    1113</span></td></tr>\n",
       "\t<tr><td><span style=white-space:pre-wrap>likely_benign&amp;conflicting_interpretations_of_pathogenicity         </span></td><td><span style=white-space:pre-wrap>    1075</span></td></tr>\n",
       "\t<tr><td><span style=white-space:pre-wrap>benign&amp;benign/likely_benign                                        </span></td><td><span style=white-space:pre-wrap>     892</span></td></tr>\n",
       "</tbody>\n",
       "</table>\n"
      ],
      "text/latex": [
       "A data.table: 20 × 2\n",
       "\\begin{tabular}{ll}\n",
       " CLIN\\_SIG & n\\\\\n",
       " <chr> & <int>\\\\\n",
       "\\hline\n",
       "\t NA                                                                  & 17568276\\\\\n",
       "\t uncertain\\_significance                                              &    79167\\\\\n",
       "\t likely\\_benign                                                       &    40553\\\\\n",
       "\t benign                                                              &    21468\\\\\n",
       "\t pathogenic                                                          &     8987\\\\\n",
       "\t benign\\&likely\\_benign                                                &     7331\\\\\n",
       "\t likely\\_benign\\&benign                                                &     6530\\\\\n",
       "\t uncertain\\_significance\\&likely\\_benign                                &     4238\\\\\n",
       "\t likely\\_pathogenic                                                   &     4024\\\\\n",
       "\t likely\\_benign\\&uncertain\\_significance                                &     3979\\\\\n",
       "\t conflicting\\_interpretations\\_of\\_pathogenicity                        &     3807\\\\\n",
       "\t not\\_provided                                                        &     2210\\\\\n",
       "\t uncertain\\_significance\\&benign                                       &     1720\\\\\n",
       "\t benign\\&uncertain\\_significance                                       &     1544\\\\\n",
       "\t uncertain\\_significance\\&conflicting\\_interpretations\\_of\\_pathogenicity &     1274\\\\\n",
       "\t conflicting\\_interpretations\\_of\\_pathogenicity\\&uncertain\\_significance &     1240\\\\\n",
       "\t conflicting\\_interpretations\\_of\\_pathogenicity\\&likely\\_benign          &     1119\\\\\n",
       "\t likely\\_pathogenic\\&pathogenic                                        &     1113\\\\\n",
       "\t likely\\_benign\\&conflicting\\_interpretations\\_of\\_pathogenicity          &     1075\\\\\n",
       "\t benign\\&benign/likely\\_benign                                         &      892\\\\\n",
       "\\end{tabular}\n"
      ],
      "text/markdown": [
       "\n",
       "A data.table: 20 × 2\n",
       "\n",
       "| CLIN_SIG &lt;chr&gt; | n &lt;int&gt; |\n",
       "|---|---|\n",
       "| NA                                                                  | 17568276 |\n",
       "| uncertain_significance                                              |    79167 |\n",
       "| likely_benign                                                       |    40553 |\n",
       "| benign                                                              |    21468 |\n",
       "| pathogenic                                                          |     8987 |\n",
       "| benign&amp;likely_benign                                                |     7331 |\n",
       "| likely_benign&amp;benign                                                |     6530 |\n",
       "| uncertain_significance&amp;likely_benign                                |     4238 |\n",
       "| likely_pathogenic                                                   |     4024 |\n",
       "| likely_benign&amp;uncertain_significance                                |     3979 |\n",
       "| conflicting_interpretations_of_pathogenicity                        |     3807 |\n",
       "| not_provided                                                        |     2210 |\n",
       "| uncertain_significance&amp;benign                                       |     1720 |\n",
       "| benign&amp;uncertain_significance                                       |     1544 |\n",
       "| uncertain_significance&amp;conflicting_interpretations_of_pathogenicity |     1274 |\n",
       "| conflicting_interpretations_of_pathogenicity&amp;uncertain_significance |     1240 |\n",
       "| conflicting_interpretations_of_pathogenicity&amp;likely_benign          |     1119 |\n",
       "| likely_pathogenic&amp;pathogenic                                        |     1113 |\n",
       "| likely_benign&amp;conflicting_interpretations_of_pathogenicity          |     1075 |\n",
       "| benign&amp;benign/likely_benign                                         |      892 |\n",
       "\n"
      ],
      "text/plain": [
       "   CLIN_SIG                                                            n       \n",
       "1  NA                                                                  17568276\n",
       "2  uncertain_significance                                                 79167\n",
       "3  likely_benign                                                          40553\n",
       "4  benign                                                                 21468\n",
       "5  pathogenic                                                              8987\n",
       "6  benign&likely_benign                                                    7331\n",
       "7  likely_benign&benign                                                    6530\n",
       "8  uncertain_significance&likely_benign                                    4238\n",
       "9  likely_pathogenic                                                       4024\n",
       "10 likely_benign&uncertain_significance                                    3979\n",
       "11 conflicting_interpretations_of_pathogenicity                            3807\n",
       "12 not_provided                                                            2210\n",
       "13 uncertain_significance&benign                                           1720\n",
       "14 benign&uncertain_significance                                           1544\n",
       "15 uncertain_significance&conflicting_interpretations_of_pathogenicity     1274\n",
       "16 conflicting_interpretations_of_pathogenicity&uncertain_significance     1240\n",
       "17 conflicting_interpretations_of_pathogenicity&likely_benign              1119\n",
       "18 likely_pathogenic&pathogenic                                            1113\n",
       "19 likely_benign&conflicting_interpretations_of_pathogenicity              1075\n",
       "20 benign&benign/likely_benign                                              892"
      ]
     },
     "metadata": {},
     "output_type": "display_data"
    }
   ],
   "source": [
    "annot_CLIN_SIG_cnt_df %>% arrange(-n) %>% head(20)"
   ]
  },
  {
   "cell_type": "markdown",
   "metadata": {},
   "source": [
    "some variants have multiple significance levels.\n"
   ]
  },
  {
   "cell_type": "code",
   "execution_count": 31,
   "metadata": {},
   "outputs": [
    {
     "data": {
      "text/html": [
       "<table>\n",
       "<caption>A tibble: 15 × 2</caption>\n",
       "<thead>\n",
       "\t<tr><th scope=col>CLIN_SIG</th><th scope=col>n</th></tr>\n",
       "\t<tr><th scope=col>&lt;chr&gt;</th><th scope=col>&lt;int&gt;</th></tr>\n",
       "</thead>\n",
       "<tbody>\n",
       "\t<tr><td>pathogenic                  </td><td>12673</td></tr>\n",
       "\t<tr><td>likely_pathogenic           </td><td> 7212</td></tr>\n",
       "\t<tr><td>uncertain_significance      </td><td> 1909</td></tr>\n",
       "\t<tr><td>pathogenic/likely_pathogenic</td><td> 1015</td></tr>\n",
       "\t<tr><td>not_provided                </td><td>  478</td></tr>\n",
       "\t<tr><td>risk_factor                 </td><td>   74</td></tr>\n",
       "\t<tr><td>drug_response               </td><td>   47</td></tr>\n",
       "\t<tr><td>other                       </td><td>   45</td></tr>\n",
       "\t<tr><td>affects                     </td><td>   14</td></tr>\n",
       "\t<tr><td>protective                  </td><td>   13</td></tr>\n",
       "\t<tr><td>_other                      </td><td>    8</td></tr>\n",
       "\t<tr><td>_risk_factor                </td><td>    7</td></tr>\n",
       "\t<tr><td>association                 </td><td>    5</td></tr>\n",
       "\t<tr><td>_association                </td><td>    2</td></tr>\n",
       "\t<tr><td>_affects                    </td><td>    1</td></tr>\n",
       "</tbody>\n",
       "</table>\n"
      ],
      "text/latex": [
       "A tibble: 15 × 2\n",
       "\\begin{tabular}{ll}\n",
       " CLIN\\_SIG & n\\\\\n",
       " <chr> & <int>\\\\\n",
       "\\hline\n",
       "\t pathogenic                   & 12673\\\\\n",
       "\t likely\\_pathogenic            &  7212\\\\\n",
       "\t uncertain\\_significance       &  1909\\\\\n",
       "\t pathogenic/likely\\_pathogenic &  1015\\\\\n",
       "\t not\\_provided                 &   478\\\\\n",
       "\t risk\\_factor                  &    74\\\\\n",
       "\t drug\\_response                &    47\\\\\n",
       "\t other                        &    45\\\\\n",
       "\t affects                      &    14\\\\\n",
       "\t protective                   &    13\\\\\n",
       "\t \\_other                       &     8\\\\\n",
       "\t \\_risk\\_factor                 &     7\\\\\n",
       "\t association                  &     5\\\\\n",
       "\t \\_association                 &     2\\\\\n",
       "\t \\_affects                     &     1\\\\\n",
       "\\end{tabular}\n"
      ],
      "text/markdown": [
       "\n",
       "A tibble: 15 × 2\n",
       "\n",
       "| CLIN_SIG &lt;chr&gt; | n &lt;int&gt; |\n",
       "|---|---|\n",
       "| pathogenic                   | 12673 |\n",
       "| likely_pathogenic            |  7212 |\n",
       "| uncertain_significance       |  1909 |\n",
       "| pathogenic/likely_pathogenic |  1015 |\n",
       "| not_provided                 |   478 |\n",
       "| risk_factor                  |    74 |\n",
       "| drug_response                |    47 |\n",
       "| other                        |    45 |\n",
       "| affects                      |    14 |\n",
       "| protective                   |    13 |\n",
       "| _other                       |     8 |\n",
       "| _risk_factor                 |     7 |\n",
       "| association                  |     5 |\n",
       "| _association                 |     2 |\n",
       "| _affects                     |     1 |\n",
       "\n"
      ],
      "text/plain": [
       "   CLIN_SIG                     n    \n",
       "1  pathogenic                   12673\n",
       "2  likely_pathogenic             7212\n",
       "3  uncertain_significance        1909\n",
       "4  pathogenic/likely_pathogenic  1015\n",
       "5  not_provided                   478\n",
       "6  risk_factor                     74\n",
       "7  drug_response                   47\n",
       "8  other                           45\n",
       "9  affects                         14\n",
       "10 protective                      13\n",
       "11 _other                           8\n",
       "12 _risk_factor                     7\n",
       "13 association                      5\n",
       "14 _association                     2\n",
       "15 _affects                         1"
      ]
     },
     "metadata": {},
     "output_type": "display_data"
    }
   ],
   "source": [
    "annot_CLIN_SIG_cnt_df %>%\n",
    "filter(str_detect(CLIN_SIG, 'pathogenic') ) %>%\n",
    "filter(!str_detect(CLIN_SIG, 'conflicting_interpretation') ) %>%\n",
    "filter(!str_detect(CLIN_SIG, 'benign') ) %>%\n",
    "\n",
    "separate(CLIN_SIG, paste0('CLIN_SIG', 1:10), remove=T, fill='right', sep='&')  %>%\n",
    "gather(CLIN_SIGidx, CLIN_SIG, -n) %>%\n",
    "drop_na(CLIN_SIG) %>%\n",
    "\n",
    "group_by(CLIN_SIG) %>% summarise(n = sum(n), .groups = 'drop') %>%\n",
    "\n",
    "arrange(-n)\n"
   ]
  },
  {
   "cell_type": "code",
   "execution_count": null,
   "metadata": {},
   "outputs": [],
   "source": []
  }
 ],
 "metadata": {
  "kernelspec": {
   "display_name": "R",
   "language": "R",
   "name": "ir"
  },
  "language_info": {
   "codemirror_mode": "r",
   "file_extension": ".r",
   "mimetype": "text/x-r-source",
   "name": "R",
   "pygments_lexer": "r",
   "version": "3.6.2"
  }
 },
 "nbformat": 4,
 "nbformat_minor": 4
}
