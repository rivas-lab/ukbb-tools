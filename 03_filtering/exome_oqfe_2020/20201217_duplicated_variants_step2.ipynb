{
 "cells": [
  {
   "cell_type": "code",
   "execution_count": 1,
   "metadata": {},
   "outputs": [],
   "source": [
    "suppressWarnings(suppressPackageStartupMessages({\n",
    "    library(tidyverse)\n",
    "    library(data.table)\n",
    "}))\n"
   ]
  },
  {
   "cell_type": "markdown",
   "metadata": {},
   "source": [
    "# duplicate detection in exome 200k\n",
    "## Yosuke Tanigawa, 2020/12/17\n",
    "\n",
    "In the exome 200k dataset in UK Biobank, we find 163 pairs (326 variant IDs) of \"duplicated\" variants. Each pair represents the exact same variant, if you take `uniq` on (CHROM, POS, REF, ALT) tupple, but they are stored as different variants.\n"
   ]
  },
  {
   "cell_type": "code",
   "execution_count": 5,
   "metadata": {},
   "outputs": [],
   "source": [
    "pvar_f <- '/oak/stanford/groups/mrivas/ukbb24983/exome/pgen/oqfe_2020/ukb24983_exomeOQFE.pvar.zst'\n",
    "in_f <- file.path(dirname(pvar_f), 'ukb24983_exomeOQFE.duplicates.noID.tsv')\n",
    "out_f <- file.path(dirname(pvar_f), 'ukb24983_exomeOQFE.duplicates.tsv')\n"
   ]
  },
  {
   "cell_type": "code",
   "execution_count": 3,
   "metadata": {},
   "outputs": [],
   "source": [
    "cat_or_zcat <- function(f){\n",
    "    ifelse(endsWith(f, '.zst'), 'zstdcat', ifelse(endsWith(f, '.gz'), 'zcat', 'cat'))\n",
    "}\n"
   ]
  },
  {
   "cell_type": "code",
   "execution_count": 4,
   "metadata": {},
   "outputs": [],
   "source": [
    "fread(cmd=paste(cat_or_zcat(pvar_f), pvar_f), colClasses = c('#CHROM'='character')) %>%\n",
    "rename('CHROM'='#CHROM') -> pvar_df\n"
   ]
  },
  {
   "cell_type": "code",
   "execution_count": 8,
   "metadata": {},
   "outputs": [],
   "source": [
    "in_f %>% fread() %>% rename('CHROM'='#CHROM') -> df\n"
   ]
  },
  {
   "cell_type": "code",
   "execution_count": 10,
   "metadata": {},
   "outputs": [
    {
     "name": "stderr",
     "output_type": "stream",
     "text": [
      "Joining, by = c(\"CHROM\", \"POS\", \"REF\", \"ALT\")\n",
      "\n"
     ]
    }
   ],
   "source": [
    "pvar_df %>% mutate(sort_order = 1:n()) %>% \n",
    "inner_join(df) %>%\n",
    "arrange(sort_order) %>%\n",
    "select(-sort_order) %>%\n",
    "rename('#CHROM' = 'CHROM') %>%\n",
    "fwrite(out_f, sep='\\t', na = \"NA\", quote=F)\n"
   ]
  },
  {
   "cell_type": "code",
   "execution_count": null,
   "metadata": {},
   "outputs": [],
   "source": []
  }
 ],
 "metadata": {
  "kernelspec": {
   "display_name": "R",
   "language": "R",
   "name": "ir"
  },
  "language_info": {
   "codemirror_mode": "r",
   "file_extension": ".r",
   "mimetype": "text/x-r-source",
   "name": "R",
   "pygments_lexer": "r",
   "version": "3.6.2"
  }
 },
 "nbformat": 4,
 "nbformat_minor": 4
}
