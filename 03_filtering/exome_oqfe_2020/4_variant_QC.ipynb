{
 "cells": [
  {
   "cell_type": "code",
   "execution_count": 1,
   "metadata": {},
   "outputs": [],
   "source": [
    "suppressWarnings(suppressPackageStartupMessages({\n",
    "    library(tidyverse)\n",
    "    library(data.table)\n",
    "}))\n"
   ]
  },
  {
   "cell_type": "markdown",
   "metadata": {},
   "source": [
    "# UK Biobank Exome OQFE 200k dataset variant-level QC\n",
    "\n",
    "## Yosuke Tanigawa (ytanigaw@stanford.edu), 2020/12/22\n",
    "\n",
    "We describe the QC criteria in README.md\n"
   ]
  },
  {
   "cell_type": "code",
   "execution_count": 20,
   "metadata": {},
   "outputs": [],
   "source": [
    "version = '20201222'"
   ]
  },
  {
   "cell_type": "code",
   "execution_count": 27,
   "metadata": {},
   "outputs": [],
   "source": [
    "# input\n",
    "\n",
    "annot_f <- '/oak/stanford/groups/mrivas/ukbb24983/exome/annotation/20201025_exome_oqfe_2020/ukb24983_exomeOQFE.annotation.20201217.compact.tsv.gz'\n",
    "dup_f <- '/oak/stanford/groups/mrivas/ukbb24983/exome/pgen/oqfe_2020/ukb24983_exomeOQFE.duplicates.tsv.gz'\n",
    "\n",
    "# output\n",
    "\n",
    "QC_pass_f <- sprintf('/oak/stanford/groups/mrivas/ukbb24983/exome/qc/oqfe_2020/ukb24983_exomeOQFE.passQC.%s.tsv', version)\n"
   ]
  },
  {
   "cell_type": "code",
   "execution_count": 10,
   "metadata": {},
   "outputs": [],
   "source": [
    "dup_f %>% \n",
    "fread(colClasses = c('#CHROM'='character')) %>%\n",
    "rename('CHROM'='#CHROM') -> dup_df\n"
   ]
  },
  {
   "cell_type": "code",
   "execution_count": 13,
   "metadata": {},
   "outputs": [],
   "source": [
    "annot_f %>%\n",
    "fread(\n",
    "    colClasses = c('#CHROM'='character'),\n",
    "    select=c('#CHROM', 'POS', 'ID', 'REF', 'ALT', 'FILTER', 'f_miss', 'UKB_white_british_hwe_p')\n",
    ") %>%\n",
    "rename('CHROM'='#CHROM') %>%\n",
    "mutate(\n",
    "    QC_duplicated = ! (ID %in% (dup_df$ID)),\n",
    "    QC_sample_miss = (f_miss < .1),\n",
    "    QC_WB_HWE_p = (log10(UKB_white_british_hwe_p)>-15)\n",
    ") -> annot_df\n"
   ]
  },
  {
   "cell_type": "code",
   "execution_count": 15,
   "metadata": {},
   "outputs": [
    {
     "data": {
      "text/html": [
       "<table>\n",
       "<caption>A data.table: 10 × 4</caption>\n",
       "<thead>\n",
       "\t<tr><th scope=col>QC_duplicated</th><th scope=col>QC_sample_miss</th><th scope=col>QC_WB_HWE_p</th><th scope=col>n</th></tr>\n",
       "\t<tr><th scope=col>&lt;lgl&gt;</th><th scope=col>&lt;lgl&gt;</th><th scope=col>&lt;lgl&gt;</th><th scope=col>&lt;int&gt;</th></tr>\n",
       "</thead>\n",
       "<tbody>\n",
       "\t<tr><td>FALSE</td><td>FALSE</td><td>FALSE</td><td>      76</td></tr>\n",
       "\t<tr><td>FALSE</td><td>FALSE</td><td> TRUE</td><td>     146</td></tr>\n",
       "\t<tr><td>FALSE</td><td> TRUE</td><td>FALSE</td><td>      13</td></tr>\n",
       "\t<tr><td>FALSE</td><td> TRUE</td><td> TRUE</td><td>      91</td></tr>\n",
       "\t<tr><td> TRUE</td><td>FALSE</td><td>FALSE</td><td>   20157</td></tr>\n",
       "\t<tr><td> TRUE</td><td>FALSE</td><td> TRUE</td><td>  150824</td></tr>\n",
       "\t<tr><td> TRUE</td><td>FALSE</td><td>   NA</td><td>       8</td></tr>\n",
       "\t<tr><td> TRUE</td><td> TRUE</td><td>FALSE</td><td>   24479</td></tr>\n",
       "\t<tr><td> TRUE</td><td> TRUE</td><td> TRUE</td><td>17582030</td></tr>\n",
       "\t<tr><td> TRUE</td><td> TRUE</td><td>   NA</td><td>     126</td></tr>\n",
       "</tbody>\n",
       "</table>\n"
      ],
      "text/latex": [
       "A data.table: 10 × 4\n",
       "\\begin{tabular}{llll}\n",
       " QC\\_duplicated & QC\\_sample\\_miss & QC\\_WB\\_HWE\\_p & n\\\\\n",
       " <lgl> & <lgl> & <lgl> & <int>\\\\\n",
       "\\hline\n",
       "\t FALSE & FALSE & FALSE &       76\\\\\n",
       "\t FALSE & FALSE &  TRUE &      146\\\\\n",
       "\t FALSE &  TRUE & FALSE &       13\\\\\n",
       "\t FALSE &  TRUE &  TRUE &       91\\\\\n",
       "\t  TRUE & FALSE & FALSE &    20157\\\\\n",
       "\t  TRUE & FALSE &  TRUE &   150824\\\\\n",
       "\t  TRUE & FALSE &    NA &        8\\\\\n",
       "\t  TRUE &  TRUE & FALSE &    24479\\\\\n",
       "\t  TRUE &  TRUE &  TRUE & 17582030\\\\\n",
       "\t  TRUE &  TRUE &    NA &      126\\\\\n",
       "\\end{tabular}\n"
      ],
      "text/markdown": [
       "\n",
       "A data.table: 10 × 4\n",
       "\n",
       "| QC_duplicated &lt;lgl&gt; | QC_sample_miss &lt;lgl&gt; | QC_WB_HWE_p &lt;lgl&gt; | n &lt;int&gt; |\n",
       "|---|---|---|---|\n",
       "| FALSE | FALSE | FALSE |       76 |\n",
       "| FALSE | FALSE |  TRUE |      146 |\n",
       "| FALSE |  TRUE | FALSE |       13 |\n",
       "| FALSE |  TRUE |  TRUE |       91 |\n",
       "|  TRUE | FALSE | FALSE |    20157 |\n",
       "|  TRUE | FALSE |  TRUE |   150824 |\n",
       "|  TRUE | FALSE |    NA |        8 |\n",
       "|  TRUE |  TRUE | FALSE |    24479 |\n",
       "|  TRUE |  TRUE |  TRUE | 17582030 |\n",
       "|  TRUE |  TRUE |    NA |      126 |\n",
       "\n"
      ],
      "text/plain": [
       "   QC_duplicated QC_sample_miss QC_WB_HWE_p n       \n",
       "1  FALSE         FALSE          FALSE             76\n",
       "2  FALSE         FALSE           TRUE            146\n",
       "3  FALSE          TRUE          FALSE             13\n",
       "4  FALSE          TRUE           TRUE             91\n",
       "5   TRUE         FALSE          FALSE          20157\n",
       "6   TRUE         FALSE           TRUE         150824\n",
       "7   TRUE         FALSE             NA              8\n",
       "8   TRUE          TRUE          FALSE          24479\n",
       "9   TRUE          TRUE           TRUE       17582030\n",
       "10  TRUE          TRUE             NA            126"
      ]
     },
     "metadata": {},
     "output_type": "display_data"
    }
   ],
   "source": [
    "annot_df  %>%\n",
    "count(QC_duplicated, QC_sample_miss, QC_WB_HWE_p)"
   ]
  },
  {
   "cell_type": "code",
   "execution_count": 18,
   "metadata": {},
   "outputs": [],
   "source": [
    "annot_df %>%\n",
    "replace_na(list(QC_duplicated=FALSE, QC_sample_miss=FALSE, QC_WB_HWE_p=FALSE)) %>%\n",
    "filter((!QC_duplicated) | (!QC_sample_miss) | (!QC_WB_HWE_p)) -> annot_QC_fail_df\n"
   ]
  },
  {
   "cell_type": "code",
   "execution_count": 26,
   "metadata": {},
   "outputs": [
    {
     "data": {
      "text/html": [
       "<style>\n",
       ".list-inline {list-style: none; margin:0; padding: 0}\n",
       ".list-inline>li {display: inline-block}\n",
       ".list-inline>li:not(:last-child)::after {content: \"\\00b7\"; padding: 0 .5ex}\n",
       "</style>\n",
       "<ol class=list-inline><li>195920</li><li>11</li></ol>\n"
      ],
      "text/latex": [
       "\\begin{enumerate*}\n",
       "\\item 195920\n",
       "\\item 11\n",
       "\\end{enumerate*}\n"
      ],
      "text/markdown": [
       "1. 195920\n",
       "2. 11\n",
       "\n",
       "\n"
      ],
      "text/plain": [
       "[1] 195920     11"
      ]
     },
     "metadata": {},
     "output_type": "display_data"
    }
   ],
   "source": [
    "annot_QC_fail_df %>% dim()"
   ]
  },
  {
   "cell_type": "code",
   "execution_count": 19,
   "metadata": {},
   "outputs": [
    {
     "data": {
      "text/html": [
       "<table>\n",
       "<caption>A data.table: 7 × 4</caption>\n",
       "<thead>\n",
       "\t<tr><th scope=col>QC_duplicated</th><th scope=col>QC_sample_miss</th><th scope=col>QC_WB_HWE_p</th><th scope=col>n</th></tr>\n",
       "\t<tr><th scope=col>&lt;lgl&gt;</th><th scope=col>&lt;lgl&gt;</th><th scope=col>&lt;lgl&gt;</th><th scope=col>&lt;int&gt;</th></tr>\n",
       "</thead>\n",
       "<tbody>\n",
       "\t<tr><td>FALSE</td><td>FALSE</td><td>FALSE</td><td>    76</td></tr>\n",
       "\t<tr><td>FALSE</td><td>FALSE</td><td> TRUE</td><td>   146</td></tr>\n",
       "\t<tr><td>FALSE</td><td> TRUE</td><td>FALSE</td><td>    13</td></tr>\n",
       "\t<tr><td>FALSE</td><td> TRUE</td><td> TRUE</td><td>    91</td></tr>\n",
       "\t<tr><td> TRUE</td><td>FALSE</td><td>FALSE</td><td> 20165</td></tr>\n",
       "\t<tr><td> TRUE</td><td>FALSE</td><td> TRUE</td><td>150824</td></tr>\n",
       "\t<tr><td> TRUE</td><td> TRUE</td><td>FALSE</td><td> 24605</td></tr>\n",
       "</tbody>\n",
       "</table>\n"
      ],
      "text/latex": [
       "A data.table: 7 × 4\n",
       "\\begin{tabular}{llll}\n",
       " QC\\_duplicated & QC\\_sample\\_miss & QC\\_WB\\_HWE\\_p & n\\\\\n",
       " <lgl> & <lgl> & <lgl> & <int>\\\\\n",
       "\\hline\n",
       "\t FALSE & FALSE & FALSE &     76\\\\\n",
       "\t FALSE & FALSE &  TRUE &    146\\\\\n",
       "\t FALSE &  TRUE & FALSE &     13\\\\\n",
       "\t FALSE &  TRUE &  TRUE &     91\\\\\n",
       "\t  TRUE & FALSE & FALSE &  20165\\\\\n",
       "\t  TRUE & FALSE &  TRUE & 150824\\\\\n",
       "\t  TRUE &  TRUE & FALSE &  24605\\\\\n",
       "\\end{tabular}\n"
      ],
      "text/markdown": [
       "\n",
       "A data.table: 7 × 4\n",
       "\n",
       "| QC_duplicated &lt;lgl&gt; | QC_sample_miss &lt;lgl&gt; | QC_WB_HWE_p &lt;lgl&gt; | n &lt;int&gt; |\n",
       "|---|---|---|---|\n",
       "| FALSE | FALSE | FALSE |     76 |\n",
       "| FALSE | FALSE |  TRUE |    146 |\n",
       "| FALSE |  TRUE | FALSE |     13 |\n",
       "| FALSE |  TRUE |  TRUE |     91 |\n",
       "|  TRUE | FALSE | FALSE |  20165 |\n",
       "|  TRUE | FALSE |  TRUE | 150824 |\n",
       "|  TRUE |  TRUE | FALSE |  24605 |\n",
       "\n"
      ],
      "text/plain": [
       "  QC_duplicated QC_sample_miss QC_WB_HWE_p n     \n",
       "1 FALSE         FALSE          FALSE           76\n",
       "2 FALSE         FALSE           TRUE          146\n",
       "3 FALSE          TRUE          FALSE           13\n",
       "4 FALSE          TRUE           TRUE           91\n",
       "5  TRUE         FALSE          FALSE        20165\n",
       "6  TRUE         FALSE           TRUE       150824\n",
       "7  TRUE          TRUE          FALSE        24605"
      ]
     },
     "metadata": {},
     "output_type": "display_data"
    }
   ],
   "source": [
    "annot_QC_fail_df %>%\n",
    "count(QC_duplicated, QC_sample_miss, QC_WB_HWE_p)"
   ]
  },
  {
   "cell_type": "code",
   "execution_count": 25,
   "metadata": {},
   "outputs": [
    {
     "data": {
      "text/html": [
       "<strong>png:</strong> 2"
      ],
      "text/latex": [
       "\\textbf{png:} 2"
      ],
      "text/markdown": [
       "**png:** 2"
      ],
      "text/plain": [
       "png \n",
       "  2 "
      ]
     },
     "metadata": {},
     "output_type": "display_data"
    }
   ],
   "source": [
    "png(file=sprintf('variant.QC.%s.UpSetR.png', version), width=800, height=600, units=\"px\", family = \"Helvetica\")\n",
    "UpSetR::upset(\n",
    "    UpSetR::fromList(list(\n",
    "        'duplicated' = annot_QC_fail_df %>% \n",
    "        filter(! QC_duplicated) %>% pull(ID),\n",
    "\n",
    "        'missingness' = annot_QC_fail_df %>% \n",
    "        filter(! QC_sample_miss) %>% pull(ID),\n",
    "\n",
    "        'HWE p-value' = annot_QC_fail_df %>% \n",
    "        filter(! QC_WB_HWE_p) %>% pull(ID)\n",
    "    )),\n",
    "    mainbar.y.label = \"Number of removed variants\",\n",
    "    sets.x.label = \"# variants\", nsets = 20, nintersects = NA,\n",
    "    text.scale = 1.8, order.by = \"freq\", show.numbers = \"yes\"\n",
    ")\n",
    "dev.off()\n"
   ]
  },
  {
   "cell_type": "code",
   "execution_count": 28,
   "metadata": {},
   "outputs": [],
   "source": [
    "annot_df %>%\n",
    "replace_na(list(QC_duplicated=FALSE, QC_sample_miss=FALSE, QC_WB_HWE_p=FALSE)) %>%\n",
    "filter((QC_duplicated) & (QC_sample_miss) & (QC_WB_HWE_p)) %>%\n",
    "select(CHROM, POS, ID, REF, ALT) %>%\n",
    "rename('#CHROM' = 'CHROM') %>%\n",
    "fwrite(QC_pass_f, sep='\\t', na = \"NA\", quote=F)\n"
   ]
  },
  {
   "cell_type": "code",
   "execution_count": 29,
   "metadata": {},
   "outputs": [
    {
     "data": {
      "text/html": [
       "'/oak/stanford/groups/mrivas/ukbb24983/exome/qc/oqfe_2020/ukb24983_exomeOQFE.passQC.20201222.tsv'"
      ],
      "text/latex": [
       "'/oak/stanford/groups/mrivas/ukbb24983/exome/qc/oqfe\\_2020/ukb24983\\_exomeOQFE.passQC.20201222.tsv'"
      ],
      "text/markdown": [
       "'/oak/stanford/groups/mrivas/ukbb24983/exome/qc/oqfe_2020/ukb24983_exomeOQFE.passQC.20201222.tsv'"
      ],
      "text/plain": [
       "[1] \"/oak/stanford/groups/mrivas/ukbb24983/exome/qc/oqfe_2020/ukb24983_exomeOQFE.passQC.20201222.tsv\""
      ]
     },
     "metadata": {},
     "output_type": "display_data"
    }
   ],
   "source": [
    "QC_pass_f\n"
   ]
  },
  {
   "cell_type": "code",
   "execution_count": null,
   "metadata": {},
   "outputs": [],
   "source": []
  }
 ],
 "metadata": {
  "kernelspec": {
   "display_name": "R",
   "language": "R",
   "name": "ir"
  },
  "language_info": {
   "codemirror_mode": "r",
   "file_extension": ".r",
   "mimetype": "text/x-r-source",
   "name": "R",
   "pygments_lexer": "r",
   "version": "3.6.2"
  }
 },
 "nbformat": 4,
 "nbformat_minor": 4
}
