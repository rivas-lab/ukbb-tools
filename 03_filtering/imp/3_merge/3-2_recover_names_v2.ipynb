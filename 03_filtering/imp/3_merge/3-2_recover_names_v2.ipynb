{
 "cells": [
  {
   "cell_type": "code",
   "execution_count": 2,
   "metadata": {},
   "outputs": [
    {
     "name": "stderr",
     "output_type": "stream",
     "text": [
      "Warning message:\n",
      "“package ‘ggplot2’ was built under R version 3.6.2”Warning message:\n",
      "“package ‘tibble’ was built under R version 3.6.3”Warning message:\n",
      "“package ‘tidyr’ was built under R version 3.6.2”Warning message:\n",
      "“package ‘dplyr’ was built under R version 3.6.2”Warning message:\n",
      "“package ‘forcats’ was built under R version 3.6.2”"
     ]
    }
   ],
   "source": [
    "suppressPackageStartupMessages(require(tidyverse))\n",
    "suppressPackageStartupMessages(require(data.table))\n"
   ]
  },
  {
   "cell_type": "code",
   "execution_count": 1,
   "metadata": {},
   "outputs": [],
   "source": [
    "ukb_dir   <- '/oak/stanford/groups/mrivas/ukbb/24983'\n",
    "imp_dir   <- file.path(ukb_dir, 'imp/pgen/var_QC_noHWE')\n",
    "cal_ID_f  <- file.path(ukb_dir, 'cal/pgen/ukb24983_cal_cALL_v2_hg19.IDs.tsv')\n",
    "hla_ID_f  <- file.path(ukb_dir, 'hla/pgen/ukb_hla_v3.IDs.tsv')\n",
    "cnv_ID_f  <- file.path(ukb_dir, 'cnv/pgen/cnv.IDs.tsv')\n",
    "\n",
    "merged_dir <- file.path(ukb_dir, 'array_imp_combined/pgen_v2')\n"
   ]
  },
  {
   "cell_type": "markdown",
   "metadata": {},
   "source": [
    "#### Read the ID mapping file"
   ]
  },
  {
   "cell_type": "code",
   "execution_count": 4,
   "metadata": {},
   "outputs": [],
   "source": [
    "imp_ID_df <- bind_rows(lapply(c(1:22, 'X', 'XY'), function(c){fread(\n",
    "file.path(imp_dir, paste0('ukb24983_imp_chr', c, '_v3_QC_noHWE.IDs.tsv')),\n",
    "colClasses=c(CHROM=\"character\")\n",
    ")}))\n"
   ]
  },
  {
   "cell_type": "code",
   "execution_count": 5,
   "metadata": {},
   "outputs": [],
   "source": [
    "non_imp_ID_df <- bind_rows(lapply(c(cal_ID_f, hla_ID_f, cnv_ID_f), \n",
    "function(f){fread(f,colClasses=c(CHROM=\"character\")\n",
    ")}))\n"
   ]
  },
  {
   "cell_type": "code",
   "execution_count": 6,
   "metadata": {},
   "outputs": [],
   "source": [
    "ID_map <- bind_rows(imp_ID_df, non_imp_ID_df)\n"
   ]
  },
  {
   "cell_type": "markdown",
   "metadata": {},
   "source": [
    "#### Read the bim file from merge"
   ]
  },
  {
   "cell_type": "code",
   "execution_count": 7,
   "metadata": {},
   "outputs": [],
   "source": [
    "bim_short <- fread(file.path(merged_dir, 'ukb24983_ukb24983_cal_hla_cnv_imp.shortnames.bim'))\n",
    "names(bim_short) <- c('CHR', 'ID', 'CM', 'POS', 'ALT', 'REF')\n"
   ]
  },
  {
   "cell_type": "markdown",
   "metadata": {},
   "source": [
    "#### join"
   ]
  },
  {
   "cell_type": "code",
   "execution_count": 8,
   "metadata": {},
   "outputs": [],
   "source": [
    "df <- bim_short %>% mutate(sort_order = 1:n()) %>%\n",
    "inner_join(ID_map %>% select(ID, full_ID), by='ID')\n"
   ]
  },
  {
   "cell_type": "code",
   "execution_count": 9,
   "metadata": {},
   "outputs": [
    {
     "name": "stdout",
     "output_type": "stream",
     "text": [
      "[1] 7012330       6\n",
      "[1] 7012330       8\n"
     ]
    }
   ],
   "source": [
    "bim_short %>% dim() %>% print()\n",
    "df %>% dim() %>% print()\n"
   ]
  },
  {
   "cell_type": "code",
   "execution_count": 10,
   "metadata": {},
   "outputs": [],
   "source": [
    "df %>% arrange(sort_order) %>% \n",
    "select(CHR, full_ID, CM, POS, ALT, REF) %>%\n",
    "fwrite(\n",
    "    file.path(merged_dir, 'ukb24983_ukb24983_cal_hla_cnv_imp.bim'),\n",
    "    col.names=F, sep='\\t'\n",
    ")\n"
   ]
  },
  {
   "cell_type": "code",
   "execution_count": 11,
   "metadata": {},
   "outputs": [
    {
     "name": "stdout",
     "output_type": "stream",
     "text": [
      "[1] 181\n"
     ]
    }
   ],
   "source": [
    "df %>% select(full_ID) %>% \n",
    "mutate(ID_len = str_length(full_ID)) %>% select(ID_len) %>% max() %>% print()\n"
   ]
  },
  {
   "cell_type": "code",
   "execution_count": null,
   "metadata": {},
   "outputs": [],
   "source": []
  }
 ],
 "metadata": {
  "kernelspec": {
   "display_name": "R",
   "language": "R",
   "name": "ir"
  },
  "language_info": {
   "codemirror_mode": "r",
   "file_extension": ".r",
   "mimetype": "text/x-r-source",
   "name": "R",
   "pygments_lexer": "r",
   "version": "3.6.1"
  }
 },
 "nbformat": 4,
 "nbformat_minor": 4
}
