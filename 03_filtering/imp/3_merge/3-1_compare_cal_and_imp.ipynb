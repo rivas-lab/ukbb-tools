{
 "cells": [
  {
   "cell_type": "markdown",
   "metadata": {},
   "source": [
    "## compare `cal` and `imp`\n",
    "\n",
    "We compare the genotyping call from the array (`cal`, v2 on hg19) and the imputation dataset (`imp`, v3, MAF1% biallelic) and see the overlap between the two sets (based on coordinates).\n",
    "\n",
    "\n"
   ]
  },
  {
   "cell_type": "code",
   "execution_count": 1,
   "metadata": {},
   "outputs": [],
   "source": [
    "suppressPackageStartupMessages(require(tidyverse))\n",
    "suppressPackageStartupMessages(require(data.table))\n"
   ]
  },
  {
   "cell_type": "code",
   "execution_count": 2,
   "metadata": {},
   "outputs": [],
   "source": [
    "ukb_dir   <- '/oak/stanford/groups/mrivas/ukbb/24983'\n",
    "imp_dir   <- file.path(ukb_dir, 'imp/pgen/maf1')\n",
    "cal_pfile <- file.path(ukb_dir, 'cal/pgen/ukb24983_cal_cALL_v2_hg19')\n",
    "hla_pfile <- file.path(ukb_dir, 'hla/pgen/ukb_hla_v3')\n",
    "cnv_pfile <- file.path(ukb_dir, 'cnv/pgen/cnv')\n"
   ]
  },
  {
   "cell_type": "code",
   "execution_count": 3,
   "metadata": {},
   "outputs": [],
   "source": [
    "cal_df <- fread(paste0(cal_pfile, '.pvar')) %>% rename('CHROM' = '#CHROM')\n",
    "\n",
    "hla_df <- fread(paste0(hla_pfile, '.pvar')) %>% rename('CHROM' = '#CHROM')\n",
    "\n",
    "cnv_df <- fread(paste0(cnv_pfile, '.pvar')) %>% rename('CHROM' = '#CHROM')\n"
   ]
  },
  {
   "cell_type": "code",
   "execution_count": 4,
   "metadata": {},
   "outputs": [],
   "source": [
    "imp_df <- bind_rows(lapply(c(1:22, 'X', 'XY'), function(c){fread(\n",
    "cmd=paste0('zstdcat ', file.path(imp_dir, paste0('ukb24983_imp_chr', c, '_v3_maf1.pvar.zst')), \n",
    "' | sed -e \"s/#CHROM/CHROM/g\"'),\n",
    "colClasses=c(CHROM=\"character\")\n",
    ")}))\n"
   ]
  },
  {
   "cell_type": "code",
   "execution_count": 15,
   "metadata": {},
   "outputs": [],
   "source": [
    "merged_df <- imp_df %>% \n",
    "rename(\n",
    "    ID_imp = ID,\n",
    "    REF_imp = REF,\n",
    "    ALT_imp = ALT,\n",
    "    INFO_imp = INFO\n",
    ") %>%\n",
    "inner_join(\n",
    "    cal_df %>%\n",
    "    rename(\n",
    "        ID_cal = ID,\n",
    "        REF_cal = REF,\n",
    "        ALT_cal = ALT\n",
    "    ),\n",
    "    by=c('CHROM', 'POS')\n",
    ")\n"
   ]
  },
  {
   "cell_type": "code",
   "execution_count": 16,
   "metadata": {},
   "outputs": [
    {
     "name": "stdout",
     "output_type": "stream",
     "text": [
      "[1] 10231518        6\n",
      "[1] 805426      5\n",
      "[1] 673909      9\n"
     ]
    }
   ],
   "source": [
    "imp_df %>% dim() %>% print()\n",
    "cal_df %>% dim() %>% print()\n",
    "merged_df %>% dim()  %>% print()"
   ]
  },
  {
   "cell_type": "code",
   "execution_count": 19,
   "metadata": {},
   "outputs": [],
   "source": [
    "merged_df %>%\n",
    "fwrite(\n",
    "    file.path(imp_dir, 'ukb24983_cal_v2_hg19_imp_v3_maf1.join.tsv'),\n",
    "    sep='\\t'\n",
    ")"
   ]
  },
  {
   "cell_type": "code",
   "execution_count": 22,
   "metadata": {},
   "outputs": [
    {
     "data": {
      "text/html": [
       "<ol class=list-inline>\n",
       "\t<li>755</li>\n",
       "\t<li>9</li>\n",
       "</ol>\n"
      ],
      "text/latex": [
       "\\begin{enumerate*}\n",
       "\\item 755\n",
       "\\item 9\n",
       "\\end{enumerate*}\n"
      ],
      "text/markdown": [
       "1. 755\n",
       "2. 9\n",
       "\n",
       "\n"
      ],
      "text/plain": [
       "[1] 755   9"
      ]
     },
     "metadata": {},
     "output_type": "display_data"
    }
   ],
   "source": [
    "merged_df %>%\n",
    "filter(\n",
    "    REF_imp != REF_cal | ALT_imp != ALT_cal\n",
    ") %>% dim()"
   ]
  },
  {
   "cell_type": "code",
   "execution_count": 26,
   "metadata": {},
   "outputs": [
    {
     "data": {
      "text/html": [
       "<table>\n",
       "<caption>A tibble: 24 × 2</caption>\n",
       "<thead>\n",
       "\t<tr><th scope=col>CHROM</th><th scope=col>n</th></tr>\n",
       "\t<tr><th scope=col>&lt;chr&gt;</th><th scope=col>&lt;int&gt;</th></tr>\n",
       "</thead>\n",
       "<tbody>\n",
       "\t<tr><td>1 </td><td>51546</td></tr>\n",
       "\t<tr><td>10</td><td>32858</td></tr>\n",
       "\t<tr><td>11</td><td>32274</td></tr>\n",
       "\t<tr><td>12</td><td>31217</td></tr>\n",
       "\t<tr><td>13</td><td>22684</td></tr>\n",
       "\t<tr><td>14</td><td>21272</td></tr>\n",
       "\t<tr><td>15</td><td>20571</td></tr>\n",
       "\t<tr><td>16</td><td>23022</td></tr>\n",
       "\t<tr><td>17</td><td>21341</td></tr>\n",
       "\t<tr><td>18</td><td>19644</td></tr>\n",
       "\t<tr><td>19</td><td>18055</td></tr>\n",
       "\t<tr><td>2 </td><td>52644</td></tr>\n",
       "\t<tr><td>20</td><td>17084</td></tr>\n",
       "\t<tr><td>21</td><td> 9840</td></tr>\n",
       "\t<tr><td>22</td><td>10520</td></tr>\n",
       "\t<tr><td>3 </td><td>44130</td></tr>\n",
       "\t<tr><td>4 </td><td>42011</td></tr>\n",
       "\t<tr><td>5 </td><td>39826</td></tr>\n",
       "\t<tr><td>6 </td><td>46423</td></tr>\n",
       "\t<tr><td>7 </td><td>36162</td></tr>\n",
       "\t<tr><td>8 </td><td>34035</td></tr>\n",
       "\t<tr><td>9 </td><td>28939</td></tr>\n",
       "\t<tr><td>X </td><td>16560</td></tr>\n",
       "\t<tr><td>XY</td><td> 1251</td></tr>\n",
       "</tbody>\n",
       "</table>\n"
      ],
      "text/latex": [
       "A tibble: 24 × 2\n",
       "\\begin{tabular}{r|ll}\n",
       " CHROM & n\\\\\n",
       " <chr> & <int>\\\\\n",
       "\\hline\n",
       "\t 1  & 51546\\\\\n",
       "\t 10 & 32858\\\\\n",
       "\t 11 & 32274\\\\\n",
       "\t 12 & 31217\\\\\n",
       "\t 13 & 22684\\\\\n",
       "\t 14 & 21272\\\\\n",
       "\t 15 & 20571\\\\\n",
       "\t 16 & 23022\\\\\n",
       "\t 17 & 21341\\\\\n",
       "\t 18 & 19644\\\\\n",
       "\t 19 & 18055\\\\\n",
       "\t 2  & 52644\\\\\n",
       "\t 20 & 17084\\\\\n",
       "\t 21 &  9840\\\\\n",
       "\t 22 & 10520\\\\\n",
       "\t 3  & 44130\\\\\n",
       "\t 4  & 42011\\\\\n",
       "\t 5  & 39826\\\\\n",
       "\t 6  & 46423\\\\\n",
       "\t 7  & 36162\\\\\n",
       "\t 8  & 34035\\\\\n",
       "\t 9  & 28939\\\\\n",
       "\t X  & 16560\\\\\n",
       "\t XY &  1251\\\\\n",
       "\\end{tabular}\n"
      ],
      "text/markdown": [
       "\n",
       "A tibble: 24 × 2\n",
       "\n",
       "| CHROM &lt;chr&gt; | n &lt;int&gt; |\n",
       "|---|---|\n",
       "| 1  | 51546 |\n",
       "| 10 | 32858 |\n",
       "| 11 | 32274 |\n",
       "| 12 | 31217 |\n",
       "| 13 | 22684 |\n",
       "| 14 | 21272 |\n",
       "| 15 | 20571 |\n",
       "| 16 | 23022 |\n",
       "| 17 | 21341 |\n",
       "| 18 | 19644 |\n",
       "| 19 | 18055 |\n",
       "| 2  | 52644 |\n",
       "| 20 | 17084 |\n",
       "| 21 |  9840 |\n",
       "| 22 | 10520 |\n",
       "| 3  | 44130 |\n",
       "| 4  | 42011 |\n",
       "| 5  | 39826 |\n",
       "| 6  | 46423 |\n",
       "| 7  | 36162 |\n",
       "| 8  | 34035 |\n",
       "| 9  | 28939 |\n",
       "| X  | 16560 |\n",
       "| XY |  1251 |\n",
       "\n"
      ],
      "text/plain": [
       "   CHROM n    \n",
       "1  1     51546\n",
       "2  10    32858\n",
       "3  11    32274\n",
       "4  12    31217\n",
       "5  13    22684\n",
       "6  14    21272\n",
       "7  15    20571\n",
       "8  16    23022\n",
       "9  17    21341\n",
       "10 18    19644\n",
       "11 19    18055\n",
       "12 2     52644\n",
       "13 20    17084\n",
       "14 21     9840\n",
       "15 22    10520\n",
       "16 3     44130\n",
       "17 4     42011\n",
       "18 5     39826\n",
       "19 6     46423\n",
       "20 7     36162\n",
       "21 8     34035\n",
       "22 9     28939\n",
       "23 X     16560\n",
       "24 XY     1251"
      ]
     },
     "metadata": {},
     "output_type": "display_data"
    }
   ],
   "source": [
    "merged_df %>%\n",
    "count(CHROM)"
   ]
  },
  {
   "cell_type": "code",
   "execution_count": null,
   "metadata": {},
   "outputs": [],
   "source": []
  }
 ],
 "metadata": {
  "kernelspec": {
   "display_name": "R",
   "language": "R",
   "name": "ir"
  },
  "language_info": {
   "name": ""
  }
 },
 "nbformat": 4,
 "nbformat_minor": 4
}
