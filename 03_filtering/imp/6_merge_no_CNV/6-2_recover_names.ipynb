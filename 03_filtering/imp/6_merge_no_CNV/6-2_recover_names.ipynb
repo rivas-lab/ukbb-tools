{
 "cells": [
  {
   "cell_type": "code",
   "execution_count": 1,
   "metadata": {},
   "outputs": [],
   "source": [
    "suppressWarnings(suppressPackageStartupMessages({\n",
    "    library(tidyverse)\n",
    "    library(data.table)\n",
    "}))\n"
   ]
  },
  {
   "cell_type": "code",
   "execution_count": 2,
   "metadata": {},
   "outputs": [],
   "source": [
    "merge_lst_f <- 'merge.lst.v2.imp.wo.HWE.filter.tsv'\n",
    "merged_bfile <- '/scratch/groups/mrivas/ukbb24983/array_imp_combined_no_cnv/pgen_v2/ukb24983_cal_hla_imp'\n"
   ]
  },
  {
   "cell_type": "markdown",
   "metadata": {},
   "source": [
    "#### Read the ID mapping file"
   ]
  },
  {
   "cell_type": "code",
   "execution_count": 3,
   "metadata": {},
   "outputs": [],
   "source": [
    "merge_lst_f %>% fread(head=F) %>% rename('pvar' = 1, 'ID_prefix' = 2) %>%\n",
    "mutate(ID_map_f = str_replace(str_replace(pvar, '.zst$', ''), '.pvar$', '.IDs.tsv')) -> merge_lst_df\n"
   ]
  },
  {
   "cell_type": "code",
   "execution_count": 8,
   "metadata": {},
   "outputs": [],
   "source": [
    "merge_lst_df %>% pull(ID_map_f) %>%\n",
    "lapply(function(ID_map_f){\n",
    "    fread(ID_map_f, colClasses=c(CHROM=\"character\"))\n",
    "}) %>% bind_rows() -> ID_map\n"
   ]
  },
  {
   "cell_type": "markdown",
   "metadata": {},
   "source": [
    "#### Read the bim file from merge"
   ]
  },
  {
   "cell_type": "code",
   "execution_count": 7,
   "metadata": {},
   "outputs": [],
   "source": [
    "bim_short <- fread(sprintf('%s.shortnames.bim', merged_bfile), head=F) %>%\n",
    "rename('CHR' = 1, 'ID' = 2, 'CM' = 3, 'POS' = 4, 'ALT' = 5, 'REF' = 6)\n"
   ]
  },
  {
   "cell_type": "markdown",
   "metadata": {},
   "source": [
    "#### join"
   ]
  },
  {
   "cell_type": "code",
   "execution_count": 11,
   "metadata": {},
   "outputs": [],
   "source": [
    "df <- bim_short %>% mutate(sort_order = 1:n()) %>%\n",
    "inner_join(ID_map %>% select(ID, full_ID), by='ID')\n"
   ]
  },
  {
   "cell_type": "code",
   "execution_count": 12,
   "metadata": {},
   "outputs": [
    {
     "name": "stdout",
     "output_type": "stream",
     "text": [
      "[1] 6737150       6\n",
      "[1] 6737150       8\n"
     ]
    }
   ],
   "source": [
    "bim_short %>% dim() %>% print()\n",
    "df %>% dim() %>% print()\n"
   ]
  },
  {
   "cell_type": "markdown",
   "metadata": {},
   "source": [
    "#### write the results to `bim` file"
   ]
  },
  {
   "cell_type": "code",
   "execution_count": 13,
   "metadata": {},
   "outputs": [],
   "source": [
    "df %>% arrange(sort_order) %>% \n",
    "select(CHR, full_ID, CM, POS, ALT, REF) %>%\n",
    "fwrite(sprintf('%s.bim', merged_bfile), col.names=F, sep='\\t')\n"
   ]
  },
  {
   "cell_type": "markdown",
   "metadata": {},
   "source": [
    "#### check the length of the longest ID"
   ]
  },
  {
   "cell_type": "code",
   "execution_count": 14,
   "metadata": {},
   "outputs": [
    {
     "name": "stdout",
     "output_type": "stream",
     "text": [
      "[1] 181\n"
     ]
    }
   ],
   "source": [
    "df %>% select(full_ID) %>% \n",
    "mutate(ID_len = str_length(full_ID)) %>% select(ID_len) %>% max() %>% print()\n"
   ]
  },
  {
   "cell_type": "code",
   "execution_count": 16,
   "metadata": {},
   "outputs": [
    {
     "name": "stdout",
     "output_type": "stream",
     "text": [
      "[1] 10\n"
     ]
    }
   ],
   "source": [
    "df %>% select(ID) %>% \n",
    "mutate(ID_len = str_length(ID)) %>% select(ID_len) %>% max() %>% print()\n"
   ]
  },
  {
   "cell_type": "code",
   "execution_count": null,
   "metadata": {},
   "outputs": [],
   "source": []
  }
 ],
 "metadata": {
  "kernelspec": {
   "display_name": "R",
   "language": "R",
   "name": "ir"
  },
  "language_info": {
   "codemirror_mode": "r",
   "file_extension": ".r",
   "mimetype": "text/x-r-source",
   "name": "R",
   "pygments_lexer": "r",
   "version": "3.6.2"
  }
 },
 "nbformat": 4,
 "nbformat_minor": 4
}
