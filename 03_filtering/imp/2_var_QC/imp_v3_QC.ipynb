{
 "cells": [
  {
   "cell_type": "code",
   "execution_count": 1,
   "metadata": {},
   "outputs": [],
   "source": [
    "suppressPackageStartupMessages(require(tidyverse))\n",
    "suppressPackageStartupMessages(require(data.table))\n"
   ]
  },
  {
   "cell_type": "markdown",
   "metadata": {},
   "source": [
    "## Imputation v3 dataset variant QC\n",
    "#### Yosuke Tanigawa (ytanigaw@stanford.edu)\n",
    "#### 2019/10/14\n",
    "\n",
    "This notebook describes variant QC for the imputation dataset\n",
    "\n",
    "```\n",
    "97,059,329 Variants on the imputation dataset\n",
    " | \n",
    " | MAF >= 0.01\n",
    " | Imputation quality >= 0.7\n",
    " |  \n",
    " | where, MAF and Imputation quality is obtained from UKB data showcase\n",
    " | (http://biobank.ctsu.ox.ac.uk/crystal/refer.cgi?id=1967)\n",
    " | \n",
    " | Note, MAF is computed for the entire 500k (by UKB)\n",
    " | \n",
    "10,061,256\n",
    " | \n",
    " | Biallelic only\n",
    " |\n",
    "10,028,119\n",
    " |\n",
    " | The variant position is not present on genotyping array dataset\n",
    " |\n",
    " 9,354,600\n",
    "```\n"
   ]
  },
  {
   "cell_type": "code",
   "execution_count": 2,
   "metadata": {},
   "outputs": [],
   "source": [
    "ukb_dir   <- '/oak/stanford/groups/mrivas/ukbb/24983'\n",
    "\n",
    "cal_pfile <- file.path(ukb_dir, 'cal/pgen/ukb24983_cal_cALL_v2_hg19')\n",
    "cal_df <- fread(paste0(cal_pfile, '.pvar')) %>% rename('CHROM' = '#CHROM')\n"
   ]
  },
  {
   "cell_type": "code",
   "execution_count": 3,
   "metadata": {},
   "outputs": [],
   "source": [
    "imp_mfi_file   <- file.path(ukb_dir, 'imp', 'mfi', 'ukb_mfi_v3.tsv.zst')\n",
    "imp_df <- fread(cmd=paste0(\n",
    "    'zstdcat ', imp_mfi_file, \n",
    "    \" | awk -v FS='\\t' '(NR>1 && $NF>=0.7 && 0.01 <= $4 && $4 <= 0.99)'\"\n",
    "))\n",
    "\n",
    "colnames(imp_df) <- c('ID', 'UKB_VAR_ID', 'ORIGINAL_VAR_ID', 'AF_A1', 'INFO')\n"
   ]
  },
  {
   "cell_type": "code",
   "execution_count": 8,
   "metadata": {},
   "outputs": [
    {
     "data": {
      "text/html": [
       "<ol class=list-inline>\n",
       "\t<li>10061256</li>\n",
       "\t<li>5</li>\n",
       "</ol>\n"
      ],
      "text/latex": [
       "\\begin{enumerate*}\n",
       "\\item 10061256\n",
       "\\item 5\n",
       "\\end{enumerate*}\n"
      ],
      "text/markdown": [
       "1. 10061256\n",
       "2. 5\n",
       "\n",
       "\n"
      ],
      "text/plain": [
       "[1] 10061256        5"
      ]
     },
     "metadata": {},
     "output_type": "display_data"
    }
   ],
   "source": [
    "imp_df %>% dim()"
   ]
  },
  {
   "cell_type": "code",
   "execution_count": 55,
   "metadata": {},
   "outputs": [],
   "source": [
    "multi_allelic_pos <- imp_df %>% \n",
    "separate(ID, c(\"CHROM\", \"POS\", \"REF\", \"ALT\"), sep=':', remove = F) %>%\n",
    "count(CHROM, POS) %>% filter(n > 1) %>%\n",
    "mutate(CHR_POS=paste(CHROM, POS, sep=':')) %>%\n",
    "select(CHR_POS) %>% pull()\n"
   ]
  },
  {
   "cell_type": "code",
   "execution_count": 57,
   "metadata": {},
   "outputs": [
    {
     "data": {
      "text/html": [
       "16399"
      ],
      "text/latex": [
       "16399"
      ],
      "text/markdown": [
       "16399"
      ],
      "text/plain": [
       "[1] 16399"
      ]
     },
     "metadata": {},
     "output_type": "display_data"
    }
   ],
   "source": [
    "length(multi_allelic_pos)\n"
   ]
  },
  {
   "cell_type": "code",
   "execution_count": 56,
   "metadata": {},
   "outputs": [],
   "source": [
    "imp_biallelic_df <- imp_df %>%\n",
    "separate(ID, c(\"CHROM\", \"POS\", \"REF\", \"ALT\"), sep=':', remove = F) %>%\n",
    "mutate(CHR_POS=paste(CHROM, POS, sep=':')) %>%\n",
    "filter(! CHR_POS %in% multi_allelic_pos)\n"
   ]
  },
  {
   "cell_type": "code",
   "execution_count": 58,
   "metadata": {},
   "outputs": [
    {
     "data": {
      "text/html": [
       "<ol class=list-inline>\n",
       "\t<li>10028119</li>\n",
       "\t<li>10</li>\n",
       "</ol>\n"
      ],
      "text/latex": [
       "\\begin{enumerate*}\n",
       "\\item 10028119\n",
       "\\item 10\n",
       "\\end{enumerate*}\n"
      ],
      "text/markdown": [
       "1. 10028119\n",
       "2. 10\n",
       "\n",
       "\n"
      ],
      "text/plain": [
       "[1] 10028119       10"
      ]
     },
     "metadata": {},
     "output_type": "display_data"
    }
   ],
   "source": [
    "imp_biallelic_df %>% dim()\n"
   ]
  },
  {
   "cell_type": "code",
   "execution_count": 59,
   "metadata": {},
   "outputs": [],
   "source": [
    "cal_pos <- cal_df %>%\n",
    "mutate(CHR_POS = paste(CHROM, POS, sep=':')) %>%\n",
    "select(CHR_POS) %>% pull()\n"
   ]
  },
  {
   "cell_type": "code",
   "execution_count": 60,
   "metadata": {},
   "outputs": [
    {
     "data": {
      "text/html": [
       "805426"
      ],
      "text/latex": [
       "805426"
      ],
      "text/markdown": [
       "805426"
      ],
      "text/plain": [
       "[1] 805426"
      ]
     },
     "metadata": {},
     "output_type": "display_data"
    }
   ],
   "source": [
    "length(cal_pos)\n"
   ]
  },
  {
   "cell_type": "code",
   "execution_count": 61,
   "metadata": {},
   "outputs": [],
   "source": [
    "imp_biallelic_non_cal_df <- imp_biallelic_df %>%\n",
    "filter(! CHR_POS %in%  cal_pos)\n"
   ]
  },
  {
   "cell_type": "code",
   "execution_count": 62,
   "metadata": {},
   "outputs": [
    {
     "data": {
      "text/html": [
       "<ol class=list-inline>\n",
       "\t<li>9354600</li>\n",
       "\t<li>10</li>\n",
       "</ol>\n"
      ],
      "text/latex": [
       "\\begin{enumerate*}\n",
       "\\item 9354600\n",
       "\\item 10\n",
       "\\end{enumerate*}\n"
      ],
      "text/markdown": [
       "1. 9354600\n",
       "2. 10\n",
       "\n",
       "\n"
      ],
      "text/plain": [
       "[1] 9354600      10"
      ]
     },
     "metadata": {},
     "output_type": "display_data"
    }
   ],
   "source": [
    "imp_biallelic_non_cal_df %>% dim()\n"
   ]
  },
  {
   "cell_type": "code",
   "execution_count": 63,
   "metadata": {},
   "outputs": [],
   "source": [
    "imp_biallelic_non_cal_df %>% \n",
    "select(imp_df %>% colnames()) %>%\n",
    "fwrite(\n",
    "    file.path(ukb_dir, 'imp', 'mfi', 'ukb_mfi_v3.info.maf.biallelic.noncal.tsv'),\n",
    "    sep='\\t'\n",
    ")\n"
   ]
  },
  {
   "cell_type": "code",
   "execution_count": null,
   "metadata": {},
   "outputs": [],
   "source": []
  }
 ],
 "metadata": {
  "kernelspec": {
   "display_name": "R",
   "language": "R",
   "name": "ir"
  },
  "language_info": {
   "codemirror_mode": "r",
   "file_extension": ".r",
   "mimetype": "text/x-r-source",
   "name": "R",
   "pygments_lexer": "r",
   "version": "3.5.1"
  }
 },
 "nbformat": 4,
 "nbformat_minor": 4
}
