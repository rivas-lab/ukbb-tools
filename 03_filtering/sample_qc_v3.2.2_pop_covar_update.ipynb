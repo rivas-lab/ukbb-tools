{
 "cells": [
  {
   "cell_type": "code",
   "execution_count": 1,
   "metadata": {},
   "outputs": [],
   "source": [
    "suppressWarnings(suppressPackageStartupMessages({\n",
    "    library(tidyverse)\n",
    "    library(data.table)\n",
    "}))\n"
   ]
  },
  {
   "cell_type": "code",
   "execution_count": 43,
   "metadata": {},
   "outputs": [],
   "source": [
    "# input & output\n",
    "\n",
    "sqc_d <- '/oak/stanford/groups/mrivas/ukbb24983/sqc'\n",
    "dir_n <- 'population_stratification_w24983_%s'\n",
    "sqc_f <- 'ukb24983_master_sqc.%s.phe'\n",
    "covar <- 'ukb24983_GWAS_covar.%s.phe'\n",
    "\n",
    "master_phe_f <- '/oak/stanford/groups/mrivas/ukbb24983/phenotypedata/master_phe/master.%s.phe'\n",
    "\n",
    "old_v <- '20200313'\n",
    "master_v <- '20200517'\n",
    "new_v <- '20200522'\n"
   ]
  },
  {
   "cell_type": "code",
   "execution_count": 12,
   "metadata": {},
   "outputs": [],
   "source": [
    "source('sample_qc_functions.R')\n"
   ]
  },
  {
   "cell_type": "code",
   "execution_count": 15,
   "metadata": {},
   "outputs": [],
   "source": [
    "eigenvec_df <- read_eigenvec(file.path(sqc_d, sprintf(dir_n, new_v), 'pca'), c('white_british', 'others'))\n"
   ]
  },
  {
   "cell_type": "code",
   "execution_count": 16,
   "metadata": {},
   "outputs": [
    {
     "data": {
      "text/html": [
       "<style>\n",
       ".list-inline {list-style: none; margin:0; padding: 0}\n",
       ".list-inline>li {display: inline-block}\n",
       ".list-inline>li:not(:last-child)::after {content: \"\\00b7\"; padding: 0 .5ex}\n",
       "</style>\n",
       "<ol class=list-inline><li>'FID'</li><li>'IID'</li><li>'PC1'</li><li>'PC2'</li><li>'PC3'</li><li>'PC4'</li><li>'PC5'</li><li>'PC6'</li><li>'PC7'</li><li>'PC8'</li><li>'PC9'</li><li>'PC10'</li><li>'PC11'</li><li>'PC12'</li><li>'PC13'</li><li>'PC14'</li><li>'PC15'</li><li>'PC16'</li><li>'PC17'</li><li>'PC18'</li><li>'PC19'</li><li>'PC20'</li><li>'PC21'</li><li>'PC22'</li><li>'PC23'</li><li>'PC24'</li><li>'PC25'</li><li>'PC26'</li><li>'PC27'</li><li>'PC28'</li><li>'PC29'</li><li>'PC30'</li><li>'PC31'</li><li>'PC32'</li><li>'PC33'</li><li>'PC34'</li><li>'PC35'</li><li>'PC36'</li><li>'PC37'</li><li>'PC38'</li><li>'PC39'</li><li>'PC40'</li><li>'population'</li></ol>\n"
      ],
      "text/latex": [
       "\\begin{enumerate*}\n",
       "\\item 'FID'\n",
       "\\item 'IID'\n",
       "\\item 'PC1'\n",
       "\\item 'PC2'\n",
       "\\item 'PC3'\n",
       "\\item 'PC4'\n",
       "\\item 'PC5'\n",
       "\\item 'PC6'\n",
       "\\item 'PC7'\n",
       "\\item 'PC8'\n",
       "\\item 'PC9'\n",
       "\\item 'PC10'\n",
       "\\item 'PC11'\n",
       "\\item 'PC12'\n",
       "\\item 'PC13'\n",
       "\\item 'PC14'\n",
       "\\item 'PC15'\n",
       "\\item 'PC16'\n",
       "\\item 'PC17'\n",
       "\\item 'PC18'\n",
       "\\item 'PC19'\n",
       "\\item 'PC20'\n",
       "\\item 'PC21'\n",
       "\\item 'PC22'\n",
       "\\item 'PC23'\n",
       "\\item 'PC24'\n",
       "\\item 'PC25'\n",
       "\\item 'PC26'\n",
       "\\item 'PC27'\n",
       "\\item 'PC28'\n",
       "\\item 'PC29'\n",
       "\\item 'PC30'\n",
       "\\item 'PC31'\n",
       "\\item 'PC32'\n",
       "\\item 'PC33'\n",
       "\\item 'PC34'\n",
       "\\item 'PC35'\n",
       "\\item 'PC36'\n",
       "\\item 'PC37'\n",
       "\\item 'PC38'\n",
       "\\item 'PC39'\n",
       "\\item 'PC40'\n",
       "\\item 'population'\n",
       "\\end{enumerate*}\n"
      ],
      "text/markdown": [
       "1. 'FID'\n",
       "2. 'IID'\n",
       "3. 'PC1'\n",
       "4. 'PC2'\n",
       "5. 'PC3'\n",
       "6. 'PC4'\n",
       "7. 'PC5'\n",
       "8. 'PC6'\n",
       "9. 'PC7'\n",
       "10. 'PC8'\n",
       "11. 'PC9'\n",
       "12. 'PC10'\n",
       "13. 'PC11'\n",
       "14. 'PC12'\n",
       "15. 'PC13'\n",
       "16. 'PC14'\n",
       "17. 'PC15'\n",
       "18. 'PC16'\n",
       "19. 'PC17'\n",
       "20. 'PC18'\n",
       "21. 'PC19'\n",
       "22. 'PC20'\n",
       "23. 'PC21'\n",
       "24. 'PC22'\n",
       "25. 'PC23'\n",
       "26. 'PC24'\n",
       "27. 'PC25'\n",
       "28. 'PC26'\n",
       "29. 'PC27'\n",
       "30. 'PC28'\n",
       "31. 'PC29'\n",
       "32. 'PC30'\n",
       "33. 'PC31'\n",
       "34. 'PC32'\n",
       "35. 'PC33'\n",
       "36. 'PC34'\n",
       "37. 'PC35'\n",
       "38. 'PC36'\n",
       "39. 'PC37'\n",
       "40. 'PC38'\n",
       "41. 'PC39'\n",
       "42. 'PC40'\n",
       "43. 'population'\n",
       "\n",
       "\n"
      ],
      "text/plain": [
       " [1] \"FID\"        \"IID\"        \"PC1\"        \"PC2\"        \"PC3\"       \n",
       " [6] \"PC4\"        \"PC5\"        \"PC6\"        \"PC7\"        \"PC8\"       \n",
       "[11] \"PC9\"        \"PC10\"       \"PC11\"       \"PC12\"       \"PC13\"      \n",
       "[16] \"PC14\"       \"PC15\"       \"PC16\"       \"PC17\"       \"PC18\"      \n",
       "[21] \"PC19\"       \"PC20\"       \"PC21\"       \"PC22\"       \"PC23\"      \n",
       "[26] \"PC24\"       \"PC25\"       \"PC26\"       \"PC27\"       \"PC28\"      \n",
       "[31] \"PC29\"       \"PC30\"       \"PC31\"       \"PC32\"       \"PC33\"      \n",
       "[36] \"PC34\"       \"PC35\"       \"PC36\"       \"PC37\"       \"PC38\"      \n",
       "[41] \"PC39\"       \"PC40\"       \"population\""
      ]
     },
     "metadata": {},
     "output_type": "display_data"
    }
   ],
   "source": [
    "eigenvec_df %>% colnames()\n"
   ]
  },
  {
   "cell_type": "code",
   "execution_count": 17,
   "metadata": {},
   "outputs": [
    {
     "data": {
      "text/html": [
       "<table>\n",
       "<caption>A tibble: 2 × 2</caption>\n",
       "<thead>\n",
       "\t<tr><th scope=col>population</th><th scope=col>n</th></tr>\n",
       "\t<tr><th scope=col>&lt;chr&gt;</th><th scope=col>&lt;int&gt;</th></tr>\n",
       "</thead>\n",
       "<tbody>\n",
       "\t<tr><td>others       </td><td> 28551</td></tr>\n",
       "\t<tr><td>white_british</td><td>337138</td></tr>\n",
       "</tbody>\n",
       "</table>\n"
      ],
      "text/latex": [
       "A tibble: 2 × 2\n",
       "\\begin{tabular}{ll}\n",
       " population & n\\\\\n",
       " <chr> & <int>\\\\\n",
       "\\hline\n",
       "\t others        &  28551\\\\\n",
       "\t white\\_british & 337138\\\\\n",
       "\\end{tabular}\n"
      ],
      "text/markdown": [
       "\n",
       "A tibble: 2 × 2\n",
       "\n",
       "| population &lt;chr&gt; | n &lt;int&gt; |\n",
       "|---|---|\n",
       "| others        |  28551 |\n",
       "| white_british | 337138 |\n",
       "\n"
      ],
      "text/plain": [
       "  population    n     \n",
       "1 others         28551\n",
       "2 white_british 337138"
      ]
     },
     "metadata": {},
     "output_type": "display_data"
    }
   ],
   "source": [
    "eigenvec_df %>% count(population)\n"
   ]
  },
  {
   "cell_type": "code",
   "execution_count": 22,
   "metadata": {},
   "outputs": [],
   "source": [
    "sqc_df <- fread(file.path(sqc_d, sprintf(dir_n, old_v), sprintf(sqc_f, old_v)))\n"
   ]
  },
  {
   "cell_type": "code",
   "execution_count": 23,
   "metadata": {},
   "outputs": [
    {
     "data": {
      "text/html": [
       "<table>\n",
       "<caption>A tibble: 8 × 2</caption>\n",
       "<thead>\n",
       "\t<tr><th scope=col>population</th><th scope=col>n</th></tr>\n",
       "\t<tr><th scope=col>&lt;chr&gt;</th><th scope=col>&lt;int&gt;</th></tr>\n",
       "</thead>\n",
       "<tbody>\n",
       "\t<tr><td>african          </td><td>  6497</td></tr>\n",
       "\t<tr><td>e_asian          </td><td>  1154</td></tr>\n",
       "\t<tr><td>e_asian_outlier  </td><td>   618</td></tr>\n",
       "\t<tr><td>non_british_white</td><td> 24905</td></tr>\n",
       "\t<tr><td>s_asian          </td><td>  7885</td></tr>\n",
       "\t<tr><td>s_asian_outlier  </td><td>    77</td></tr>\n",
       "\t<tr><td>white_british    </td><td>337138</td></tr>\n",
       "\t<tr><td>NA               </td><td>110103</td></tr>\n",
       "</tbody>\n",
       "</table>\n"
      ],
      "text/latex": [
       "A tibble: 8 × 2\n",
       "\\begin{tabular}{ll}\n",
       " population & n\\\\\n",
       " <chr> & <int>\\\\\n",
       "\\hline\n",
       "\t african           &   6497\\\\\n",
       "\t e\\_asian           &   1154\\\\\n",
       "\t e\\_asian\\_outlier   &    618\\\\\n",
       "\t non\\_british\\_white &  24905\\\\\n",
       "\t s\\_asian           &   7885\\\\\n",
       "\t s\\_asian\\_outlier   &     77\\\\\n",
       "\t white\\_british     & 337138\\\\\n",
       "\t NA                & 110103\\\\\n",
       "\\end{tabular}\n"
      ],
      "text/markdown": [
       "\n",
       "A tibble: 8 × 2\n",
       "\n",
       "| population &lt;chr&gt; | n &lt;int&gt; |\n",
       "|---|---|\n",
       "| african           |   6497 |\n",
       "| e_asian           |   1154 |\n",
       "| e_asian_outlier   |    618 |\n",
       "| non_british_white |  24905 |\n",
       "| s_asian           |   7885 |\n",
       "| s_asian_outlier   |     77 |\n",
       "| white_british     | 337138 |\n",
       "| NA                | 110103 |\n",
       "\n"
      ],
      "text/plain": [
       "  population        n     \n",
       "1 african             6497\n",
       "2 e_asian             1154\n",
       "3 e_asian_outlier      618\n",
       "4 non_british_white  24905\n",
       "5 s_asian             7885\n",
       "6 s_asian_outlier       77\n",
       "7 white_british     337138\n",
       "8 NA                110103"
      ]
     },
     "metadata": {},
     "output_type": "display_data"
    }
   ],
   "source": [
    "sqc_df %>% count(population)"
   ]
  },
  {
   "cell_type": "markdown",
   "metadata": {},
   "source": [
    "## replace the (local) PCs in WB and \"others\" with the new ones"
   ]
  },
  {
   "cell_type": "code",
   "execution_count": 31,
   "metadata": {},
   "outputs": [],
   "source": [
    "sqc_unchanged <- sqc_df %>%\n",
    "mutate(sort_order = 1:n()) %>%\n",
    "filter(\n",
    "    ! FID %in% (eigenvec_df %>% pull(FID)),\n",
    "    ! IID %in% (eigenvec_df %>% pull(IID))\n",
    ")\n"
   ]
  },
  {
   "cell_type": "code",
   "execution_count": 32,
   "metadata": {},
   "outputs": [
    {
     "data": {
      "text/html": [
       "<style>\n",
       ".list-inline {list-style: none; margin:0; padding: 0}\n",
       ".list-inline>li {display: inline-block}\n",
       ".list-inline>li:not(:last-child)::after {content: \"\\00b7\"; padding: 0 .5ex}\n",
       "</style>\n",
       "<ol class=list-inline><li>122688</li><li>146</li></ol>\n"
      ],
      "text/latex": [
       "\\begin{enumerate*}\n",
       "\\item 122688\n",
       "\\item 146\n",
       "\\end{enumerate*}\n"
      ],
      "text/markdown": [
       "1. 122688\n",
       "2. 146\n",
       "\n",
       "\n"
      ],
      "text/plain": [
       "[1] 122688    146"
      ]
     },
     "metadata": {},
     "output_type": "display_data"
    }
   ],
   "source": [
    "sqc_unchanged %>% dim()"
   ]
  },
  {
   "cell_type": "code",
   "execution_count": 33,
   "metadata": {},
   "outputs": [],
   "source": [
    "sqc_updated <- sqc_df %>%\n",
    "mutate(sort_order = 1:n()) %>%\n",
    "select(-all_of(paste0('PC', 1:40)), -population) %>%\n",
    "inner_join(\n",
    "    eigenvec_df, by=c('FID', 'IID')\n",
    ")\n"
   ]
  },
  {
   "cell_type": "code",
   "execution_count": 34,
   "metadata": {},
   "outputs": [
    {
     "data": {
      "text/html": [
       "<style>\n",
       ".list-inline {list-style: none; margin:0; padding: 0}\n",
       ".list-inline>li {display: inline-block}\n",
       ".list-inline>li:not(:last-child)::after {content: \"\\00b7\"; padding: 0 .5ex}\n",
       "</style>\n",
       "<ol class=list-inline><li>365689</li><li>146</li></ol>\n"
      ],
      "text/latex": [
       "\\begin{enumerate*}\n",
       "\\item 365689\n",
       "\\item 146\n",
       "\\end{enumerate*}\n"
      ],
      "text/markdown": [
       "1. 365689\n",
       "2. 146\n",
       "\n",
       "\n"
      ],
      "text/plain": [
       "[1] 365689    146"
      ]
     },
     "metadata": {},
     "output_type": "display_data"
    }
   ],
   "source": [
    "sqc_updated %>% dim()\n"
   ]
  },
  {
   "cell_type": "code",
   "execution_count": 36,
   "metadata": {},
   "outputs": [],
   "source": [
    "sqc_new <- bind_rows(sqc_updated, sqc_unchanged) %>%\n",
    "arrange(sort_order) %>%\n",
    "select(-sort_order) %>%\n",
    "select(all_of(colnames(sqc_df)))\n"
   ]
  },
  {
   "cell_type": "code",
   "execution_count": 37,
   "metadata": {},
   "outputs": [
    {
     "data": {
      "text/html": [
       "<style>\n",
       ".list-inline {list-style: none; margin:0; padding: 0}\n",
       ".list-inline>li {display: inline-block}\n",
       ".list-inline>li:not(:last-child)::after {content: \"\\00b7\"; padding: 0 .5ex}\n",
       "</style>\n",
       "<ol class=list-inline><li>488377</li><li>145</li></ol>\n"
      ],
      "text/latex": [
       "\\begin{enumerate*}\n",
       "\\item 488377\n",
       "\\item 145\n",
       "\\end{enumerate*}\n"
      ],
      "text/markdown": [
       "1. 488377\n",
       "2. 145\n",
       "\n",
       "\n"
      ],
      "text/plain": [
       "[1] 488377    145"
      ]
     },
     "metadata": {},
     "output_type": "display_data"
    }
   ],
   "source": [
    "sqc_new %>% dim()\n"
   ]
  },
  {
   "cell_type": "markdown",
   "metadata": {},
   "source": [
    "## write the new sqc file and GWAS covar file"
   ]
  },
  {
   "cell_type": "code",
   "execution_count": 38,
   "metadata": {},
   "outputs": [],
   "source": [
    "sqc_df %>%\n",
    "rename('#FID' = 'FID') %>%\n",
    "fwrite(file.path(sqc_d, sprintf(dir_n, new_v), sprintf(sqc_f, new_v)), sep='\\t', na = \"NA\", quote=F)\n"
   ]
  },
  {
   "cell_type": "code",
   "execution_count": 53,
   "metadata": {},
   "outputs": [],
   "source": [
    "covar_df <- sqc_df %>%\n",
    "select(\n",
    "    FID, IID, \n",
    "    population, split, \n",
    "    age, age0, age1, age2, age3, \n",
    "    sex, BMI, N_CNV, LEN_CNV, \n",
    "    Array, paste0('PC', 1:40), paste0('Global_PC', 1:40)\n",
    ")"
   ]
  },
  {
   "cell_type": "code",
   "execution_count": 54,
   "metadata": {},
   "outputs": [],
   "source": [
    "covar_df %>%\n",
    "rename('#FID' = 'FID') %>%\n",
    "fwrite(file.path(sqc_d, sprintf(dir_n, new_v), sprintf(covar, new_v)), sep='\\t', na = \"NA\", quote=F)\n"
   ]
  },
  {
   "cell_type": "markdown",
   "metadata": {},
   "source": [
    "## update the master phe file"
   ]
  },
  {
   "cell_type": "code",
   "execution_count": 45,
   "metadata": {},
   "outputs": [],
   "source": [
    "master_phe_df <- fread(\n",
    "    sprintf(master_phe_f, master_v), \n",
    "    colClasses=c('FID'='character', 'IID'='character')\n",
    ")\n"
   ]
  },
  {
   "cell_type": "code",
   "execution_count": 56,
   "metadata": {},
   "outputs": [],
   "source": [
    "master_phe_updated_df <- master_phe_df %>%\n",
    "mutate(sort_order=1:n()) %>%\n",
    "select(-all_of(setdiff(colnames(covar_df), c('FID', 'IID'))))%>%\n",
    "left_join(\n",
    "    covar_df %>%\n",
    "    mutate(\n",
    "        FID=as.character(FID),\n",
    "        IID=as.character(IID)\n",
    "    ),\n",
    "    by=c('FID', 'IID')\n",
    ") %>%\n",
    "arrange(sort_order) %>%\n",
    "select(all_of(colnames(master_phe_df)))\n"
   ]
  },
  {
   "cell_type": "code",
   "execution_count": 57,
   "metadata": {},
   "outputs": [
    {
     "name": "stdout",
     "output_type": "stream",
     "text": [
      "[1] 516770   3562\n",
      "[1] 516770   3562\n"
     ]
    }
   ],
   "source": [
    "master_phe_df %>% dim() %>% print()\n",
    "master_phe_updated_df %>% dim() %>% print()"
   ]
  },
  {
   "cell_type": "code",
   "execution_count": 58,
   "metadata": {},
   "outputs": [],
   "source": [
    "master_phe_updated_df %>%\n",
    "rename('#FID' = 'FID') %>%\n",
    "fwrite(sprintf(master_phe_f, new_v), sep='\\t', na = \"NA\", quote=F)\n"
   ]
  },
  {
   "cell_type": "code",
   "execution_count": null,
   "metadata": {},
   "outputs": [],
   "source": []
  }
 ],
 "metadata": {
  "kernelspec": {
   "display_name": "R",
   "language": "R",
   "name": "ir"
  },
  "language_info": {
   "codemirror_mode": "r",
   "file_extension": ".r",
   "mimetype": "text/x-r-source",
   "name": "R",
   "pygments_lexer": "r",
   "version": "3.6.1"
  }
 },
 "nbformat": 4,
 "nbformat_minor": 4
}
