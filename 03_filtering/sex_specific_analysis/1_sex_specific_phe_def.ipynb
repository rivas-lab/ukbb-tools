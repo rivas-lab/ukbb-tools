{
 "cells": [
  {
   "cell_type": "code",
   "execution_count": 1,
   "metadata": {},
   "outputs": [
    {
     "name": "stderr",
     "output_type": "stream",
     "text": [
      "Warning message:\n",
      "“package ‘ggplot2’ was built under R version 3.6.2”Warning message:\n",
      "“package ‘tibble’ was built under R version 3.6.3”Warning message:\n",
      "“package ‘tidyr’ was built under R version 3.6.2”Warning message:\n",
      "“package ‘dplyr’ was built under R version 3.6.2”Warning message:\n",
      "“package ‘forcats’ was built under R version 3.6.2”"
     ]
    }
   ],
   "source": [
    "suppressPackageStartupMessages(library(tidyverse))\n",
    "suppressPackageStartupMessages(library(data.table))\n"
   ]
  },
  {
   "cell_type": "code",
   "execution_count": 2,
   "metadata": {},
   "outputs": [],
   "source": [
    "gwas_covar_f <- '/oak/stanford/groups/mrivas/ukbb24983/sqc/population_stratification_w24983_20200313/ukb24983_GWAS_covar.20200313.phe'\n"
   ]
  },
  {
   "cell_type": "code",
   "execution_count": 5,
   "metadata": {},
   "outputs": [],
   "source": [
    "out_d <- '/oak/stanford/groups/mrivas/ukbb24983/sqc/population_stratification_w24983_20200313'"
   ]
  },
  {
   "cell_type": "code",
   "execution_count": 6,
   "metadata": {},
   "outputs": [],
   "source": [
    "gwas_covar_df <- fread(\n",
    "    gwas_covar_f,\n",
    "    select=c('FID', 'IID', 'population', 'sex'),\n",
    "    colClasses=c('FID'='character', 'IID'='character')\n",
    ")\n"
   ]
  },
  {
   "cell_type": "markdown",
   "metadata": {},
   "source": [
    "```\n",
    "sex: 1 indicates male; 0 indicates female\n",
    "```\n"
   ]
  },
  {
   "cell_type": "code",
   "execution_count": 7,
   "metadata": {},
   "outputs": [
    {
     "data": {
      "text/html": [
       "<table>\n",
       "<caption>A tibble: 3 × 2</caption>\n",
       "<thead>\n",
       "\t<tr><th scope=col>sex</th><th scope=col>n</th></tr>\n",
       "\t<tr><th scope=col>&lt;int&gt;</th><th scope=col>&lt;int&gt;</th></tr>\n",
       "</thead>\n",
       "<tbody>\n",
       "\t<tr><td> 0</td><td>264861</td></tr>\n",
       "\t<tr><td> 1</td><td>223509</td></tr>\n",
       "\t<tr><td>NA</td><td>     7</td></tr>\n",
       "</tbody>\n",
       "</table>\n"
      ],
      "text/latex": [
       "A tibble: 3 × 2\n",
       "\\begin{tabular}{ll}\n",
       " sex & n\\\\\n",
       " <int> & <int>\\\\\n",
       "\\hline\n",
       "\t  0 & 264861\\\\\n",
       "\t  1 & 223509\\\\\n",
       "\t NA &      7\\\\\n",
       "\\end{tabular}\n"
      ],
      "text/markdown": [
       "\n",
       "A tibble: 3 × 2\n",
       "\n",
       "| sex &lt;int&gt; | n &lt;int&gt; |\n",
       "|---|---|\n",
       "|  0 | 264861 |\n",
       "|  1 | 223509 |\n",
       "| NA |      7 |\n",
       "\n"
      ],
      "text/plain": [
       "  sex n     \n",
       "1  0  264861\n",
       "2  1  223509\n",
       "3 NA       7"
      ]
     },
     "metadata": {},
     "output_type": "display_data"
    }
   ],
   "source": [
    "gwas_covar_df %>% \n",
    "count(sex)"
   ]
  },
  {
   "cell_type": "code",
   "execution_count": 8,
   "metadata": {},
   "outputs": [
    {
     "name": "stdout",
     "output_type": "stream",
     "text": [
      "[1] \"white_british\"\n",
      "[1] \"non_british_white\"\n",
      "[1] \"african\"\n",
      "[1] \"s_asian\"\n",
      "[1] \"e_asian\"\n"
     ]
    }
   ],
   "source": [
    "pops <- c('white_british', 'non_british_white', 'african', 's_asian', 'e_asian')\n",
    "\n",
    "for (pop in pops){\n",
    "    print(pop)\n",
    "    \n",
    "    gwas_covar_df %>% \n",
    "    filter(population == pop) %>%\n",
    "    filter(sex == 0) %>%\n",
    "    select(FID, IID) %>% \n",
    "    fwrite(\n",
    "        file.path(out_d, paste0('ukb24983_', pop, '.F', '.phe')), \n",
    "        sep='\\t', col.names = F\n",
    "    )\n",
    "    \n",
    "    gwas_covar_df %>% \n",
    "    filter(population == pop) %>%\n",
    "    filter(sex == 1) %>%\n",
    "    select(FID, IID) %>% \n",
    "    fwrite(\n",
    "        file.path(out_d, paste0('ukb24983_', pop, '.M', '.phe')), \n",
    "        sep='\\t', col.names = F\n",
    "    )\n",
    "}"
   ]
  },
  {
   "cell_type": "code",
   "execution_count": 9,
   "metadata": {},
   "outputs": [],
   "source": [
    "gwas_covar_df %>% \n",
    "filter(sex == 0) %>%\n",
    "select(FID, IID) %>% \n",
    "fwrite(\n",
    "    file.path(out_d, paste0('ukb24983', '.F', '.phe')), \n",
    "    sep='\\t', col.names = F\n",
    ")\n",
    "\n",
    "gwas_covar_df %>% \n",
    "filter(sex == 1) %>%\n",
    "select(FID, IID) %>% \n",
    "fwrite(\n",
    "    file.path(out_d, paste0('ukb24983', '.M', '.phe')), \n",
    "    sep='\\t', col.names = F\n",
    ")\n"
   ]
  },
  {
   "cell_type": "code",
   "execution_count": null,
   "metadata": {},
   "outputs": [],
   "source": []
  }
 ],
 "metadata": {
  "kernelspec": {
   "display_name": "R",
   "language": "R",
   "name": "ir"
  },
  "language_info": {
   "codemirror_mode": "r",
   "file_extension": ".r",
   "mimetype": "text/x-r-source",
   "name": "R",
   "pygments_lexer": "r",
   "version": "3.6.1"
  }
 },
 "nbformat": 4,
 "nbformat_minor": 4
}
