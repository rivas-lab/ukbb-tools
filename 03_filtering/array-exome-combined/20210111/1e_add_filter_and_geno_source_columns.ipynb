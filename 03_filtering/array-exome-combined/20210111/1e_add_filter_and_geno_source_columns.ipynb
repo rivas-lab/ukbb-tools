{
 "cells": [
  {
   "cell_type": "code",
   "execution_count": 2,
   "metadata": {},
   "outputs": [],
   "source": [
    "suppressWarnings(suppressPackageStartupMessages({\n",
    "    library(tidyverse)\n",
    "    library(data.table)\n",
    "}))\n"
   ]
  },
  {
   "cell_type": "markdown",
   "metadata": {},
   "source": [
    "As you may see in the PLINK log file (`/scratch/groups/mrivas/ukbb24983/array-exome-combined/pgen/ukb24983_cal_hla_cnv_exomeOQFE.bed.log`), \n",
    "there are some variants removed based on the allele frequency threshold.\n",
    "\n",
    "> 2962 variants removed due to minor allele threshold(s)\n",
    "\n",
    "We add back the \"geno_data_source\" column.\n",
    "\n",
    "\n",
    "```\n",
    "$ cd /scratch/groups/mrivas/ukbb24983/array-exome-combined/pgen\n",
    "\n",
    "$ cat ukb24983_cal_hla_cnv_exomeOQFE.pvar | md5sum\n",
    "a76257a1dc2bca3b84c04cf7788673cd  -\n",
    "\n",
    "$ mv ukb24983_cal_hla_cnv_exomeOQFE.pvar ukb24983_cal_hla_cnv_exomeOQFE.plink.pvar\n",
    "\n",
    "$ # we execute the codes in this notebook and generate the merged file\n",
    "\n",
    "$ cat ukb24983_cal_hla_cnv_exomeOQFE.pvar| cut -f1-5 | md5sum\n",
    "a76257a1dc2bca3b84c04cf7788673cd  -\n",
    "```\n"
   ]
  },
  {
   "cell_type": "code",
   "execution_count": 1,
   "metadata": {},
   "outputs": [],
   "source": [
    "ukb_d <- '/scratch/groups/mrivas/ukbb24983'\n",
    "data_d <- '/scratch/groups/mrivas/ukbb24983/array-exome-combined/pgen'\n",
    "\n",
    "# input\n",
    "in_f <- file.path(data_d, 'ukb24983_cal_hla_cnv_exomeOQFE.plink.pvar')\n",
    "array_f <- file.path(ukb_d, 'array-combined/annotation/annotation_20201012/ukb24983_cal_hla_cnv.annot_compact_20201023.tsv.gz')\n",
    "exome_f <- file.path(ukb_d, 'exome/annotation/20201025_exome_oqfe_2020/ukb24983_exomeOQFE.annotation.20210108.compact.tsv.gz')\n",
    "\n",
    "# output\n",
    "out_f <- file.path(data_d, 'ukb24983_cal_hla_cnv_exomeOQFE.pvar')\n"
   ]
  },
  {
   "cell_type": "code",
   "execution_count": 4,
   "metadata": {},
   "outputs": [],
   "source": [
    "array_f %>% fread(select=c('ID', 'FILTER', 'geno_data_source')) -> array_df\n",
    "\n",
    "exome_f %>% fread(select=c('ID', 'FILTER')) %>%\n",
    "mutate(geno_data_source = 'exome200k')-> exome_df\n"
   ]
  },
  {
   "cell_type": "code",
   "execution_count": 5,
   "metadata": {},
   "outputs": [],
   "source": [
    "in_f %>% fread(colClasses = c('#CHROM'='character')) %>%\n",
    "rename('CHROM'='#CHROM') -> df\n"
   ]
  },
  {
   "cell_type": "code",
   "execution_count": 6,
   "metadata": {},
   "outputs": [],
   "source": [
    "df %>% left_join(bind_rows(array_df, exome_df), by='ID') -> merged_df\n"
   ]
  },
  {
   "cell_type": "code",
   "execution_count": 7,
   "metadata": {},
   "outputs": [
    {
     "data": {
      "text/html": [
       "<table>\n",
       "<caption>A data.table: 4 × 2</caption>\n",
       "<thead>\n",
       "\t<tr><th scope=col>geno_data_source</th><th scope=col>n</th></tr>\n",
       "\t<tr><th scope=col>&lt;chr&gt;</th><th scope=col>&lt;int&gt;</th></tr>\n",
       "</thead>\n",
       "<tbody>\n",
       "\t<tr><td>cal      </td><td>  802498</td></tr>\n",
       "\t<tr><td>cnv      </td><td>  275180</td></tr>\n",
       "\t<tr><td>exome200k</td><td>17660693</td></tr>\n",
       "\t<tr><td>hla      </td><td>     328</td></tr>\n",
       "</tbody>\n",
       "</table>\n"
      ],
      "text/latex": [
       "A data.table: 4 × 2\n",
       "\\begin{tabular}{ll}\n",
       " geno\\_data\\_source & n\\\\\n",
       " <chr> & <int>\\\\\n",
       "\\hline\n",
       "\t cal       &   802498\\\\\n",
       "\t cnv       &   275180\\\\\n",
       "\t exome200k & 17660693\\\\\n",
       "\t hla       &      328\\\\\n",
       "\\end{tabular}\n"
      ],
      "text/markdown": [
       "\n",
       "A data.table: 4 × 2\n",
       "\n",
       "| geno_data_source &lt;chr&gt; | n &lt;int&gt; |\n",
       "|---|---|\n",
       "| cal       |   802498 |\n",
       "| cnv       |   275180 |\n",
       "| exome200k | 17660693 |\n",
       "| hla       |      328 |\n",
       "\n"
      ],
      "text/plain": [
       "  geno_data_source n       \n",
       "1 cal                802498\n",
       "2 cnv                275180\n",
       "3 exome200k        17660693\n",
       "4 hla                   328"
      ]
     },
     "metadata": {},
     "output_type": "display_data"
    }
   ],
   "source": [
    "merged_df %>% count(geno_data_source)\n"
   ]
  },
  {
   "cell_type": "code",
   "execution_count": 8,
   "metadata": {},
   "outputs": [
    {
     "data": {
      "text/html": [
       "<table>\n",
       "<caption>A data.table: 17 × 2</caption>\n",
       "<thead>\n",
       "\t<tr><th scope=col>FILTER</th><th scope=col>n</th></tr>\n",
       "\t<tr><th scope=col>&lt;chr&gt;</th><th scope=col>&lt;int&gt;</th></tr>\n",
       "</thead>\n",
       "<tbody>\n",
       "\t<tr><td>.                         </td><td>18134874</td></tr>\n",
       "\t<tr><td>gnomad_af                 </td><td>     164</td></tr>\n",
       "\t<tr><td>hwe                       </td><td>   34668</td></tr>\n",
       "\t<tr><td>hwe;gnomad_af             </td><td>       3</td></tr>\n",
       "\t<tr><td>hwe;mgi                   </td><td>       3</td></tr>\n",
       "\t<tr><td>mcpi                      </td><td>      10</td></tr>\n",
       "\t<tr><td>mgi                       </td><td>      41</td></tr>\n",
       "\t<tr><td>missingness               </td><td>  351835</td></tr>\n",
       "\t<tr><td>missingness;gnomad_af     </td><td>      40</td></tr>\n",
       "\t<tr><td>missingness;hwe           </td><td>   24008</td></tr>\n",
       "\t<tr><td>missingness;hwe;gnomad_af </td><td>       6</td></tr>\n",
       "\t<tr><td>missingness;hwe;mgi       </td><td>       2</td></tr>\n",
       "\t<tr><td>missingness;mcpi          </td><td>       1</td></tr>\n",
       "\t<tr><td>missingness;mcpi;gnomad_af</td><td>       2</td></tr>\n",
       "\t<tr><td>sample_miss               </td><td>  150266</td></tr>\n",
       "\t<tr><td>sample_miss;WB_HWE_p      </td><td>   19877</td></tr>\n",
       "\t<tr><td>WB_HWE_p                  </td><td>   22899</td></tr>\n",
       "</tbody>\n",
       "</table>\n"
      ],
      "text/latex": [
       "A data.table: 17 × 2\n",
       "\\begin{tabular}{ll}\n",
       " FILTER & n\\\\\n",
       " <chr> & <int>\\\\\n",
       "\\hline\n",
       "\t .                          & 18134874\\\\\n",
       "\t gnomad\\_af                  &      164\\\\\n",
       "\t hwe                        &    34668\\\\\n",
       "\t hwe;gnomad\\_af              &        3\\\\\n",
       "\t hwe;mgi                    &        3\\\\\n",
       "\t mcpi                       &       10\\\\\n",
       "\t mgi                        &       41\\\\\n",
       "\t missingness                &   351835\\\\\n",
       "\t missingness;gnomad\\_af      &       40\\\\\n",
       "\t missingness;hwe            &    24008\\\\\n",
       "\t missingness;hwe;gnomad\\_af  &        6\\\\\n",
       "\t missingness;hwe;mgi        &        2\\\\\n",
       "\t missingness;mcpi           &        1\\\\\n",
       "\t missingness;mcpi;gnomad\\_af &        2\\\\\n",
       "\t sample\\_miss                &   150266\\\\\n",
       "\t sample\\_miss;WB\\_HWE\\_p       &    19877\\\\\n",
       "\t WB\\_HWE\\_p                   &    22899\\\\\n",
       "\\end{tabular}\n"
      ],
      "text/markdown": [
       "\n",
       "A data.table: 17 × 2\n",
       "\n",
       "| FILTER &lt;chr&gt; | n &lt;int&gt; |\n",
       "|---|---|\n",
       "| .                          | 18134874 |\n",
       "| gnomad_af                  |      164 |\n",
       "| hwe                        |    34668 |\n",
       "| hwe;gnomad_af              |        3 |\n",
       "| hwe;mgi                    |        3 |\n",
       "| mcpi                       |       10 |\n",
       "| mgi                        |       41 |\n",
       "| missingness                |   351835 |\n",
       "| missingness;gnomad_af      |       40 |\n",
       "| missingness;hwe            |    24008 |\n",
       "| missingness;hwe;gnomad_af  |        6 |\n",
       "| missingness;hwe;mgi        |        2 |\n",
       "| missingness;mcpi           |        1 |\n",
       "| missingness;mcpi;gnomad_af |        2 |\n",
       "| sample_miss                |   150266 |\n",
       "| sample_miss;WB_HWE_p       |    19877 |\n",
       "| WB_HWE_p                   |    22899 |\n",
       "\n"
      ],
      "text/plain": [
       "   FILTER                     n       \n",
       "1  .                          18134874\n",
       "2  gnomad_af                       164\n",
       "3  hwe                           34668\n",
       "4  hwe;gnomad_af                     3\n",
       "5  hwe;mgi                           3\n",
       "6  mcpi                             10\n",
       "7  mgi                              41\n",
       "8  missingness                  351835\n",
       "9  missingness;gnomad_af            40\n",
       "10 missingness;hwe               24008\n",
       "11 missingness;hwe;gnomad_af         6\n",
       "12 missingness;hwe;mgi               2\n",
       "13 missingness;mcpi                  1\n",
       "14 missingness;mcpi;gnomad_af        2\n",
       "15 sample_miss                  150266\n",
       "16 sample_miss;WB_HWE_p          19877\n",
       "17 WB_HWE_p                      22899"
      ]
     },
     "metadata": {},
     "output_type": "display_data"
    }
   ],
   "source": [
    "merged_df %>% count(FILTER)"
   ]
  },
  {
   "cell_type": "code",
   "execution_count": 10,
   "metadata": {},
   "outputs": [],
   "source": [
    "merged_df %>%\n",
    "rename('#CHROM' = 'CHROM') %>%\n",
    "fwrite(out_f, sep='\\t', na = \"NA\", quote=F)\n"
   ]
  },
  {
   "cell_type": "code",
   "execution_count": null,
   "metadata": {},
   "outputs": [],
   "source": []
  }
 ],
 "metadata": {
  "kernelspec": {
   "display_name": "R",
   "language": "R",
   "name": "ir"
  },
  "language_info": {
   "codemirror_mode": "r",
   "file_extension": ".r",
   "mimetype": "text/x-r-source",
   "name": "R",
   "pygments_lexer": "r",
   "version": "3.6.2"
  }
 },
 "nbformat": 4,
 "nbformat_minor": 4
}
