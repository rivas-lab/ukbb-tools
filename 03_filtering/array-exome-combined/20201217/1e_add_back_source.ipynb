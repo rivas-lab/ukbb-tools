{
 "cells": [
  {
   "cell_type": "code",
   "execution_count": 1,
   "metadata": {},
   "outputs": [],
   "source": [
    "suppressWarnings(suppressPackageStartupMessages({\n",
    "    library(tidyverse)\n",
    "    library(data.table)\n",
    "}))\n"
   ]
  },
  {
   "cell_type": "markdown",
   "metadata": {},
   "source": [
    "As you may see in the PLINK log file (`/scratch/groups/mrivas/ukbb24983/array-exome-combined/pgen/ukb24983_cal_hla_cnv_exomeOQFE.bed.log`), \n",
    "there are some variants removed based on the allele frequency threshold.\n",
    "\n",
    "> 2962 variants removed due to minor allele threshold(s)\n",
    "\n",
    "We add back the \"geno_data_source: column.\n",
    "\n",
    "\n",
    "```\n",
    "$ cd /scratch/groups/mrivas/ukbb24983/array-exome-combined/pgen\n",
    "\n",
    "$ cat ukb24983_cal_hla_cnv_exomeOQFE.pvar | md5sum\n",
    "7ac090a4b9bc4686cd747132f7b62785  -\n",
    "\n",
    "$ mv ukb24983_cal_hla_cnv_exomeOQFE.pvar ukb24983_cal_hla_cnv_exomeOQFE.plink.pvar\n",
    "\n",
    "$ we execute the codes in this notebook and generate the merged file\n",
    "\n",
    "$ cat ukb24983_cal_hla_cnv_exomeOQFE.pvar| cut -f1-5 | md5sum\n",
    "7ac090a4b9bc4686cd747132f7b62785  -\n",
    "```\n"
   ]
  },
  {
   "cell_type": "code",
   "execution_count": 2,
   "metadata": {},
   "outputs": [],
   "source": [
    "data_d <- '/scratch/groups/mrivas/ukbb24983/array-exome-combined/pgen'\n",
    "merge_list <- file.path(data_d, 'merge_list_pvar', 'ukb24983_cal_hla_cnv_exomeOQFE.pvar.gz')\n",
    "in_f <- file.path(data_d, 'ukb24983_cal_hla_cnv_exomeOQFE.plink.pvar')\n",
    "out_f <- file.path(data_d, 'ukb24983_cal_hla_cnv_exomeOQFE.pvar')\n"
   ]
  },
  {
   "cell_type": "code",
   "execution_count": 3,
   "metadata": {},
   "outputs": [],
   "source": [
    "merge_list %>%\n",
    "fread(colClasses = c('#CHROM'='character')) %>%\n",
    "rename('CHROM'='#CHROM') -> merge_list_df\n"
   ]
  },
  {
   "cell_type": "code",
   "execution_count": 5,
   "metadata": {},
   "outputs": [],
   "source": [
    "in_f %>%\n",
    "fread(colClasses = c('#CHROM'='character')) %>%\n",
    "rename('CHROM'='#CHROM') -> df\n"
   ]
  },
  {
   "cell_type": "code",
   "execution_count": 7,
   "metadata": {},
   "outputs": [],
   "source": [
    "df %>%\n",
    "left_join(\n",
    "    merge_list_df %>% select(ID, geno_data_source), by='ID'\n",
    ") -> merged_df\n"
   ]
  },
  {
   "cell_type": "code",
   "execution_count": 9,
   "metadata": {},
   "outputs": [
    {
     "data": {
      "text/html": [
       "<table>\n",
       "<caption>A data.table: 4 × 2</caption>\n",
       "<thead>\n",
       "\t<tr><th scope=col>geno_data_source</th><th scope=col>n</th></tr>\n",
       "\t<tr><th scope=col>&lt;chr&gt;</th><th scope=col>&lt;int&gt;</th></tr>\n",
       "</thead>\n",
       "<tbody>\n",
       "\t<tr><td>cal      </td><td>  802498</td></tr>\n",
       "\t<tr><td>cnv      </td><td>  275180</td></tr>\n",
       "\t<tr><td>exome200k</td><td>17660693</td></tr>\n",
       "\t<tr><td>hla      </td><td>     328</td></tr>\n",
       "</tbody>\n",
       "</table>\n"
      ],
      "text/latex": [
       "A data.table: 4 × 2\n",
       "\\begin{tabular}{ll}\n",
       " geno\\_data\\_source & n\\\\\n",
       " <chr> & <int>\\\\\n",
       "\\hline\n",
       "\t cal       &   802498\\\\\n",
       "\t cnv       &   275180\\\\\n",
       "\t exome200k & 17660693\\\\\n",
       "\t hla       &      328\\\\\n",
       "\\end{tabular}\n"
      ],
      "text/markdown": [
       "\n",
       "A data.table: 4 × 2\n",
       "\n",
       "| geno_data_source &lt;chr&gt; | n &lt;int&gt; |\n",
       "|---|---|\n",
       "| cal       |   802498 |\n",
       "| cnv       |   275180 |\n",
       "| exome200k | 17660693 |\n",
       "| hla       |      328 |\n",
       "\n"
      ],
      "text/plain": [
       "  geno_data_source n       \n",
       "1 cal                802498\n",
       "2 cnv                275180\n",
       "3 exome200k        17660693\n",
       "4 hla                   328"
      ]
     },
     "metadata": {},
     "output_type": "display_data"
    }
   ],
   "source": [
    "merged_df %>% count(geno_data_source)"
   ]
  },
  {
   "cell_type": "code",
   "execution_count": 11,
   "metadata": {},
   "outputs": [],
   "source": [
    "merged_df %>%\n",
    "rename('#CHROM' = 'CHROM') %>%\n",
    "fwrite(out_f, sep='\\t', na = \"NA\", quote=F)\n"
   ]
  },
  {
   "cell_type": "code",
   "execution_count": null,
   "metadata": {},
   "outputs": [],
   "source": []
  }
 ],
 "metadata": {
  "kernelspec": {
   "display_name": "R",
   "language": "R",
   "name": "ir"
  },
  "language_info": {
   "codemirror_mode": "r",
   "file_extension": ".r",
   "mimetype": "text/x-r-source",
   "name": "R",
   "pygments_lexer": "r",
   "version": "3.6.2"
  }
 },
 "nbformat": 4,
 "nbformat_minor": 4
}
