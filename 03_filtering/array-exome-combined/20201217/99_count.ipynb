{
 "cells": [
  {
   "cell_type": "code",
   "execution_count": 1,
   "metadata": {},
   "outputs": [],
   "source": [
    "suppressWarnings(suppressPackageStartupMessages({\n",
    "    library(tidyverse)\n",
    "    library(data.table)\n",
    "}))\n"
   ]
  },
  {
   "cell_type": "code",
   "execution_count": 2,
   "metadata": {},
   "outputs": [],
   "source": [
    "f <- '/scratch/groups/mrivas/ukbb24983/array-exome-combined/annotation/20201217/ukb24983_cal_hla_cnv_exomeOQFE.annot_compact_20210108.tsv.gz'\n"
   ]
  },
  {
   "cell_type": "code",
   "execution_count": 3,
   "metadata": {},
   "outputs": [],
   "source": [
    "f %>% \n",
    "fread(colClasses = c('#CHROM'='character')) %>%\n",
    "rename('CHROM'='#CHROM') -> df"
   ]
  },
  {
   "cell_type": "code",
   "execution_count": 5,
   "metadata": {},
   "outputs": [
    {
     "data": {
      "text/html": [
       "<style>\n",
       ".list-inline {list-style: none; margin:0; padding: 0}\n",
       ".list-inline>li {display: inline-block}\n",
       ".list-inline>li:not(:last-child)::after {content: \"\\00b7\"; padding: 0 .5ex}\n",
       "</style>\n",
       "<ol class=list-inline><li>'CHROM'</li><li>'POS'</li><li>'ID'</li><li>'REF'</li><li>'ALT'</li><li>'FILTER'</li><li>'POS_total'</li><li>'Allele'</li><li>'Csq'</li><li>'Consequence'</li><li>'SYMBOL'</li><li>'Gene'</li><li>'ld_indep'</li><li>'geno_data_source'</li><li>'array'</li><li>'CNV_POS_s'</li><li>'CNV_POS_e'</li><li>'UKB_white_british_MAF'</li><li>'UKB_white_british_hwe_p'</li><li>'mgi_notes'</li><li>'f_miss'</li><li>'f_miss_UKBB'</li><li>'f_miss_UKBL'</li><li>'LoF'</li><li>'LoF_filter'</li><li>'LoF_flags'</li><li>'LoF_info'</li><li>'HGVSp'</li></ol>\n"
      ],
      "text/latex": [
       "\\begin{enumerate*}\n",
       "\\item 'CHROM'\n",
       "\\item 'POS'\n",
       "\\item 'ID'\n",
       "\\item 'REF'\n",
       "\\item 'ALT'\n",
       "\\item 'FILTER'\n",
       "\\item 'POS\\_total'\n",
       "\\item 'Allele'\n",
       "\\item 'Csq'\n",
       "\\item 'Consequence'\n",
       "\\item 'SYMBOL'\n",
       "\\item 'Gene'\n",
       "\\item 'ld\\_indep'\n",
       "\\item 'geno\\_data\\_source'\n",
       "\\item 'array'\n",
       "\\item 'CNV\\_POS\\_s'\n",
       "\\item 'CNV\\_POS\\_e'\n",
       "\\item 'UKB\\_white\\_british\\_MAF'\n",
       "\\item 'UKB\\_white\\_british\\_hwe\\_p'\n",
       "\\item 'mgi\\_notes'\n",
       "\\item 'f\\_miss'\n",
       "\\item 'f\\_miss\\_UKBB'\n",
       "\\item 'f\\_miss\\_UKBL'\n",
       "\\item 'LoF'\n",
       "\\item 'LoF\\_filter'\n",
       "\\item 'LoF\\_flags'\n",
       "\\item 'LoF\\_info'\n",
       "\\item 'HGVSp'\n",
       "\\end{enumerate*}\n"
      ],
      "text/markdown": [
       "1. 'CHROM'\n",
       "2. 'POS'\n",
       "3. 'ID'\n",
       "4. 'REF'\n",
       "5. 'ALT'\n",
       "6. 'FILTER'\n",
       "7. 'POS_total'\n",
       "8. 'Allele'\n",
       "9. 'Csq'\n",
       "10. 'Consequence'\n",
       "11. 'SYMBOL'\n",
       "12. 'Gene'\n",
       "13. 'ld_indep'\n",
       "14. 'geno_data_source'\n",
       "15. 'array'\n",
       "16. 'CNV_POS_s'\n",
       "17. 'CNV_POS_e'\n",
       "18. 'UKB_white_british_MAF'\n",
       "19. 'UKB_white_british_hwe_p'\n",
       "20. 'mgi_notes'\n",
       "21. 'f_miss'\n",
       "22. 'f_miss_UKBB'\n",
       "23. 'f_miss_UKBL'\n",
       "24. 'LoF'\n",
       "25. 'LoF_filter'\n",
       "26. 'LoF_flags'\n",
       "27. 'LoF_info'\n",
       "28. 'HGVSp'\n",
       "\n",
       "\n"
      ],
      "text/plain": [
       " [1] \"CHROM\"                   \"POS\"                    \n",
       " [3] \"ID\"                      \"REF\"                    \n",
       " [5] \"ALT\"                     \"FILTER\"                 \n",
       " [7] \"POS_total\"               \"Allele\"                 \n",
       " [9] \"Csq\"                     \"Consequence\"            \n",
       "[11] \"SYMBOL\"                  \"Gene\"                   \n",
       "[13] \"ld_indep\"                \"geno_data_source\"       \n",
       "[15] \"array\"                   \"CNV_POS_s\"              \n",
       "[17] \"CNV_POS_e\"               \"UKB_white_british_MAF\"  \n",
       "[19] \"UKB_white_british_hwe_p\" \"mgi_notes\"              \n",
       "[21] \"f_miss\"                  \"f_miss_UKBB\"            \n",
       "[23] \"f_miss_UKBL\"             \"LoF\"                    \n",
       "[25] \"LoF_filter\"              \"LoF_flags\"              \n",
       "[27] \"LoF_info\"                \"HGVSp\"                  "
      ]
     },
     "metadata": {},
     "output_type": "display_data"
    }
   ],
   "source": [
    "df %>% colnames()\n"
   ]
  },
  {
   "cell_type": "code",
   "execution_count": 8,
   "metadata": {},
   "outputs": [
    {
     "data": {
      "text/html": [
       "<style>\n",
       ".list-inline {list-style: none; margin:0; padding: 0}\n",
       ".list-inline>li {display: inline-block}\n",
       ".list-inline>li:not(:last-child)::after {content: \"\\00b7\"; padding: 0 .5ex}\n",
       "</style>\n",
       "<ol class=list-inline><li>18738699</li><li>28</li></ol>\n"
      ],
      "text/latex": [
       "\\begin{enumerate*}\n",
       "\\item 18738699\n",
       "\\item 28\n",
       "\\end{enumerate*}\n"
      ],
      "text/markdown": [
       "1. 18738699\n",
       "2. 28\n",
       "\n",
       "\n"
      ],
      "text/plain": [
       "[1] 18738699       28"
      ]
     },
     "metadata": {},
     "output_type": "display_data"
    }
   ],
   "source": [
    "df %>% dim()"
   ]
  },
  {
   "cell_type": "code",
   "execution_count": 7,
   "metadata": {},
   "outputs": [
    {
     "data": {
      "text/html": [
       "<table>\n",
       "<caption>A data.table: 4 × 2</caption>\n",
       "<thead>\n",
       "\t<tr><th scope=col>geno_data_source</th><th scope=col>n</th></tr>\n",
       "\t<tr><th scope=col>&lt;chr&gt;</th><th scope=col>&lt;int&gt;</th></tr>\n",
       "</thead>\n",
       "<tbody>\n",
       "\t<tr><td>cal      </td><td>  802498</td></tr>\n",
       "\t<tr><td>cnv      </td><td>  275180</td></tr>\n",
       "\t<tr><td>exome200k</td><td>17660693</td></tr>\n",
       "\t<tr><td>hla      </td><td>     328</td></tr>\n",
       "</tbody>\n",
       "</table>\n"
      ],
      "text/latex": [
       "A data.table: 4 × 2\n",
       "\\begin{tabular}{ll}\n",
       " geno\\_data\\_source & n\\\\\n",
       " <chr> & <int>\\\\\n",
       "\\hline\n",
       "\t cal       &   802498\\\\\n",
       "\t cnv       &   275180\\\\\n",
       "\t exome200k & 17660693\\\\\n",
       "\t hla       &      328\\\\\n",
       "\\end{tabular}\n"
      ],
      "text/markdown": [
       "\n",
       "A data.table: 4 × 2\n",
       "\n",
       "| geno_data_source &lt;chr&gt; | n &lt;int&gt; |\n",
       "|---|---|\n",
       "| cal       |   802498 |\n",
       "| cnv       |   275180 |\n",
       "| exome200k | 17660693 |\n",
       "| hla       |      328 |\n",
       "\n"
      ],
      "text/plain": [
       "  geno_data_source n       \n",
       "1 cal                802498\n",
       "2 cnv                275180\n",
       "3 exome200k        17660693\n",
       "4 hla                   328"
      ]
     },
     "metadata": {},
     "output_type": "display_data"
    }
   ],
   "source": [
    "df %>% count(geno_data_source)"
   ]
  },
  {
   "cell_type": "code",
   "execution_count": 9,
   "metadata": {},
   "outputs": [
    {
     "data": {
      "text/html": [
       "<table>\n",
       "<caption>A data.table: 17 × 2</caption>\n",
       "<thead>\n",
       "\t<tr><th scope=col>FILTER</th><th scope=col>n</th></tr>\n",
       "\t<tr><th scope=col>&lt;chr&gt;</th><th scope=col>&lt;int&gt;</th></tr>\n",
       "</thead>\n",
       "<tbody>\n",
       "\t<tr><td>.                         </td><td>18134874</td></tr>\n",
       "\t<tr><td>missingness               </td><td>  351835</td></tr>\n",
       "\t<tr><td>sample_miss               </td><td>  150266</td></tr>\n",
       "\t<tr><td>hwe                       </td><td>   34668</td></tr>\n",
       "\t<tr><td>missingness;hwe           </td><td>   24008</td></tr>\n",
       "\t<tr><td>WB_HWE_p                  </td><td>   22899</td></tr>\n",
       "\t<tr><td>sample_miss;WB_HWE_p      </td><td>   19877</td></tr>\n",
       "\t<tr><td>gnomad_af                 </td><td>     164</td></tr>\n",
       "\t<tr><td>mgi                       </td><td>      41</td></tr>\n",
       "\t<tr><td>missingness;gnomad_af     </td><td>      40</td></tr>\n",
       "\t<tr><td>mcpi                      </td><td>      10</td></tr>\n",
       "\t<tr><td>missingness;hwe;gnomad_af </td><td>       6</td></tr>\n",
       "\t<tr><td>hwe;gnomad_af             </td><td>       3</td></tr>\n",
       "\t<tr><td>hwe;mgi                   </td><td>       3</td></tr>\n",
       "\t<tr><td>missingness;hwe;mgi       </td><td>       2</td></tr>\n",
       "\t<tr><td>missingness;mcpi;gnomad_af</td><td>       2</td></tr>\n",
       "\t<tr><td>missingness;mcpi          </td><td>       1</td></tr>\n",
       "</tbody>\n",
       "</table>\n"
      ],
      "text/latex": [
       "A data.table: 17 × 2\n",
       "\\begin{tabular}{ll}\n",
       " FILTER & n\\\\\n",
       " <chr> & <int>\\\\\n",
       "\\hline\n",
       "\t .                          & 18134874\\\\\n",
       "\t missingness                &   351835\\\\\n",
       "\t sample\\_miss                &   150266\\\\\n",
       "\t hwe                        &    34668\\\\\n",
       "\t missingness;hwe            &    24008\\\\\n",
       "\t WB\\_HWE\\_p                   &    22899\\\\\n",
       "\t sample\\_miss;WB\\_HWE\\_p       &    19877\\\\\n",
       "\t gnomad\\_af                  &      164\\\\\n",
       "\t mgi                        &       41\\\\\n",
       "\t missingness;gnomad\\_af      &       40\\\\\n",
       "\t mcpi                       &       10\\\\\n",
       "\t missingness;hwe;gnomad\\_af  &        6\\\\\n",
       "\t hwe;gnomad\\_af              &        3\\\\\n",
       "\t hwe;mgi                    &        3\\\\\n",
       "\t missingness;hwe;mgi        &        2\\\\\n",
       "\t missingness;mcpi;gnomad\\_af &        2\\\\\n",
       "\t missingness;mcpi           &        1\\\\\n",
       "\\end{tabular}\n"
      ],
      "text/markdown": [
       "\n",
       "A data.table: 17 × 2\n",
       "\n",
       "| FILTER &lt;chr&gt; | n &lt;int&gt; |\n",
       "|---|---|\n",
       "| .                          | 18134874 |\n",
       "| missingness                |   351835 |\n",
       "| sample_miss                |   150266 |\n",
       "| hwe                        |    34668 |\n",
       "| missingness;hwe            |    24008 |\n",
       "| WB_HWE_p                   |    22899 |\n",
       "| sample_miss;WB_HWE_p       |    19877 |\n",
       "| gnomad_af                  |      164 |\n",
       "| mgi                        |       41 |\n",
       "| missingness;gnomad_af      |       40 |\n",
       "| mcpi                       |       10 |\n",
       "| missingness;hwe;gnomad_af  |        6 |\n",
       "| hwe;gnomad_af              |        3 |\n",
       "| hwe;mgi                    |        3 |\n",
       "| missingness;hwe;mgi        |        2 |\n",
       "| missingness;mcpi;gnomad_af |        2 |\n",
       "| missingness;mcpi           |        1 |\n",
       "\n"
      ],
      "text/plain": [
       "   FILTER                     n       \n",
       "1  .                          18134874\n",
       "2  missingness                  351835\n",
       "3  sample_miss                  150266\n",
       "4  hwe                           34668\n",
       "5  missingness;hwe               24008\n",
       "6  WB_HWE_p                      22899\n",
       "7  sample_miss;WB_HWE_p          19877\n",
       "8  gnomad_af                       164\n",
       "9  mgi                              41\n",
       "10 missingness;gnomad_af            40\n",
       "11 mcpi                             10\n",
       "12 missingness;hwe;gnomad_af         6\n",
       "13 hwe;gnomad_af                     3\n",
       "14 hwe;mgi                           3\n",
       "15 missingness;hwe;mgi               2\n",
       "16 missingness;mcpi;gnomad_af        2\n",
       "17 missingness;mcpi                  1"
      ]
     },
     "metadata": {},
     "output_type": "display_data"
    }
   ],
   "source": [
    "df %>% count(FILTER) %>% arrange(-n)"
   ]
  },
  {
   "cell_type": "code",
   "execution_count": null,
   "metadata": {},
   "outputs": [],
   "source": []
  }
 ],
 "metadata": {
  "kernelspec": {
   "display_name": "R",
   "language": "R",
   "name": "ir"
  },
  "language_info": {
   "codemirror_mode": "r",
   "file_extension": ".r",
   "mimetype": "text/x-r-source",
   "name": "R",
   "pygments_lexer": "r",
   "version": "3.6.2"
  }
 },
 "nbformat": 4,
 "nbformat_minor": 4
}
