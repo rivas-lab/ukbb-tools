{
 "cells": [
  {
   "cell_type": "code",
   "execution_count": 1,
   "metadata": {},
   "outputs": [],
   "source": [
    "suppressWarnings(suppressPackageStartupMessages({\n",
    "    library(tidyverse)\n",
    "    library(data.table)\n",
    "}))\n"
   ]
  },
  {
   "cell_type": "code",
   "execution_count": 2,
   "metadata": {},
   "outputs": [],
   "source": [
    "data_d <- '/scratch/groups/mrivas/ukbb24983/array-exome-combined/pgen'\n",
    "bim_f  <- file.path(data_d, 'ukb24983_cal_hla_cnv_exomeOQFE.bim')\n",
    "pvar_f <- file.path(data_d, 'ukb24983_cal_hla_cnv_exomeOQFE.pvar.gz')\n"
   ]
  },
  {
   "cell_type": "code",
   "execution_count": 3,
   "metadata": {},
   "outputs": [],
   "source": [
    "pvar_f %>%\n",
    "fread(colClasses = c('#CHROM'='character')) %>%\n",
    "rename('CHROM'='#CHROM') -> pvar_df\n"
   ]
  },
  {
   "cell_type": "code",
   "execution_count": 5,
   "metadata": {},
   "outputs": [
    {
     "data": {
      "text/html": [
       "<table>\n",
       "<caption>A data.table: 4 × 2</caption>\n",
       "<thead>\n",
       "\t<tr><th scope=col>geno_data_source</th><th scope=col>n</th></tr>\n",
       "\t<tr><th scope=col>&lt;chr&gt;</th><th scope=col>&lt;int&gt;</th></tr>\n",
       "</thead>\n",
       "<tbody>\n",
       "\t<tr><td>cal      </td><td>  805426</td></tr>\n",
       "\t<tr><td>cnv      </td><td>  275180</td></tr>\n",
       "\t<tr><td>exome200k</td><td>17660693</td></tr>\n",
       "\t<tr><td>hla      </td><td>     362</td></tr>\n",
       "</tbody>\n",
       "</table>\n"
      ],
      "text/latex": [
       "A data.table: 4 × 2\n",
       "\\begin{tabular}{ll}\n",
       " geno\\_data\\_source & n\\\\\n",
       " <chr> & <int>\\\\\n",
       "\\hline\n",
       "\t cal       &   805426\\\\\n",
       "\t cnv       &   275180\\\\\n",
       "\t exome200k & 17660693\\\\\n",
       "\t hla       &      362\\\\\n",
       "\\end{tabular}\n"
      ],
      "text/markdown": [
       "\n",
       "A data.table: 4 × 2\n",
       "\n",
       "| geno_data_source &lt;chr&gt; | n &lt;int&gt; |\n",
       "|---|---|\n",
       "| cal       |   805426 |\n",
       "| cnv       |   275180 |\n",
       "| exome200k | 17660693 |\n",
       "| hla       |      362 |\n",
       "\n"
      ],
      "text/plain": [
       "  geno_data_source n       \n",
       "1 cal                805426\n",
       "2 cnv                275180\n",
       "3 exome200k        17660693\n",
       "4 hla                   362"
      ]
     },
     "metadata": {},
     "output_type": "display_data"
    }
   ],
   "source": [
    "pvar_df %>% count(geno_data_source)"
   ]
  },
  {
   "cell_type": "code",
   "execution_count": 31,
   "metadata": {},
   "outputs": [],
   "source": [
    "bim_f %>%\n",
    "fread(\n",
    "    select=c(1:2,4:6),\n",
    "    col.names=c('CHROM', 'ID', 'POS', 'ALT', 'REF'),\n",
    "    colClasses = c('character', 'character', 'character', 'integer', 'character', 'character')\n",
    ") -> bim_df"
   ]
  },
  {
   "cell_type": "code",
   "execution_count": 34,
   "metadata": {},
   "outputs": [
    {
     "name": "stdout",
     "output_type": "stream",
     "text": [
      "[1] 17660693        5\n",
      "[1] 18741661        6\n"
     ]
    }
   ],
   "source": [
    "bim_df %>% dim()  %>% print()\n",
    "pvar_df %>% dim() %>% print()\n"
   ]
  },
  {
   "cell_type": "code",
   "execution_count": 36,
   "metadata": {},
   "outputs": [],
   "source": [
    "pvar_df %>%\n",
    "filter(!ID %in% bim_df$ID) -> missed_df\n"
   ]
  },
  {
   "cell_type": "code",
   "execution_count": 37,
   "metadata": {},
   "outputs": [
    {
     "name": "stdout",
     "output_type": "stream",
     "text": [
      "[1] 1080968       6\n"
     ]
    }
   ],
   "source": [
    "missed_df %>% dim() %>% print()"
   ]
  },
  {
   "cell_type": "code",
   "execution_count": 38,
   "metadata": {},
   "outputs": [
    {
     "data": {
      "text/html": [
       "1080968"
      ],
      "text/latex": [
       "1080968"
      ],
      "text/markdown": [
       "1080968"
      ],
      "text/plain": [
       "[1] 1080968"
      ]
     },
     "metadata": {},
     "output_type": "display_data"
    }
   ],
   "source": [
    "nrow(pvar_df) - nrow(bim_df)"
   ]
  },
  {
   "cell_type": "code",
   "execution_count": 40,
   "metadata": {},
   "outputs": [
    {
     "data": {
      "text/html": [
       "<table>\n",
       "<caption>A data.table: 3 × 2</caption>\n",
       "<thead>\n",
       "\t<tr><th scope=col>geno_data_source</th><th scope=col>n</th></tr>\n",
       "\t<tr><th scope=col>&lt;chr&gt;</th><th scope=col>&lt;int&gt;</th></tr>\n",
       "</thead>\n",
       "<tbody>\n",
       "\t<tr><td>cal</td><td>805426</td></tr>\n",
       "\t<tr><td>cnv</td><td>275180</td></tr>\n",
       "\t<tr><td>hla</td><td>   362</td></tr>\n",
       "</tbody>\n",
       "</table>\n"
      ],
      "text/latex": [
       "A data.table: 3 × 2\n",
       "\\begin{tabular}{ll}\n",
       " geno\\_data\\_source & n\\\\\n",
       " <chr> & <int>\\\\\n",
       "\\hline\n",
       "\t cal & 805426\\\\\n",
       "\t cnv & 275180\\\\\n",
       "\t hla &    362\\\\\n",
       "\\end{tabular}\n"
      ],
      "text/markdown": [
       "\n",
       "A data.table: 3 × 2\n",
       "\n",
       "| geno_data_source &lt;chr&gt; | n &lt;int&gt; |\n",
       "|---|---|\n",
       "| cal | 805426 |\n",
       "| cnv | 275180 |\n",
       "| hla |    362 |\n",
       "\n"
      ],
      "text/plain": [
       "  geno_data_source n     \n",
       "1 cal              805426\n",
       "2 cnv              275180\n",
       "3 hla                 362"
      ]
     },
     "metadata": {},
     "output_type": "display_data"
    }
   ],
   "source": [
    "missed_df %>% count(geno_data_source)"
   ]
  },
  {
   "cell_type": "code",
   "execution_count": null,
   "metadata": {},
   "outputs": [],
   "source": []
  }
 ],
 "metadata": {
  "kernelspec": {
   "display_name": "R",
   "language": "R",
   "name": "ir"
  },
  "language_info": {
   "codemirror_mode": "r",
   "file_extension": ".r",
   "mimetype": "text/x-r-source",
   "name": "R",
   "pygments_lexer": "r",
   "version": "3.6.2"
  }
 },
 "nbformat": 4,
 "nbformat_minor": 4
}
