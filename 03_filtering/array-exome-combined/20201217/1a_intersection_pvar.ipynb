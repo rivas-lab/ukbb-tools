{
 "cells": [
  {
   "cell_type": "code",
   "execution_count": 1,
   "metadata": {},
   "outputs": [],
   "source": [
    "suppressWarnings(suppressPackageStartupMessages({\n",
    "    library(tidyverse)\n",
    "    library(data.table)\n",
    "}))\n"
   ]
  },
  {
   "cell_type": "code",
   "execution_count": 2,
   "metadata": {},
   "outputs": [],
   "source": [
    "# input\n",
    "# ukb_d <- '/oak/stanford/groups/mrivas/ukbb24983'\n",
    "ukb_d <- '/scratch/groups/mrivas/ukbb24983'\n",
    "array_f <- file.path(ukb_d, 'array-combined/annotation/annotation_20201012/ukb24983_cal_hla_cnv.annot_compact_20201023.tsv.gz')\n",
    "exome_f <- file.path(ukb_d, 'exome/annotation/20201025_exome_oqfe_2020/ukb24983_exomeOQFE.annotation.20201217.compact.tsv.gz')\n",
    "dup_f <- '/oak/stanford/groups/mrivas/ukbb24983/exome/qc/oqfe_2020/intermediate_files/ukb24983_exomeOQFE.duplicates.tsv.gz'\n"
   ]
  },
  {
   "cell_type": "code",
   "execution_count": 3,
   "metadata": {},
   "outputs": [],
   "source": [
    "# output\n",
    "combined_f <- file.path(ukb_d, 'array-exome-combined/pgen/merge_list_pvar/ukb24983_cal_hla_cnv_exomeOQFE.unsorted.pvar')\n"
   ]
  },
  {
   "cell_type": "code",
   "execution_count": 4,
   "metadata": {},
   "outputs": [],
   "source": [
    "####################################################################\n",
    "# functions\n",
    "cat_or_zcat <- function(f){\n",
    "    ifelse(endsWith(f, '.zst'), 'zstdcat', ifelse(endsWith(f, '.gz'), 'zcat', 'cat'))\n",
    "}\n",
    "\n",
    "fread_CHROM <- function(f, select=NULL){\n",
    "    fread(cmd=paste(cat_or_zcat(f), f), colClasses = c('#CHROM'='character'), select=select) %>% rename('CHROM'='#CHROM')\n",
    "}\n"
   ]
  },
  {
   "cell_type": "code",
   "execution_count": 5,
   "metadata": {},
   "outputs": [],
   "source": [
    "dup_f %>%\n",
    "fread_CHROM() -> dup_df\n"
   ]
  },
  {
   "cell_type": "code",
   "execution_count": 9,
   "metadata": {},
   "outputs": [],
   "source": [
    "array_f %>%\n",
    "fread_CHROM(\n",
    "    select=c('#CHROM', 'POS', 'ID', 'REF', 'ALT', 'geno_data_source')\n",
    ") -> array_df\n",
    "\n",
    "exome_f %>%\n",
    "fread_CHROM(\n",
    "    select=c(\n",
    "        '#CHROM', 'POS', 'ID', 'REF', 'ALT',\n",
    "        'CHROM_hg19', 'POS_hg19', 'REF_hg19', 'ALT_hg19', 'liftOver_unmapped_reason'\n",
    "    )\n",
    ") %>% rename(\n",
    "    'CHROM_hg38'='CHROM', 'POS_hg38'='POS', 'REF_hg38'='REF', 'ALT_hg38'='ALT',\n",
    "    'CHROM'='CHROM_hg19', 'POS'='POS_hg19', 'REF'='REF_hg19', 'ALT'='ALT_hg19'\n",
    ") %>%\n",
    "mutate(\n",
    "    geno_data_source = 'exome200k'\n",
    ")-> exome_df\n"
   ]
  },
  {
   "cell_type": "code",
   "execution_count": 10,
   "metadata": {},
   "outputs": [
    {
     "data": {
      "text/html": [
       "<table>\n",
       "<caption>A data.table: 6 × 6</caption>\n",
       "<thead>\n",
       "\t<tr><th scope=col>CHROM</th><th scope=col>POS</th><th scope=col>ID</th><th scope=col>REF</th><th scope=col>ALT</th><th scope=col>geno_data_source</th></tr>\n",
       "\t<tr><th scope=col>&lt;chr&gt;</th><th scope=col>&lt;int&gt;</th><th scope=col>&lt;chr&gt;</th><th scope=col>&lt;chr&gt;</th><th scope=col>&lt;chr&gt;</th><th scope=col>&lt;chr&gt;</th></tr>\n",
       "</thead>\n",
       "<tbody>\n",
       "\t<tr><td>1</td><td>723307</td><td>rs28659788       </td><td>C</td><td>G</td><td>cal</td></tr>\n",
       "\t<tr><td>1</td><td>727841</td><td>rs116587930      </td><td>G</td><td>A</td><td>cal</td></tr>\n",
       "\t<tr><td>1</td><td>729632</td><td>rs116720794      </td><td>C</td><td>T</td><td>cal</td></tr>\n",
       "\t<tr><td>1</td><td>751314</td><td>1:723307-779322_-</td><td>N</td><td>+</td><td>cnv</td></tr>\n",
       "\t<tr><td>1</td><td>751315</td><td>1:723307-779322_+</td><td>N</td><td>+</td><td>cnv</td></tr>\n",
       "\t<tr><td>1</td><td>752721</td><td>rs3131972        </td><td>A</td><td>G</td><td>cal</td></tr>\n",
       "</tbody>\n",
       "</table>\n"
      ],
      "text/latex": [
       "A data.table: 6 × 6\n",
       "\\begin{tabular}{llllll}\n",
       " CHROM & POS & ID & REF & ALT & geno\\_data\\_source\\\\\n",
       " <chr> & <int> & <chr> & <chr> & <chr> & <chr>\\\\\n",
       "\\hline\n",
       "\t 1 & 723307 & rs28659788        & C & G & cal\\\\\n",
       "\t 1 & 727841 & rs116587930       & G & A & cal\\\\\n",
       "\t 1 & 729632 & rs116720794       & C & T & cal\\\\\n",
       "\t 1 & 751314 & 1:723307-779322\\_- & N & + & cnv\\\\\n",
       "\t 1 & 751315 & 1:723307-779322\\_+ & N & + & cnv\\\\\n",
       "\t 1 & 752721 & rs3131972         & A & G & cal\\\\\n",
       "\\end{tabular}\n"
      ],
      "text/markdown": [
       "\n",
       "A data.table: 6 × 6\n",
       "\n",
       "| CHROM &lt;chr&gt; | POS &lt;int&gt; | ID &lt;chr&gt; | REF &lt;chr&gt; | ALT &lt;chr&gt; | geno_data_source &lt;chr&gt; |\n",
       "|---|---|---|---|---|---|\n",
       "| 1 | 723307 | rs28659788        | C | G | cal |\n",
       "| 1 | 727841 | rs116587930       | G | A | cal |\n",
       "| 1 | 729632 | rs116720794       | C | T | cal |\n",
       "| 1 | 751314 | 1:723307-779322_- | N | + | cnv |\n",
       "| 1 | 751315 | 1:723307-779322_+ | N | + | cnv |\n",
       "| 1 | 752721 | rs3131972         | A | G | cal |\n",
       "\n"
      ],
      "text/plain": [
       "  CHROM POS    ID                REF ALT geno_data_source\n",
       "1 1     723307 rs28659788        C   G   cal             \n",
       "2 1     727841 rs116587930       G   A   cal             \n",
       "3 1     729632 rs116720794       C   T   cal             \n",
       "4 1     751314 1:723307-779322_- N   +   cnv             \n",
       "5 1     751315 1:723307-779322_+ N   +   cnv             \n",
       "6 1     752721 rs3131972         A   G   cal             "
      ]
     },
     "metadata": {},
     "output_type": "display_data"
    }
   ],
   "source": [
    "array_df %>% head()"
   ]
  },
  {
   "cell_type": "code",
   "execution_count": 11,
   "metadata": {},
   "outputs": [
    {
     "data": {
      "text/html": [
       "<style>\n",
       ".list-inline {list-style: none; margin:0; padding: 0}\n",
       ".list-inline>li {display: inline-block}\n",
       ".list-inline>li:not(:last-child)::after {content: \"\\00b7\"; padding: 0 .5ex}\n",
       "</style>\n",
       "<ol class=list-inline><li>0</li><li>11</li></ol>\n"
      ],
      "text/latex": [
       "\\begin{enumerate*}\n",
       "\\item 0\n",
       "\\item 11\n",
       "\\end{enumerate*}\n"
      ],
      "text/markdown": [
       "1. 0\n",
       "2. 11\n",
       "\n",
       "\n"
      ],
      "text/plain": [
       "[1]  0 11"
      ]
     },
     "metadata": {},
     "output_type": "display_data"
    }
   ],
   "source": [
    "exome_df %>% \n",
    "filter(REF != REF_hg38 | ALT != ALT_hg38) %>%\n",
    "dim()"
   ]
  },
  {
   "cell_type": "code",
   "execution_count": 12,
   "metadata": {},
   "outputs": [],
   "source": [
    "inner_join(\n",
    "    array_df %>%\n",
    "    filter(geno_data_source == 'cal') %>%\n",
    "    select(CHROM, POS, REF, ALT, ID),\n",
    "    \n",
    "    exome_df %>%\n",
    "    filter(is.na(liftOver_unmapped_reason), !ID %in% dup_df$ID) %>%\n",
    "    select(CHROM, POS, REF, ALT, ID),\n",
    "    \n",
    "    by=c('CHROM', 'POS'),\n",
    "    suffix = c(\"_array\", \"_exome\")\n",
    ") -> intersection_pos_only_df\n"
   ]
  },
  {
   "cell_type": "code",
   "execution_count": 13,
   "metadata": {},
   "outputs": [],
   "source": [
    "inner_join(\n",
    "    array_df %>%\n",
    "    filter(geno_data_source == 'cal') %>%\n",
    "    select(CHROM, POS, REF, ALT, ID),\n",
    "    \n",
    "    exome_df %>%\n",
    "    filter(is.na(liftOver_unmapped_reason), !ID %in% dup_df$ID) %>%\n",
    "    select(CHROM, POS, REF, ALT, ID),\n",
    "    \n",
    "    by=c('CHROM', 'POS', 'REF', 'ALT'),\n",
    "    suffix = c(\"_array\", \"_exome\")\n",
    ") -> intersection_df\n"
   ]
  },
  {
   "cell_type": "code",
   "execution_count": 14,
   "metadata": {},
   "outputs": [
    {
     "name": "stdout",
     "output_type": "stream",
     "text": [
      "[1] 140567      8\n",
      "[1] 115002      6\n"
     ]
    }
   ],
   "source": [
    "intersection_pos_only_df %>% dim() %>% print()\n",
    "intersection_df          %>% dim() %>% print()\n"
   ]
  },
  {
   "cell_type": "code",
   "execution_count": 15,
   "metadata": {},
   "outputs": [
    {
     "data": {
      "text/html": [
       "<table>\n",
       "<caption>A data.table: 4 × 3</caption>\n",
       "<thead>\n",
       "\t<tr><th scope=col>REF_array != REF_exome</th><th scope=col>ALT_array != ALT_exome</th><th scope=col>n</th></tr>\n",
       "\t<tr><th scope=col>&lt;lgl&gt;</th><th scope=col>&lt;lgl&gt;</th><th scope=col>&lt;int&gt;</th></tr>\n",
       "</thead>\n",
       "<tbody>\n",
       "\t<tr><td>FALSE</td><td>FALSE</td><td>115002</td></tr>\n",
       "\t<tr><td>FALSE</td><td> TRUE</td><td> 20623</td></tr>\n",
       "\t<tr><td> TRUE</td><td>FALSE</td><td>   195</td></tr>\n",
       "\t<tr><td> TRUE</td><td> TRUE</td><td>  4747</td></tr>\n",
       "</tbody>\n",
       "</table>\n"
      ],
      "text/latex": [
       "A data.table: 4 × 3\n",
       "\\begin{tabular}{lll}\n",
       " REF\\_array != REF\\_exome & ALT\\_array != ALT\\_exome & n\\\\\n",
       " <lgl> & <lgl> & <int>\\\\\n",
       "\\hline\n",
       "\t FALSE & FALSE & 115002\\\\\n",
       "\t FALSE &  TRUE &  20623\\\\\n",
       "\t  TRUE & FALSE &    195\\\\\n",
       "\t  TRUE &  TRUE &   4747\\\\\n",
       "\\end{tabular}\n"
      ],
      "text/markdown": [
       "\n",
       "A data.table: 4 × 3\n",
       "\n",
       "| REF_array != REF_exome &lt;lgl&gt; | ALT_array != ALT_exome &lt;lgl&gt; | n &lt;int&gt; |\n",
       "|---|---|---|\n",
       "| FALSE | FALSE | 115002 |\n",
       "| FALSE |  TRUE |  20623 |\n",
       "|  TRUE | FALSE |    195 |\n",
       "|  TRUE |  TRUE |   4747 |\n",
       "\n"
      ],
      "text/plain": [
       "  REF_array != REF_exome ALT_array != ALT_exome n     \n",
       "1 FALSE                  FALSE                  115002\n",
       "2 FALSE                   TRUE                   20623\n",
       "3  TRUE                  FALSE                     195\n",
       "4  TRUE                   TRUE                    4747"
      ]
     },
     "metadata": {},
     "output_type": "display_data"
    }
   ],
   "source": [
    "intersection_pos_only_df %>% \n",
    "count(REF_array != REF_exome, ALT_array != ALT_exome)\n"
   ]
  },
  {
   "cell_type": "code",
   "execution_count": 16,
   "metadata": {},
   "outputs": [
    {
     "data": {
      "text/html": [
       "<table>\n",
       "<caption>A data.table: 3 × 8</caption>\n",
       "<thead>\n",
       "\t<tr><th scope=col>CHROM</th><th scope=col>POS</th><th scope=col>REF_array</th><th scope=col>ALT_array</th><th scope=col>ID_array</th><th scope=col>REF_exome</th><th scope=col>ALT_exome</th><th scope=col>ID_exome</th></tr>\n",
       "\t<tr><th scope=col>&lt;chr&gt;</th><th scope=col>&lt;int&gt;</th><th scope=col>&lt;chr&gt;</th><th scope=col>&lt;chr&gt;</th><th scope=col>&lt;chr&gt;</th><th scope=col>&lt;chr&gt;</th><th scope=col>&lt;chr&gt;</th><th scope=col>&lt;chr&gt;</th></tr>\n",
       "</thead>\n",
       "<tbody>\n",
       "\t<tr><td>1</td><td>871267</td><td>C</td><td>T</td><td>Affx-89007868</td><td>C</td><td>G</td><td>1:935887:C:G</td></tr>\n",
       "\t<tr><td>1</td><td>881627</td><td>G</td><td>A</td><td>rs2272757    </td><td>G</td><td>C</td><td>1:946247:G:C</td></tr>\n",
       "\t<tr><td>1</td><td>889238</td><td>G</td><td>A</td><td>rs3828049    </td><td>G</td><td>C</td><td>1:953858:G:C</td></tr>\n",
       "</tbody>\n",
       "</table>\n"
      ],
      "text/latex": [
       "A data.table: 3 × 8\n",
       "\\begin{tabular}{llllllll}\n",
       " CHROM & POS & REF\\_array & ALT\\_array & ID\\_array & REF\\_exome & ALT\\_exome & ID\\_exome\\\\\n",
       " <chr> & <int> & <chr> & <chr> & <chr> & <chr> & <chr> & <chr>\\\\\n",
       "\\hline\n",
       "\t 1 & 871267 & C & T & Affx-89007868 & C & G & 1:935887:C:G\\\\\n",
       "\t 1 & 881627 & G & A & rs2272757     & G & C & 1:946247:G:C\\\\\n",
       "\t 1 & 889238 & G & A & rs3828049     & G & C & 1:953858:G:C\\\\\n",
       "\\end{tabular}\n"
      ],
      "text/markdown": [
       "\n",
       "A data.table: 3 × 8\n",
       "\n",
       "| CHROM &lt;chr&gt; | POS &lt;int&gt; | REF_array &lt;chr&gt; | ALT_array &lt;chr&gt; | ID_array &lt;chr&gt; | REF_exome &lt;chr&gt; | ALT_exome &lt;chr&gt; | ID_exome &lt;chr&gt; |\n",
       "|---|---|---|---|---|---|---|---|\n",
       "| 1 | 871267 | C | T | Affx-89007868 | C | G | 1:935887:C:G |\n",
       "| 1 | 881627 | G | A | rs2272757     | G | C | 1:946247:G:C |\n",
       "| 1 | 889238 | G | A | rs3828049     | G | C | 1:953858:G:C |\n",
       "\n"
      ],
      "text/plain": [
       "  CHROM POS    REF_array ALT_array ID_array      REF_exome ALT_exome\n",
       "1 1     871267 C         T         Affx-89007868 C         G        \n",
       "2 1     881627 G         A         rs2272757     G         C        \n",
       "3 1     889238 G         A         rs3828049     G         C        \n",
       "  ID_exome    \n",
       "1 1:935887:C:G\n",
       "2 1:946247:G:C\n",
       "3 1:953858:G:C"
      ]
     },
     "metadata": {},
     "output_type": "display_data"
    }
   ],
   "source": [
    "intersection_pos_only_df %>% \n",
    "filter(REF_array == REF_exome, ALT_array != ALT_exome) %>% head(3)\n"
   ]
  },
  {
   "cell_type": "code",
   "execution_count": 17,
   "metadata": {},
   "outputs": [
    {
     "data": {
      "text/html": [
       "<table>\n",
       "<caption>A data.table: 3 × 8</caption>\n",
       "<thead>\n",
       "\t<tr><th scope=col>CHROM</th><th scope=col>POS</th><th scope=col>REF_array</th><th scope=col>ALT_array</th><th scope=col>ID_array</th><th scope=col>REF_exome</th><th scope=col>ALT_exome</th><th scope=col>ID_exome</th></tr>\n",
       "\t<tr><th scope=col>&lt;chr&gt;</th><th scope=col>&lt;int&gt;</th><th scope=col>&lt;chr&gt;</th><th scope=col>&lt;chr&gt;</th><th scope=col>&lt;chr&gt;</th><th scope=col>&lt;chr&gt;</th><th scope=col>&lt;chr&gt;</th><th scope=col>&lt;chr&gt;</th></tr>\n",
       "</thead>\n",
       "<tbody>\n",
       "\t<tr><td>1</td><td>11140616</td><td>AAAAAAC</td><td>A</td><td>Affx-52345802</td><td>AAAAAACACACACAC</td><td>A</td><td>1:11080559:D:14</td></tr>\n",
       "\t<tr><td>1</td><td>11561617</td><td>TC     </td><td>T</td><td>Affx-80267250</td><td>TCCGCGG        </td><td>T</td><td>1:11501560:D:6 </td></tr>\n",
       "\t<tr><td>1</td><td>13695819</td><td>GA     </td><td>G</td><td>Affx-80267273</td><td>GAAA           </td><td>G</td><td>1:13369361:D:3 </td></tr>\n",
       "</tbody>\n",
       "</table>\n"
      ],
      "text/latex": [
       "A data.table: 3 × 8\n",
       "\\begin{tabular}{llllllll}\n",
       " CHROM & POS & REF\\_array & ALT\\_array & ID\\_array & REF\\_exome & ALT\\_exome & ID\\_exome\\\\\n",
       " <chr> & <int> & <chr> & <chr> & <chr> & <chr> & <chr> & <chr>\\\\\n",
       "\\hline\n",
       "\t 1 & 11140616 & AAAAAAC & A & Affx-52345802 & AAAAAACACACACAC & A & 1:11080559:D:14\\\\\n",
       "\t 1 & 11561617 & TC      & T & Affx-80267250 & TCCGCGG         & T & 1:11501560:D:6 \\\\\n",
       "\t 1 & 13695819 & GA      & G & Affx-80267273 & GAAA            & G & 1:13369361:D:3 \\\\\n",
       "\\end{tabular}\n"
      ],
      "text/markdown": [
       "\n",
       "A data.table: 3 × 8\n",
       "\n",
       "| CHROM &lt;chr&gt; | POS &lt;int&gt; | REF_array &lt;chr&gt; | ALT_array &lt;chr&gt; | ID_array &lt;chr&gt; | REF_exome &lt;chr&gt; | ALT_exome &lt;chr&gt; | ID_exome &lt;chr&gt; |\n",
       "|---|---|---|---|---|---|---|---|\n",
       "| 1 | 11140616 | AAAAAAC | A | Affx-52345802 | AAAAAACACACACAC | A | 1:11080559:D:14 |\n",
       "| 1 | 11561617 | TC      | T | Affx-80267250 | TCCGCGG         | T | 1:11501560:D:6  |\n",
       "| 1 | 13695819 | GA      | G | Affx-80267273 | GAAA            | G | 1:13369361:D:3  |\n",
       "\n"
      ],
      "text/plain": [
       "  CHROM POS      REF_array ALT_array ID_array      REF_exome       ALT_exome\n",
       "1 1     11140616 AAAAAAC   A         Affx-52345802 AAAAAACACACACAC A        \n",
       "2 1     11561617 TC        T         Affx-80267250 TCCGCGG         T        \n",
       "3 1     13695819 GA        G         Affx-80267273 GAAA            G        \n",
       "  ID_exome       \n",
       "1 1:11080559:D:14\n",
       "2 1:11501560:D:6 \n",
       "3 1:13369361:D:3 "
      ]
     },
     "metadata": {},
     "output_type": "display_data"
    }
   ],
   "source": [
    "intersection_pos_only_df %>% \n",
    "filter(REF_array != REF_exome, ALT_array == ALT_exome) %>% head(3)\n"
   ]
  },
  {
   "cell_type": "code",
   "execution_count": 18,
   "metadata": {},
   "outputs": [
    {
     "data": {
      "text/html": [
       "<table>\n",
       "<caption>A data.table: 3 × 8</caption>\n",
       "<thead>\n",
       "\t<tr><th scope=col>CHROM</th><th scope=col>POS</th><th scope=col>REF_array</th><th scope=col>ALT_array</th><th scope=col>ID_array</th><th scope=col>REF_exome</th><th scope=col>ALT_exome</th><th scope=col>ID_exome</th></tr>\n",
       "\t<tr><th scope=col>&lt;chr&gt;</th><th scope=col>&lt;int&gt;</th><th scope=col>&lt;chr&gt;</th><th scope=col>&lt;chr&gt;</th><th scope=col>&lt;chr&gt;</th><th scope=col>&lt;chr&gt;</th><th scope=col>&lt;chr&gt;</th><th scope=col>&lt;chr&gt;</th></tr>\n",
       "</thead>\n",
       "<tbody>\n",
       "\t<tr><td>1</td><td>874809</td><td>G    </td><td>C</td><td>rs200584816  </td><td>GCATGATCCCCCTCATCACCTCCCCAGCCA</td><td>G</td><td>1:939429:D:29</td></tr>\n",
       "\t<tr><td>1</td><td>876498</td><td>GA   </td><td>G</td><td>Affx-52325915</td><td>G                             </td><td>A</td><td>1:941118:G:A </td></tr>\n",
       "\t<tr><td>1</td><td>889255</td><td>CGACA</td><td>C</td><td>Affx-89023000</td><td>C                             </td><td>T</td><td>1:953875:C:T </td></tr>\n",
       "</tbody>\n",
       "</table>\n"
      ],
      "text/latex": [
       "A data.table: 3 × 8\n",
       "\\begin{tabular}{llllllll}\n",
       " CHROM & POS & REF\\_array & ALT\\_array & ID\\_array & REF\\_exome & ALT\\_exome & ID\\_exome\\\\\n",
       " <chr> & <int> & <chr> & <chr> & <chr> & <chr> & <chr> & <chr>\\\\\n",
       "\\hline\n",
       "\t 1 & 874809 & G     & C & rs200584816   & GCATGATCCCCCTCATCACCTCCCCAGCCA & G & 1:939429:D:29\\\\\n",
       "\t 1 & 876498 & GA    & G & Affx-52325915 & G                              & A & 1:941118:G:A \\\\\n",
       "\t 1 & 889255 & CGACA & C & Affx-89023000 & C                              & T & 1:953875:C:T \\\\\n",
       "\\end{tabular}\n"
      ],
      "text/markdown": [
       "\n",
       "A data.table: 3 × 8\n",
       "\n",
       "| CHROM &lt;chr&gt; | POS &lt;int&gt; | REF_array &lt;chr&gt; | ALT_array &lt;chr&gt; | ID_array &lt;chr&gt; | REF_exome &lt;chr&gt; | ALT_exome &lt;chr&gt; | ID_exome &lt;chr&gt; |\n",
       "|---|---|---|---|---|---|---|---|\n",
       "| 1 | 874809 | G     | C | rs200584816   | GCATGATCCCCCTCATCACCTCCCCAGCCA | G | 1:939429:D:29 |\n",
       "| 1 | 876498 | GA    | G | Affx-52325915 | G                              | A | 1:941118:G:A  |\n",
       "| 1 | 889255 | CGACA | C | Affx-89023000 | C                              | T | 1:953875:C:T  |\n",
       "\n"
      ],
      "text/plain": [
       "  CHROM POS    REF_array ALT_array ID_array      REF_exome                     \n",
       "1 1     874809 G         C         rs200584816   GCATGATCCCCCTCATCACCTCCCCAGCCA\n",
       "2 1     876498 GA        G         Affx-52325915 G                             \n",
       "3 1     889255 CGACA     C         Affx-89023000 C                             \n",
       "  ALT_exome ID_exome     \n",
       "1 G         1:939429:D:29\n",
       "2 A         1:941118:G:A \n",
       "3 T         1:953875:C:T "
      ]
     },
     "metadata": {},
     "output_type": "display_data"
    }
   ],
   "source": [
    "intersection_pos_only_df %>% \n",
    "filter(REF_array != REF_exome, ALT_array != ALT_exome) %>% head(3)\n"
   ]
  },
  {
   "cell_type": "code",
   "execution_count": 19,
   "metadata": {},
   "outputs": [
    {
     "data": {
      "text/html": [
       "<table>\n",
       "<caption>A data.table: 3 × 3</caption>\n",
       "<thead>\n",
       "\t<tr><th scope=col>ID %in% (intersection_df$ID_exome)</th><th scope=col>!ID %in% dup_df$ID</th><th scope=col>n</th></tr>\n",
       "\t<tr><th scope=col>&lt;lgl&gt;</th><th scope=col>&lt;lgl&gt;</th><th scope=col>&lt;int&gt;</th></tr>\n",
       "</thead>\n",
       "<tbody>\n",
       "\t<tr><td>FALSE</td><td>FALSE</td><td>     326</td></tr>\n",
       "\t<tr><td>FALSE</td><td> TRUE</td><td>17662622</td></tr>\n",
       "\t<tr><td> TRUE</td><td> TRUE</td><td>  115002</td></tr>\n",
       "</tbody>\n",
       "</table>\n"
      ],
      "text/latex": [
       "A data.table: 3 × 3\n",
       "\\begin{tabular}{lll}\n",
       " ID \\%in\\% (intersection\\_df\\$ID\\_exome) & !ID \\%in\\% dup\\_df\\$ID & n\\\\\n",
       " <lgl> & <lgl> & <int>\\\\\n",
       "\\hline\n",
       "\t FALSE & FALSE &      326\\\\\n",
       "\t FALSE &  TRUE & 17662622\\\\\n",
       "\t  TRUE &  TRUE &   115002\\\\\n",
       "\\end{tabular}\n"
      ],
      "text/markdown": [
       "\n",
       "A data.table: 3 × 3\n",
       "\n",
       "| ID %in% (intersection_df$ID_exome) &lt;lgl&gt; | !ID %in% dup_df$ID &lt;lgl&gt; | n &lt;int&gt; |\n",
       "|---|---|---|\n",
       "| FALSE | FALSE |      326 |\n",
       "| FALSE |  TRUE | 17662622 |\n",
       "|  TRUE |  TRUE |   115002 |\n",
       "\n"
      ],
      "text/plain": [
       "  ID %in% (intersection_df$ID_exome) !ID %in% dup_df$ID n       \n",
       "1 FALSE                              FALSE                   326\n",
       "2 FALSE                               TRUE              17662622\n",
       "3  TRUE                               TRUE                115002"
      ]
     },
     "metadata": {},
     "output_type": "display_data"
    }
   ],
   "source": [
    "exome_df %>%\n",
    "count(ID %in% (intersection_df$ID_exome), !ID %in% dup_df$ID)\n"
   ]
  },
  {
   "cell_type": "code",
   "execution_count": 20,
   "metadata": {},
   "outputs": [
    {
     "data": {
      "text/html": [
       "<table>\n",
       "<caption>A data.table: 3 × 4</caption>\n",
       "<thead>\n",
       "\t<tr><th scope=col>is.na(liftOver_unmapped_reason)</th><th scope=col>is.na(CHROM)</th><th scope=col>CHROM %in% c(1:22, \"X\", \"Y\")</th><th scope=col>n</th></tr>\n",
       "\t<tr><th scope=col>&lt;lgl&gt;</th><th scope=col>&lt;lgl&gt;</th><th scope=col>&lt;lgl&gt;</th><th scope=col>&lt;int&gt;</th></tr>\n",
       "</thead>\n",
       "<tbody>\n",
       "\t<tr><td>FALSE</td><td> TRUE</td><td>FALSE</td><td>    1924</td></tr>\n",
       "\t<tr><td> TRUE</td><td>FALSE</td><td>FALSE</td><td>       5</td></tr>\n",
       "\t<tr><td> TRUE</td><td>FALSE</td><td> TRUE</td><td>17660693</td></tr>\n",
       "</tbody>\n",
       "</table>\n"
      ],
      "text/latex": [
       "A data.table: 3 × 4\n",
       "\\begin{tabular}{llll}\n",
       " is.na(liftOver\\_unmapped\\_reason) & is.na(CHROM) & CHROM \\%in\\% c(1:22, \"X\", \"Y\") & n\\\\\n",
       " <lgl> & <lgl> & <lgl> & <int>\\\\\n",
       "\\hline\n",
       "\t FALSE &  TRUE & FALSE &     1924\\\\\n",
       "\t  TRUE & FALSE & FALSE &        5\\\\\n",
       "\t  TRUE & FALSE &  TRUE & 17660693\\\\\n",
       "\\end{tabular}\n"
      ],
      "text/markdown": [
       "\n",
       "A data.table: 3 × 4\n",
       "\n",
       "| is.na(liftOver_unmapped_reason) &lt;lgl&gt; | is.na(CHROM) &lt;lgl&gt; | CHROM %in% c(1:22, \"X\", \"Y\") &lt;lgl&gt; | n &lt;int&gt; |\n",
       "|---|---|---|---|\n",
       "| FALSE |  TRUE | FALSE |     1924 |\n",
       "|  TRUE | FALSE | FALSE |        5 |\n",
       "|  TRUE | FALSE |  TRUE | 17660693 |\n",
       "\n"
      ],
      "text/plain": [
       "  is.na(liftOver_unmapped_reason) is.na(CHROM) CHROM %in% c(1:22, \"X\", \"Y\")\n",
       "1 FALSE                            TRUE        FALSE                       \n",
       "2  TRUE                           FALSE        FALSE                       \n",
       "3  TRUE                           FALSE         TRUE                       \n",
       "  n       \n",
       "1     1924\n",
       "2        5\n",
       "3 17660693"
      ]
     },
     "metadata": {},
     "output_type": "display_data"
    }
   ],
   "source": [
    "exome_df %>%\n",
    "filter(!ID %in% (intersection_df$ID_exome), !ID %in% dup_df$ID) %>% \n",
    "count(is.na(liftOver_unmapped_reason), is.na(CHROM), CHROM %in% c(1:22, 'X', 'Y'))\n"
   ]
  },
  {
   "cell_type": "code",
   "execution_count": 21,
   "metadata": {},
   "outputs": [],
   "source": [
    "exome_df %>%\n",
    "filter(\n",
    "    !ID %in% (intersection_df$ID_exome),\n",
    "    !ID %in% dup_df$ID,\n",
    "    is.na(liftOver_unmapped_reason),\n",
    "    CHROM %in% c(1:22, 'X', 'Y')\n",
    ") %>%\n",
    "select(CHROM, POS, ID, REF, ALT, geno_data_source) %>%\n",
    "bind_rows(array_df) -> combined_unsorted_df\n"
   ]
  },
  {
   "cell_type": "code",
   "execution_count": 26,
   "metadata": {},
   "outputs": [
    {
     "data": {
      "text/html": [
       "<table>\n",
       "<caption>A data.table: 4 × 2</caption>\n",
       "<thead>\n",
       "\t<tr><th scope=col>geno_data_source</th><th scope=col>n</th></tr>\n",
       "\t<tr><th scope=col>&lt;chr&gt;</th><th scope=col>&lt;int&gt;</th></tr>\n",
       "</thead>\n",
       "<tbody>\n",
       "\t<tr><td>cal      </td><td>  805426</td></tr>\n",
       "\t<tr><td>cnv      </td><td>  275180</td></tr>\n",
       "\t<tr><td>exome200k</td><td>17660693</td></tr>\n",
       "\t<tr><td>hla      </td><td>     362</td></tr>\n",
       "</tbody>\n",
       "</table>\n"
      ],
      "text/latex": [
       "A data.table: 4 × 2\n",
       "\\begin{tabular}{ll}\n",
       " geno\\_data\\_source & n\\\\\n",
       " <chr> & <int>\\\\\n",
       "\\hline\n",
       "\t cal       &   805426\\\\\n",
       "\t cnv       &   275180\\\\\n",
       "\t exome200k & 17660693\\\\\n",
       "\t hla       &      362\\\\\n",
       "\\end{tabular}\n"
      ],
      "text/markdown": [
       "\n",
       "A data.table: 4 × 2\n",
       "\n",
       "| geno_data_source &lt;chr&gt; | n &lt;int&gt; |\n",
       "|---|---|\n",
       "| cal       |   805426 |\n",
       "| cnv       |   275180 |\n",
       "| exome200k | 17660693 |\n",
       "| hla       |      362 |\n",
       "\n"
      ],
      "text/plain": [
       "  geno_data_source n       \n",
       "1 cal                805426\n",
       "2 cnv                275180\n",
       "3 exome200k        17660693\n",
       "4 hla                   362"
      ]
     },
     "metadata": {},
     "output_type": "display_data"
    }
   ],
   "source": [
    "combined_unsorted_df %>%\n",
    "count(geno_data_source)\n"
   ]
  },
  {
   "cell_type": "code",
   "execution_count": 27,
   "metadata": {},
   "outputs": [
    {
     "data": {
      "text/html": [
       "<style>\n",
       ".list-inline {list-style: none; margin:0; padding: 0}\n",
       ".list-inline>li {display: inline-block}\n",
       ".list-inline>li:not(:last-child)::after {content: \"\\00b7\"; padding: 0 .5ex}\n",
       "</style>\n",
       "<ol class=list-inline><li>18741661</li><li>6</li></ol>\n"
      ],
      "text/latex": [
       "\\begin{enumerate*}\n",
       "\\item 18741661\n",
       "\\item 6\n",
       "\\end{enumerate*}\n"
      ],
      "text/markdown": [
       "1. 18741661\n",
       "2. 6\n",
       "\n",
       "\n"
      ],
      "text/plain": [
       "[1] 18741661        6"
      ]
     },
     "metadata": {},
     "output_type": "display_data"
    }
   ],
   "source": [
    "combined_unsorted_df %>% dim()"
   ]
  },
  {
   "cell_type": "code",
   "execution_count": 28,
   "metadata": {},
   "outputs": [],
   "source": [
    "combined_unsorted_df %>%\n",
    "left_join(\n",
    "    data.frame(\n",
    "        CHROM = c(1:22, 'X', 'Y', 'XY', 'MT'),\n",
    "        CHROM_order = 1:26,\n",
    "        stringsAsFactors=F\n",
    "    ), by='CHROM'\n",
    ") %>%\n",
    "rename('#CHROM' = 'CHROM') %>%\n",
    "fwrite(combined_f, sep='\\t', na = \"NA\", quote=F)\n"
   ]
  },
  {
   "cell_type": "code",
   "execution_count": null,
   "metadata": {},
   "outputs": [],
   "source": []
  }
 ],
 "metadata": {
  "kernelspec": {
   "display_name": "R",
   "language": "R",
   "name": "ir"
  },
  "language_info": {
   "codemirror_mode": "r",
   "file_extension": ".r",
   "mimetype": "text/x-r-source",
   "name": "R",
   "pygments_lexer": "r",
   "version": "3.6.2"
  }
 },
 "nbformat": 4,
 "nbformat_minor": 4
}
