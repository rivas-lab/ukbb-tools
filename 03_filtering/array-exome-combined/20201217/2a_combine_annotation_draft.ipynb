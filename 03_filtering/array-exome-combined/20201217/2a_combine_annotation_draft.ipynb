{
 "cells": [
  {
   "cell_type": "code",
   "execution_count": 1,
   "metadata": {},
   "outputs": [],
   "source": [
    "suppressWarnings(suppressPackageStartupMessages({\n",
    "    library(tidyverse)\n",
    "    library(data.table)\n",
    "}))\n"
   ]
  },
  {
   "cell_type": "code",
   "execution_count": 2,
   "metadata": {},
   "outputs": [],
   "source": [
    "ukb_d <- '/scratch/groups/mrivas/ukbb24983'\n",
    "out_f   <- file.path(ukb_d, 'array-exome-combined/annotation/20201216/ukb24983_cal_hla_cnv_exomeOQFE.annotation.tsv')\n",
    "array_f <- file.path(ukb_d, 'array-combined/annotation/annotation_20201012/ukb24983_cal_hla_cnv.annot_20201023.tsv.gz')\n",
    "exome_f <- file.path(ukb_d, 'exome/annotation/20201025_exome_oqfe_2020/ukb24983_exomeOQFE.annotation.20201217.tsv.gz')\n",
    "pvar_f  <- file.path(ukb_d, 'array-exome-combined/pgen/ukb24983_cal_hla_cnv_exomeOQFE.pvar.gz')\n"
   ]
  },
  {
   "cell_type": "code",
   "execution_count": 3,
   "metadata": {},
   "outputs": [],
   "source": [
    "get_POS_total <- function(df){\n",
    "    # compute the location on the linear coordinate system (chr1-22, X, Y, MT) for plotting\n",
    "    # original: https://github.com/rivas-lab/ukbb-tools/blob/master/17_annotation/20201012_array-combined/7_finalize.ipynb\n",
    "    df %>% select(CHROM, POS, ID) %>%\n",
    "    mutate(CHROM_X = if_else(CHROM == 'XY', 'X', CHROM)) -> CHROM_POS_df\n",
    "\n",
    "    CHROM_POS_df %>% group_by(CHROM_X) %>%\n",
    "    summarise(chr_len = max(POS), .groups = 'drop') %>%\n",
    "    left_join(data.frame(CHROM_X = c(1:22, 'X', 'Y', 'MT'), CHROM_order=1:25, stringsAsFactors=F), by='CHROM_X') %>%\n",
    "    arrange(CHROM_order) %>% mutate(CHROM_tot= cumsum(as.numeric(chr_len)) - chr_len) %>%\n",
    "    select(CHROM_X, CHROM_tot) %>% left_join(CHROM_POS_df, by='CHROM_X') %>%\n",
    "    mutate(POS_total = POS + CHROM_tot) %>%\n",
    "    select(ID, POS_total)    \n",
    "}"
   ]
  },
  {
   "cell_type": "code",
   "execution_count": 4,
   "metadata": {},
   "outputs": [],
   "source": [
    "# read pvar file\n",
    "pvar_f %>%\n",
    "fread(colClasses = c('#CHROM'='character')) %>%\n",
    "rename('CHROM'='#CHROM') %>%\n",
    "mutate(sort_order = 1:n()) -> pvar_df\n"
   ]
  },
  {
   "cell_type": "code",
   "execution_count": 5,
   "metadata": {},
   "outputs": [],
   "source": [
    "pvar_df %>% filter(geno_data_source != 'exome200k') %>%\n",
    "pull(ID) -> ID_array\n",
    "\n",
    "pvar_df %>% filter(geno_data_source == 'exome200k') %>%\n",
    "pull(ID) -> ID_exome\n"
   ]
  },
  {
   "cell_type": "code",
   "execution_count": 6,
   "metadata": {},
   "outputs": [],
   "source": [
    "# read & filter array\n",
    "array_f %>%\n",
    "fread(colClasses = 'character', nrows=10) %>%\n",
    "rename('CHROM'='#CHROM') %>%\n",
    "filter(ID %in% ID_array) -> array_df\n"
   ]
  },
  {
   "cell_type": "code",
   "execution_count": 10,
   "metadata": {},
   "outputs": [],
   "source": [
    "# read & filter exome\n",
    "exome_f %>%\n",
    "fread(colClasses = 'character', nrows=10) %>%\n",
    "rename('CHROM'='#CHROM') %>%\n",
    "filter(ID %in% ID_exome) %>% rename(\n",
    "    'CHROM_hg38'='CHROM', 'POS_hg38'='POS', 'REF_hg38'='REF', 'ALT_hg38'='ALT',\n",
    "    'CHROM'='CHROM_hg19', 'POS'='POS_hg19', 'REF'='REF_hg19', 'ALT'='ALT_hg19'\n",
    ") -> exome_df\n"
   ]
  },
  {
   "cell_type": "code",
   "execution_count": 11,
   "metadata": {},
   "outputs": [
    {
     "data": {
      "text/html": [
       "<style>\n",
       ".list-inline {list-style: none; margin:0; padding: 0}\n",
       ".list-inline>li {display: inline-block}\n",
       ".list-inline>li:not(:last-child)::after {content: \"\\00b7\"; padding: 0 .5ex}\n",
       "</style>\n",
       "<ol class=list-inline><li>10</li><li>154</li></ol>\n"
      ],
      "text/latex": [
       "\\begin{enumerate*}\n",
       "\\item 10\n",
       "\\item 154\n",
       "\\end{enumerate*}\n"
      ],
      "text/markdown": [
       "1. 10\n",
       "2. 154\n",
       "\n",
       "\n"
      ],
      "text/plain": [
       "[1]  10 154"
      ]
     },
     "metadata": {},
     "output_type": "display_data"
    }
   ],
   "source": [
    "exome_df %>% dim()"
   ]
  },
  {
   "cell_type": "code",
   "execution_count": 12,
   "metadata": {},
   "outputs": [
    {
     "data": {
      "text/html": [
       "<style>\n",
       ".list-inline {list-style: none; margin:0; padding: 0}\n",
       ".list-inline>li {display: inline-block}\n",
       ".list-inline>li:not(:last-child)::after {content: \"\\00b7\"; padding: 0 .5ex}\n",
       "</style>\n",
       "<ol class=list-inline><li>10</li><li>160</li></ol>\n"
      ],
      "text/latex": [
       "\\begin{enumerate*}\n",
       "\\item 10\n",
       "\\item 160\n",
       "\\end{enumerate*}\n"
      ],
      "text/markdown": [
       "1. 10\n",
       "2. 160\n",
       "\n",
       "\n"
      ],
      "text/plain": [
       "[1]  10 160"
      ]
     },
     "metadata": {},
     "output_type": "display_data"
    }
   ],
   "source": [
    "array_df %>% dim()"
   ]
  },
  {
   "cell_type": "code",
   "execution_count": 13,
   "metadata": {},
   "outputs": [
    {
     "data": {
      "text/html": [
       "141"
      ],
      "text/latex": [
       "141"
      ],
      "text/markdown": [
       "141"
      ],
      "text/plain": [
       "[1] 141"
      ]
     },
     "metadata": {},
     "output_type": "display_data"
    }
   ],
   "source": [
    "intersect(colnames(array_df), colnames(exome_df)) %>% length()\n"
   ]
  },
  {
   "cell_type": "code",
   "execution_count": 14,
   "metadata": {},
   "outputs": [
    {
     "data": {
      "text/html": [
       "<style>\n",
       ".list-inline {list-style: none; margin:0; padding: 0}\n",
       ".list-inline>li {display: inline-block}\n",
       ".list-inline>li:not(:last-child)::after {content: \"\\00b7\"; padding: 0 .5ex}\n",
       "</style>\n",
       "<ol class=list-inline><li>'POS_total'</li><li>'ld_indep'</li><li>'geno_data_source'</li><li>'array'</li><li>'CNV_POS_s'</li><li>'CNV_POS_e'</li><li>'UKB_white_british_MAF'</li><li>'hwe_p'</li><li>'mgi_notes'</li><li>'f_miss_UKBB'</li><li>'f_miss_UKBL'</li><li>'LoF'</li><li>'LoF_filter'</li><li>'LoF_flags'</li><li>'LoF_info'</li><li>'UKB_UKBB_OBS_CT'</li><li>'UKB_UKBL_OBS_CT'</li><li>'UKB_UKBB_MISSING_CT'</li><li>'UKB_UKBL_MISSING_CT'</li></ol>\n"
      ],
      "text/latex": [
       "\\begin{enumerate*}\n",
       "\\item 'POS\\_total'\n",
       "\\item 'ld\\_indep'\n",
       "\\item 'geno\\_data\\_source'\n",
       "\\item 'array'\n",
       "\\item 'CNV\\_POS\\_s'\n",
       "\\item 'CNV\\_POS\\_e'\n",
       "\\item 'UKB\\_white\\_british\\_MAF'\n",
       "\\item 'hwe\\_p'\n",
       "\\item 'mgi\\_notes'\n",
       "\\item 'f\\_miss\\_UKBB'\n",
       "\\item 'f\\_miss\\_UKBL'\n",
       "\\item 'LoF'\n",
       "\\item 'LoF\\_filter'\n",
       "\\item 'LoF\\_flags'\n",
       "\\item 'LoF\\_info'\n",
       "\\item 'UKB\\_UKBB\\_OBS\\_CT'\n",
       "\\item 'UKB\\_UKBL\\_OBS\\_CT'\n",
       "\\item 'UKB\\_UKBB\\_MISSING\\_CT'\n",
       "\\item 'UKB\\_UKBL\\_MISSING\\_CT'\n",
       "\\end{enumerate*}\n"
      ],
      "text/markdown": [
       "1. 'POS_total'\n",
       "2. 'ld_indep'\n",
       "3. 'geno_data_source'\n",
       "4. 'array'\n",
       "5. 'CNV_POS_s'\n",
       "6. 'CNV_POS_e'\n",
       "7. 'UKB_white_british_MAF'\n",
       "8. 'hwe_p'\n",
       "9. 'mgi_notes'\n",
       "10. 'f_miss_UKBB'\n",
       "11. 'f_miss_UKBL'\n",
       "12. 'LoF'\n",
       "13. 'LoF_filter'\n",
       "14. 'LoF_flags'\n",
       "15. 'LoF_info'\n",
       "16. 'UKB_UKBB_OBS_CT'\n",
       "17. 'UKB_UKBL_OBS_CT'\n",
       "18. 'UKB_UKBB_MISSING_CT'\n",
       "19. 'UKB_UKBL_MISSING_CT'\n",
       "\n",
       "\n"
      ],
      "text/plain": [
       " [1] \"POS_total\"             \"ld_indep\"              \"geno_data_source\"     \n",
       " [4] \"array\"                 \"CNV_POS_s\"             \"CNV_POS_e\"            \n",
       " [7] \"UKB_white_british_MAF\" \"hwe_p\"                 \"mgi_notes\"            \n",
       "[10] \"f_miss_UKBB\"           \"f_miss_UKBL\"           \"LoF\"                  \n",
       "[13] \"LoF_filter\"            \"LoF_flags\"             \"LoF_info\"             \n",
       "[16] \"UKB_UKBB_OBS_CT\"       \"UKB_UKBL_OBS_CT\"       \"UKB_UKBB_MISSING_CT\"  \n",
       "[19] \"UKB_UKBL_MISSING_CT\"  "
      ]
     },
     "metadata": {},
     "output_type": "display_data"
    }
   ],
   "source": [
    "setdiff(colnames(array_df), colnames(exome_df))\n"
   ]
  },
  {
   "cell_type": "code",
   "execution_count": 15,
   "metadata": {},
   "outputs": [
    {
     "data": {
      "text/html": [
       "<style>\n",
       ".list-inline {list-style: none; margin:0; padding: 0}\n",
       ".list-inline>li {display: inline-block}\n",
       ".list-inline>li:not(:last-child)::after {content: \"\\00b7\"; padding: 0 .5ex}\n",
       "</style>\n",
       "<ol class=list-inline><li>'CHROM_hg38'</li><li>'POS_hg38'</li><li>'REF_hg38'</li><li>'ALT_hg38'</li><li>'UKB_white_british_hwe_p'</li><li>'liftOver_unmapped_reason'</li><li>'UKB_hwe_p'</li><li>'UKB_non_british_white_hwe_p'</li><li>'UKB_african_hwe_p'</li><li>'UKB_s_asian_hwe_p'</li><li>'UKB_e_asian_hwe_p'</li><li>'UKB_related_hwe_p'</li><li>'UKB_others_hwe_p'</li></ol>\n"
      ],
      "text/latex": [
       "\\begin{enumerate*}\n",
       "\\item 'CHROM\\_hg38'\n",
       "\\item 'POS\\_hg38'\n",
       "\\item 'REF\\_hg38'\n",
       "\\item 'ALT\\_hg38'\n",
       "\\item 'UKB\\_white\\_british\\_hwe\\_p'\n",
       "\\item 'liftOver\\_unmapped\\_reason'\n",
       "\\item 'UKB\\_hwe\\_p'\n",
       "\\item 'UKB\\_non\\_british\\_white\\_hwe\\_p'\n",
       "\\item 'UKB\\_african\\_hwe\\_p'\n",
       "\\item 'UKB\\_s\\_asian\\_hwe\\_p'\n",
       "\\item 'UKB\\_e\\_asian\\_hwe\\_p'\n",
       "\\item 'UKB\\_related\\_hwe\\_p'\n",
       "\\item 'UKB\\_others\\_hwe\\_p'\n",
       "\\end{enumerate*}\n"
      ],
      "text/markdown": [
       "1. 'CHROM_hg38'\n",
       "2. 'POS_hg38'\n",
       "3. 'REF_hg38'\n",
       "4. 'ALT_hg38'\n",
       "5. 'UKB_white_british_hwe_p'\n",
       "6. 'liftOver_unmapped_reason'\n",
       "7. 'UKB_hwe_p'\n",
       "8. 'UKB_non_british_white_hwe_p'\n",
       "9. 'UKB_african_hwe_p'\n",
       "10. 'UKB_s_asian_hwe_p'\n",
       "11. 'UKB_e_asian_hwe_p'\n",
       "12. 'UKB_related_hwe_p'\n",
       "13. 'UKB_others_hwe_p'\n",
       "\n",
       "\n"
      ],
      "text/plain": [
       " [1] \"CHROM_hg38\"                  \"POS_hg38\"                   \n",
       " [3] \"REF_hg38\"                    \"ALT_hg38\"                   \n",
       " [5] \"UKB_white_british_hwe_p\"     \"liftOver_unmapped_reason\"   \n",
       " [7] \"UKB_hwe_p\"                   \"UKB_non_british_white_hwe_p\"\n",
       " [9] \"UKB_african_hwe_p\"           \"UKB_s_asian_hwe_p\"          \n",
       "[11] \"UKB_e_asian_hwe_p\"           \"UKB_related_hwe_p\"          \n",
       "[13] \"UKB_others_hwe_p\"           "
      ]
     },
     "metadata": {},
     "output_type": "display_data"
    }
   ],
   "source": [
    "setdiff(colnames(exome_df), colnames(array_df))\n"
   ]
  },
  {
   "cell_type": "code",
   "execution_count": 21,
   "metadata": {},
   "outputs": [],
   "source": [
    "# combine\n",
    "pvar_df %>% select(CHROM, POS, ID, REF, ALT, geno_data_source, sort_order) %>%\n",
    "inner_join(\n",
    "    bind_rows(\n",
    "        array_df %>% select(-CHROM, -POS, -REF, -ALT, -geno_data_source, -POS_total) %>%\n",
    "        rename('UKB_white_british_hwe_p' = 'hwe_p') %>%\n",
    "        mutate(\n",
    "            UKB_white_british_MAF = as.numeric(UKB_white_british_MAF)\n",
    "        ), \n",
    "        exome_df %>% select(-CHROM, -POS, -REF, -ALT, -liftOver_unmapped_reason) %>%\n",
    "        mutate(\n",
    "            UKB_white_british_MAF = pmin(1 - as.numeric(UKB_white_british_AF), as.numeric(UKB_white_british_AF))\n",
    "        )\n",
    "    ),\n",
    "    by='ID'\n",
    ") -> combined_df\n"
   ]
  },
  {
   "cell_type": "code",
   "execution_count": 23,
   "metadata": {},
   "outputs": [],
   "source": [
    "combined_df %>% \n",
    "left_join(get_POS_total(combined_df), by='ID') %>%\n",
    "arrange(sort_order) %>%\n",
    "select(-sort_order) -> full_df\n"
   ]
  },
  {
   "cell_type": "code",
   "execution_count": 27,
   "metadata": {},
   "outputs": [],
   "source": [
    "full_df %>%\n",
    "rename('#CHROM' = 'CHROM') %>%\n",
    "fwrite(out_f, sep='\\t', na = \"NA\", quote=F)\n"
   ]
  },
  {
   "cell_type": "code",
   "execution_count": 28,
   "metadata": {},
   "outputs": [
    {
     "data": {
      "text/html": [
       "'/oak/stanford/groups/mrivas/ukbb24983/array-exome-combined/annotation/20201216/ukb24983_cal_hla_cnv_exomeOQFE.annotation.tsv'"
      ],
      "text/latex": [
       "'/oak/stanford/groups/mrivas/ukbb24983/array-exome-combined/annotation/20201216/ukb24983\\_cal\\_hla\\_cnv\\_exomeOQFE.annotation.tsv'"
      ],
      "text/markdown": [
       "'/oak/stanford/groups/mrivas/ukbb24983/array-exome-combined/annotation/20201216/ukb24983_cal_hla_cnv_exomeOQFE.annotation.tsv'"
      ],
      "text/plain": [
       "[1] \"/oak/stanford/groups/mrivas/ukbb24983/array-exome-combined/annotation/20201216/ukb24983_cal_hla_cnv_exomeOQFE.annotation.tsv\""
      ]
     },
     "metadata": {},
     "output_type": "display_data"
    }
   ],
   "source": [
    "out_f"
   ]
  },
  {
   "cell_type": "code",
   "execution_count": null,
   "metadata": {},
   "outputs": [],
   "source": []
  }
 ],
 "metadata": {
  "kernelspec": {
   "display_name": "R",
   "language": "R",
   "name": "ir"
  },
  "language_info": {
   "codemirror_mode": "r",
   "file_extension": ".r",
   "mimetype": "text/x-r-source",
   "name": "R",
   "pygments_lexer": "r",
   "version": "3.6.2"
  }
 },
 "nbformat": 4,
 "nbformat_minor": 4
}
