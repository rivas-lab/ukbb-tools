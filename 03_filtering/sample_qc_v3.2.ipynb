{
 "cells": [
  {
   "cell_type": "markdown",
   "metadata": {},
   "source": [
    "# Sample QC and population definition\n",
    "#### Yosuke Tanigawa (ytanigaw@stanford.edu)\n",
    "#### Last update: 2020/3/13\n",
    "\n",
    "We define the following 5 populations in UK Biobank. Please see `README.md` file for more details.\n"
   ]
  },
  {
   "cell_type": "code",
   "execution_count": 1,
   "metadata": {},
   "outputs": [],
   "source": [
    "suppressPackageStartupMessages(library(tidyverse))\n",
    "suppressPackageStartupMessages(library(data.table))\n"
   ]
  },
  {
   "cell_type": "code",
   "execution_count": 2,
   "metadata": {},
   "outputs": [],
   "source": [
    "file_names <- list(\n",
    "    sqc_file           = '/oak/stanford/groups/mrivas/ukbb24983/sqc/download/ukb_sqc_v2.txt',\n",
    "    sqc_colnames       = '/oak/stanford/groups/mrivas/ukbb24983/sqc/download/ukb_sqc_v2.fields.txt',\n",
    "    fam_array          = '/oak/stanford/groups/mrivas/ukbb24983/fam/ukb2498_cal_v2_s488370.fam',\n",
    "    fam_exome          = '/oak/stanford/groups/mrivas/ukbb24983/exome/pgen/spb/data/ukb_exm_spb.fam',\n",
    "    remove_csv_file    = '/oak/stanford/groups/mrivas/ukbb24983/sqc/w24983_20200204.csv',\n",
    "    coding1001_tsv     = '/oak/stanford/groups/mrivas/ukbb24983/phenotypedata/extras/self_reported_ethnicity/misc/coding1001.tsv',\n",
    "    extracted_phe_file = '/oak/stanford/groups/mrivas/ukbb24983/phenotypedata/extras/self_reported_ethnicity/phe/ukb2007183_ukb40831_f21000.phe',\n",
    "    extracted_tsv_file = '/oak/stanford/groups/mrivas/ukbb24983/phenotypedata/extras/self_reported_ethnicity/misc/ukb2007183_ukb40831_f21000.tsv',\n",
    "    pop_refinement_pca = '/oak/stanford/groups/mrivas/ukbb24983/sqc/population_stratification_w24983_20190805/pca',\n",
    "    pop_specific_pca   = '/oak/stanford/groups/mrivas/ukbb24983/sqc/population_stratification_w24983_20190809/pca',\n",
    "    out_figs_prefix    = 'figs/sample_qc_v3.2',\n",
    "    # the source of covariate\n",
    "    covar_yob_tab      = '/oak/stanford/groups/mrivas/ukbb24983/phenotypedata/2007183/40831/download/ukb40831.tab',\n",
    "    covar_bmi_f        = '/oak/stanford/groups/mrivas/ukbb24983/phenotypedata/9796/24611/phe/INI21001.phe',\n",
    "    covar_age_f        = '/oak/stanford/groups/mrivas/ukbb24983/phenotypedata/extras/time_phenotypes/misc/age_assess.phe',\n",
    "    covar_CNV_f        = '/oak/stanford/groups/mrivas/ukbb24983/sqc/ukb24983_GWAS_covar_withCNV.phe',\n",
    "    covar_split_dir    = '/oak/stanford/groups/mrivas/projects/degas-risk/population-split'\n",
    ")\n"
   ]
  },
  {
   "cell_type": "markdown",
   "metadata": {},
   "source": [
    "## Step 1) Read the input files\n",
    "\n",
    "- `sqc` (sample quality control) file from UK Biobank has the same order as in fam file for the array fam file\n"
   ]
  },
  {
   "cell_type": "code",
   "execution_count": 3,
   "metadata": {},
   "outputs": [],
   "source": [
    "source('sample_qc_functions.R')"
   ]
  },
  {
   "cell_type": "code",
   "execution_count": 4,
   "metadata": {},
   "outputs": [],
   "source": [
    "master_sqc_df <- read_master_sqc(file_names)\n"
   ]
  },
  {
   "cell_type": "markdown",
   "metadata": {},
   "source": [
    "### Characterize some counts"
   ]
  },
  {
   "cell_type": "markdown",
   "metadata": {},
   "source": [
    "#### QC filter"
   ]
  },
  {
   "cell_type": "code",
   "execution_count": 5,
   "metadata": {},
   "outputs": [
    {
     "data": {
      "text/html": [
       "<table>\n",
       "<caption>A tibble: 2 × 2</caption>\n",
       "<thead>\n",
       "\t<tr><th scope=col>putative_sex_chromosome_aneuploidy</th><th scope=col>n</th></tr>\n",
       "\t<tr><th scope=col>&lt;int&gt;</th><th scope=col>&lt;int&gt;</th></tr>\n",
       "</thead>\n",
       "<tbody>\n",
       "\t<tr><td>0</td><td>487725</td></tr>\n",
       "\t<tr><td>1</td><td>   652</td></tr>\n",
       "</tbody>\n",
       "</table>\n"
      ],
      "text/latex": [
       "A tibble: 2 × 2\n",
       "\\begin{tabular}{r|ll}\n",
       " putative\\_sex\\_chromosome\\_aneuploidy & n\\\\\n",
       " <int> & <int>\\\\\n",
       "\\hline\n",
       "\t 0 & 487725\\\\\n",
       "\t 1 &    652\\\\\n",
       "\\end{tabular}\n"
      ],
      "text/markdown": [
       "\n",
       "A tibble: 2 × 2\n",
       "\n",
       "| putative_sex_chromosome_aneuploidy &lt;int&gt; | n &lt;int&gt; |\n",
       "|---|---|\n",
       "| 0 | 487725 |\n",
       "| 1 |    652 |\n",
       "\n"
      ],
      "text/plain": [
       "  putative_sex_chromosome_aneuploidy n     \n",
       "1 0                                  487725\n",
       "2 1                                     652"
      ]
     },
     "metadata": {},
     "output_type": "display_data"
    }
   ],
   "source": [
    "master_sqc_df %>% count(putative_sex_chromosome_aneuploidy)\n"
   ]
  },
  {
   "cell_type": "code",
   "execution_count": 6,
   "metadata": {},
   "outputs": [
    {
     "data": {
      "text/html": [
       "<table>\n",
       "<caption>A tibble: 2 × 2</caption>\n",
       "<thead>\n",
       "\t<tr><th scope=col>het_missing_outliers</th><th scope=col>n</th></tr>\n",
       "\t<tr><th scope=col>&lt;int&gt;</th><th scope=col>&lt;int&gt;</th></tr>\n",
       "</thead>\n",
       "<tbody>\n",
       "\t<tr><td>0</td><td>487409</td></tr>\n",
       "\t<tr><td>1</td><td>   968</td></tr>\n",
       "</tbody>\n",
       "</table>\n"
      ],
      "text/latex": [
       "A tibble: 2 × 2\n",
       "\\begin{tabular}{r|ll}\n",
       " het\\_missing\\_outliers & n\\\\\n",
       " <int> & <int>\\\\\n",
       "\\hline\n",
       "\t 0 & 487409\\\\\n",
       "\t 1 &    968\\\\\n",
       "\\end{tabular}\n"
      ],
      "text/markdown": [
       "\n",
       "A tibble: 2 × 2\n",
       "\n",
       "| het_missing_outliers &lt;int&gt; | n &lt;int&gt; |\n",
       "|---|---|\n",
       "| 0 | 487409 |\n",
       "| 1 |    968 |\n",
       "\n"
      ],
      "text/plain": [
       "  het_missing_outliers n     \n",
       "1 0                    487409\n",
       "2 1                       968"
      ]
     },
     "metadata": {},
     "output_type": "display_data"
    }
   ],
   "source": [
    "master_sqc_df %>% count(het_missing_outliers)\n"
   ]
  },
  {
   "cell_type": "code",
   "execution_count": 7,
   "metadata": {},
   "outputs": [
    {
     "data": {
      "text/html": [
       "<table>\n",
       "<caption>A tibble: 2 × 2</caption>\n",
       "<thead>\n",
       "\t<tr><th scope=col>excess_relatives</th><th scope=col>n</th></tr>\n",
       "\t<tr><th scope=col>&lt;int&gt;</th><th scope=col>&lt;int&gt;</th></tr>\n",
       "</thead>\n",
       "<tbody>\n",
       "\t<tr><td>0</td><td>488189</td></tr>\n",
       "\t<tr><td>1</td><td>   188</td></tr>\n",
       "</tbody>\n",
       "</table>\n"
      ],
      "text/latex": [
       "A tibble: 2 × 2\n",
       "\\begin{tabular}{r|ll}\n",
       " excess\\_relatives & n\\\\\n",
       " <int> & <int>\\\\\n",
       "\\hline\n",
       "\t 0 & 488189\\\\\n",
       "\t 1 &    188\\\\\n",
       "\\end{tabular}\n"
      ],
      "text/markdown": [
       "\n",
       "A tibble: 2 × 2\n",
       "\n",
       "| excess_relatives &lt;int&gt; | n &lt;int&gt; |\n",
       "|---|---|\n",
       "| 0 | 488189 |\n",
       "| 1 |    188 |\n",
       "\n"
      ],
      "text/plain": [
       "  excess_relatives n     \n",
       "1 0                488189\n",
       "2 1                   188"
      ]
     },
     "metadata": {},
     "output_type": "display_data"
    }
   ],
   "source": [
    "master_sqc_df %>% count(excess_relatives)\n"
   ]
  },
  {
   "cell_type": "code",
   "execution_count": 8,
   "metadata": {},
   "outputs": [
    {
     "data": {
      "text/html": [
       "<table>\n",
       "<caption>A tibble: 2 × 2</caption>\n",
       "<thead>\n",
       "\t<tr><th scope=col>used_in_pca_calculation</th><th scope=col>n</th></tr>\n",
       "\t<tr><th scope=col>&lt;int&gt;</th><th scope=col>&lt;int&gt;</th></tr>\n",
       "</thead>\n",
       "<tbody>\n",
       "\t<tr><td>0</td><td> 81158</td></tr>\n",
       "\t<tr><td>1</td><td>407219</td></tr>\n",
       "</tbody>\n",
       "</table>\n"
      ],
      "text/latex": [
       "A tibble: 2 × 2\n",
       "\\begin{tabular}{r|ll}\n",
       " used\\_in\\_pca\\_calculation & n\\\\\n",
       " <int> & <int>\\\\\n",
       "\\hline\n",
       "\t 0 &  81158\\\\\n",
       "\t 1 & 407219\\\\\n",
       "\\end{tabular}\n"
      ],
      "text/markdown": [
       "\n",
       "A tibble: 2 × 2\n",
       "\n",
       "| used_in_pca_calculation &lt;int&gt; | n &lt;int&gt; |\n",
       "|---|---|\n",
       "| 0 |  81158 |\n",
       "| 1 | 407219 |\n",
       "\n"
      ],
      "text/plain": [
       "  used_in_pca_calculation n     \n",
       "1 0                        81158\n",
       "2 1                       407219"
      ]
     },
     "metadata": {},
     "output_type": "display_data"
    }
   ],
   "source": [
    "master_sqc_df %>% count(used_in_pca_calculation)\n"
   ]
  },
  {
   "cell_type": "markdown",
   "metadata": {},
   "source": [
    "#### Summary (number of individuals by self-reported ethnicity)\n",
    "\n",
    "- `n` is the total number of individuals\n",
    "- `n_QC` is the number of individuals who passed the 4 QC filters above\n",
    "- `n_QC_OCA` is the number of **unrelated** individuals who passed the 4 QC filters above\n"
   ]
  },
  {
   "cell_type": "code",
   "execution_count": 9,
   "metadata": {},
   "outputs": [
    {
     "data": {
      "text/html": [
       "<table>\n",
       "<caption>A tibble: 23 × 6</caption>\n",
       "<thead>\n",
       "\t<tr><th scope=col>f21000_top_label</th><th scope=col>f21000_sub_label</th><th scope=col>f21000</th><th scope=col>n</th><th scope=col>n_QC</th><th scope=col>n_QC_PCA</th></tr>\n",
       "\t<tr><th scope=col>&lt;chr&gt;</th><th scope=col>&lt;chr&gt;</th><th scope=col>&lt;int&gt;</th><th scope=col>&lt;int&gt;</th><th scope=col>&lt;int&gt;</th><th scope=col>&lt;int&gt;</th></tr>\n",
       "</thead>\n",
       "<tbody>\n",
       "\t<tr><td>Do not know           </td><td>Do not know               </td><td>  -1</td><td>   200</td><td>   200</td><td>   181</td></tr>\n",
       "\t<tr><td>Prefer not to answer  </td><td>Prefer not to answer      </td><td>  -3</td><td>  1531</td><td>  1526</td><td>  1307</td></tr>\n",
       "\t<tr><td>White                 </td><td>White                     </td><td>   1</td><td>   525</td><td>   522</td><td>   441</td></tr>\n",
       "\t<tr><td>White                 </td><td>British                   </td><td>1001</td><td>430740</td><td>429195</td><td>355081</td></tr>\n",
       "\t<tr><td>White                 </td><td>Irish                     </td><td>1002</td><td> 12576</td><td> 12515</td><td> 10492</td></tr>\n",
       "\t<tr><td>White                 </td><td>Any other white background</td><td>1003</td><td> 15632</td><td> 15542</td><td> 14539</td></tr>\n",
       "\t<tr><td>Mixed                 </td><td>Mixed                     </td><td>   2</td><td>    46</td><td>    46</td><td>    42</td></tr>\n",
       "\t<tr><td>Mixed                 </td><td>White and Black Caribbean </td><td>2001</td><td>   594</td><td>   593</td><td>   527</td></tr>\n",
       "\t<tr><td>Mixed                 </td><td>White and Black African   </td><td>2002</td><td>   397</td><td>   396</td><td>   362</td></tr>\n",
       "\t<tr><td>Mixed                 </td><td>White and Asian           </td><td>2003</td><td>   795</td><td>   794</td><td>   719</td></tr>\n",
       "\t<tr><td>Mixed                 </td><td>Any other mixed background</td><td>2004</td><td>   982</td><td>   980</td><td>   889</td></tr>\n",
       "\t<tr><td>Asian or Asian British</td><td>Asian or Asian British    </td><td>   3</td><td>    42</td><td>    41</td><td>    34</td></tr>\n",
       "\t<tr><td>Asian or Asian British</td><td>Indian                    </td><td>3001</td><td>  5712</td><td>  5651</td><td>  5117</td></tr>\n",
       "\t<tr><td>Asian or Asian British</td><td>Pakistani                 </td><td>3002</td><td>  1746</td><td>  1740</td><td>  1583</td></tr>\n",
       "\t<tr><td>Asian or Asian British</td><td>Bangladeshi               </td><td>3003</td><td>   221</td><td>   221</td><td>   209</td></tr>\n",
       "\t<tr><td>Asian or Asian British</td><td>Any other Asian background</td><td>3004</td><td>  1733</td><td>  1733</td><td>  1629</td></tr>\n",
       "\t<tr><td>Black or Black British</td><td>Black or Black British    </td><td>   4</td><td>    25</td><td>    25</td><td>    22</td></tr>\n",
       "\t<tr><td>Black or Black British</td><td>Caribbean                 </td><td>4001</td><td>  4294</td><td>  4285</td><td>  3789</td></tr>\n",
       "\t<tr><td>Black or Black British</td><td>African                   </td><td>4002</td><td>  3199</td><td>  3196</td><td>  3067</td></tr>\n",
       "\t<tr><td>Black or Black British</td><td>Any other Black background</td><td>4003</td><td>   116</td><td>   116</td><td>   107</td></tr>\n",
       "\t<tr><td>Chinese               </td><td>Chinese                   </td><td>   5</td><td>  1501</td><td>  1500</td><td>  1419</td></tr>\n",
       "\t<tr><td>Other ethnic group    </td><td>Other ethnic group        </td><td>   6</td><td>  4301</td><td>  4294</td><td>  4007</td></tr>\n",
       "\t<tr><td>NA                    </td><td>NA                        </td><td>  NA</td><td>  1469</td><td>  1348</td><td>  1171</td></tr>\n",
       "</tbody>\n",
       "</table>\n"
      ],
      "text/latex": [
       "A tibble: 23 × 6\n",
       "\\begin{tabular}{r|llllll}\n",
       " f21000\\_top\\_label & f21000\\_sub\\_label & f21000 & n & n\\_QC & n\\_QC\\_PCA\\\\\n",
       " <chr> & <chr> & <int> & <int> & <int> & <int>\\\\\n",
       "\\hline\n",
       "\t Do not know            & Do not know                &   -1 &    200 &    200 &    181\\\\\n",
       "\t Prefer not to answer   & Prefer not to answer       &   -3 &   1531 &   1526 &   1307\\\\\n",
       "\t White                  & White                      &    1 &    525 &    522 &    441\\\\\n",
       "\t White                  & British                    & 1001 & 430740 & 429195 & 355081\\\\\n",
       "\t White                  & Irish                      & 1002 &  12576 &  12515 &  10492\\\\\n",
       "\t White                  & Any other white background & 1003 &  15632 &  15542 &  14539\\\\\n",
       "\t Mixed                  & Mixed                      &    2 &     46 &     46 &     42\\\\\n",
       "\t Mixed                  & White and Black Caribbean  & 2001 &    594 &    593 &    527\\\\\n",
       "\t Mixed                  & White and Black African    & 2002 &    397 &    396 &    362\\\\\n",
       "\t Mixed                  & White and Asian            & 2003 &    795 &    794 &    719\\\\\n",
       "\t Mixed                  & Any other mixed background & 2004 &    982 &    980 &    889\\\\\n",
       "\t Asian or Asian British & Asian or Asian British     &    3 &     42 &     41 &     34\\\\\n",
       "\t Asian or Asian British & Indian                     & 3001 &   5712 &   5651 &   5117\\\\\n",
       "\t Asian or Asian British & Pakistani                  & 3002 &   1746 &   1740 &   1583\\\\\n",
       "\t Asian or Asian British & Bangladeshi                & 3003 &    221 &    221 &    209\\\\\n",
       "\t Asian or Asian British & Any other Asian background & 3004 &   1733 &   1733 &   1629\\\\\n",
       "\t Black or Black British & Black or Black British     &    4 &     25 &     25 &     22\\\\\n",
       "\t Black or Black British & Caribbean                  & 4001 &   4294 &   4285 &   3789\\\\\n",
       "\t Black or Black British & African                    & 4002 &   3199 &   3196 &   3067\\\\\n",
       "\t Black or Black British & Any other Black background & 4003 &    116 &    116 &    107\\\\\n",
       "\t Chinese                & Chinese                    &    5 &   1501 &   1500 &   1419\\\\\n",
       "\t Other ethnic group     & Other ethnic group         &    6 &   4301 &   4294 &   4007\\\\\n",
       "\t NA                     & NA                         &   NA &   1469 &   1348 &   1171\\\\\n",
       "\\end{tabular}\n"
      ],
      "text/markdown": [
       "\n",
       "A tibble: 23 × 6\n",
       "\n",
       "| f21000_top_label &lt;chr&gt; | f21000_sub_label &lt;chr&gt; | f21000 &lt;int&gt; | n &lt;int&gt; | n_QC &lt;int&gt; | n_QC_PCA &lt;int&gt; |\n",
       "|---|---|---|---|---|---|\n",
       "| Do not know            | Do not know                |   -1 |    200 |    200 |    181 |\n",
       "| Prefer not to answer   | Prefer not to answer       |   -3 |   1531 |   1526 |   1307 |\n",
       "| White                  | White                      |    1 |    525 |    522 |    441 |\n",
       "| White                  | British                    | 1001 | 430740 | 429195 | 355081 |\n",
       "| White                  | Irish                      | 1002 |  12576 |  12515 |  10492 |\n",
       "| White                  | Any other white background | 1003 |  15632 |  15542 |  14539 |\n",
       "| Mixed                  | Mixed                      |    2 |     46 |     46 |     42 |\n",
       "| Mixed                  | White and Black Caribbean  | 2001 |    594 |    593 |    527 |\n",
       "| Mixed                  | White and Black African    | 2002 |    397 |    396 |    362 |\n",
       "| Mixed                  | White and Asian            | 2003 |    795 |    794 |    719 |\n",
       "| Mixed                  | Any other mixed background | 2004 |    982 |    980 |    889 |\n",
       "| Asian or Asian British | Asian or Asian British     |    3 |     42 |     41 |     34 |\n",
       "| Asian or Asian British | Indian                     | 3001 |   5712 |   5651 |   5117 |\n",
       "| Asian or Asian British | Pakistani                  | 3002 |   1746 |   1740 |   1583 |\n",
       "| Asian or Asian British | Bangladeshi                | 3003 |    221 |    221 |    209 |\n",
       "| Asian or Asian British | Any other Asian background | 3004 |   1733 |   1733 |   1629 |\n",
       "| Black or Black British | Black or Black British     |    4 |     25 |     25 |     22 |\n",
       "| Black or Black British | Caribbean                  | 4001 |   4294 |   4285 |   3789 |\n",
       "| Black or Black British | African                    | 4002 |   3199 |   3196 |   3067 |\n",
       "| Black or Black British | Any other Black background | 4003 |    116 |    116 |    107 |\n",
       "| Chinese                | Chinese                    |    5 |   1501 |   1500 |   1419 |\n",
       "| Other ethnic group     | Other ethnic group         |    6 |   4301 |   4294 |   4007 |\n",
       "| NA                     | NA                         |   NA |   1469 |   1348 |   1171 |\n",
       "\n"
      ],
      "text/plain": [
       "   f21000_top_label       f21000_sub_label           f21000 n      n_QC  \n",
       "1  Do not know            Do not know                  -1      200    200\n",
       "2  Prefer not to answer   Prefer not to answer         -3     1531   1526\n",
       "3  White                  White                         1      525    522\n",
       "4  White                  British                    1001   430740 429195\n",
       "5  White                  Irish                      1002    12576  12515\n",
       "6  White                  Any other white background 1003    15632  15542\n",
       "7  Mixed                  Mixed                         2       46     46\n",
       "8  Mixed                  White and Black Caribbean  2001      594    593\n",
       "9  Mixed                  White and Black African    2002      397    396\n",
       "10 Mixed                  White and Asian            2003      795    794\n",
       "11 Mixed                  Any other mixed background 2004      982    980\n",
       "12 Asian or Asian British Asian or Asian British        3       42     41\n",
       "13 Asian or Asian British Indian                     3001     5712   5651\n",
       "14 Asian or Asian British Pakistani                  3002     1746   1740\n",
       "15 Asian or Asian British Bangladeshi                3003      221    221\n",
       "16 Asian or Asian British Any other Asian background 3004     1733   1733\n",
       "17 Black or Black British Black or Black British        4       25     25\n",
       "18 Black or Black British Caribbean                  4001     4294   4285\n",
       "19 Black or Black British African                    4002     3199   3196\n",
       "20 Black or Black British Any other Black background 4003      116    116\n",
       "21 Chinese                Chinese                       5     1501   1500\n",
       "22 Other ethnic group     Other ethnic group            6     4301   4294\n",
       "23 NA                     NA                           NA     1469   1348\n",
       "   n_QC_PCA\n",
       "1     181  \n",
       "2    1307  \n",
       "3     441  \n",
       "4  355081  \n",
       "5   10492  \n",
       "6   14539  \n",
       "7      42  \n",
       "8     527  \n",
       "9     362  \n",
       "10    719  \n",
       "11    889  \n",
       "12     34  \n",
       "13   5117  \n",
       "14   1583  \n",
       "15    209  \n",
       "16   1629  \n",
       "17     22  \n",
       "18   3789  \n",
       "19   3067  \n",
       "20    107  \n",
       "21   1419  \n",
       "22   4007  \n",
       "23   1171  "
      ]
     },
     "metadata": {},
     "output_type": "display_data"
    }
   ],
   "source": [
    "master_sqc_df %>% \n",
    "show_counts_for_self_reported_ethnicity()"
   ]
  },
  {
   "cell_type": "markdown",
   "metadata": {},
   "source": [
    "### Save PCA plots"
   ]
  },
  {
   "cell_type": "code",
   "execution_count": 10,
   "metadata": {},
   "outputs": [],
   "source": [
    "plot_pca_all       <- master_sqc_df %>% plot_pca_self_reported()\n",
    "plot_pca_top_label <- plot_pca_all + facet_wrap( ~ f21000_top_label, ncol=3) \n"
   ]
  },
  {
   "cell_type": "code",
   "execution_count": 11,
   "metadata": {},
   "outputs": [
    {
     "name": "stderr",
     "output_type": "stream",
     "text": [
      "Saving 6.67 x 6.67 in image\n",
      "Saving 6.67 x 6.67 in image\n"
     ]
    }
   ],
   "source": [
    "# for(ext in c('png', 'pdf')){\n",
    "for(ext in c('png')){    \n",
    "    ggsave(\n",
    "        sprintf('%s.PCA.self.reported.ethnicity.%s', file_names$out_figs_prefix, ext),\n",
    "        plot_pca_all\n",
    "    )\n",
    "    \n",
    "    ggsave(\n",
    "        sprintf('%s.PCA.self.reported.ethnicity.facet.%s', file_names$out_figs_prefix, ext),\n",
    "        plot_pca_top_label\n",
    "    )\n",
    "    \n",
    "}"
   ]
  },
  {
   "cell_type": "markdown",
   "metadata": {},
   "source": [
    "## Step 2) define the population groups based on thresholds on PC1 and PC2"
   ]
  },
  {
   "cell_type": "code",
   "execution_count": 12,
   "metadata": {},
   "outputs": [],
   "source": [
    "master_sqc_pop_df <- master_sqc_df %>% \n",
    "define_populations()\n"
   ]
  },
  {
   "cell_type": "code",
   "execution_count": 13,
   "metadata": {},
   "outputs": [],
   "source": [
    "pops <- master_sqc_pop_df %>% \n",
    "drop_na(population) %>% \n",
    "select(population) %>% \n",
    "unique() %>% \n",
    "pull()\n"
   ]
  },
  {
   "cell_type": "markdown",
   "metadata": {},
   "source": [
    "### The number of individuals in the initial population assignment"
   ]
  },
  {
   "cell_type": "code",
   "execution_count": 14,
   "metadata": {},
   "outputs": [
    {
     "data": {
      "text/html": [
       "<table>\n",
       "<caption>A tibble: 5 × 6</caption>\n",
       "<thead>\n",
       "\t<tr><th scope=col>population</th><th scope=col>UKBB</th><th scope=col>UKBL</th><th scope=col>w_exome</th><th scope=col>wo_exome</th><th scope=col>n</th></tr>\n",
       "\t<tr><th scope=col>&lt;chr&gt;</th><th scope=col>&lt;dbl&gt;</th><th scope=col>&lt;dbl&gt;</th><th scope=col>&lt;dbl&gt;</th><th scope=col>&lt;dbl&gt;</th><th scope=col>&lt;dbl&gt;</th></tr>\n",
       "</thead>\n",
       "<tbody>\n",
       "\t<tr><td>white_british    </td><td>300102</td><td>37036</td><td>34393</td><td>302745</td><td>337138</td></tr>\n",
       "\t<tr><td>non_british_white</td><td> 22406</td><td> 2499</td><td> 2694</td><td> 22211</td><td> 24905</td></tr>\n",
       "\t<tr><td>s_asian          </td><td>  7962</td><td>    0</td><td>  893</td><td>  7069</td><td>  7962</td></tr>\n",
       "\t<tr><td>african          </td><td>  6497</td><td>    0</td><td>  847</td><td>  5650</td><td>  6497</td></tr>\n",
       "\t<tr><td>e_asian          </td><td>  1772</td><td>    0</td><td>  187</td><td>  1585</td><td>  1772</td></tr>\n",
       "</tbody>\n",
       "</table>\n"
      ],
      "text/latex": [
       "A tibble: 5 × 6\n",
       "\\begin{tabular}{r|llllll}\n",
       " population & UKBB & UKBL & w\\_exome & wo\\_exome & n\\\\\n",
       " <chr> & <dbl> & <dbl> & <dbl> & <dbl> & <dbl>\\\\\n",
       "\\hline\n",
       "\t white\\_british     & 300102 & 37036 & 34393 & 302745 & 337138\\\\\n",
       "\t non\\_british\\_white &  22406 &  2499 &  2694 &  22211 &  24905\\\\\n",
       "\t s\\_asian           &   7962 &     0 &   893 &   7069 &   7962\\\\\n",
       "\t african           &   6497 &     0 &   847 &   5650 &   6497\\\\\n",
       "\t e\\_asian           &   1772 &     0 &   187 &   1585 &   1772\\\\\n",
       "\\end{tabular}\n"
      ],
      "text/markdown": [
       "\n",
       "A tibble: 5 × 6\n",
       "\n",
       "| population &lt;chr&gt; | UKBB &lt;dbl&gt; | UKBL &lt;dbl&gt; | w_exome &lt;dbl&gt; | wo_exome &lt;dbl&gt; | n &lt;dbl&gt; |\n",
       "|---|---|---|---|---|---|\n",
       "| white_british     | 300102 | 37036 | 34393 | 302745 | 337138 |\n",
       "| non_british_white |  22406 |  2499 |  2694 |  22211 |  24905 |\n",
       "| s_asian           |   7962 |     0 |   893 |   7069 |   7962 |\n",
       "| african           |   6497 |     0 |   847 |   5650 |   6497 |\n",
       "| e_asian           |   1772 |     0 |   187 |   1585 |   1772 |\n",
       "\n"
      ],
      "text/plain": [
       "  population        UKBB   UKBL  w_exome wo_exome n     \n",
       "1 white_british     300102 37036 34393   302745   337138\n",
       "2 non_british_white  22406  2499  2694    22211    24905\n",
       "3 s_asian             7962     0   893     7069     7962\n",
       "4 african             6497     0   847     5650     6497\n",
       "5 e_asian             1772     0   187     1585     1772"
      ]
     },
     "metadata": {},
     "output_type": "display_data"
    }
   ],
   "source": [
    "master_sqc_pop_df %>% show_population_counts()"
   ]
  },
  {
   "cell_type": "markdown",
   "metadata": {},
   "source": [
    "## Step 3) Write the initial population definition to phe files\n",
    "Every time this notebook is run, we should save the new phenotype (`.phe`) files to a new directory that has the date in the name. We have kept the root directory as `/oak/stanford/groups/mrivas/ukbb24983/sqc/` on Sherlock, and the name of the directory as `population_stratification_w24983_YYYYMMDD`.\n",
    "\n",
    "### It is imperative you rename the directory below, OR ELSE ALL THE PREVIOUS FILES GET OVERWRITTEN. I've commented it out in the GitHub version because of this.\n"
   ]
  },
  {
   "cell_type": "markdown",
   "metadata": {},
   "source": [
    "```\n",
    "out_d <- '/oak/stanford/groups/mrivas/ukbb24983/sqc/population_stratification_w24983_20200313'\n",
    "```"
   ]
  },
  {
   "cell_type": "markdown",
   "metadata": {},
   "source": [
    "### This time (version 3.2), we used the popualtion-specific PCA from the previous iteration (20190805). So, we commented out the codes below "
   ]
  },
  {
   "cell_type": "code",
   "execution_count": 16,
   "metadata": {},
   "outputs": [],
   "source": [
    "# for (pop in pops){\n",
    "#     print(pop)\n",
    "    \n",
    "#     master_sqc_pop_df %>% filter(population == pop) %>%\n",
    "#     select(FID, IID) %>% \n",
    "#     fwrite(file.path(out_d, 'before_refinement', paste0('ukb24983_', pop, '.phe')), sep='\\t', col.names = F)    \n",
    "# }\n"
   ]
  },
  {
   "cell_type": "markdown",
   "metadata": {},
   "source": [
    "## Step 4) Run PCA for each population group (except White British)\n",
    "\n",
    "Please check `sample_qc_v3.PCA.sh`"
   ]
  },
  {
   "cell_type": "markdown",
   "metadata": {},
   "source": [
    "## Step 5) Read the results from PCA"
   ]
  },
  {
   "cell_type": "code",
   "execution_count": 17,
   "metadata": {},
   "outputs": [],
   "source": [
    "eigenvec_df <- read_eigenvec(file_names$pop_refinement_pca, pops)\n"
   ]
  },
  {
   "cell_type": "markdown",
   "metadata": {},
   "source": [
    "## Step 6) Population definition refinement based on the local PCs\n",
    "\n",
    "- African: No update\n",
    "- Non-British White: No update\n",
    "- South Asian: filtering out some individuals\n",
    "  - `0.02 <= PC1 <= 0.03`, `-0.05 <= PC2 <= 0.02`\n",
    "- East Asian: filtering out some individuals\n",
    "  - `-0.01 <= PC1 <= 0.02`, `-0.02 <= PC2 <= 0`"
   ]
  },
  {
   "cell_type": "code",
   "execution_count": 18,
   "metadata": {},
   "outputs": [],
   "source": [
    "plot_local_PCs <- list()"
   ]
  },
  {
   "cell_type": "code",
   "execution_count": 19,
   "metadata": {},
   "outputs": [
    {
     "name": "stdout",
     "output_type": "stream",
     "text": [
      "[1] \"Number of individuals: 6498 (before filter) --> 6498 (after filter)\"\n"
     ]
    }
   ],
   "source": [
    "plot_local_PCs[['african']] <- eigenvec_df %>% \n",
    "apply_threshold(\n",
    "    x_axis = 'PC1', y_axis = 'PC2', \n",
    "    pop = 'african', \n",
    "    c(-0.02, 0.05), c(-0.02, 0.06)\n",
    ")\n"
   ]
  },
  {
   "cell_type": "code",
   "execution_count": 20,
   "metadata": {},
   "outputs": [
    {
     "name": "stdout",
     "output_type": "stream",
     "text": [
      "[1] \"Number of individuals: 24909 (before filter) --> 24909 (after filter)\"\n"
     ]
    }
   ],
   "source": [
    "plot_local_PCs[['non_british_white']] <- eigenvec_df %>% \n",
    "apply_threshold(\n",
    "    x_axis = 'PC1', y_axis = 'PC2', \n",
    "    pop = 'non_british_white', \n",
    "    c(-0.03, 0.01), c(-0.01, 0.03)\n",
    ")\n"
   ]
  },
  {
   "cell_type": "code",
   "execution_count": 21,
   "metadata": {},
   "outputs": [
    {
     "name": "stdout",
     "output_type": "stream",
     "text": [
      "[1] \"Number of individuals: 7962 (before filter) --> 7885 (after filter)\"\n"
     ]
    }
   ],
   "source": [
    "plot_local_PCs[['s_asian']] <- eigenvec_df %>% \n",
    "apply_threshold(\n",
    "    x_axis = 'PC1', y_axis = 'PC2',\n",
    "    pop = 's_asian',\n",
    "    c(-0.02, 0.03), c(-0.05, 0.02)\n",
    ")\n"
   ]
  },
  {
   "cell_type": "code",
   "execution_count": 22,
   "metadata": {},
   "outputs": [
    {
     "name": "stdout",
     "output_type": "stream",
     "text": [
      "[1] \"Number of individuals: 1772 (before filter) --> 1154 (after filter)\"\n"
     ]
    }
   ],
   "source": [
    "plot_local_PCs[['e_asian']] <- eigenvec_df %>% \n",
    "apply_threshold(\n",
    "    x_axis = 'PC1', y_axis = 'PC2',\n",
    "    pop = 'e_asian', \n",
    "    c(-0.01, 0.02), c(-0.02, 0)\n",
    ")\n"
   ]
  },
  {
   "cell_type": "markdown",
   "metadata": {},
   "source": [
    "### Save the local PC plots"
   ]
  },
  {
   "cell_type": "code",
   "execution_count": 23,
   "metadata": {},
   "outputs": [
    {
     "name": "stderr",
     "output_type": "stream",
     "text": [
      "Saving 6.67 x 6.67 in image\n",
      "Saving 6.67 x 6.67 in image\n",
      "Saving 6.67 x 6.67 in image\n",
      "Saving 6.67 x 6.67 in image\n"
     ]
    }
   ],
   "source": [
    "# for(ext in c('png', 'pdf')){\n",
    "for(ext in c('png')){\n",
    "    for(pop in (names(plot_local_PCs))){\n",
    "        ggsave(\n",
    "            sprintf('%s.local.PCA.%s.%s', file_names$out_figs_prefix, pop, ext),\n",
    "            plot_local_PCs[[pop]]\n",
    "        )\n",
    "    }    \n",
    "}\n"
   ]
  },
  {
   "cell_type": "markdown",
   "metadata": {},
   "source": [
    "### Refine the population definition"
   ]
  },
  {
   "cell_type": "code",
   "execution_count": 24,
   "metadata": {},
   "outputs": [],
   "source": [
    "master_sqc_pop_ref_df <- master_sqc_pop_df %>% \n",
    "population_def_refinement(eigenvec_df)\n"
   ]
  },
  {
   "cell_type": "markdown",
   "metadata": {},
   "source": [
    "### The number of individuals in each population"
   ]
  },
  {
   "cell_type": "code",
   "execution_count": 25,
   "metadata": {},
   "outputs": [
    {
     "data": {
      "text/html": [
       "<table>\n",
       "<caption>A tibble: 7 × 6</caption>\n",
       "<thead>\n",
       "\t<tr><th scope=col>population</th><th scope=col>UKBB</th><th scope=col>UKBL</th><th scope=col>w_exome</th><th scope=col>wo_exome</th><th scope=col>n</th></tr>\n",
       "\t<tr><th scope=col>&lt;chr&gt;</th><th scope=col>&lt;dbl&gt;</th><th scope=col>&lt;dbl&gt;</th><th scope=col>&lt;dbl&gt;</th><th scope=col>&lt;dbl&gt;</th><th scope=col>&lt;dbl&gt;</th></tr>\n",
       "</thead>\n",
       "<tbody>\n",
       "\t<tr><td>white_british    </td><td>300102</td><td>37036</td><td>34393</td><td>302745</td><td>337138</td></tr>\n",
       "\t<tr><td>non_british_white</td><td> 22406</td><td> 2499</td><td> 2694</td><td> 22211</td><td> 24905</td></tr>\n",
       "\t<tr><td>s_asian          </td><td>  7885</td><td>    0</td><td>  885</td><td>  7000</td><td>  7885</td></tr>\n",
       "\t<tr><td>african          </td><td>  6497</td><td>    0</td><td>  847</td><td>  5650</td><td>  6497</td></tr>\n",
       "\t<tr><td>e_asian          </td><td>  1154</td><td>    0</td><td>  135</td><td>  1019</td><td>  1154</td></tr>\n",
       "\t<tr><td>e_asian_outlier  </td><td>   618</td><td>    0</td><td>   52</td><td>   566</td><td>   618</td></tr>\n",
       "\t<tr><td>s_asian_outlier  </td><td>    77</td><td>    0</td><td>    8</td><td>    69</td><td>    77</td></tr>\n",
       "</tbody>\n",
       "</table>\n"
      ],
      "text/latex": [
       "A tibble: 7 × 6\n",
       "\\begin{tabular}{r|llllll}\n",
       " population & UKBB & UKBL & w\\_exome & wo\\_exome & n\\\\\n",
       " <chr> & <dbl> & <dbl> & <dbl> & <dbl> & <dbl>\\\\\n",
       "\\hline\n",
       "\t white\\_british     & 300102 & 37036 & 34393 & 302745 & 337138\\\\\n",
       "\t non\\_british\\_white &  22406 &  2499 &  2694 &  22211 &  24905\\\\\n",
       "\t s\\_asian           &   7885 &     0 &   885 &   7000 &   7885\\\\\n",
       "\t african           &   6497 &     0 &   847 &   5650 &   6497\\\\\n",
       "\t e\\_asian           &   1154 &     0 &   135 &   1019 &   1154\\\\\n",
       "\t e\\_asian\\_outlier   &    618 &     0 &    52 &    566 &    618\\\\\n",
       "\t s\\_asian\\_outlier   &     77 &     0 &     8 &     69 &     77\\\\\n",
       "\\end{tabular}\n"
      ],
      "text/markdown": [
       "\n",
       "A tibble: 7 × 6\n",
       "\n",
       "| population &lt;chr&gt; | UKBB &lt;dbl&gt; | UKBL &lt;dbl&gt; | w_exome &lt;dbl&gt; | wo_exome &lt;dbl&gt; | n &lt;dbl&gt; |\n",
       "|---|---|---|---|---|---|\n",
       "| white_british     | 300102 | 37036 | 34393 | 302745 | 337138 |\n",
       "| non_british_white |  22406 |  2499 |  2694 |  22211 |  24905 |\n",
       "| s_asian           |   7885 |     0 |   885 |   7000 |   7885 |\n",
       "| african           |   6497 |     0 |   847 |   5650 |   6497 |\n",
       "| e_asian           |   1154 |     0 |   135 |   1019 |   1154 |\n",
       "| e_asian_outlier   |    618 |     0 |    52 |    566 |    618 |\n",
       "| s_asian_outlier   |     77 |     0 |     8 |     69 |     77 |\n",
       "\n"
      ],
      "text/plain": [
       "  population        UKBB   UKBL  w_exome wo_exome n     \n",
       "1 white_british     300102 37036 34393   302745   337138\n",
       "2 non_british_white  22406  2499  2694    22211    24905\n",
       "3 s_asian             7885     0   885     7000     7885\n",
       "4 african             6497     0   847     5650     6497\n",
       "5 e_asian             1154     0   135     1019     1154\n",
       "6 e_asian_outlier      618     0    52      566      618\n",
       "7 s_asian_outlier       77     0     8       69       77"
      ]
     },
     "metadata": {},
     "output_type": "display_data"
    }
   ],
   "source": [
    "master_sqc_pop_ref_df %>% show_population_counts() "
   ]
  },
  {
   "cell_type": "markdown",
   "metadata": {},
   "source": [
    "#### The joint frequency of our population definition and the self-reported ancestry"
   ]
  },
  {
   "cell_type": "code",
   "execution_count": 26,
   "metadata": {},
   "outputs": [
    {
     "data": {
      "text/html": [
       "<table>\n",
       "<caption>A tibble: 5 × 8</caption>\n",
       "<thead>\n",
       "\t<tr><th scope=col>population</th><th scope=col>Asian or Asian British</th><th scope=col>Black or Black British</th><th scope=col>Chinese</th><th scope=col>Do not know</th><th scope=col>Prefer not to answer</th><th scope=col>White</th><th scope=col>&lt;NA&gt;</th></tr>\n",
       "\t<tr><th scope=col>&lt;chr&gt;</th><th scope=col>&lt;dbl&gt;</th><th scope=col>&lt;dbl&gt;</th><th scope=col>&lt;dbl&gt;</th><th scope=col>&lt;dbl&gt;</th><th scope=col>&lt;dbl&gt;</th><th scope=col>&lt;dbl&gt;</th><th scope=col>&lt;dbl&gt;</th></tr>\n",
       "</thead>\n",
       "<tbody>\n",
       "\t<tr><td>african          </td><td>   0</td><td>6305</td><td>   0</td><td> 8</td><td>120</td><td>     0</td><td> 64</td></tr>\n",
       "\t<tr><td>e_asian          </td><td>  22</td><td>   0</td><td>1114</td><td> 1</td><td>  4</td><td>     0</td><td> 13</td></tr>\n",
       "\t<tr><td>non_british_white</td><td>   0</td><td>   0</td><td>   0</td><td> 0</td><td>  0</td><td> 24895</td><td> 10</td></tr>\n",
       "\t<tr><td>s_asian          </td><td>7664</td><td>   0</td><td>   0</td><td>19</td><td> 87</td><td>     0</td><td>115</td></tr>\n",
       "\t<tr><td>white_british    </td><td>   0</td><td>   0</td><td>   0</td><td> 0</td><td>  0</td><td>336995</td><td>143</td></tr>\n",
       "</tbody>\n",
       "</table>\n"
      ],
      "text/latex": [
       "A tibble: 5 × 8\n",
       "\\begin{tabular}{r|llllllll}\n",
       " population & Asian or Asian British & Black or Black British & Chinese & Do not know & Prefer not to answer & White & <NA>\\\\\n",
       " <chr> & <dbl> & <dbl> & <dbl> & <dbl> & <dbl> & <dbl> & <dbl>\\\\\n",
       "\\hline\n",
       "\t african           &    0 & 6305 &    0 &  8 & 120 &      0 &  64\\\\\n",
       "\t e\\_asian           &   22 &    0 & 1114 &  1 &   4 &      0 &  13\\\\\n",
       "\t non\\_british\\_white &    0 &    0 &    0 &  0 &   0 &  24895 &  10\\\\\n",
       "\t s\\_asian           & 7664 &    0 &    0 & 19 &  87 &      0 & 115\\\\\n",
       "\t white\\_british     &    0 &    0 &    0 &  0 &   0 & 336995 & 143\\\\\n",
       "\\end{tabular}\n"
      ],
      "text/markdown": [
       "\n",
       "A tibble: 5 × 8\n",
       "\n",
       "| population &lt;chr&gt; | Asian or Asian British &lt;dbl&gt; | Black or Black British &lt;dbl&gt; | Chinese &lt;dbl&gt; | Do not know &lt;dbl&gt; | Prefer not to answer &lt;dbl&gt; | White &lt;dbl&gt; | &lt;NA&gt; &lt;dbl&gt; |\n",
       "|---|---|---|---|---|---|---|---|\n",
       "| african           |    0 | 6305 |    0 |  8 | 120 |      0 |  64 |\n",
       "| e_asian           |   22 |    0 | 1114 |  1 |   4 |      0 |  13 |\n",
       "| non_british_white |    0 |    0 |    0 |  0 |   0 |  24895 |  10 |\n",
       "| s_asian           | 7664 |    0 |    0 | 19 |  87 |      0 | 115 |\n",
       "| white_british     |    0 |    0 |    0 |  0 |   0 | 336995 | 143 |\n",
       "\n"
      ],
      "text/plain": [
       "  population        Asian or Asian British Black or Black British Chinese\n",
       "1 african              0                   6305                      0   \n",
       "2 e_asian             22                      0                   1114   \n",
       "3 non_british_white    0                      0                      0   \n",
       "4 s_asian           7664                      0                      0   \n",
       "5 white_british        0                      0                      0   \n",
       "  Do not know Prefer not to answer White  <NA>\n",
       "1  8          120                       0  64 \n",
       "2  1            4                       0  13 \n",
       "3  0            0                   24895  10 \n",
       "4 19           87                       0 115 \n",
       "5  0            0                  336995 143 "
      ]
     },
     "metadata": {},
     "output_type": "display_data"
    }
   ],
   "source": [
    "master_sqc_pop_ref_df %>% \n",
    "mutate(\n",
    "    population=if_else(\n",
    "        (\n",
    "            (population == 's_asian_outlier') | \n",
    "            (population == 'e_asian_outlier')\n",
    "        ), '', population\n",
    "    ),\n",
    "    population=na_if(population, '')\n",
    ") %>%\n",
    "drop_na(population) %>%\n",
    "count(population, f21000_top_label) %>% \n",
    "spread(f21000_top_label, n, fill= 0)\n"
   ]
  },
  {
   "cell_type": "markdown",
   "metadata": {},
   "source": [
    "### Plot the global PCs in each population group"
   ]
  },
  {
   "cell_type": "code",
   "execution_count": 27,
   "metadata": {},
   "outputs": [
    {
     "name": "stderr",
     "output_type": "stream",
     "text": [
      "Saving 6.67 x 6.67 in image\n",
      "Saving 6.67 x 6.67 in image\n",
      "Saving 6.67 x 6.67 in image\n",
      "Saving 6.67 x 6.67 in image\n",
      "Saving 6.67 x 6.67 in image\n",
      "Saving 6.67 x 6.67 in image\n",
      "Saving 6.67 x 6.67 in image\n",
      "Saving 6.67 x 6.67 in image\n",
      "Saving 6.67 x 6.67 in image\n"
     ]
    }
   ],
   "source": [
    "# for(ext in c('png', 'pdf')){\n",
    "for(ext in c('png')){    \n",
    "    ggsave(\n",
    "        sprintf('%s.PC1.vs.PC2.%s', file_names$out_figs_prefix, ext),\n",
    "        master_sqc_pop_ref_df %>%\n",
    "        plot_pca_population('PC1', 'PC2') %>%\n",
    "        plot_pca_add_threshold()\n",
    "    )\n",
    "    for(pcx in 2:9){\n",
    "        ggsave(\n",
    "            sprintf('%s.PC%d.vs.PC%d.%s', file_names$out_figs_prefix, pcx, pcx+1, ext),\n",
    "            master_sqc_pop_ref_df %>%\n",
    "            plot_pca_population(sprintf('PC%d', pcx), sprintf('PC%d', pcx+1))\n",
    "        )\n",
    "    }\n",
    "}\n"
   ]
  },
  {
   "cell_type": "markdown",
   "metadata": {},
   "source": [
    "## Step 7) Write the final results to `.phe` files"
   ]
  },
  {
   "cell_type": "code",
   "execution_count": 28,
   "metadata": {},
   "outputs": [
    {
     "name": "stdout",
     "output_type": "stream",
     "text": [
      "[1] \"white_british\"\n",
      "[1] \"e_asian\"\n",
      "[1] \"non_british_white\"\n",
      "[1] \"s_asian\"\n",
      "[1] \"african\"\n"
     ]
    }
   ],
   "source": [
    "for (pop in pops){\n",
    "    print(pop)\n",
    "    \n",
    "    master_sqc_pop_ref_df %>% \n",
    "    filter(population == pop) %>%\n",
    "    select(FID, IID) %>% \n",
    "    fwrite(\n",
    "        file.path(out_d, paste0('ukb24983_', pop, '.phe')), \n",
    "        sep='\\t', col.names = F\n",
    "    )\n",
    "\n",
    "    master_sqc_pop_ref_df %>% \n",
    "    filter(population != pop) %>%\n",
    "    select(FID, IID) %>% \n",
    "    fwrite(\n",
    "        file.path(out_d, paste0('ukb24983_', pop, '.exclude.phe')), \n",
    "        sep='\\t', col.names = F\n",
    "    )    \n",
    "}\n"
   ]
  },
  {
   "cell_type": "markdown",
   "metadata": {},
   "source": [
    "## Step 8) Re-run PCA for the refined population\n",
    "\n",
    "Please check `sample_qc_v3.PCA.sh`"
   ]
  },
  {
   "cell_type": "code",
   "execution_count": 29,
   "metadata": {},
   "outputs": [],
   "source": [
    "pop_specific_pcs_df <- read_eigenvec(file_names$pop_specific_pca, pops)"
   ]
  },
  {
   "cell_type": "markdown",
   "metadata": {},
   "source": [
    "### Plot the local PCs in each population group"
   ]
  },
  {
   "cell_type": "code",
   "execution_count": 30,
   "metadata": {},
   "outputs": [
    {
     "name": "stderr",
     "output_type": "stream",
     "text": [
      "Saving 6.67 x 6.67 in image\n",
      "Saving 6.67 x 6.67 in image\n",
      "Saving 6.67 x 6.67 in image\n",
      "Saving 6.67 x 6.67 in image\n",
      "Saving 6.67 x 6.67 in image\n",
      "Saving 6.67 x 6.67 in image\n",
      "Saving 6.67 x 6.67 in image\n",
      "Saving 6.67 x 6.67 in image\n",
      "Saving 6.67 x 6.67 in image\n"
     ]
    }
   ],
   "source": [
    "# for(ext in c('png', 'pdf')){\n",
    "for(ext in c('png')){    \n",
    "    for(pcx in 1:9){\n",
    "        ggsave(\n",
    "            sprintf('%s.local.PC%d.vs.PC%d.%s', file_names$out_figs_prefix, pcx, pcx+1, ext),            \n",
    "            pop_specific_pcs_df %>% \n",
    "            plot_local_pc(master_sqc_pop_ref_df, sprintf('PC%d', pcx), sprintf('PC%d', pcx+1))            \n",
    "        )\n",
    "    }\n",
    "}\n"
   ]
  },
  {
   "cell_type": "markdown",
   "metadata": {},
   "source": [
    "## Step 9) Prepare GWAS covariate file"
   ]
  },
  {
   "cell_type": "code",
   "execution_count": 31,
   "metadata": {},
   "outputs": [],
   "source": [
    "yob_df <- fread(\n",
    "    cmd=paste(\n",
    "        'cat', \n",
    "        file_names$covar_yob_tab,\n",
    "        '| cut -f1,11'\n",
    "    )\n",
    ") %>%\n",
    "rename(\n",
    "    'IID' = 'f.eid',\n",
    "    'BirthYear' = 'f.34.0.0'\n",
    ")\n"
   ]
  },
  {
   "cell_type": "code",
   "execution_count": 32,
   "metadata": {},
   "outputs": [],
   "source": [
    "CNV_df <- fread(\n",
    "    file_names$covar_CNV_f, select=c('FID', 'IID', 'N_CNV', 'LEN_CNV')\n",
    ")"
   ]
  },
  {
   "cell_type": "code",
   "execution_count": 33,
   "metadata": {},
   "outputs": [],
   "source": [
    "split_df <- lapply(\n",
    "    c('train', 'valid', 'test'),\n",
    "    function(s){\n",
    "        fread(\n",
    "            file.path(\n",
    "                file_names$covar_split_dir, \n",
    "                sprintf('ukb24983_white_british_%s.phe', s)\n",
    "            ), \n",
    "            col.names=c('FID', 'IID')\n",
    "        ) %>%\n",
    "        mutate(split = s)\n",
    "    }\n",
    ") %>%\n",
    "bind_rows() %>%\n",
    "mutate(\n",
    "    split = if_else(split == 'valid', 'val', split)\n",
    ")"
   ]
  },
  {
   "cell_type": "code",
   "execution_count": 34,
   "metadata": {},
   "outputs": [],
   "source": [
    "master_sqc_all <- master_sqc_pop_ref_df %>%\n",
    "left_join(\n",
    "    yob_df, by='IID'\n",
    ") %>%\n",
    "replace_colnames('^PC', 'Global_PC') %>%\n",
    "left_join(\n",
    "    master_sqc_pop_ref_df %>% \n",
    "    select(FID, IID, population, paste0('PC', 1:40)) %>%\n",
    "    filter(population == 'white_british') %>%\n",
    "    bind_rows(pop_specific_pcs_df) %>% \n",
    "    rename('population_before_refinement' = 'population'),\n",
    "    by=c('FID', 'IID')\n",
    ") %>%\n",
    "left_join(\n",
    "    fread(file_names$covar_bmi_f, data.table=F, sep='\\t', col.names=c('FID', 'IID', 'BMI')),\n",
    "    by=c('FID', 'IID')\n",
    ") %>%\n",
    "left_join(\n",
    "    fread(file_names$covar_age_f, data.table=F, sep='\\t'), by='IID'\n",
    ") %>%\n",
    "left_join(\n",
    "    CNV_df,\n",
    "    by=c('FID', 'IID')\n",
    ") %>% \n",
    "rename('sex_str' = 'sex') %>%\n",
    "mutate(\n",
    "    age = if_else(\n",
    "        is.na(BirthYear),\n",
    "        2017 - median(yob_df$BirthYear, na.rm = T),\n",
    "        2017 - BirthYear        \n",
    "    ),\n",
    "    sex   = if_else(sex_str == 'male', 1, if_else(sex_str == 'female', 0, NULL)),\n",
    "    Array = if_else(genotyping_array == 'UKBB', 1, 0)\n",
    ") %>%\n",
    "left_join(\n",
    "    split_df, \n",
    "    by=c('FID', 'IID')\n",
    ")\n"
   ]
  },
  {
   "cell_type": "code",
   "execution_count": 35,
   "metadata": {},
   "outputs": [
    {
     "data": {
      "text/html": [
       "<ol class=list-inline>\n",
       "\t<li>'FID'</li>\n",
       "\t<li>'IID'</li>\n",
       "\t<li>'father'</li>\n",
       "\t<li>'mother'</li>\n",
       "\t<li>'sex_code'</li>\n",
       "\t<li>'batch'</li>\n",
       "\t<li>'sex_str'</li>\n",
       "\t<li>'affymetrix_field_1'</li>\n",
       "\t<li>'affymetrix_field_2'</li>\n",
       "\t<li>'genotyping_array'</li>\n",
       "\t<li>'Batch'</li>\n",
       "\t<li>'Plate_Name'</li>\n",
       "\t<li>'Well'</li>\n",
       "\t<li>'Cluster_CR'</li>\n",
       "\t<li>'dQC'</li>\n",
       "\t<li>'Internal_Pico_ng_uL'</li>\n",
       "\t<li>'Submitted_Gender'</li>\n",
       "\t<li>'Inferred_Gender'</li>\n",
       "\t<li>'X_intensity'</li>\n",
       "\t<li>'Y_intensity'</li>\n",
       "\t<li>'Submitted_Plate_Name'</li>\n",
       "\t<li>'Submitted_Well'</li>\n",
       "\t<li>'sample_qc_missing_rate'</li>\n",
       "\t<li>'heterozygosity'</li>\n",
       "\t<li>'heterozygosity_pc_corrected'</li>\n",
       "\t<li>'het_missing_outliers'</li>\n",
       "\t<li>'putative_sex_chromosome_aneuploidy'</li>\n",
       "\t<li>'in_kinship_table'</li>\n",
       "\t<li>'excluded_from_kinship_inference'</li>\n",
       "\t<li>'excess_relatives'</li>\n",
       "\t<li>'in_white_British_ancestry_subset'</li>\n",
       "\t<li>'used_in_pca_calculation'</li>\n",
       "\t<li>'Global_PC1'</li>\n",
       "\t<li>'Global_PC2'</li>\n",
       "\t<li>'Global_PC3'</li>\n",
       "\t<li>'Global_PC4'</li>\n",
       "\t<li>'Global_PC5'</li>\n",
       "\t<li>'Global_PC6'</li>\n",
       "\t<li>'Global_PC7'</li>\n",
       "\t<li>'Global_PC8'</li>\n",
       "\t<li>'Global_PC9'</li>\n",
       "\t<li>'Global_PC10'</li>\n",
       "\t<li>'Global_PC11'</li>\n",
       "\t<li>'Global_PC12'</li>\n",
       "\t<li>'Global_PC13'</li>\n",
       "\t<li>'Global_PC14'</li>\n",
       "\t<li>'Global_PC15'</li>\n",
       "\t<li>'Global_PC16'</li>\n",
       "\t<li>'Global_PC17'</li>\n",
       "\t<li>'Global_PC18'</li>\n",
       "\t<li>'Global_PC19'</li>\n",
       "\t<li>'Global_PC20'</li>\n",
       "\t<li>'Global_PC21'</li>\n",
       "\t<li>'Global_PC22'</li>\n",
       "\t<li>'Global_PC23'</li>\n",
       "\t<li>'Global_PC24'</li>\n",
       "\t<li>'Global_PC25'</li>\n",
       "\t<li>'Global_PC26'</li>\n",
       "\t<li>'Global_PC27'</li>\n",
       "\t<li>'Global_PC28'</li>\n",
       "\t<li>'Global_PC29'</li>\n",
       "\t<li>'Global_PC30'</li>\n",
       "\t<li>'Global_PC31'</li>\n",
       "\t<li>'Global_PC32'</li>\n",
       "\t<li>'Global_PC33'</li>\n",
       "\t<li>'Global_PC34'</li>\n",
       "\t<li>'Global_PC35'</li>\n",
       "\t<li>'Global_PC36'</li>\n",
       "\t<li>'Global_PC37'</li>\n",
       "\t<li>'Global_PC38'</li>\n",
       "\t<li>'Global_PC39'</li>\n",
       "\t<li>'Global_PC40'</li>\n",
       "\t<li>'in_Phasing_Input_chr1_22'</li>\n",
       "\t<li>'in_Phasing_Input_chrX'</li>\n",
       "\t<li>'in_Phasing_Input_chrXY'</li>\n",
       "\t<li>'fam_order'</li>\n",
       "\t<li>'has_exome'</li>\n",
       "\t<li>'in_remove_file'</li>\n",
       "\t<li>'f21000'</li>\n",
       "\t<li>'f21000_sub_label'</li>\n",
       "\t<li>'f21000_top_label'</li>\n",
       "\t<li>'f21000_0'</li>\n",
       "\t<li>'f21000_1'</li>\n",
       "\t<li>'f21000_2'</li>\n",
       "\t<li>'pass_QC_filter'</li>\n",
       "\t<li>'pass_filter'</li>\n",
       "\t<li>'self_reported_NBW'</li>\n",
       "\t<li>'self_reported_White'</li>\n",
       "\t<li>'self_reported_Asian'</li>\n",
       "\t<li>'self_reported_Black'</li>\n",
       "\t<li>'self_reported_Mixed_or_Other'</li>\n",
       "\t<li>'population'</li>\n",
       "\t<li>'BirthYear'</li>\n",
       "\t<li>'population_before_refinement'</li>\n",
       "\t<li>'PC1'</li>\n",
       "\t<li>'PC2'</li>\n",
       "\t<li>'PC3'</li>\n",
       "\t<li>'PC4'</li>\n",
       "\t<li>'PC5'</li>\n",
       "\t<li>'PC6'</li>\n",
       "\t<li>'PC7'</li>\n",
       "\t<li>'PC8'</li>\n",
       "\t<li>'PC9'</li>\n",
       "\t<li>'PC10'</li>\n",
       "\t<li>'PC11'</li>\n",
       "\t<li>'PC12'</li>\n",
       "\t<li>'PC13'</li>\n",
       "\t<li>'PC14'</li>\n",
       "\t<li>'PC15'</li>\n",
       "\t<li>'PC16'</li>\n",
       "\t<li>'PC17'</li>\n",
       "\t<li>'PC18'</li>\n",
       "\t<li>'PC19'</li>\n",
       "\t<li>'PC20'</li>\n",
       "\t<li>'PC21'</li>\n",
       "\t<li>'PC22'</li>\n",
       "\t<li>'PC23'</li>\n",
       "\t<li>'PC24'</li>\n",
       "\t<li>'PC25'</li>\n",
       "\t<li>'PC26'</li>\n",
       "\t<li>'PC27'</li>\n",
       "\t<li>'PC28'</li>\n",
       "\t<li>'PC29'</li>\n",
       "\t<li>'PC30'</li>\n",
       "\t<li>'PC31'</li>\n",
       "\t<li>'PC32'</li>\n",
       "\t<li>'PC33'</li>\n",
       "\t<li>'PC34'</li>\n",
       "\t<li>'PC35'</li>\n",
       "\t<li>'PC36'</li>\n",
       "\t<li>'PC37'</li>\n",
       "\t<li>'PC38'</li>\n",
       "\t<li>'PC39'</li>\n",
       "\t<li>'PC40'</li>\n",
       "\t<li>'BMI'</li>\n",
       "\t<li>'age0'</li>\n",
       "\t<li>'age1'</li>\n",
       "\t<li>'age2'</li>\n",
       "\t<li>'age3'</li>\n",
       "\t<li>'N_CNV'</li>\n",
       "\t<li>'LEN_CNV'</li>\n",
       "\t<li>'age'</li>\n",
       "\t<li>'sex'</li>\n",
       "\t<li>'Array'</li>\n",
       "\t<li>'split'</li>\n",
       "</ol>\n"
      ],
      "text/latex": [
       "\\begin{enumerate*}\n",
       "\\item 'FID'\n",
       "\\item 'IID'\n",
       "\\item 'father'\n",
       "\\item 'mother'\n",
       "\\item 'sex\\_code'\n",
       "\\item 'batch'\n",
       "\\item 'sex\\_str'\n",
       "\\item 'affymetrix\\_field\\_1'\n",
       "\\item 'affymetrix\\_field\\_2'\n",
       "\\item 'genotyping\\_array'\n",
       "\\item 'Batch'\n",
       "\\item 'Plate\\_Name'\n",
       "\\item 'Well'\n",
       "\\item 'Cluster\\_CR'\n",
       "\\item 'dQC'\n",
       "\\item 'Internal\\_Pico\\_ng\\_uL'\n",
       "\\item 'Submitted\\_Gender'\n",
       "\\item 'Inferred\\_Gender'\n",
       "\\item 'X\\_intensity'\n",
       "\\item 'Y\\_intensity'\n",
       "\\item 'Submitted\\_Plate\\_Name'\n",
       "\\item 'Submitted\\_Well'\n",
       "\\item 'sample\\_qc\\_missing\\_rate'\n",
       "\\item 'heterozygosity'\n",
       "\\item 'heterozygosity\\_pc\\_corrected'\n",
       "\\item 'het\\_missing\\_outliers'\n",
       "\\item 'putative\\_sex\\_chromosome\\_aneuploidy'\n",
       "\\item 'in\\_kinship\\_table'\n",
       "\\item 'excluded\\_from\\_kinship\\_inference'\n",
       "\\item 'excess\\_relatives'\n",
       "\\item 'in\\_white\\_British\\_ancestry\\_subset'\n",
       "\\item 'used\\_in\\_pca\\_calculation'\n",
       "\\item 'Global\\_PC1'\n",
       "\\item 'Global\\_PC2'\n",
       "\\item 'Global\\_PC3'\n",
       "\\item 'Global\\_PC4'\n",
       "\\item 'Global\\_PC5'\n",
       "\\item 'Global\\_PC6'\n",
       "\\item 'Global\\_PC7'\n",
       "\\item 'Global\\_PC8'\n",
       "\\item 'Global\\_PC9'\n",
       "\\item 'Global\\_PC10'\n",
       "\\item 'Global\\_PC11'\n",
       "\\item 'Global\\_PC12'\n",
       "\\item 'Global\\_PC13'\n",
       "\\item 'Global\\_PC14'\n",
       "\\item 'Global\\_PC15'\n",
       "\\item 'Global\\_PC16'\n",
       "\\item 'Global\\_PC17'\n",
       "\\item 'Global\\_PC18'\n",
       "\\item 'Global\\_PC19'\n",
       "\\item 'Global\\_PC20'\n",
       "\\item 'Global\\_PC21'\n",
       "\\item 'Global\\_PC22'\n",
       "\\item 'Global\\_PC23'\n",
       "\\item 'Global\\_PC24'\n",
       "\\item 'Global\\_PC25'\n",
       "\\item 'Global\\_PC26'\n",
       "\\item 'Global\\_PC27'\n",
       "\\item 'Global\\_PC28'\n",
       "\\item 'Global\\_PC29'\n",
       "\\item 'Global\\_PC30'\n",
       "\\item 'Global\\_PC31'\n",
       "\\item 'Global\\_PC32'\n",
       "\\item 'Global\\_PC33'\n",
       "\\item 'Global\\_PC34'\n",
       "\\item 'Global\\_PC35'\n",
       "\\item 'Global\\_PC36'\n",
       "\\item 'Global\\_PC37'\n",
       "\\item 'Global\\_PC38'\n",
       "\\item 'Global\\_PC39'\n",
       "\\item 'Global\\_PC40'\n",
       "\\item 'in\\_Phasing\\_Input\\_chr1\\_22'\n",
       "\\item 'in\\_Phasing\\_Input\\_chrX'\n",
       "\\item 'in\\_Phasing\\_Input\\_chrXY'\n",
       "\\item 'fam\\_order'\n",
       "\\item 'has\\_exome'\n",
       "\\item 'in\\_remove\\_file'\n",
       "\\item 'f21000'\n",
       "\\item 'f21000\\_sub\\_label'\n",
       "\\item 'f21000\\_top\\_label'\n",
       "\\item 'f21000\\_0'\n",
       "\\item 'f21000\\_1'\n",
       "\\item 'f21000\\_2'\n",
       "\\item 'pass\\_QC\\_filter'\n",
       "\\item 'pass\\_filter'\n",
       "\\item 'self\\_reported\\_NBW'\n",
       "\\item 'self\\_reported\\_White'\n",
       "\\item 'self\\_reported\\_Asian'\n",
       "\\item 'self\\_reported\\_Black'\n",
       "\\item 'self\\_reported\\_Mixed\\_or\\_Other'\n",
       "\\item 'population'\n",
       "\\item 'BirthYear'\n",
       "\\item 'population\\_before\\_refinement'\n",
       "\\item 'PC1'\n",
       "\\item 'PC2'\n",
       "\\item 'PC3'\n",
       "\\item 'PC4'\n",
       "\\item 'PC5'\n",
       "\\item 'PC6'\n",
       "\\item 'PC7'\n",
       "\\item 'PC8'\n",
       "\\item 'PC9'\n",
       "\\item 'PC10'\n",
       "\\item 'PC11'\n",
       "\\item 'PC12'\n",
       "\\item 'PC13'\n",
       "\\item 'PC14'\n",
       "\\item 'PC15'\n",
       "\\item 'PC16'\n",
       "\\item 'PC17'\n",
       "\\item 'PC18'\n",
       "\\item 'PC19'\n",
       "\\item 'PC20'\n",
       "\\item 'PC21'\n",
       "\\item 'PC22'\n",
       "\\item 'PC23'\n",
       "\\item 'PC24'\n",
       "\\item 'PC25'\n",
       "\\item 'PC26'\n",
       "\\item 'PC27'\n",
       "\\item 'PC28'\n",
       "\\item 'PC29'\n",
       "\\item 'PC30'\n",
       "\\item 'PC31'\n",
       "\\item 'PC32'\n",
       "\\item 'PC33'\n",
       "\\item 'PC34'\n",
       "\\item 'PC35'\n",
       "\\item 'PC36'\n",
       "\\item 'PC37'\n",
       "\\item 'PC38'\n",
       "\\item 'PC39'\n",
       "\\item 'PC40'\n",
       "\\item 'BMI'\n",
       "\\item 'age0'\n",
       "\\item 'age1'\n",
       "\\item 'age2'\n",
       "\\item 'age3'\n",
       "\\item 'N\\_CNV'\n",
       "\\item 'LEN\\_CNV'\n",
       "\\item 'age'\n",
       "\\item 'sex'\n",
       "\\item 'Array'\n",
       "\\item 'split'\n",
       "\\end{enumerate*}\n"
      ],
      "text/markdown": [
       "1. 'FID'\n",
       "2. 'IID'\n",
       "3. 'father'\n",
       "4. 'mother'\n",
       "5. 'sex_code'\n",
       "6. 'batch'\n",
       "7. 'sex_str'\n",
       "8. 'affymetrix_field_1'\n",
       "9. 'affymetrix_field_2'\n",
       "10. 'genotyping_array'\n",
       "11. 'Batch'\n",
       "12. 'Plate_Name'\n",
       "13. 'Well'\n",
       "14. 'Cluster_CR'\n",
       "15. 'dQC'\n",
       "16. 'Internal_Pico_ng_uL'\n",
       "17. 'Submitted_Gender'\n",
       "18. 'Inferred_Gender'\n",
       "19. 'X_intensity'\n",
       "20. 'Y_intensity'\n",
       "21. 'Submitted_Plate_Name'\n",
       "22. 'Submitted_Well'\n",
       "23. 'sample_qc_missing_rate'\n",
       "24. 'heterozygosity'\n",
       "25. 'heterozygosity_pc_corrected'\n",
       "26. 'het_missing_outliers'\n",
       "27. 'putative_sex_chromosome_aneuploidy'\n",
       "28. 'in_kinship_table'\n",
       "29. 'excluded_from_kinship_inference'\n",
       "30. 'excess_relatives'\n",
       "31. 'in_white_British_ancestry_subset'\n",
       "32. 'used_in_pca_calculation'\n",
       "33. 'Global_PC1'\n",
       "34. 'Global_PC2'\n",
       "35. 'Global_PC3'\n",
       "36. 'Global_PC4'\n",
       "37. 'Global_PC5'\n",
       "38. 'Global_PC6'\n",
       "39. 'Global_PC7'\n",
       "40. 'Global_PC8'\n",
       "41. 'Global_PC9'\n",
       "42. 'Global_PC10'\n",
       "43. 'Global_PC11'\n",
       "44. 'Global_PC12'\n",
       "45. 'Global_PC13'\n",
       "46. 'Global_PC14'\n",
       "47. 'Global_PC15'\n",
       "48. 'Global_PC16'\n",
       "49. 'Global_PC17'\n",
       "50. 'Global_PC18'\n",
       "51. 'Global_PC19'\n",
       "52. 'Global_PC20'\n",
       "53. 'Global_PC21'\n",
       "54. 'Global_PC22'\n",
       "55. 'Global_PC23'\n",
       "56. 'Global_PC24'\n",
       "57. 'Global_PC25'\n",
       "58. 'Global_PC26'\n",
       "59. 'Global_PC27'\n",
       "60. 'Global_PC28'\n",
       "61. 'Global_PC29'\n",
       "62. 'Global_PC30'\n",
       "63. 'Global_PC31'\n",
       "64. 'Global_PC32'\n",
       "65. 'Global_PC33'\n",
       "66. 'Global_PC34'\n",
       "67. 'Global_PC35'\n",
       "68. 'Global_PC36'\n",
       "69. 'Global_PC37'\n",
       "70. 'Global_PC38'\n",
       "71. 'Global_PC39'\n",
       "72. 'Global_PC40'\n",
       "73. 'in_Phasing_Input_chr1_22'\n",
       "74. 'in_Phasing_Input_chrX'\n",
       "75. 'in_Phasing_Input_chrXY'\n",
       "76. 'fam_order'\n",
       "77. 'has_exome'\n",
       "78. 'in_remove_file'\n",
       "79. 'f21000'\n",
       "80. 'f21000_sub_label'\n",
       "81. 'f21000_top_label'\n",
       "82. 'f21000_0'\n",
       "83. 'f21000_1'\n",
       "84. 'f21000_2'\n",
       "85. 'pass_QC_filter'\n",
       "86. 'pass_filter'\n",
       "87. 'self_reported_NBW'\n",
       "88. 'self_reported_White'\n",
       "89. 'self_reported_Asian'\n",
       "90. 'self_reported_Black'\n",
       "91. 'self_reported_Mixed_or_Other'\n",
       "92. 'population'\n",
       "93. 'BirthYear'\n",
       "94. 'population_before_refinement'\n",
       "95. 'PC1'\n",
       "96. 'PC2'\n",
       "97. 'PC3'\n",
       "98. 'PC4'\n",
       "99. 'PC5'\n",
       "100. 'PC6'\n",
       "101. 'PC7'\n",
       "102. 'PC8'\n",
       "103. 'PC9'\n",
       "104. 'PC10'\n",
       "105. 'PC11'\n",
       "106. 'PC12'\n",
       "107. 'PC13'\n",
       "108. 'PC14'\n",
       "109. 'PC15'\n",
       "110. 'PC16'\n",
       "111. 'PC17'\n",
       "112. 'PC18'\n",
       "113. 'PC19'\n",
       "114. 'PC20'\n",
       "115. 'PC21'\n",
       "116. 'PC22'\n",
       "117. 'PC23'\n",
       "118. 'PC24'\n",
       "119. 'PC25'\n",
       "120. 'PC26'\n",
       "121. 'PC27'\n",
       "122. 'PC28'\n",
       "123. 'PC29'\n",
       "124. 'PC30'\n",
       "125. 'PC31'\n",
       "126. 'PC32'\n",
       "127. 'PC33'\n",
       "128. 'PC34'\n",
       "129. 'PC35'\n",
       "130. 'PC36'\n",
       "131. 'PC37'\n",
       "132. 'PC38'\n",
       "133. 'PC39'\n",
       "134. 'PC40'\n",
       "135. 'BMI'\n",
       "136. 'age0'\n",
       "137. 'age1'\n",
       "138. 'age2'\n",
       "139. 'age3'\n",
       "140. 'N_CNV'\n",
       "141. 'LEN_CNV'\n",
       "142. 'age'\n",
       "143. 'sex'\n",
       "144. 'Array'\n",
       "145. 'split'\n",
       "\n",
       "\n"
      ],
      "text/plain": [
       "  [1] \"FID\"                                \"IID\"                               \n",
       "  [3] \"father\"                             \"mother\"                            \n",
       "  [5] \"sex_code\"                           \"batch\"                             \n",
       "  [7] \"sex_str\"                            \"affymetrix_field_1\"                \n",
       "  [9] \"affymetrix_field_2\"                 \"genotyping_array\"                  \n",
       " [11] \"Batch\"                              \"Plate_Name\"                        \n",
       " [13] \"Well\"                               \"Cluster_CR\"                        \n",
       " [15] \"dQC\"                                \"Internal_Pico_ng_uL\"               \n",
       " [17] \"Submitted_Gender\"                   \"Inferred_Gender\"                   \n",
       " [19] \"X_intensity\"                        \"Y_intensity\"                       \n",
       " [21] \"Submitted_Plate_Name\"               \"Submitted_Well\"                    \n",
       " [23] \"sample_qc_missing_rate\"             \"heterozygosity\"                    \n",
       " [25] \"heterozygosity_pc_corrected\"        \"het_missing_outliers\"              \n",
       " [27] \"putative_sex_chromosome_aneuploidy\" \"in_kinship_table\"                  \n",
       " [29] \"excluded_from_kinship_inference\"    \"excess_relatives\"                  \n",
       " [31] \"in_white_British_ancestry_subset\"   \"used_in_pca_calculation\"           \n",
       " [33] \"Global_PC1\"                         \"Global_PC2\"                        \n",
       " [35] \"Global_PC3\"                         \"Global_PC4\"                        \n",
       " [37] \"Global_PC5\"                         \"Global_PC6\"                        \n",
       " [39] \"Global_PC7\"                         \"Global_PC8\"                        \n",
       " [41] \"Global_PC9\"                         \"Global_PC10\"                       \n",
       " [43] \"Global_PC11\"                        \"Global_PC12\"                       \n",
       " [45] \"Global_PC13\"                        \"Global_PC14\"                       \n",
       " [47] \"Global_PC15\"                        \"Global_PC16\"                       \n",
       " [49] \"Global_PC17\"                        \"Global_PC18\"                       \n",
       " [51] \"Global_PC19\"                        \"Global_PC20\"                       \n",
       " [53] \"Global_PC21\"                        \"Global_PC22\"                       \n",
       " [55] \"Global_PC23\"                        \"Global_PC24\"                       \n",
       " [57] \"Global_PC25\"                        \"Global_PC26\"                       \n",
       " [59] \"Global_PC27\"                        \"Global_PC28\"                       \n",
       " [61] \"Global_PC29\"                        \"Global_PC30\"                       \n",
       " [63] \"Global_PC31\"                        \"Global_PC32\"                       \n",
       " [65] \"Global_PC33\"                        \"Global_PC34\"                       \n",
       " [67] \"Global_PC35\"                        \"Global_PC36\"                       \n",
       " [69] \"Global_PC37\"                        \"Global_PC38\"                       \n",
       " [71] \"Global_PC39\"                        \"Global_PC40\"                       \n",
       " [73] \"in_Phasing_Input_chr1_22\"           \"in_Phasing_Input_chrX\"             \n",
       " [75] \"in_Phasing_Input_chrXY\"             \"fam_order\"                         \n",
       " [77] \"has_exome\"                          \"in_remove_file\"                    \n",
       " [79] \"f21000\"                             \"f21000_sub_label\"                  \n",
       " [81] \"f21000_top_label\"                   \"f21000_0\"                          \n",
       " [83] \"f21000_1\"                           \"f21000_2\"                          \n",
       " [85] \"pass_QC_filter\"                     \"pass_filter\"                       \n",
       " [87] \"self_reported_NBW\"                  \"self_reported_White\"               \n",
       " [89] \"self_reported_Asian\"                \"self_reported_Black\"               \n",
       " [91] \"self_reported_Mixed_or_Other\"       \"population\"                        \n",
       " [93] \"BirthYear\"                          \"population_before_refinement\"      \n",
       " [95] \"PC1\"                                \"PC2\"                               \n",
       " [97] \"PC3\"                                \"PC4\"                               \n",
       " [99] \"PC5\"                                \"PC6\"                               \n",
       "[101] \"PC7\"                                \"PC8\"                               \n",
       "[103] \"PC9\"                                \"PC10\"                              \n",
       "[105] \"PC11\"                               \"PC12\"                              \n",
       "[107] \"PC13\"                               \"PC14\"                              \n",
       "[109] \"PC15\"                               \"PC16\"                              \n",
       "[111] \"PC17\"                               \"PC18\"                              \n",
       "[113] \"PC19\"                               \"PC20\"                              \n",
       "[115] \"PC21\"                               \"PC22\"                              \n",
       "[117] \"PC23\"                               \"PC24\"                              \n",
       "[119] \"PC25\"                               \"PC26\"                              \n",
       "[121] \"PC27\"                               \"PC28\"                              \n",
       "[123] \"PC29\"                               \"PC30\"                              \n",
       "[125] \"PC31\"                               \"PC32\"                              \n",
       "[127] \"PC33\"                               \"PC34\"                              \n",
       "[129] \"PC35\"                               \"PC36\"                              \n",
       "[131] \"PC37\"                               \"PC38\"                              \n",
       "[133] \"PC39\"                               \"PC40\"                              \n",
       "[135] \"BMI\"                                \"age0\"                              \n",
       "[137] \"age1\"                               \"age2\"                              \n",
       "[139] \"age3\"                               \"N_CNV\"                             \n",
       "[141] \"LEN_CNV\"                            \"age\"                               \n",
       "[143] \"sex\"                                \"Array\"                             \n",
       "[145] \"split\"                             "
      ]
     },
     "metadata": {},
     "output_type": "display_data"
    }
   ],
   "source": [
    "master_sqc_all %>% \n",
    "colnames()\n"
   ]
  },
  {
   "cell_type": "code",
   "execution_count": 36,
   "metadata": {},
   "outputs": [],
   "source": [
    "master_sqc_all %>% \n",
    "fwrite(file.path(out_d, 'ukb24983_master_sqc.20200313.phe'), sep='\\t', na = \"NA\", quote=F)\n"
   ]
  },
  {
   "cell_type": "code",
   "execution_count": 37,
   "metadata": {},
   "outputs": [],
   "source": [
    "GWAS_covar_df <- master_sqc_all %>% \n",
    "select(\n",
    "    FID, IID, \n",
    "    population, split, \n",
    "    age, age0, age1, age2, age3, \n",
    "    sex, BMI, N_CNV, LEN_CNV, \n",
    "    Array, paste0('PC', 1:40), paste0('Global_PC', 1:40)\n",
    ")"
   ]
  },
  {
   "cell_type": "code",
   "execution_count": 38,
   "metadata": {},
   "outputs": [],
   "source": [
    "GWAS_covar_df %>% \n",
    "fwrite(file.path(out_d, 'ukb24983_GWAS_covar.20200313.phe'), sep='\\t', na = \"NA\", quote=F)\n"
   ]
  },
  {
   "cell_type": "code",
   "execution_count": null,
   "metadata": {},
   "outputs": [],
   "source": []
  }
 ],
 "metadata": {
  "kernelspec": {
   "display_name": "R",
   "language": "R",
   "name": "ir"
  },
  "language_info": {
   "codemirror_mode": "r",
   "file_extension": ".r",
   "mimetype": "text/x-r-source",
   "name": "R",
   "pygments_lexer": "r",
   "version": "3.6.1"
  }
 },
 "nbformat": 4,
 "nbformat_minor": 4
}
