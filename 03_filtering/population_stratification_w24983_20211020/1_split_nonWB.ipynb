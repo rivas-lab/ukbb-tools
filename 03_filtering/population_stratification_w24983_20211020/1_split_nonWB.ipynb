{
 "cells": [
  {
   "cell_type": "code",
   "execution_count": 1,
   "id": "organizational-robertson",
   "metadata": {},
   "outputs": [],
   "source": [
    "import os, collections, itertools\n",
    "\n",
    "import numpy as np\n",
    "import pandas as pd\n"
   ]
  },
  {
   "cell_type": "code",
   "execution_count": 2,
   "id": "twenty-crowd",
   "metadata": {},
   "outputs": [],
   "source": [
    "pop_def_d = os.path.join(\n",
    "    '/oak/stanford/groups/mrivas/ukbb24983/sqc'\n",
    ")\n",
    "\n",
    "# input\n",
    "GWAS_covar_f = os.path.join(\n",
    "    pop_def_d,\n",
    "    'population_stratification_w24983_20200828',\n",
    "    'ukb24983_GWAS_covar.20200828.phe'\n",
    ")\n",
    "\n",
    "# output\n",
    "GWAS_covar_nonWBsplit_f = os.path.join(\n",
    "    pop_def_d,\n",
    "    'population_stratification_w24983_20211020',\n",
    "    'ukb24983_GWAS_covar.20211020.phe'\n",
    ")\n"
   ]
  },
  {
   "cell_type": "code",
   "execution_count": 3,
   "id": "resistant-disease",
   "metadata": {},
   "outputs": [],
   "source": [
    "def train_val_test_split(n_individuals, rg, split_ratio={'train':.7, 'val':.1, 'test':.2}):\n",
    "    assert np.sum(np.array([x for x in split_ratio.values()])) == 1\n",
    "    indiv_idx = np.arange(n_individuals)\n",
    "    rg.shuffle(indiv_idx)\n",
    "    train_idx = int(n_individuals * split_ratio['train'])\n",
    "    train_val_idx = int(n_individuals * (split_ratio['train'] + split_ratio['val']))\n",
    "    train = indiv_idx[:train_idx]\n",
    "    val   = indiv_idx[train_idx:train_val_idx]\n",
    "    test  = indiv_idx[train_val_idx:]\n",
    "    assert np.sum([len(train), len(val), len(test)]) == n_individuals\n",
    "    return train,val,test\n"
   ]
  },
  {
   "cell_type": "code",
   "execution_count": 4,
   "id": "removable-massage",
   "metadata": {},
   "outputs": [],
   "source": [
    "# read input file\n",
    "GWAS_covar_df = pd.read_csv(GWAS_covar_f, sep='\\t')\n"
   ]
  },
  {
   "cell_type": "code",
   "execution_count": 5,
   "id": "brazilian-ambassador",
   "metadata": {},
   "outputs": [],
   "source": [
    "# fix seed\n",
    "# https://numpy.org/neps/nep-0019-rng-policy.html\n",
    "bg = np.random.MT19937(20211020)\n",
    "rg = np.random.Generator(bg)\n",
    "\n",
    "split_dict = collections.defaultdict(set)\n",
    "nonWB_pops = ['non_british_white', 'african', 's_asian', 'e_asian', 'related', 'others']\n"
   ]
  },
  {
   "cell_type": "code",
   "execution_count": 6,
   "id": "received-homeless",
   "metadata": {},
   "outputs": [],
   "source": [
    "# split non-WB pops into train/val/test = 0.7/0.1/0.2\n",
    "for pop in nonWB_pops:\n",
    "    filtered_df = GWAS_covar_df.loc[GWAS_covar_df['population'] == pop, ]\n",
    "    train,val,test = train_val_test_split(filtered_df.shape[0], rg)\n",
    "\n",
    "    train_IIDs = set(filtered_df.iloc[train, np.in1d(filtered_df.columns, ['IID'])].values.flatten())\n",
    "    val_IIDs   = set(filtered_df.iloc[val,   np.in1d(filtered_df.columns, ['IID'])].values.flatten())\n",
    "    test_IIDs  = set(filtered_df.iloc[test,  np.in1d(filtered_df.columns, ['IID'])].values.flatten())\n",
    "\n",
    "    split_dict['train'].update(set(train_IIDs))\n",
    "    split_dict['val'  ].update(set(val_IIDs))\n",
    "    split_dict['test' ].update(set(test_IIDs))\n"
   ]
  },
  {
   "cell_type": "code",
   "execution_count": 7,
   "id": "placed-synthetic",
   "metadata": {},
   "outputs": [],
   "source": [
    "# create a new column\n",
    "GWAS_covar_df['split_nonWB'] = GWAS_covar_df['IID'].map(\n",
    "    lambda iid: (\n",
    "        'train' if iid in split_dict['train'] else (\n",
    "            'val' if iid in split_dict['val'] else (\n",
    "                'test' if iid in split_dict['test'] else 'NA'\n",
    "            )\n",
    "        )\n",
    "    )\n",
    ")\n"
   ]
  },
  {
   "cell_type": "code",
   "execution_count": 8,
   "id": "seeing-province",
   "metadata": {},
   "outputs": [
    {
     "data": {
      "text/plain": [
       "population         split_nonWB\n",
       "DO_NOT_PASS_SQC    NA               1931\n",
       "african            test             1300\n",
       "                   train            4547\n",
       "                   val               650\n",
       "e_asian            test              341\n",
       "                   train            1192\n",
       "                   val               171\n",
       "non_british_white  test             4981\n",
       "                   train           17433\n",
       "                   val              2491\n",
       "others             test             5732\n",
       "                   train           20059\n",
       "                   val              2865\n",
       "related            test             8927\n",
       "                   train           31242\n",
       "                   val              4463\n",
       "s_asian            test             1567\n",
       "                   train            5481\n",
       "                   val               783\n",
       "white_british      NA             337129\n",
       "dtype: int64"
      ]
     },
     "execution_count": 8,
     "metadata": {},
     "output_type": "execute_result"
    }
   ],
   "source": [
    "# check the results\n",
    "GWAS_covar_df.groupby(['population', 'split_nonWB']).size()"
   ]
  },
  {
   "cell_type": "code",
   "execution_count": 9,
   "id": "dental-dressing",
   "metadata": {},
   "outputs": [],
   "source": [
    "# write to a file\n",
    "out_cols = [x for x in itertools.chain(*[GWAS_covar_df.columns[:4], ['split_nonWB'], GWAS_covar_df.columns[4:-1]])]\n",
    "GWAS_covar_df[out_cols].to_csv(GWAS_covar_nonWBsplit_f, sep='\\t', index=False)\n"
   ]
  },
  {
   "cell_type": "code",
   "execution_count": 10,
   "id": "civilian-malaysia",
   "metadata": {},
   "outputs": [
    {
     "data": {
      "text/plain": [
       "'/oak/stanford/groups/mrivas/ukbb24983/sqc/population_stratification_w24983_20200828/ukb24983_GWAS_covar.20200828.nonWBsplit.20211020.phe'"
      ]
     },
     "execution_count": 10,
     "metadata": {},
     "output_type": "execute_result"
    }
   ],
   "source": [
    "GWAS_covar_nonWBsplit_f\n"
   ]
  },
  {
   "cell_type": "code",
   "execution_count": null,
   "id": "forbidden-spelling",
   "metadata": {},
   "outputs": [],
   "source": []
  }
 ],
 "metadata": {
  "kernelspec": {
   "display_name": "Python 3",
   "language": "python",
   "name": "python3"
  },
  "language_info": {
   "codemirror_mode": {
    "name": "ipython",
    "version": 3
   },
   "file_extension": ".py",
   "mimetype": "text/x-python",
   "name": "python",
   "nbconvert_exporter": "python",
   "pygments_lexer": "ipython3",
   "version": "3.7.9"
  }
 },
 "nbformat": 4,
 "nbformat_minor": 5
}
