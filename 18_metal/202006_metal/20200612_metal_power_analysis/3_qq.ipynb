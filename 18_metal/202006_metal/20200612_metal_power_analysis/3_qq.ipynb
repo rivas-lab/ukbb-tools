{
 "cells": [
  {
   "cell_type": "code",
   "execution_count": 1,
   "metadata": {},
   "outputs": [],
   "source": [
    "suppressWarnings(suppressPackageStartupMessages({\n",
    "    library(tidyverse)\n",
    "    library(data.table)\n",
    "    library(latex2exp)\n",
    "}))\n"
   ]
  },
  {
   "cell_type": "code",
   "execution_count": 29,
   "metadata": {},
   "outputs": [],
   "source": [
    "# input\n",
    "\n",
    "sumstats_f <- 'INI50.lst'\n",
    "var_anno_cal_f <- '/oak/stanford/groups/mrivas/ukbb24983/cal/variant_filter_table.tsv.gz'\n",
    "metal_f <- '/oak/stanford/groups/mrivas/users/ytanigaw/sandbox/20200612_metal_power_analysis/INI50.%s.metal.tsv.gz'\n"
   ]
  },
  {
   "cell_type": "code",
   "execution_count": 12,
   "metadata": {},
   "outputs": [],
   "source": [
    "sumstats_list <- fread(sumstats_f, head=F, sep='\\t') %>% pull()\n",
    "sumstats_list <- setNames(\n",
    "    sumstats_list[1:7],\n",
    "    c('WB','NBW','Afr','SA','EA','rel','others')\n",
    ")\n"
   ]
  },
  {
   "cell_type": "code",
   "execution_count": 4,
   "metadata": {},
   "outputs": [],
   "source": [
    "fread(var_anno_cal_f, colClasses=c('CHROM'='character')) %>%\n",
    "filter(ld_indep) %>% pull(ID) -> ld_indep_lst\n"
   ]
  },
  {
   "cell_type": "code",
   "execution_count": 24,
   "metadata": {},
   "outputs": [],
   "source": [
    "read_ld_indep_vars <- function(in_f, ld_indep_lst){\n",
    "    in_f %>%\n",
    "    fread(colClasses=c('#CHROM'='character')) %>%\n",
    "    rename('CHROM'='#CHROM') %>%\n",
    "    filter(ID %in% ld_indep_lst) -> df    \n",
    "    if('ERRCODE' %in% colnames(df)){\n",
    "        df %>% filter(is.na(ERRCODE) |  ERRCODE=='.') -> df\n",
    "    }\n",
    "    df %>%\n",
    "    select(CHROM, POS, ID, BETA, SE, P)\n",
    "}\n"
   ]
  },
  {
   "cell_type": "code",
   "execution_count": 7,
   "metadata": {},
   "outputs": [],
   "source": [
    "qq_plot <- function(df){\n",
    "    df %>%\n",
    "    mutate(log10P = -log10(as.numeric(P))) %>% \n",
    "    arrange(-log10P) %>% drop_na(log10P) %>% pull(log10P) -> qq_p_obs\n",
    "    \n",
    "    -(qq_p_obs %>% length() %>% ppoints() %>% log10()) -> qq_p_exp\n",
    "    \n",
    "    p <- data.frame(\n",
    "        Observed = qq_p_obs,\n",
    "        Expected = qq_p_exp\n",
    "    ) %>% ggplot(aes(x = Expected, y = Observed)) + geom_point() + \n",
    "    geom_abline(slope=1, intercept=0, color='red') + \n",
    "    theme_bw() + \n",
    "    labs(\n",
    "        y = TeX('Observed $-\\\\log_{10}(P)$'),\n",
    "        x = TeX('Expected $-\\\\log_{10}(P)$')\n",
    "    )    \n",
    "}\n"
   ]
  },
  {
   "cell_type": "code",
   "execution_count": 25,
   "metadata": {},
   "outputs": [],
   "source": [
    "plots <- list()\n",
    "for(pop in names(sumstats_list)){\n",
    "    sumstats_list[[ pop ]] %>% \n",
    "    read_ld_indep_vars(ld_indep_lst) %>% \n",
    "    qq_plot() -> plots[[ pop ]] \n",
    "}\n"
   ]
  },
  {
   "cell_type": "code",
   "execution_count": 19,
   "metadata": {},
   "outputs": [
    {
     "name": "stderr",
     "output_type": "stream",
     "text": [
      "Saving 6.67 x 6.67 in image\n"
     ]
    }
   ],
   "source": [
    "ggsave('3_qq_WB.png', plots[['WB']] + labs(title = 'GWAS Q-Q plot for WB, Standing height (INI50)'))\n"
   ]
  },
  {
   "cell_type": "code",
   "execution_count": 18,
   "metadata": {},
   "outputs": [
    {
     "data": {
      "text/html": [
       "<style>\n",
       ".list-inline {list-style: none; margin:0; padding: 0}\n",
       ".list-inline>li {display: inline-block}\n",
       ".list-inline>li:not(:last-child)::after {content: \"\\00b7\"; padding: 0 .5ex}\n",
       "</style>\n",
       "<ol class=list-inline><li>'WB'</li><li>'NBW'</li><li>'Afr'</li><li>'SA'</li><li>'EA'</li><li>'rel'</li><li>'others'</li></ol>\n"
      ],
      "text/latex": [
       "\\begin{enumerate*}\n",
       "\\item 'WB'\n",
       "\\item 'NBW'\n",
       "\\item 'Afr'\n",
       "\\item 'SA'\n",
       "\\item 'EA'\n",
       "\\item 'rel'\n",
       "\\item 'others'\n",
       "\\end{enumerate*}\n"
      ],
      "text/markdown": [
       "1. 'WB'\n",
       "2. 'NBW'\n",
       "3. 'Afr'\n",
       "4. 'SA'\n",
       "5. 'EA'\n",
       "6. 'rel'\n",
       "7. 'others'\n",
       "\n",
       "\n"
      ],
      "text/plain": [
       "[1] \"WB\"     \"NBW\"    \"Afr\"    \"SA\"     \"EA\"     \"rel\"    \"others\""
      ]
     },
     "metadata": {},
     "output_type": "display_data"
    }
   ],
   "source": [
    "names(sumstats_list)"
   ]
  },
  {
   "cell_type": "code",
   "execution_count": 27,
   "metadata": {},
   "outputs": [],
   "source": [
    "g <- gridExtra::arrangeGrob(\n",
    "    plots[['NBW']] + labs(title = 'GWAS Q-Q plot for NBW, INI50'),\n",
    "    plots[['Afr']] + labs(title = 'GWAS Q-Q plot for African, INI50'),\n",
    "    plots[['SA']]  + labs(title = 'GWAS Q-Q plot for South Asian, INI50'),\n",
    "    plots[['EA']]  + labs(title = 'GWAS Q-Q plot for East Asian, INI50'),\n",
    "    plots[['others']]  + labs(title = 'GWAS Q-Q plot for others, INI50'),\n",
    "    plots[['rel']]  + labs(title = 'GWAS Q-Q plot for semi-related, INI50'),\n",
    "    ncol=3\n",
    ")\n"
   ]
  },
  {
   "cell_type": "code",
   "execution_count": 28,
   "metadata": {},
   "outputs": [],
   "source": [
    "ggsave('3_qq.png', g, width=12, height=8)\n"
   ]
  },
  {
   "cell_type": "code",
   "execution_count": 30,
   "metadata": {},
   "outputs": [],
   "source": [
    "sprintf(metal_f, '7pops') %>%\n",
    "read_ld_indep_vars(ld_indep_lst) %>% \n",
    "qq_plot() -> p_Metal\n"
   ]
  },
  {
   "cell_type": "code",
   "execution_count": 32,
   "metadata": {},
   "outputs": [
    {
     "name": "stderr",
     "output_type": "stream",
     "text": [
      "Saving 6.67 x 6.67 in image\n"
     ]
    }
   ],
   "source": [
    "ggsave('3_qq_Metal_7pops.png', p_Metal + labs(title = 'Meta-analysis GWAS (7 pops) Q-Q plot, Standing height (INI50)'))\n"
   ]
  },
  {
   "cell_type": "code",
   "execution_count": null,
   "metadata": {},
   "outputs": [],
   "source": []
  }
 ],
 "metadata": {
  "kernelspec": {
   "display_name": "R",
   "language": "R",
   "name": "ir"
  },
  "language_info": {
   "codemirror_mode": "r",
   "file_extension": ".r",
   "mimetype": "text/x-r-source",
   "name": "R",
   "pygments_lexer": "r",
   "version": "3.6.1"
  }
 },
 "nbformat": 4,
 "nbformat_minor": 4
}
