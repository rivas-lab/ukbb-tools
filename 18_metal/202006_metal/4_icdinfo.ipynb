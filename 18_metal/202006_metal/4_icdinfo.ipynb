{
 "cells": [
  {
   "cell_type": "code",
   "execution_count": 1,
   "metadata": {},
   "outputs": [],
   "source": [
    "suppressWarnings(suppressPackageStartupMessages({\n",
    "    library(tidyverse)\n",
    "    library(data.table)\n",
    "}))\n"
   ]
  },
  {
   "cell_type": "code",
   "execution_count": 2,
   "metadata": {},
   "outputs": [],
   "source": [
    "metal_files_list_f <- 'metal_input_pops.tsv'\n",
    "phe_info_f <- '../../05_gbe/phenotype_info.tsv'\n",
    "out_f <- 'icdinfo.metal.20200717.txt'\n"
   ]
  },
  {
   "cell_type": "code",
   "execution_count": 3,
   "metadata": {},
   "outputs": [],
   "source": [
    "metal_files_list_f %>%\n",
    "fread() %>%\n",
    "rename('GBE_ID'='#GBE_ID') ->\n",
    "metal_files_list_df\n"
   ]
  },
  {
   "cell_type": "code",
   "execution_count": 4,
   "metadata": {},
   "outputs": [],
   "source": [
    "phe_info_f %>% fread() %>% \n",
    "rename('GBE_ID' = '#GBE_ID') -> phe_info_df\n"
   ]
  },
  {
   "cell_type": "code",
   "execution_count": 5,
   "metadata": {},
   "outputs": [],
   "source": [
    "pop_str_df <- data.frame(\n",
    "    pop_str = c('N_GBE', 'N_NBW', 'N_AFR', 'N_SAS', 'N_EAS', 'N_SMR', 'N_OTH'),\n",
    "    pop = c('white_british','non_british_white','african','s_asian','e_asian','related','others')\n",
    ")\n"
   ]
  },
  {
   "cell_type": "code",
   "execution_count": 6,
   "metadata": {},
   "outputs": [
    {
     "data": {
      "text/html": [
       "<table>\n",
       "<caption>A data.frame: 7 × 2</caption>\n",
       "<thead>\n",
       "\t<tr><th scope=col>pop_str</th><th scope=col>pop</th></tr>\n",
       "\t<tr><th scope=col>&lt;fct&gt;</th><th scope=col>&lt;fct&gt;</th></tr>\n",
       "</thead>\n",
       "<tbody>\n",
       "\t<tr><td>N_GBE</td><td>white_british    </td></tr>\n",
       "\t<tr><td>N_NBW</td><td>non_british_white</td></tr>\n",
       "\t<tr><td>N_AFR</td><td>african          </td></tr>\n",
       "\t<tr><td>N_SAS</td><td>s_asian          </td></tr>\n",
       "\t<tr><td>N_EAS</td><td>e_asian          </td></tr>\n",
       "\t<tr><td>N_SMR</td><td>related          </td></tr>\n",
       "\t<tr><td>N_OTH</td><td>others           </td></tr>\n",
       "</tbody>\n",
       "</table>\n"
      ],
      "text/latex": [
       "A data.frame: 7 × 2\n",
       "\\begin{tabular}{ll}\n",
       " pop\\_str & pop\\\\\n",
       " <fct> & <fct>\\\\\n",
       "\\hline\n",
       "\t N\\_GBE & white\\_british    \\\\\n",
       "\t N\\_NBW & non\\_british\\_white\\\\\n",
       "\t N\\_AFR & african          \\\\\n",
       "\t N\\_SAS & s\\_asian          \\\\\n",
       "\t N\\_EAS & e\\_asian          \\\\\n",
       "\t N\\_SMR & related          \\\\\n",
       "\t N\\_OTH & others           \\\\\n",
       "\\end{tabular}\n"
      ],
      "text/markdown": [
       "\n",
       "A data.frame: 7 × 2\n",
       "\n",
       "| pop_str &lt;fct&gt; | pop &lt;fct&gt; |\n",
       "|---|---|\n",
       "| N_GBE | white_british     |\n",
       "| N_NBW | non_british_white |\n",
       "| N_AFR | african           |\n",
       "| N_SAS | s_asian           |\n",
       "| N_EAS | e_asian           |\n",
       "| N_SMR | related           |\n",
       "| N_OTH | others            |\n",
       "\n"
      ],
      "text/plain": [
       "  pop_str pop              \n",
       "1 N_GBE   white_british    \n",
       "2 N_NBW   non_british_white\n",
       "3 N_AFR   african          \n",
       "4 N_SAS   s_asian          \n",
       "5 N_EAS   e_asian          \n",
       "6 N_SMR   related          \n",
       "7 N_OTH   others           "
      ]
     },
     "metadata": {},
     "output_type": "display_data"
    }
   ],
   "source": [
    "pop_str_df"
   ]
  },
  {
   "cell_type": "code",
   "execution_count": 7,
   "metadata": {},
   "outputs": [
    {
     "name": "stderr",
     "output_type": "stream",
     "text": [
      "`summarise()` ungrouping output (override with `.groups` argument)\n",
      "\n"
     ]
    }
   ],
   "source": [
    "phe_info_df %>% \n",
    "select(\n",
    "    GBE_ID, N_GBE, N_NBW, N_AFR, N_EAS, N_SAS, N_SMR, N_OTH\n",
    ") %>%\n",
    "gather(pop_str, N, -GBE_ID) %>%\n",
    "left_join(pop_str_df, by='pop_str') %>%\n",
    "select(-pop_str) %>%\n",
    "inner_join(metal_files_list_df, c(\"GBE_ID\", \"pop\")) %>%\n",
    "group_by(GBE_ID) %>%\n",
    "summarise(N_MA = sum(N)) %>%\n",
    "ungroup() -> N_MA_df\n"
   ]
  },
  {
   "cell_type": "code",
   "execution_count": 8,
   "metadata": {},
   "outputs": [],
   "source": [
    "phe_info_df %>% \n",
    "select(GBE_ID, GBE_NAME) %>% \n",
    "inner_join(N_MA_df, by = \"GBE_ID\") %>%\n",
    "rename('N' = 'N_MA') -> icdinfo_df\n"
   ]
  },
  {
   "cell_type": "code",
   "execution_count": 9,
   "metadata": {},
   "outputs": [],
   "source": [
    "icdinfo_df %>%\n",
    "mutate(N2=N, N3=N, Y='Y') %>%\n",
    "select(GBE_ID, N, GBE_NAME, N2, N3, Y) %>%\n",
    "fwrite(out_f, sep='\\t', na = \"NA\", quote=F, col.names=F)\n"
   ]
  },
  {
   "cell_type": "code",
   "execution_count": null,
   "metadata": {},
   "outputs": [],
   "source": []
  }
 ],
 "metadata": {
  "kernelspec": {
   "display_name": "R",
   "language": "R",
   "name": "ir"
  },
  "language_info": {
   "codemirror_mode": "r",
   "file_extension": ".r",
   "mimetype": "text/x-r-source",
   "name": "R",
   "pygments_lexer": "r",
   "version": "3.6.2"
  }
 },
 "nbformat": 4,
 "nbformat_minor": 4
}
