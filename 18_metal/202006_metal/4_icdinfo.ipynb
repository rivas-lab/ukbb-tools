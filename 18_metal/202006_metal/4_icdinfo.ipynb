{
 "cells": [
  {
   "cell_type": "code",
   "execution_count": 1,
   "metadata": {},
   "outputs": [],
   "source": [
    "suppressWarnings(suppressPackageStartupMessages({\n",
    "    library(tidyverse)\n",
    "    library(data.table)\n",
    "}))\n"
   ]
  },
  {
   "cell_type": "code",
   "execution_count": 22,
   "metadata": {},
   "outputs": [],
   "source": [
    "metal_files_list_f <- 'metal2plink.lst'\n",
    "phe_info_f <- '../../05_gbe//phenotype_info.tsv'\n",
    "out_f <- 'icdinfo.metal.20200717.txt'\n"
   ]
  },
  {
   "cell_type": "code",
   "execution_count": 7,
   "metadata": {},
   "outputs": [],
   "source": [
    "metal_files_list_f %>%\n",
    "fread(head=F) %>% \n",
    "mutate(V1 = str_replace(basename(V1), '.metal.tsv.gz', '')) %>% \n",
    "pull() -> metal_GBE_IDs\n"
   ]
  },
  {
   "cell_type": "code",
   "execution_count": 9,
   "metadata": {},
   "outputs": [],
   "source": [
    "phe_info_f %>% fread() %>% \n",
    "rename('GBE_ID' = '#GBE_ID') -> phe_info_df\n"
   ]
  },
  {
   "cell_type": "code",
   "execution_count": 14,
   "metadata": {},
   "outputs": [
    {
     "name": "stderr",
     "output_type": "stream",
     "text": [
      "`summarise()` ungrouping output (override with `.groups` argument)\n",
      "\n"
     ]
    }
   ],
   "source": [
    "phe_info_df %>% \n",
    "select(\n",
    "    GBE_ID, N_GBE, N_NBW, N_AFR, N_EAS, N_SAS, N_SMR, N_OTH\n",
    ") %>%\n",
    "gather(pop_str, N, -GBE_ID) %>%\n",
    "group_by(GBE_ID) %>%\n",
    "summarise(N_MA = sum(N)) %>%\n",
    "ungroup() -> N_MA_df \n"
   ]
  },
  {
   "cell_type": "code",
   "execution_count": 19,
   "metadata": {},
   "outputs": [
    {
     "name": "stderr",
     "output_type": "stream",
     "text": [
      "Joining, by = \"GBE_ID\"\n",
      "\n"
     ]
    }
   ],
   "source": [
    "phe_info_df %>% \n",
    "filter(GBE_ID %in% metal_GBE_IDs) %>%\n",
    "select(GBE_ID, GBE_NAME) %>% \n",
    "left_join(N_MA_df) %>%\n",
    "rename('N' = 'N_MA') -> icdinfo_df"
   ]
  },
  {
   "cell_type": "code",
   "execution_count": 23,
   "metadata": {},
   "outputs": [],
   "source": [
    "icdinfo_df %>%\n",
    "mutate(N2=N, N3=N, Y='Y') %>%\n",
    "select(GBE_ID, N, GBE_NAME, N2, N3, Y) %>%\n",
    "fwrite(out_f, sep='\\t', na = \"NA\", quote=F, col.names=F)\n"
   ]
  },
  {
   "cell_type": "code",
   "execution_count": null,
   "metadata": {},
   "outputs": [],
   "source": []
  }
 ],
 "metadata": {
  "kernelspec": {
   "display_name": "R",
   "language": "R",
   "name": "ir"
  },
  "language_info": {
   "codemirror_mode": "r",
   "file_extension": ".r",
   "mimetype": "text/x-r-source",
   "name": "R",
   "pygments_lexer": "r",
   "version": "3.6.2"
  }
 },
 "nbformat": 4,
 "nbformat_minor": 4
}
