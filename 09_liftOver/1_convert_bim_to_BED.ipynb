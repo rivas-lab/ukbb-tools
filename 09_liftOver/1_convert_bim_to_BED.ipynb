{
 "cells": [
  {
   "cell_type": "code",
   "execution_count": 7,
   "metadata": {},
   "outputs": [
    {
     "name": "stdout",
     "output_type": "stream",
     "text": [
      "ytanigaw\n",
      "Fri Apr 26 23:38:46 PDT 2019\n",
      "sh-102-07.int\n",
      "/oak/stanford/groups/mrivas/users/ytanigaw/repos/rivas-lab/ukbb-tools/09_liftOver\n"
     ]
    }
   ],
   "source": [
    "whoami; date; hostname; pwd;"
   ]
  },
  {
   "cell_type": "code",
   "execution_count": 8,
   "metadata": {},
   "outputs": [],
   "source": [
    "cat $OAK/private_data/ukbb/24983/cal/pgen/ukb24983_cal_cALL_v2_1.bim \\\n",
    "| awk -v OFS='\\t' -v chr=\"chr\" -v sep=\":\" \\\n",
    "'{print chr $1, $4-1, $4-1+length($5), $2 sep chr $1 sep $4 sep $5 sep $6}' > ukb24983_cal_cALL_v2_1.bed"
   ]
  },
  {
   "cell_type": "code",
   "execution_count": 5,
   "metadata": {},
   "outputs": [
    {
     "name": "stdout",
     "output_type": "stream",
     "text": [
      "/oak/stanford/groups/mrivas/users/ytanigaw/repos/rivas-lab/ukbb-tools/09_liftOver/ukb24983_cal_cALL_v2.bed\n"
     ]
    }
   ],
   "source": [
    "readlink -f ukb24983_cal_cALL_v2.bed"
   ]
  },
  {
   "cell_type": "markdown",
   "metadata": {},
   "source": [
    "```\n",
    "$ liftOver ukb24983_cal_cALL_v2_1.bed \\\n",
    "/cluster/gbdb/hg19/liftOver/hg19ToHg38.over.chain.gz ukb24983_cal_cALL_v2_1.hg38.bed \\\n",
    "ukb24983_cal_cALL_v2_1.hg38.unmapped.txt\n",
    "Reading liftover chains\n",
    "Mapping coordinates\n",
    "```"
   ]
  },
  {
   "cell_type": "code",
   "execution_count": null,
   "metadata": {},
   "outputs": [],
   "source": []
  }
 ],
 "metadata": {
  "kernelspec": {
   "display_name": "Bash",
   "language": "bash",
   "name": "bash"
  },
  "language_info": {
   "codemirror_mode": "shell",
   "file_extension": ".sh",
   "mimetype": "text/x-sh",
   "name": "bash"
  }
 },
 "nbformat": 4,
 "nbformat_minor": 2
}
