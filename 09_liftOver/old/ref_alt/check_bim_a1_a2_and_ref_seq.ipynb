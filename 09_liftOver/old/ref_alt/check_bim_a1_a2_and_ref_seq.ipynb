{
 "cells": [
  {
   "cell_type": "code",
   "execution_count": 1,
   "metadata": {},
   "outputs": [
    {
     "name": "stdout",
     "output_type": "stream",
     "text": [
      "ytanigaw\n",
      "Thu May  9 15:33:30 PDT 2019\n",
      "sh-102-07.int\n",
      "/oak/stanford/groups/mrivas/users/ytanigaw/repos/rivas-lab/ukbb-tools/04_gwas/ref_alt\n"
     ]
    }
   ],
   "source": [
    "whoami; date; hostname; pwd;"
   ]
  },
  {
   "cell_type": "code",
   "execution_count": 2,
   "metadata": {},
   "outputs": [],
   "source": [
    "ml load bedtools"
   ]
  },
  {
   "cell_type": "markdown",
   "metadata": {},
   "source": [
    "#### reference sequence file"
   ]
  },
  {
   "cell_type": "code",
   "execution_count": 3,
   "metadata": {},
   "outputs": [
    {
     "name": "stdout",
     "output_type": "stream",
     "text": [
      ">chr1\n",
      "NNNNNNNNNNNNNNNNNNNNNNNNNNNNNNNNNNNNNNNNNNNNNNNNNN\n",
      "cat: write error: Broken pipe\n"
     ]
    }
   ],
   "source": [
    "cat /oak/stanford/groups/mrivas/public_data/genomes/hg19/hg19.fa | head -n2"
   ]
  },
  {
   "cell_type": "code",
   "execution_count": 4,
   "metadata": {},
   "outputs": [
    {
     "name": "stdout",
     "output_type": "stream",
     "text": [
      ">chr1\n",
      ">chr2\n",
      ">chr3\n",
      ">chr4\n",
      ">chr5\n",
      ">chr6\n",
      ">chr7\n",
      ">chrX\n",
      ">chr8\n",
      ">chr9\n",
      ">chr10\n",
      ">chr11\n",
      ">chr12\n",
      ">chr13\n",
      ">chr14\n",
      ">chr15\n",
      ">chr16\n",
      ">chr17\n",
      ">chr18\n",
      ">chr20\n",
      ">chrY\n",
      ">chr19\n",
      ">chr22\n",
      ">chr21\n",
      ">chrM\n"
     ]
    }
   ],
   "source": [
    "cat /oak/stanford/groups/mrivas/public_data/genomes/hg19/hg19.fa \\\n",
    "| egrep '^>' | grep -v '_'"
   ]
  },
  {
   "cell_type": "markdown",
   "metadata": {},
   "source": [
    "# Array"
   ]
  },
  {
   "cell_type": "markdown",
   "metadata": {},
   "source": [
    "### Compare UKBB's A1/A2 with the reference sequence\n",
    "\n",
    "#### tl;dr: UKBB A1 column (5-th column in the bim file) matches with the reference sequence\n",
    "\n",
    "We will take chr22 as an example case first. This is the bim file from the UKBB."
   ]
  },
  {
   "cell_type": "code",
   "execution_count": 3,
   "metadata": {},
   "outputs": [
    {
     "name": "stdout",
     "output_type": "stream",
     "text": [
      "22\trs62224618\t0\t16057417\tC\tT\n",
      "22\tAffx-52233492\t0\t16287538\tG\tC\n",
      "22\trs200923174\t0\t16287557\tC\tG\n",
      "22\tAffx-80289661\t0\t16287585\tAC\tA\n",
      "22\tAffx-80289662\t0\t16287663\tTC\tT\n",
      "22\tAffx-52336937\t0\t16287779\tCT\tC\n",
      "22\trs138257042\t0\t16449075\tG\tA\n",
      "22\trs116911124\t0\t16495833\tC\tA\n",
      "22\trs117578132\t0\t16595552\tC\tA\n",
      "22\trs117982183\t0\t16648658\tC\tT\n",
      "cat: write error: Broken pipe\n"
     ]
    }
   ],
   "source": [
    "cat $OAK/private_data/ukbb/24983/cal/pgen/ukb24983_cal_chr22_v2.bim | head -n10"
   ]
  },
  {
   "cell_type": "markdown",
   "metadata": {},
   "source": [
    "We query the reference fasta file with `bedtools getfasta` command, which requires UCSC bed file as input so I converted the PLINK bim file to UCSC bed file using awk. \n",
    "Specifically, PLINK bim is on 1-based coordinate and UCSC bed is on 0-based semi-intervals. \n",
    "\n",
    "\n",
    "In the UCSC bed file, we generated the name in the following format:\n",
    "`<variant ID>:<chromosome>:<position (1-based index)>:<A1 (5-th column in bim file)>:<A2 (6-th column in bim file)>`\n",
    "\n",
    "We pipe this UCSC bed file into `bedtools getfasta` command to get the reference sequence, which is shown at the last column of the input\n"
   ]
  },
  {
   "cell_type": "code",
   "execution_count": 4,
   "metadata": {},
   "outputs": [
    {
     "name": "stdout",
     "output_type": "stream",
     "text": [
      "cat: write error: Broken pipe\n",
      "chr22\t16057416\t16057417\trs62224618:chr22:16057417:C:T\tC\n",
      "chr22\t16287537\t16287538\tAffx-52233492:chr22:16287538:G:C\tG\n",
      "chr22\t16287556\t16287557\trs200923174:chr22:16287557:C:G\tC\n",
      "chr22\t16287584\t16287586\tAffx-80289661:chr22:16287585:AC:A\tAC\n",
      "chr22\t16287662\t16287664\tAffx-80289662:chr22:16287663:TC:T\tTC\n",
      "chr22\t16287778\t16287780\tAffx-52336937:chr22:16287779:CT:C\tCT\n",
      "chr22\t16449074\t16449075\trs138257042:chr22:16449075:G:A\tG\n",
      "chr22\t16495832\t16495833\trs116911124:chr22:16495833:C:A\tc\n",
      "chr22\t16595551\t16595552\trs117578132:chr22:16595552:C:A\tc\n",
      "chr22\t16648657\t16648658\trs117982183:chr22:16648658:C:T\tc\n"
     ]
    }
   ],
   "source": [
    "cat $OAK/private_data/ukbb/24983/cal/pgen/ukb24983_cal_chr22_v2.bim | head -n10 \\\n",
    "| awk -v OFS='\\t' -v chr=\"chr\" -v sep=\":\" '{print chr $1, $4-1, $4-1+length($5), $2 sep chr $1 sep $4 sep $5 sep $6}' \\\n",
    "| bedtools getfasta -bedOut -fi /oak/stanford/groups/mrivas/public_data/genomes/hg19/hg19.fa -bed /dev/stdin -bedOut"
   ]
  },
  {
   "cell_type": "markdown",
   "metadata": {},
   "source": [
    "As you can see above, the reference sequence matches with the A1 column in the bim file.\n",
    "\n",
    "We now test all autosomes to see if there are mismatches."
   ]
  },
  {
   "cell_type": "code",
   "execution_count": 8,
   "metadata": {},
   "outputs": [
    {
     "name": "stdout",
     "output_type": "stream",
     "text": [
      "chr4\t7435304\t7435305\tAffx-24919403\tchr4\t7435305\tT\tC\tA\n",
      "chr7\t150896002\t150896003\tAffx-29977087\tchr7\t150896003\tT\tG\tC\n",
      "chr12\t53011954\t53011955\tAffx-8165091\tchr12\t53011955\tT\tC\tG\n",
      "chr21\t46354974\t46354975\tAffx-18140622\tchr21\t46354975\tA\tG\tC\n",
      "chr22\t39218763\t39218764\tAffx-19589717\tchr22\t39218764\tT\tC\tG\n",
      "chrM\t72\t73\tAffx-79504644\tchrM\t73\tA\tG\tG\n",
      "chrM\t149\t150\tAffx-52321525\tchrM\t150\tC\tT\tT\n",
      "chrM\t262\t263\tAffx-34461957\tchrM\t263\tA\tG\tG\n",
      "chrM\t455\t456\tAffx-79381653\tchrM\t456\tC\tT\tT\n",
      "chrM\t546\t547\tAffx-89025725\tchrM\t547\tA\tT\tG\n",
      "chrM\t708\t709\tAffx-34462196\tchrM\t709\tG\tA\tC\n",
      "chrM\t749\t750\tAffx-79381656\tchrM\t750\tA\tG\tG\n",
      "chrM\t768\t769\tAffx-34462230\tchrM\t769\tG\tA\tC\n",
      "chrM\t826\t827\tAffx-89025774\tchrM\t827\tA\tG\tT\n",
      "chrM\t979\t980\tAffx-91439598\tchrM\t980\tT\tC\tA\n",
      "chrM\t1017\t1018\tAffx-89025772\tchrM\t1018\tG\tA\tT\n",
      "chrM\t1242\t1243\tAffx-34461684\tchrM\t1243\tT\tC\tC\n",
      "chrM\t1390\t1391\tAffx-89025736\tchrM\t1391\tT\tC\tG\n",
      "chrM\t1405\t1406\tAffx-89025696\tchrM\t1406\tT\tC\tA\n",
      "chrM\t1437\t1438\tAffx-34461788\tchrM\t1438\tA\tG\tC\n",
      "chrM\t1718\t1719\tAffx-79381658\tchrM\t1719\tG\tA\tT\n",
      "chrM\t1720\t1721\tAffx-79443409\tchrM\t1721\tC\tT\tG\n",
      "chrM\t1735\t1736\tAffx-79381659\tchrM\t1736\tA\tG\tC\n",
      "chrM\t1810\t1811\tAffx-89025771\tchrM\t1811\tA\tG\tT\n",
      "chrM\t2157\t2158\tAffx-34461927\tchrM\t2158\tT\tC\tA\n",
      "chrM\t2217\t2218\tAffx-89025695\tchrM\t2218\tC\tT\tA\n",
      "chrM\t2415\t2416\tAffx-34461942\tchrM\t2416\tT\tC\tC\n",
      "chrM\t2482\t2483\tAffx-34461948\tchrM\t2483\tT\tC\tA\n",
      "chrM\t2757\t2758\tAffx-34461963\tchrM\t2758\tG\tA\tC\n",
      "chrM\t2884\t2885\tAffx-34461972\tchrM\t2885\tT\tC\tA\n",
      "chrM\t3009\t3010\tAffx-34461976\tchrM\t3010\tG\tA\tC\n",
      "chrM\t3026\t3027\tAffx-79443412\tchrM\t3027\tT\tC\tA\n",
      "chrM\t3196\t3197\tAffx-79381660\tchrM\t3197\tT\tC\tG\n",
      "chrM\t3242\t3243\tAffx-89025759\tchrM\t3243\tA\tG\tg\n",
      "chrM\t3307\t3308\tAffx-89025737\tchrM\t3308\tT\tG\ta\n",
      "chrM\t3347\t3348\tAffx-34461994\tchrM\t3348\tA\tG\tT\n",
      "chrM\t3393\t3394\tAffx-34461996\tchrM\t3394\tT\tC\tC\n",
      "chrM\t3394\t3395\tAffx-89025777\tchrM\t3395\tA\tG\tT\n",
      "chrM\t3459\t3460\tAffx-89025722\tchrM\t3460\tG\tA\tC\n",
      "chrM\t3530\t3531\tAffx-89025718\tchrM\t3531\tG\tA\tC\n",
      "chrM\t3593\t3594\tAffx-89025741\tchrM\t3594\tC\tT\tT\n",
      "chrM\t3696\t3697\tAffx-89025710\tchrM\t3697\tG\tA\tC\n",
      "chrM\t3732\t3733\tAffx-89025781\tchrM\t3733\tG\tA\tT\n",
      "chrM\t3735\t3736\tAffx-89025762\tchrM\t3736\tG\tA\tA\n",
      "chrM\t3795\t3796\tAffx-89025739\tchrM\t3796\tA\tG\tC\n",
      "chrM\t3833\t3834\tAffx-92047845\tchrM\t3834\tG\tA\tT\n",
      "chrM\t3865\t3866\tAffx-89025682\tchrM\t3866\tT\tC\tA\n",
      "chrM\t3917\t3918\tAffx-79381665\tchrM\t3918\tG\tA\tA\n",
      "chrM\t3935\t3936\tAffx-92047846\tchrM\t3936\tC\tT\tG\n",
      "chrM\t3945\t3946\tAffx-89025738\tchrM\t3946\tG\tA\tC\n",
      "chrM\t3948\t3949\tAffx-89025729\tchrM\t3949\tT\tC\tA\n",
      "chrM\t3989\t3990\tAffx-92047847\tchrM\t3990\tC\tT\tA\n",
      "chrM\t3991\t3992\tAffx-79381667\tchrM\t3992\tC\tT\tA\n",
      "chrM\t4023\t4024\tAffx-34462030\tchrM\t4024\tA\tG\tT\n",
      "chrM\t4092\t4093\tAffx-89025770\tchrM\t4093\tA\tG\tG\n",
      "chrM\t4103\t4104\tAffx-89025723\tchrM\t4104\tA\tG\tT\n",
      "chrM\t4159\t4160\tAffx-89025755\tchrM\t4160\tT\tC\tC\n",
      "chrM\t4215\t4216\tAffx-89025684\tchrM\t4216\tT\tC\tA\n",
      "chrM\t4299\t4300\tAffx-89025714\tchrM\t4300\tA\tG\tT\n",
      "chrM\t4309\t4310\tAffx-92047848\tchrM\t4310\tA\tG\tG\n",
      "chrM\t4335\t4336\tAffx-79381668\tchrM\t4336\tT\tC\tc\n",
      "chrM\t4528\t4529\tAffx-92047849\tchrM\t4529\tA\tT\tC\n",
      "chrM\t4560\t4561\tAffx-34462060\tchrM\t4561\tT\tC\tG\n",
      "chrM\t4579\t4580\tAffx-34462062\tchrM\t4580\tG\tA\tT\n",
      "chrM\t4638\t4639\tAffx-89025699\tchrM\t4639\tT\tC\tA\n",
      "chrM\t4645\t4646\tAffx-79443430\tchrM\t4646\tT\tC\tA\n",
      "chrM\t4714\t4715\tAffx-89025744\tchrM\t4715\tA\tG\tG\n",
      "chrM\t4768\t4769\tAffx-34462075\tchrM\t4769\tA\tG\tT\n",
      "chrM\t4792\t4793\tAffx-89025751\tchrM\t4793\tA\tG\tT\n",
      "chrM\t4819\t4820\tAffx-79381669\tchrM\t4820\tG\tA\tA\n",
      "chrM\t4823\t4824\tAffx-79381670\tchrM\t4824\tA\tG\tT\n",
      "chrM\t5003\t5004\tAffx-79381672\tchrM\t5004\tT\tC\tC\n",
      "chrM\t5045\t5046\tAffx-34462094\tchrM\t5046\tG\tA\tA\n",
      "chrM\t5146\t5147\tAffx-89025778\tchrM\t5147\tG\tA\tC\n",
      "chrM\t5177\t5178\tAffx-89025691\tchrM\t5178\tC\tA\tG\n",
      "chrM\t5230\t5231\tAffx-89025748\tchrM\t5231\tG\tA\tT\n",
      "chrM\t5262\t5263\tAffx-34462105\tchrM\t5263\tC\tT\tG\n",
      "chrM\t5359\t5360\tAffx-92047850\tchrM\t5360\tC\tT\tT\n",
      "chrM\t5389\t5390\tAffx-79381673\tchrM\t5390\tA\tG\tT\n",
      "chrM\t5441\t5442\tAffx-79381674\tchrM\t5442\tT\tC\tA\n",
      "chrM\t5655\t5656\tAffx-34462122\tchrM\t5656\tA\tG\tT\n",
      "chrM\t5950\t5951\tAffx-34462135\tchrM\t5951\tA\tG\tG\n",
      "chrM\t5998\t5999\tAffx-79443437\tchrM\t5999\tT\tC\tC\n",
      "chrM\t6046\t6047\tAffx-79443438\tchrM\t6047\tA\tG\tT\n",
      "chrM\t6220\t6221\tAffx-79381678\tchrM\t6221\tT\tC\tC\n",
      "chrM\t6252\t6253\tAffx-92047851\tchrM\t6253\tT\tC\tA\n",
      "chrM\t6454\t6455\tAffx-86887358\tchrM\t6455\tC\tT\tT\n",
      "chrM\t6527\t6528\tAffx-89025708\tchrM\t6528\tC\tT\tA\n",
      "chrM\t6733\t6734\tAffx-34462179\tchrM\t6734\tG\tA\tT\n",
      "chrM\t6751\t6752\tAffx-34462180\tchrM\t6752\tA\tG\tT\n",
      "chrM\t6775\t6776\tAffx-34462182\tchrM\t6776\tT\tC\tA\n",
      "chrM\t7054\t7055\tAffx-34462191\tchrM\t7055\tA\tG\tG\n",
      "chrM\t7174\t7175\tAffx-34462202\tchrM\t7175\tT\tC\tC\n",
      "chrM\t7255\t7256\tAffx-89025713\tchrM\t7256\tC\tT\tA\n",
      "chrM\t7275\t7276\tAffx-92047852\tchrM\t7276\tC\tT\tT\n",
      "chrM\t7475\t7476\tAffx-79443447\tchrM\t7476\tC\tT\tg\n",
      "chrM\t7656\t7657\tAffx-89025775\tchrM\t7657\tT\tC\tA\n",
      "chrM\t7767\t7768\tAffx-79381679\tchrM\t7768\tA\tG\tT\n",
      "chrM\t8205\t8206\tAffx-89025740\tchrM\t8206\tG\tA\tT\n",
      "chrM\t8268\t8269\tAffx-89025766\tchrM\t8269\tG\tA\tA\n",
      "chrM\t8447\t8448\tAffx-92047859\tchrM\t8448\tT\tC\tA\n",
      "chrM\t8615\t8616\tAffx-79381680\tchrM\t8616\tG\tT\tT\n",
      "chrM\t8654\t8655\tAffx-92047860\tchrM\t8655\tC\tT\tT\n",
      "chrM\t8696\t8697\tAffx-89025732\tchrM\t8697\tG\tA\tT\n",
      "chrM\t8868\t8869\tAffx-34462282\tchrM\t8869\tA\tG\tT\n",
      "chrM\t8992\t8993\tAffx-89025719\tchrM\t8993\tT\tG\tC\n",
      "chrM\t8993\t8994\tAffx-89025749\tchrM\t8994\tG\tA\tT\n",
      "chrM\t9041\t9042\tAffx-34462293\tchrM\t9042\tC\tT\tA\n",
      "chrM\t9054\t9055\tAffx-89025685\tchrM\t9055\tG\tA\tC\n",
      "chrM\t9071\t9072\tAffx-34462296\tchrM\t9072\tA\tG\tC\n",
      "chrM\t9092\t9093\tAffx-34462299\tchrM\t9093\tA\tG\tC\n",
      "chrM\t9122\t9123\tAffx-92047864\tchrM\t9123\tG\tA\tT\n",
      "chrM\t9220\t9221\tAffx-89025773\tchrM\t9221\tA\tG\tC\n",
      "chrM\t9376\t9377\tAffx-79381681\tchrM\t9377\tA\tG\tG\n",
      "chrM\t9476\t9477\tAffx-89025765\tchrM\t9477\tG\tA\tA\n",
      "chrM\t9646\t9647\tAffx-89025758\tchrM\t9647\tT\tC\tC\n",
      "chrM\t9715\t9716\tAffx-34462338\tchrM\t9716\tT\tC\tG\n",
      "chrM\t9898\t9899\tAffx-79381685\tchrM\t9899\tT\tC\tA\n",
      "chrM\t10043\t10044\tAffx-34461570\tchrM\t10044\tA\tG\tC\n",
      "chrM\t10141\t10142\tAffx-92047861\tchrM\t10142\tC\tT\tA\n",
      "chrM\t10216\t10217\tAffx-92047862\tchrM\t10217\tA\tG\tT\n",
      "chrM\t10309\t10310\tAffx-79381688\tchrM\t10310\tG\tA\tT\n",
      "chrM\t10320\t10321\tAffx-79381689\tchrM\t10321\tT\tC\tG\n",
      "chrM\t10393\t10394\tAffx-92047863\tchrM\t10394\tC\tT\tA\n",
      "chrM\t10549\t10550\tAffx-34461593\tchrM\t10550\tA\tG\tT\n",
      "chrM\t10687\t10688\tAffx-34461600\tchrM\t10688\tG\tA\tT\n",
      "chrM\t10821\t10822\tAffx-89025752\tchrM\t10822\tC\tT\tA\n",
      "chrM\t10872\t10873\tAffx-79381693\tchrM\t10873\tT\tC\tC\n",
      "chrM\t10914\t10915\tAffx-79381694\tchrM\t10915\tT\tC\tG\n",
      "chrM\t11024\t11025\tAffx-89025768\tchrM\t11025\tT\tC\tC\n",
      "chrM\t11250\t11251\tAffx-34461623\tchrM\t11251\tA\tG\tT\n",
      "chrM\t11298\t11299\tAffx-89025753\tchrM\t11299\tT\tC\tC\n",
      "chrM\t11376\t11377\tAffx-79381695\tchrM\t11377\tG\tA\tA\n",
      "chrM\t11466\t11467\tAffx-79381696\tchrM\t11467\tA\tG\tT\n",
      "chrM\t11484\t11485\tAffx-89025734\tchrM\t11485\tT\tC\tG\n",
      "chrM\t11777\t11778\tAffx-89025779\tchrM\t11778\tG\tA\tC\n",
      "chrM\t11811\t11812\tAffx-34461648\tchrM\t11812\tA\tG\tT\n",
      "chrM\t11898\t11899\tAffx-79381697\tchrM\t11899\tT\tC\tC\n",
      "chrM\t11913\t11914\tAffx-34461653\tchrM\t11914\tG\tA\tC\n",
      "chrM\t11946\t11947\tAffx-92047855\tchrM\t11947\tA\tG\tC\n",
      "chrM\t12371\t12372\tAffx-34461680\tchrM\t12372\tG\tA\tT\n",
      "chrM\t12396\t12397\tAffx-89025681\tchrM\t12397\tA\tG\tT\n",
      "chrM\t12405\t12406\tAffx-89025686\tchrM\t12406\tG\tA\tC\n",
      "chrM\t12500\t12501\tAffx-86886472\tchrM\t12501\tG\tA\tT\n",
      "chrM\t12611\t12612\tAffx-34461691\tchrM\t12612\tA\tG\tT\n",
      "chrM\t12668\t12669\tAffx-34461695\tchrM\t12669\tC\tT\tA\n",
      "chrM\t12704\t12705\tAffx-79381700\tchrM\t12705\tC\tT\tT\n",
      "chrM\t12809\t12810\tAffx-89025760\tchrM\t12810\tA\tG\tG\n",
      "chrM\t12878\t12879\tAffx-89025712\tchrM\t12879\tT\tC\tG\n",
      "chrM\t13019\t13020\tAffx-92047856\tchrM\t13020\tT\tC\tG\n",
      "chrM\t13100\t13101\tAffx-92047857\tchrM\t13101\tA\tC\tC\n",
      "chrM\t13103\t13104\tAffx-52321475\tchrM\t13104\tA\tG\tG\n",
      "chrM\t13116\t13117\tAffx-89025747\tchrM\t13117\tA\tG\tC\n",
      "chrM\t13499\t13500\tAffx-89025728\tchrM\t13500\tT\tC\tG\n",
      "chrM\t13505\t13506\tAffx-89025716\tchrM\t13506\tC\tT\tA\n",
      "chrM\t13758\t13759\tAffx-79443499\tchrM\t13759\tG\tA\tC\n",
      "chrM\t13788\t13789\tAffx-34461750\tchrM\t13789\tT\tC\tC\n",
      "chrM\t13878\t13879\tAffx-89025700\tchrM\t13879\tT\tC\tA\n",
      "chrM\t13965\t13966\tAffx-34461763\tchrM\t13966\tA\tG\tT\n",
      "chrM\t14015\t14016\tAffx-89025754\tchrM\t14016\tG\tA\tA\n",
      "chrM\t14069\t14070\tAffx-92047858\tchrM\t14070\tA\tG\tC\n",
      "chrM\t14132\t14133\tAffx-79443502\tchrM\t14133\tA\tG\tT\n",
      "chrM\t14138\t14139\tAffx-92047853\tchrM\t14139\tA\tG\tT\n",
      "chrM\t14166\t14167\tAffx-89025746\tchrM\t14167\tC\tT\tT\n",
      "chrM\t14177\t14178\tAffx-79381706\tchrM\t14178\tT\tC\tA\n",
      "chrM\t14317\t14318\tAffx-86496743\tchrM\t14318\tT\tC\tA\n",
      "chrM\t14483\t14484\tAffx-89025717\tchrM\t14484\tT\tC\tA\n",
      "chrM\t14549\t14550\tAffx-89025780\tchrM\t14550\tT\tC\tA\n",
      "chrM\t14581\t14582\tAffx-79381708\tchrM\t14582\tA\tG\tT\n",
      "chrM\t14619\t14620\tAffx-92047865\tchrM\t14620\tC\tT\tA\n",
      "chrM\t14765\t14766\tAffx-89025679\tchrM\t14766\tC\tT\tA\n",
      "chrM\t14792\t14793\tAffx-89025687\tchrM\t14793\tA\tG\tC\n",
      "chrM\t14797\t14798\tAffx-34461803\tchrM\t14798\tT\tC\tA\n",
      "chrM\t14868\t14869\tAffx-92047866\tchrM\t14869\tG\tA\tT\n",
      "chrM\t14871\t14872\tAffx-79443511\tchrM\t14872\tC\tT\tT\n",
      "chrM\t14904\t14905\tAffx-34461806\tchrM\t14905\tG\tA\tT\n",
      "chrM\t15147\t15148\tAffx-92047867\tchrM\t15148\tG\tA\tC\n",
      "chrM\t15217\t15218\tAffx-89025745\tchrM\t15218\tA\tG\tG\n",
      "chrM\t15243\t15244\tAffx-89025761\tchrM\t15244\tA\tG\tG\n",
      "chrM\t15249\t15250\tAffx-89025726\tchrM\t15250\tC\tT\tA\n",
      "chrM\t15256\t15257\tAffx-79381710\tchrM\t15257\tG\tA\tA\n",
      "chrM\t15300\t15301\tAffx-79381711\tchrM\t15301\tG\tA\tT\n",
      "chrM\t15534\t15535\tAffx-34461832\tchrM\t15535\tC\tT\tA\n",
      "chrM\t15692\t15693\tAffx-89025690\tchrM\t15693\tT\tC\tA\n",
      "chrM\t15783\t15784\tAffx-79381713\tchrM\t15784\tT\tC\tC\n",
      "chrM\t15811\t15812\tAffx-89025698\tchrM\t15812\tG\tA\tC\n",
      "chrM\t15929\t15930\tAffx-79381717\tchrM\t15930\tG\tA\tA\n",
      "chrM\t16144\t16145\tAffx-79381720\tchrM\t16145\tG\tA\tT\n",
      "chrM\t16152\t16153\tAffx-34461862\tchrM\t16153\tG\tA\tT\n",
      "chrM\t16161\t16162\tAffx-34461864\tchrM\t16162\tA\tG\tT\n",
      "chrM\t16171\t16172\tAffx-89025721\tchrM\t16172\tT\tC\tA\n",
      "chrM\t16242\t16243\tAffx-89025720\tchrM\t16243\tT\tC\tA\n",
      "chrM\t16297\t16298\tAffx-79443528\tchrM\t16298\tT\tC\tC\n",
      "chrM\t16336\t16337\tAffx-92047842\tchrM\t16337\tC\tT\tA\n",
      "chrM\t16355\t16356\tAffx-79443531\tchrM\t16356\tT\tC\tC\n",
      "chrM\t16361\t16362\tAffx-79443532\tchrM\t16362\tT\tC\tC\n"
     ]
    }
   ],
   "source": [
    "cat /oak/stanford/groups/mrivas/private_data/ukbb/24983/cal/pgen/ukb24983_cal_cALL_v2_unpatched_ukbb.bim \\\n",
    "| sed -e 's/^23/X/g' | sed -e 's/^24/Y/g' | sed -e 's/^25/X/g' | sed -e 's/^26/M/g' \\\n",
    "| awk -v OFS='\\t' -v chr=\"chr\" -v sep=\":\" '{print chr $1, $4-1, $4-1+length($5), $2 sep chr $1 sep $4 sep $5 sep $6}' \\\n",
    "| bedtools getfasta -bedOut -fi /oak/stanford/groups/mrivas/public_data/genomes/hg19/hg19.fa -bed /dev/stdin -bedOut \\\n",
    "| tr \":\" \"\\t\" | awk '$7 != toupper($9)'\n",
    "\n"
   ]
  },
  {
   "cell_type": "code",
   "execution_count": 10,
   "metadata": {},
   "outputs": [
    {
     "name": "stdout",
     "output_type": "stream",
     "text": [
      " 805426 4832556 23115529\n"
     ]
    }
   ],
   "source": [
    "for c in $(seq 1 22) X Y XY MT ; do cat $OAK/private_data/ukbb/24983/cal/pgen/ukb24983_cal_chr${c}_v2.bim ; done | wc\n"
   ]
  },
  {
   "cell_type": "code",
   "execution_count": 9,
   "metadata": {},
   "outputs": [
    {
     "name": "stdout",
     "output_type": "stream",
     "text": [
      "  805426  4832556 23135077 /oak/stanford/groups/mrivas/private_data/ukbb/24983/cal/pgen/ukb24983_cal_cALL_v2_unpatched_ukbb.bim\n"
     ]
    }
   ],
   "source": [
    "wc $OAK/private_data/ukbb/24983/cal/pgen/ukb24983_cal_cALL_v2_unpatched_ukbb.bim"
   ]
  },
  {
   "cell_type": "code",
   "execution_count": 13,
   "metadata": {},
   "outputs": [
    {
     "name": "stdout",
     "output_type": "stream",
     "text": [
      "2af900ed28f26de3c51796f2d4b04cfe  -\n"
     ]
    }
   ],
   "source": [
    "for c in $(seq 1 22) X Y XY MT ; do cat $OAK/private_data/ukbb/24983/cal/pgen/ukb24983_cal_chr${c}_v2.bim ; done | md5sum\n",
    "\n"
   ]
  },
  {
   "cell_type": "code",
   "execution_count": 14,
   "metadata": {},
   "outputs": [
    {
     "name": "stdout",
     "output_type": "stream",
     "text": [
      "2af900ed28f26de3c51796f2d4b04cfe  -\n"
     ]
    }
   ],
   "source": [
    "cat $OAK/private_data/ukbb/24983/cal/pgen/ukb24983_cal_cALL_v2_unpatched_ukbb.bim \\\n",
    "| sed -e 's/^23/X/g' | sed -e 's/^24/Y/g' | sed -e 's/^25/XY/g' | sed -e 's/^26/MT/g' \\\n",
    "| md5sum"
   ]
  },
  {
   "cell_type": "code",
   "execution_count": 15,
   "metadata": {},
   "outputs": [
    {
     "name": "stdout",
     "output_type": "stream",
     "text": [
      "784256\n"
     ]
    }
   ],
   "source": [
    "cat $OAK/private_data/ukbb/24983/cal/pgen/ukb24983_cal_cALL_v2_unpatched_ukbb.bim | awk '$1 <= 22' | wc -l"
   ]
  },
  {
   "cell_type": "markdown",
   "metadata": {},
   "source": [
    "There are 5/784256 exceptions in autosomes, which can be due to minor version difference of the reference genome (we used GRCh37.p13, but UKBB may have used other minor versions, such as GRCh37.p12)\n",
    "\n",
    "We also found that there are bunch of differences in chrM ..."
   ]
  },
  {
   "cell_type": "markdown",
   "metadata": {},
   "source": [
    "### ukb24983_cal_cALL_v2_hg19\n",
    "\n",
    "We prepare a fixed version as follows:\n",
    "\n",
    "```\n",
    "# 0. namespace\n",
    "o1=\"ukb24983_cal_cALL_v2_unpatched_ukbb\"\n",
    "o2=\"ukb24983_cal_cALL_v2_hg19\"\n",
    "\n",
    "# 1. combine split chr bed/bim/fam files\n",
    "plink --merge-list chr_bfile_list.txt --make-bed --keep-allele-order \\\n",
    "      --out $o1 \\\n",
    "      --memory 60000\n",
    "\n",
    "# 1b. make pgen\n",
    "plink2 --bfile $o1 --keep-allele-order --make-pgen \\\n",
    "       --out ${o1}.p \\\n",
    "       --memory 60000\n",
    "\n",
    "# 1c. move files back\n",
    "for end in \"pgen\" \"psam\" \"pvar\"; do\n",
    "    mv ${o1}.p.${end} ${o1}.${end}\n",
    "done\n",
    "\n",
    "# 2. flip alleles (ukbb-ref is backwards relative to hg19)\n",
    "plink2 --pfile $o1 --make-bed --ref-allele ${o1}.bim 5 2 \\\n",
    "       --out $o2 \\\n",
    "       --memory 60000\n",
    "\n",
    "plink2 --pfile $o1 --make-pgen --ref-allele ${o1}.bim 5 2 \\\n",
    "       --out ${o2}.p \\\n",
    "       --memory 60000\n",
    "\n",
    "for end in \"pgen\" \"psam\" \"pvar\"; do\n",
    "    mv ${o2}.p.${end} ${o2}.${end}\n",
    "done\n",
    "```"
   ]
  },
  {
   "cell_type": "code",
   "execution_count": 20,
   "metadata": {},
   "outputs": [
    {
     "name": "stdout",
     "output_type": "stream",
     "text": [
      "2af900ed28f26de3c51796f2d4b04cfe  -\n"
     ]
    }
   ],
   "source": [
    "cat $OAK/private_data/ukbb/24983/cal/pgen/ukb24983_cal_cALL_v2_hg19.bim \\\n",
    "| awk -v OFS='\\t' '{print $1, $2, $3, $4, $6, $5}' | md5sum"
   ]
  },
  {
   "cell_type": "code",
   "execution_count": 21,
   "metadata": {},
   "outputs": [
    {
     "name": "stdout",
     "output_type": "stream",
     "text": [
      "2af900ed28f26de3c51796f2d4b04cfe  -\n"
     ]
    }
   ],
   "source": [
    "cat $OAK/private_data/ukbb/24983/cal/pgen/ukb24983_cal_cALL_v2_unpatched_ukbb.bim \\\n",
    "| sed -e 's/^23/X/g' | sed -e 's/^24/Y/g' | sed -e 's/^25/XY/g' | sed -e 's/^26/MT/g' \\\n",
    "| md5sum"
   ]
  },
  {
   "cell_type": "markdown",
   "metadata": {},
   "source": [
    "As you can see below, the reference sequence (UCSC hg19) matches with the A2 column in the v2_hg19 bim file.\n"
   ]
  },
  {
   "cell_type": "code",
   "execution_count": 22,
   "metadata": {
    "scrolled": true
   },
   "outputs": [
    {
     "name": "stdout",
     "output_type": "stream",
     "text": [
      "chr4\t7435304\t7435305\tAffx-24919403\tchr4\t7435305\tT\tC\tA\n",
      "chr7\t150896002\t150896003\tAffx-29977087\tchr7\t150896003\tT\tG\tC\n",
      "chr12\t53011954\t53011955\tAffx-8165091\tchr12\t53011955\tT\tC\tG\n",
      "chr21\t46354974\t46354975\tAffx-18140622\tchr21\t46354975\tA\tG\tC\n",
      "chr22\t39218763\t39218764\tAffx-19589717\tchr22\t39218764\tT\tC\tG\n"
     ]
    }
   ],
   "source": [
    "cat $OAK/private_data/ukbb/24983/cal/pgen/ukb24983_cal_cALL_v2_hg19.bim \\\n",
    "| sed -e 's/^XY/X/g' | sed -e 's/^MT/M/g' \\\n",
    "| awk -v OFS='\\t' -v chr=\"chr\" -v sep=\":\" '{print chr $1, $4-1, $4-1+length($6), $2 sep chr $1 sep $4 sep $6 sep $5}' \\\n",
    "| grep -v '^chrM' \\\n",
    "| bedtools getfasta -bedOut -fi /oak/stanford/groups/mrivas/public_data/genomes/hg19/hg19.fa -bed /dev/stdin -bedOut \\\n",
    "| tr \":\" \"\\t\" | awk '$7 != toupper($9)'\n"
   ]
  },
  {
   "cell_type": "markdown",
   "metadata": {},
   "source": [
    "### Variant annotation table\n",
    "\n",
    "`/oak/stanford/groups/mrivas/private_data/ukbb/variant_filtering/variant_filter_table.tsv.gz`\n",
    "\n",
    "This has autosome variants only\n"
   ]
  },
  {
   "cell_type": "code",
   "execution_count": 23,
   "metadata": {},
   "outputs": [
    {
     "name": "stdout",
     "output_type": "stream",
     "text": [
      "CHROM\tPOS\tREF\tALT\tID\n",
      "1\t723307\tC\tG\trs28659788\n",
      "1\t727841\tG\tA\trs116587930\n",
      "cut: write error: Broken pipe\n"
     ]
    }
   ],
   "source": [
    "zcat /oak/stanford/groups/mrivas/private_data/ukbb/variant_filtering/variant_filter_table.tsv.gz \\\n",
    "| cut -f1-5 | head -n3\n"
   ]
  },
  {
   "cell_type": "code",
   "execution_count": 24,
   "metadata": {},
   "outputs": [
    {
     "name": "stdout",
     "output_type": "stream",
     "text": [
      "chr12\t53011954\t53011955\tAffx-8165091\tchr12\t53011955\tT\tC\tG\n",
      "chr21\t46354974\t46354975\tAffx-18140622\tchr21\t46354975\tA\tG\tC\n",
      "chr22\t39218763\t39218764\tAffx-19589717\tchr22\t39218764\tT\tC\tG\n",
      "chr4\t7435304\t7435305\tAffx-24919403\tchr4\t7435305\tT\tC\tA\n",
      "chr7\t150896002\t150896003\tAffx-29977087\tchr7\t150896003\tT\tG\tC\n"
     ]
    }
   ],
   "source": [
    "zcat /oak/stanford/groups/mrivas/private_data/ukbb/variant_filtering/variant_filter_table.tsv.gz \\\n",
    "| cut -f1-5 \\\n",
    "| awk -v OFS='\\t' -v chr=\"chr\" -v sep=\":\" '(NR>1){print chr $1, $2-1, $2-1+length($3), $5 sep chr $1 sep $2 sep $3 sep $4}' \\\n",
    "| bedtools getfasta -bedOut -fi /oak/stanford/groups/mrivas/public_data/genomes/hg19/hg19.fa -bed /dev/stdin -bedOut \\\n",
    "| tr \":\" \"\\t\" | awk '$7 != toupper($9)'\n",
    "\n"
   ]
  },
  {
   "cell_type": "markdown",
   "metadata": {},
   "source": [
    "### example summary statistics file"
   ]
  },
  {
   "cell_type": "code",
   "execution_count": 32,
   "metadata": {},
   "outputs": [
    {
     "name": "stdout",
     "output_type": "stream",
     "text": [
      "chr4\t7435304\t7435305\tAffx-24919403\tchr4\t7435305\tAffx-24919403\tT\tC\tC\tA\n",
      "chr7\t150896002\t150896003\tAffx-29977087\tchr7\t150896003\tAffx-29977087\tT\tG\tG\tC\n",
      "chr12\t53011954\t53011955\tAffx-8165091\tchr12\t53011955\tAffx-8165091\tT\tC\tC\tG\n",
      "chr21\t46354974\t46354975\tAffx-18140622\tchr21\t46354975\tAffx-18140622\tA\tG\tG\tC\n",
      "chr22\t39218763\t39218764\tAffx-19589717\tchr22\t39218764\tAffx-19589717\tT\tC\tC\tG\n"
     ]
    }
   ],
   "source": [
    "zcat /oak/stanford/groups/mrivas/ukbb24983/cal/gwas/9796/24611/white_british/ukb24983_v2.INI4022.genotyped.glm.linear.gz \\\n",
    "| cut -f 1-6 \\\n",
    "| awk -v OFS='\\t' -v chr=\"chr\" -v sep=\":\" '(NR>1){print chr $1, $2-1, $2-1+length($4), $3 sep chr $1 sep $2 sep $3 sep $4 sep $5 sep $6}' \\\n",
    "| bedtools getfasta -bedOut -fi /oak/stanford/groups/mrivas/public_data/genomes/hg19/hg19.fa -bed /dev/stdin -bedOut \\\n",
    "| tr \":\" \"\\t\" | awk '$8 != toupper($11) || $9 != $10'\n"
   ]
  },
  {
   "cell_type": "markdown",
   "metadata": {},
   "source": [
    "### liftOver: ukb24983_cal_cALL_v2_1.hg38.bim\n",
    "\n",
    "Using the liftOver, a UCSC genome browser tool, we mapped the bim file to hg38.\n",
    "Here are the summary of the liftOver and REF/ALT check status.\n"
   ]
  },
  {
   "cell_type": "markdown",
   "metadata": {},
   "source": [
    "| _ | LiftOver and REF/ALT check status | Number of variants |\n",
    "| --------- | -------------------------------------------------------- | ------ |\n",
    "| (1) | Successfully mapped and REF (A2) matches with GRCh38.p13 | 781,659 |\n",
    "| (2) | Successfully mapped but ALT (A1) matches with GRCh38.p13 |   1,343 |\n",
    "| (3) | Successfully mapped but REF/ALT (A1/A2) does not match GRCh38.p13 |   960 |\n",
    "| (4) | Mapped to somewhere but the coordinates are invalid | 1 |\n",
    "| (5) | Unmapped (UCSC liftOver failed to map) | 293 |\n",
    "|  _  | TOTAL | 784,256 |"
   ]
  },
  {
   "cell_type": "code",
   "execution_count": 24,
   "metadata": {},
   "outputs": [
    {
     "name": "stdout",
     "output_type": "stream",
     "text": [
      "784256 ../../09_liftOver/ukb24983_cal_cALL_v2_1.hg38.bim\n"
     ]
    }
   ],
   "source": [
    "wc -l ../../09_liftOver/ukb24983_cal_cALL_v2_1.hg38.bim"
   ]
  },
  {
   "cell_type": "code",
   "execution_count": 23,
   "metadata": {},
   "outputs": [
    {
     "name": "stdout",
     "output_type": "stream",
     "text": [
      "Feature (chr19:101658107-101658108) beyond the length of chr19 size (58617616 bp).  Skipping.\n",
      "781659\n"
     ]
    }
   ],
   "source": [
    "cat ../../09_liftOver/ukb24983_cal_cALL_v2_1.hg38.bim \\\n",
    "| awk '$4 != 0' \\\n",
    "| awk -v OFS='\\t' -v chr=\"chr\" -v sep=\":\" '{print chr $1, $4-1, $4-1+length($6), $2 sep chr $1 sep $4 sep $6 sep $5}' \\\n",
    "| bedtools getfasta -bedOut -fi /oak/stanford/groups/mrivas/public_data/genomes/hg38/hg38.fa -bed /dev/stdin -bedOut \\\n",
    "| tr \":\" \"\\t\" | awk '$7 == toupper($9)' | wc -l\n"
   ]
  },
  {
   "cell_type": "code",
   "execution_count": 15,
   "metadata": {},
   "outputs": [
    {
     "name": "stdout",
     "output_type": "stream",
     "text": [
      "Feature (chr19:101658107-101658108) beyond the length of chr19 size (58617616 bp).  Skipping.\n",
      "2303\n"
     ]
    }
   ],
   "source": [
    "cat ../../09_liftOver/ukb24983_cal_cALL_v2_1.hg38.bim \\\n",
    "| awk '$4 != 0' \\\n",
    "| awk -v OFS='\\t' -v chr=\"chr\" -v sep=\":\" '{print chr $1, $4-1, $4-1+length($6), $2 sep chr $1 sep $4 sep $6 sep $5}' \\\n",
    "| bedtools getfasta -bedOut -fi /oak/stanford/groups/mrivas/public_data/genomes/hg38/hg38.fa -bed /dev/stdin -bedOut \\\n",
    "| tr \":\" \"\\t\" | awk '$7 != toupper($9)' | wc -l"
   ]
  },
  {
   "cell_type": "code",
   "execution_count": 20,
   "metadata": {},
   "outputs": [
    {
     "name": "stdout",
     "output_type": "stream",
     "text": [
      "Feature (chr19:101658107-101658108) beyond the length of chr19 size (58617616 bp).  Skipping.\n",
      "1343\n"
     ]
    }
   ],
   "source": [
    "cat ../../09_liftOver/ukb24983_cal_cALL_v2_1.hg38.bim \\\n",
    "| awk '$4 != 0' \\\n",
    "| awk -v OFS='\\t' -v chr=\"chr\" -v sep=\":\" '{print chr $1, $4-1, $4-1+length($6), $2 sep chr $1 sep $4 sep $6 sep $5}' \\\n",
    "| bedtools getfasta -bedOut -fi /oak/stanford/groups/mrivas/public_data/genomes/hg38/hg38.fa -bed /dev/stdin -bedOut \\\n",
    "| tr \":\" \"\\t\" | awk '$7 != toupper($9) && $8 == toupper($9)' | wc -l\n"
   ]
  },
  {
   "cell_type": "code",
   "execution_count": 22,
   "metadata": {},
   "outputs": [
    {
     "name": "stdout",
     "output_type": "stream",
     "text": [
      "Feature (chr19:101658107-101658108) beyond the length of chr19 size (58617616 bp).  Skipping.\n",
      "960\n"
     ]
    }
   ],
   "source": [
    "cat ../../09_liftOver/ukb24983_cal_cALL_v2_1.hg38.bim \\\n",
    "| awk '$4 != 0' \\\n",
    "| awk -v OFS='\\t' -v chr=\"chr\" -v sep=\":\" '{print chr $1, $4-1, $4-1+length($6), $2 sep chr $1 sep $4 sep $6 sep $5}' \\\n",
    "| bedtools getfasta -bedOut -fi /oak/stanford/groups/mrivas/public_data/genomes/hg38/hg38.fa -bed /dev/stdin -bedOut \\\n",
    "| tr \":\" \"\\t\" | awk '$7 != toupper($9) && $8 != toupper($9)' | wc -l\n"
   ]
  },
  {
   "cell_type": "code",
   "execution_count": 21,
   "metadata": {},
   "outputs": [
    {
     "name": "stdout",
     "output_type": "stream",
     "text": [
      "chr1\t12719556\t12719558\tAffx-52321985\tchr1\t12719557\tAT\tA\tAC\n",
      "chr1\t13482277\t13482278\tAffx-4972073\tchr1\t13482278\tC\tT\tG\n",
      "chr1\t143956444\t143956445\trs78105048\tchr1\t143956445\tT\tC\tA\n",
      "chr1\t143943802\t143943803\trs146627141\tchr1\t143943803\tT\tC\tA\n",
      "chr1\t143938433\t143938434\trs144715521\tchr1\t143938434\tT\tC\tG\n",
      "chr1\t143904543\t143904544\trs115198068\tchr1\t143904544\tG\tA\tC\n",
      "chr1\t143883551\t143883552\trs149651017\tchr1\t143883552\tT\tG\tA\n",
      "chr1\t143880556\t143880557\trs149452988\tchr1\t143880557\tG\tA\tC\n",
      "chr1\t143876237\t143876238\trs200153581\tchr1\t143876238\tC\tT\tG\n",
      "chr1\t82102\t82103\trs147887611\tchr1\t82103\tG\tA\tt\n",
      "awk: cmd. line:1: (FILENAME=- FNR=33733) fatal: print to \"standard output\" failed (Broken pipe)\n",
      "tr: write error: Broken pipe\n",
      "tr: write error\n",
      "Feature (chr19:101658107-101658108) beyond the length of chr19 size (58617616 bp).  Skipping.\n"
     ]
    }
   ],
   "source": [
    "cat ../../09_liftOver/ukb24983_cal_cALL_v2_1.hg38.bim \\\n",
    "| awk '$4 != 0' \\\n",
    "| awk -v OFS='\\t' -v chr=\"chr\" -v sep=\":\" '{print chr $1, $4-1, $4-1+length($6), $2 sep chr $1 sep $4 sep $6 sep $5}' \\\n",
    "| bedtools getfasta -bedOut -fi /oak/stanford/groups/mrivas/public_data/genomes/hg38/hg38.fa -bed /dev/stdin -bedOut \\\n",
    "| tr \":\" \"\\t\" | awk '$7 != toupper($9) && $8 != toupper($9)' | head\n"
   ]
  },
  {
   "cell_type": "code",
   "execution_count": 25,
   "metadata": {},
   "outputs": [
    {
     "name": "stdout",
     "output_type": "stream",
     "text": [
      "34917faa1aa42af954d7fc7bc510c050  ../../09_liftOver/ukb24983_cal_cALL_v2_1.hg38.bim\n"
     ]
    }
   ],
   "source": [
    "md5sum ../../09_liftOver/ukb24983_cal_cALL_v2_1.hg38.bim"
   ]
  },
  {
   "cell_type": "markdown",
   "metadata": {},
   "source": [
    "# Exome"
   ]
  },
  {
   "cell_type": "markdown",
   "metadata": {},
   "source": [
    "Their variant IDs for SNPs are `<chr>:<pos>:<ref>:<alt>` and the A2 column (6-th column in the bim file) matches with the reference sequence"
   ]
  },
  {
   "cell_type": "code",
   "execution_count": 10,
   "metadata": {},
   "outputs": [
    {
     "name": "stdout",
     "output_type": "stream",
     "text": [
      " 587679 D\n",
      " 261956 I\n"
     ]
    }
   ],
   "source": [
    "cat $OAK/private_data/ukbb/24983/exome/pgen/spb/data/ukb_exm_spb.bim | tr \":\" \"\\t\" | awk '$4 != $9' | cut -f4 | sort | uniq -c"
   ]
  },
  {
   "cell_type": "code",
   "execution_count": 11,
   "metadata": {},
   "outputs": [],
   "source": [
    "cat $OAK/private_data/ukbb/24983/exome/pgen/spb/data/ukb_exm_spb.bim \\\n",
    "| sed -e 's/^23/X/g' | sed -e 's/^24/Y/g' | sed -e 's/^25/XY/g' | sed -e 's/^26/MT/g' | sed -e 's/:/_/g' \\\n",
    "| awk -v OFS='\\t' -v chr=\"chr\" -v sep=\":\" '{print chr $1, $4-1, $4-1+length($6), $2 sep chr $1 sep $4 sep $6 sep $5}' \\\n",
    "| bedtools getfasta -bedOut -fi /oak/stanford/groups/mrivas/public_data/genomes/hg38/hg38.fa -bed /dev/stdin -bedOut \\\n",
    "| tr \":\" \"\\t\" | sed -e 's/_/:/g' \\\n",
    "| awk '$7 != toupper($9)'\n"
   ]
  },
  {
   "cell_type": "code",
   "execution_count": 12,
   "metadata": {},
   "outputs": [
    {
     "name": "stdout",
     "output_type": "stream",
     "text": [
      " 445109 D\n",
      " 319025 I\n"
     ]
    }
   ],
   "source": [
    "cat $OAK/private_data/ukbb/24983/exome/pgen/fe/data/ukb_exm_fe.bim | tr \":\" \"\\t\" | awk '$4 != $9' | cut -f4 | sort | uniq -c"
   ]
  },
  {
   "cell_type": "code",
   "execution_count": 13,
   "metadata": {},
   "outputs": [],
   "source": [
    "cat $OAK/private_data/ukbb/24983/exome/pgen/fe/data/ukb_exm_fe.bim \\\n",
    "| sed -e 's/^23/X/g' | sed -e 's/^24/Y/g' | sed -e 's/^25/XY/g' | sed -e 's/^26/MT/g' | sed -e 's/:/_/g' \\\n",
    "| awk -v OFS='\\t' -v chr=\"chr\" -v sep=\":\" '{print chr $1, $4-1, $4-1+length($6), $2 sep chr $1 sep $4 sep $6 sep $5}' \\\n",
    "| bedtools getfasta -bedOut -fi /oak/stanford/groups/mrivas/public_data/genomes/hg38/hg38.fa -bed /dev/stdin -bedOut \\\n",
    "| tr \":\" \"\\t\" | sed -e 's/_/:/g' \\\n",
    "| awk '$7 != toupper($9)' | head\n"
   ]
  },
  {
   "cell_type": "code",
   "execution_count": null,
   "metadata": {},
   "outputs": [],
   "source": []
  }
 ],
 "metadata": {
  "kernelspec": {
   "display_name": "Bash",
   "language": "bash",
   "name": "bash"
  },
  "language_info": {
   "codemirror_mode": "shell",
   "file_extension": ".sh",
   "mimetype": "text/x-sh",
   "name": "bash"
  }
 },
 "nbformat": 4,
 "nbformat_minor": 2
}
