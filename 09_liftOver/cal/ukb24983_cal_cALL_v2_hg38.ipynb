{
 "cells": [
  {
   "cell_type": "code",
   "execution_count": 1,
   "metadata": {},
   "outputs": [
    {
     "name": "stderr",
     "output_type": "stream",
     "text": [
      "── Attaching packages ─────────────────────────────────────── tidyverse 1.2.1 ──\n",
      "✔ ggplot2 3.1.0       ✔ purrr   0.3.1  \n",
      "✔ tibble  2.0.1       ✔ dplyr   0.8.0.1\n",
      "✔ tidyr   0.8.3       ✔ stringr 1.4.0  \n",
      "✔ readr   1.3.1       ✔ forcats 0.4.0  \n",
      "── Conflicts ────────────────────────────────────────── tidyverse_conflicts() ──\n",
      "✖ dplyr::filter() masks stats::filter()\n",
      "✖ dplyr::lag()    masks stats::lag()\n",
      "\n",
      "Attaching package: ‘data.table’\n",
      "\n",
      "The following objects are masked from ‘package:dplyr’:\n",
      "\n",
      "    between, first, last\n",
      "\n",
      "The following object is masked from ‘package:purrr’:\n",
      "\n",
      "    transpose\n",
      "\n"
     ]
    }
   ],
   "source": [
    "library(tidyverse)\n",
    "library(data.table)\n"
   ]
  },
  {
   "cell_type": "markdown",
   "metadata": {},
   "source": [
    "We first extract variants that are successfully mapped to hg38\n",
    "\n",
    "```\n",
    "zcat ukb24983_cal_cALL_v2_hg19.liftover.hg38.flip.checked.tsv.gz \\\n",
    "| awk -v FS='\\t' '(($1 == $6) && ($4 == toupper($NF) || $5 == toupper($NF))){print $3}'\\\n",
    "| plink2  --threads 4 --memory 30000 \\\n",
    "--pfile /oak/stanford/groups/mrivas/ukbb24983/cal/pgen/ukb24983_cal_cALL_v2_hg19 \\\n",
    "--extract /dev/stdin --sort-vars --out ukb24983_cal_cALL_v2_hg38_tmp --make-pgen\n",
    "```"
   ]
  },
  {
   "cell_type": "code",
   "execution_count": 30,
   "metadata": {},
   "outputs": [],
   "source": [
    "mapping <- fread(\n",
    "    'zcat ukb24983_cal_cALL_v2_hg19.liftover.hg38.flip.checked.tsv.gz | sed -e \"s/#//g\"',\n",
    "    sep='\\t'\n",
    ")"
   ]
  },
  {
   "cell_type": "code",
   "execution_count": 31,
   "metadata": {},
   "outputs": [],
   "source": [
    "pvar_tmp <- fread(\n",
    "    'cat ukb24983_cal_cALL_v2_hg38_tmp.pvar | sed -e \"s/#//g\"', \n",
    "    sep='\\t'\n",
    ")"
   ]
  },
  {
   "cell_type": "code",
   "execution_count": 36,
   "metadata": {},
   "outputs": [],
   "source": [
    "merged <- pvar_tmp %>% \n",
    "mutate(\n",
    "    pvar_order = 1:n()\n",
    ") %>% \n",
    "left_join(\n",
    "    mapping %>% \n",
    "    mutate(FASTA_hg38_REF = toupper(FASTA_hg38_REF)) %>%\n",
    "    select(POS_hg38, ID, FASTA_hg38_REF),\n",
    "    by='ID'\n",
    ") %>%\n",
    "rename(\n",
    "    POS_hg19 = POS,\n",
    "    POS = POS_hg38\n",
    ") %>% \n",
    "arrange(pvar_order) %>%\n",
    "select(-pvar_order) %>%\n",
    "select(CHROM, POS, ID, REF, ALT, FASTA_hg38_REF, POS_hg19)"
   ]
  },
  {
   "cell_type": "code",
   "execution_count": 37,
   "metadata": {},
   "outputs": [
    {
     "data": {
      "text/html": [
       "<table>\n",
       "<thead><tr><th scope=col>CHROM</th><th scope=col>POS</th><th scope=col>ID</th><th scope=col>REF</th><th scope=col>ALT</th><th scope=col>FASTA_hg38_REF</th><th scope=col>POS_hg19</th></tr></thead>\n",
       "<tbody>\n",
       "\t<tr><td>1         </td><td>5426013   </td><td>rs7411401 </td><td>A         </td><td>G         </td><td>A         </td><td>5486073   </td></tr>\n",
       "\t<tr><td>1         </td><td>5430041   </td><td>rs12752025</td><td>T         </td><td>C         </td><td>T         </td><td>5490101   </td></tr>\n",
       "\t<tr><td>1         </td><td>5432923   </td><td>rs28407474</td><td>T         </td><td>C         </td><td>T         </td><td>5492983   </td></tr>\n",
       "\t<tr><td>1         </td><td>5437247   </td><td>rs7367086 </td><td>G         </td><td>T         </td><td>G         </td><td>5497307   </td></tr>\n",
       "\t<tr><td>1         </td><td>5441524   </td><td>rs12563995</td><td>G         </td><td>A         </td><td>G         </td><td>5501584   </td></tr>\n",
       "\t<tr><td>1         </td><td>5447070   </td><td>rs12402981</td><td>T         </td><td>C         </td><td>T         </td><td>5507130   </td></tr>\n",
       "</tbody>\n",
       "</table>\n"
      ],
      "text/latex": [
       "\\begin{tabular}{r|lllllll}\n",
       " CHROM & POS & ID & REF & ALT & FASTA\\_hg38\\_REF & POS\\_hg19\\\\\n",
       "\\hline\n",
       "\t 1          & 5426013    & rs7411401  & A          & G          & A          & 5486073   \\\\\n",
       "\t 1          & 5430041    & rs12752025 & T          & C          & T          & 5490101   \\\\\n",
       "\t 1          & 5432923    & rs28407474 & T          & C          & T          & 5492983   \\\\\n",
       "\t 1          & 5437247    & rs7367086  & G          & T          & G          & 5497307   \\\\\n",
       "\t 1          & 5441524    & rs12563995 & G          & A          & G          & 5501584   \\\\\n",
       "\t 1          & 5447070    & rs12402981 & T          & C          & T          & 5507130   \\\\\n",
       "\\end{tabular}\n"
      ],
      "text/markdown": [
       "\n",
       "| CHROM | POS | ID | REF | ALT | FASTA_hg38_REF | POS_hg19 |\n",
       "|---|---|---|---|---|---|---|\n",
       "| 1          | 5426013    | rs7411401  | A          | G          | A          | 5486073    |\n",
       "| 1          | 5430041    | rs12752025 | T          | C          | T          | 5490101    |\n",
       "| 1          | 5432923    | rs28407474 | T          | C          | T          | 5492983    |\n",
       "| 1          | 5437247    | rs7367086  | G          | T          | G          | 5497307    |\n",
       "| 1          | 5441524    | rs12563995 | G          | A          | G          | 5501584    |\n",
       "| 1          | 5447070    | rs12402981 | T          | C          | T          | 5507130    |\n",
       "\n"
      ],
      "text/plain": [
       "  CHROM POS     ID         REF ALT FASTA_hg38_REF POS_hg19\n",
       "1 1     5426013 rs7411401  A   G   A              5486073 \n",
       "2 1     5430041 rs12752025 T   C   T              5490101 \n",
       "3 1     5432923 rs28407474 T   C   T              5492983 \n",
       "4 1     5437247 rs7367086  G   T   G              5497307 \n",
       "5 1     5441524 rs12563995 G   A   G              5501584 \n",
       "6 1     5447070 rs12402981 T   C   T              5507130 "
      ]
     },
     "metadata": {},
     "output_type": "display_data"
    }
   ],
   "source": [
    "merged %>% head()"
   ]
  },
  {
   "cell_type": "code",
   "execution_count": 41,
   "metadata": {},
   "outputs": [],
   "source": [
    "merged %>% \n",
    "rename(\n",
    "    '#CHROM' = 'CHROM'\n",
    ") %>%\n",
    "fwrite(\n",
    "    'ukb24983_cal_cALL_v2_hg38_tmp.merged.pvar',\n",
    "    sep='\\t'\n",
    ")\n"
   ]
  },
  {
   "cell_type": "markdown",
   "metadata": {},
   "source": [
    "We apply flipfix and generate pgen file.\n",
    "\n",
    "```\n",
    "cat ukb24983_cal_cALL_v2_hg38_tmp.merged.pvar \\\n",
    "| grep -v '#' \\\n",
    "| plink2 --threads 4 --memory 30000 \\\n",
    "--pgen ukb24983_cal_cALL_v2_hg38_tmp.pgen \\\n",
    "--psam ukb24983_cal_cALL_v2_hg38_tmp.psam \\\n",
    "--pvar ukb24983_cal_cALL_v2_hg38_tmp.merged.pvar \\\n",
    "--ref-allele force /dev/stdin 6 3 \\\n",
    "--sort-vars \\\n",
    "--out ukb24983_cal_cALL_v2_hg38 --make-pgen\n",
    "```"
   ]
  },
  {
   "cell_type": "markdown",
   "metadata": {},
   "source": [
    "#### PLINK logs"
   ]
  },
  {
   "cell_type": "code",
   "execution_count": 45,
   "metadata": {},
   "outputs": [
    {
     "name": "stdout",
     "output_type": "stream",
     "text": [
      "PLINK v2.00a2LM AVX2 Intel (26 Aug 2019)\n",
      "Options in effect:\n",
      "  --extract /dev/stdin\n",
      "  --make-pgen\n",
      "  --memory 30000\n",
      "  --out ukb24983_cal_cALL_v2_hg38_tmp\n",
      "  --pfile /oak/stanford/groups/mrivas/ukbb24983/cal/pgen/ukb24983_cal_cALL_v2_hg19\n",
      "  --sort-vars\n",
      "  --threads 4\n",
      "\n",
      "Hostname: sh-109-53.int\n",
      "Working directory: /oak/stanford/groups/mrivas/users/ytanigaw/repos/rivas-lab/ukbb-tools/09_liftOver\n",
      "Start time: Wed Sep 11 03:15:21 2019\n",
      "\n",
      "Random number seed: 1568196921\n",
      "385212 MiB RAM detected; reserving 30000 MiB for main workspace.\n",
      "Using up to 4 compute threads.\n",
      "488377 samples (264861 females, 223509 males, 7 ambiguous; 488377 founders)\n",
      "loaded from\n",
      "/oak/stanford/groups/mrivas/ukbb24983/cal/pgen/ukb24983_cal_cALL_v2_hg19.psam.\n",
      "805426 variants loaded from\n",
      "/oak/stanford/groups/mrivas/ukbb24983/cal/pgen/ukb24983_cal_cALL_v2_hg19.pvar.\n",
      "Note: No phenotype data present.\n",
      "--extract: 800354 variants remaining.\n",
      "800354 variants remaining after main filters.\n",
      "Writing ukb24983_cal_cALL_v2_hg38_tmp.pvar ... done.\n",
      "Writing ukb24983_cal_cALL_v2_hg38_tmp.psam ... done.\n",
      "Writing ukb24983_cal_cALL_v2_hg38_tmp.pgen ... done.\n",
      "\n",
      "End time: Wed Sep 11 03:19:31 2019\n"
     ]
    }
   ],
   "source": [
    "cat(system(\"cat ukb24983_cal_cALL_v2_hg38_tmp.log\", intern=TRUE), sep='\\n')"
   ]
  },
  {
   "cell_type": "code",
   "execution_count": 46,
   "metadata": {},
   "outputs": [
    {
     "name": "stdout",
     "output_type": "stream",
     "text": [
      "PLINK v2.00a2LM AVX2 Intel (26 Aug 2019)\n",
      "Options in effect:\n",
      "  --make-pgen\n",
      "  --memory 30000\n",
      "  --out ukb24983_cal_cALL_v2_hg38\n",
      "  --pgen ukb24983_cal_cALL_v2_hg38_tmp.pgen\n",
      "  --psam ukb24983_cal_cALL_v2_hg38_tmp.psam\n",
      "  --pvar ukb24983_cal_cALL_v2_hg38_tmp.merged.pvar\n",
      "  --ref-allele force /dev/stdin 6 3\n",
      "  --sort-vars\n",
      "  --threads 4\n",
      "\n",
      "Hostname: sh-109-53.int\n",
      "Working directory: /oak/stanford/groups/mrivas/users/ytanigaw/repos/rivas-lab/ukbb-tools/09_liftOver\n",
      "Start time: Wed Sep 11 03:24:38 2019\n",
      "\n",
      "Random number seed: 1568197478\n",
      "385212 MiB RAM detected; reserving 30000 MiB for main workspace.\n",
      "Using up to 4 compute threads.\n",
      "488377 samples (264861 females, 223509 males, 7 ambiguous; 488377 founders)\n",
      "loaded from ukb24983_cal_cALL_v2_hg38_tmp.psam.\n",
      "800354 variants loaded from ukb24983_cal_cALL_v2_hg38_tmp.merged.pvar.\n",
      "Note: No phenotype data present.\n",
      "--ref-allele: 1557 sets of allele codes rotated.\n",
      "Writing ukb24983_cal_cALL_v2_hg38.pvar ... done.\n",
      "Writing ukb24983_cal_cALL_v2_hg38.psam ... done.\n",
      "Writing ukb24983_cal_cALL_v2_hg38.pgen ... done.\n",
      "\n",
      "End time: Wed Sep 11 03:28:54 2019\n"
     ]
    }
   ],
   "source": [
    "cat(system(\"cat ukb24983_cal_cALL_v2_hg38.log\", intern=TRUE), sep='\\n')"
   ]
  },
  {
   "cell_type": "code",
   "execution_count": null,
   "metadata": {},
   "outputs": [],
   "source": []
  }
 ],
 "metadata": {
  "kernelspec": {
   "display_name": "R 3.5 (module)",
   "language": "R",
   "name": "ir35ml"
  },
  "language_info": {
   "codemirror_mode": "r",
   "file_extension": ".r",
   "mimetype": "text/x-r-source",
   "name": "R",
   "pygments_lexer": "r",
   "version": "3.5.1"
  }
 },
 "nbformat": 4,
 "nbformat_minor": 2
}
