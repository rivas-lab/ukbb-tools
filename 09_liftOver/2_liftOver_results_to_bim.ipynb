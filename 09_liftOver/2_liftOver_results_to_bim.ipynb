{
 "cells": [
  {
   "cell_type": "code",
   "execution_count": 1,
   "metadata": {},
   "outputs": [
    {
     "name": "stderr",
     "output_type": "stream",
     "text": [
      "── Attaching packages ─────────────────────────────────────── tidyverse 1.2.1 ──\n",
      "✔ ggplot2 3.1.0       ✔ purrr   0.3.1  \n",
      "✔ tibble  2.0.1       ✔ dplyr   0.8.0.1\n",
      "✔ tidyr   0.8.3       ✔ stringr 1.4.0  \n",
      "✔ readr   1.3.1       ✔ forcats 0.4.0  \n",
      "── Conflicts ────────────────────────────────────────── tidyverse_conflicts() ──\n",
      "✖ dplyr::filter() masks stats::filter()\n",
      "✖ dplyr::lag()    masks stats::lag()\n",
      "\n",
      "Attaching package: ‘data.table’\n",
      "\n",
      "The following objects are masked from ‘package:dplyr’:\n",
      "\n",
      "    between, first, last\n",
      "\n",
      "The following object is masked from ‘package:purrr’:\n",
      "\n",
      "    transpose\n",
      "\n"
     ]
    }
   ],
   "source": [
    "library(tidyverse)\n",
    "library(data.table)"
   ]
  },
  {
   "cell_type": "code",
   "execution_count": 28,
   "metadata": {},
   "outputs": [],
   "source": [
    "liftOver_df <- fread(\n",
    "    'ukb24983_cal_cALL_v2_1.hg38.bed', sep='\\t'\n",
    ")\n",
    "colnames(liftOver_df) <- c('CHROM', 'POS_S', 'POS_E', 'BED_ID')"
   ]
  },
  {
   "cell_type": "code",
   "execution_count": 29,
   "metadata": {},
   "outputs": [],
   "source": [
    "bim37_df <- fread(\n",
    "    '/oak/stanford/groups/mrivas/private_data/ukbb/24983/cal/pgen/ukb24983_cal_cALL_v2_1.bim',\n",
    "    sep='\\t'   \n",
    ")\n",
    "colnames(bim37_df)<-c('CHROM', 'ID', 'CM', 'hg37_POS', 'hg37_A1', 'hg37_A2')"
   ]
  },
  {
   "cell_type": "code",
   "execution_count": 30,
   "metadata": {},
   "outputs": [],
   "source": [
    "bim38_df <- bim37_df %>% \n",
    "mutate(\n",
    "    BED_ID = paste0(ID, ':', 'chr', CHROM, ':', hg37_POS, ':', hg37_A1, ':', hg37_A2)\n",
    ") %>%\n",
    "left_join(\n",
    "    liftOver_df %>% \n",
    "    mutate(hg38_POS = POS_S + 1) %>% \n",
    "    select(BED_ID, hg38_POS),\n",
    "    by='BED_ID'\n",
    ") %>%\n",
    "select(\n",
    "    CHROM, ID, CM, hg38_POS, hg37_A1, hg37_A2\n",
    ")"
   ]
  },
  {
   "cell_type": "code",
   "execution_count": 31,
   "metadata": {},
   "outputs": [
    {
     "data": {
      "text/html": [
       "<table>\n",
       "<thead><tr><th scope=col>CHROM</th><th scope=col>ID</th><th scope=col>CM</th><th scope=col>hg38_POS</th><th scope=col>hg37_A1</th><th scope=col>hg37_A2</th></tr></thead>\n",
       "<tbody>\n",
       "\t<tr><td>1          </td><td>rs28659788 </td><td>0          </td><td>787927     </td><td>G          </td><td>C          </td></tr>\n",
       "\t<tr><td>1          </td><td>rs116587930</td><td>0          </td><td>792461     </td><td>A          </td><td>G          </td></tr>\n",
       "\t<tr><td>1          </td><td>rs116720794</td><td>0          </td><td>794252     </td><td>T          </td><td>C          </td></tr>\n",
       "\t<tr><td>1          </td><td>rs3131972  </td><td>0          </td><td>817341     </td><td>G          </td><td>A          </td></tr>\n",
       "\t<tr><td>1          </td><td>rs12184325 </td><td>0          </td><td>818725     </td><td>T          </td><td>C          </td></tr>\n",
       "\t<tr><td>1          </td><td>rs3131962  </td><td>0          </td><td>821224     </td><td>G          </td><td>A          </td></tr>\n",
       "</tbody>\n",
       "</table>\n"
      ],
      "text/latex": [
       "\\begin{tabular}{r|llllll}\n",
       " CHROM & ID & CM & hg38\\_POS & hg37\\_A1 & hg37\\_A2\\\\\n",
       "\\hline\n",
       "\t 1           & rs28659788  & 0           & 787927      & G           & C          \\\\\n",
       "\t 1           & rs116587930 & 0           & 792461      & A           & G          \\\\\n",
       "\t 1           & rs116720794 & 0           & 794252      & T           & C          \\\\\n",
       "\t 1           & rs3131972   & 0           & 817341      & G           & A          \\\\\n",
       "\t 1           & rs12184325  & 0           & 818725      & T           & C          \\\\\n",
       "\t 1           & rs3131962   & 0           & 821224      & G           & A          \\\\\n",
       "\\end{tabular}\n"
      ],
      "text/markdown": [
       "\n",
       "| CHROM | ID | CM | hg38_POS | hg37_A1 | hg37_A2 |\n",
       "|---|---|---|---|---|---|\n",
       "| 1           | rs28659788  | 0           | 787927      | G           | C           |\n",
       "| 1           | rs116587930 | 0           | 792461      | A           | G           |\n",
       "| 1           | rs116720794 | 0           | 794252      | T           | C           |\n",
       "| 1           | rs3131972   | 0           | 817341      | G           | A           |\n",
       "| 1           | rs12184325  | 0           | 818725      | T           | C           |\n",
       "| 1           | rs3131962   | 0           | 821224      | G           | A           |\n",
       "\n"
      ],
      "text/plain": [
       "  CHROM ID          CM hg38_POS hg37_A1 hg37_A2\n",
       "1 1     rs28659788  0  787927   G       C      \n",
       "2 1     rs116587930 0  792461   A       G      \n",
       "3 1     rs116720794 0  794252   T       C      \n",
       "4 1     rs3131972   0  817341   G       A      \n",
       "5 1     rs12184325  0  818725   T       C      \n",
       "6 1     rs3131962   0  821224   G       A      "
      ]
     },
     "metadata": {},
     "output_type": "display_data"
    }
   ],
   "source": [
    "bim38_df %>% head()"
   ]
  },
  {
   "cell_type": "code",
   "execution_count": 32,
   "metadata": {},
   "outputs": [
    {
     "data": {
      "text/html": [
       "<ol class=list-inline>\n",
       "\t<li>293</li>\n",
       "\t<li>6</li>\n",
       "</ol>\n"
      ],
      "text/latex": [
       "\\begin{enumerate*}\n",
       "\\item 293\n",
       "\\item 6\n",
       "\\end{enumerate*}\n"
      ],
      "text/markdown": [
       "1. 293\n",
       "2. 6\n",
       "\n",
       "\n"
      ],
      "text/plain": [
       "[1] 293   6"
      ]
     },
     "metadata": {},
     "output_type": "display_data"
    }
   ],
   "source": [
    "bim38_df %>% filter(\n",
    "    is.na(hg38_POS)\n",
    ") %>% dim()"
   ]
  },
  {
   "cell_type": "code",
   "execution_count": 33,
   "metadata": {},
   "outputs": [
    {
     "data": {
      "text/html": [
       "<table>\n",
       "<thead><tr><th scope=col>CHROM</th><th scope=col>ID</th><th scope=col>CM</th><th scope=col>hg38_POS</th><th scope=col>hg37_A1</th><th scope=col>hg37_A2</th></tr></thead>\n",
       "<tbody>\n",
       "\t<tr><td>1        </td><td>rs4648756</td><td>0        </td><td>NA       </td><td>C        </td><td>G        </td></tr>\n",
       "\t<tr><td>1        </td><td>rs3936009</td><td>0        </td><td>NA       </td><td>T        </td><td>G        </td></tr>\n",
       "\t<tr><td>1        </td><td>rs6541019</td><td>0        </td><td>NA       </td><td>G        </td><td>A        </td></tr>\n",
       "\t<tr><td>1        </td><td>rs7543599</td><td>0        </td><td>NA       </td><td>T        </td><td>C        </td></tr>\n",
       "\t<tr><td>1        </td><td>rs6541027</td><td>0        </td><td>NA       </td><td>T        </td><td>C        </td></tr>\n",
       "\t<tr><td>1        </td><td>rs3010948</td><td>0        </td><td>NA       </td><td>T        </td><td>C        </td></tr>\n",
       "</tbody>\n",
       "</table>\n"
      ],
      "text/latex": [
       "\\begin{tabular}{r|llllll}\n",
       " CHROM & ID & CM & hg38\\_POS & hg37\\_A1 & hg37\\_A2\\\\\n",
       "\\hline\n",
       "\t 1         & rs4648756 & 0         & NA        & C         & G        \\\\\n",
       "\t 1         & rs3936009 & 0         & NA        & T         & G        \\\\\n",
       "\t 1         & rs6541019 & 0         & NA        & G         & A        \\\\\n",
       "\t 1         & rs7543599 & 0         & NA        & T         & C        \\\\\n",
       "\t 1         & rs6541027 & 0         & NA        & T         & C        \\\\\n",
       "\t 1         & rs3010948 & 0         & NA        & T         & C        \\\\\n",
       "\\end{tabular}\n"
      ],
      "text/markdown": [
       "\n",
       "| CHROM | ID | CM | hg38_POS | hg37_A1 | hg37_A2 |\n",
       "|---|---|---|---|---|---|\n",
       "| 1         | rs4648756 | 0         | NA        | C         | G         |\n",
       "| 1         | rs3936009 | 0         | NA        | T         | G         |\n",
       "| 1         | rs6541019 | 0         | NA        | G         | A         |\n",
       "| 1         | rs7543599 | 0         | NA        | T         | C         |\n",
       "| 1         | rs6541027 | 0         | NA        | T         | C         |\n",
       "| 1         | rs3010948 | 0         | NA        | T         | C         |\n",
       "\n"
      ],
      "text/plain": [
       "  CHROM ID        CM hg38_POS hg37_A1 hg37_A2\n",
       "1 1     rs4648756 0  NA       C       G      \n",
       "2 1     rs3936009 0  NA       T       G      \n",
       "3 1     rs6541019 0  NA       G       A      \n",
       "4 1     rs7543599 0  NA       T       C      \n",
       "5 1     rs6541027 0  NA       T       C      \n",
       "6 1     rs3010948 0  NA       T       C      "
      ]
     },
     "metadata": {},
     "output_type": "display_data"
    }
   ],
   "source": [
    "bim38_df %>% filter(\n",
    "    is.na(hg38_POS)\n",
    ") %>% head()"
   ]
  },
  {
   "cell_type": "code",
   "execution_count": 34,
   "metadata": {},
   "outputs": [
    {
     "data": {
      "text/html": [
       "<table>\n",
       "<thead><tr><th scope=col>CHROM</th><th scope=col>ID</th><th scope=col>CM</th><th scope=col>hg38_POS</th><th scope=col>hg37_A1</th><th scope=col>hg37_A2</th></tr></thead>\n",
       "<tbody>\n",
       "\t<tr><td>1        </td><td>rs4648756</td><td>0        </td><td>0        </td><td>C        </td><td>G        </td></tr>\n",
       "\t<tr><td>1        </td><td>rs3936009</td><td>0        </td><td>0        </td><td>T        </td><td>G        </td></tr>\n",
       "\t<tr><td>1        </td><td>rs6541019</td><td>0        </td><td>0        </td><td>G        </td><td>A        </td></tr>\n",
       "\t<tr><td>1        </td><td>rs7543599</td><td>0        </td><td>0        </td><td>T        </td><td>C        </td></tr>\n",
       "\t<tr><td>1        </td><td>rs6541027</td><td>0        </td><td>0        </td><td>T        </td><td>C        </td></tr>\n",
       "\t<tr><td>1        </td><td>rs3010948</td><td>0        </td><td>0        </td><td>T        </td><td>C        </td></tr>\n",
       "</tbody>\n",
       "</table>\n"
      ],
      "text/latex": [
       "\\begin{tabular}{r|llllll}\n",
       " CHROM & ID & CM & hg38\\_POS & hg37\\_A1 & hg37\\_A2\\\\\n",
       "\\hline\n",
       "\t 1         & rs4648756 & 0         & 0         & C         & G        \\\\\n",
       "\t 1         & rs3936009 & 0         & 0         & T         & G        \\\\\n",
       "\t 1         & rs6541019 & 0         & 0         & G         & A        \\\\\n",
       "\t 1         & rs7543599 & 0         & 0         & T         & C        \\\\\n",
       "\t 1         & rs6541027 & 0         & 0         & T         & C        \\\\\n",
       "\t 1         & rs3010948 & 0         & 0         & T         & C        \\\\\n",
       "\\end{tabular}\n"
      ],
      "text/markdown": [
       "\n",
       "| CHROM | ID | CM | hg38_POS | hg37_A1 | hg37_A2 |\n",
       "|---|---|---|---|---|---|\n",
       "| 1         | rs4648756 | 0         | 0         | C         | G         |\n",
       "| 1         | rs3936009 | 0         | 0         | T         | G         |\n",
       "| 1         | rs6541019 | 0         | 0         | G         | A         |\n",
       "| 1         | rs7543599 | 0         | 0         | T         | C         |\n",
       "| 1         | rs6541027 | 0         | 0         | T         | C         |\n",
       "| 1         | rs3010948 | 0         | 0         | T         | C         |\n",
       "\n"
      ],
      "text/plain": [
       "  CHROM ID        CM hg38_POS hg37_A1 hg37_A2\n",
       "1 1     rs4648756 0  0        C       G      \n",
       "2 1     rs3936009 0  0        T       G      \n",
       "3 1     rs6541019 0  0        G       A      \n",
       "4 1     rs7543599 0  0        T       C      \n",
       "5 1     rs6541027 0  0        T       C      \n",
       "6 1     rs3010948 0  0        T       C      "
      ]
     },
     "metadata": {},
     "output_type": "display_data"
    }
   ],
   "source": [
    "bim38_df %>% filter(\n",
    "    is.na(hg38_POS)\n",
    ") %>% \n",
    "replace_na(list(hg38_POS = 0)) %>% head()"
   ]
  },
  {
   "cell_type": "code",
   "execution_count": 36,
   "metadata": {},
   "outputs": [],
   "source": [
    "bim38_df %>% \n",
    "replace_na(list(hg38_POS = 0)) %>% \n",
    "fwrite(\n",
    "    'ukb24983_cal_cALL_v2_1.hg38.bim', sep='\\t', row.names=F, col.names=F\n",
    ")"
   ]
  },
  {
   "cell_type": "code",
   "execution_count": null,
   "metadata": {},
   "outputs": [],
   "source": []
  }
 ],
 "metadata": {
  "kernelspec": {
   "display_name": "R 3.5 (module)",
   "language": "R",
   "name": "ir35ml"
  },
  "language_info": {
   "codemirror_mode": "r",
   "file_extension": ".r",
   "mimetype": "text/x-r-source",
   "name": "R",
   "pygments_lexer": "r",
   "version": "3.5.1"
  }
 },
 "nbformat": 4,
 "nbformat_minor": 2
}
